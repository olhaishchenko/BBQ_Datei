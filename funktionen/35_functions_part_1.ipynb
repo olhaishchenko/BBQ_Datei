{
 "cells": [
  {
   "cell_type": "markdown",
   "metadata": {
    "lang": "en"
   },
   "source": [
    "# Function (part 1)\n",
    "\n",
    "- Functions that we have seen so far: ``type()``, ``print()``, ``len()``, ``input()``\n",
    " ...\n",
    "- A function is a piece of 'code', or a small program that can be called **again and again** in order to perform similar tasks"
   ]
  },
  {
   "cell_type": "markdown",
   "metadata": {
    "lang": "en"
   },
   "source": [
    "**Intro**\n",
    "\n",
    "Write a program that reads two numbers in the input and adds them together (calculates the sum and returns it):"
   ]
  },
  {
   "cell_type": "code",
   "execution_count": 1,
   "metadata": {},
   "outputs": [
    {
     "name": "stdout",
     "output_type": "stream",
     "text": [
      "7\n"
     ]
    }
   ],
   "source": [
    "# read two numbers in input\n",
    "m = int(input('Enter a number: '))\n",
    "n = int(input('Enter another number: '))\n",
    "\n",
    "# calculate the sum\n",
    "s = sum((m,n)) # s = m + n\n",
    "\n",
    "# return output\n",
    "print(s)"
   ]
  },
  {
   "cell_type": "markdown",
   "metadata": {
    "lang": "en"
   },
   "source": [
    "If we need this program again and again, we can convert it into a **callable** object called a **function**.\n",
    "\n",
    "**Define a function**"
   ]
  },
  {
   "cell_type": "code",
   "execution_count": 18,
   "metadata": {},
   "outputs": [],
   "source": [
    "# define a fuction 'mysum'\n",
    "# with parameters 'x' and 'y'\n",
    "def mysum(x,y):\n",
    "    # return the sum of x and y\n",
    "    return x+y"
   ]
  },
  {
   "cell_type": "markdown",
   "metadata": {
    "lang": "en"
   },
   "source": [
    "After we have defined a function, we can **call it again and again**:"
   ]
  },
  {
   "cell_type": "code",
   "execution_count": 3,
   "metadata": {},
   "outputs": [
    {
     "data": {
      "text/plain": [
       "19"
      ]
     },
     "execution_count": 3,
     "metadata": {},
     "output_type": "execute_result"
    }
   ],
   "source": [
    "# call a function\n",
    "# using two arguments 9 and 10\n",
    "mysum(9, 10)"
   ]
  },
  {
   "cell_type": "code",
   "execution_count": 4,
   "metadata": {},
   "outputs": [
    {
     "data": {
      "text/plain": [
       "8"
      ]
     },
     "execution_count": 4,
     "metadata": {},
     "output_type": "execute_result"
    }
   ],
   "source": [
    "# call it again\n",
    "# for 3 and 5\n",
    "mysum(3,5)"
   ]
  },
  {
   "cell_type": "markdown",
   "metadata": {
    "lang": "en"
   },
   "source": [
    "We have saved some elements in the following list:"
   ]
  },
  {
   "cell_type": "code",
   "execution_count": 69,
   "metadata": {},
   "outputs": [],
   "source": [
    "radii = [1.5, -2.55, True, 11, 3.5, 'one', 4, 3j + 4, 2.0]"
   ]
  },
  {
   "cell_type": "markdown",
   "metadata": {
    "lang": "en"
   },
   "source": [
    "And we want to calculate the following for positive numbers (float and int):\n",
    "\n",
    "``area = 3.14 *r*r`` \n",
    "\n",
    "``r`` stands for any number in the list that can meet our requirement."
   ]
  },
  {
   "cell_type": "code",
   "execution_count": 13,
   "metadata": {},
   "outputs": [],
   "source": [
    "def area(x):\n",
    "    if type(x) in (int, float) and x >= 0:\n",
    "        # return 3.14 * x * x\n",
    "        y = 3.14 * x * x\n",
    "        return y\n",
    "    # else:\n",
    "    #    return None\n",
    "    # None will be returned automatically"
   ]
  },
  {
   "cell_type": "markdown",
   "metadata": {
    "lang": "en"
   },
   "source": [
    "Now apply / call the function on each element from the list:"
   ]
  },
  {
   "cell_type": "code",
   "execution_count": 14,
   "metadata": {},
   "outputs": [
    {
     "name": "stdout",
     "output_type": "stream",
     "text": [
      "1.5: 7.0649999999999995\n",
      "-2.55: None\n",
      "True: None\n",
      "11: 379.94\n",
      "3.5: 38.465\n",
      "one: None\n",
      "4: 50.24\n",
      "(4+3j): None\n",
      "2.0: 12.56\n"
     ]
    }
   ],
   "source": [
    "radii = [1.5, -2.55, True, 11, 3.5, 'one', 4, 3j + 4, 2.0]\n",
    "for r in radii:\n",
    "    # print(area(r))\n",
    "    print(r, area(r), sep=': ')"
   ]
  },
  {
   "cell_type": "markdown",
   "metadata": {
    "lang": "en"
   },
   "source": [
    "As you can see, for elements that cannot meet the requirement, the function simply does not return anything or just returns ``None`` (nothing)"
   ]
  },
  {
   "cell_type": "markdown",
   "metadata": {
    "lang": "en"
   },
   "source": [
    "One can understand a function in a similar way to a coffee machine:\n",
    "- Ingredients: water, coffee beans (parameters, arguments)\n",
    "- Call: press the right button"
   ]
  },
  {
   "cell_type": "markdown",
   "metadata": {
    "lang": "en"
   },
   "source": [
    "**Examples**"
   ]
  },
  {
   "cell_type": "markdown",
   "metadata": {
    "lang": "en"
   },
   "source": [
    "Define a function that takes any number as an argument and checks whether this is a positive number or not and displays the result as a string:\n",
    "\n",
    "```python\n",
    ">>>myfunc(-200)\n",
    "'-200 is a negative number'\n",
    "```"
   ]
  },
  {
   "cell_type": "code",
   "execution_count": 73,
   "metadata": {},
   "outputs": [
    {
     "name": "stdout",
     "output_type": "stream",
     "text": [
      "-200 is negative.\n"
     ]
    }
   ],
   "source": [
    "x = -200\n",
    "\n",
    "if x > 0:\n",
    "    print(f'{x} is positive.')\n",
    "elif x == 0:\n",
    "    print(f'{x} is zero!')\n",
    "else:\n",
    "    print(f'{x} is negative.')\n",
    "    "
   ]
  },
  {
   "cell_type": "code",
   "execution_count": 7,
   "metadata": {},
   "outputs": [],
   "source": [
    "def myfunc(x):\n",
    "    if x > 0:\n",
    "        return f'{x} is positive.'\n",
    "    elif x == 0:\n",
    "        return f'{x} is zero!'\n",
    "    else:\n",
    "        return f'{x} is negative.'"
   ]
  },
  {
   "cell_type": "code",
   "execution_count": 15,
   "metadata": {},
   "outputs": [
    {
     "name": "stdout",
     "output_type": "stream",
     "text": [
      "-200 is negative.\n"
     ]
    }
   ],
   "source": [
    "print(myfunc(-200))"
   ]
  },
  {
   "cell_type": "code",
   "execution_count": 16,
   "metadata": {},
   "outputs": [
    {
     "name": "stdout",
     "output_type": "stream",
     "text": [
      "1.23 is positive.\n"
     ]
    }
   ],
   "source": [
    "print(myfunc(1.23))"
   ]
  },
  {
   "cell_type": "code",
   "execution_count": 17,
   "metadata": {},
   "outputs": [
    {
     "name": "stdout",
     "output_type": "stream",
     "text": [
      "0.0 is zero!\n"
     ]
    }
   ],
   "source": [
    "print(myfunc(1-1.0))"
   ]
  },
  {
   "cell_type": "markdown",
   "metadata": {
    "lang": "en"
   },
   "source": [
    "We can call all functions that we have defined so far in this program (Scope) on variables (here too):"
   ]
  },
  {
   "cell_type": "code",
   "execution_count": 19,
   "metadata": {},
   "outputs": [],
   "source": [
    "# arbitrary variables\n",
    "var_1 = 100\n",
    "var_2 = -5"
   ]
  },
  {
   "cell_type": "code",
   "execution_count": 20,
   "metadata": {},
   "outputs": [
    {
     "data": {
      "text/plain": [
       "95"
      ]
     },
     "execution_count": 20,
     "metadata": {},
     "output_type": "execute_result"
    }
   ],
   "source": [
    "mysum(var_1, var_2)"
   ]
  },
  {
   "cell_type": "code",
   "execution_count": 21,
   "metadata": {},
   "outputs": [
    {
     "data": {
      "text/plain": [
       "31400.0"
      ]
     },
     "execution_count": 21,
     "metadata": {},
     "output_type": "execute_result"
    }
   ],
   "source": [
    "area(var_1)"
   ]
  },
  {
   "cell_type": "code",
   "execution_count": 22,
   "metadata": {},
   "outputs": [
    {
     "data": {
      "text/plain": [
       "'-5 is negative.'"
      ]
     },
     "execution_count": 22,
     "metadata": {},
     "output_type": "execute_result"
    }
   ],
   "source": [
    "myfunc(var_2)"
   ]
  },
  {
   "cell_type": "markdown",
   "metadata": {
    "lang": "en"
   },
   "source": [
    "**Exercise**  \n",
    "Define a function that calculates and returns the average of any 3 numbers:"
   ]
  },
  {
   "cell_type": "code",
   "execution_count": 23,
   "metadata": {},
   "outputs": [],
   "source": [
    "# Average: the sum divided by the number of digits\n",
    "def avg(x,y,z):\n",
    "    return (x + y + z)/3"
   ]
  },
  {
   "cell_type": "code",
   "execution_count": 24,
   "metadata": {},
   "outputs": [
    {
     "data": {
      "text/plain": [
       "4.333333333333333"
      ]
     },
     "execution_count": 24,
     "metadata": {},
     "output_type": "execute_result"
    }
   ],
   "source": [
    "avg(3,4,6)"
   ]
  },
  {
   "cell_type": "markdown",
   "metadata": {
    "lang": "en"
   },
   "source": [
    "**Exercise (2)**  \n",
    "Define a function that takes a list of numbers as an argument and returns the average of its elements.\n",
    "\n",
    "We take a small list as an example:"
   ]
  },
  {
   "cell_type": "code",
   "execution_count": 25,
   "metadata": {},
   "outputs": [
    {
     "data": {
      "text/plain": [
       "32.0"
      ]
     },
     "execution_count": 25,
     "metadata": {},
     "output_type": "execute_result"
    }
   ],
   "source": [
    "mylist = [11,20,32,46,51]\n",
    "avg = sum(mylist)/len(mylist)\n",
    "avg"
   ]
  },
  {
   "cell_type": "markdown",
   "metadata": {
    "lang": "en"
   },
   "source": [
    "Theoretically, any other list of numbers can be used instead of ``mylist``. I.e. we can define a function that accepts any list of numbers:"
   ]
  },
  {
   "cell_type": "code",
   "execution_count": 26,
   "metadata": {},
   "outputs": [
    {
     "name": "stdout",
     "output_type": "stream",
     "text": [
      "Function defined sucessfully!\n"
     ]
    }
   ],
   "source": [
    "def listavg(x_l):\n",
    "    return sum(x_l)/len(x_l)\n",
    "\n",
    "print('Function defined sucessfully!')"
   ]
  },
  {
   "cell_type": "code",
   "execution_count": 27,
   "metadata": {},
   "outputs": [
    {
     "data": {
      "text/plain": [
       "32.0"
      ]
     },
     "execution_count": 27,
     "metadata": {},
     "output_type": "execute_result"
    }
   ],
   "source": [
    "listavg(mylist)"
   ]
  },
  {
   "cell_type": "code",
   "execution_count": 31,
   "metadata": {},
   "outputs": [
    {
     "name": "stdout",
     "output_type": "stream",
     "text": [
      "<class 'tuple'>: ([11, 20, 32, 46, 51],)\n",
      "<class 'tuple'>: (11, 20, 32, 46, 51)\n",
      "<class 'tuple'>: (11, 20, 32, 46, 51)\n"
     ]
    }
   ],
   "source": [
    "def mittelwert_einzelner_werte(*werte):\n",
    "    print(type(werte), werte, sep=\": \")\n",
    "\n",
    "mittelwert_einzelner_werte(mylist)\n",
    "\n",
    "mittelwert_einzelner_werte(11,20,32,46,51)\n",
    "\n",
    "mittelwert_einzelner_werte(*mylist)"
   ]
  },
  {
   "cell_type": "code",
   "execution_count": 87,
   "metadata": {},
   "outputs": [
    {
     "data": {
      "text/plain": [
       "200.0"
      ]
     },
     "execution_count": 87,
     "metadata": {},
     "output_type": "execute_result"
    }
   ],
   "source": [
    "yourlist = [100, 200, 300]\n",
    "listavg(yourlist)"
   ]
  },
  {
   "cell_type": "markdown",
   "metadata": {
    "lang": "en"
   },
   "source": [
    "**Exercise (3)**  \n",
    "\n",
    "Define a function that accepts a string and a character as parameters and returns the frequency of the character in string:\n",
    "\n",
    "```python\n",
    ">>> freq('Hello', 'e')\n",
    ">>> \"'e' found: 1\"\n",
    "```"
   ]
  },
  {
   "cell_type": "markdown",
   "metadata": {
    "lang": "en"
   },
   "source": [
    "We try to solve the problem with a simple example and without a function:"
   ]
  },
  {
   "cell_type": "code",
   "execution_count": 33,
   "metadata": {},
   "outputs": [
    {
     "data": {
      "text/plain": [
       "2"
      ]
     },
     "execution_count": 33,
     "metadata": {},
     "output_type": "execute_result"
    }
   ],
   "source": [
    "s = 'Hello'\n",
    "b = 'l'\n",
    "# Frequncy of 'l' in 'Hello'\n",
    "s.count(b)"
   ]
  },
  {
   "cell_type": "code",
   "execution_count": 36,
   "metadata": {},
   "outputs": [],
   "source": [
    "def freq(s,b):\n",
    "    return f\"'{b}' found: {s.count(b)}\""
   ]
  },
  {
   "cell_type": "code",
   "execution_count": 37,
   "metadata": {},
   "outputs": [
    {
     "data": {
      "text/plain": [
       "\"'l' found: 2\""
      ]
     },
     "execution_count": 37,
     "metadata": {},
     "output_type": "execute_result"
    }
   ],
   "source": [
    "freq('Hello', 'l')"
   ]
  },
  {
   "cell_type": "code",
   "execution_count": 38,
   "metadata": {},
   "outputs": [
    {
     "name": "stdout",
     "output_type": "stream",
     "text": [
      "'o' found: 2\n"
     ]
    }
   ],
   "source": [
    "print(freq('I love mondays and the high heels!', 'o'))"
   ]
  },
  {
   "cell_type": "markdown",
   "metadata": {
    "lang": "en"
   },
   "source": [
    "**Exercise (4)**\n",
    "\n",
    "Define a function CofeeMachine to give him Cofee and Water and push the button to get Coffee brewed:"
   ]
  },
  {
   "cell_type": "code",
   "execution_count": 39,
   "metadata": {},
   "outputs": [],
   "source": [
    "# define (or start) a function\n",
    "def Cofeemachine(x,y):\n",
    "    return 'Cofee brewed!'"
   ]
  },
  {
   "cell_type": "code",
   "execution_count": 41,
   "metadata": {},
   "outputs": [
    {
     "data": {
      "text/plain": [
       "'Cofee brewed!'"
      ]
     },
     "execution_count": 41,
     "metadata": {},
     "output_type": "execute_result"
    }
   ],
   "source": [
    "# call the function\n",
    "Cofeemachine('Water', 'Cofee')"
   ]
  },
  {
   "cell_type": "markdown",
   "metadata": {
    "lang": "en"
   },
   "source": [
    "But ... what if:"
   ]
  },
  {
   "cell_type": "code",
   "execution_count": 42,
   "metadata": {},
   "outputs": [
    {
     "data": {
      "text/plain": [
       "'Cofee brewed!'"
      ]
     },
     "execution_count": 42,
     "metadata": {},
     "output_type": "execute_result"
    }
   ],
   "source": [
    "Cofeemachine(2, 67)"
   ]
  },
  {
   "cell_type": "markdown",
   "metadata": {
    "lang": "en"
   },
   "source": [
    "This function always returns the same value, regardless of arguments!"
   ]
  },
  {
   "cell_type": "markdown",
   "metadata": {
    "lang": "en"
   },
   "source": [
    "**Exercise (5)**\n",
    "\n",
    "Define a function that returns ``nothing`` regardless of arguments:"
   ]
  },
  {
   "cell_type": "code",
   "execution_count": 43,
   "metadata": {},
   "outputs": [],
   "source": [
    "def foo(x):\n",
    "    return None"
   ]
  },
  {
   "cell_type": "code",
   "execution_count": 44,
   "metadata": {},
   "outputs": [
    {
     "name": "stdout",
     "output_type": "stream",
     "text": [
      "None\n"
     ]
    }
   ],
   "source": [
    "print(foo(999))"
   ]
  },
  {
   "cell_type": "markdown",
   "metadata": {
    "lang": "en"
   },
   "source": [
    "Alternative:"
   ]
  },
  {
   "cell_type": "code",
   "execution_count": 45,
   "metadata": {},
   "outputs": [],
   "source": [
    "def foo(x):\n",
    "    return"
   ]
  },
  {
   "cell_type": "code",
   "execution_count": 101,
   "metadata": {},
   "outputs": [
    {
     "name": "stdout",
     "output_type": "stream",
     "text": [
      "None\n"
     ]
    }
   ],
   "source": [
    "print(foo(99))"
   ]
  },
  {
   "cell_type": "markdown",
   "metadata": {},
   "source": [
    "Alternative:"
   ]
  },
  {
   "cell_type": "code",
   "execution_count": 47,
   "metadata": {},
   "outputs": [],
   "source": [
    "def foo(x):\n",
    "    pass"
   ]
  },
  {
   "cell_type": "code",
   "execution_count": 48,
   "metadata": {},
   "outputs": [
    {
     "name": "stdout",
     "output_type": "stream",
     "text": [
      "None\n"
     ]
    }
   ],
   "source": [
    "print(foo(88888525841))"
   ]
  },
  {
   "cell_type": "markdown",
   "metadata": {
    "lang": "en"
   },
   "source": [
    "Many functions do not have a return value. For example ``sort()``, sorts a list, but does not return a return value itself:"
   ]
  },
  {
   "cell_type": "code",
   "execution_count": 50,
   "metadata": {},
   "outputs": [
    {
     "name": "stdout",
     "output_type": "stream",
     "text": [
      "None\n"
     ]
    }
   ],
   "source": [
    "mylist = [200, 100, 30, 900, 2]\n",
    "print(mylist.sort())\n"
   ]
  },
  {
   "cell_type": "code",
   "execution_count": 51,
   "metadata": {},
   "outputs": [
    {
     "data": {
      "text/plain": [
       "[2, 30, 100, 200, 900]"
      ]
     },
     "execution_count": 51,
     "metadata": {},
     "output_type": "execute_result"
    }
   ],
   "source": [
    "mylist"
   ]
  },
  {
   "cell_type": "markdown",
   "metadata": {
    "lang": "en"
   },
   "source": [
    "On the contrary, the ``sorted()`` function returns a value:"
   ]
  },
  {
   "cell_type": "code",
   "execution_count": 52,
   "metadata": {},
   "outputs": [
    {
     "name": "stdout",
     "output_type": "stream",
     "text": [
      "[2, 30, 100, 200, 900]\n"
     ]
    }
   ],
   "source": [
    "mylist = [200, 100, 30, 900, 2]\n",
    "print(sorted(mylist))"
   ]
  },
  {
   "cell_type": "code",
   "execution_count": 53,
   "metadata": {},
   "outputs": [
    {
     "data": {
      "text/plain": [
       "[200, 100, 30, 900, 2]"
      ]
     },
     "execution_count": 53,
     "metadata": {},
     "output_type": "execute_result"
    }
   ],
   "source": [
    "mylist # oroginal unchanged!"
   ]
  },
  {
   "cell_type": "markdown",
   "metadata": {
    "lang": "en"
   },
   "source": [
    "Many string methods return a return value, but do not change the original object (because strings cannot be changed):"
   ]
  },
  {
   "cell_type": "code",
   "execution_count": 56,
   "metadata": {},
   "outputs": [
    {
     "name": "stdout",
     "output_type": "stream",
     "text": [
      "['python']\n",
      "python\n"
     ]
    }
   ],
   "source": [
    "word = 'python'\n",
    "print(word.split()) # returns a list\n",
    "print(word)"
   ]
  },
  {
   "cell_type": "code",
   "execution_count": 57,
   "metadata": {},
   "outputs": [
    {
     "name": "stdout",
     "output_type": "stream",
     "text": [
      "['p', 'y', 't', 'h', 'o', 'n']\n"
     ]
    }
   ],
   "source": [
    "print(list(word)) # returns a list"
   ]
  },
  {
   "cell_type": "code",
   "execution_count": 58,
   "metadata": {},
   "outputs": [
    {
     "data": {
      "text/plain": [
       "'python'"
      ]
     },
     "execution_count": 58,
     "metadata": {},
     "output_type": "execute_result"
    }
   ],
   "source": [
    "word # unchanged"
   ]
  },
  {
   "cell_type": "markdown",
   "metadata": {
    "lang": "en"
   },
   "source": [
    "**Exercise (6)**\n",
    "\n",
    "Define a function that takes two numbers as argument and says in the output which is the larger number or if they are equal.\n",
    "\n",
    "```python\n",
    ">>> compare(2,12)\n",
    ">>> '12 is larger than 2'\n",
    "```\n",
    "\n",
    "```python\n",
    ">>> compare(2,2.0)\n",
    ">>> '2 equals 2.0'\n",
    "```"
   ]
  },
  {
   "cell_type": "code",
   "execution_count": 68,
   "metadata": {},
   "outputs": [
    {
     "name": "stdout",
     "output_type": "stream",
     "text": [
      "12 is larger than 2\n"
     ]
    }
   ],
   "source": [
    "# write your code here\n",
    "def compare(a, b):\n",
    "    if a > b:\n",
    "        print(f\"{a} is larger than {b}\")\n",
    "    elif a < b:\n",
    "        print(f\"{b} is larger than {a}\")\n",
    "    else:\n",
    "        print(f\"{a} equals {b}\")\n",
    " \n",
    " \n",
    "compare(2, 12)"
   ]
  }
 ],
 "metadata": {
  "kernelspec": {
   "display_name": "Python 3",
   "language": "python",
   "name": "python3"
  },
  "language_info": {
   "codemirror_mode": {
    "name": "ipython",
    "version": 3
   },
   "file_extension": ".py",
   "mimetype": "text/x-python",
   "name": "python",
   "nbconvert_exporter": "python",
   "pygments_lexer": "ipython3",
   "version": "3.12.6"
  },
  "nbTranslate": {
   "displayLangs": [
    "en",
    "de"
   ],
   "hotkey": "alt-t",
   "langInMainMenu": true,
   "sourceLang": "de",
   "targetLang": "en",
   "useGoogleTranslate": true
  }
 },
 "nbformat": 4,
 "nbformat_minor": 4
}
