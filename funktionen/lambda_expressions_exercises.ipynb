{
 "cells": [
  {
   "cell_type": "markdown",
   "metadata": {},
   "source": [
    "1. Write a Python program to create a lambda function that adds 15 to a given number passed in as an argument, also create a lambda function that multiplies argument x with argument y and prints the result.\n",
    "\n",
    "    Sample Output:\n",
    "    25\n",
    "    48\n",
    "\n",
    "[Click me to see the sample solution](https://w3resource.com/python-exercises/lambda/python-lambda-exercise-1.php)\n"
   ]
  },
  {
   "cell_type": "code",
   "execution_count": 2,
   "metadata": {},
   "outputs": [
    {
     "name": "stdout",
     "output_type": "stream",
     "text": [
      "25 48\n"
     ]
    }
   ],
   "source": [
    "# your solution\n",
    "a = lambda x: x+15\n",
    "b = lambda x, y: x*y\n",
    "print(a(10), b(4, 12))"
   ]
  },
  {
   "cell_type": "markdown",
   "metadata": {},
   "source": [
    "\n",
    "2. Write a Python program to create a function that takes one argument, and that argument will be multiplied with an unknown given number.\n",
    "Sample Output:\n",
    "Double the number of 15 = 30\n",
    "Triple the number of 15 = 45\n",
    "Quadruple the number of 15 = 60\n",
    "Quintuple the number 15 = 75\n",
    "\n",
    "[Click me to see the sample solution](https://w3resource.com/python-exercises/lambda/python-lambda-exercise-2.php)\n"
   ]
  },
  {
   "cell_type": "code",
   "execution_count": 3,
   "metadata": {},
   "outputs": [
    {
     "name": "stdout",
     "output_type": "stream",
     "text": [
      "60\n"
     ]
    }
   ],
   "source": [
    "# your solution\n",
    "def c(x):\n",
    "    return lambda y:y*x\n",
    "k = c(4)\n",
    "print(k(15))"
   ]
  },
  {
   "cell_type": "code",
   "execution_count": 2,
   "metadata": {},
   "outputs": [
    {
     "name": "stdout",
     "output_type": "stream",
     "text": [
      "6\n"
     ]
    }
   ],
   "source": [
    "multiply = lambda x: lambda y: x*y\n",
    "print(multiply(2)(3))"
   ]
  },
  {
   "cell_type": "markdown",
   "metadata": {},
   "source": [
    "\n",
    "3. Write a Python program to sort a list of tuples using Lambda.\n",
    "Original list of tuples:\n",
    "[('English', 88), ('Science', 90), ('Maths', 97), ('Social sciences', 82)]\n",
    "Sorting the List of Tuples:\n",
    "[('Social sciences', 82), ('English', 88), ('Science', 90), ('Maths', 97)]\n",
    "\n",
    "[Click me to see the sample solution](https://w3resource.com/python-exercises/lambda/python-lambda-exercise-3.php)\n"
   ]
  },
  {
   "cell_type": "code",
   "execution_count": 7,
   "metadata": {},
   "outputs": [
    {
     "name": "stdout",
     "output_type": "stream",
     "text": [
      "[('Social sciences', 82), ('English', 88), ('Science', 90), ('Maths', 97)]\n"
     ]
    }
   ],
   "source": [
    "# your solution\n",
    "# Original list of tuples:\n",
    "# [('English', 88), ('Science', 90), ('Maths', 97), ('Social sciences', 82)]\n",
    "# Sorting the List of Tuples:\n",
    "# [('Social sciences', 82), ('English', 88), ('Science', 90), ('Maths', 97)]\n",
    "orig_list = [('English', 88), ('Science', 90), ('Maths', 97), ('Social sciences', 82)]\n",
    "sort_list = sorted(orig_list, key=lambda x: x[1])\n",
    "print(sort_list)"
   ]
  },
  {
   "cell_type": "markdown",
   "metadata": {},
   "source": [
    "\n",
    "4. Write a Python program to sort a list of dictionaries using Lambda.\n",
    "Original list of dictionaries :\n",
    "[{'make': 'Nokia', 'model': 216, 'color': 'Black'}, {'make': 'Mi Max', 'model': '2', 'color': 'Gold'}, {'make': 'Samsung', 'model': 7, 'color': 'Blue'}]\n",
    "Sorting the List of dictionaries :\n",
    "[{'make': 'Nokia', 'model': 216, 'color': 'Black'}, {'make': 'Samsung', 'model': 7, 'color': 'Blue'}, {'make': 'Mi Max', 'model': '2', 'color': 'Gold'}]\n",
    "\n",
    "[Click me to see the sample solution](https://w3resource.com/python-exercises/lambda/python-lambda-exercise-4.php)"
   ]
  },
  {
   "cell_type": "code",
   "execution_count": 9,
   "metadata": {},
   "outputs": [
    {
     "name": "stdout",
     "output_type": "stream",
     "text": [
      "[{'make': 'Nokia', 'model': 216, 'color': 'Black'}, {'make': 'Samsung', 'model': 7, 'color': 'Blue'}, {'make': 'Mi Max', 'model': 2, 'color': 'Gold'}]\n",
      "[{'make': 'Nokia', 'model': 216, 'color': 'Black'}, {'make': 'Samsung', 'model': 7, 'color': 'Blue'}, {'make': 'Mi Max', 'model': 2, 'color': 'Gold'}]\n"
     ]
    }
   ],
   "source": [
    "# your solution\n",
    "# Original list of dictionaries :\n",
    "# [{'make': 'Nokia', 'model': 216, 'color': 'Black'}, \n",
    "#  {'make': 'Mi Max', 'model': 2, 'color': 'Gold'}, \n",
    "#  {'make': 'Samsung', 'model': 7, 'color': 'Blue'}]\n",
    "# Sorting the List of dictionaries :\n",
    "# [{'make': 'Nokia', 'model': 216, 'color': 'Black'}, \n",
    "#  {'make': 'Samsung', 'model': 7, 'color': 'Blue'}, \n",
    "#  {'make': 'Mi Max', 'model': 2, 'color': 'Gold'}]\n",
    "orig_list = [{'make': 'Nokia', 'model': 216, 'color': 'Black'}, \n",
    "            {'make': 'Mi Max', 'model': 2, 'color': 'Gold'}, \n",
    "            {'make': 'Samsung', 'model': 7, 'color': 'Blue'}]\n",
    "sorted_list_color = sorted(orig_list, key=lambda x: x['color'])\n",
    "sorted_list_model = sorted(orig_list, key=lambda x: x['model'], reverse=True)\n",
    "print(sorted_list_color)\n",
    "print(sorted_list_model)"
   ]
  },
  {
   "cell_type": "markdown",
   "metadata": {},
   "source": [
    "5. Write a Python program to filter a list of integers using Lambda.\n",
    "Original list of integers:\n",
    "\n",
    "[1, 2, 3, 4, 5, 6, 7, 8, 9, 10]\n",
    "\n",
    "Even numbers from the said list:\n",
    "[2, 4, 6, 8, 10]\n",
    "\n",
    "Odd numbers from the said list:\n",
    "[1, 3, 5, 7, 9]\n",
    "\n",
    "[Click me to see the sample solution](https://w3resource.com/python-exercises/lambda/python-lambda-exercise-5.php#google_vignette)\n"
   ]
  },
  {
   "cell_type": "code",
   "execution_count": 14,
   "metadata": {},
   "outputs": [
    {
     "name": "stdout",
     "output_type": "stream",
     "text": [
      "[1, 3, 5, 7, 9]\n",
      "[2, 4, 6, 8, 10]\n"
     ]
    }
   ],
   "source": [
    "# your solution\n",
    "# Original list of integers:\n",
    "\n",
    "# [1, 2, 3, 4, 5, 6, 7, 8, 9, 10]\n",
    "\n",
    "# Even numbers from the said list:\n",
    "# [2, 4, 6, 8, 10]\n",
    "\n",
    "# Odd numbers from the said list:\n",
    "# [1, 3, 5, 7, 9]\n",
    "list_numbers = [i for i in range(1,11)]\n",
    "odd_number = list(filter(lambda x: x % 2, list_numbers))\n",
    "even_number = list(filter(lambda x: not x % 2, list_numbers))\n",
    "print(odd_number)\n",
    "print(even_number)\n"
   ]
  },
  {
   "cell_type": "markdown",
   "metadata": {},
   "source": [
    "6. Write a Python program to square and cube every number in a given list of integers using Lambda.\n",
    "\n",
    "Original list of integers:\n",
    "[1, 2, 3, 4, 5, 6, 7, 8, 9, 10]\n",
    "\n",
    "Square every number of the said list:\n",
    "[1, 4, 9, 16, 25, 36, 49, 64, 81, 100]\n",
    "\n",
    "Cube every number of the said list:\n",
    "[1, 8, 27, 64, 125, 216, 343, 512, 729, 1000]\n",
    "\n",
    "[Click me to see the sample solution](https://w3resource.com/python-exercises/lambda/python-lambda-exercise-6.php#google_vignette)\n"
   ]
  },
  {
   "cell_type": "code",
   "execution_count": 25,
   "metadata": {},
   "outputs": [
    {
     "name": "stdout",
     "output_type": "stream",
     "text": [
      "   1    1     1\n",
      "   2    4     8\n",
      "   3    9    27\n",
      "   4   16    64\n",
      "   5   25   125\n",
      "   6   36   216\n",
      "   7   49   343\n",
      "   8   64   512\n",
      "   9   81   729\n",
      "  10  100  1000\n"
     ]
    }
   ],
   "source": [
    "# your solution\n",
    "numbers = [i for i in range(1,11)]\n",
    "list_of_squares = list(map(lambda x: x**2, numbers))\n",
    "list_of_cube = list(map(lambda x: x**3, numbers))\n",
    "for i, j, k in zip(numbers, list_of_squares, list_of_cube):\n",
    "    print(f\"{i:>4d} {j:=4d} {k:>5d}\")\n"
   ]
  },
  {
   "cell_type": "markdown",
   "metadata": {},
   "source": [
    "7. Write a Python program to find if a given string starts with a given character using Lambda.\n",
    "\n",
    "Sample Output:\n",
    "True\n",
    "False\n",
    "\n",
    "[Click me to see the sample solution](https://w3resource.com/python-exercises/lambda/python-lambda-exercise-7.php#google_vignette)\n"
   ]
  },
  {
   "cell_type": "code",
   "execution_count": 27,
   "metadata": {},
   "outputs": [
    {
     "name": "stdout",
     "output_type": "stream",
     "text": [
      "True\n",
      "True\n",
      "False\n"
     ]
    }
   ],
   "source": [
    "# your solution\n",
    "starts_with = lambda string, char: string.startswith(char)\n",
    "print(starts_with(\"hello\", \"h\")) \n",
    "print(starts_with(\"world\", \"w\"))  \n",
    "print(starts_with(\"python\", \"P\")) \n"
   ]
  },
  {
   "cell_type": "markdown",
   "metadata": {},
   "source": [
    "8. Write a Python program to extract year, month, date and time using Lambda.\n",
    "\n",
    "Sample Output:\n",
    "2020-01-15 09:03:32.744178\n",
    "\n",
    "2020\n",
    "\n",
    "1\n",
    "\n",
    "15\n",
    "\n",
    "09:03:32.744178\n",
    "\n",
    "[Click me to see the sample solution](https://w3resource.com/python-exercises/lambda/python-lambda-exercise-8.php#google_vignette)\n"
   ]
  },
  {
   "cell_type": "code",
   "execution_count": 33,
   "metadata": {},
   "outputs": [
    {
     "name": "stdout",
     "output_type": "stream",
     "text": [
      "2024\n",
      "10\n",
      "8\n",
      "10:07:09.924654\n"
     ]
    }
   ],
   "source": [
    "# your solution\n",
    "from datetime import datetime\n",
    "date_today = datetime.today()\n",
    "year = lambda x: x.year\n",
    "month = lambda x: x.month\n",
    "day = lambda x: x.day\n",
    "time = lambda x: x.time()\n",
    "print(year(date_today))\n",
    "print(month(date_today))\n",
    "print(day(date_today))\n",
    "print(time(date_today))\n"
   ]
  },
  {
   "cell_type": "markdown",
   "metadata": {},
   "source": [
    "9. Write a Python program to check whether a given string is a number or not using Lambda.\n",
    "\n",
    "Sample Output:\n",
    "\n",
    "True\n",
    "\n",
    "True\n",
    "\n",
    "False\n",
    "\n",
    "True\n",
    "\n",
    "False\n",
    "\n",
    "True\n",
    "\n",
    "Print checking numbers:\n",
    "\n",
    "True\n",
    "\n",
    "True\n",
    "\n",
    "[Click me to see the sample solution](https://w3resource.com/python-exercises/lambda/python-lambda-exercise-9.php#google_vignette)\n"
   ]
  },
  {
   "cell_type": "code",
   "execution_count": 35,
   "metadata": {},
   "outputs": [
    {
     "name": "stdout",
     "output_type": "stream",
     "text": [
      "True\n",
      "False\n"
     ]
    }
   ],
   "source": [
    "# your solution\n",
    "y = lambda x: x.isdigit()\n",
    "print(y('1080'))\n",
    "print(y('gast'))"
   ]
  },
  {
   "cell_type": "code",
   "execution_count": 9,
   "metadata": {},
   "outputs": [
    {
     "name": "stdout",
     "output_type": "stream",
     "text": [
      "True\n",
      "False\n"
     ]
    }
   ],
   "source": [
    "import re\n",
    "y = lambda x: bool(re.match(\"^[0-9]*$\", x))\n",
    "# y = lambda x: sum([c in '01234567890'for c in x]) == len(x)\n",
    "print(y('1080'))\n",
    "print(y('g4st'))"
   ]
  },
  {
   "cell_type": "markdown",
   "metadata": {},
   "source": [
    "10. Write a Python program to create Fibonacci series up to n using Lambda.\n",
    "\n",
    "Fibonacci series upto 2:\n",
    "[0, 1]\n",
    "\n",
    "Fibonacci series upto 5:\n",
    "[0, 1, 1, 2, 3]\n",
    "\n",
    "Fibonacci series upto 6:\n",
    "[0, 1, 1, 2, 3, 5]\n",
    "\n",
    "Fibonacci series upto 9:\n",
    "[0, 1, 1, 2, 3, 5, 8, 13, 21]\n",
    "\n",
    "[Click me to see the sample solution](https://w3resource.com/python-exercises/lambda/python-lambda-exercise-10.php#google_vignette)"
   ]
  },
  {
   "cell_type": "code",
   "execution_count": 1,
   "metadata": {},
   "outputs": [
    {
     "name": "stdout",
     "output_type": "stream",
     "text": [
      "[0, 1]\n",
      "[0, 1, 1, 2, 3]\n",
      "[0, 1, 1, 2, 3, 5]\n",
      "[0, 1, 1, 2, 3, 5, 8, 13, 21]\n"
     ]
    }
   ],
   "source": [
    "# your solution\n",
    "from functools import reduce\n",
    "\n",
    "fib_seq= lambda n: reduce(lambda x, _: x + [x[-1] + x[-2]], range(n - 2), [0, 1])\n",
    "print(fib_seq(2))\n",
    "print(fib_seq(5))\n",
    "print(fib_seq(6))\n",
    "print(fib_seq(9))"
   ]
  },
  {
   "cell_type": "code",
   "execution_count": 5,
   "metadata": {},
   "outputs": [
    {
     "name": "stdout",
     "output_type": "stream",
     "text": [
      "15\n"
     ]
    }
   ],
   "source": [
    "# Python program to  illustrate sum of two numbers.\n",
    "# def reduce(function, iterable, initializer=None):\n",
    "#     it = iter(iterable)\n",
    "#     if initializer is None:\n",
    "#         value = next(it)\n",
    "#     else:\n",
    "#         value = initializer\n",
    "#     for element in it:\n",
    "#         value = function(value, element)\n",
    "#     return value\n",
    "\n",
    "# Note that the initializer, when not None, is used as the first value instead of the first value from iterable , and after the whole iterable.\n",
    "tup = (2,1,0,2,2,0,0,2)\n",
    "print(reduce(lambda x, y: x+y, tup,6))\n",
    "\n",
    "# This code is contributed by aashutoshjha\n"
   ]
  }
 ],
 "metadata": {
  "kernelspec": {
   "display_name": "Python 3",
   "language": "python",
   "name": "python3"
  },
  "language_info": {
   "codemirror_mode": {
    "name": "ipython",
    "version": 3
   },
   "file_extension": ".py",
   "mimetype": "text/x-python",
   "name": "python",
   "nbconvert_exporter": "python",
   "pygments_lexer": "ipython3",
   "version": "3.12.6"
  }
 },
 "nbformat": 4,
 "nbformat_minor": 2
}
