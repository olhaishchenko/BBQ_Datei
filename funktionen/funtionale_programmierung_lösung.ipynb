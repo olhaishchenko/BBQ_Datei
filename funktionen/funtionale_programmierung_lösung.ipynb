{
 "cells": [
  {
   "cell_type": "code",
   "execution_count": 1,
   "metadata": {},
   "outputs": [
    {
     "data": {
      "text/plain": [
       "25"
      ]
     },
     "execution_count": 1,
     "metadata": {},
     "output_type": "execute_result"
    }
   ],
   "source": [
    "def calculate(a,op,b):\n",
    "    ## operation = get_implementation_of_operation(op)\n",
    "    return get_implementation_of_operation(op)(a,b)\n",
    "\n",
    "def get_implementation_of_operation(op):\n",
    "    return {'+': addition, '-': subtraktion, '*': multiplikation, '/': division}.get(op)\n",
    "    \n",
    "def addition(a,b):\n",
    "    return a+b\n",
    "\n",
    "def subtraktion(a,b):\n",
    "    return a-b\n",
    "\n",
    "def multiplikation(a, b):\n",
    "    return a*b\n",
    "\n",
    "def division(a,b):\n",
    "    return a/b\n",
    "\n",
    "calculate(11, '+', 14)"
   ]
  },
  {
   "cell_type": "code",
   "execution_count": 5,
   "metadata": {},
   "outputs": [
    {
     "name": "stdout",
     "output_type": "stream",
     "text": [
      "( 38 +  74) ==>     112.00\n",
      "( 13 *   8) ==>     104.00\n",
      "( 69 *  91) ==>    6279.00\n",
      "( 58 /  54) ==>       1.07\n",
      "( 71 +  41) ==>     112.00\n",
      "( 68 /  71) ==>       0.96\n",
      "( 95 *  86) ==>    8170.00\n",
      "( 15 -  47) ==>     -32.00\n",
      "(  6 -  82) ==>     -76.00\n",
      "( 16 /  32) ==>       0.50\n",
      "( 43 *  32) ==>    1376.00\n",
      "( 23 + 100) ==>     123.00\n",
      "( 97 *  92) ==>    8924.00\n",
      "( 61 +  77) ==>     138.00\n",
      "( 59 *  84) ==>    4956.00\n",
      "( 48 /  59) ==>       0.81\n",
      "( 64 +  75) ==>     139.00\n",
      "( 30 -   2) ==>      28.00\n",
      "( 11 +  13) ==>      24.00\n",
      "( 32 /  53) ==>       0.60\n"
     ]
    }
   ],
   "source": [
    "# erstellen Sie zufällig 20 Argument-Sätze und lassen jeweils einen Wert berechnen \n",
    "# und fügen Sie diesen Wert in eine Liste ein.\n",
    "# Zufallszahlen sind von Typ 'int'.\n",
    "\n",
    "# 1. Tipp: ... randint\n",
    "# 2. Tipp: ... Auswahl aus ('+','-','*','/') ---> recherchieren Methode .choice()\n",
    "\n",
    "import random\n",
    "\n",
    "c_l = [((a, op, b), calculate(a, op, b)) for (a, op, b) in \n",
    "            [(random.randint(1,100), random.choice(['+','-','*','/']), random.randint(1,100)) \n",
    "                for i in range(20)\n",
    "            ]\n",
    "        ]\n",
    "\n",
    "for c_e in c_l:\n",
    "    print(f\"({c_e[0][0]:>3d} {c_e[0][1]} {c_e[0][2]:>3d})\" , \"==>\", f\"{float(c_e[1]):>10.2f}\")"
   ]
  }
 ],
 "metadata": {
  "kernelspec": {
   "display_name": "Python 3",
   "language": "python",
   "name": "python3"
  },
  "language_info": {
   "codemirror_mode": {
    "name": "ipython",
    "version": 3
   },
   "file_extension": ".py",
   "mimetype": "text/x-python",
   "name": "python",
   "nbconvert_exporter": "python",
   "pygments_lexer": "ipython3",
   "version": "3.12.6"
  }
 },
 "nbformat": 4,
 "nbformat_minor": 2
}
