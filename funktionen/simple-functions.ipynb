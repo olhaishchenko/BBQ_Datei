{
 "cells": [
  {
   "cell_type": "markdown",
   "metadata": {},
   "source": [
    "<img align=\"center\" width=\"250\" src=\"https://www.bbq.de/bbqDateien/images/Logo-aktuell.png\">\n",
    "<h1 align=center><font size = 5>Welcome to Python Lab (week 5)</font></h1>"
   ]
  },
  {
   "cell_type": "markdown",
   "metadata": {},
   "source": [
    "## Introduction\n",
    "\n",
    "In this lab we are going to use our knowledge of Python functions to develop some small programs to solve a few problems. Take your time and solve **at least 3 tasks of your choice**\n",
    "\n",
    "\n",
    "\n",
    "**Happy coding!**"
   ]
  },
  {
   "cell_type": "markdown",
   "metadata": {},
   "source": [
    "## Table of Contents\n",
    "\n",
    "1.  <a href=\"#item1\">Palindrome</a>\n",
    "2.  <a href=\"#item2\">Armstrong Numbers</a>  \n",
    "3.  <a href=\"#item3\">Random password generator</a>  \n",
    "4.  <a href=\"#item4\">Check a Password</a> \n",
    "5.  <a href=\"#item5\">Sublist</a>\n"
   ]
  },
  {
   "cell_type": "markdown",
   "metadata": {},
   "source": [
    "<a id=\"item1\"></a>"
   ]
  },
  {
   "cell_type": "markdown",
   "metadata": {},
   "source": [
    "### 1. Palindrome\n",
    "\n",
    "_(Level: easy)_\n",
    "\n",
    "A palindrome is a word, number, phrase, or other sequence of characters which reads the same backward as forward, such as ``madam`` or ``bob``\n",
    "\n",
    "Define a function that accepts a string as parameter and checks whether a string is a palindrome or not.  \n",
    "\n",
    "```python\n",
    ">>> palindrome('Hannah')\n",
    ">>> 'Yes!'\n",
    ">>> palindrome('papa')\n",
    ">>> 'No!'\n",
    ">>> palindrome('32123')\n",
    ">>> 'Yes!'\n",
    "```\n",
    "\n"
   ]
  },
  {
   "cell_type": "code",
   "execution_count": 1,
   "metadata": {},
   "outputs": [
    {
     "name": "stdout",
     "output_type": "stream",
     "text": [
      "Yes!\n",
      "No!\n",
      "Yes!\n"
     ]
    }
   ],
   "source": [
    "# write your code here\n",
    "def palindrome(s):\n",
    "    # Convert the string to lowercase to make the check case-insensitive\n",
    "    s = s.lower()\n",
    "    \n",
    "    # Check if the string is equal to its reverse\n",
    "    if s == s[::-1]:\n",
    "        return \"Yes!\"\n",
    "    else:\n",
    "        return \"No!\"\n",
    "\n",
    "# Test cases\n",
    "print(palindrome('Hannah'))  # Yes!\n",
    "print(palindrome('papa'))    # No!\n",
    "print(palindrome('32123'))   # Yes!\n"
   ]
  },
  {
   "cell_type": "markdown",
   "metadata": {},
   "source": [
    "<a id=\"item2\"></a>"
   ]
  },
  {
   "cell_type": "markdown",
   "metadata": {},
   "source": [
    "### 2.  Armstrong Numbers\n",
    "\n",
    "_(Level: intermediate)_\n",
    "\n",
    "An Armstrong number of three digits is an integer such that the sum of the cubes of its digits is equal to the number itself. For example, 371 is an Armstrong number since \n",
    "\n",
    "```python\n",
    "\n",
    "3**3 + 7**3 + 1**3 = 371\n",
    "```\n",
    "\n",
    "\n",
    "(a) Define a function that accepts a number with 3 digits as parameter and checks, if it is an Armstrong number. (If possible, use a lambda function in your solution.)"
   ]
  },
  {
   "cell_type": "code",
   "execution_count": 2,
   "metadata": {},
   "outputs": [
    {
     "name": "stdout",
     "output_type": "stream",
     "text": [
      "True\n",
      "False\n",
      "True\n"
     ]
    }
   ],
   "source": [
    "# write your code here\n",
    "def is_armstrong(num):\n",
    "    # Lambda function to calculate the sum of cubes of the digits\n",
    "    armstrong_check = lambda x: sum(int(digit) ** 3 for digit in str(x))\n",
    "    \n",
    "    # Compare the number with the result of the lambda function\n",
    "    return num == armstrong_check(num)\n",
    "\n",
    "# Test cases\n",
    "print(is_armstrong(371))  # True\n",
    "print(is_armstrong(123))  # False\n",
    "print(is_armstrong(407))  # True\n"
   ]
  },
  {
   "cell_type": "markdown",
   "metadata": {},
   "source": [
    "(b) Write a function to find all Armstrong number in the range of 0 and 999.  \n",
    "Consider the pep8 Style gudie for functions: add a docstring to your funtion!"
   ]
  },
  {
   "cell_type": "code",
   "execution_count": 3,
   "metadata": {},
   "outputs": [
    {
     "name": "stdout",
     "output_type": "stream",
     "text": [
      "[0, 1, 153, 370, 371, 407]\n"
     ]
    }
   ],
   "source": [
    "# write your code here\n",
    "def find_armstrong_numbers():\n",
    "    \"\"\"\n",
    "    This function finds and returns a list of all Armstrong numbers \n",
    "    within the range of 0 and 999.\n",
    "    \n",
    "    An Armstrong number (also known as a narcissistic number) is a \n",
    "    three-digit number such that the sum of the cubes of its digits \n",
    "    is equal to the number itself.\n",
    "    \n",
    "    Returns:\n",
    "        List[int]: A list of Armstrong numbers in the range 0 to 999.\n",
    "    \"\"\"\n",
    "    armstrong_numbers = []\n",
    "    \n",
    "    for num in range(1000):\n",
    "        # Calculate the sum of the cubes of the digits\n",
    "        if num == sum(int(digit) ** 3 for digit in str(num)):\n",
    "            armstrong_numbers.append(num)\n",
    "    \n",
    "    return armstrong_numbers\n",
    "\n",
    "# Example usage:\n",
    "print(find_armstrong_numbers())\n"
   ]
  },
  {
   "cell_type": "markdown",
   "metadata": {},
   "source": [
    "<a id=\"item3\"></a>"
   ]
  },
  {
   "cell_type": "markdown",
   "metadata": {},
   "source": [
    "### 3. Random password generator\n",
    "_(Level: intermediate)_\n",
    "  \n",
    "Write a function that generates a random password. The password should have a\n",
    "random length of between 7 and 10 characters. Each character should be randomly\n",
    "selected from positions 33 to 126 in the ASCII table. Your function will not take\n",
    "any parameters. It will return the randomly generated password as its only result."
   ]
  },
  {
   "cell_type": "code",
   "execution_count": 5,
   "metadata": {},
   "outputs": [
    {
     "name": "stdout",
     "output_type": "stream",
     "text": [
      "pThAwqF|\n"
     ]
    }
   ],
   "source": [
    "# write your code here\n",
    "import random\n",
    "\n",
    "def generate_password():\n",
    "    \"\"\"\n",
    "    This function generates a random password with a length between 7 and 10 characters.\n",
    "    Each character is randomly selected from ASCII values between 33 and 126.\n",
    "\n",
    "    Returns:\n",
    "        str: The randomly generated password.\n",
    "    \"\"\"\n",
    "    # Generate a random length between 7 and 10\n",
    "    password_length = random.randint(7, 10)\n",
    "    \n",
    "    # Create the password by randomly selecting characters from ASCII range 33 to 126\n",
    "    password = ''.join(chr(random.randint(33, 126)) for _ in range(password_length))\n",
    "    \n",
    "    return password\n",
    "\n",
    "# Example usage:\n",
    "print(generate_password())\n"
   ]
  },
  {
   "cell_type": "markdown",
   "metadata": {},
   "source": [
    "<a id=\"item4\"></a>"
   ]
  },
  {
   "cell_type": "markdown",
   "metadata": {},
   "source": [
    "### 4. Check a Password \n",
    "\n",
    "_(Level: easy)_\n",
    "\n",
    "In this exercise you will write a function that determines whether or not a password\n",
    "is good. We will define a good password to be a one that is at least 8 characters long\n",
    "and contains at least one uppercase letter, at least one lowercase letter, and at least\n",
    "one number. Your function should return True if the password passed to it as its\n",
    "only parameter is good. Otherwise it should return False."
   ]
  },
  {
   "cell_type": "code",
   "execution_count": 6,
   "metadata": {},
   "outputs": [
    {
     "name": "stdout",
     "output_type": "stream",
     "text": [
      "True\n",
      "False\n",
      "False\n"
     ]
    }
   ],
   "source": [
    "# write your code here\n",
    "def is_good_password(password):\n",
    "    \"\"\"\n",
    "    This function checks if a password is good based on the following criteria:\n",
    "    - At least 8 characters long\n",
    "    - Contains at least one uppercase letter\n",
    "    - Contains at least one lowercase letter\n",
    "    - Contains at least one number\n",
    "    \n",
    "    Args:\n",
    "        password (str): The password to be checked.\n",
    "    \n",
    "    Returns:\n",
    "        bool: True if the password is good, otherwise False.\n",
    "    \"\"\"\n",
    "    if len(password) < 8:\n",
    "        return False\n",
    "\n",
    "    has_upper = any(char.isupper() for char in password)\n",
    "    has_lower = any(char.islower() for char in password)\n",
    "    has_digit = any(char.isdigit() for char in password)\n",
    "\n",
    "    return has_upper and has_lower and has_digit\n",
    "\n",
    "# Example usage:\n",
    "print(is_good_password(\"Password123\"))  # True\n",
    "print(is_good_password(\"short1\"))       # False\n",
    "print(is_good_password(\"ALLUPPER123\"))  # False\n",
    "\n"
   ]
  },
  {
   "cell_type": "markdown",
   "metadata": {},
   "source": [
    "<a id=\"item5\"></a>"
   ]
  },
  {
   "cell_type": "markdown",
   "metadata": {},
   "source": [
    "### 5. Sublist\n",
    "\n",
    "_(Level: advanced)_\n",
    "\n",
    "A sublist is a list that is part of a larger list. A sublist may be a list containing a\n",
    "single element, multiple elements, or even no elements at all. For example, \\[1\\],\n",
    "\\[2\\], \\[3\\] and \\[4\\] are all sublists of \\[1, 2, 3, 4\\]. The list \\[2, 3\\] is also a\n",
    "sublist of \\[1, 2, 3, 4\\], but \\[2, 4\\] is not a sublist \\[1, 2, 3, 4\\] because\n",
    "the elements 2 and 4 are not adjacent in the longer list. The empty list is a sublist of any list. As a result, \\[ \\] is a sublist of \\[1, 2, 3, 4\\]. A list is a sublist of itself,\n",
    "meaning that \\[1, 2, 3, 4\\] is also a sublist of \\[1, 2, 3, 4\\].\n",
    "\n",
    "\n",
    "In this exercise you will create a function, ``issublist``, that determines whether\n",
    "or not one list is a sublist of another. Your function should take two lists, larger\n",
    "and smaller, as its only parameters. It should return True if and only if smaller\n",
    "is a sublist of larger.\n"
   ]
  },
  {
   "cell_type": "code",
   "execution_count": 7,
   "metadata": {},
   "outputs": [
    {
     "name": "stdout",
     "output_type": "stream",
     "text": [
      "True\n",
      "False\n",
      "True\n",
      "True\n"
     ]
    }
   ],
   "source": [
    "# write your code here\n",
    "# a_l = [1,2,3,4] \n",
    "# b_l = [2,3]\n",
    "# issublist(a_l, b_l) # True\n",
    "# issublist(a_l, [2,4]) # False\n",
    "\n",
    "def issublist(larger, smaller):\n",
    "    \"\"\"\n",
    "    This function checks if 'smaller' is a sublist of 'larger'.\n",
    "    \n",
    "    Args:\n",
    "        larger (list): The larger list in which to search for the sublist.\n",
    "        smaller (list): The smaller list that may be a sublist of 'larger'.\n",
    "    \n",
    "    Returns:\n",
    "        bool: True if 'smaller' is a sublist of 'larger', otherwise False.\n",
    "    \"\"\"\n",
    "    # Handle the empty list case: the empty list is always a sublist\n",
    "    if not smaller:\n",
    "        return True\n",
    "    \n",
    "    # Check if the smaller list is a sublist of the larger list\n",
    "    for i in range(len(larger) - len(smaller) + 1):\n",
    "        if larger[i:i + len(smaller)] == smaller:\n",
    "            return True\n",
    "    \n",
    "    return False\n",
    "\n",
    "# Example usage:\n",
    "print(issublist([1, 2, 3, 4], [2, 3]))  # True\n",
    "print(issublist([1, 2, 3, 4], [2, 4]))  # False\n",
    "print(issublist([1, 2, 3, 4], []))      # True (empty list is a sublist of any list)\n",
    "print(issublist([1, 2, 3, 4], [1, 2, 3, 4]))  # True\n"
   ]
  },
  {
   "cell_type": "code",
   "execution_count": null,
   "metadata": {},
   "outputs": [],
   "source": [
    "def issublist(larger, smaller):\n",
    "    if not smaller:\n",
    "        return True\n",
    "    for i in range(len(larger) - len(smaller) + 1):\n",
    "        if larger[i:i + len(smaller)] == smaller:\n",
    "            return True\n",
    "    \n",
    "    return False"
   ]
  },
  {
   "cell_type": "markdown",
   "metadata": {},
   "source": [
    "**Thank you for finishing this lab.** "
   ]
  },
  {
   "cell_type": "code",
   "execution_count": 11,
   "metadata": {},
   "outputs": [
    {
     "data": {
      "text/plain": [
       "True"
      ]
     },
     "execution_count": 11,
     "metadata": {},
     "output_type": "execute_result"
    }
   ],
   "source": [
    "# Завдання: Напиши lambda-функцію, яка перевіряє, чи є число парним.\n",
    "is_even = lambda x: True if x%2 == 0 else False\n",
    "\n",
    "# Приклад:\n",
    "# is_even(4) -> True\n",
    "# is_even(7) -> False\n",
    "is_even(4)\n",
    "is_even(7)\n",
    "\n"
   ]
  },
  {
   "cell_type": "code",
   "execution_count": 13,
   "metadata": {},
   "outputs": [
    {
     "data": {
      "text/plain": [
       "25"
      ]
     },
     "execution_count": 13,
     "metadata": {},
     "output_type": "execute_result"
    }
   ],
   "source": [
    "# Завдання: Напиши lambda-функцію для піднесення числа до степеня.\n",
    "power = lambda x, y: x**y\n",
    "# Приклад:\n",
    "# power(2, 3) -> 8\n",
    "# power(5, 2) -> 25\n",
    "power(2, 3)\n",
    "power(5, 2)\n"
   ]
  },
  {
   "cell_type": "code",
   "execution_count": 16,
   "metadata": {},
   "outputs": [],
   "source": [
    "# Завдання: Використай lambda-функцію для фільтрації чисел більше 10 із списку.\n",
    "numbers = [1, 15, 3, 22, 7, 11]\n",
    "filtered_numbers = list(filter(lambda x: x >10, numbers))\n",
    "\n",
    "# Приклад:\n",
    "# filtered_numbers -> [15, 22, 11]\n",
    "filtered_numbers\n"
   ]
  },
  {
   "cell_type": "code",
   "execution_count": 20,
   "metadata": {},
   "outputs": [
    {
     "data": {
      "text/plain": [
       "['date', 'apple', 'banana', 'cherry']"
      ]
     },
     "execution_count": 20,
     "metadata": {},
     "output_type": "execute_result"
    }
   ],
   "source": [
    "# Завдання: Використай lambda-функцію для сортування рядків за довжиною.\n",
    "words = [\"apple\", \"banana\", \"cherry\", \"date\"]\n",
    "# sorted_words = sorted(words, key=lambda x: len(x))\n",
    "sorted_words = sorted(words, key=len)\n",
    "\n",
    "# Приклад:\n",
    "# sorted_words -> ['date', 'apple', 'banana', 'cherry']\n",
    "sorted_words\n"
   ]
  },
  {
   "cell_type": "code",
   "execution_count": 18,
   "metadata": {},
   "outputs": [
    {
     "data": {
      "text/plain": [
       "30"
      ]
     },
     "execution_count": 18,
     "metadata": {},
     "output_type": "execute_result"
    }
   ],
   "source": [
    "# Завдання: Напиши lambda-функцію для обчислення суми квадратів чисел у списку.\n",
    "numbers = [1, 2, 3, 4]\n",
    "sum_of_squares = sum(map(lambda x: x**2, numbers))\n",
    "\n",
    "# Приклад:\n",
    "# sum_of_squares -> 30\n",
    "sum_of_squares"
   ]
  },
  {
   "cell_type": "code",
   "execution_count": 23,
   "metadata": {},
   "outputs": [
    {
     "name": "stdout",
     "output_type": "stream",
     "text": [
      "a: 1 b: 2 c: 3 d: 4 e: 5\n",
      "a: 1 b: 2 c: 5 d: 3 e: 6\n"
     ]
    }
   ],
   "source": [
    "def boo(a, b, /, c, d,  *, e=1):\n",
    "    print(\"a:\", a, \"b:\", b, \"c:\", c, \"d:\", d, \"e:\",e)\n",
    "boo(1, 2, 3, 4, e=5)\n",
    "boo(1, 2, 5, d=3, e=6)"
   ]
  },
  {
   "cell_type": "code",
   "execution_count": 24,
   "metadata": {},
   "outputs": [
    {
     "name": "stdout",
     "output_type": "stream",
     "text": [
      "Hello, Guest!\n",
      "Hello, Alice!\n"
     ]
    }
   ],
   "source": [
    "greet = lambda name=\"Guest\": f\"Hello, {name}!\"\n",
    "\n",
    "print(greet())\n",
    "print(greet(\"Alice\"))"
   ]
  },
  {
   "cell_type": "code",
   "execution_count": 28,
   "metadata": {},
   "outputs": [
    {
     "data": {
      "text/plain": [
       "25"
      ]
     },
     "execution_count": 28,
     "metadata": {},
     "output_type": "execute_result"
    }
   ],
   "source": [
    "def calculate(a, op, b):\n",
    "    operator = get_operator(op)\n",
    "    result = operator(a,b)\n",
    "    return result\n",
    "def get_operator(op):\n",
    "    return {'+': addition, '-': substraction, '*': multiplikation, '/': division}.get(op)\n",
    "def addition(a, b):\n",
    "    return a+b\n",
    "def substraction(a,b):\n",
    "    return a-b\n",
    "def multiplikation(a,b):\n",
    "    return a*b\n",
    "def division(a,b):\n",
    "    return a/b\n",
    "calculate(11, '+', 14)"
   ]
  },
  {
   "cell_type": "code",
   "execution_count": null,
   "metadata": {},
   "outputs": [],
   "source": [
    "import random\n",
    "\n",
    "def generate_expressions_and_calculate():\n",
    "    \"\"\"\n",
    "    Generates 20 random mathematical expressions, calculates them, and adds the results to a list.\n",
    "    The expressions use random integers and operators (+, -, *, /).\n",
    "    \n",
    "    Returns:\n",
    "        list: A list of the calculated results.\n",
    "    \"\"\"\n",
    "    results = []\n",
    "    operators = ['+', '-', '*', '/']\n",
    "    \n",
    "    for _ in range(20):\n",
    "        # Generate two random integers\n",
    "        num1 = random.randint(1, 100)\n",
    "        num2 = random.randint(1, 100)\n",
    "        \n",
    "        # Choose a random operator\n",
    "        operator = random.choice(operators)\n",
    "        \n",
    "        # Create a mathematical expression\n",
    "        if operator == '/':\n",
    "            # Avoid division by zero by checking num2\n",
    "            if num2 == 0:\n",
    "                num2 = 1\n",
    "            expression = f\"{num1} / {num2}\"\n",
    "        else:\n",
    "            expression = f\"{num1} {operator} {num2}\"\n",
    "        \n",
    "        # Calculate the result of the expression\n",
    "        result = eval(expression)\n",
    "        \n",
    "        # Add the result to the list\n",
    "        results.append(result)\n",
    "        \n",
    "        # Print the expression and its result\n",
    "        print(f\"Expression: {expression} = {result}\")\n",
    "    \n",
    "    return results\n",
    "\n",
    "# Call the function and print the results\n",
    "result_list = generate_expressions_and_calculate()\n",
    "print(\"\\nResults List:\", result_list)\n"
   ]
  },
  {
   "cell_type": "code",
   "execution_count": null,
   "metadata": {},
   "outputs": [],
   "source": [
    "import random\n",
    "\n",
    "def calculate(a, op, b):\n",
    "    operator = get_operator(op)\n",
    "    result = operator(a, b)\n",
    "    return result\n",
    "\n",
    "def get_operator(op):\n",
    "    return {'+': addition, '-': substraction, '*': multiplikation, '/': division}.get(op)\n",
    "\n",
    "def addition(a, b):\n",
    "    return a + b\n",
    "\n",
    "def substraction(a, b):\n",
    "    return a - b\n",
    "\n",
    "def multiplikation(a, b):\n",
    "    return a * b\n",
    "\n",
    "def division(a, b):\n",
    "    if b == 0:\n",
    "        return \"Division by zero error!\"  # Handle division by zero\n",
    "    return a / b\n",
    "\n",
    "def generate_expression():\n",
    "    \"\"\"\n",
    "    Generates a random expression using two integers and a random operator.\n",
    "    Then it calculates and returns the result of the expression.\n",
    "    \"\"\"\n",
    "    # Generate two random integers\n",
    "    a = random.randint(1, 100)\n",
    "    b = random.randint(1, 100)\n",
    "    \n",
    "    # Choose a random operator from the set of +, -, *, /\n",
    "    operator = random.choice(['+', '-', '*', '/'])\n",
    "    \n",
    "    # Calculate the result\n",
    "    result = calculate(a, operator, b)\n",
    "    \n",
    "    # Print the expression and the result\n",
    "    print(f\"Expression: {a} {operator} {b} = {result}\")\n",
    "    return result\n",
    "\n",
    "# Generate and calculate 20 random expressions\n",
    "for _ in range(20):\n",
    "    generate_expression()\n"
   ]
  },
  {
   "cell_type": "code",
   "execution_count": 41,
   "metadata": {},
   "outputs": [
    {
     "name": "stdout",
     "output_type": "stream",
     "text": [
      " 26 + 83 = 109.00\n",
      " 97 + 44 = 141.00\n",
      " 40 * 15 = 600.00\n",
      " 59 / 24 = 2.46\n",
      " 16 + 92 = 108.00\n",
      " 85 / 71 = 1.20\n",
      " 24 + 20 = 44.00\n",
      " 31 * 52 = 1612.00\n",
      " 24 - 93 = -69.00\n",
      " 33 + 67 = 100.00\n",
      " 77 * 27 = 2079.00\n",
      " 79 - 12 = 67.00\n",
      " 18 + 83 = 101.00\n",
      " 75 + 46 = 121.00\n",
      " 76 - 39 = 37.00\n",
      " 11 * 21 = 231.00\n",
      " 39 / 78 = 0.50\n",
      " 99 * 97 = 9603.00\n",
      " 98 + 11 = 109.00\n",
      " 92 * 48 = 4416.00\n"
     ]
    }
   ],
   "source": [
    "def generate_expression():\n",
    "    a = random.randint(1, 100)\n",
    "    b = random.randint(1, 100)\n",
    "    operator = random.choice(['+', '-', '*', '/'])\n",
    "    result = (a, operator, b)\n",
    "    return result\n",
    "\n",
    "\n",
    "list_expres = [generate_expression() for _ in range(20)]\n",
    "\n",
    "for el in list_expres:\n",
    "    print(f\"{el[0]:>3d} {el[1]}{el[2]:>3d} = {calculate(el[0],el[1],el[2]):.2f}\")\n",
    "\n"
   ]
  },
  {
   "cell_type": "code",
   "execution_count": 29,
   "metadata": {},
   "outputs": [
    {
     "name": "stdout",
     "output_type": "stream",
     "text": [
      "|   32 |     ||   33 |  !  ||   34 |  \"  ||   35 |  #  ||   36 |  $  ||   37 |  %  ||   38 |  &  ||   39 |  '  |\n",
      "|   40 |  (  ||   41 |  )  ||   42 |  *  ||   43 |  +  ||   44 |  ,  ||   45 |  -  ||   46 |  .  ||   47 |  /  |\n",
      "|   48 |  0  ||   49 |  1  ||   50 |  2  ||   51 |  3  ||   52 |  4  ||   53 |  5  ||   54 |  6  ||   55 |  7  |\n",
      "|   56 |  8  ||   57 |  9  ||   58 |  :  ||   59 |  ;  ||   60 |  <  ||   61 |  =  ||   62 |  >  ||   63 |  ?  |\n",
      "|   64 |  @  ||   65 |  A  ||   66 |  B  ||   67 |  C  ||   68 |  D  ||   69 |  E  ||   70 |  F  ||   71 |  G  |\n",
      "|   72 |  H  ||   73 |  I  ||   74 |  J  ||   75 |  K  ||   76 |  L  ||   77 |  M  ||   78 |  N  ||   79 |  O  |\n",
      "|   80 |  P  ||   81 |  Q  ||   82 |  R  ||   83 |  S  ||   84 |  T  ||   85 |  U  ||   86 |  V  ||   87 |  W  |\n",
      "|   88 |  X  ||   89 |  Y  ||   90 |  Z  ||   91 |  [  ||   92 |  \\  ||   93 |  ]  ||   94 |  ^  ||   95 |  _  |\n",
      "|   96 |  `  ||   97 |  a  ||   98 |  b  ||   99 |  c  ||  100 |  d  ||  101 |  e  ||  102 |  f  ||  103 |  g  |\n",
      "|  104 |  h  ||  105 |  i  ||  106 |  j  ||  107 |  k  ||  108 |  l  ||  109 |  m  ||  110 |  n  ||  111 |  o  |\n",
      "|  112 |  p  ||  113 |  q  ||  114 |  r  ||  115 |  s  ||  116 |  t  ||  117 |  u  ||  118 |  v  ||  119 |  w  |\n",
      "|  120 |  x  ||  121 |  y  ||  122 |  z  ||  123 |  {  ||  124 |  |  ||  125 |  }  ||  126 |  ~  ||  127 |    |\n",
      "|  128 |    ||  129 |    ||  130 |    ||  131 |    ||  132 |    ||  133 |    ||  134 |    ||  135 |    |\n",
      "|  136 |    ||  137 |    ||  138 |    ||  139 |    ||  140 |    ||  141 |    ||  142 |    ||  143 |    |\n",
      "|  144 |    ||  145 |    ||  146 |    ||  147 |    ||  148 |    ||  149 |    ||  150 |    ||  151 |    |\n",
      "|  152 |    ||  153 |    ||  154 |    ||  155 |    ||  156 |    ||  157 |    ||  158 |    ||  159 |    |\n",
      "|  160 |     ||  161 |  ¡  ||  162 |  ¢  ||  163 |  £  ||  164 |  ¤  ||  165 |  ¥  ||  166 |  ¦  ||  167 |  §  |\n",
      "|  168 |  ¨  ||  169 |  ©  ||  170 |  ª  ||  171 |  «  ||  172 |  ¬  ||  173 |  ­  ||  174 |  ®  ||  175 |  ¯  |\n",
      "|  176 |  °  ||  177 |  ±  ||  178 |  ²  ||  179 |  ³  ||  180 |  ´  ||  181 |  µ  ||  182 |  ¶  ||  183 |  ·  |\n",
      "|  184 |  ¸  ||  185 |  ¹  ||  186 |  º  ||  187 |  »  ||  188 |  ¼  ||  189 |  ½  ||  190 |  ¾  ||  191 |  ¿  |\n",
      "|  192 |  À  ||  193 |  Á  ||  194 |  Â  ||  195 |  Ã  ||  196 |  Ä  ||  197 |  Å  ||  198 |  Æ  ||  199 |  Ç  |\n",
      "|  200 |  È  ||  201 |  É  ||  202 |  Ê  ||  203 |  Ë  ||  204 |  Ì  ||  205 |  Í  ||  206 |  Î  ||  207 |  Ï  |\n",
      "|  208 |  Ð  ||  209 |  Ñ  ||  210 |  Ò  ||  211 |  Ó  ||  212 |  Ô  ||  213 |  Õ  ||  214 |  Ö  ||  215 |  ×  |\n",
      "|  216 |  Ø  ||  217 |  Ù  ||  218 |  Ú  ||  219 |  Û  ||  220 |  Ü  ||  221 |  Ý  ||  222 |  Þ  ||  223 |  ß  |\n",
      "|  224 |  à  ||  225 |  á  ||  226 |  â  ||  227 |  ã  ||  228 |  ä  ||  229 |  å  ||  230 |  æ  ||  231 |  ç  |\n",
      "|  232 |  è  ||  233 |  é  ||  234 |  ê  ||  235 |  ë  ||  236 |  ì  ||  237 |  í  ||  238 |  î  ||  239 |  ï  |\n",
      "|  240 |  ð  ||  241 |  ñ  ||  242 |  ò  ||  243 |  ó  ||  244 |  ô  ||  245 |  õ  ||  246 |  ö  ||  247 |  ÷  |\n",
      "|  248 |  ø  ||  249 |  ù  ||  250 |  ú  ||  251 |  û  ||  252 |  ü  ||  253 |  ý  ||  254 |  þ  ||  255 |  ÿ  |\n"
     ]
    }
   ],
   "source": [
    "#ASCII-Tabellen\n",
    "d={}\n",
    "for i in range(32,256):\n",
    "    d[i]=chr(i)\n",
    "\n",
    "for i in range(32, 249, 8):\n",
    "    for x in range(8):\n",
    "        print(f'| {(x+i):4} | {(d[i+x]):^3} ', end='|')\n",
    "    print()"
   ]
  }
 ],
 "metadata": {
  "kernelspec": {
   "display_name": "Python 3",
   "language": "python",
   "name": "python3"
  },
  "language_info": {
   "codemirror_mode": {
    "name": "ipython",
    "version": 3
   },
   "file_extension": ".py",
   "mimetype": "text/x-python",
   "name": "python",
   "nbconvert_exporter": "python",
   "pygments_lexer": "ipython3",
   "version": "3.12.6"
  },
  "nbTranslate": {
   "displayLangs": [
    "en",
    "de"
   ],
   "hotkey": "alt-t",
   "langInMainMenu": true,
   "sourceLang": "de",
   "targetLang": "en",
   "useGoogleTranslate": true
  }
 },
 "nbformat": 4,
 "nbformat_minor": 4
}
