{
 "cells": [
  {
   "cell_type": "markdown",
   "metadata": {},
   "source": [
    "# Alles über Strings\n",
    "\n",
    "- ein string (-objekt) ist eine Reihe von beliebeigen Charaktern.\n",
    "- Charakter (Zeichen): Buchstaben, Ziffer, Sonderzeichen ``($, !, #)``\n",
    "\n",
    "## Python Strings\n",
    "- schreibt man zwischen Anführungszeichen `` 'string' oder \"string\" ``\n",
    "- längere Strings kann man in dreifachen AZ schreiben: \n",
    "```python \n",
    "txt = \"\"\" Lorem ipsum dolor sit amet, consetetur sadipscing elitr, sed diam nonumy eirmod tempor invidunt ut labore et dolore magna aliquyam erat, sed diam voluptua. At vero eos et accusam et justo duo dolores et ea rebum. Stet clita kasd gubergren, no sea takimata sanctus est Lorem ipsum dolor sit amet. Lorem ipsum dolor sit amet, consetetur sadipscing elitr, sed diam nonumy eirmod tempor invidunt ut labore et dolore magna aliquyam erat, sed diam voluptua. At vero eos et accusam et justo duo dolores et ea rebum. Stet clita kasd gubergren, no sea takimata sanctus est Lorem ipsum dolor sit amet. \"\"\"\n",
    "```\n",
    "\n",
    "- sind geordnet und unveränderlich (immutable)"
   ]
  },
  {
   "cell_type": "markdown",
   "metadata": {},
   "source": [
    "## Strings aufspalten\n",
    "\n",
    "Python stellt uns verschiedene Methoden dazu zur Verfügung:\n",
    "\n",
    "- <code>string.split(sep='', ..)</code>\n",
    "- <code>string.rsplit(sep='', ..)</code>\n",
    "- <code>string.splitlines([keepends])</code>\n",
    "- <code>string.partition(sep)</code>\n",
    "- <code>string.rpartition(sep)</code>\n",
    "- <code>string.strip()</code>*\n",
    "\n",
    "---\n",
    "\\* nicht unbedingt zum aufspalten"
   ]
  },
  {
   "cell_type": "markdown",
   "metadata": {},
   "source": [
    "### <code>split()</code>"
   ]
  },
  {
   "cell_type": "code",
   "execution_count": 2,
   "metadata": {},
   "outputs": [
    {
     "name": "stdout",
     "output_type": "stream",
     "text": [
      "['Lorem', 'ipsum', 'dolor', 'sit', 'amet,', 'consetetur', 'sadipscing', 'elitr,', 'sed', 'diam', 'nonumy', 'eirmod', 'tempor', 'invidunt', 'ut', 'labore', 'et', 'dolore', 'magna', 'aliquyam', 'erat,', 'sed', 'diam', 'voluptua.']\n"
     ]
    }
   ],
   "source": [
    "sentence = \"Lorem ipsum dolor sit amet, consetetur sadipscing elitr, sed diam nonumy eirmod tempor invidunt ut labore et dolore magna aliquyam erat, sed diam voluptua.\"\n",
    "print(sentence.split())"
   ]
  },
  {
   "cell_type": "code",
   "execution_count": 4,
   "metadata": {},
   "outputs": [
    {
     "data": {
      "text/plain": [
       "list"
      ]
     },
     "execution_count": 4,
     "metadata": {},
     "output_type": "execute_result"
    }
   ],
   "source": [
    "words = sentence.split()\n",
    "type(words)"
   ]
  },
  {
   "cell_type": "markdown",
   "metadata": {},
   "source": [
    "Wieviele Wörter hat der Satz/Text?"
   ]
  },
  {
   "cell_type": "code",
   "execution_count": 5,
   "metadata": {},
   "outputs": [
    {
     "data": {
      "text/plain": [
       "24"
      ]
     },
     "execution_count": 5,
     "metadata": {},
     "output_type": "execute_result"
    }
   ],
   "source": [
    "len(words) # Wörter im Satz"
   ]
  },
  {
   "cell_type": "code",
   "execution_count": 6,
   "metadata": {},
   "outputs": [
    {
     "data": {
      "text/plain": [
       "155"
      ]
     },
     "execution_count": 6,
     "metadata": {},
     "output_type": "execute_result"
    }
   ],
   "source": [
    "len(sentence) # Charakter im Satz"
   ]
  },
  {
   "cell_type": "markdown",
   "metadata": {},
   "source": [
    "Manchmal müssen wir spezielle Strings behandeln. Beispielsweise wenn wir Tabelleneinträge als ``csv`` (Comma Seperated Values) bekommen, dann sieht ein Eintrag quasi so aus:\n",
    "\n",
    "```python\n",
    "rec = \"NASDAC;2021-02-11;NYC;1.0023\"\n",
    "```\n",
    "\n",
    "Wir wollen jetzt diesen String anhand ``;`` aufspalten:"
   ]
  },
  {
   "cell_type": "code",
   "execution_count": 15,
   "metadata": {},
   "outputs": [
    {
     "data": {
      "text/plain": [
       "['NASDAC', '2021-02-11', 'NYC', '1.0023']"
      ]
     },
     "execution_count": 15,
     "metadata": {},
     "output_type": "execute_result"
    }
   ],
   "source": [
    "rec = \"NASDAC;2021-02-11;NYC;1.0023\"\n",
    "rel = rec.split(';')\n",
    "rel"
   ]
  },
  {
   "cell_type": "markdown",
   "metadata": {},
   "source": [
    "## <code>strip()</code>"
   ]
  },
  {
   "cell_type": "code",
   "execution_count": 9,
   "metadata": {},
   "outputs": [
    {
     "data": {
      "text/plain": [
       "'      Lorem ipsum dolor sit amet.      '"
      ]
     },
     "execution_count": 9,
     "metadata": {},
     "output_type": "execute_result"
    }
   ],
   "source": [
    "var = \"      Lorem ipsum dolor sit amet.      \"\n",
    "var"
   ]
  },
  {
   "cell_type": "code",
   "execution_count": 8,
   "metadata": {},
   "outputs": [
    {
     "data": {
      "text/plain": [
       "'Lorem ipsum dolor sit amet.'"
      ]
     },
     "execution_count": 8,
     "metadata": {},
     "output_type": "execute_result"
    }
   ],
   "source": [
    "var.strip() # entfernt überflüssige Leerzeichen vom Anfang und Ende"
   ]
  },
  {
   "cell_type": "code",
   "execution_count": 12,
   "metadata": {},
   "outputs": [
    {
     "name": "stdout",
     "output_type": "stream",
     "text": [
      "      Lorem ipsum dolor sit amet.      \n",
      "Lorem ipsum dolor sit amet.     \n"
     ]
    }
   ],
   "source": [
    "var = \"      Lorem ipsum dolor sit amet.      \\nLorem ipsum dolor sit amet.     \"\n",
    "print(var)"
   ]
  },
  {
   "cell_type": "code",
   "execution_count": 13,
   "metadata": {},
   "outputs": [
    {
     "data": {
      "text/plain": [
       "'Lorem ipsum dolor sit amet.      \\nLorem ipsum dolor sit amet.'"
      ]
     },
     "execution_count": 13,
     "metadata": {},
     "output_type": "execute_result"
    }
   ],
   "source": [
    "var.strip()"
   ]
  },
  {
   "cell_type": "code",
   "execution_count": 14,
   "metadata": {},
   "outputs": [
    {
     "name": "stdout",
     "output_type": "stream",
     "text": [
      "      Lorem ipsum dolor sit amet.      \n",
      "Lorem ipsum dolor sit amet.     \n"
     ]
    }
   ],
   "source": [
    "print(var)"
   ]
  },
  {
   "cell_type": "markdown",
   "metadata": {},
   "source": [
    "**Achtung!** Alle Stringmethoden genereiren nur eine neue Sicht aus dem Stringobjekt. \n",
    "String bleibt selbst unveränderbar."
   ]
  },
  {
   "cell_type": "markdown",
   "metadata": {},
   "source": [
    "## Weitere Stringmethoden\n",
    "\n",
    "- <code>.lower()</code>\n",
    "- <code>.upper()</code>\n",
    "- <code>.capitalize()</code>"
   ]
  },
  {
   "cell_type": "code",
   "execution_count": 17,
   "metadata": {},
   "outputs": [],
   "source": [
    "name = 'PYTHON'"
   ]
  },
  {
   "cell_type": "code",
   "execution_count": 18,
   "metadata": {},
   "outputs": [
    {
     "data": {
      "text/plain": [
       "'python'"
      ]
     },
     "execution_count": 18,
     "metadata": {},
     "output_type": "execute_result"
    }
   ],
   "source": [
    "name.lower()"
   ]
  },
  {
   "cell_type": "code",
   "execution_count": 19,
   "metadata": {},
   "outputs": [
    {
     "data": {
      "text/plain": [
       "'PYTHON'"
      ]
     },
     "execution_count": 19,
     "metadata": {},
     "output_type": "execute_result"
    }
   ],
   "source": [
    "name"
   ]
  },
  {
   "cell_type": "code",
   "execution_count": 20,
   "metadata": {},
   "outputs": [],
   "source": [
    "name = 'python'"
   ]
  },
  {
   "cell_type": "code",
   "execution_count": 21,
   "metadata": {},
   "outputs": [
    {
     "data": {
      "text/plain": [
       "'PYTHON'"
      ]
     },
     "execution_count": 21,
     "metadata": {},
     "output_type": "execute_result"
    }
   ],
   "source": [
    "name.upper()"
   ]
  },
  {
   "cell_type": "code",
   "execution_count": 22,
   "metadata": {},
   "outputs": [
    {
     "data": {
      "text/plain": [
       "'Python'"
      ]
     },
     "execution_count": 22,
     "metadata": {},
     "output_type": "execute_result"
    }
   ],
   "source": [
    "name.capitalize()"
   ]
  },
  {
   "cell_type": "markdown",
   "metadata": {},
   "source": [
    "## Strings formatieren\n",
    "\n",
    "- Old Style (%d, %s, %f ..)\n",
    "- <code>.format()</code>\n",
    "- ``f`` Strings"
   ]
  },
  {
   "cell_type": "markdown",
   "metadata": {},
   "source": [
    "## Old Style\n",
    "\n",
    "- %d: digit (ganze Zahl)\n",
    "- %s: string (text)\n",
    "- %f: float (Kommazahl)"
   ]
  },
  {
   "cell_type": "code",
   "execution_count": 26,
   "metadata": {},
   "outputs": [
    {
     "name": "stdout",
     "output_type": "stream",
     "text": [
      "Die richtige Nummer ist 100\n",
      "Das Zauberwort ist Bitte\n",
      "Die Temperatur jetzt ist 1.55\n"
     ]
    }
   ],
   "source": [
    "num = 100\n",
    "print('Die richtige Nummer ist %d' %num)\n",
    "word = 'Bitte'\n",
    "print('Das Zauberwort ist %s' %word)\n",
    "temp = 1.55\n",
    "print('Die Temperatur jetzt ist %.2f' %temp)"
   ]
  },
  {
   "cell_type": "markdown",
   "metadata": {},
   "source": [
    "## <code>.format()</code>"
   ]
  },
  {
   "cell_type": "code",
   "execution_count": 29,
   "metadata": {},
   "outputs": [
    {
     "name": "stdout",
     "output_type": "stream",
     "text": [
      "Python wurde 1991 in Amstredam entwickelt.\n"
     ]
    }
   ],
   "source": [
    "name = 'Python'\n",
    "year = 1991\n",
    "sentence = '{} wurde {} in Amstredam entwickelt.'\n",
    "print(sentence.format(name, year))"
   ]
  },
  {
   "cell_type": "markdown",
   "metadata": {},
   "source": [
    "## ``f`` String"
   ]
  },
  {
   "cell_type": "code",
   "execution_count": 35,
   "metadata": {},
   "outputs": [
    {
     "name": "stdout",
     "output_type": "stream",
     "text": [
      "Python wurde 1991 in Amstredam entwickelt.\n"
     ]
    }
   ],
   "source": [
    "name = 'Python'\n",
    "year = 1991\n",
    "sentence = f'{name} wurde {year} in Amsterdam entwickelt.'\n",
    "print(sentence)"
   ]
  },
  {
   "cell_type": "markdown",
   "metadata": {},
   "source": [
    "Für weitere stringmethoden siehe [hier](https://www.w3schools.com/python/python_ref_string.asp)"
   ]
  },
  {
   "cell_type": "markdown",
   "metadata": {},
   "source": [
    "**Exercise**\n",
    "\n",
    "Schreibe ein Programm, welches in der Eingabe einen beliebigen Text einliest, und dann die Anzahl von Vokalen ``a, e, i, o, u`` im Text in der Ausgabe anzeigt."
   ]
  },
  {
   "cell_type": "code",
   "execution_count": 1,
   "metadata": {},
   "outputs": [
    {
     "name": "stdout",
     "output_type": "stream",
     "text": [
      "Die Anzahl der Vokale im Text ist: 57\n"
     ]
    }
   ],
   "source": [
    "# schreibe deinen Code hier\n",
    "# Eingabe des Textes\n",
    "text = input(\"Gib einen Text ein: \").lower()\n",
    "#text = '''An den String S werden links und rechts Füllzeichen bis zur Länge \"width\"\n",
    "#  so angefügt, dass der ursprüngliche String zentriert wird. Wird für das Füllzeichen\n",
    "#  \"fillchar\" kein Wert angegeben, wird als Standardwert ein Leerzeichen verwendet.\n",
    "# '''\n",
    "\n",
    "# Liste der Vokale\n",
    "vokale = \"aeiou\"\n",
    "\n",
    "# Zählen der Vokale\n",
    "anzahl_vokale = sum(1 for buchstabe in text if buchstabe in vokale)\n",
    "\n",
    "# Ausgabe der Anzahl der Vokale\n",
    "print(f\"Die Anzahl der Vokale im Text ist: {anzahl_vokale}\")\n"
   ]
  }
 ],
 "metadata": {
  "kernelspec": {
   "display_name": "Python 3",
   "language": "python",
   "name": "python3"
  },
  "language_info": {
   "codemirror_mode": {
    "name": "ipython",
    "version": 3
   },
   "file_extension": ".py",
   "mimetype": "text/x-python",
   "name": "python",
   "nbconvert_exporter": "python",
   "pygments_lexer": "ipython3",
   "version": "3.12.6"
  },
  "nbTranslate": {
   "displayLangs": [
    "en",
    "de"
   ],
   "hotkey": "alt-t",
   "langInMainMenu": true,
   "sourceLang": "de",
   "targetLang": "en",
   "useGoogleTranslate": true
  }
 },
 "nbformat": 4,
 "nbformat_minor": 4
}
