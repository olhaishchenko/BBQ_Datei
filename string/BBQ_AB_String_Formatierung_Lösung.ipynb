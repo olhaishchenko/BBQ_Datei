{
 "cells": [
  {
   "cell_type": "markdown",
   "metadata": {},
   "source": [
    "## **Übungsbeispiele zur String-Formatierung in Python** \n",
    "\n",
    "### Beispiel\n",
    "Du hast den Namen einer Person und das Jahr, in dem sie geboren wurde. Du möchtest einen Satz erstellen, der beides einbindet.\n",
    "\n",
    "```python\n",
    "name = \"Anna\"\n",
    "geburtsjahr = 1992\n",
    "\n",
    "satz = \"Hallo, mein Name ist {} und ich wurde im Jahr {} geboren.\".format(name, geburtsjahr)\n",
    "print(satz)\n",
    "```\n",
    "\n",
    "Dies würde ausgeben: `Hallo, mein Name ist Anna und ich wurde im Jahr 1992 geboren.`\n",
    "\n",
    "### Übungen zur String-Formatierung\n"
   ]
  },
  {
   "cell_type": "markdown",
   "metadata": {},
   "source": [
    "\n",
    "Du kannst diese Aufgaben lösen, indem du Python's Formatierungsfähigkeiten verwendest, wie die `.format()` Methode, f-Strings, die `%`-Syntax und einige eingebaute Funktionen wie `str.center()`. Viel Spaß beim Üben!"
   ]
  },
  {
   "cell_type": "markdown",
   "metadata": {},
   "source": [
    "#### Aufgabe 1\n",
    "Schreibe einen String, der die Methode `format()` verwendet, um die Variablen `stadt` und `land` in einen Satz einzufügen.\n",
    "\n",
    "```python\n",
    "stadt = \"Berlin\"\n",
    "land = \"Deutschland\"\n",
    "# Dein Code hier\n",
    "```"
   ]
  },
  {
   "cell_type": "code",
   "execution_count": 5,
   "metadata": {},
   "outputs": [
    {
     "name": "stdout",
     "output_type": "stream",
     "text": [
      "Berlin ist die schönste Stadt in Deutschland.\n",
      "Berlin ist die schönste Stadt in Deutschland.\n",
      "Berlin ist die schönste Stadt in Deutschland.\n"
     ]
    }
   ],
   "source": [
    "stadt = \"Berlin\"\n",
    "land = \"Deutschland\"\n",
    "print(\"{} ist die schönste Stadt in {}.\".format(stadt,land))\n",
    "print(\"{0} ist die schönste Stadt in {1}.\".format(stadt,land))\n",
    "print(\"{s} ist die schönste Stadt in {l}.\".format(l=land,s=stadt))"
   ]
  },
  {
   "cell_type": "markdown",
   "metadata": {},
   "source": [
    "#### Aufgabe 2\n",
    "Benutze f-Strings, um denselben Satz wie in Aufgabe 1 zu erstellen.\n",
    "\n",
    "```python\n",
    "stadt = \"Berlin\"\n",
    "land = \"Deutschland\"\n",
    "# Dein Code hier\n",
    "```"
   ]
  },
  {
   "cell_type": "code",
   "execution_count": 8,
   "metadata": {},
   "outputs": [
    {
     "name": "stdout",
     "output_type": "stream",
     "text": [
      "Berlin ist die schönste Stadt in Deutschland.\n"
     ]
    }
   ],
   "source": [
    "stadt = \"Berlin\"\n",
    "land = \"Deutschland\"\n",
    "print(f\"{stadt} ist die schönste Stadt in {land}.\")"
   ]
  },
  {
   "cell_type": "markdown",
   "metadata": {},
   "source": [
    "\n",
    "#### Aufgabe 3\n",
    "Formatiere die folgenden Zahlen innerhalb eines Strings auf zwei Dezimalstellen:\n",
    "\n",
    "```python\n",
    "zahl1 = 3.14159\n",
    "zahl2 = 2.71828\n",
    "# Dein Code hier\n",
    "```\n"
   ]
  },
  {
   "cell_type": "code",
   "execution_count": 9,
   "metadata": {},
   "outputs": [
    {
     "name": "stdout",
     "output_type": "stream",
     "text": [
      "zahl1 = 3.14,    zahl2 = 2.72\n"
     ]
    }
   ],
   "source": [
    "# Simon Ehlers\n",
    "zahl1 = 3.14159\n",
    "zahl2 = 2.71828\n",
    "string_3 = (f\"zahl1 = {zahl1:.2f},    zahl2 = {zahl2:.2f}\")\n",
    "print(string_3)"
   ]
  },
  {
   "cell_type": "code",
   "execution_count": 11,
   "metadata": {},
   "outputs": [
    {
     "name": "stdout",
     "output_type": "stream",
     "text": [
      "3.14,       2.72\n"
     ]
    }
   ],
   "source": [
    "# Patrick Golze\n",
    "print('%4.2f, %10.2f' % (3.14159, 2.71828))"
   ]
  },
  {
   "cell_type": "markdown",
   "metadata": {},
   "source": [
    "\n",
    "#### Aufgabe 4\n",
    "Erstelle einen String, der die Variable `temperatur` mit Vorzeichen (+/-) formatiert.\n",
    "\n",
    "```python\n",
    "temperatur = -5.11\n",
    "# Dein Code hier\n",
    "```\n"
   ]
  },
  {
   "cell_type": "code",
   "execution_count": 15,
   "metadata": {},
   "outputs": [
    {
     "name": "stdout",
     "output_type": "stream",
     "text": [
      "     +5.11\n"
     ]
    }
   ],
   "source": [
    "# Olena Ahina\n",
    "temperatur = 5.11\n",
    "print(\"%+10.2f\" % (temperatur))"
   ]
  },
  {
   "cell_type": "markdown",
   "metadata": {},
   "source": [
    "#### Aufgabe 5\n",
    "Fülle die untenstehenden Variablen in einen mehrzeiligen String mit Einrückungen ein.\n",
    "\n",
    "```python\n",
    "titel = \"Python Programmierung\"\n",
    "level = \"Anfänger\"\n",
    "dauer = \"4 Wochen\"\n",
    "# Dein Code hier\n",
    "```"
   ]
  },
  {
   "cell_type": "code",
   "execution_count": 17,
   "metadata": {},
   "outputs": [
    {
     "name": "stdout",
     "output_type": "stream",
     "text": [
      "         Python Programmierung\n",
      "            Anfänger\n",
      "            4 Wochen\n"
     ]
    }
   ],
   "source": [
    "# Christian Arias\n",
    "titel = \"Python Programmierung\"\n",
    "level = \"Anfänger\"\n",
    "dauer = \"4 Wochen\"\n",
    "print('{0:>30}\\n{1:>20}\\n{2:>20}'.format(titel,level,dauer))"
   ]
  },
  {
   "cell_type": "code",
   "execution_count": 20,
   "metadata": {},
   "outputs": [
    {
     "name": "stdout",
     "output_type": "stream",
     "text": [
      "\n",
      "          Titel = Python Programmierung\n",
      "Level = Anfänger\n",
      "    Dauer = 4 Wochen\n",
      "    \n"
     ]
    }
   ],
   "source": [
    "titel = \"Python Programmierung\"\n",
    "level = \"Anfänger\"\n",
    "dauer = \"4 Wochen\"\n",
    "mehr_zeiliger_string = f'''\n",
    "          Titel = {titel}\n",
    "Level = {level}\n",
    "    Dauer = {dauer}\n",
    "    '''\n",
    "print(mehr_zeiliger_string)"
   ]
  },
  {
   "cell_type": "code",
   "execution_count": 22,
   "metadata": {},
   "outputs": [
    {
     "name": "stdout",
     "output_type": "stream",
     "text": [
      "\n",
      "          Titel = Python Programmierung\n",
      "Level = Anfänger\n",
      "    Dauer = 4 Wochen\n",
      "    \n"
     ]
    }
   ],
   "source": [
    "titel = \"Python Programmierung\"\n",
    "level = \"Anfänger\"\n",
    "dauer = \"4 Wochen\"\n",
    "mehr_zeiliger_string = \"\"\"\n",
    "          Titel = {}\n",
    "Level = {}\n",
    "    Dauer = {}\n",
    "    \"\"\".format(titel, level, dauer)\n",
    "print(mehr_zeiliger_string)"
   ]
  },
  {
   "cell_type": "code",
   "execution_count": 23,
   "metadata": {},
   "outputs": [
    {
     "name": "stdout",
     "output_type": "stream",
     "text": [
      "\n",
      "    Titel: Python Programmierung\n",
      "    Level: Anfänger\n",
      "    Dauer: 4 Wochen\n",
      "\n"
     ]
    }
   ],
   "source": [
    "#Jacqueline Bogenberger \n",
    "titel = \"Python Programmierung\"\n",
    "level = \"Anfänger\"\n",
    "dauer = \"4 Wochen\"\n",
    " \n",
    "m_string = f\"\"\"\n",
    "    Titel: {titel}\n",
    "    Level: {level}\n",
    "    Dauer: {dauer}\n",
    "\"\"\"\n",
    "print(m_string)"
   ]
  },
  {
   "cell_type": "markdown",
   "metadata": {},
   "source": [
    "\n",
    "#### Aufgabe 6\n",
    "Verwende die alte `%`-Syntax, um die Variablen `vorname` und `nachname` in einen String einzubinden.\n",
    "\n",
    "```python\n",
    "vorname = \"Max\"\n",
    "nachname = \"Mustermann\"\n",
    "# Dein Code hier\n",
    "```\n"
   ]
  },
  {
   "cell_type": "code",
   "execution_count": 24,
   "metadata": {},
   "outputs": [
    {
     "name": "stdout",
     "output_type": "stream",
     "text": [
      "Max Mustermann\n"
     ]
    }
   ],
   "source": [
    "#Christian Arias\n",
    "vorname = \"Max\"\n",
    "nachname = \"Mustermann\"\n",
    "print('%s %s'%(vorname, nachname))\n",
    " "
   ]
  },
  {
   "cell_type": "markdown",
   "metadata": {},
   "source": [
    "#### Aufgabe 7\n",
    "Erstelle einen String, der ein Dictionary verwendet, um die Werte einzusetzen.\n",
    "\n",
    "```python\n",
    "person_info = {'name': 'Lisa', 'alter': 34}\n",
    "# Dein Code hier\n",
    "```"
   ]
  },
  {
   "cell_type": "code",
   "execution_count": 25,
   "metadata": {},
   "outputs": [
    {
     "name": "stdout",
     "output_type": "stream",
     "text": [
      "Lisa ist 34 alt \n"
     ]
    }
   ],
   "source": [
    "# Patrick Golze\n",
    "person_info = {'name': 'Lisa', 'alter': 34}\n",
    " \n",
    "print('{name} ist {alter} alt '.format(**person_info))"
   ]
  },
  {
   "cell_type": "code",
   "execution_count": 27,
   "metadata": {},
   "outputs": [
    {
     "name": "stdout",
     "output_type": "stream",
     "text": [
      "Lisa ist 34 alt \n"
     ]
    }
   ],
   "source": [
    "person_info = {'name': 'Lisa', 'alter': 34}\n",
    " \n",
    "# **person_info => (name='Lisa', alter=34)\n",
    "print('{name} ist {alter} alt '.format(name='Lisa', alter=34))"
   ]
  },
  {
   "cell_type": "code",
   "execution_count": 28,
   "metadata": {},
   "outputs": [
    {
     "name": "stdout",
     "output_type": "stream",
     "text": [
      "Lisa ist 34 alt\n"
     ]
    }
   ],
   "source": [
    "# Natalia Archipenko\n",
    "print(f'{person_info[\"name\"]} ist {person_info[\"alter\"]} alt')\n",
    " "
   ]
  },
  {
   "cell_type": "code",
   "execution_count": 29,
   "metadata": {},
   "outputs": [
    {
     "name": "stdout",
     "output_type": "stream",
     "text": [
      "Countries and their capitals:\n",
      "Vereinigte Staaten: Washington\n",
      "US: Washington\n",
      "Kanada: Ottawa\n",
      "Deutschland: Berlin\n",
      "Frankreich: Paris\n",
      "England: London\n"
     ]
    }
   ],
   "source": [
    "capital_country = {\"Vereinigte Staaten\" : \"Washington\",\n",
    "                   \"US\" : \"Washington\",\n",
    "                   \"Kanada\" : \"Ottawa\",\n",
    "                   \"Deutschland\": \"Berlin\",\n",
    "                   \"Frankreich\" : \"Paris\",\n",
    "                   \"England\" : \"London\"}\n",
    "print(\"Countries and their capitals:\")\n",
    "for c in capital_country:\n",
    "    format_string = c + \": {\" + c + \"}\"\n",
    "    print(format_string.format(**capital_country))"
   ]
  },
  {
   "cell_type": "code",
   "execution_count": 32,
   "metadata": {},
   "outputs": [
    {
     "name": "stdout",
     "output_type": "stream",
     "text": [
      "Lisa ist 34 alt \n"
     ]
    }
   ],
   "source": [
    "person_info = {'name': 'Lisa', 'alter': 34}\n",
    " \n",
    "# **person_info => (name='Lisa', alter=34)\n",
    "name = person_info['name']\n",
    "alter = person_info['alter']\n",
    "print(name + \" ist \" + str(alter) + \" alt \")"
   ]
  },
  {
   "cell_type": "markdown",
   "metadata": {},
   "source": [
    "#### Aufgabe 8\n",
    "Formatiere die folgenden Zahlen als Währung, wobei das Symbol für den Euro verwendet wird.\n",
    "\n",
    "```python\n",
    "preis1 = 49.99\n",
    "preis2 = 19.90\n",
    "# Dein Code hier\n",
    "```"
   ]
  },
  {
   "cell_type": "code",
   "execution_count": 35,
   "metadata": {},
   "outputs": [
    {
     "name": "stdout",
     "output_type": "stream",
     "text": [
      "49.99 DM\n",
      " 19.9 DM\n"
     ]
    }
   ],
   "source": [
    "# Patrick Golze\n",
    "preis1 = 49.99\n",
    "preis2 = 19.90\n",
    "waehrung = '€'\n",
    "print('{0} {2}\\n {1} {2}'.format(preis1,preis2,waehrung))"
   ]
  },
  {
   "cell_type": "markdown",
   "metadata": {},
   "source": [
    "#### Aufgabe 9\n",
    "Erstelle einen String, der dynamisch die Breite eines anderen Strings anpasst, sodass er immer in einem Feld von 20 Zeichen zentriert ist.\n",
    "\n",
    "```python\n",
    "benutzername = \"julia_schmidt\"\n",
    "# Dein Code hier\n",
    "```"
   ]
  },
  {
   "cell_type": "code",
   "execution_count": 36,
   "metadata": {},
   "outputs": [
    {
     "name": "stdout",
     "output_type": "stream",
     "text": [
      "|   julia_schmidt    |\n"
     ]
    }
   ],
   "source": [
    "#Jacqueline Bogenberger \n",
    "benutzername = \"julia_schmidt\"\n",
    "breite = 20\n",
    " \n",
    "z_benutzername = benutzername.center(breite)\n",
    "print(f\"|{z_benutzername}|\")"
   ]
  },
  {
   "cell_type": "code",
   "execution_count": 43,
   "metadata": {},
   "outputs": [
    {
     "name": "stdout",
     "output_type": "stream",
     "text": [
      "|   Julia Schmidt    |\n"
     ]
    }
   ],
   "source": [
    "name = \"Julia Schmidt\"\n",
    "print(f\"|{name:^20}|\")"
   ]
  },
  {
   "cell_type": "markdown",
   "metadata": {},
   "source": [
    "\n",
    "#### Aufgabe 10\n",
    "Erstelle eine Ausgabe in Tabellenform für Produktinformationen, die die Produktnamen, Stückzahlen und Preise in einer ausgerichteten Tabelle darstellt.\n",
    "\n",
    "```python\n",
    "produkte = [\n",
    "    {\"name\": \"Tastatur\", \"menge\": 14, \"preis\": 29.99},\n",
    "    {\"name\": \"Maus\", \"menge\": 33, \"preis\": 19.95},\n",
    "    {\"name\": \"Monitor\", \"menge\": 5, \"preis\": 89.99}\n",
    "]\n",
    "# Dein Code hier\n",
    "```\n"
   ]
  },
  {
   "cell_type": "code",
   "execution_count": 69,
   "metadata": {},
   "outputs": [
    {
     "name": "stdout",
     "output_type": "stream",
     "text": [
      "Produkt   |  Anzahl  |     Preis\n",
      "--------------------------------\n",
      "Tastatur  |    14    |     29.99\n",
      "Maus      |    33    |     19.95\n",
      "Monitor   |    5     |     89.99\n",
      "--------------------------------\n"
     ]
    }
   ],
   "source": [
    "produkte = [\n",
    "    {\"Produkt\": \"Tastatur\", \"Anzahl\": 14, \"Preis\": 29.99},\n",
    "    {\"Produkt\": \"Maus\", \"Anzahl\": 33, \"Preis\": 19.95},\n",
    "    {\"Produkt\": \"Monitor\", \"Anzahl\": 5, \"Preis\": 89.99}\n",
    "]\n",
    "\n",
    "column_names = list(produkte[0].keys())\n",
    "header = \"{0:<10}|{1:^10}|{2:>10}\".format(*column_names)\n",
    "print(header)\n",
    "print(\"-\"*32)\n",
    "\n",
    "zeilen_formatierung = \"{\"+column_names[0]+\":<10}|{\"+column_names[1]+\":^10}|{\"+column_names[2]+\":>10}\"\n",
    "\n",
    "# iteriere über alle Produkte\n",
    "for p in produkte:\n",
    "    # p[\"name\"], p[\"menge\"], p[\"preis\"]\n",
    "    print(zeilen_formatierung.format(**p)) # => name=\"Tastatur\", menge=14, preis=29.99\n",
    "\n",
    "print(\"-\"*32)\n"
   ]
  },
  {
   "cell_type": "code",
   "execution_count": 51,
   "metadata": {},
   "outputs": [
    {
     "name": "stdout",
     "output_type": "stream",
     "text": [
      "Produkt    Menge      Preis (€) \n",
      "------------------------------\n",
      "Tastatur   14         29.99     \n",
      "Maus       33         19.95     \n",
      "Monitor    5          89.99     \n"
     ]
    }
   ],
   "source": [
    "# Olha Ishchenko\n",
    "produkte = [\n",
    "    {\"name\": \"Tastatur\", \"menge\": 14, \"preis\": 29.99},\n",
    "    {\"name\": \"Maus\", \"menge\": 33, \"preis\": 19.95},\n",
    "    {\"name\": \"Monitor\", \"menge\": 5, \"preis\": 89.99}\n",
    "]\n",
    "print(f\"{'Produkt':<10} {'Menge':<10} {'Preis (€)':<10}\")\n",
    "print(\"-\" * 30)\n",
    "for produkt in produkte:\n",
    "    print(f\"{produkt['name']:<10} {produkt['menge']:<10} {produkt['preis']:<10.2f}\")"
   ]
  }
 ],
 "metadata": {
  "kernelspec": {
   "display_name": "Python 3",
   "language": "python",
   "name": "python3"
  },
  "language_info": {
   "codemirror_mode": {
    "name": "ipython",
    "version": 3
   },
   "file_extension": ".py",
   "mimetype": "text/x-python",
   "name": "python",
   "nbconvert_exporter": "python",
   "pygments_lexer": "ipython3",
   "version": "3.12.6"
  }
 },
 "nbformat": 4,
 "nbformat_minor": 2
}
