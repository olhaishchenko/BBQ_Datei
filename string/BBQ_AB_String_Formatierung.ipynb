{
 "cells": [
  {
   "cell_type": "markdown",
   "metadata": {},
   "source": [
    "## **Übungsbeispiele zur String-Formatierung in Python** \n",
    "\n",
    "### Beispiel\n",
    "Du hast den Namen einer Person und das Jahr, in dem sie geboren wurde. Du möchtest einen Satz erstellen, der beides einbindet.\n",
    "\n",
    "```python\n",
    "name = \"Anna\"\n",
    "geburtsjahr = 1992\n",
    "\n",
    "satz = \"Hallo, mein Name ist {} und ich wurde im Jahr {} geboren.\".format(name, geburtsjahr)\n",
    "print(satz)\n",
    "```\n",
    "\n",
    "Dies würde ausgeben: `Hallo, mein Name ist Anna und ich wurde im Jahr 1992 geboren.`\n",
    "\n",
    "### Übungen zur String-Formatierung\n"
   ]
  },
  {
   "cell_type": "markdown",
   "metadata": {},
   "source": [
    "\n",
    "Du kannst diese Aufgaben lösen, indem du Python's Formatierungsfähigkeiten verwendest, wie die `.format()` Methode, f-Strings, die `%`-Syntax und einige eingebaute Funktionen wie `str.center()`. Viel Spaß beim Üben!"
   ]
  },
  {
   "cell_type": "markdown",
   "metadata": {},
   "source": [
    "#### Aufgabe 1\n",
    "Schreibe einen String, der die Methode `format()` verwendet, um die Variablen `stadt` und `land` in einen Satz einzufügen.\n",
    "\n",
    "```python\n",
    "stadt = \"Berlin\"\n",
    "land = \"Deutschland\"\n",
    "# Dein Code hier\n",
    "```"
   ]
  },
  {
   "cell_type": "code",
   "execution_count": 2,
   "metadata": {},
   "outputs": [
    {
     "name": "stdout",
     "output_type": "stream",
     "text": [
      "Der Hauptstadt Deutschland ist Berlin\n"
     ]
    }
   ],
   "source": [
    "stadt = \"Berlin\"\n",
    "land = \"Deutschland\"\n",
    "satz = \"Der Hauptstadt {} ist {}\".format(land, stadt)\n",
    "print(satz)"
   ]
  },
  {
   "cell_type": "markdown",
   "metadata": {},
   "source": [
    "#### Aufgabe 2\n",
    "Benutze f-Strings, um denselben Satz wie in Aufgabe 1 zu erstellen.\n",
    "\n",
    "```python\n",
    "stadt = \"Berlin\"\n",
    "land = \"Deutschland\"\n",
    "# Dein Code hier\n",
    "```"
   ]
  },
  {
   "cell_type": "code",
   "execution_count": 3,
   "metadata": {},
   "outputs": [
    {
     "name": "stdout",
     "output_type": "stream",
     "text": [
      "Der Hauptstadt Deutschland ist Berlin.\n"
     ]
    }
   ],
   "source": [
    "stadt = \"Berlin\"\n",
    "land = \"Deutschland\"\n",
    "satz = f\"Der Hauptstadt von {land} ist {stadt}.\"\n",
    "print(satz)\n"
   ]
  },
  {
   "cell_type": "markdown",
   "metadata": {},
   "source": [
    "\n",
    "#### Aufgabe 3\n",
    "Formatiere die folgenden Zahlen innerhalb eines Strings auf zwei Dezimalstellen:\n",
    "\n",
    "```python\n",
    "zahl1 = 3.14159\n",
    "zahl2 = 2.71828\n",
    "# Dein Code hier\n",
    "```\n"
   ]
  },
  {
   "cell_type": "code",
   "execution_count": 4,
   "metadata": {},
   "outputs": [
    {
     "name": "stdout",
     "output_type": "stream",
     "text": [
      "3.14, 2.718\n"
     ]
    }
   ],
   "source": [
    "zahl1 = 3.14159\n",
    "zahl2 = 2.71828\n",
    "print(f\"{zahl1:.2f}, {zahl2:.3f}\")"
   ]
  },
  {
   "cell_type": "markdown",
   "metadata": {},
   "source": [
    "\n",
    "#### Aufgabe 4\n",
    "Erstelle einen String, der die Variable `temperatur` mit Vorzeichen (+/-) formatiert.\n",
    "\n",
    "```python\n",
    "temperatur = -5.11\n",
    "# Dein Code hier\n",
    "```\n"
   ]
  },
  {
   "cell_type": "code",
   "execution_count": 5,
   "metadata": {},
   "outputs": [
    {
     "name": "stdout",
     "output_type": "stream",
     "text": [
      "The temperature is between -5.11 and 7 degrees celsius.\n"
     ]
    }
   ],
   "source": [
    "temperatur = -5.11\n",
    "print(f\"The temperature is between {temperatur:-} and {7:-} degrees celsius.\")"
   ]
  },
  {
   "cell_type": "markdown",
   "metadata": {},
   "source": [
    "#### Aufgabe 5\n",
    "Fülle die untenstehenden Variablen in einen mehrzeiligen String mit Einrückungen ein.\n",
    "\n",
    "```python\n",
    "titel = \"Python Programmierung\"\n",
    "level = \"Anfänger\"\n",
    "dauer = \"4 Wochen\"\n",
    "# Dein Code hier\n",
    "```"
   ]
  },
  {
   "cell_type": "code",
   "execution_count": 8,
   "metadata": {},
   "outputs": [
    {
     "name": "stdout",
     "output_type": "stream",
     "text": [
      "Python Programmierung\n",
      "\tAnfänger\n",
      "\t\t4 Wochen\n"
     ]
    }
   ],
   "source": [
    "titel = \"Python Programmierung\"\n",
    "level = \"Anfänger\"\n",
    "dauer = \"4 Wochen\"\n",
    "print(f\"{titel}\\n\\t{level}\\n\\t\\t{dauer}\")\n"
   ]
  },
  {
   "cell_type": "markdown",
   "metadata": {},
   "source": [
    "\n",
    "#### Aufgabe 6\n",
    "Verwende die alte `%`-Syntax, um die Variablen `vorname` und `nachname` in einen String einzubinden.\n",
    "\n",
    "```python\n",
    "vorname = \"Max\"\n",
    "nachname = \"Mustermann\"\n",
    "# Dein Code hier\n",
    "```\n"
   ]
  },
  {
   "cell_type": "code",
   "execution_count": 9,
   "metadata": {},
   "outputs": [
    {
     "name": "stdout",
     "output_type": "stream",
     "text": [
      "Der Name ist Max, der Vorname ist Mustermann\n"
     ]
    }
   ],
   "source": [
    "vorname = \"Max\"\n",
    "nachname = \"Mustermann\"\n",
    "print(\"Der Name ist %s, der Vorname ist %s\"%(vorname, nachname))"
   ]
  },
  {
   "cell_type": "markdown",
   "metadata": {},
   "source": [
    "#### Aufgabe 7\n",
    "Erstelle einen String, der ein Dictionary verwendet, um die Werte einzusetzen.\n",
    "\n",
    "```python\n",
    "person_info = {'name': 'Lisa', 'alter': 34}\n",
    "# Dein Code hier\n",
    "```"
   ]
  },
  {
   "cell_type": "code",
   "execution_count": 11,
   "metadata": {},
   "outputs": [
    {
     "name": "stdout",
     "output_type": "stream",
     "text": [
      "Der Name ist Lisa. Lisa ist 34 Jahre alt.\n"
     ]
    }
   ],
   "source": [
    "person_info = {'name': 'Lisa', 'alter': 34}\n",
    "\n",
    "print(\"Der Name ist {name}. {name} ist {alter} Jahre alt.\".format(**person_info))"
   ]
  },
  {
   "cell_type": "code",
   "execution_count": 3,
   "metadata": {},
   "outputs": [
    {
     "name": "stdout",
     "output_type": "stream",
     "text": [
      "Countries and their capitals:\n",
      "Vereinigte Staaten: Washington\n",
      "US: Washington\n",
      "Kanada: Ottawa\n",
      "Deutschland: Berlin\n",
      "Frankreich: Paris\n",
      "England: London\n"
     ]
    }
   ],
   "source": [
    "capital_country = {\"Vereinigte Staaten\" : \"Washington\",\n",
    "                   \"US\" : \"Washington\",\n",
    "                   \"Kanada\" : \"Ottawa\",\n",
    "                   \"Deutschland\": \"Berlin\",\n",
    "                   \"Frankreich\" : \"Paris\",\n",
    "                   \"England\" : \"London\"}\n",
    "print(\"Countries and their capitals:\")\n",
    "for c in capital_country:\n",
    "    format_string = c + \": {\" + c + \"}\"\n",
    "    print(format_string.format(**capital_country))"
   ]
  },
  {
   "cell_type": "markdown",
   "metadata": {},
   "source": [
    "#### Aufgabe 8\n",
    "Formatiere die folgenden Zahlen als Währung, wobei das Symbol für den Euro verwendet wird.\n",
    "\n",
    "```python\n",
    "preis1 = 49.99\n",
    "preis2 = 19.90\n",
    "# Dein Code hier\n",
    "```"
   ]
  },
  {
   "cell_type": "code",
   "execution_count": 25,
   "metadata": {},
   "outputs": [
    {
     "name": "stdout",
     "output_type": "stream",
     "text": [
      "Preis 1: 49.99 €\n",
      "Preis 2: 19.90 €\n"
     ]
    }
   ],
   "source": [
    "preis1 = 49.99\n",
    "preis2 = 19.90\n",
    "print(f\"Preis 1: {preis1:.2f} €\")\n",
    "print(f\"Preis 2: {preis2:.2f} €\")\n"
   ]
  },
  {
   "cell_type": "markdown",
   "metadata": {},
   "source": [
    "#### Aufgabe 9\n",
    "Erstelle einen String, der dynamisch die Breite eines anderen Strings anpasst, sodass er immer in einem Feld von 20 Zeichen zentriert ist.\n",
    "\n",
    "```python\n",
    "benutzername = \"julia_schmidt\"\n",
    "# Dein Code hier\n",
    "```"
   ]
  },
  {
   "cell_type": "code",
   "execution_count": 24,
   "metadata": {},
   "outputs": [
    {
     "name": "stdout",
     "output_type": "stream",
     "text": [
      "|   julia_schmidt    |\n"
     ]
    }
   ],
   "source": [
    "benutzername = \"julia_schmidt\"\n",
    "zentrierter_benutzername = benutzername.center(20)\n",
    "\n",
    "print(f\"|{zentrierter_benutzername}|\")  # Die \"|\" Zeichen helfen zu sehen, wo der String endet"
   ]
  },
  {
   "cell_type": "markdown",
   "metadata": {},
   "source": [
    "\n",
    "#### Aufgabe 10\n",
    "Erstelle eine Ausgabe in Tabellenform für Produktinformationen, die die Produktnamen, Stückzahlen und Preise in einer ausgerichteten Tabelle darstellt.\n",
    "\n",
    "```python\n",
    "produkte = [\n",
    "    {\"name\": \"Tastatur\", \"menge\": 14, \"preis\": 29.99},\n",
    "    {\"name\": \"Maus\", \"menge\": 33, \"preis\": 19.95},\n",
    "    {\"name\": \"Monitor\", \"menge\": 5, \"preis\": 89.99}\n",
    "]\n",
    "# Dein Code hier\n",
    "```\n"
   ]
  },
  {
   "cell_type": "code",
   "execution_count": 23,
   "metadata": {},
   "outputs": [
    {
     "name": "stdout",
     "output_type": "stream",
     "text": [
      "Produkt    Menge      Preis (€) \n",
      "------------------------------\n",
      "Tastatur   14         29.99     \n",
      "Maus       33         19.95     \n",
      "Monitor    5          89.99     \n"
     ]
    }
   ],
   "source": [
    "produkte = [\n",
    "    {\"name\": \"Tastatur\", \"menge\": 14, \"preis\": 29.99},\n",
    "    {\"name\": \"Maus\", \"menge\": 33, \"preis\": 19.95},\n",
    "    {\"name\": \"Monitor\", \"menge\": 5, \"preis\": 89.99}\n",
    "]\n",
    "print(f\"{'Produkt':<10} {'Menge':<10} {'Preis (€)':<10}\")\n",
    "print(\"-\" * 30)\n",
    "for produkt in produkte:\n",
    "    print(f\"{produkt['name']:<10} {produkt['menge']:<10} {produkt['preis']:<10.2f}\")"
   ]
  },
  {
   "cell_type": "code",
   "execution_count": 4,
   "metadata": {},
   "outputs": [
    {
     "name": "stdout",
     "output_type": "stream",
     "text": [
      "| Produkt  |  Menge   |  Preis   |\n",
      "----------------------------------\n",
      "|Tastatur  |    14    | 29.99  € |\n",
      "|Maus      |    33    | 19.95  € |\n",
      "|Monitor   |    5     | 89.99  € |\n"
     ]
    }
   ],
   "source": [
    "produkte = [\n",
    "    {\"name\": \"Tastatur\", \"menge\": 14, \"preis\": 29.99},\n",
    "    {\"name\": \"Maus\", \"menge\": 33, \"preis\": 19.95},\n",
    "    {\"name\": \"Monitor\", \"menge\": 5, \"preis\": 89.99}\n",
    "]\n",
    "print(f\"|{'Produkt':^10}|{'Menge':^10}|{'Preis':^10}|\")\n",
    "print(\"-\"*34)\n",
    "for produkt in produkte:\n",
    "    name = produkt['name']\n",
    "    menge = produkt['menge']\n",
    "    preis = produkt['preis']\n",
    "    print(f\"|{name:<10}|{menge:^10}|{preis:^8}€ |\")"
   ]
  },
  {
   "cell_type": "code",
   "execution_count": 1,
   "metadata": {},
   "outputs": [
    {
     "name": "stdout",
     "output_type": "stream",
     "text": [
      "Produkt   |  Anzahl  |     Preis\n",
      "--------------------------------\n",
      "Tastatur  |    14    |     29.99\n",
      "Maus      |    33    |     19.95\n",
      "Monitor   |    5     |     89.99\n",
      "--------------------------------\n"
     ]
    }
   ],
   "source": [
    "comp_produkte = [\n",
    "    {\"Produkt\": \"Tastatur\", \"Anzahl\": 14, \"Preis\": 29.99},\n",
    "    {\"Produkt\": \"Maus\", \"Anzahl\": 33, \"Preis\": 19.95},\n",
    "    {\"Produkt\": \"Monitor\", \"Anzahl\": 5, \"Preis\": 89.99}\n",
    "]\n",
    "def tabelle_ausgebe(produkte):\n",
    "    column_names = list(produkte[0].keys())\n",
    "    header = \"{0:<10}|{1:^10}|{2:>10}\".format(*column_names)\n",
    "    print(header)\n",
    "    print(\"-\"*32)\n",
    "\n",
    "    zeilen_formatierung = \"{\"+column_names[0]+\":<10}|{\"+column_names[1]+\":^10}|{\"+column_names[2]+\":>10}\"\n",
    "\n",
    "        # iteriere über alle Produkte\n",
    "    for p in produkte:\n",
    "        # p[\"name\"], p[\"menge\"], p[\"preis\"]\n",
    "        print(zeilen_formatierung.format(**p)) # => name=\"Tastatur\", menge=14, preis=29.99\n",
    "\n",
    "    print(\"-\"*32)\n",
    "tabelle_ausgebe(comp_produkte)"
   ]
  }
 ],
 "metadata": {
  "kernelspec": {
   "display_name": "Python 3",
   "language": "python",
   "name": "python3"
  },
  "language_info": {
   "codemirror_mode": {
    "name": "ipython",
    "version": 3
   },
   "file_extension": ".py",
   "mimetype": "text/x-python",
   "name": "python",
   "nbconvert_exporter": "python",
   "pygments_lexer": "ipython3",
   "version": "3.12.6"
  }
 },
 "nbformat": 4,
 "nbformat_minor": 2
}
