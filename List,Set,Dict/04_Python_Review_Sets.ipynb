{
 "cells": [
  {
   "cell_type": "markdown",
   "id": "9852ab65",
   "metadata": {},
   "source": [
    "# Python Sequenztypen\n",
    "\n",
    "## Sets\n",
    "\n",
    "Wie wird ein Set erzeugt, definiert ?"
   ]
  },
  {
   "cell_type": "code",
   "execution_count": 2,
   "id": "4aa04c49",
   "metadata": {},
   "outputs": [
    {
     "data": {
      "text/plain": [
       "set"
      ]
     },
     "execution_count": 2,
     "metadata": {},
     "output_type": "execute_result"
    }
   ],
   "source": [
    "s = {1,2,3}\n",
    "type(s)"
   ]
  },
  {
   "cell_type": "markdown",
   "id": "7e6f60c0",
   "metadata": {},
   "source": [
    "### Sets sind mathematisch einfach Mengen\n",
    "\n",
    "#### Mengenoperation:\n",
    "\n",
    "1. Intersection - Schnittmenge\n",
    "2. Conjunction - Union - Vereinigungsmenge\n",
    "3.  ? - Differenzmenge"
   ]
  },
  {
   "cell_type": "code",
   "execution_count": 3,
   "id": "3d8c1d42",
   "metadata": {},
   "outputs": [
    {
     "name": "stdout",
     "output_type": "stream",
     "text": [
      "{2, 3}\n"
     ]
    }
   ],
   "source": [
    "# Schnittmenge\n",
    "t = {2,3,4,5}\n",
    "\n",
    "sm = s & t    # element ist in s und in t\n",
    "\n",
    "print(sm)"
   ]
  },
  {
   "cell_type": "code",
   "execution_count": 4,
   "id": "cef497ee",
   "metadata": {},
   "outputs": [
    {
     "name": "stdout",
     "output_type": "stream",
     "text": [
      "{1, 2, 3, 4, 5}\n"
     ]
    }
   ],
   "source": [
    "# Vereinigungsmenge\n",
    "vm = s | t    # element ist entweder in s oder in t oder in beiden Mengen\n",
    "\n",
    "print(vm)"
   ]
  },
  {
   "cell_type": "code",
   "execution_count": 6,
   "id": "5e5300e6",
   "metadata": {},
   "outputs": [
    {
     "name": "stdout",
     "output_type": "stream",
     "text": [
      "{1, 4, 5}\n"
     ]
    }
   ],
   "source": [
    "# Differenzmenge\n",
    "dm = s ^ t    # Element ist entweder nur in s oder nur in t (exklusiv-oder)\n",
    "\n",
    "print(dm)"
   ]
  },
  {
   "cell_type": "code",
   "execution_count": 1,
   "id": "37eab37e",
   "metadata": {},
   "outputs": [
    {
     "name": "stdout",
     "output_type": "stream",
     "text": [
      "{'f', 'b', 'c', 'a', 'h', 'e', 'g', 'd'}\n",
      "{'f', 'b', 'c', 'a', 'h', 'e', 'g', 'd'}\n",
      "2797320145824\n",
      "2797320146496\n"
     ]
    }
   ],
   "source": [
    "# Übung\n",
    "\n",
    "a = {'a', 'b','e','g'}\n",
    "b = {'b', 'c','f','h'}\n",
    "\n",
    "# h = {'a', 'b', 'c', 'd', 'e', 'f', 'g', 'h'} , mit a und b bestimmen:\n",
    "h = a | {'d'} | b\n",
    "\n",
    "z = set(sorted(h))\n",
    "\n",
    "print(h)\n",
    "print(z)\n",
    "\n",
    "print(id(h))\n",
    "print(id(z))\n",
    "\n",
    "# sets sind mutable, set sind ungeordnet, nicht sortierbar"
   ]
  },
  {
   "cell_type": "code",
   "execution_count": 21,
   "id": "40bd3735",
   "metadata": {},
   "outputs": [],
   "source": [
    "# sets haben keinen Index\n",
    "# das geht nicht : z[0]"
   ]
  },
  {
   "cell_type": "code",
   "execution_count": 2,
   "id": "e9969870",
   "metadata": {},
   "outputs": [
    {
     "name": "stdout",
     "output_type": "stream",
     "text": [
      "{'b', 'c', 'a', 'h', 'e', 'g', 'd'}\n"
     ]
    }
   ],
   "source": [
    "#Löschen eines Elementes\n",
    "z.discard('f')\n",
    "print(z)"
   ]
  },
  {
   "cell_type": "code",
   "execution_count": 3,
   "id": "96a54a6e",
   "metadata": {},
   "outputs": [
    {
     "name": "stdout",
     "output_type": "stream",
     "text": [
      "{'f', 'b', 'c', 'a', 'h', 'e', 'g', 'd'}\n"
     ]
    }
   ],
   "source": [
    "# Hinzufügen eines Elementes zum Set\n",
    "z.add('f')\n",
    "# alternativ :z |= {'f'}\n",
    "\n",
    "print(z)\n",
    "\n",
    "# Merke, ein Element kann beliebig oft mit add() \"hinzugefügt\" werden. \n",
    "# Allerdings kommt jedes Element nur einmal in einer Menge vor!"
   ]
  },
  {
   "cell_type": "code",
   "execution_count": 6,
   "id": "0df10803",
   "metadata": {},
   "outputs": [
    {
     "name": "stdout",
     "output_type": "stream",
     "text": [
      "['B', 'r', 'l', 'b', 'a', '(', 'h', 't', 'W', 'v', 'u', 'c', 'T', 'k', 'i', 's', 'm', '?', 'n', 'e', 'x', ' ', 'Z', 'o', ')', 'd']\n",
      "[1, 9, 0, 0, 0, 0, 0, 0, 0, 0, 0, 0, 0, 0, 0, 0, 0, 0, 0, 0, 0, 0, 0, 0, 0, 0]\n"
     ]
    }
   ],
   "source": [
    "# Aufgabe :\n",
    "# Welche Buchstaben kommen in einem Text vor?   \n",
    "text = 'Welche Buchstaben (Zeichen) kommen in diesem Text vor ?'\n",
    "zeichen_im_text = set(text)\n",
    "\n",
    "# Und wie oft kommen diese jeweils im Text vor ?\n",
    "# Lösubng über zwei Listen\n",
    "z_l = list(zeichen_im_text)\n",
    "n_l = [0 for c in z_l]\n",
    "\n",
    "# Wie oft kommt 'v' im Text vor ?\n",
    "# Merke den Index 'v' in z_l: 0\n",
    "# => Welches Element in n_l gehört zu 'v' ? n_L[0]\n",
    "n_l[0] = n_l[0] + 1\n",
    "\n",
    "# Wie oft kommt 'e' im Text vor ?\n",
    "# Merke den Index 'e' in z_l: 1\n",
    "# => Welches Element in d_l gehört zu 'e' ? n_l[1]\n",
    "n_l[1] = n_l[1] + 1\n",
    "n_l[1] = n_l[1] + 1\n",
    "n_l[1] = n_l[1] + 1\n",
    "n_l[1] = n_l[1] + 1\n",
    "n_l[1] = n_l[1] + 1\n",
    "n_l[1] = n_l[1] + 1\n",
    "n_l[1] = n_l[1] + 1\n",
    "n_l[1] = n_l[1] + 1\n",
    "n_l[1] = n_l[1] + 1\n",
    "\n",
    "\n",
    "print(z_l)\n",
    "print(n_l)"
   ]
  },
  {
   "cell_type": "code",
   "execution_count": 5,
   "id": "9e666ba6",
   "metadata": {},
   "outputs": [
    {
     "name": "stdout",
     "output_type": "stream",
     "text": [
      "B 1\n",
      "r 1\n",
      "l 1\n",
      "b 1\n",
      "a 1\n",
      "( 1\n",
      "h 3\n",
      "t 2\n",
      "W 1\n",
      "v 1\n",
      "u 1\n",
      "c 3\n",
      "T 1\n",
      "k 1\n",
      "i 3\n",
      "s 2\n",
      "m 3\n",
      "? 1\n",
      "n 4\n",
      "e 9\n",
      "x 1\n",
      "  8\n",
      "Z 1\n",
      "o 2\n",
      ") 1\n",
      "d 1\n"
     ]
    }
   ],
   "source": [
    "# Aufgabe :\n",
    "# Welche Buchstaben kommen in einem Text vor?   \n",
    "text = 'Welche Buchstaben (Zeichen) kommen in diesem Text vor ?'\n",
    "zeichen_im_text = set(text)\n",
    "\n",
    "# Und wie oft kommen diese jeweils im Text vor ?\n",
    "# Lösung über zwei Listen\n",
    "z_l = list(zeichen_im_text)\n",
    "n_l = [0 for _ in z_l]\n",
    "\n",
    "index = 0\n",
    "for z in z_l:\n",
    "    for t in text:\n",
    "        if z == t:\n",
    "            # Anzahl\n",
    "            n_l[index] += 1\n",
    "\n",
    "    index += 1\n",
    "\n",
    "for i in range(0, len(z_l)):\n",
    "    print(z_l[i] , n_l[i])"
   ]
  },
  {
   "cell_type": "code",
   "execution_count": 35,
   "id": "d47eb55b",
   "metadata": {},
   "outputs": [
    {
     "name": "stdout",
     "output_type": "stream",
     "text": [
      "v 1\n",
      "e 9\n",
      "m 3\n",
      "x 1\n",
      "u 1\n",
      "c 3\n",
      "T 1\n",
      "r 1\n",
      "( 1\n",
      "l 1\n",
      "B 1\n",
      "i 3\n",
      "n 4\n",
      "b 1\n",
      ") 1\n",
      "a 1\n",
      "t 2\n",
      "h 3\n",
      "  8\n",
      "d 1\n",
      "? 1\n",
      "s 2\n",
      "o 2\n",
      "k 1\n",
      "W 1\n",
      "Z 1\n"
     ]
    }
   ],
   "source": [
    "# Aufgabe :\n",
    "# Welche Buchstaben kommen in einem Text vor?   \n",
    "text = 'Welche Buchstaben (Zeichen) kommen in diesem Text vor ?'\n",
    "zeichen_im_text = set(text)\n",
    "\n",
    "# Und wie oft kommen diese jeweils im Text vor ?\n",
    "# Lösung über zwei Listen\n",
    "z_l = list(zeichen_im_text)\n",
    "n_l = [0 for _ in z_l]\n",
    "\n",
    "# innere Schleife zum Zählen der Vorkommnisse des jeweiligen Zeichens \n",
    "'''\n",
    "    for t in text:\n",
    "        if z == t:\n",
    "            # Anzahl\n",
    "            n_l[index] += 1\n",
    "'''\n",
    "# Wird ersetzt durch\n",
    "'''\n",
    "    n_l[index] = text.count(z)\n",
    "'''\n",
    "\n",
    "index = 0\n",
    "for z in z_l:\n",
    "    n_l[index] = text.count(z)\n",
    "\n",
    "    index += 1\n",
    "\n",
    "for i in range(0, len(z_l)):\n",
    "    print(z_l[i] , n_l[i])"
   ]
  },
  {
   "cell_type": "code",
   "execution_count": 36,
   "id": "8d070ea6",
   "metadata": {},
   "outputs": [
    {
     "name": "stdout",
     "output_type": "stream",
     "text": [
      "v 1\n",
      "e 9\n",
      "m 3\n",
      "x 1\n",
      "u 1\n",
      "c 3\n",
      "T 1\n",
      "r 1\n",
      "( 1\n",
      "l 1\n",
      "B 1\n",
      "i 3\n",
      "n 4\n",
      "b 1\n",
      ") 1\n",
      "a 1\n",
      "t 2\n",
      "h 3\n",
      "  8\n",
      "d 1\n",
      "? 1\n",
      "s 2\n",
      "o 2\n",
      "k 1\n",
      "W 1\n",
      "Z 1\n"
     ]
    }
   ],
   "source": [
    "# Aufgabe :\n",
    "# Welche Buchstaben kommen in einem Text vor?   \n",
    "text = 'Welche Buchstaben (Zeichen) kommen in diesem Text vor ?'\n",
    "zeichen_im_text = set(text)\n",
    "\n",
    "# Und wie oft kommen diese jeweils im Text vor ?\n",
    "# Lösung über zwei Listen\n",
    "z_l = list(zeichen_im_text)\n",
    "\n",
    "# Schleife zum Bestimmen der Anzahl der Vorkommnisse des jeweiligen Zeichens\n",
    "'''\n",
    "index = 0\n",
    "for z in z_l:\n",
    "    n_l[index] = text.count(z)\n",
    "\n",
    "    index += 1\n",
    "'''\n",
    "# wurde in die List-Comprehension übernommen\n",
    "n_l = [text.count(z) for z in z_l]\n",
    "\n",
    "for i in range(0, len(z_l)):\n",
    "    print(z_l[i] , n_l[i])"
   ]
  }
 ],
 "metadata": {
  "hide_input": false,
  "kernelspec": {
   "display_name": "Python 3 (ipykernel)",
   "language": "python",
   "name": "python3"
  },
  "language_info": {
   "codemirror_mode": {
    "name": "ipython",
    "version": 3
   },
   "file_extension": ".py",
   "mimetype": "text/x-python",
   "name": "python",
   "nbconvert_exporter": "python",
   "pygments_lexer": "ipython3",
   "version": "3.12.6"
  }
 },
 "nbformat": 4,
 "nbformat_minor": 5
}
