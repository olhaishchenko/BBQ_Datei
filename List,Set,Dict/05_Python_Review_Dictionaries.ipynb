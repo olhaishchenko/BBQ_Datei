{
 "cells": [
  {
   "cell_type": "markdown",
   "id": "d24efa9c",
   "metadata": {},
   "source": [
    "# Python Assoziativer Datenspeicher\n",
    "\n",
    "- Schlüssel-/Wertepaare\n",
    "- Daten (Werte) werden über den Schlüssel referenziert (identifiziert)\n",
    "\n",
    "In Python gibt es den Datentyp dict für Dictionary"
   ]
  },
  {
   "cell_type": "code",
   "execution_count": 1,
   "id": "19d4f25a",
   "metadata": {},
   "outputs": [
    {
     "name": "stdout",
     "output_type": "stream",
     "text": [
      "<class 'dict'>\n"
     ]
    }
   ],
   "source": [
    "# Ereugen eine Dictionary\n",
    "d = dict()\n",
    "\n",
    "print(type(d))"
   ]
  },
  {
   "cell_type": "code",
   "execution_count": 2,
   "id": "378b23e3",
   "metadata": {},
   "outputs": [
    {
     "name": "stdout",
     "output_type": "stream",
     "text": [
      "{'wer bin ich?': 'I am, what i am ...', 'wer bist Du ?': 'Ich bin ich, nicht Du ...'}\n"
     ]
    }
   ],
   "source": [
    "d['wer bin ich?'] = \"I am, what i am ...\"\n",
    "d['wer bist Du ?']  = \"Ich bin ich, nicht Du ...\"\n",
    "\n",
    "print(d)"
   ]
  },
  {
   "cell_type": "code",
   "execution_count": 3,
   "id": "0486bd93",
   "metadata": {},
   "outputs": [
    {
     "name": "stdout",
     "output_type": "stream",
     "text": [
      "{'wer bin ich?': 'I am, what i am ...', 'wer bist Du ?': 'Ich bin ich, nicht Du ...'}\n"
     ]
    }
   ],
   "source": [
    "# das ist äquivalent\n",
    "d = { 'wer bin ich?': 'I am, what i am ...',\n",
    "      'wer bist Du ?': 'Ich bin ich, nicht Du ...'\n",
    "    }\n",
    "print(d)"
   ]
  },
  {
   "cell_type": "code",
   "execution_count": 4,
   "id": "c1ebb3a8",
   "metadata": {},
   "outputs": [
    {
     "name": "stdout",
     "output_type": "stream",
     "text": [
      "<class 'dict_keys'>\n",
      "wer bin ich?\n",
      "wer bist Du ?\n"
     ]
    }
   ],
   "source": [
    "# Liste der Schlüssel ?\n",
    "s_l = d.keys()\n",
    "\n",
    "print(type(s_l))\n",
    "for k in s_l:\n",
    "    print(k)"
   ]
  },
  {
   "cell_type": "code",
   "execution_count": 5,
   "id": "17fdd95e",
   "metadata": {},
   "outputs": [
    {
     "name": "stdout",
     "output_type": "stream",
     "text": [
      "<class 'dict_values'>\n",
      "I am, what i am ...\n",
      "Ich bin ich, nicht Du ...\n"
     ]
    }
   ],
   "source": [
    "# Liste der Werte ?\n",
    "w_l = d.values()\n",
    "\n",
    "print(type(w_l))\n",
    "for v in w_l:\n",
    "    print(v)"
   ]
  },
  {
   "cell_type": "code",
   "execution_count": 21,
   "id": "90113ef6",
   "metadata": {},
   "outputs": [
    {
     "name": "stdout",
     "output_type": "stream",
     "text": [
      "('wer bin ich?', 'I am, what i am ...')\n",
      "('wer bist Du ?', 'Ich bin ich, nicht Du ...')\n",
      "wer bin ich? I am, what i am ...\n",
      "wer bist Du ? Ich bin ich, nicht Du ...\n",
      "wer bin ich? I am, what i am ...\n",
      "wer bist Du ? Ich bin ich, nicht Du ...\n"
     ]
    }
   ],
   "source": [
    "# Über ein Dictionary iterieren\n",
    "\n",
    "for item in d.items():\n",
    "    print(item)\n",
    "    \n",
    "for item in d.items():\n",
    "    print(item[0], item[1])\n",
    "    \n",
    "for k,v in d.items():\n",
    "    print(k, v)"
   ]
  },
  {
   "cell_type": "code",
   "execution_count": 28,
   "id": "5b94f77f",
   "metadata": {},
   "outputs": [
    {
     "name": "stdout",
     "output_type": "stream",
     "text": [
      "{'wer bin ich?': 'I am, what i am ...', 'wer bist Du ?': 'Ich bin ich, nicht Du ...', 'weiterer Schlüssel': 'dazu ein weiterer Wert geändert'}\n"
     ]
    }
   ],
   "source": [
    "# Hinzufügen von Einträgen, welche Methode ?\n",
    "# ab Python 3.6 sind dictionaries geordnet\n",
    "\n",
    "# Falls Schlüssel noch nicht vorhanden ist, wird ein neuer Eintrag (Schlüssel-/Wertepaar) erstellt.\n",
    "# Falls Schlüssek bereits vorhanden sit, wird der zugeordnete Wert durch den neuen Wert ersetzt.\n",
    "d.update({'weiterer Schlüssel': 'dazu ein weiterer Wert geändert'})\n",
    "print(d)"
   ]
  },
  {
   "cell_type": "code",
   "execution_count": 29,
   "id": "891c5b85",
   "metadata": {},
   "outputs": [
    {
     "name": "stdout",
     "output_type": "stream",
     "text": [
      "{'wer bist Du ?': 'Ich bin ich, nicht Du ...', 'weiterer Schlüssel': 'dazu ein weiterer Wert geändert'}\n"
     ]
    }
   ],
   "source": [
    "# Löschen von Einträgen ?\n",
    "del d['wer bin ich?']\n",
    "\n",
    "print(d)"
   ]
  },
  {
   "cell_type": "code",
   "execution_count": 6,
   "id": "9d135398",
   "metadata": {},
   "outputs": [
    {
     "name": "stdout",
     "output_type": "stream",
     "text": [
      "t 2\n",
      "( 1\n",
      "v 1\n",
      "d 1\n",
      "e 9\n",
      "o 2\n",
      "u 1\n",
      "B 1\n",
      "s 2\n",
      "x 1\n",
      "i 3\n",
      "c 3\n",
      "T 1\n",
      "Z 1\n",
      "? 1\n",
      "n 4\n",
      "r 1\n",
      "a 1\n",
      "  8\n",
      "b 1\n",
      "W 1\n",
      "l 1\n",
      "k 1\n",
      "h 3\n",
      "m 3\n",
      ") 1\n"
     ]
    }
   ],
   "source": [
    "# Aufgabe :\n",
    "# Welche Buchstaben kommen in einem Text vor?   \n",
    "text = 'Welche Buchstaben (Zeichen) kommen in diesem Text vor ?'\n",
    "zeichen_im_text = set(text)\n",
    "\n",
    "# Und wie oft kommen diese jeweils im Text vor ?\n",
    "# Lösung über zwei Listen\n",
    "z_l = list(zeichen_im_text)\n",
    "n_l = [text.count(z) for z in z_l]\n",
    "\n",
    "d = zip(z_l, n_l)\n",
    "\n",
    "for k,v in d:\n",
    "    print(k ,v)"
   ]
  },
  {
   "cell_type": "code",
   "execution_count": 34,
   "id": "4d94018a",
   "metadata": {},
   "outputs": [
    {
     "name": "stdout",
     "output_type": "stream",
     "text": [
      "x 1\n",
      ") 1\n",
      "l 1\n",
      "v 1\n",
      "? 1\n",
      "u 1\n",
      "Z 1\n",
      "s 2\n",
      "a 1\n",
      "n 4\n",
      "i 3\n",
      "T 1\n",
      "o 2\n",
      "m 3\n",
      "( 1\n",
      "B 1\n",
      "W 1\n",
      "r 1\n",
      "c 3\n",
      "b 1\n",
      "t 2\n",
      "e 9\n",
      "d 1\n",
      "h 3\n",
      "k 1\n",
      "  8\n"
     ]
    }
   ],
   "source": [
    "# Aufgabe :\n",
    "# Welche Buchstaben kommen in einem Text vor?   \n",
    "text = 'Welche Buchstaben (Zeichen) kommen in diesem Text vor ?'\n",
    "zeichen_im_text = set(text)\n",
    "\n",
    "# Und wie oft kommen diese jeweils im Text vor ?\n",
    "# Lösung über zwei Listen\n",
    "z_l = list(zeichen_im_text)\n",
    "n_l = [text.count(z) for z in z_l]\n",
    "\n",
    "d = {k:v for (k,v) in zip(z_l, n_l)}\n",
    "\n",
    "for k,v in d.items():\n",
    "    print(k ,v)"
   ]
  },
  {
   "cell_type": "code",
   "execution_count": 36,
   "id": "0b7d1885",
   "metadata": {},
   "outputs": [
    {
     "name": "stdout",
     "output_type": "stream",
     "text": [
      "x 1\n",
      ") 1\n",
      "l 1\n",
      "v 1\n",
      "? 1\n",
      "u 1\n",
      "Z 1\n",
      "s 2\n",
      "a 1\n",
      "n 4\n",
      "i 3\n",
      "T 1\n",
      "o 2\n",
      "m 3\n",
      "( 1\n",
      "B 1\n",
      "W 1\n",
      "r 1\n",
      "c 3\n",
      "b 1\n",
      "t 2\n",
      "e 9\n",
      "d 1\n",
      "h 3\n",
      "k 1\n",
      "  8\n"
     ]
    }
   ],
   "source": [
    "# Aufgabe :\n",
    "# Welche Buchstaben kommen in einem Text vor?   \n",
    "text = 'Welche Buchstaben (Zeichen) kommen in diesem Text vor ?'\n",
    "zeichen_im_text = set(text)\n",
    "\n",
    "# Und wie oft kommen diese jeweils im Text vor ?\n",
    "# Lösung über zwei Listen\n",
    "z_l = list(zeichen_im_text)\n",
    "# n_l = [text.count(z) for z in z_l]\n",
    "\n",
    "d = {k:text.count(k) for k in z_l}\n",
    "\n",
    "# d = {k:v for (k,v) in zip(z_l, n_l)}\n",
    "\n",
    "for k,v in d.items():\n",
    "    print(k ,v)"
   ]
  },
  {
   "cell_type": "code",
   "execution_count": 37,
   "id": "5c5652eb",
   "metadata": {},
   "outputs": [
    {
     "name": "stdout",
     "output_type": "stream",
     "text": [
      "x 1\n",
      ") 1\n",
      "l 1\n",
      "v 1\n",
      "? 1\n",
      "u 1\n",
      "Z 1\n",
      "s 2\n",
      "a 1\n",
      "n 4\n",
      "i 3\n",
      "T 1\n",
      "o 2\n",
      "m 3\n",
      "( 1\n",
      "B 1\n",
      "W 1\n",
      "r 1\n",
      "c 3\n",
      "b 1\n",
      "t 2\n",
      "e 9\n",
      "d 1\n",
      "h 3\n",
      "k 1\n",
      "  8\n"
     ]
    }
   ],
   "source": [
    "# Aufgabe :\n",
    "# Welche Buchstaben kommen in einem Text vor?   \n",
    "text = 'Welche Buchstaben (Zeichen) kommen in diesem Text vor ?'\n",
    "\n",
    "# Und wie oft kommen diese jeweils im Text vor ?\n",
    "# Lösung über zwei Listen\n",
    "\n",
    "d = {k:text.count(k) for k in list(set(text))}\n",
    "\n",
    "for k,v in d.items():\n",
    "    print(k ,v)"
   ]
  }
 ],
 "metadata": {
  "hide_input": false,
  "kernelspec": {
   "display_name": "Python 3 (ipykernel)",
   "language": "python",
   "name": "python3"
  },
  "language_info": {
   "codemirror_mode": {
    "name": "ipython",
    "version": 3
   },
   "file_extension": ".py",
   "mimetype": "text/x-python",
   "name": "python",
   "nbconvert_exporter": "python",
   "pygments_lexer": "ipython3",
   "version": "3.12.6"
  }
 },
 "nbformat": 4,
 "nbformat_minor": 5
}
