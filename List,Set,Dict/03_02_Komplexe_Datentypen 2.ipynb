{
 "cells": [
  {
   "cell_type": "markdown",
   "id": "bfb226f6",
   "metadata": {},
   "source": [
    "# Python Review : Komplexe Datentypen\n",
    "\n",
    "- Listen\n",
    "- Tuple\n",
    "- Sets\n",
    "- Dictionaries\n",
    "\n",
    "- Ausblick auf \"Stacks\" und \"Queues\""
   ]
  },
  {
   "cell_type": "markdown",
   "id": "58f5ded3",
   "metadata": {},
   "source": [
    "## 1. Listen in Python\n",
    "\n",
    "1. beliebige Objekte können in einer Liste verwaltet werden\n",
    "2. Listenelemente können über ein Index angesprochen werden\n",
    "3. Listen veränderbar, mutable\n",
    "4. Slicing von Listen\n",
    "5. List-Comprehension : kompakte Erstellung einer Liste\n"
   ]
  },
  {
   "cell_type": "markdown",
   "id": "a725144e",
   "metadata": {},
   "source": [
    "### 1.1 Objekte in Listen"
   ]
  },
  {
   "cell_type": "code",
   "execution_count": 1,
   "id": "abc6fe13",
   "metadata": {},
   "outputs": [],
   "source": [
    "an_emplty_list = []\n",
    "\n",
    "a_list = [1, 'hello', an_emplty_list]\n",
    "\n",
    "array = list() # über Konstruktor\n",
    "array.append(1)\n",
    "array.append(2)\n",
    "array.append(3)\n",
    "array.append(4)\n",
    "array.append(5) "
   ]
  },
  {
   "cell_type": "markdown",
   "id": "5cfe8fda",
   "metadata": {},
   "source": [
    "### 1.2 Listen über Index ansprechen"
   ]
  },
  {
   "cell_type": "code",
   "execution_count": 2,
   "id": "ee62ea8e",
   "metadata": {},
   "outputs": [
    {
     "name": "stdout",
     "output_type": "stream",
     "text": [
      "1\n",
      "5\n",
      "3\n",
      "5\n",
      "1\n"
     ]
    },
    {
     "ename": "IndexError",
     "evalue": "list index out of range",
     "output_type": "error",
     "traceback": [
      "\u001b[1;31m---------------------------------------------------------------------------\u001b[0m",
      "\u001b[1;31mIndexError\u001b[0m                                Traceback (most recent call last)",
      "\u001b[1;32m~\\AppData\\Local\\Temp/ipykernel_20780/1827092850.py\u001b[0m in \u001b[0;36m<module>\u001b[1;34m\u001b[0m\n\u001b[0;32m      8\u001b[0m \u001b[0mprint\u001b[0m\u001b[1;33m(\u001b[0m\u001b[0marray\u001b[0m\u001b[1;33m[\u001b[0m\u001b[1;33m-\u001b[0m\u001b[1;36m5\u001b[0m\u001b[1;33m]\u001b[0m\u001b[1;33m)\u001b[0m \u001b[1;31m# das erste Element, ist bei 5 Elemente das 5. Element von hinten , also 1\u001b[0m\u001b[1;33m\u001b[0m\u001b[1;33m\u001b[0m\u001b[0m\n\u001b[0;32m      9\u001b[0m \u001b[1;33m\u001b[0m\u001b[0m\n\u001b[1;32m---> 10\u001b[1;33m \u001b[0mprint\u001b[0m\u001b[1;33m(\u001b[0m\u001b[0marray\u001b[0m\u001b[1;33m[\u001b[0m\u001b[1;33m-\u001b[0m\u001b[1;36m6\u001b[0m\u001b[1;33m]\u001b[0m\u001b[1;33m)\u001b[0m \u001b[1;31m# Out of Range\u001b[0m\u001b[1;33m\u001b[0m\u001b[1;33m\u001b[0m\u001b[0m\n\u001b[0m\u001b[0;32m     11\u001b[0m \u001b[1;33m\u001b[0m\u001b[0m\n\u001b[0;32m     12\u001b[0m \u001b[0mprint\u001b[0m\u001b[1;33m(\u001b[0m\u001b[0marray\u001b[0m\u001b[1;33m[\u001b[0m\u001b[1;36m5\u001b[0m\u001b[1;33m]\u001b[0m\u001b[1;33m)\u001b[0m \u001b[1;31m# Out of Range\u001b[0m\u001b[1;33m\u001b[0m\u001b[1;33m\u001b[0m\u001b[0m\n",
      "\u001b[1;31mIndexError\u001b[0m: list index out of range"
     ]
    }
   ],
   "source": [
    "#Adressieren über den Index, der bei 0 beginnt\n",
    "print(array[0]) # 1\n",
    "print(array[4]) # 5\n",
    "print(array[2]) # 3\n",
    "\n",
    "print(array[-1]) # das letzte Element => 5\n",
    "\n",
    "print(array[-5]) # das erste Element, ist bei 5 Elemente das 5. Element von hinten , also 1\n",
    "\n",
    "print(array[-6]) # Out of Range\n",
    "\n",
    "print(array[5]) # Out of Range"
   ]
  },
  {
   "cell_type": "markdown",
   "id": "c0221e04",
   "metadata": {},
   "source": [
    "### 1.3 Listen sind mutable"
   ]
  },
  {
   "cell_type": "code",
   "execution_count": null,
   "id": "c7f6f9ed",
   "metadata": {},
   "outputs": [],
   "source": [
    "array[3] = 'verändert ;)'\n",
    "print(array)"
   ]
  },
  {
   "cell_type": "markdown",
   "id": "f63eacbb",
   "metadata": {},
   "source": [
    "### 1.4 Listen-Slicing"
   ]
  },
  {
   "cell_type": "code",
   "execution_count": null,
   "id": "b948dd4a",
   "metadata": {},
   "outputs": [],
   "source": [
    "# \"Zerteilen / Zerstückeln von Listen\"\n",
    "print(array[0:5:1])\n",
    "print(array[1:3:1]) # [2,3]\n",
    "print(array[1:5:2]) # jedes 2. Element\n",
    "print(array[1::2]) # äquivalent zur Zeile davor\n",
    "print(array[-1::-1]) # Liste rückwärts ?\n",
    "print(array[::-1]) # äquivalent zur Zeile davor\n",
    "array[0::2] = [7, 4, 1] # statt der 1 eine 7 , statt der 3 eine 4, statt der 5 eine 1\n",
    "print(array)\n",
    "# Liste kopieren ?\n",
    "cp_list = array[::]\n",
    "print(id(array), id(cp_list))\n",
    "array[0] = 11111\n",
    "print(array)\n",
    "print(cp_list)\n"
   ]
  },
  {
   "cell_type": "markdown",
   "id": "fbc54c7b",
   "metadata": {},
   "source": [
    "### 1.5 List-Comprehension"
   ]
  },
  {
   "cell_type": "code",
   "execution_count": null,
   "id": "6b3d18b5",
   "metadata": {},
   "outputs": [],
   "source": [
    "a_l = []\n",
    "for i in range(1,101):\n",
    "    a_l.append(i)\n",
    "    \n",
    "print(a_l)"
   ]
  },
  {
   "cell_type": "code",
   "execution_count": null,
   "id": "2d61b840",
   "metadata": {},
   "outputs": [],
   "source": [
    "b_l = [i for i in range(1,101)]\n",
    "print(b_l)"
   ]
  },
  {
   "cell_type": "code",
   "execution_count": null,
   "id": "7ee79b48",
   "metadata": {},
   "outputs": [],
   "source": [
    "c_l = [i*2 for i in range(1, 101)]\n",
    "print(c_l)"
   ]
  },
  {
   "cell_type": "code",
   "execution_count": null,
   "id": "8a03fcda",
   "metadata": {},
   "outputs": [],
   "source": [
    "# nur jede 2. Zahl:\n",
    "d_l = [i*7 for i in range(1,101,2)]\n",
    "print(d_l)"
   ]
  },
  {
   "cell_type": "code",
   "execution_count": null,
   "id": "040cd336",
   "metadata": {},
   "outputs": [],
   "source": [
    "e_l = ['a'*i for i in range(1,10)]\n",
    "print(e_l)"
   ]
  },
  {
   "cell_type": "code",
   "execution_count": null,
   "id": "25a0a68c",
   "metadata": {},
   "outputs": [],
   "source": [
    "def mache_b_string(n):\n",
    "    return 'b'*n\n",
    "\n",
    "f_l = [mache_b_string(i) for i in range(1,10)]\n",
    "print(f_l)"
   ]
  },
  {
   "cell_type": "code",
   "execution_count": null,
   "id": "909755e3",
   "metadata": {},
   "outputs": [],
   "source": [
    "# filtern\n",
    "\n",
    "from random import randint\n",
    "\n",
    "g_l = [i for i in range(1,10) if i%2==0]\n",
    "print(g_l)\n",
    "\n",
    "# alternative\n",
    "g_l = []\n",
    "for i in range(1,10):\n",
    "    if i%2==0:\n",
    "       g_l.append(i)\n",
    "    \n",
    "print(g_l)\n",
    "\n",
    "g_l = [randint(1,i) for i in range(1,10) if i%2==0]\n",
    "print(g_l)\n",
    "\n",
    "# alternative\n",
    "g_l = []\n",
    "for i in range(1,10):\n",
    "    if i%2==0:\n",
    "       g_l.append(randint(1,i))\n",
    "print(g_l)"
   ]
  },
  {
   "cell_type": "code",
   "execution_count": null,
   "id": "8a526e19",
   "metadata": {},
   "outputs": [],
   "source": [
    "# Für alle geraden i soll eine Zufallszahl im Bereich 1 bis i berechnet werden. \n",
    "# Die Zufallszahl wird in die Liste aufgenommen, \n",
    "# wenn es eine ungerade Zahl ist.\n",
    "\"\"\"\n",
    "h_l = []\n",
    "for i in range(1,10):\n",
    "    if i%2==0:\n",
    "        r = randint(1,i)\n",
    "        if r%2==1:\n",
    "            h_l.append(r)\n",
    "\n",
    "h_l = []\n",
    "for i in range(1,10):\n",
    "    if i%2==0:\n",
    "        r = randint(1,i)\n",
    "        h_l.append(r)\n",
    "        \n",
    "j_l = []\n",
    "for r in h_l:\n",
    "    if r%2==1:\n",
    "        j_l.append(r)\n",
    "\"\"\"\n",
    "\n",
    "\"\"\"\n",
    "h_l = [randint(1,i) for i in range(1,10) if i%2==0]\n",
    "        \n",
    "j_l = [r for r in h_l if r%2==1]\n",
    "\"\"\"\n",
    "\n",
    "j_l = [r for r in [randint(1,i) for i in range(1,10) if i%2==0] if r%2==1]\n",
    "\n",
    "print(j_l)"
   ]
  },
  {
   "cell_type": "code",
   "execution_count": null,
   "id": "560f6521",
   "metadata": {},
   "outputs": [],
   "source": [
    "# Stanislaw # Diese Lösung ist etwas anders als die Original-Lösung\n",
    "\n",
    "j_l = [r for i in range(1,10) if i%2==0 for r in range(randint(1, i)) if r%2==1]\n",
    "print(j_l)"
   ]
  },
  {
   "cell_type": "code",
   "execution_count": null,
   "id": "68897582",
   "metadata": {},
   "outputs": [],
   "source": [
    "# Stanislaw # Diese Lösung ist etwas anders als die Original-Lösung\n",
    "\n",
    "j_l = [r for i in range(1,10) if i%2==0 for r in range(randint(1, i)) if r%2==1]\n",
    "print(j_l)"
   ]
  }
 ],
 "metadata": {
  "hide_input": false,
  "kernelspec": {
   "display_name": "Python 3 (ipykernel)",
   "language": "python",
   "name": "python3"
  },
  "language_info": {
   "codemirror_mode": {
    "name": "ipython",
    "version": 3
   },
   "file_extension": ".py",
   "mimetype": "text/x-python",
   "name": "python",
   "nbconvert_exporter": "python",
   "pygments_lexer": "ipython3",
   "version": "3.10.0"
  }
 },
 "nbformat": 4,
 "nbformat_minor": 5
}
