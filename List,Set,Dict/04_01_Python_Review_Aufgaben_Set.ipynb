{
 "cells": [
  {
   "cell_type": "markdown",
   "metadata": {},
   "source": [
    "1. Write a Python program to create a set.\n",
    "[Click me to see the sample solution](https://www.w3resource.com/python-exercises/sets/python-sets-exercise-1.php)\n"
   ]
  },
  {
   "cell_type": "code",
   "execution_count": 1,
   "metadata": {},
   "outputs": [
    {
     "name": "stdout",
     "output_type": "stream",
     "text": [
      "{'i', 'P', 'o', 'y', 'W', 'r', 'e', ' ', 'n', 'c', 'a', 's', 't', 'h', '.', 'g', 'm', 'p'}\n"
     ]
    }
   ],
   "source": [
    "# hier bitte ihre Lösung erstellen\n",
    "a = set()\n",
    "b = set(\"Write a Python program to create a set.\")\n",
    "print(b)"
   ]
  },
  {
   "cell_type": "markdown",
   "metadata": {},
   "source": [
    "\n",
    "2. Write a Python program to iterate over sets.<br/>\n",
    "[Click me to see the sample solution](https://www.w3resource.com/python-exercises/sets/python-sets-exercise-2.php)\n"
   ]
  },
  {
   "cell_type": "code",
   "execution_count": 4,
   "metadata": {},
   "outputs": [
    {
     "name": "stdout",
     "output_type": "stream",
     "text": [
      "i 1\n",
      "P 1\n",
      "o 3\n",
      "y 1\n",
      "W 1\n",
      "r 4\n",
      "e 4\n",
      "  7\n",
      "n 1\n",
      "c 1\n",
      "a 4\n",
      "s 1\n",
      "t 5\n",
      "h 1\n",
      ". 1\n",
      "g 1\n",
      "m 1\n",
      "p 1\n"
     ]
    }
   ],
   "source": [
    "# hier bitte ihre Lösung erstellen#\n",
    "text = \"Write a Python program to create a set.\"\n",
    "s_l = list(b)\n",
    "n_l = [text.count(c) for c in s_l]\n",
    "for i in range(0, len(s_l)):\n",
    "    print(s_l[i], n_l[i])"
   ]
  },
  {
   "cell_type": "markdown",
   "metadata": {},
   "source": [
    "\n",
    "3. Write a Python program to add member(s) to a set.\n",
    "[Click me to see the sample solutio](https://www.w3resource.com/python-exercises/sets/python-sets-exercise-3.php)\n"
   ]
  },
  {
   "cell_type": "code",
   "execution_count": 30,
   "metadata": {},
   "outputs": [
    {
     "name": "stdout",
     "output_type": "stream",
     "text": [
      "{'f', 'fl', 'l'}\n"
     ]
    }
   ],
   "source": [
    "# hier bitte ihre Lösung erstellen\n",
    "a.add('l')\n",
    "a.add('f')\n",
    "a.add('fl')\n",
    "print(a)"
   ]
  },
  {
   "cell_type": "markdown",
   "metadata": {},
   "source": [
    "\n",
    "4. Write a Python program to remove item(s) from a given set.\n",
    "[Click me to see the sample solution](https://www.w3resource.com/python-exercises/sets/python-sets-exercise-4.php)\n"
   ]
  },
  {
   "cell_type": "code",
   "execution_count": 31,
   "metadata": {},
   "outputs": [
    {
     "name": "stdout",
     "output_type": "stream",
     "text": [
      "{'fl', 'l'}\n",
      "f\n"
     ]
    }
   ],
   "source": [
    "# hier bitte ihre Lösung erstellen\n",
    "b = a.pop() #erste element, aber was es ist?\n",
    "a.discard('f')\n",
    "print(a)\n",
    "print(b)"
   ]
  },
  {
   "cell_type": "markdown",
   "metadata": {},
   "source": [
    "\n",
    "5. Write a Python program to remove an item from a set if it is present in the set.\n",
    "[Click me to see the sample solution](https://www.w3resource.com/python-exercises/sets/python-sets-exercise-5.php)\n"
   ]
  },
  {
   "cell_type": "code",
   "execution_count": null,
   "metadata": {},
   "outputs": [],
   "source": [
    "# hier bitte ihre Lösung erstellen\n"
   ]
  },
  {
   "cell_type": "markdown",
   "metadata": {},
   "source": [
    "\n",
    "6. Write a Python program to create an intersection of sets.\n",
    "[Click me to see the sample solution](https://www.w3resource.com/python-exercises/sets/python-sets-exercise-6.php)\n"
   ]
  },
  {
   "cell_type": "code",
   "execution_count": 19,
   "metadata": {},
   "outputs": [
    {
     "name": "stdout",
     "output_type": "stream",
     "text": [
      "{3, 6}\n"
     ]
    }
   ],
   "source": [
    "# hier bitte ihre Lösung erstellen\n",
    "# Schnittmenge\n",
    "s_1 = {1, 2, 3, 4, 6, 7}\n",
    "s_2 = {3, 5, 6, 8, 9, 10}\n",
    "result = s_1 & s_2\n",
    "print(result)"
   ]
  },
  {
   "cell_type": "markdown",
   "metadata": {},
   "source": [
    "\n",
    "7. Write a Python program to create a union of sets.\n",
    "[Click me to see the sample solution](https://www.w3resource.com/python-exercises/sets/python-sets-exercise-7.php)\n"
   ]
  },
  {
   "cell_type": "code",
   "execution_count": 16,
   "metadata": {},
   "outputs": [
    {
     "name": "stdout",
     "output_type": "stream",
     "text": [
      "{1, 2, 3, 4, 5, 6, 7, 8, 9, 10}\n"
     ]
    }
   ],
   "source": [
    "# hier bitte ihre Lösung erstellen\n",
    "# Vereinigungsmenge\n",
    "s_1 = {1, 2, 3, 4, 6, 7}\n",
    "s_2 = {3, 5, 6, 8, 9, 10}\n",
    "result = s_1 | s_2\n",
    "print(result)"
   ]
  },
  {
   "cell_type": "markdown",
   "metadata": {},
   "source": [
    "\n",
    "8. Write a Python program to create set difference.\n",
    "[Click me to see the sample solution](https://www.w3resource.com/python-exercises/sets/python-sets-exercise-8.php)\n"
   ]
  },
  {
   "cell_type": "code",
   "execution_count": 18,
   "metadata": {},
   "outputs": [
    {
     "name": "stdout",
     "output_type": "stream",
     "text": [
      "{1, 2, 4, 7}\n"
     ]
    }
   ],
   "source": [
    "# hier bitte ihre Lösung erstellen\n",
    "# Differenzmenge\n",
    "s_1 = {1, 2, 3, 4, 6, 7}\n",
    "s_2 = {3, 5, 6, 8, 9, 10}\n",
    "result = s_1 - s_2\n",
    "print(result)"
   ]
  },
  {
   "cell_type": "markdown",
   "metadata": {},
   "source": [
    "\n",
    "9. Write a Python program to create a symmetric difference.\n",
    "[Click me to see the sample solution](https://www.w3resource.com/python-exercises/sets/python-sets-exercise-9.php)\n"
   ]
  },
  {
   "cell_type": "code",
   "execution_count": 20,
   "metadata": {},
   "outputs": [
    {
     "name": "stdout",
     "output_type": "stream",
     "text": [
      "{1, 2, 4, 5, 7, 8, 9, 10}\n"
     ]
    }
   ],
   "source": [
    "# hier bitte ihre Lösung erstellen\n",
    "# Differenzmenge\n",
    "s_1 = {1, 2, 3, 4, 6, 7}\n",
    "s_2 = {3, 5, 6, 8, 9, 10}\n",
    "result = s_1 ^ s_2\n",
    "print(result)"
   ]
  },
  {
   "cell_type": "markdown",
   "metadata": {},
   "source": [
    "\n",
    "10. Write a Python program to check if a set is a subset of another set.\n",
    "[Click me to see the sample solution](https://www.w3resource.com/python-exercises/sets/python-sets-exercise-10.php)\n"
   ]
  },
  {
   "cell_type": "code",
   "execution_count": 47,
   "metadata": {},
   "outputs": [
    {
     "name": "stdout",
     "output_type": "stream",
     "text": [
      "True\n",
      "True\n",
      "True\n",
      "False\n",
      "result2 {1, 2, 4, 7}\n",
      "result1 {1, 2, 4, 5, 7, 8, 9, 10}\n",
      "True\n"
     ]
    }
   ],
   "source": [
    "# hier bitte ihre Lösung erstellen\n",
    "s_1 = {1, 2, 3, 4, 6, 7}\n",
    "s_2 = {3, 5, 6, 8, 9, 10}\n",
    "result1 = s_1 ^ s_2\n",
    "result2 = s_1 - s_2\n",
    "result3 = s_1 | s_2\n",
    "result4 = s_1 & s_2\n",
    "print(result1.issubset(result3))\n",
    "print(result2.issubset(result3))\n",
    "print(result4.issubset(result3))\n",
    "print(result3.issubset(result4))\n",
    "print('result2', result2)\n",
    "print('result1', result1)\n",
    "print(result2 < result1)\n"
   ]
  },
  {
   "cell_type": "markdown",
   "metadata": {},
   "source": [
    "\n",
    "11. Write a Python program to create a shallow copy of sets.\n",
    "Note : Shallow copy is a bit-wise copy of an object. A new object is created that has an exact copy of the values in the original object.\n",
    "[Click me to see the sample solution](https://www.w3resource.com/python-exercises/sets/python-sets-exercise-11.php)\n"
   ]
  },
  {
   "cell_type": "code",
   "execution_count": 22,
   "metadata": {},
   "outputs": [
    {
     "name": "stdout",
     "output_type": "stream",
     "text": [
      "{1, 2, 3, 4, 6, 7}\n"
     ]
    }
   ],
   "source": [
    "# hier bitte ihre Lösung erstellen\n",
    "s_n = {1, 2, 3, 4, 6, 7}\n",
    "s_n_c = s_n.copy()\n",
    "print(s_n_c)"
   ]
  },
  {
   "cell_type": "markdown",
   "metadata": {},
   "source": [
    "\n",
    "12. Write a Python program to remove all elements from a given set.\n",
    "[Click me to see the sample solution](https://www.w3resource.com/python-exercises/sets/python-sets-exercise-12.php)\n"
   ]
  },
  {
   "cell_type": "code",
   "execution_count": 23,
   "metadata": {},
   "outputs": [
    {
     "name": "stdout",
     "output_type": "stream",
     "text": [
      "set()\n"
     ]
    }
   ],
   "source": [
    "# hier bitte ihre Lösung erstellen\n",
    "s_n.clear()\n",
    "print(s_n)"
   ]
  },
  {
   "cell_type": "markdown",
   "metadata": {},
   "source": [
    "\n",
    "13. Write a Python program that uses frozensets.\n",
    "Note: Frozensets behave just like sets except they are immutable.\n",
    "[Click me to see the sample solution](https://www.w3resource.com/python-exercises/sets/python-sets-exercise-13.php)\n"
   ]
  },
  {
   "cell_type": "code",
   "execution_count": 32,
   "metadata": {},
   "outputs": [
    {
     "name": "stdout",
     "output_type": "stream",
     "text": [
      "False\n",
      "frozenset({1, 2})\n",
      "frozenset({1, 2})\n",
      "frozenset({1, 2, 3, 4, 5, 6, 7})\n",
      "frozenset({3, 4, 5, 6, 7})\n"
     ]
    }
   ],
   "source": [
    "# hier bitte ihre Lösung erstellen\n",
    "# Create a frozenset 'x' with elements [1, 2, 3, 4, 5].\n",
    "x = frozenset([1, 2, 3, 4, 5])\n",
    "\n",
    "# Create a frozenset 'y' with elements [3, 4, 5, 6, 7].\n",
    "y = frozenset([3, 4, 5, 6, 7])\n",
    "\n",
    "# Use the 'isdisjoint()' method to check if 'x' and 'y' have no common elements and print the result.\n",
    "# Return True if the sets have no elements in common with each other.\n",
    "print(x.isdisjoint(y))\n",
    "\n",
    "# Use the 'difference()' method to find the elements in 'x' that are not in 'y' and print the result.\n",
    "# Return a new frozenset with elements in 'x' that are not in 'y'.\n",
    "print(x.difference(y))\n",
    "print(x-y)\n",
    "\n",
    "# Create a new frozenset with elements that are a union of 'x' and 'y' and print the result.\n",
    "# This combines elements from both 'x' and 'y'.\n",
    "print(x | y) \n",
    "x = 0\n",
    "print(x or y)"
   ]
  },
  {
   "cell_type": "markdown",
   "metadata": {},
   "source": [
    "\n",
    "14. Write a Python program to find the maximum and minimum values in a set.\n",
    "[Click me to see the sample solution](https://www.w3resource.com/python-exercises/sets/python-sets-exercise-14.php)\n"
   ]
  },
  {
   "cell_type": "code",
   "execution_count": 34,
   "metadata": {},
   "outputs": [
    {
     "name": "stdout",
     "output_type": "stream",
     "text": [
      "5 1\n"
     ]
    }
   ],
   "source": [
    "# hier bitte ihre Lösung erstellen\n",
    "x = {1, 2, 3, 4, 5}\n",
    "print(max(x), min(x))"
   ]
  },
  {
   "cell_type": "markdown",
   "metadata": {},
   "source": [
    "\n",
    "15. Write a Python program to find the length of a set.\n",
    "[Click me to see the sample solution](https://www.w3resource.com/python-exercises/sets/python-sets-exercise-15.php)\n"
   ]
  },
  {
   "cell_type": "code",
   "execution_count": 35,
   "metadata": {},
   "outputs": [
    {
     "name": "stdout",
     "output_type": "stream",
     "text": [
      "5\n"
     ]
    }
   ],
   "source": [
    "# hier bitte ihre Lösung erstellen\n",
    "x = {1, 2, 3, 4, 5}\n",
    "print(len(x))"
   ]
  },
  {
   "cell_type": "markdown",
   "metadata": {},
   "source": [
    "\n",
    "16. Write a Python program to check if a given value is present in a set or not.\n",
    "[Click me to see the sample solution](https://www.w3resource.com/python-exercises/sets/python-sets-exercise-16.php)\n"
   ]
  },
  {
   "cell_type": "code",
   "execution_count": 37,
   "metadata": {},
   "outputs": [
    {
     "name": "stdout",
     "output_type": "stream",
     "text": [
      "True\n",
      "False\n"
     ]
    }
   ],
   "source": [
    "# hier bitte ihre Lösung erstellen\n",
    "x = {1, 2, 3, 4, 5}\n",
    "print(5 in x)\n",
    "print(10 in x)"
   ]
  },
  {
   "cell_type": "markdown",
   "metadata": {},
   "source": [
    "\n",
    "17. Write a Python program to check if two given sets have no elements in common.\n",
    "[Click me to see the sample solution](https://www.w3resource.com/python-exercises/sets/python-sets-exercise-17.php)\n"
   ]
  },
  {
   "cell_type": "code",
   "execution_count": 43,
   "metadata": {},
   "outputs": [
    {
     "name": "stdout",
     "output_type": "stream",
     "text": [
      "True\n"
     ]
    }
   ],
   "source": [
    "# hier bitte ihre Lösung erstellen\n",
    "s_1 = {1, 2, 4, 7}\n",
    "s_2 = {3, 5, 6, 8, 9, 10}\n",
    "print(s_1.isdisjoint(s_2))"
   ]
  },
  {
   "cell_type": "markdown",
   "metadata": {},
   "source": [
    "\n",
    "18. Write a Python program to check if a given set is a superset of itself and a superset of another given set.\n",
    "[Click me to see the sample solution](https://www.w3resource.com/python-exercises/sets/python-sets-exercise-18.php)\n"
   ]
  },
  {
   "cell_type": "code",
   "execution_count": 45,
   "metadata": {},
   "outputs": [
    {
     "name": "stdout",
     "output_type": "stream",
     "text": [
      "True\n",
      "True\n"
     ]
    }
   ],
   "source": [
    "# hier bitte ihre Lösung erstellen\n",
    "s_1 = {1, 2, 4, 7}\n",
    "print(s_1.issuperset(s_1))\n",
    "print(s_1 >= s_1)"
   ]
  },
  {
   "cell_type": "markdown",
   "metadata": {},
   "source": [
    "\n",
    "19. Write a Python program to find elements in a given set that are not in another set.\n",
    "[Click me to see the sample solution](https://www.w3resource.com/python-exercises/sets/python-sets-exercise-19.php)"
   ]
  },
  {
   "cell_type": "code",
   "execution_count": 49,
   "metadata": {},
   "outputs": [
    {
     "name": "stdout",
     "output_type": "stream",
     "text": [
      "{1, 2, 4, 7}\n",
      "{1, 2, 4, 7}\n"
     ]
    }
   ],
   "source": [
    "# hier bitte ihre Lösung erstellen\n",
    "# difference\n",
    "s_1 = {1, 2, 3, 4, 6, 7}\n",
    "s_2 = {3, 5, 6, 8, 9, 10}\n",
    "print(s_1 - s_2)\n",
    "print(s_1.difference(s_2))"
   ]
  }
 ],
 "metadata": {
  "kernelspec": {
   "display_name": "Python 3",
   "language": "python",
   "name": "python3"
  },
  "language_info": {
   "codemirror_mode": {
    "name": "ipython",
    "version": 3
   },
   "file_extension": ".py",
   "mimetype": "text/x-python",
   "name": "python",
   "nbconvert_exporter": "python",
   "pygments_lexer": "ipython3",
   "version": "3.12.6"
  }
 },
 "nbformat": 4,
 "nbformat_minor": 2
}
