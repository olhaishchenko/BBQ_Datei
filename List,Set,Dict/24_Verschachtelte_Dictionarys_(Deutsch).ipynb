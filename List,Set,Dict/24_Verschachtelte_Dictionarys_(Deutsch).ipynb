{
 "cells": [
  {
   "cell_type": "markdown",
   "metadata": {},
   "source": [
    "# Dictionary\n",
    "\n",
    "- bestehen aus Schlüsselwertpaaren, die innerhalb {} die mit ':' von einander getrennt werden\n",
    "- haben keine Ordnung (keine Indizes) dafür Schlüssel (keys) und Werte (values)\n",
    "- sind veränderbar (mutable): wir können ein neues Element eintragen, entfernen oder ein bestehendes Element ändern"
   ]
  },
  {
   "cell_type": "markdown",
   "metadata": {},
   "source": [
    "### Ein Dictionary erstellen\n",
    "- {}\n",
    "- dict()"
   ]
  },
  {
   "cell_type": "code",
   "execution_count": 1,
   "metadata": {},
   "outputs": [],
   "source": [
    "d1 = {'vname':'max', 'name':'mustermann', 'alter':25}"
   ]
  },
  {
   "cell_type": "code",
   "execution_count": 2,
   "metadata": {},
   "outputs": [],
   "source": [
    "d2 = dict() # Konstruktor(funktion)"
   ]
  },
  {
   "cell_type": "markdown",
   "metadata": {},
   "source": [
    "### Zugriff auf Elemente\n",
    "\n",
    "dazu benötigen wir den Schlüssel "
   ]
  },
  {
   "cell_type": "code",
   "execution_count": 3,
   "metadata": {},
   "outputs": [
    {
     "data": {
      "text/plain": [
       "'mustermann'"
      ]
     },
     "execution_count": 3,
     "metadata": {},
     "output_type": "execute_result"
    }
   ],
   "source": [
    "d1['name']"
   ]
  },
  {
   "cell_type": "code",
   "execution_count": null,
   "metadata": {},
   "outputs": [],
   "source": [
    "d1['joe'] # KeyError: denn der gesuchte Schlüssel existiert nicht"
   ]
  },
  {
   "cell_type": "markdown",
   "metadata": {},
   "source": [
    "Alternativ können wir <code>get()</code> benutzen:"
   ]
  },
  {
   "cell_type": "code",
   "execution_count": 4,
   "metadata": {},
   "outputs": [
    {
     "data": {
      "text/plain": [
       "'mustermann'"
      ]
     },
     "execution_count": 4,
     "metadata": {},
     "output_type": "execute_result"
    }
   ],
   "source": [
    "d1.get('name')"
   ]
  },
  {
   "cell_type": "markdown",
   "metadata": {},
   "source": [
    "generiert keinen Fehler, wenn der Schlüssel nicht existiert:"
   ]
  },
  {
   "cell_type": "code",
   "execution_count": 6,
   "metadata": {},
   "outputs": [
    {
     "data": {
      "text/plain": [
       "'Schlüssel nicht gefunden!'"
      ]
     },
     "execution_count": 6,
     "metadata": {},
     "output_type": "execute_result"
    }
   ],
   "source": [
    "d1.get('Joe', 'Schlüssel nicht gefunden!')"
   ]
  },
  {
   "cell_type": "markdown",
   "metadata": {},
   "source": [
    "### Neues Element hinzufügen"
   ]
  },
  {
   "cell_type": "code",
   "execution_count": 8,
   "metadata": {},
   "outputs": [],
   "source": [
    "d2['neues_item'] = 'neuer_wert'"
   ]
  },
  {
   "cell_type": "code",
   "execution_count": 9,
   "metadata": {},
   "outputs": [
    {
     "data": {
      "text/plain": [
       "{'neues_item': 'neuer_wert'}"
      ]
     },
     "execution_count": 9,
     "metadata": {},
     "output_type": "execute_result"
    }
   ],
   "source": [
    "d2"
   ]
  },
  {
   "cell_type": "markdown",
   "metadata": {},
   "source": [
    "Alternativ können wir <code>setdefault()</code> benutzen:"
   ]
  },
  {
   "cell_type": "code",
   "execution_count": 10,
   "metadata": {},
   "outputs": [
    {
     "data": {
      "text/plain": [
       "'neuer_wert_dazu'"
      ]
     },
     "execution_count": 10,
     "metadata": {},
     "output_type": "execute_result"
    }
   ],
   "source": [
    "d2.setdefault('noch_ein_weiteres_item', 'neuer_wert_dazu')"
   ]
  },
  {
   "cell_type": "code",
   "execution_count": 11,
   "metadata": {},
   "outputs": [
    {
     "data": {
      "text/plain": [
       "{'neues_item': 'neuer_wert', 'noch_ein_weiteres_item': 'neuer_wert_dazu'}"
      ]
     },
     "execution_count": 11,
     "metadata": {},
     "output_type": "execute_result"
    }
   ],
   "source": [
    "d2"
   ]
  },
  {
   "cell_type": "markdown",
   "metadata": {},
   "source": [
    "Wenn der Schlüssel bereits in Dictionary vorhanden ist, dann passiert nichts (der Wert wird nicht überschrieben):"
   ]
  },
  {
   "cell_type": "code",
   "execution_count": 12,
   "metadata": {},
   "outputs": [
    {
     "data": {
      "text/plain": [
       "'neuer_wert'"
      ]
     },
     "execution_count": 12,
     "metadata": {},
     "output_type": "execute_result"
    }
   ],
   "source": [
    "d2.setdefault('neues_item', 'wert2')"
   ]
  },
  {
   "cell_type": "code",
   "execution_count": 13,
   "metadata": {},
   "outputs": [
    {
     "data": {
      "text/plain": [
       "{'neues_item': 'neuer_wert', 'noch_ein_weiteres_item': 'neuer_wert_dazu'}"
      ]
     },
     "execution_count": 13,
     "metadata": {},
     "output_type": "execute_result"
    }
   ],
   "source": [
    "d2"
   ]
  },
  {
   "cell_type": "markdown",
   "metadata": {},
   "source": [
    "### Ein Element entfernen\n",
    "\n",
    "- pop(): genau den Schlüssel (key) übergeben\n",
    "- popitem(): ohne Parameter. Entfernt ein Element durch Zufall aus dem Dictionary"
   ]
  },
  {
   "cell_type": "code",
   "execution_count": 14,
   "metadata": {},
   "outputs": [],
   "source": [
    "obst = {'appfel': 20, 'orange': 30, 'banane':40}"
   ]
  },
  {
   "cell_type": "code",
   "execution_count": 15,
   "metadata": {},
   "outputs": [
    {
     "data": {
      "text/plain": [
       "40"
      ]
     },
     "execution_count": 15,
     "metadata": {},
     "output_type": "execute_result"
    }
   ],
   "source": [
    "obst.pop('banane')"
   ]
  },
  {
   "cell_type": "code",
   "execution_count": 16,
   "metadata": {},
   "outputs": [
    {
     "data": {
      "text/plain": [
       "{'appfel': 20, 'orange': 30}"
      ]
     },
     "execution_count": 16,
     "metadata": {},
     "output_type": "execute_result"
    }
   ],
   "source": [
    "obst"
   ]
  },
  {
   "cell_type": "code",
   "execution_count": 19,
   "metadata": {},
   "outputs": [],
   "source": [
    "car = {'hersteller':'bmw', 'model':'i3', 'baujahr':2020, 'farbe':'schwarz' }"
   ]
  },
  {
   "cell_type": "code",
   "execution_count": 20,
   "metadata": {},
   "outputs": [
    {
     "data": {
      "text/plain": [
       "('farbe', 'schwarz')"
      ]
     },
     "execution_count": 20,
     "metadata": {},
     "output_type": "execute_result"
    }
   ],
   "source": [
    "car.popitem()"
   ]
  },
  {
   "cell_type": "code",
   "execution_count": 21,
   "metadata": {},
   "outputs": [
    {
     "data": {
      "text/plain": [
       "dict_keys(['hersteller', 'model', 'baujahr'])"
      ]
     },
     "execution_count": 21,
     "metadata": {},
     "output_type": "execute_result"
    }
   ],
   "source": [
    "car.keys()"
   ]
  },
  {
   "cell_type": "code",
   "execution_count": 22,
   "metadata": {},
   "outputs": [
    {
     "data": {
      "text/plain": [
       "('baujahr', 2020)"
      ]
     },
     "execution_count": 22,
     "metadata": {},
     "output_type": "execute_result"
    }
   ],
   "source": [
    "car.popitem() # Zufall?!"
   ]
  },
  {
   "cell_type": "markdown",
   "metadata": {},
   "source": [
    "### Iteration und Dictionary\n",
    "\n",
    "- Dictionary (Schlüssel)\n",
    "- dictionary.keys() (Schlüssel)\n",
    "- dictionary.values() (Werte)\n",
    "- dictionary.items() (Paare als Tupel)"
   ]
  },
  {
   "cell_type": "code",
   "execution_count": 23,
   "metadata": {},
   "outputs": [],
   "source": [
    "car = {'hersteller':'bmw', 'baujahr':2020, 'farbe':'schwarz', 'model':'i3'}"
   ]
  },
  {
   "cell_type": "code",
   "execution_count": 24,
   "metadata": {},
   "outputs": [
    {
     "name": "stdout",
     "output_type": "stream",
     "text": [
      "hersteller\n",
      "baujahr\n",
      "farbe\n",
      "model\n"
     ]
    }
   ],
   "source": [
    "for elem in car: print(elem) # Liefert die Schlüssel zurück"
   ]
  },
  {
   "cell_type": "code",
   "execution_count": 25,
   "metadata": {},
   "outputs": [
    {
     "name": "stdout",
     "output_type": "stream",
     "text": [
      "hersteller\n",
      "baujahr\n",
      "farbe\n",
      "model\n"
     ]
    }
   ],
   "source": [
    "for key in car.keys(): print(key) # Liefert die Schlüssel zurück"
   ]
  },
  {
   "cell_type": "code",
   "execution_count": 17,
   "metadata": {},
   "outputs": [
    {
     "name": "stdout",
     "output_type": "stream",
     "text": [
      "bmw\n",
      "2020\n",
      "schwarz\n",
      "i3\n"
     ]
    }
   ],
   "source": [
    "for val in car.values(): print(val) # Liefert die Werte zurück"
   ]
  },
  {
   "cell_type": "code",
   "execution_count": 35,
   "metadata": {},
   "outputs": [
    {
     "data": {
      "text/plain": [
       "dict_items([('hersteller', 'bmw'), ('baujahr', 2020), ('farbe', 'schwarz'), ('model', 'i3')])"
      ]
     },
     "execution_count": 35,
     "metadata": {},
     "output_type": "execute_result"
    }
   ],
   "source": [
    "car.items()"
   ]
  },
  {
   "cell_type": "code",
   "execution_count": 18,
   "metadata": {},
   "outputs": [
    {
     "name": "stdout",
     "output_type": "stream",
     "text": [
      "('hersteller', 'bmw')\n",
      "('baujahr', 2020)\n",
      "('farbe', 'schwarz')\n",
      "('model', 'i3')\n"
     ]
    }
   ],
   "source": [
    "for item in car.items():print(item) # Liefert Sclüsselwertpaare als Tupel zurück"
   ]
  },
  {
   "cell_type": "markdown",
   "metadata": {},
   "source": [
    "### Aus anderen Datenstrukturen Dictionarys bilden\n",
    "\n",
    "- aus zwei Listen (Tupeln)\n",
    "- nur aus einer Liste (Tupel)\n",
    "\n",
    "##### aus zwei Listen (Tupeln)"
   ]
  },
  {
   "cell_type": "code",
   "execution_count": 26,
   "metadata": {},
   "outputs": [],
   "source": [
    "schluessel = ['marke', 'model', 'baujahr', 'farbe']\n",
    "werte = ['bmw', 'i3', 2012, 'weiss']"
   ]
  },
  {
   "cell_type": "markdown",
   "metadata": {},
   "source": [
    "<code>zip()</code> in Kombination mit <code>dict()</code>"
   ]
  },
  {
   "cell_type": "code",
   "execution_count": 29,
   "metadata": {},
   "outputs": [
    {
     "name": "stdout",
     "output_type": "stream",
     "text": [
      "('marke', 'bmw')\n",
      "('model', 'i3')\n",
      "('baujahr', 2012)\n",
      "('farbe', 'weiss')\n"
     ]
    }
   ],
   "source": [
    "z = zip(schluessel, werte) # erstellt ein zipobjekt (iteriebar)\n",
    "for _ in z: print(_)"
   ]
  },
  {
   "cell_type": "code",
   "execution_count": 31,
   "metadata": {},
   "outputs": [
    {
     "name": "stdout",
     "output_type": "stream",
     "text": [
      "zipobjekt bereits aufgebraucht\n"
     ]
    }
   ],
   "source": [
    "for _ in z: \n",
    "    print(_) # aufgebraucht: keinen Rückgabewert\n",
    "else:\n",
    "    print('zipobjekt bereits aufgebraucht')"
   ]
  },
  {
   "cell_type": "code",
   "execution_count": 33,
   "metadata": {},
   "outputs": [],
   "source": [
    "car_dict = dict(zip(schluessel, werte)) # aus zipobjekt ein dictionary"
   ]
  },
  {
   "cell_type": "code",
   "execution_count": 34,
   "metadata": {},
   "outputs": [
    {
     "data": {
      "text/plain": [
       "{'marke': 'bmw', 'model': 'i3', 'baujahr': 2012, 'farbe': 'weiss'}"
      ]
     },
     "execution_count": 34,
     "metadata": {},
     "output_type": "execute_result"
    }
   ],
   "source": [
    "car_dict"
   ]
  },
  {
   "cell_type": "markdown",
   "metadata": {},
   "source": [
    "**wichtig ist**, dass die beiden Arrays (Listen) genau gleiche Anzahl von Elementen haben sollen."
   ]
  },
  {
   "cell_type": "markdown",
   "metadata": {},
   "source": [
    "**Dictionary aus zwei Listen ohne zip**\n",
    "\n",
    "Im ersten Schritt benötigen wir so was:\n",
    "\n",
    "```python\n",
    "dict_items([('hersteller', 'bmw'), ('baujahr', 2020), ('farbe', 'schwarz'), ('model', 'i3')])\n",
    "```"
   ]
  },
  {
   "cell_type": "code",
   "execution_count": 44,
   "metadata": {},
   "outputs": [
    {
     "name": "stdout",
     "output_type": "stream",
     "text": [
      "[('marke', 'bmw'), ('model', 'i3'), ('baujahr', 2012), ('farbe', 'weiss')]\n",
      "{'marke': 'bmw', 'model': 'i3', 'baujahr': 2012, 'farbe': 'weiss'}\n"
     ]
    }
   ],
   "source": [
    "schluessel = ['marke', 'model', 'baujahr', 'farbe']\n",
    "werte = ['bmw', 'i3', 2012, 'weiss']\n",
    "items = []\n",
    "# wir gehen davon aus, dass die Anzahl der Listelemente für beide Listen gleich sind\n",
    "for _ in range(len(schluessel)):\n",
    "    items.append((schluessel[_], werte[_]))\n",
    "\n",
    "print(items)\n",
    "# Liste in Dictionary casten \n",
    "cardict = dict(items)\n",
    "print(cardict)"
   ]
  },
  {
   "cell_type": "markdown",
   "metadata": {},
   "source": [
    "#### nur aus einer Liste (Tupel)\n",
    "\n",
    "<code>dict.fromkeys(iteriebars Objekt, default=None)</code>"
   ]
  },
  {
   "cell_type": "code",
   "execution_count": 45,
   "metadata": {},
   "outputs": [
    {
     "data": {
      "text/plain": [
       "{'mathe': None, 'musik': None, 'sport': None}"
      ]
     },
     "execution_count": 45,
     "metadata": {},
     "output_type": "execute_result"
    }
   ],
   "source": [
    "faecher = ['mathe', 'musik', 'sport']\n",
    "f_dict = dict.fromkeys(faecher)\n",
    "f_dict"
   ]
  },
  {
   "cell_type": "code",
   "execution_count": 46,
   "metadata": {},
   "outputs": [
    {
     "data": {
      "text/plain": [
       "{'mathe': 'Noch keine Prüfung gemacht.',\n",
       " 'musik': 'Noch keine Prüfung gemacht.',\n",
       " 'sport': 'Noch keine Prüfung gemacht.'}"
      ]
     },
     "execution_count": 46,
     "metadata": {},
     "output_type": "execute_result"
    }
   ],
   "source": [
    "leer_dic = dict.fromkeys(faecher, 'Noch keine Prüfung gemacht.')\n",
    "leer_dic"
   ]
  },
  {
   "cell_type": "markdown",
   "metadata": {},
   "source": [
    "### Dictionary Comprehensions"
   ]
  },
  {
   "cell_type": "code",
   "execution_count": 49,
   "metadata": {},
   "outputs": [],
   "source": [
    "merk = ['marke', 'model', 'baujahr', 'farbe']\n",
    "ind = ['bmw', 'i3', 2012, 'weiss']"
   ]
  },
  {
   "cell_type": "markdown",
   "metadata": {},
   "source": [
    "Wir wollen jetzt ein Dictionary haben:"
   ]
  },
  {
   "cell_type": "code",
   "execution_count": 50,
   "metadata": {},
   "outputs": [
    {
     "data": {
      "text/plain": [
       "{'marke': 'bmw', 'model': 'i3', 'baujahr': 2012, 'farbe': 'weiss'}"
      ]
     },
     "execution_count": 50,
     "metadata": {},
     "output_type": "execute_result"
    }
   ],
   "source": [
    "mycar = {merk[i]:ind[i] for i in range(len(merk))}\n",
    "mycar"
   ]
  },
  {
   "cell_type": "markdown",
   "metadata": {},
   "source": [
    "Lösung (2):"
   ]
  },
  {
   "cell_type": "code",
   "execution_count": 51,
   "metadata": {},
   "outputs": [
    {
     "data": {
      "text/plain": [
       "0"
      ]
     },
     "execution_count": 51,
     "metadata": {},
     "output_type": "execute_result"
    }
   ],
   "source": [
    "merk.index('marke') # liefert das Index von 'marke' in Liste 'merk' zurück"
   ]
  },
  {
   "cell_type": "code",
   "execution_count": 52,
   "metadata": {},
   "outputs": [
    {
     "data": {
      "text/plain": [
       "'bmw'"
      ]
     },
     "execution_count": 52,
     "metadata": {},
     "output_type": "execute_result"
    }
   ],
   "source": [
    "ind[merk.index('marke')] # das Element aus der Liste ind mit demselben Index von 'marke' aus der Liste 'merk'"
   ]
  },
  {
   "cell_type": "code",
   "execution_count": 53,
   "metadata": {},
   "outputs": [
    {
     "data": {
      "text/plain": [
       "{'marke': 'bmw', 'model': 'i3', 'baujahr': 2012, 'farbe': 'weiss'}"
      ]
     },
     "execution_count": 53,
     "metadata": {},
     "output_type": "execute_result"
    }
   ],
   "source": [
    "mycar2 = {k:ind[merk.index(k)] for k in merk}\n",
    "mycar2"
   ]
  },
  {
   "cell_type": "markdown",
   "metadata": {},
   "source": [
    "### Verschachtelte (nested) Dictionarys\n",
    "sind Dictionarys, die selbst Dictionarys enthalten"
   ]
  },
  {
   "cell_type": "code",
   "execution_count": 54,
   "metadata": {},
   "outputs": [],
   "source": [
    "einkaufsliste = {\n",
    "    'obst':{'apfel':2, 'orange':3, 'banane':2},\n",
    "    'milchprodukte':{'milch':2, 'butter':2, 'käse':1},\n",
    "    'wurstundfleich':{'leberwurst':1, 'schinken':2, 'salami':2}\n",
    "}"
   ]
  },
  {
   "cell_type": "markdown",
   "metadata": {},
   "source": [
    "Wie viel Butter soll ich kaufen?"
   ]
  },
  {
   "cell_type": "code",
   "execution_count": 55,
   "metadata": {},
   "outputs": [
    {
     "data": {
      "text/plain": [
       "{'milch': 2, 'butter': 2, 'käse': 1}"
      ]
     },
     "execution_count": 55,
     "metadata": {},
     "output_type": "execute_result"
    }
   ],
   "source": [
    "einkaufsliste['milchprodukte'] # Butter ist in Dictionary 'milchprodukte'"
   ]
  },
  {
   "cell_type": "code",
   "execution_count": 56,
   "metadata": {},
   "outputs": [
    {
     "data": {
      "text/plain": [
       "2"
      ]
     },
     "execution_count": 56,
     "metadata": {},
     "output_type": "execute_result"
    }
   ],
   "source": [
    "einkaufsliste['milchprodukte']['butter'] # Das Ergebnis"
   ]
  },
  {
   "cell_type": "markdown",
   "metadata": {},
   "source": [
    "Alternativ"
   ]
  },
  {
   "cell_type": "code",
   "execution_count": 57,
   "metadata": {},
   "outputs": [
    {
     "data": {
      "text/plain": [
       "{'milch': 2, 'butter': 2, 'käse': 1}"
      ]
     },
     "execution_count": 57,
     "metadata": {},
     "output_type": "execute_result"
    }
   ],
   "source": [
    "einkaufsliste.get('milchprodukte')"
   ]
  },
  {
   "cell_type": "code",
   "execution_count": 58,
   "metadata": {},
   "outputs": [
    {
     "data": {
      "text/plain": [
       "2"
      ]
     },
     "execution_count": 58,
     "metadata": {},
     "output_type": "execute_result"
    }
   ],
   "source": [
    "einkaufsliste.get('milchprodukte').get('butter')"
   ]
  },
  {
   "cell_type": "code",
   "execution_count": null,
   "metadata": {},
   "outputs": [],
   "source": []
  }
 ],
 "metadata": {
  "kernelspec": {
   "display_name": "Python 3",
   "language": "python",
   "name": "python3"
  },
  "language_info": {
   "codemirror_mode": {
    "name": "ipython",
    "version": 3
   },
   "file_extension": ".py",
   "mimetype": "text/x-python",
   "name": "python",
   "nbconvert_exporter": "python",
   "pygments_lexer": "ipython3",
   "version": "3.8.3"
  }
 },
 "nbformat": 4,
 "nbformat_minor": 4
}
