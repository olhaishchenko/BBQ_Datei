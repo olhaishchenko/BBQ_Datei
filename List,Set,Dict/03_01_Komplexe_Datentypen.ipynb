{
 "cells": [
  {
   "cell_type": "markdown",
   "id": "bfb226f6",
   "metadata": {},
   "source": [
    "# Python Review : Komplexe Datentypen\n",
    "\n",
    "- Listen\n",
    "- Tuple\n",
    "- Sets\n",
    "- Dictionaries\n",
    "\n",
    "- Ausblick auf \"Stacks\" und \"Queues\""
   ]
  },
  {
   "cell_type": "markdown",
   "id": "58f5ded3",
   "metadata": {},
   "source": [
    "## 1. Listen in Python\n",
    "\n",
    "1. beliebige Objekte können in einer Liste verwaltet werden\n",
    "2. Listenelemente können über ein Index angesprochen werden\n",
    "3. Listen veränderbar, mutable\n",
    "4. Slicing von Listen\n",
    "5. List-Comprehension : kompakte Erstellung einer Liste\n"
   ]
  },
  {
   "cell_type": "markdown",
   "id": "a725144e",
   "metadata": {},
   "source": [
    "### 1.1 Objekte in Listen"
   ]
  },
  {
   "cell_type": "code",
   "execution_count": 2,
   "id": "abc6fe13",
   "metadata": {},
   "outputs": [
    {
     "data": {
      "text/plain": [
       "[1, 'hello', []]"
      ]
     },
     "execution_count": 2,
     "metadata": {},
     "output_type": "execute_result"
    }
   ],
   "source": [
    "an_emplty_list = []\n",
    "\n",
    "a_list = [1, 'hello', an_emplty_list]\n",
    "\n",
    "array = list() # über Konstruktor\n",
    "array.append(1)\n",
    "array.append(2)\n",
    "array.append(3)\n",
    "array.append(4)\n",
    "array.append(5) \n",
    "a_list"
   ]
  },
  {
   "cell_type": "markdown",
   "id": "5cfe8fda",
   "metadata": {},
   "source": [
    "### 1.2 Listen über Index ansprechen"
   ]
  },
  {
   "cell_type": "code",
   "execution_count": 2,
   "id": "ee62ea8e",
   "metadata": {},
   "outputs": [
    {
     "name": "stdout",
     "output_type": "stream",
     "text": [
      "1\n",
      "5\n",
      "3\n",
      "5\n",
      "1\n"
     ]
    },
    {
     "ename": "IndexError",
     "evalue": "list index out of range",
     "output_type": "error",
     "traceback": [
      "\u001b[1;31m---------------------------------------------------------------------------\u001b[0m",
      "\u001b[1;31mIndexError\u001b[0m                                Traceback (most recent call last)",
      "\u001b[1;32m~\\AppData\\Local\\Temp/ipykernel_20780/1827092850.py\u001b[0m in \u001b[0;36m<module>\u001b[1;34m\u001b[0m\n\u001b[0;32m      8\u001b[0m \u001b[0mprint\u001b[0m\u001b[1;33m(\u001b[0m\u001b[0marray\u001b[0m\u001b[1;33m[\u001b[0m\u001b[1;33m-\u001b[0m\u001b[1;36m5\u001b[0m\u001b[1;33m]\u001b[0m\u001b[1;33m)\u001b[0m \u001b[1;31m# das erste Element, ist bei 5 Elemente das 5. Element von hinten , also 1\u001b[0m\u001b[1;33m\u001b[0m\u001b[1;33m\u001b[0m\u001b[0m\n\u001b[0;32m      9\u001b[0m \u001b[1;33m\u001b[0m\u001b[0m\n\u001b[1;32m---> 10\u001b[1;33m \u001b[0mprint\u001b[0m\u001b[1;33m(\u001b[0m\u001b[0marray\u001b[0m\u001b[1;33m[\u001b[0m\u001b[1;33m-\u001b[0m\u001b[1;36m6\u001b[0m\u001b[1;33m]\u001b[0m\u001b[1;33m)\u001b[0m \u001b[1;31m# Out of Range\u001b[0m\u001b[1;33m\u001b[0m\u001b[1;33m\u001b[0m\u001b[0m\n\u001b[0m\u001b[0;32m     11\u001b[0m \u001b[1;33m\u001b[0m\u001b[0m\n\u001b[0;32m     12\u001b[0m \u001b[0mprint\u001b[0m\u001b[1;33m(\u001b[0m\u001b[0marray\u001b[0m\u001b[1;33m[\u001b[0m\u001b[1;36m5\u001b[0m\u001b[1;33m]\u001b[0m\u001b[1;33m)\u001b[0m \u001b[1;31m# Out of Range\u001b[0m\u001b[1;33m\u001b[0m\u001b[1;33m\u001b[0m\u001b[0m\n",
      "\u001b[1;31mIndexError\u001b[0m: list index out of range"
     ]
    }
   ],
   "source": [
    "#Adressieren über den Index, der bei 0 beginnt\n",
    "print(array[0]) # 1\n",
    "print(array[4]) # 5\n",
    "print(array[2]) # 3\n",
    "\n",
    "print(array[-1]) # das letzte Element => 5\n",
    "\n",
    "print(array[-5]) # das erste Element, ist bei 5 Elemente das 5. Element von hinten , also 1\n",
    "\n",
    "print(array[-6]) # Out of Range\n",
    "\n",
    "print(array[5]) # Out of Range"
   ]
  },
  {
   "cell_type": "markdown",
   "id": "c0221e04",
   "metadata": {},
   "source": [
    "### 1.3 Listen sind mutable"
   ]
  },
  {
   "cell_type": "code",
   "execution_count": null,
   "id": "c7f6f9ed",
   "metadata": {},
   "outputs": [],
   "source": [
    "array[3] = 'verändert ;)'\n",
    "print(array)"
   ]
  },
  {
   "cell_type": "markdown",
   "id": "f63eacbb",
   "metadata": {},
   "source": [
    "### 1.4 Listen-Slicing"
   ]
  },
  {
   "cell_type": "code",
   "execution_count": 21,
   "id": "b948dd4a",
   "metadata": {},
   "outputs": [
    {
     "name": "stdout",
     "output_type": "stream",
     "text": [
      "[1, 2, 3, 4, 5]\n",
      "[2, 3]\n",
      "[2, 4]\n",
      "[2, 4]\n",
      "[5, 4, 3, 2, 1]\n",
      "[5, 4, 3, 2, 1]\n",
      "[7, 2, 4, 4, 1]\n",
      "2874238510784 2874244300416\n",
      "[11111, 2, 4, 4, 1]\n",
      "[7, 2, 4, 4, 1]\n"
     ]
    }
   ],
   "source": [
    "# \"Zerteilen / Zerstückeln von Listen\"\n",
    "print(array[0:5:1])\n",
    "print(array[1:3:1]) # [2,3]\n",
    "print(array[1:5:2]) # jedes 2. Element\n",
    "print(array[1::2]) # äquivalent zur Zeile davor\n",
    "print(array[-1::-1]) # Liste rückwärts ?\n",
    "print(array[::-1]) # äquivalent zur Zeile davor\n",
    "array[0::2] = [7, 4, 1] # statt der 1 eine 7 , statt der 3 eine 4, statt der 5 eine 1\n",
    "print(array)\n",
    "# Liste kopieren ?\n",
    "cp_list = array[::]\n",
    "print(id(array), id(cp_list))\n",
    "array[0] = 11111\n",
    "print(array)\n",
    "print(cp_list)\n"
   ]
  },
  {
   "cell_type": "markdown",
   "id": "fbc54c7b",
   "metadata": {},
   "source": [
    "### 1.5 List-Comprehension"
   ]
  },
  {
   "cell_type": "code",
   "execution_count": null,
   "id": "6b3d18b5",
   "metadata": {},
   "outputs": [],
   "source": [
    "a_l = []\n",
    "for i in range(1,101):\n",
    "    a_l.append(i)\n",
    "    \n",
    "print(a_l)"
   ]
  },
  {
   "cell_type": "code",
   "execution_count": 9,
   "id": "2d61b840",
   "metadata": {},
   "outputs": [
    {
     "name": "stdout",
     "output_type": "stream",
     "text": [
      "[1, 2, 3, 4, 5, 6, 7, 8, 9, 10, 11, 12, 13, 14, 15, 16, 17, 18, 19, 20, 21, 22, 23, 24, 25, 26, 27, 28, 29, 30, 31, 32, 33, 34, 35, 36, 37, 38, 39, 40, 41, 42, 43, 44, 45, 46, 47, 48, 49, 50, 51, 52, 53, 54, 55, 56, 57, 58, 59, 60, 61, 62, 63, 64, 65, 66, 67, 68, 69, 70, 71, 72, 73, 74, 75, 76, 77, 78, 79, 80, 81, 82, 83, 84, 85, 86, 87, 88, 89, 90, 91, 92, 93, 94, 95, 96, 97, 98, 99, 100]\n"
     ]
    }
   ],
   "source": [
    "b_l = [i for i in range(1,101)]\n",
    "print(b_l)"
   ]
  },
  {
   "cell_type": "code",
   "execution_count": 10,
   "id": "7ee79b48",
   "metadata": {},
   "outputs": [
    {
     "name": "stdout",
     "output_type": "stream",
     "text": [
      "[2, 4, 6, 8, 10, 12, 14, 16, 18, 20, 22, 24, 26, 28, 30, 32, 34, 36, 38, 40, 42, 44, 46, 48, 50, 52, 54, 56, 58, 60, 62, 64, 66, 68, 70, 72, 74, 76, 78, 80, 82, 84, 86, 88, 90, 92, 94, 96, 98, 100, 102, 104, 106, 108, 110, 112, 114, 116, 118, 120, 122, 124, 126, 128, 130, 132, 134, 136, 138, 140, 142, 144, 146, 148, 150, 152, 154, 156, 158, 160, 162, 164, 166, 168, 170, 172, 174, 176, 178, 180, 182, 184, 186, 188, 190, 192, 194, 196, 198, 200]\n"
     ]
    }
   ],
   "source": [
    "c_l = [i*2 for i in range(1, 101)]\n",
    "print(c_l)"
   ]
  },
  {
   "cell_type": "code",
   "execution_count": 11,
   "id": "8a03fcda",
   "metadata": {},
   "outputs": [
    {
     "name": "stdout",
     "output_type": "stream",
     "text": [
      "[7, 21, 35, 49, 63, 77, 91, 105, 119, 133, 147, 161, 175, 189, 203, 217, 231, 245, 259, 273, 287, 301, 315, 329, 343, 357, 371, 385, 399, 413, 427, 441, 455, 469, 483, 497, 511, 525, 539, 553, 567, 581, 595, 609, 623, 637, 651, 665, 679, 693]\n"
     ]
    }
   ],
   "source": [
    "# nur jede 2. Zahl:\n",
    "d_l = [i*7 for i in range(1,101,2)]\n",
    "print(d_l)"
   ]
  },
  {
   "cell_type": "code",
   "execution_count": 12,
   "id": "040cd336",
   "metadata": {},
   "outputs": [
    {
     "name": "stdout",
     "output_type": "stream",
     "text": [
      "['a', 'aa', 'aaa', 'aaaa', 'aaaaa', 'aaaaaa', 'aaaaaaa', 'aaaaaaaa', 'aaaaaaaaa']\n"
     ]
    }
   ],
   "source": [
    "e_l = ['a'*i for i in range(1,10)]\n",
    "print(e_l)"
   ]
  },
  {
   "cell_type": "code",
   "execution_count": 3,
   "id": "25a0a68c",
   "metadata": {},
   "outputs": [
    {
     "name": "stdout",
     "output_type": "stream",
     "text": [
      "['b', 'bb', 'bbb', 'bbbb', 'bbbbb', 'bbbbbb', 'bbbbbbb', 'bbbbbbbb', 'bbbbbbbbb']\n"
     ]
    }
   ],
   "source": [
    "def mache_b_string(n):\n",
    "    return 'b'*n\n",
    "\n",
    "f_l = [mache_b_string(i) for i in range(1,10)]\n",
    "print(f_l)"
   ]
  },
  {
   "cell_type": "code",
   "execution_count": 5,
   "id": "909755e3",
   "metadata": {},
   "outputs": [
    {
     "name": "stdout",
     "output_type": "stream",
     "text": [
      "[2, 4, 6, 8]\n",
      "[2, 4, 6, 8]\n",
      "[1, 2, 1, 8]\n",
      "[1, 1, 2, 4]\n"
     ]
    }
   ],
   "source": [
    "# filtern\n",
    "\n",
    "from random import randint\n",
    "\n",
    "g_l = [i for i in range(1,10) if i%2==0]\n",
    "print(g_l)\n",
    "\n",
    "# alternative\n",
    "g_l = []\n",
    "for i in range(1,10):\n",
    "    if i%2==0:\n",
    "       g_l.append(i)\n",
    "    \n",
    "print(g_l)\n",
    "\n",
    "g_l = [randint(1,i) for i in range(1,10) if i%2==0]\n",
    "print(g_l)\n",
    "\n",
    "# alternative\n",
    "g_l = []\n",
    "for i in range(1,10):\n",
    "    if i%2==0:\n",
    "       g_l.append(randint(1,i))\n",
    "print(g_l)"
   ]
  },
  {
   "cell_type": "code",
   "execution_count": 24,
   "id": "8a526e19",
   "metadata": {},
   "outputs": [
    {
     "name": "stdout",
     "output_type": "stream",
     "text": [
      "[3, 3]\n"
     ]
    }
   ],
   "source": [
    "# Für alle geraden i soll eine Zufallszahl im Bereich 1 bis i berechnet werden. \n",
    "# Die Zufallszahl wird in die Liste aufgenommen, \n",
    "# wenn es eine ungerade Zahl ist.\n",
    "\"\"\"\n",
    "h_l = []\n",
    "for i in range(1,10):\n",
    "    if i%2==0:\n",
    "        r = randint(1,i)\n",
    "        if r%2==1:\n",
    "            h_l.append(r)\n",
    "\n",
    "h_l = []\n",
    "for i in range(1,10):\n",
    "    if i%2==0:\n",
    "        r = randint(1,i)\n",
    "        h_l.append(r)\n",
    "        \n",
    "j_l = []\n",
    "for r in h_l:\n",
    "    if r%2==1:\n",
    "        j_l.append(r)\n",
    "\"\"\"\n",
    "\n",
    "\"\"\"\n",
    "h_l = [randint(1,i) for i in range(1,10) if i%2==0]\n",
    "        \n",
    "j_l = [r for r in h_l if r%2==1]\n",
    "\"\"\"\n",
    "\n",
    "j_l = [r for r in [randint(1,i) for i in range(1,10) if i%3==0] if r%2==1]\n",
    "\n",
    "print(j_l)"
   ]
  },
  {
   "cell_type": "code",
   "execution_count": 38,
   "id": "90b38d2e",
   "metadata": {},
   "outputs": [
    {
     "name": "stdout",
     "output_type": "stream",
     "text": [
      "[1, 2, 4, 6]\n",
      "[1]\n"
     ]
    }
   ],
   "source": [
    "j_l = []\n",
    "i_l = []\n",
    "for i in range(1,10):\n",
    "    if i % 2 == 0:\n",
    "        i_l.append(randint(1,i))\n",
    "print(i_l)\n",
    "for r in i_l:\n",
    "    if r % 2 == 1:\n",
    "        j_l.append(r)\n",
    "print(j_l)\n"
   ]
  },
  {
   "cell_type": "code",
   "execution_count": 41,
   "id": "560f6521",
   "metadata": {},
   "outputs": [
    {
     "name": "stdout",
     "output_type": "stream",
     "text": [
      "[1, 1, 3, 1, 3]\n",
      "[1, 1, 3]\n"
     ]
    }
   ],
   "source": [
    "# Stanislaw # Diese Lösung ist etwas anders als die Original-Lösung\n",
    "\n",
    "j_l = [r for i in range(1,10) if i%2==0 for r in range(randint(1, i)) if r%2==1]\n",
    "\n",
    "j_2 = [r for i in range(1,10) if i%2==0 for r in range(randint(1, i)) if r%2==1]\n",
    "print(j_l)\n",
    "print(j_2)"
   ]
  },
  {
   "cell_type": "code",
   "execution_count": 1,
   "id": "91d859de",
   "metadata": {},
   "outputs": [
    {
     "name": "stdout",
     "output_type": "stream",
     "text": [
      "[1, 1, 1, 1]\n"
     ]
    }
   ],
   "source": [
    "from random import randint\n",
    "k_l = []\n",
    "i_l = []\n",
    "for i in range(1,10):\n",
    "    if i % 2 == 0:\n",
    "        i_l.append(randint(1,i))\n",
    "        for r in i_l:\n",
    "            if r % 2 == 1:\n",
    "                k_l.append(r)\n",
    "print(k_l)"
   ]
  },
  {
   "cell_type": "code",
   "execution_count": 3,
   "id": "f803bd20",
   "metadata": {},
   "outputs": [
    {
     "name": "stdout",
     "output_type": "stream",
     "text": [
      "[1, 2, 3] [1, 2, 3]\n",
      "2741589231616 2741589191872\n"
     ]
    }
   ],
   "source": [
    "l = [1,2,3]\n",
    "m = l[:] #copy l\n",
    "print(l,m)\n",
    "print(id(l),id(m))"
   ]
  }
 ],
 "metadata": {
  "hide_input": false,
  "kernelspec": {
   "display_name": ".my_venv",
   "language": "python",
   "name": "python3"
  },
  "language_info": {
   "codemirror_mode": {
    "name": "ipython",
    "version": 3
   },
   "file_extension": ".py",
   "mimetype": "text/x-python",
   "name": "python",
   "nbconvert_exporter": "python",
   "pygments_lexer": "ipython3",
   "version": "3.12.6"
  }
 },
 "nbformat": 4,
 "nbformat_minor": 5
}
