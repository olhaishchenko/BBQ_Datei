{
 "cells": [
  {
   "cell_type": "markdown",
   "metadata": {},
   "source": [
    "1. Write a Python script to sort (ascending and descending) a dictionary by value.\n",
    "\n",
    "[Click me to see the sample solution](https://w3resource.com/python-exercises/dictionary/python-data-type-dictionary-exercise-1.php)\n"
   ]
  },
  {
   "cell_type": "code",
   "execution_count": 23,
   "metadata": {},
   "outputs": [
    {
     "name": "stdout",
     "output_type": "stream",
     "text": [
      "1 b\n",
      "3 v\n",
      "5 a\n",
      "10 c\n",
      "{'b': 1, 'v': 3, 'a': 5, 'c': 10}\n"
     ]
    }
   ],
   "source": [
    "# your solution\n",
    "import operator\n",
    "dic1 = {'a': 5, 'b': 1, 'v': 3, 'c': 10}\n",
    "dic1_rev = dict(zip(dic1.values(), dic1.keys()))\n",
    "list_value = sorted(dic1.values())\n",
    "\n",
    "k = {dic1_rev[val]: val for val in list_value}\n",
    "print(k)\n",
    "# print(list_value)\n",
    "# sorted_d = sorted(dic1.items(), key=operator.itemgetter(1))\n",
    "# sorted_d_reverse = sorted(dic1.items(), key=operator.itemgetter(1), reverse=True)\n",
    "# print(sorted_d)\n",
    "# print(sorted_d_reverse)\n"
   ]
  },
  {
   "cell_type": "markdown",
   "metadata": {},
   "source": [
    "2. Write a Python script to add a key to a dictionary.\n",
    "\n",
    "Sample Dictionary : {0: 10, 1: 20}\n",
    "Expected Result : {0: 10, 1: 20, 2: 30}\n",
    "\n",
    "[Click me to see the sample solution](https://w3resource.com/python-exercises/dictionary/python-data-type-dictionary-exercise-2.php)\n"
   ]
  },
  {
   "cell_type": "code",
   "execution_count": 25,
   "metadata": {},
   "outputs": [
    {
     "name": "stdout",
     "output_type": "stream",
     "text": [
      "{0: 10, 1: 20, 2: 30, 3: 40}\n"
     ]
    }
   ],
   "source": [
    "# your solution\n",
    "dict_1 = {0: 10, 1: 20}\n",
    "# dict_1[2] = 30\n",
    "dict_1.update([(2,30),(3,40)])\n",
    "print(dict_1)"
   ]
  },
  {
   "cell_type": "markdown",
   "metadata": {},
   "source": [
    "\n",
    "3. Write a Python script to concatenate the following dictionaries to create a new one.\n",
    "\n",
    "Sample Dictionary :\n",
    "dic1={1:10, 2:20}\n",
    "dic2={3:30, 4:40}\n",
    "dic3={5:50,6:60}\n",
    "Expected Result : {1: 10, 2: 20, 3: 30, 4: 40, 5: 50, 6: 60}\n",
    "\n",
    "[Click me to see the sample solution](https://w3resource.com/python-exercises/dictionary/python-data-type-dictionary-exercise-3.php)\n"
   ]
  },
  {
   "cell_type": "code",
   "execution_count": 27,
   "metadata": {},
   "outputs": [
    {
     "name": "stdout",
     "output_type": "stream",
     "text": [
      "{1: 10, 2: 20, 3: 30, 4: 40, 5: 50, 6: 60}\n"
     ]
    }
   ],
   "source": [
    "# your solution\n",
    "# Sample Dictionary :\n",
    "dic1={1:10, 2:20}\n",
    "dic2={3:30, 4:40}\n",
    "dic3={5:50, 6:60}\n",
    "dic1.update(dic2)\n",
    "dic1.update(dic3)\n",
    "print(dic1)"
   ]
  },
  {
   "cell_type": "markdown",
   "metadata": {},
   "source": [
    "\n",
    "4. Write a Python script to check whether a given key already exists in a dictionary.\n",
    "\n",
    "[Click me to see the sample solution](https://w3resource.com/python-exercises/dictionary/python-data-type-dictionary-exercise-4.php)\n"
   ]
  },
  {
   "cell_type": "code",
   "execution_count": 3,
   "metadata": {},
   "outputs": [
    {
     "name": "stdout",
     "output_type": "stream",
     "text": [
      "False\n",
      "True\n"
     ]
    }
   ],
   "source": [
    "# your solution\n",
    "dic1 = {'a': 5, 'b': 1, 'v': 3, 'c': 10}\n",
    "dict1_key = dic1.keys()\n",
    "dict1_key\n",
    "print('k' in dict1_key)\n",
    "print('a' in dict1_key)"
   ]
  },
  {
   "cell_type": "markdown",
   "metadata": {},
   "source": [
    "\n",
    "5. Write a Python program to iterate over dictionaries using for loops.\n",
    "\n",
    "[Click me to see the sample solution](https://w3resource.com/python-exercises/dictionary/python-data-type-dictionary-exercise-5.php)\n"
   ]
  },
  {
   "cell_type": "code",
   "execution_count": 7,
   "metadata": {},
   "outputs": [
    {
     "name": "stdout",
     "output_type": "stream",
     "text": [
      "x -> 10\n",
      "y -> 20\n",
      "z -> 30\n"
     ]
    }
   ],
   "source": [
    "# your solution\n",
    "\n",
    "# Create a dictionary 'd' with key-value pairs.\n",
    "d = {'x': 10, 'y': 20, 'z': 30} \n",
    "\n",
    "# Iterate through the key-value pairs in the dictionary using a for loop.\n",
    "# 'dict_key' represents the key, and 'dict_value' represents the value for each pair.\n",
    "for dict_key, dict_value in d.items():\n",
    "    # Print the key followed by '->' and the corresponding value.\n",
    "    print(dict_key, '->', dict_value)\n",
    "\n"
   ]
  },
  {
   "cell_type": "markdown",
   "metadata": {},
   "source": [
    "\n",
    "6. Write a Python script to generate and print a dictionary that contains a number (between 1 and n) in the form (x, x*x).\n",
    "Sample Dictionary ( n = 5) :\n",
    "Expected Output : {1: 1, 2: 4, 3: 9, 4: 16, 5: 25}\n",
    "[Click me to see the sample solution](https://w3resource.com/python-exercises/dictionary/python-data-type-dictionary-exercise-6.php)\n"
   ]
  },
  {
   "cell_type": "code",
   "execution_count": 5,
   "metadata": {},
   "outputs": [
    {
     "data": {
      "text/plain": [
       "{0: 0, 1: 1, 2: 4, 3: 9, 4: 16, 5: 25}"
      ]
     },
     "execution_count": 5,
     "metadata": {},
     "output_type": "execute_result"
    }
   ],
   "source": [
    "# your solution\n",
    "dict_n = {x: x*x for x in range(0, 6)}\n",
    "dict_n"
   ]
  },
  {
   "cell_type": "markdown",
   "metadata": {},
   "source": [
    "\n",
    "7. Write a Python script to print a dictionary where the keys are numbers between 1 and 15 (both included) and the values are the square of the keys.\n",
    "Sample Dictionary\n",
    "{1: 1, 2: 4, 3: 9, 4: 16, 5: 25, 6: 36, 7: 49, 8: 64, 9: 81, 10: 100, 11: 121, 12: 144, 13: 169, 14: 196, 15: 225}\n",
    "[Click me to see the sample solution](https://w3resource.com/python-exercises/dictionary/python-data-type-dictionary-exercise-7.php)\n"
   ]
  },
  {
   "cell_type": "code",
   "execution_count": 6,
   "metadata": {},
   "outputs": [
    {
     "data": {
      "text/plain": [
       "{1: 1,\n",
       " 2: 4,\n",
       " 3: 9,\n",
       " 4: 16,\n",
       " 5: 25,\n",
       " 6: 36,\n",
       " 7: 49,\n",
       " 8: 64,\n",
       " 9: 81,\n",
       " 10: 100,\n",
       " 11: 121,\n",
       " 12: 144,\n",
       " 13: 169,\n",
       " 14: 196,\n",
       " 15: 225}"
      ]
     },
     "execution_count": 6,
     "metadata": {},
     "output_type": "execute_result"
    }
   ],
   "source": [
    "# your solution\n",
    "dict_n = {x: x*x for x in range(1, 16)}\n",
    "dict_n"
   ]
  },
  {
   "cell_type": "markdown",
   "metadata": {},
   "source": [
    "\n",
    "8. Write a Python script to merge two Python dictionaries.\n",
    "[Click me to see the sample solution](https://w3resource.com/python-exercises/dictionary/python-data-type-dictionary-exercise-8.php)\n"
   ]
  },
  {
   "cell_type": "code",
   "execution_count": 10,
   "metadata": {},
   "outputs": [
    {
     "name": "stdout",
     "output_type": "stream",
     "text": [
      "{'a': 100, 'b': 200, 'x': 300, 'y': 200}\n"
     ]
    }
   ],
   "source": [
    "# your solution\n",
    "# Create the first dictionary 'd1' with key-value pairs.\n",
    "d1 = {'a': 100, 'b': 200, 'x': 400}\n",
    "\n",
    "# Create the second dictionary 'd2' with key-value pairs.\n",
    "d2 = {'x': 300, 'y': 200}\n",
    "\n",
    "# Create a new dictionary 'd' and initialize it as a copy of 'd1'.\n",
    "d = d1.copy()\n",
    "\n",
    "# Update the dictionary 'd' by adding key-value pairs from 'd2'.\n",
    "d.update(d2)\n",
    "\n",
    "# Print the dictionary 'd' after combining the key-value pairs from 'd1' and 'd2.\n",
    "print(d) "
   ]
  },
  {
   "cell_type": "markdown",
   "metadata": {},
   "source": [
    "\n",
    "9. Write a Python program to iterate over dictionaries using for loops.\n",
    "[Click me to see the sample solution](https://w3resource.com/python-exercises/dictionary/python-data-type-dictionary-exercise-9.php)\n"
   ]
  },
  {
   "cell_type": "code",
   "execution_count": null,
   "metadata": {},
   "outputs": [],
   "source": [
    "# your solution\n"
   ]
  },
  {
   "cell_type": "markdown",
   "metadata": {},
   "source": [
    "\n",
    "10. Write a Python program to sum all the items in a dictionary.\n",
    "[Click me to see the sample solution](https://w3resource.com/python-exercises/dictionary/python-data-type-dictionary-exercise-10.php)\n"
   ]
  },
  {
   "cell_type": "code",
   "execution_count": 1,
   "metadata": {},
   "outputs": [
    {
     "name": "stdout",
     "output_type": "stream",
     "text": [
      "19\n",
      "dict_values([5, 1, 3, 10])\n",
      "19\n"
     ]
    }
   ],
   "source": [
    "# your solution\n",
    "dic1 = {'a': 5, 'b': 1, 'v': 3, 'c': 10}\n",
    "sum_n = 0\n",
    "for key, value in dic1.items():\n",
    "    sum_n += value\n",
    "print(sum_n)\n",
    "print()\n",
    "result = sum(dic1.values())\n",
    "print(result)"
   ]
  },
  {
   "cell_type": "markdown",
   "metadata": {},
   "source": [
    "\n",
    "11. Write a Python program to multiply all the items in a dictionary.\n",
    "Click me to see the sample solution\n"
   ]
  },
  {
   "cell_type": "code",
   "execution_count": 1,
   "metadata": {},
   "outputs": [
    {
     "name": "stdout",
     "output_type": "stream",
     "text": [
      "150\n"
     ]
    }
   ],
   "source": [
    "# your solution\n",
    "dic1 = {'a': 5, 'b': 1, 'v': 3, 'c': 10}\n",
    "prod_n = 1\n",
    "for key, value in dic1.items():\n",
    "    prod_n *= value\n",
    "print(prod_n)\n"
   ]
  },
  {
   "cell_type": "markdown",
   "metadata": {},
   "source": [
    "\n",
    "12. Write a Python program to remove a key from a dictionary.\n",
    "Click me to see the sample solution\n"
   ]
  },
  {
   "cell_type": "code",
   "execution_count": 2,
   "metadata": {},
   "outputs": [
    {
     "name": "stdout",
     "output_type": "stream",
     "text": [
      "{'b': 1, 'v': 3, 'c': 10}\n"
     ]
    }
   ],
   "source": [
    "# your solution\n",
    "dict_1 = {'a': 5, 'b': 1, 'v': 3, 'c': 10}\n",
    "dict_1.pop('a')\n",
    "\n",
    "\n",
    "# if 'a' in myDict:\n",
    "#     # If 'a' is in the dictionary, delete the key-value pair with the key 'a'.\n",
    "#     del myDict['a']\n",
    "\n",
    "\n",
    "print(dict_1)"
   ]
  },
  {
   "cell_type": "markdown",
   "metadata": {},
   "source": [
    "\n",
    "13. Write a Python program to map two lists into a dictionary.\n",
    "Click me to see the sample solution\n"
   ]
  },
  {
   "cell_type": "code",
   "execution_count": 4,
   "metadata": {},
   "outputs": [
    {
     "name": "stdout",
     "output_type": "stream",
     "text": [
      "{1: 1, 2: 8, 3: 27, 4: 64, 5: 125, 6: 216, 7: 343, 8: 512, 9: 729}\n",
      "{1: 1, 2: 8, 3: 27, 4: 64, 5: 125, 6: 216, 7: 343, 8: 512, 9: 729}\n"
     ]
    }
   ],
   "source": [
    "# your solution\n",
    "list_1 = [i for i in range(1,10)]\n",
    "list_2 = [i**3 for i in range(1,10)]\n",
    "dict_map = {list_1[i]: list_2[i] for i in range(len(list_1))}\n",
    "print(dict_map)\n",
    "verb_dict = dict(zip(list_1, list_2))\n",
    "print(verb_dict)"
   ]
  },
  {
   "cell_type": "markdown",
   "metadata": {},
   "source": [
    "\n",
    "14. Write a Python program to sort a given dictionary by key.\n",
    "Click me to see the sample solution\n"
   ]
  },
  {
   "cell_type": "code",
   "execution_count": 7,
   "metadata": {},
   "outputs": [
    {
     "name": "stdout",
     "output_type": "stream",
     "text": [
      "a :  5\n",
      "b :  1\n",
      "c :  10\n",
      "v :  3\n"
     ]
    }
   ],
   "source": [
    "# your solution\n",
    "\n",
    "dic1 = {'a': 5, 'b': 1, 'v': 3, 'c': 10}\n",
    "sorted_d = sorted(dic1)\n",
    "for key in sorted_d:\n",
    "    print(key, \": \", dic1[key])\n"
   ]
  },
  {
   "cell_type": "markdown",
   "metadata": {},
   "source": [
    "\n",
    "15. Write a Python program to get the maximum and minimum values of a dictionary.\n",
    "Click me to see the sample solution\n"
   ]
  },
  {
   "cell_type": "code",
   "execution_count": 10,
   "metadata": {},
   "outputs": [
    {
     "name": "stdout",
     "output_type": "stream",
     "text": [
      "1\n"
     ]
    }
   ],
   "source": [
    "# your solution\n",
    "# # Create a dictionary 'my_dict' with key-value pairs.\n",
    "# my_dict = {'x': 500, 'y': 5874, 'z': 560}\n",
    "\n",
    "# # Find the key with the maximum value in 'my_dict' using the 'max' function and a lambda function.\n",
    "# # The 'key' argument specifies how the maximum value is determined.\n",
    "# key_max = max(my_dict.keys(), key=(lambda k: my_dict[k]))\n",
    "\n",
    "# # Find the key with the minimum value in 'my_dict' using the 'min' function and a lambda function.\n",
    "# # The 'key' argument specifies how the minimum value is determined.\n",
    "# key_min = min(my_dict.keys(), key=(lambda k: my_dict[k]))\n",
    "\n",
    "# # Print the maximum value by using the 'key_max' to access the corresponding value in 'my_dict'.\n",
    "# print('Maximum Value: ', my_dict[key_max])\n",
    "\n",
    "# # Print the minimum value by using the 'key_min' to access the corresponding value in 'my_dict'.\n",
    "# print('Minimum Value: ', my_dict[key_min])\n",
    "\n",
    "\n",
    "dic1 = {'a': 5, 'b': 1, 'v': 3, 'c': 10}\n",
    "\n",
    "print(min(dic1.values()))\n",
    "\n"
   ]
  },
  {
   "cell_type": "markdown",
   "metadata": {},
   "source": [
    "\n",
    "16. Write a Python program to get a dictionary from an object's fields.\n",
    "Click me to see the sample solution\n"
   ]
  },
  {
   "cell_type": "code",
   "execution_count": null,
   "metadata": {},
   "outputs": [],
   "source": [
    "# your solution\n"
   ]
  },
  {
   "cell_type": "markdown",
   "metadata": {},
   "source": [
    "\n",
    "17. Write a Python program to remove duplicates from the dictionary.\n",
    "Click me to see the sample solution\n"
   ]
  },
  {
   "cell_type": "code",
   "execution_count": null,
   "metadata": {},
   "outputs": [],
   "source": [
    "# your solution\n"
   ]
  },
  {
   "cell_type": "markdown",
   "metadata": {},
   "source": [
    "\n",
    "18. Write a Python program to check if a dictionary is empty or not.\n",
    "Click me to see the sample solution\n"
   ]
  },
  {
   "cell_type": "code",
   "execution_count": null,
   "metadata": {},
   "outputs": [],
   "source": [
    "# your solution\n"
   ]
  },
  {
   "cell_type": "markdown",
   "metadata": {},
   "source": [
    "\n",
    "19. Write a Python program to combine two dictionary by adding values for common keys.\n",
    "d1 = {'a': 100, 'b': 200, 'c':300}\n",
    "d2 = {'a': 300, 'b': 200, 'd':400}\n",
    "Sample output: Counter({'a': 400, 'b': 400, 'd': 400, 'c': 300})\n",
    "Click me to see the sample solution\n"
   ]
  },
  {
   "cell_type": "code",
   "execution_count": 1,
   "metadata": {},
   "outputs": [
    {
     "name": "stdout",
     "output_type": "stream",
     "text": [
      "{'b': 400, 'd': 400, 'c': 300, 'a': 400}\n",
      "Counter({'a': 400, 'b': 400, 'd': 400, 'c': 300})\n"
     ]
    }
   ],
   "source": [
    "# your solution\n",
    "d1 = {'a': 100, 'b': 200, 'c': 300}\n",
    "d2 = {'a': 300, 'b': 200, 'd': 400}\n",
    "count_d = {}\n",
    "\n",
    "# Об'єднання ключів із обох словників\n",
    "all_keys = set(d1.keys()).union(d2.keys())\n",
    "\n",
    "for key in all_keys:\n",
    "    # Якщо ключ є в обох словниках, додаємо значення\n",
    "    if key in d1 and key in d2:\n",
    "        count_d[key] = d1[key] + d2[key]\n",
    "    # Якщо ключ тільки в d1\n",
    "    elif key in d1:\n",
    "        count_d[key] = d1[key]\n",
    "    # Якщо ключ тільки в d2\n",
    "    elif key in d2:\n",
    "        count_d[key] = d2[key]\n",
    "\n",
    "print(count_d)\n",
    "\n",
    "\n",
    "from collections import Counter\n",
    "d1 = {'a': 100, 'b': 200, 'c':300}\n",
    "d2 = {'a': 300, 'b': 200, 'd':400}\n",
    "d_3 = Counter(d1) + Counter(d2)\n",
    "print(d_3)\n",
    "        "
   ]
  },
  {
   "cell_type": "markdown",
   "metadata": {},
   "source": [
    "\n",
    "20. Write a Python program to print all distinct values in a dictionary.\n",
    "Sample Data : [{\"V\":\"S001\"}, {\"V\": \"S002\"}, {\"VI\": \"S001\"}, {\"VI\": \"S005\"}, {\"VII\":\"S005\"}, {\"V\":\"S009\"},{\"VIII\":\"S007\"}]\n",
    "Expected Output : Unique Values: {'S005', 'S002', 'S007', 'S001', 'S009'}\n",
    "Click me to see the sample solution"
   ]
  },
  {
   "cell_type": "code",
   "execution_count": null,
   "metadata": {},
   "outputs": [],
   "source": [
    "# your solution\n"
   ]
  }
 ],
 "metadata": {
  "kernelspec": {
   "display_name": "Python 3",
   "language": "python",
   "name": "python3"
  },
  "language_info": {
   "codemirror_mode": {
    "name": "ipython",
    "version": 3
   },
   "file_extension": ".py",
   "mimetype": "text/x-python",
   "name": "python",
   "nbconvert_exporter": "python",
   "pygments_lexer": "ipython3",
   "version": "3.12.6"
  }
 },
 "nbformat": 4,
 "nbformat_minor": 2
}
