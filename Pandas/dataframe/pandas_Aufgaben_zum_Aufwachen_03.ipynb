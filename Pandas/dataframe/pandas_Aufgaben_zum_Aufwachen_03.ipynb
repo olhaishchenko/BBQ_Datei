{
 "cells": [
  {
   "cell_type": "markdown",
   "metadata": {},
   "source": [
    "### 1. DataFrame Erstellung\n",
    "#### Aufgabe 1: Erstelle ein DataFrame aus den folgenden Daten:\n",
    "\n",
    "- Temperatur: [22, 24, 26, 28, 30]\n",
    "- Luftfeuchtigkeit: [60, 55, 50, 45, 40]\n",
    "- Windgeschwindigkeit: [5, 7, 9, 6, 8]\n",
    "- Regenwahrscheinlichkeit: [0.3, 0.5, 0.7, 0.2, 0.1]"
   ]
  },
  {
   "cell_type": "code",
   "execution_count": 1,
   "metadata": {},
   "outputs": [],
   "source": [
    "import pandas as pd\n",
    "import numpy as np"
   ]
  },
  {
   "cell_type": "code",
   "execution_count": 5,
   "metadata": {},
   "outputs": [
    {
     "data": {
      "text/html": [
       "<div>\n",
       "<style scoped>\n",
       "    .dataframe tbody tr th:only-of-type {\n",
       "        vertical-align: middle;\n",
       "    }\n",
       "\n",
       "    .dataframe tbody tr th {\n",
       "        vertical-align: top;\n",
       "    }\n",
       "\n",
       "    .dataframe thead th {\n",
       "        text-align: right;\n",
       "    }\n",
       "</style>\n",
       "<table border=\"1\" class=\"dataframe\">\n",
       "  <thead>\n",
       "    <tr style=\"text-align: right;\">\n",
       "      <th></th>\n",
       "      <th>Temperatur</th>\n",
       "      <th>Luftfeuchtigkeit</th>\n",
       "      <th>Windgeschwindigkeit</th>\n",
       "      <th>Regenwahrscheinlichkeit</th>\n",
       "    </tr>\n",
       "  </thead>\n",
       "  <tbody>\n",
       "    <tr>\n",
       "      <th>0</th>\n",
       "      <td>22</td>\n",
       "      <td>60</td>\n",
       "      <td>5</td>\n",
       "      <td>0.3</td>\n",
       "    </tr>\n",
       "    <tr>\n",
       "      <th>1</th>\n",
       "      <td>24</td>\n",
       "      <td>55</td>\n",
       "      <td>7</td>\n",
       "      <td>0.5</td>\n",
       "    </tr>\n",
       "    <tr>\n",
       "      <th>2</th>\n",
       "      <td>26</td>\n",
       "      <td>50</td>\n",
       "      <td>9</td>\n",
       "      <td>0.7</td>\n",
       "    </tr>\n",
       "    <tr>\n",
       "      <th>3</th>\n",
       "      <td>28</td>\n",
       "      <td>45</td>\n",
       "      <td>6</td>\n",
       "      <td>0.2</td>\n",
       "    </tr>\n",
       "    <tr>\n",
       "      <th>4</th>\n",
       "      <td>30</td>\n",
       "      <td>40</td>\n",
       "      <td>8</td>\n",
       "      <td>0.1</td>\n",
       "    </tr>\n",
       "  </tbody>\n",
       "</table>\n",
       "</div>"
      ],
      "text/plain": [
       "   Temperatur  Luftfeuchtigkeit  Windgeschwindigkeit  Regenwahrscheinlichkeit\n",
       "0          22                60                    5                      0.3\n",
       "1          24                55                    7                      0.5\n",
       "2          26                50                    9                      0.7\n",
       "3          28                45                    6                      0.2\n",
       "4          30                40                    8                      0.1"
      ]
     },
     "execution_count": 5,
     "metadata": {},
     "output_type": "execute_result"
    }
   ],
   "source": [
    "temperatur = [22, 24, 26, 28, 30]\n",
    "luftfeuchtigkeit = [60, 55, 50, 45, 40]\n",
    "windgeschwindigkeit = [5, 7, 9, 6, 8]\n",
    "regenwahrscheinlichkeit = [0.3, 0.5, 0.7, 0.2, 0.1]\n",
    "wetter ={\n",
    "    'Temperatur': temperatur,\n",
    "    'Luftfeuchtigkeit': luftfeuchtigkeit,\n",
    "    'Windgeschwindigkeit': windgeschwindigkeit,\n",
    "    'Regenwahrscheinlichkeit': regenwahrscheinlichkeit\n",
    "}\n",
    "df_wetter = pd.DataFrame(wetter)\n",
    "df_wetter"
   ]
  },
  {
   "cell_type": "markdown",
   "metadata": {},
   "source": [
    "#### Aufgabe 2: \n",
    "Füge dem erstellten DataFrame eine neue Spalte mit dem Namen \"Druck\" hinzu, wobei der Wert für alle Zeilen 1013 ist (dies könnte den Luftdruck in hPa darstellen)."
   ]
  },
  {
   "cell_type": "code",
   "execution_count": 6,
   "metadata": {},
   "outputs": [
    {
     "data": {
      "text/html": [
       "<div>\n",
       "<style scoped>\n",
       "    .dataframe tbody tr th:only-of-type {\n",
       "        vertical-align: middle;\n",
       "    }\n",
       "\n",
       "    .dataframe tbody tr th {\n",
       "        vertical-align: top;\n",
       "    }\n",
       "\n",
       "    .dataframe thead th {\n",
       "        text-align: right;\n",
       "    }\n",
       "</style>\n",
       "<table border=\"1\" class=\"dataframe\">\n",
       "  <thead>\n",
       "    <tr style=\"text-align: right;\">\n",
       "      <th></th>\n",
       "      <th>Temperatur</th>\n",
       "      <th>Luftfeuchtigkeit</th>\n",
       "      <th>Windgeschwindigkeit</th>\n",
       "      <th>Regenwahrscheinlichkeit</th>\n",
       "      <th>Druck</th>\n",
       "    </tr>\n",
       "  </thead>\n",
       "  <tbody>\n",
       "    <tr>\n",
       "      <th>0</th>\n",
       "      <td>22</td>\n",
       "      <td>60</td>\n",
       "      <td>5</td>\n",
       "      <td>0.3</td>\n",
       "      <td>1013</td>\n",
       "    </tr>\n",
       "    <tr>\n",
       "      <th>1</th>\n",
       "      <td>24</td>\n",
       "      <td>55</td>\n",
       "      <td>7</td>\n",
       "      <td>0.5</td>\n",
       "      <td>1013</td>\n",
       "    </tr>\n",
       "    <tr>\n",
       "      <th>2</th>\n",
       "      <td>26</td>\n",
       "      <td>50</td>\n",
       "      <td>9</td>\n",
       "      <td>0.7</td>\n",
       "      <td>1013</td>\n",
       "    </tr>\n",
       "    <tr>\n",
       "      <th>3</th>\n",
       "      <td>28</td>\n",
       "      <td>45</td>\n",
       "      <td>6</td>\n",
       "      <td>0.2</td>\n",
       "      <td>1013</td>\n",
       "    </tr>\n",
       "    <tr>\n",
       "      <th>4</th>\n",
       "      <td>30</td>\n",
       "      <td>40</td>\n",
       "      <td>8</td>\n",
       "      <td>0.1</td>\n",
       "      <td>1013</td>\n",
       "    </tr>\n",
       "  </tbody>\n",
       "</table>\n",
       "</div>"
      ],
      "text/plain": [
       "   Temperatur  Luftfeuchtigkeit  Windgeschwindigkeit  Regenwahrscheinlichkeit  \\\n",
       "0          22                60                    5                      0.3   \n",
       "1          24                55                    7                      0.5   \n",
       "2          26                50                    9                      0.7   \n",
       "3          28                45                    6                      0.2   \n",
       "4          30                40                    8                      0.1   \n",
       "\n",
       "   Druck  \n",
       "0   1013  \n",
       "1   1013  \n",
       "2   1013  \n",
       "3   1013  \n",
       "4   1013  "
      ]
     },
     "execution_count": 6,
     "metadata": {},
     "output_type": "execute_result"
    }
   ],
   "source": [
    "df_wetter['Druck'] = 1013\n",
    "df_wetter"
   ]
  },
  {
   "cell_type": "markdown",
   "metadata": {},
   "source": [
    "### 2. DataFrame Auswahl, Slicing und Indexierung\n",
    "#### Aufgabe 1: \n",
    "Wähle aus dem DataFrame alle Zeilen aus, bei denen die Luftfeuchtigkeit größer als 50 ist."
   ]
  },
  {
   "cell_type": "code",
   "execution_count": 7,
   "metadata": {},
   "outputs": [
    {
     "data": {
      "text/html": [
       "<div>\n",
       "<style scoped>\n",
       "    .dataframe tbody tr th:only-of-type {\n",
       "        vertical-align: middle;\n",
       "    }\n",
       "\n",
       "    .dataframe tbody tr th {\n",
       "        vertical-align: top;\n",
       "    }\n",
       "\n",
       "    .dataframe thead th {\n",
       "        text-align: right;\n",
       "    }\n",
       "</style>\n",
       "<table border=\"1\" class=\"dataframe\">\n",
       "  <thead>\n",
       "    <tr style=\"text-align: right;\">\n",
       "      <th></th>\n",
       "      <th>Temperatur</th>\n",
       "      <th>Luftfeuchtigkeit</th>\n",
       "      <th>Windgeschwindigkeit</th>\n",
       "      <th>Regenwahrscheinlichkeit</th>\n",
       "      <th>Druck</th>\n",
       "    </tr>\n",
       "  </thead>\n",
       "  <tbody>\n",
       "    <tr>\n",
       "      <th>0</th>\n",
       "      <td>22</td>\n",
       "      <td>60</td>\n",
       "      <td>5</td>\n",
       "      <td>0.3</td>\n",
       "      <td>1013</td>\n",
       "    </tr>\n",
       "    <tr>\n",
       "      <th>1</th>\n",
       "      <td>24</td>\n",
       "      <td>55</td>\n",
       "      <td>7</td>\n",
       "      <td>0.5</td>\n",
       "      <td>1013</td>\n",
       "    </tr>\n",
       "  </tbody>\n",
       "</table>\n",
       "</div>"
      ],
      "text/plain": [
       "   Temperatur  Luftfeuchtigkeit  Windgeschwindigkeit  Regenwahrscheinlichkeit  \\\n",
       "0          22                60                    5                      0.3   \n",
       "1          24                55                    7                      0.5   \n",
       "\n",
       "   Druck  \n",
       "0   1013  \n",
       "1   1013  "
      ]
     },
     "execution_count": 7,
     "metadata": {},
     "output_type": "execute_result"
    }
   ],
   "source": [
    "df_wetter[df_wetter['Luftfeuchtigkeit']>50]"
   ]
  },
  {
   "cell_type": "markdown",
   "metadata": {},
   "source": [
    "#### Aufgabe 2: \n",
    "Wähle die Spalten Temperatur und Regenwahrscheinlichkeit aus dem DataFrame aus und speichere das Ergebnis in einer neuen Variablen.\n",
    "\n"
   ]
  },
  {
   "cell_type": "code",
   "execution_count": 9,
   "metadata": {},
   "outputs": [
    {
     "data": {
      "text/html": [
       "<div>\n",
       "<style scoped>\n",
       "    .dataframe tbody tr th:only-of-type {\n",
       "        vertical-align: middle;\n",
       "    }\n",
       "\n",
       "    .dataframe tbody tr th {\n",
       "        vertical-align: top;\n",
       "    }\n",
       "\n",
       "    .dataframe thead th {\n",
       "        text-align: right;\n",
       "    }\n",
       "</style>\n",
       "<table border=\"1\" class=\"dataframe\">\n",
       "  <thead>\n",
       "    <tr style=\"text-align: right;\">\n",
       "      <th></th>\n",
       "      <th>Temperatur</th>\n",
       "      <th>Regenwahrscheinlichkeit</th>\n",
       "    </tr>\n",
       "  </thead>\n",
       "  <tbody>\n",
       "    <tr>\n",
       "      <th>0</th>\n",
       "      <td>22</td>\n",
       "      <td>0.3</td>\n",
       "    </tr>\n",
       "    <tr>\n",
       "      <th>1</th>\n",
       "      <td>24</td>\n",
       "      <td>0.5</td>\n",
       "    </tr>\n",
       "    <tr>\n",
       "      <th>2</th>\n",
       "      <td>26</td>\n",
       "      <td>0.7</td>\n",
       "    </tr>\n",
       "    <tr>\n",
       "      <th>3</th>\n",
       "      <td>28</td>\n",
       "      <td>0.2</td>\n",
       "    </tr>\n",
       "    <tr>\n",
       "      <th>4</th>\n",
       "      <td>30</td>\n",
       "      <td>0.1</td>\n",
       "    </tr>\n",
       "  </tbody>\n",
       "</table>\n",
       "</div>"
      ],
      "text/plain": [
       "   Temperatur  Regenwahrscheinlichkeit\n",
       "0          22                      0.3\n",
       "1          24                      0.5\n",
       "2          26                      0.7\n",
       "3          28                      0.2\n",
       "4          30                      0.1"
      ]
     },
     "execution_count": 9,
     "metadata": {},
     "output_type": "execute_result"
    }
   ],
   "source": [
    "df_t_r = df_wetter[['Temperatur', 'Regenwahrscheinlichkeit']]\n",
    "df_t_r"
   ]
  },
  {
   "cell_type": "markdown",
   "metadata": {},
   "source": [
    "#### Aufgabe 3: \n",
    "Verwende .iloc[], um die Werte aus den ersten drei Zeilen und den ersten zwei Spalten des DataFrames auszuwählen."
   ]
  },
  {
   "cell_type": "code",
   "execution_count": 11,
   "metadata": {},
   "outputs": [
    {
     "data": {
      "text/html": [
       "<div>\n",
       "<style scoped>\n",
       "    .dataframe tbody tr th:only-of-type {\n",
       "        vertical-align: middle;\n",
       "    }\n",
       "\n",
       "    .dataframe tbody tr th {\n",
       "        vertical-align: top;\n",
       "    }\n",
       "\n",
       "    .dataframe thead th {\n",
       "        text-align: right;\n",
       "    }\n",
       "</style>\n",
       "<table border=\"1\" class=\"dataframe\">\n",
       "  <thead>\n",
       "    <tr style=\"text-align: right;\">\n",
       "      <th></th>\n",
       "      <th>Temperatur</th>\n",
       "      <th>Luftfeuchtigkeit</th>\n",
       "    </tr>\n",
       "  </thead>\n",
       "  <tbody>\n",
       "    <tr>\n",
       "      <th>0</th>\n",
       "      <td>22</td>\n",
       "      <td>60</td>\n",
       "    </tr>\n",
       "    <tr>\n",
       "      <th>1</th>\n",
       "      <td>24</td>\n",
       "      <td>55</td>\n",
       "    </tr>\n",
       "    <tr>\n",
       "      <th>2</th>\n",
       "      <td>26</td>\n",
       "      <td>50</td>\n",
       "    </tr>\n",
       "  </tbody>\n",
       "</table>\n",
       "</div>"
      ],
      "text/plain": [
       "   Temperatur  Luftfeuchtigkeit\n",
       "0          22                60\n",
       "1          24                55\n",
       "2          26                50"
      ]
     },
     "execution_count": 11,
     "metadata": {},
     "output_type": "execute_result"
    }
   ],
   "source": [
    "df_wetter.iloc[:3, :2]"
   ]
  },
  {
   "cell_type": "markdown",
   "metadata": {},
   "source": [
    "### 3. DataFrame Manipulation und Operationen\n",
    "#### Aufgabe 1: \n",
    "Berechne die durchschnittliche Luftfeuchtigkeit und speichere das Ergebnis in einer Variablen."
   ]
  },
  {
   "cell_type": "code",
   "execution_count": 12,
   "metadata": {},
   "outputs": [
    {
     "data": {
      "text/plain": [
       "np.float64(50.0)"
      ]
     },
     "execution_count": 12,
     "metadata": {},
     "output_type": "execute_result"
    }
   ],
   "source": [
    "mean_luftfeuchtigkeit = df_wetter['Luftfeuchtigkeit'].mean()\n",
    "mean_luftfeuchtigkeit"
   ]
  },
  {
   "cell_type": "markdown",
   "metadata": {},
   "source": [
    "#### Aufgabe 2: \n",
    "Erstelle eine neue Spalte \"Temperatur_in_Fahrenheit\", die die Werte aus der Spalte Temperatur in Fahrenheit umwandelt.\n",
    "Formel: $$T_F=T_C×9/5+32$$"
   ]
  },
  {
   "cell_type": "code",
   "execution_count": 13,
   "metadata": {},
   "outputs": [
    {
     "data": {
      "text/html": [
       "<div>\n",
       "<style scoped>\n",
       "    .dataframe tbody tr th:only-of-type {\n",
       "        vertical-align: middle;\n",
       "    }\n",
       "\n",
       "    .dataframe tbody tr th {\n",
       "        vertical-align: top;\n",
       "    }\n",
       "\n",
       "    .dataframe thead th {\n",
       "        text-align: right;\n",
       "    }\n",
       "</style>\n",
       "<table border=\"1\" class=\"dataframe\">\n",
       "  <thead>\n",
       "    <tr style=\"text-align: right;\">\n",
       "      <th></th>\n",
       "      <th>Temperatur</th>\n",
       "      <th>Luftfeuchtigkeit</th>\n",
       "      <th>Windgeschwindigkeit</th>\n",
       "      <th>Regenwahrscheinlichkeit</th>\n",
       "      <th>Druck</th>\n",
       "      <th>Temperatur_in_Fahrenheit</th>\n",
       "    </tr>\n",
       "  </thead>\n",
       "  <tbody>\n",
       "    <tr>\n",
       "      <th>0</th>\n",
       "      <td>22</td>\n",
       "      <td>60</td>\n",
       "      <td>5</td>\n",
       "      <td>0.3</td>\n",
       "      <td>1013</td>\n",
       "      <td>71.6</td>\n",
       "    </tr>\n",
       "    <tr>\n",
       "      <th>1</th>\n",
       "      <td>24</td>\n",
       "      <td>55</td>\n",
       "      <td>7</td>\n",
       "      <td>0.5</td>\n",
       "      <td>1013</td>\n",
       "      <td>75.2</td>\n",
       "    </tr>\n",
       "    <tr>\n",
       "      <th>2</th>\n",
       "      <td>26</td>\n",
       "      <td>50</td>\n",
       "      <td>9</td>\n",
       "      <td>0.7</td>\n",
       "      <td>1013</td>\n",
       "      <td>78.8</td>\n",
       "    </tr>\n",
       "    <tr>\n",
       "      <th>3</th>\n",
       "      <td>28</td>\n",
       "      <td>45</td>\n",
       "      <td>6</td>\n",
       "      <td>0.2</td>\n",
       "      <td>1013</td>\n",
       "      <td>82.4</td>\n",
       "    </tr>\n",
       "    <tr>\n",
       "      <th>4</th>\n",
       "      <td>30</td>\n",
       "      <td>40</td>\n",
       "      <td>8</td>\n",
       "      <td>0.1</td>\n",
       "      <td>1013</td>\n",
       "      <td>86.0</td>\n",
       "    </tr>\n",
       "  </tbody>\n",
       "</table>\n",
       "</div>"
      ],
      "text/plain": [
       "   Temperatur  Luftfeuchtigkeit  Windgeschwindigkeit  Regenwahrscheinlichkeit  \\\n",
       "0          22                60                    5                      0.3   \n",
       "1          24                55                    7                      0.5   \n",
       "2          26                50                    9                      0.7   \n",
       "3          28                45                    6                      0.2   \n",
       "4          30                40                    8                      0.1   \n",
       "\n",
       "   Druck  Temperatur_in_Fahrenheit  \n",
       "0   1013                      71.6  \n",
       "1   1013                      75.2  \n",
       "2   1013                      78.8  \n",
       "3   1013                      82.4  \n",
       "4   1013                      86.0  "
      ]
     },
     "execution_count": 13,
     "metadata": {},
     "output_type": "execute_result"
    }
   ],
   "source": [
    "df_wetter['Temperatur_in_Fahrenheit'] = df_wetter['Temperatur'] * 9 / 5 + 32\n",
    "df_wetter"
   ]
  },
  {
   "cell_type": "markdown",
   "metadata": {},
   "source": [
    "#### Aufgabe 3: \n",
    "Berechne die maximale Windgeschwindigkeit aus der Spalte Wind Speed und die minimale Regenwahrscheinlichkeit aus der Spalte Rainfall Probability"
   ]
  },
  {
   "cell_type": "code",
   "execution_count": 14,
   "metadata": {},
   "outputs": [
    {
     "data": {
      "text/plain": [
       "(np.int64(9), np.float64(0.1))"
      ]
     },
     "execution_count": 14,
     "metadata": {},
     "output_type": "execute_result"
    }
   ],
   "source": [
    "max_wind = df_wetter['Windgeschwindigkeit'].max()\n",
    "min_regen  = df_wetter['Regenwahrscheinlichkeit'].min()\n",
    "max_wind, min_regen"
   ]
  },
  {
   "cell_type": "markdown",
   "metadata": {},
   "source": []
  },
  {
   "cell_type": "markdown",
   "metadata": {},
   "source": [
    "### 4. DataFrame Boolesche Arrays (Masken)\n",
    "#### Aufgabe 1: \n",
    "Erstelle eine boolesche Maske, die True ist, wenn die Regenwahrscheinlichkeit größer als 0.5 ist, und False, wenn sie kleiner oder gleich 0.5 ist."
   ]
  },
  {
   "cell_type": "code",
   "execution_count": 26,
   "metadata": {},
   "outputs": [],
   "source": [
    "\n",
    "mask= df_wetter['Regenwahrscheinlichkeit']>0.5"
   ]
  },
  {
   "cell_type": "markdown",
   "metadata": {},
   "source": [
    "#### Aufgabe 2: \n",
    "Verwende die Maske aus Aufgabe 1, um alle Zeilen aus dem DataFrame auszuwählen, bei denen die Regenwahrscheinlichkeit größer als 0.5 ist."
   ]
  },
  {
   "cell_type": "code",
   "execution_count": 27,
   "metadata": {},
   "outputs": [
    {
     "data": {
      "text/html": [
       "<div>\n",
       "<style scoped>\n",
       "    .dataframe tbody tr th:only-of-type {\n",
       "        vertical-align: middle;\n",
       "    }\n",
       "\n",
       "    .dataframe tbody tr th {\n",
       "        vertical-align: top;\n",
       "    }\n",
       "\n",
       "    .dataframe thead th {\n",
       "        text-align: right;\n",
       "    }\n",
       "</style>\n",
       "<table border=\"1\" class=\"dataframe\">\n",
       "  <thead>\n",
       "    <tr style=\"text-align: right;\">\n",
       "      <th></th>\n",
       "      <th>Temperatur</th>\n",
       "      <th>Luftfeuchtigkeit</th>\n",
       "      <th>Windgeschwindigkeit</th>\n",
       "      <th>Regenwahrscheinlichkeit</th>\n",
       "      <th>Druck</th>\n",
       "      <th>Temperatur_in_Fahrenheit</th>\n",
       "    </tr>\n",
       "  </thead>\n",
       "  <tbody>\n",
       "    <tr>\n",
       "      <th>2</th>\n",
       "      <td>26</td>\n",
       "      <td>50</td>\n",
       "      <td>9</td>\n",
       "      <td>0.7</td>\n",
       "      <td>1013</td>\n",
       "      <td>78.8</td>\n",
       "    </tr>\n",
       "  </tbody>\n",
       "</table>\n",
       "</div>"
      ],
      "text/plain": [
       "   Temperatur  Luftfeuchtigkeit  Windgeschwindigkeit  Regenwahrscheinlichkeit  \\\n",
       "2          26                50                    9                      0.7   \n",
       "\n",
       "   Druck  Temperatur_in_Fahrenheit  \n",
       "2   1013                      78.8  "
      ]
     },
     "execution_count": 27,
     "metadata": {},
     "output_type": "execute_result"
    }
   ],
   "source": [
    "df_wetter[mask]"
   ]
  },
  {
   "cell_type": "markdown",
   "metadata": {},
   "source": [
    "#### Aufgabe 3: \n",
    "Erstelle eine boolesche Maske, um alle Zeilen auszuwählen, bei denen die Temperatur größer als 25 und die Luftfeuchtigkeit kleiner als 50 ist."
   ]
  },
  {
   "cell_type": "code",
   "execution_count": 28,
   "metadata": {},
   "outputs": [],
   "source": [
    "mask_2 = (df_wetter['Temperatur'] > 25) & (df_wetter['Luftfeuchtigkeit'] < 50)"
   ]
  },
  {
   "cell_type": "code",
   "execution_count": 29,
   "metadata": {},
   "outputs": [
    {
     "data": {
      "text/html": [
       "<div>\n",
       "<style scoped>\n",
       "    .dataframe tbody tr th:only-of-type {\n",
       "        vertical-align: middle;\n",
       "    }\n",
       "\n",
       "    .dataframe tbody tr th {\n",
       "        vertical-align: top;\n",
       "    }\n",
       "\n",
       "    .dataframe thead th {\n",
       "        text-align: right;\n",
       "    }\n",
       "</style>\n",
       "<table border=\"1\" class=\"dataframe\">\n",
       "  <thead>\n",
       "    <tr style=\"text-align: right;\">\n",
       "      <th></th>\n",
       "      <th>Temperatur</th>\n",
       "      <th>Luftfeuchtigkeit</th>\n",
       "      <th>Windgeschwindigkeit</th>\n",
       "      <th>Regenwahrscheinlichkeit</th>\n",
       "      <th>Druck</th>\n",
       "      <th>Temperatur_in_Fahrenheit</th>\n",
       "    </tr>\n",
       "  </thead>\n",
       "  <tbody>\n",
       "    <tr>\n",
       "      <th>3</th>\n",
       "      <td>28</td>\n",
       "      <td>45</td>\n",
       "      <td>6</td>\n",
       "      <td>0.2</td>\n",
       "      <td>1013</td>\n",
       "      <td>82.4</td>\n",
       "    </tr>\n",
       "    <tr>\n",
       "      <th>4</th>\n",
       "      <td>30</td>\n",
       "      <td>40</td>\n",
       "      <td>8</td>\n",
       "      <td>0.1</td>\n",
       "      <td>1013</td>\n",
       "      <td>86.0</td>\n",
       "    </tr>\n",
       "  </tbody>\n",
       "</table>\n",
       "</div>"
      ],
      "text/plain": [
       "   Temperatur  Luftfeuchtigkeit  Windgeschwindigkeit  Regenwahrscheinlichkeit  \\\n",
       "3          28                45                    6                      0.2   \n",
       "4          30                40                    8                      0.1   \n",
       "\n",
       "   Druck  Temperatur_in_Fahrenheit  \n",
       "3   1013                      82.4  \n",
       "4   1013                      86.0  "
      ]
     },
     "execution_count": 29,
     "metadata": {},
     "output_type": "execute_result"
    }
   ],
   "source": [
    "df_wetter[mask_2]"
   ]
  },
  {
   "cell_type": "markdown",
   "metadata": {},
   "source": [
    "### 5. DataFrame Zusammenfassende Statistik\n",
    "#### Aufgabe 1: \n",
    "Berechne den Durchschnitt der Spalten Temperatur, Luftfeuchtigkeit und Windgeschwindigkeit."
   ]
  },
  {
   "cell_type": "code",
   "execution_count": 30,
   "metadata": {},
   "outputs": [
    {
     "name": "stdout",
     "output_type": "stream",
     "text": [
      "Durchschnitt Temperatur: 26.0\n",
      "Durchschnitt Luftfeuchtigkeit: 50.0\n",
      "Durchschnitt Windgeschwindigkeit 7.0\n"
     ]
    }
   ],
   "source": [
    "# gr.agg(\n",
    "#     max_age=('Age', 'max'),\n",
    "#     min_age=('Age', 'min'),\n",
    "#     avg_fare=('Fare', 'mean')\n",
    "# ).round(2).T\n",
    "print(f'Durchschnitt Temperatur: {df_wetter['Temperatur'].mean()}')\n",
    "print(f'Durchschnitt Luftfeuchtigkeit: {df_wetter['Luftfeuchtigkeit'].mean()}')\n",
    "print(f'Durchschnitt Windgeschwindigkeit {df_wetter['Windgeschwindigkeit'].mean()}')\n"
   ]
  },
  {
   "cell_type": "markdown",
   "metadata": {},
   "source": [
    "#### Aufgabe 2: \n",
    "Berechne die Standardabweichung der Regenwahrscheinlichkeit."
   ]
  },
  {
   "cell_type": "code",
   "execution_count": 32,
   "metadata": {},
   "outputs": [
    {
     "name": "stdout",
     "output_type": "stream",
     "text": [
      "Standardabweichung Regenwahrscheinlichkeit 0.2408\n"
     ]
    }
   ],
   "source": [
    "print(f'Standardabweichung Regenwahrscheinlichkeit {df_wetter['Regenwahrscheinlichkeit'].std().round(4)}')"
   ]
  },
  {
   "cell_type": "markdown",
   "metadata": {},
   "source": [
    "#### Aufgabe 3: \n",
    "Erstelle eine deskriptive Statistik für das gesamte DataFrame, um den minimale, maximale und mittelwertige Wert für jede Spalte zu ermitteln."
   ]
  },
  {
   "cell_type": "code",
   "execution_count": 33,
   "metadata": {},
   "outputs": [
    {
     "data": {
      "text/html": [
       "<div>\n",
       "<style scoped>\n",
       "    .dataframe tbody tr th:only-of-type {\n",
       "        vertical-align: middle;\n",
       "    }\n",
       "\n",
       "    .dataframe tbody tr th {\n",
       "        vertical-align: top;\n",
       "    }\n",
       "\n",
       "    .dataframe thead th {\n",
       "        text-align: right;\n",
       "    }\n",
       "</style>\n",
       "<table border=\"1\" class=\"dataframe\">\n",
       "  <thead>\n",
       "    <tr style=\"text-align: right;\">\n",
       "      <th></th>\n",
       "      <th>Temperatur</th>\n",
       "      <th>Luftfeuchtigkeit</th>\n",
       "      <th>Windgeschwindigkeit</th>\n",
       "      <th>Regenwahrscheinlichkeit</th>\n",
       "      <th>Druck</th>\n",
       "      <th>Temperatur_in_Fahrenheit</th>\n",
       "    </tr>\n",
       "  </thead>\n",
       "  <tbody>\n",
       "    <tr>\n",
       "      <th>count</th>\n",
       "      <td>5.000000</td>\n",
       "      <td>5.000000</td>\n",
       "      <td>5.000000</td>\n",
       "      <td>5.000000</td>\n",
       "      <td>5.0</td>\n",
       "      <td>5.0000</td>\n",
       "    </tr>\n",
       "    <tr>\n",
       "      <th>mean</th>\n",
       "      <td>26.000000</td>\n",
       "      <td>50.000000</td>\n",
       "      <td>7.000000</td>\n",
       "      <td>0.360000</td>\n",
       "      <td>1013.0</td>\n",
       "      <td>78.8000</td>\n",
       "    </tr>\n",
       "    <tr>\n",
       "      <th>std</th>\n",
       "      <td>3.162278</td>\n",
       "      <td>7.905694</td>\n",
       "      <td>1.581139</td>\n",
       "      <td>0.240832</td>\n",
       "      <td>0.0</td>\n",
       "      <td>5.6921</td>\n",
       "    </tr>\n",
       "    <tr>\n",
       "      <th>min</th>\n",
       "      <td>22.000000</td>\n",
       "      <td>40.000000</td>\n",
       "      <td>5.000000</td>\n",
       "      <td>0.100000</td>\n",
       "      <td>1013.0</td>\n",
       "      <td>71.6000</td>\n",
       "    </tr>\n",
       "    <tr>\n",
       "      <th>25%</th>\n",
       "      <td>24.000000</td>\n",
       "      <td>45.000000</td>\n",
       "      <td>6.000000</td>\n",
       "      <td>0.200000</td>\n",
       "      <td>1013.0</td>\n",
       "      <td>75.2000</td>\n",
       "    </tr>\n",
       "    <tr>\n",
       "      <th>50%</th>\n",
       "      <td>26.000000</td>\n",
       "      <td>50.000000</td>\n",
       "      <td>7.000000</td>\n",
       "      <td>0.300000</td>\n",
       "      <td>1013.0</td>\n",
       "      <td>78.8000</td>\n",
       "    </tr>\n",
       "    <tr>\n",
       "      <th>75%</th>\n",
       "      <td>28.000000</td>\n",
       "      <td>55.000000</td>\n",
       "      <td>8.000000</td>\n",
       "      <td>0.500000</td>\n",
       "      <td>1013.0</td>\n",
       "      <td>82.4000</td>\n",
       "    </tr>\n",
       "    <tr>\n",
       "      <th>max</th>\n",
       "      <td>30.000000</td>\n",
       "      <td>60.000000</td>\n",
       "      <td>9.000000</td>\n",
       "      <td>0.700000</td>\n",
       "      <td>1013.0</td>\n",
       "      <td>86.0000</td>\n",
       "    </tr>\n",
       "  </tbody>\n",
       "</table>\n",
       "</div>"
      ],
      "text/plain": [
       "       Temperatur  Luftfeuchtigkeit  Windgeschwindigkeit  \\\n",
       "count    5.000000          5.000000             5.000000   \n",
       "mean    26.000000         50.000000             7.000000   \n",
       "std      3.162278          7.905694             1.581139   \n",
       "min     22.000000         40.000000             5.000000   \n",
       "25%     24.000000         45.000000             6.000000   \n",
       "50%     26.000000         50.000000             7.000000   \n",
       "75%     28.000000         55.000000             8.000000   \n",
       "max     30.000000         60.000000             9.000000   \n",
       "\n",
       "       Regenwahrscheinlichkeit   Druck  Temperatur_in_Fahrenheit  \n",
       "count                 5.000000     5.0                    5.0000  \n",
       "mean                  0.360000  1013.0                   78.8000  \n",
       "std                   0.240832     0.0                    5.6921  \n",
       "min                   0.100000  1013.0                   71.6000  \n",
       "25%                   0.200000  1013.0                   75.2000  \n",
       "50%                   0.300000  1013.0                   78.8000  \n",
       "75%                   0.500000  1013.0                   82.4000  \n",
       "max                   0.700000  1013.0                   86.0000  "
      ]
     },
     "execution_count": 33,
     "metadata": {},
     "output_type": "execute_result"
    }
   ],
   "source": [
    "df_wetter.describe()"
   ]
  }
 ],
 "metadata": {
  "kernelspec": {
   "display_name": ".my_venv",
   "language": "python",
   "name": "python3"
  },
  "language_info": {
   "codemirror_mode": {
    "name": "ipython",
    "version": 3
   },
   "file_extension": ".py",
   "mimetype": "text/x-python",
   "name": "python",
   "nbconvert_exporter": "python",
   "pygments_lexer": "ipython3",
   "version": "3.12.6"
  }
 },
 "nbformat": 4,
 "nbformat_minor": 2
}
