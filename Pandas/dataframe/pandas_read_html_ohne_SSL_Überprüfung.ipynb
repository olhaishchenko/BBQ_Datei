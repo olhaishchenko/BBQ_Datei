{
 "cells": [
  {
   "cell_type": "code",
   "execution_count": 2,
   "metadata": {},
   "outputs": [
    {
     "name": "stdout",
     "output_type": "stream",
     "text": [
      "Collecting requests\n",
      "  Using cached requests-2.32.3-py3-none-any.whl.metadata (4.6 kB)\n",
      "Collecting charset-normalizer<4,>=2 (from requests)\n",
      "  Using cached charset_normalizer-3.4.0-cp312-cp312-win_amd64.whl.metadata (34 kB)\n",
      "Collecting idna<4,>=2.5 (from requests)\n",
      "  Using cached idna-3.10-py3-none-any.whl.metadata (10 kB)\n",
      "Collecting urllib3<3,>=1.21.1 (from requests)\n",
      "  Using cached urllib3-2.2.3-py3-none-any.whl.metadata (6.5 kB)\n",
      "Collecting certifi>=2017.4.17 (from requests)\n",
      "  Using cached certifi-2024.8.30-py3-none-any.whl.metadata (2.2 kB)\n",
      "Using cached requests-2.32.3-py3-none-any.whl (64 kB)\n",
      "Using cached certifi-2024.8.30-py3-none-any.whl (167 kB)\n",
      "Using cached charset_normalizer-3.4.0-cp312-cp312-win_amd64.whl (102 kB)\n",
      "Using cached idna-3.10-py3-none-any.whl (70 kB)\n",
      "Using cached urllib3-2.2.3-py3-none-any.whl (126 kB)\n",
      "Installing collected packages: urllib3, idna, charset-normalizer, certifi, requests\n",
      "Successfully installed certifi-2024.8.30 charset-normalizer-3.4.0 idna-3.10 requests-2.32.3 urllib3-2.2.3\n"
     ]
    },
    {
     "name": "stderr",
     "output_type": "stream",
     "text": [
      "\n",
      "[notice] A new release of pip is available: 24.2 -> 24.3.1\n",
      "[notice] To update, run: python.exe -m pip install --upgrade pip\n"
     ]
    }
   ],
   "source": [
    "# !pip install requests\n",
    "# API für HTTP Kommunikation"
   ]
  },
  {
   "cell_type": "code",
   "execution_count": null,
   "metadata": {},
   "outputs": [
    {
     "name": "stdout",
     "output_type": "stream",
     "text": [
      "Requirement already satisfied: lxml in c:\\users\\andreaswagner\\appdata\\local\\programs\\python\\python312\\lib\\site-packages (5.3.0)\n",
      "Note: you may need to restart the kernel to use updated packages.\n"
     ]
    },
    {
     "name": "stderr",
     "output_type": "stream",
     "text": [
      "\n",
      "[notice] A new release of pip is available: 24.2 -> 24.3.1\n",
      "[notice] To update, run: python.exe -m pip install --upgrade pip\n"
     ]
    }
   ],
   "source": [
    "# pip install lxml\n",
    "# Parser, wird von read_html benötigt"
   ]
  },
  {
   "cell_type": "markdown",
   "metadata": {},
   "source": [
    "Daten von einer URL mit `pandas` und `requests` lesen ohne SSL Zertifikat zu überprüfen:"
   ]
  },
  {
   "cell_type": "code",
   "execution_count": 3,
   "metadata": {},
   "outputs": [],
   "source": [
    "import pandas as pd\n",
    "import requests\n",
    "from io import StringIO  "
   ]
  },
  {
   "cell_type": "code",
   "execution_count": 4,
   "metadata": {},
   "outputs": [
    {
     "name": "stderr",
     "output_type": "stream",
     "text": [
      "c:\\Users\\OlhaIshchenko\\Documents\\Daten_Analyse\\unterricht\\.my_venv\\Lib\\site-packages\\urllib3\\connectionpool.py:1099: InsecureRequestWarning: Unverified HTTPS request is being made to host 'www.tiobe.com'. Adding certificate verification is strongly advised. See: https://urllib3.readthedocs.io/en/latest/advanced-usage.html#tls-warnings\n",
      "  warnings.warn(\n"
     ]
    },
    {
     "name": "stdout",
     "output_type": "stream",
     "text": [
      "    Oct 2024  Oct 2023  Change  Programming Language Programming Language.1  \\\n",
      "0          1         1     NaN                   NaN                 Python   \n",
      "1          2         3     NaN                   NaN                    C++   \n",
      "2          3         4     NaN                   NaN                   Java   \n",
      "3          4         2     NaN                   NaN                      C   \n",
      "4          5         5     NaN                   NaN                     C#   \n",
      "5          6         6     NaN                   NaN             JavaScript   \n",
      "6          7         7     NaN                   NaN           Visual Basic   \n",
      "7          8        11     NaN                   NaN                     Go   \n",
      "8          9        16     NaN                   NaN                Fortran   \n",
      "9         10        13     NaN                   NaN   Delphi/Object Pascal   \n",
      "10        11         9     NaN                   NaN                    SQL   \n",
      "11        12        14     NaN                   NaN                 MATLAB   \n",
      "12        13        20     NaN                   NaN                   Rust   \n",
      "13        14        12     NaN                   NaN                Scratch   \n",
      "14        15         8     NaN                   NaN                    PHP   \n",
      "15        16        10     NaN                   NaN      Assembly language   \n",
      "16        17        17     NaN                   NaN                      R   \n",
      "17        18        19     NaN                   NaN                   Ruby   \n",
      "18        19        24     NaN                   NaN                  COBOL   \n",
      "19        20        15     NaN                   NaN                  Swift   \n",
      "\n",
      "   Ratings Change.1  \n",
      "0   21.90%   +7.08%  \n",
      "1   11.60%   +0.93%  \n",
      "2   10.51%   +1.59%  \n",
      "3    8.38%   -3.70%  \n",
      "4    5.62%   -2.09%  \n",
      "5    3.54%   +0.64%  \n",
      "6    2.35%   +0.22%  \n",
      "7    2.02%   +0.65%  \n",
      "8    1.80%   +0.78%  \n",
      "9    1.68%   +0.38%  \n",
      "10   1.64%   -0.15%  \n",
      "11   1.48%   +0.22%  \n",
      "12   1.45%   +0.53%  \n",
      "13   1.41%   +0.05%  \n",
      "14   1.21%   -0.69%  \n",
      "15   1.13%   -0.51%  \n",
      "16   1.09%   +0.12%  \n",
      "17   0.99%   +0.07%  \n",
      "18   0.99%   +0.23%  \n",
      "19   0.98%   -0.09%  \n",
      "    Position  Programming Language Ratings\n",
      "0         21                Kotlin   0.97%\n",
      "1         22  Classic Visual Basic   0.87%\n",
      "2         23                   SAS   0.76%\n",
      "3         24                   Ada   0.73%\n",
      "4         25       (Visual) FoxPro   0.67%\n",
      "5         26                 Scala   0.64%\n",
      "6         27                Prolog   0.62%\n",
      "7         28                 Julia   0.57%\n",
      "8         29                  Perl   0.56%\n",
      "9         30                   Lua   0.56%\n",
      "10        31                  Dart   0.56%\n",
      "11        32               Haskell   0.56%\n",
      "12        33                  Lisp   0.52%\n",
      "13        34           Objective-C   0.42%\n",
      "14        35          Transact-SQL   0.37%\n",
      "15        36              VBScript   0.33%\n",
      "16        37            TypeScript   0.32%\n",
      "17        38                PL/SQL   0.28%\n",
      "18        39              Solidity   0.27%\n",
      "19        40                  ABAP   0.25%\n",
      "20        41                     D   0.22%\n",
      "21        42                  Logo   0.21%\n",
      "22        43            PowerShell   0.21%\n",
      "23        44                  GAMS   0.20%\n",
      "24        45                   Awk   0.18%\n",
      "25        46                Erlang   0.16%\n",
      "26        47                Elixir   0.16%\n",
      "27        48                   RPG   0.16%\n",
      "28        49                  Mojo   0.15%\n",
      "29        50                    F#   0.15%\n",
      "   Programming Language 2024 2019 2014 2009 2004 1999 1994 1989\n",
      "0                Python    1    3    8    7    7   24   22    -\n",
      "1                     C    2    2    1    2    2    1    1    1\n",
      "2                   C++    3    4    4    3    3    2    2    2\n",
      "3                  Java    4    1    2    1    1    4    -    -\n",
      "4                    C#    5    6    5    6    8   19    -    -\n",
      "5            JavaScript    6    7    9    9   10   15    -    -\n",
      "6          Visual Basic    7   20  235    -    -    -    -    -\n",
      "7                   SQL    8    9    -    -   92    -    -    -\n",
      "8                    Go    9   16   36    -    -    -    -    -\n",
      "9               Fortran   10   28   29   26   13   13    5    9\n",
      "10          Objective-C   34   10    3   28   39    -    -    -\n",
      "11                 Lisp   35   32   18   18   14   16    6    3\n",
      "12       (Visual) Basic    -    -    6    5    4    3    3    6\n",
      "    Year        Winner\n",
      "0   2023            C#\n",
      "1   2022           C++\n",
      "2   2021        Python\n",
      "3   2020        Python\n",
      "4   2019             C\n",
      "5   2018        Python\n",
      "6   2017             C\n",
      "7   2016            Go\n",
      "8   2015          Java\n",
      "9   2014    JavaScript\n",
      "10  2013  Transact-SQL\n",
      "11  2012   Objective-C\n",
      "12  2011   Objective-C\n",
      "13  2010        Python\n",
      "14  2009            Go\n",
      "15  2008             C\n",
      "16  2007        Python\n",
      "17  2006          Ruby\n",
      "18  2005          Java\n",
      "19  2004           PHP\n",
      "20  2003           C++\n"
     ]
    }
   ],
   "source": [
    "url = 'https://www.tiobe.com/tiobe-index/' # Adresse entsprechend anpassen\n",
    "\n",
    "# Abrufen der HTML-Seite ohne SSL-Überprüfung\n",
    "response = requests.get(url, verify=False)\n",
    "\n",
    "# Überprüfen, ob der Abruf erfolgreich war\n",
    "if response.status_code == 200:\n",
    "    # HTML-Inhalt ohne warning übergeben\n",
    "    html_data = StringIO(response.text)\n",
    "    \n",
    "    tables = pd.read_html(html_data)  \n",
    "    \n",
    "    for t in tables:\n",
    "        print(t)\n",
    "else:\n",
    "    print(\"Fehler beim Abrufen der Seite:\", response.status_code)"
   ]
  }
 ],
 "metadata": {
  "kernelspec": {
   "display_name": ".my_venv",
   "language": "python",
   "name": "python3"
  },
  "language_info": {
   "codemirror_mode": {
    "name": "ipython",
    "version": 3
   },
   "file_extension": ".py",
   "mimetype": "text/x-python",
   "name": "python",
   "nbconvert_exporter": "python",
   "pygments_lexer": "ipython3",
   "version": "3.12.6"
  }
 },
 "nbformat": 4,
 "nbformat_minor": 2
}
