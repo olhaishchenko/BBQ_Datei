{
 "cells": [
  {
   "cell_type": "markdown",
   "id": "68965605",
   "metadata": {},
   "source": [
    "# Pandas\n",
    "\n",
    "## DataFrame\n",
    "\n",
    "Ein Dataframeobjekt besteht aus Reihen und Spalten (ähnlich wie eine Tabelle).  \n",
    "Jede Spalte hat einen Namen und enthält Elemente eines gewissen Datentyps.  \n",
    "Spalten in einem Dataframe können allerdings unterschiedliche Datentypen haben.  \n",
    "\n",
    "<img src='https://pandas.pydata.org/docs/_images/01_table_dataframe.svg' width='250px;'/>"
   ]
  },
  {
   "cell_type": "markdown",
   "id": "4585ddd4",
   "metadata": {},
   "source": [
    "Wenn wir uns ein Python-Dictionary anschauen, wie das Folgende:"
   ]
  },
  {
   "cell_type": "code",
   "execution_count": 1,
   "id": "a61ad295",
   "metadata": {},
   "outputs": [],
   "source": [
    "import pandas as pd"
   ]
  },
  {
   "cell_type": "code",
   "execution_count": 2,
   "id": "2c330343",
   "metadata": {},
   "outputs": [],
   "source": [
    "cars = {\n",
    "    'hersteller':['mercedes', 'bmw', 'audi', 'vw', 'opel'],\n",
    "    'model':['s300', 'i3', 'a8', 'caddy', 'astra'],\n",
    "    'jahr':[2015, 2017, 2014, 2018, 207]\n",
    "}"
   ]
  },
  {
   "cell_type": "markdown",
   "id": "c3263096",
   "metadata": {},
   "source": [
    "dann können wir uns die Schlüssel dieses Dictionary als Spaltennamen und die dazu geordneten Listen (Werte) als Inhalt jeder Spalte vorstellen.  \n",
    "\n",
    "Pandas Dataframes funktionieren auf Basis dieser Idee:"
   ]
  },
  {
   "cell_type": "code",
   "execution_count": 3,
   "id": "a1c006ef",
   "metadata": {},
   "outputs": [
    {
     "data": {
      "text/html": [
       "<div>\n",
       "<style scoped>\n",
       "    .dataframe tbody tr th:only-of-type {\n",
       "        vertical-align: middle;\n",
       "    }\n",
       "\n",
       "    .dataframe tbody tr th {\n",
       "        vertical-align: top;\n",
       "    }\n",
       "\n",
       "    .dataframe thead th {\n",
       "        text-align: right;\n",
       "    }\n",
       "</style>\n",
       "<table border=\"1\" class=\"dataframe\">\n",
       "  <thead>\n",
       "    <tr style=\"text-align: right;\">\n",
       "      <th></th>\n",
       "      <th>hersteller</th>\n",
       "      <th>model</th>\n",
       "      <th>jahr</th>\n",
       "    </tr>\n",
       "  </thead>\n",
       "  <tbody>\n",
       "    <tr>\n",
       "      <th>0</th>\n",
       "      <td>mercedes</td>\n",
       "      <td>s300</td>\n",
       "      <td>2015</td>\n",
       "    </tr>\n",
       "    <tr>\n",
       "      <th>1</th>\n",
       "      <td>bmw</td>\n",
       "      <td>i3</td>\n",
       "      <td>2017</td>\n",
       "    </tr>\n",
       "    <tr>\n",
       "      <th>2</th>\n",
       "      <td>audi</td>\n",
       "      <td>a8</td>\n",
       "      <td>2014</td>\n",
       "    </tr>\n",
       "    <tr>\n",
       "      <th>3</th>\n",
       "      <td>vw</td>\n",
       "      <td>caddy</td>\n",
       "      <td>2018</td>\n",
       "    </tr>\n",
       "    <tr>\n",
       "      <th>4</th>\n",
       "      <td>opel</td>\n",
       "      <td>astra</td>\n",
       "      <td>207</td>\n",
       "    </tr>\n",
       "  </tbody>\n",
       "</table>\n",
       "</div>"
      ],
      "text/plain": [
       "  hersteller  model  jahr\n",
       "0   mercedes   s300  2015\n",
       "1        bmw     i3  2017\n",
       "2       audi     a8  2014\n",
       "3         vw  caddy  2018\n",
       "4       opel  astra   207"
      ]
     },
     "execution_count": 3,
     "metadata": {},
     "output_type": "execute_result"
    }
   ],
   "source": [
    "df_car = pd.DataFrame(cars)\n",
    "df_car"
   ]
  },
  {
   "cell_type": "code",
   "execution_count": 4,
   "id": "085d9088",
   "metadata": {},
   "outputs": [
    {
     "data": {
      "text/plain": [
       "pandas.core.frame.DataFrame"
      ]
     },
     "execution_count": 4,
     "metadata": {},
     "output_type": "execute_result"
    }
   ],
   "source": [
    "type(df_car)"
   ]
  },
  {
   "cell_type": "markdown",
   "id": "572030c2",
   "metadata": {},
   "source": [
    "DataFrame ist eine Klasse aus Pandas Modul, die Dataframe-Objekte erzeugen kann.  \n",
    "Die Spalten können individuell als ein Series-Objekt mit einem Namen betrachtet werden."
   ]
  },
  {
   "cell_type": "markdown",
   "id": "f5ef5bb1",
   "metadata": {},
   "source": [
    "Wichtige Funktionalitäten und Besonderheiten:\n",
    "\n",
    "- Dataframes erstellen\n",
    "- Zugriff auf eine Reihe\n",
    "- Zugriff auf eine Spalte\n",
    "- Teilbereiche aus einem Dataframe\n",
    "- Wichtige Methoden und Attribute für Abfragen"
   ]
  },
  {
   "cell_type": "markdown",
   "id": "df9d83e7",
   "metadata": {},
   "source": [
    "#### Dataframes erstellen\n",
    "\n",
    "- aus Python-Objekten (z.B. Dictionary, List, usw.) oder NumPy-Arrays \n",
    "- aus tabellarischen Dateien (csv, excelmappen, sql-tabellen, usw.)\n",
    "\n",
    "Die zweite Variante ist in der Datenanalyse eher mehr relevant."
   ]
  },
  {
   "cell_type": "markdown",
   "id": "e13627d7",
   "metadata": {},
   "source": [
    "##### Leere Dataframes"
   ]
  },
  {
   "cell_type": "code",
   "execution_count": 5,
   "id": "027efb01",
   "metadata": {},
   "outputs": [],
   "source": [
    "leer_df = pd.DataFrame() # leeres DF-Objekt"
   ]
  },
  {
   "cell_type": "code",
   "execution_count": 6,
   "id": "711a4c5c",
   "metadata": {},
   "outputs": [
    {
     "data": {
      "text/html": [
       "<div>\n",
       "<style scoped>\n",
       "    .dataframe tbody tr th:only-of-type {\n",
       "        vertical-align: middle;\n",
       "    }\n",
       "\n",
       "    .dataframe tbody tr th {\n",
       "        vertical-align: top;\n",
       "    }\n",
       "\n",
       "    .dataframe thead th {\n",
       "        text-align: right;\n",
       "    }\n",
       "</style>\n",
       "<table border=\"1\" class=\"dataframe\">\n",
       "  <thead>\n",
       "    <tr style=\"text-align: right;\">\n",
       "      <th></th>\n",
       "    </tr>\n",
       "  </thead>\n",
       "  <tbody>\n",
       "  </tbody>\n",
       "</table>\n",
       "</div>"
      ],
      "text/plain": [
       "Empty DataFrame\n",
       "Columns: []\n",
       "Index: []"
      ]
     },
     "execution_count": 6,
     "metadata": {},
     "output_type": "execute_result"
    }
   ],
   "source": [
    "leer_df"
   ]
  },
  {
   "cell_type": "code",
   "execution_count": 7,
   "id": "45dd4738",
   "metadata": {},
   "outputs": [
    {
     "data": {
      "text/html": [
       "<div>\n",
       "<style scoped>\n",
       "    .dataframe tbody tr th:only-of-type {\n",
       "        vertical-align: middle;\n",
       "    }\n",
       "\n",
       "    .dataframe tbody tr th {\n",
       "        vertical-align: top;\n",
       "    }\n",
       "\n",
       "    .dataframe thead th {\n",
       "        text-align: right;\n",
       "    }\n",
       "</style>\n",
       "<table border=\"1\" class=\"dataframe\">\n",
       "  <thead>\n",
       "    <tr style=\"text-align: right;\">\n",
       "      <th></th>\n",
       "      <th>col1</th>\n",
       "      <th>col2</th>\n",
       "      <th>col3</th>\n",
       "    </tr>\n",
       "  </thead>\n",
       "  <tbody>\n",
       "  </tbody>\n",
       "</table>\n",
       "</div>"
      ],
      "text/plain": [
       "Empty DataFrame\n",
       "Columns: [col1, col2, col3]\n",
       "Index: []"
      ]
     },
     "execution_count": 7,
     "metadata": {},
     "output_type": "execute_result"
    }
   ],
   "source": [
    "leer = pd.DataFrame(columns=['col1', 'col2', 'col3']) # mit 3 Spalten\n",
    "leer"
   ]
  },
  {
   "cell_type": "code",
   "execution_count": 8,
   "id": "0c5ef233",
   "metadata": {},
   "outputs": [],
   "source": [
    "leer = pd.DataFrame(columns=['col1', 'col2', 'col3'], # 3 Spalten\n",
    "                   index=range(5)) # 5 leerzeilen"
   ]
  },
  {
   "cell_type": "code",
   "execution_count": 9,
   "id": "568d9fdd",
   "metadata": {},
   "outputs": [
    {
     "data": {
      "text/html": [
       "<div>\n",
       "<style scoped>\n",
       "    .dataframe tbody tr th:only-of-type {\n",
       "        vertical-align: middle;\n",
       "    }\n",
       "\n",
       "    .dataframe tbody tr th {\n",
       "        vertical-align: top;\n",
       "    }\n",
       "\n",
       "    .dataframe thead th {\n",
       "        text-align: right;\n",
       "    }\n",
       "</style>\n",
       "<table border=\"1\" class=\"dataframe\">\n",
       "  <thead>\n",
       "    <tr style=\"text-align: right;\">\n",
       "      <th></th>\n",
       "      <th>col1</th>\n",
       "      <th>col2</th>\n",
       "      <th>col3</th>\n",
       "    </tr>\n",
       "  </thead>\n",
       "  <tbody>\n",
       "    <tr>\n",
       "      <th>0</th>\n",
       "      <td>NaN</td>\n",
       "      <td>NaN</td>\n",
       "      <td>NaN</td>\n",
       "    </tr>\n",
       "    <tr>\n",
       "      <th>1</th>\n",
       "      <td>NaN</td>\n",
       "      <td>NaN</td>\n",
       "      <td>NaN</td>\n",
       "    </tr>\n",
       "    <tr>\n",
       "      <th>2</th>\n",
       "      <td>NaN</td>\n",
       "      <td>NaN</td>\n",
       "      <td>NaN</td>\n",
       "    </tr>\n",
       "    <tr>\n",
       "      <th>3</th>\n",
       "      <td>NaN</td>\n",
       "      <td>NaN</td>\n",
       "      <td>NaN</td>\n",
       "    </tr>\n",
       "    <tr>\n",
       "      <th>4</th>\n",
       "      <td>NaN</td>\n",
       "      <td>NaN</td>\n",
       "      <td>NaN</td>\n",
       "    </tr>\n",
       "  </tbody>\n",
       "</table>\n",
       "</div>"
      ],
      "text/plain": [
       "  col1 col2 col3\n",
       "0  NaN  NaN  NaN\n",
       "1  NaN  NaN  NaN\n",
       "2  NaN  NaN  NaN\n",
       "3  NaN  NaN  NaN\n",
       "4  NaN  NaN  NaN"
      ]
     },
     "execution_count": 9,
     "metadata": {},
     "output_type": "execute_result"
    }
   ],
   "source": [
    "leer"
   ]
  },
  {
   "cell_type": "markdown",
   "id": "af2e6706",
   "metadata": {},
   "source": [
    "##### Dataframes aus NumPy-Arrays oder Python-Objekten\n",
    "Wie man aus verschiedenen Pythonobjekten Dataframes erstellt sieht man ausführlich in Pandas Dokumentation [hier](https://pandas.pydata.org/pandas-docs/stable/reference/api/pandas.DataFrame.html?highlight=dataframe#pandas.DataFrame)"
   ]
  },
  {
   "cell_type": "markdown",
   "id": "cb6e4208",
   "metadata": {},
   "source": [
    "##### Dataframes aus Dateien (files) mit tabellarischen Strukturen\n",
    "In jedem Data Science Projekt besteht meistens die Aufgabe daraus, aus tabellarischen Strukturen Dataframes zu bilden, Daten zu reinigen, bearbeiten, analysieren und dann diese nocheinmal als Datei zu speichern bzw. zu exportieren.  \n",
    "\n",
    "<img src='https://pandas.pydata.org/docs/_images/02_io_readwrite.svg' width='550px;'/>\n",
    "<center>Pandas Funktionen zur Erstellung von Dataframes aus Dateien und umgekehrt</center>"
   ]
  },
  {
   "cell_type": "markdown",
   "id": "8f66ecdb",
   "metadata": {},
   "source": [
    "Pandas verfügt über Funktionen, die automatisch tabellarische Strukturen in Dataframes umwandeln. Diese Funktionen haben eins in ihrer Syntax gemeinsam: sie beginnen mit `read_`.   \n",
    "Als Beispiel: `read_csv()` erstellt aus csv-Dateien Dataframes. Oder `read_html()` kann aus HTML-Tabellen Dataframes erzeugen. In Data Sceince Projekten haben wir am meisten mit CSV-Daten (Comma Seperated Values) zu tun.  \n",
    "Pandas hat eben Funktionen, die Dataframes als Datei und mit vielen möglichen Erweiterungen, wie z.B. ``csv``, `xlxs` speichern können. Diese Funktionen beginnen alle mit `to_`. Beispielsweise `to_csv()` erstellt aus einem DataFrame eine `csv`-Datei."
   ]
  },
  {
   "cell_type": "markdown",
   "id": "bc1d9237",
   "metadata": {},
   "source": [
    "Wenn wir jetzt beispielsweise den Dataframe `df_car` als Datei exportieren wollen:"
   ]
  },
  {
   "cell_type": "code",
   "execution_count": 10,
   "id": "de2b8a8f",
   "metadata": {},
   "outputs": [],
   "source": [
    "# help(pd.DataFrame.to_csv)"
   ]
  },
  {
   "cell_type": "code",
   "execution_count": 10,
   "id": "a82286e3",
   "metadata": {},
   "outputs": [
    {
     "data": {
      "text/html": [
       "<div>\n",
       "<style scoped>\n",
       "    .dataframe tbody tr th:only-of-type {\n",
       "        vertical-align: middle;\n",
       "    }\n",
       "\n",
       "    .dataframe tbody tr th {\n",
       "        vertical-align: top;\n",
       "    }\n",
       "\n",
       "    .dataframe thead th {\n",
       "        text-align: right;\n",
       "    }\n",
       "</style>\n",
       "<table border=\"1\" class=\"dataframe\">\n",
       "  <thead>\n",
       "    <tr style=\"text-align: right;\">\n",
       "      <th></th>\n",
       "      <th>hersteller</th>\n",
       "      <th>model</th>\n",
       "      <th>jahr</th>\n",
       "    </tr>\n",
       "  </thead>\n",
       "  <tbody>\n",
       "    <tr>\n",
       "      <th>0</th>\n",
       "      <td>mercedes</td>\n",
       "      <td>s300</td>\n",
       "      <td>2015</td>\n",
       "    </tr>\n",
       "    <tr>\n",
       "      <th>1</th>\n",
       "      <td>bmw</td>\n",
       "      <td>i3</td>\n",
       "      <td>2017</td>\n",
       "    </tr>\n",
       "    <tr>\n",
       "      <th>2</th>\n",
       "      <td>audi</td>\n",
       "      <td>a8</td>\n",
       "      <td>2014</td>\n",
       "    </tr>\n",
       "    <tr>\n",
       "      <th>3</th>\n",
       "      <td>vw</td>\n",
       "      <td>caddy</td>\n",
       "      <td>2018</td>\n",
       "    </tr>\n",
       "    <tr>\n",
       "      <th>4</th>\n",
       "      <td>opel</td>\n",
       "      <td>astra</td>\n",
       "      <td>207</td>\n",
       "    </tr>\n",
       "  </tbody>\n",
       "</table>\n",
       "</div>"
      ],
      "text/plain": [
       "  hersteller  model  jahr\n",
       "0   mercedes   s300  2015\n",
       "1        bmw     i3  2017\n",
       "2       audi     a8  2014\n",
       "3         vw  caddy  2018\n",
       "4       opel  astra   207"
      ]
     },
     "execution_count": 10,
     "metadata": {},
     "output_type": "execute_result"
    }
   ],
   "source": [
    "df_car"
   ]
  },
  {
   "cell_type": "code",
   "execution_count": 12,
   "id": "12338824",
   "metadata": {},
   "outputs": [],
   "source": [
    "df_car.to_csv('C:/Users/OlhaIshchenko/Documents/Daten_Analyse/unterricht/csv_Datei/cars.csv', \n",
    "              index=None) # keine Extra Index-Spalte erzeugen"
   ]
  },
  {
   "cell_type": "markdown",
   "id": "48153621",
   "metadata": {},
   "source": [
    "Wir haben jetzt eine sogenannte csv-Datei erstellt.  \n",
    "- CSV: Comma Seperated Values\n",
    "- Tabellarische Daten in Text-Format speichern\n",
    "- Die Daten sind in Zeilen gespeichert und jeweils mit Komma getrennt"
   ]
  },
  {
   "cell_type": "markdown",
   "id": "58580368",
   "metadata": {},
   "source": [
    "Wir können den Inhalt dieser Datei in jedem Python-Programm einlesen:"
   ]
  },
  {
   "cell_type": "code",
   "execution_count": 13,
   "id": "7137438d",
   "metadata": {},
   "outputs": [
    {
     "data": {
      "text/html": [
       "<div>\n",
       "<style scoped>\n",
       "    .dataframe tbody tr th:only-of-type {\n",
       "        vertical-align: middle;\n",
       "    }\n",
       "\n",
       "    .dataframe tbody tr th {\n",
       "        vertical-align: top;\n",
       "    }\n",
       "\n",
       "    .dataframe thead th {\n",
       "        text-align: right;\n",
       "    }\n",
       "</style>\n",
       "<table border=\"1\" class=\"dataframe\">\n",
       "  <thead>\n",
       "    <tr style=\"text-align: right;\">\n",
       "      <th></th>\n",
       "      <th>hersteller</th>\n",
       "      <th>model</th>\n",
       "      <th>jahr</th>\n",
       "    </tr>\n",
       "  </thead>\n",
       "  <tbody>\n",
       "    <tr>\n",
       "      <th>0</th>\n",
       "      <td>mercedes</td>\n",
       "      <td>s300</td>\n",
       "      <td>2015</td>\n",
       "    </tr>\n",
       "    <tr>\n",
       "      <th>1</th>\n",
       "      <td>bmw</td>\n",
       "      <td>i3</td>\n",
       "      <td>2017</td>\n",
       "    </tr>\n",
       "    <tr>\n",
       "      <th>2</th>\n",
       "      <td>audi</td>\n",
       "      <td>a8</td>\n",
       "      <td>2014</td>\n",
       "    </tr>\n",
       "    <tr>\n",
       "      <th>3</th>\n",
       "      <td>vw</td>\n",
       "      <td>caddy</td>\n",
       "      <td>2018</td>\n",
       "    </tr>\n",
       "    <tr>\n",
       "      <th>4</th>\n",
       "      <td>opel</td>\n",
       "      <td>astra</td>\n",
       "      <td>207</td>\n",
       "    </tr>\n",
       "  </tbody>\n",
       "</table>\n",
       "</div>"
      ],
      "text/plain": [
       "  hersteller  model  jahr\n",
       "0   mercedes   s300  2015\n",
       "1        bmw     i3  2017\n",
       "2       audi     a8  2014\n",
       "3         vw  caddy  2018\n",
       "4       opel  astra   207"
      ]
     },
     "execution_count": 13,
     "metadata": {},
     "output_type": "execute_result"
    }
   ],
   "source": [
    "df = pd.read_csv('C:/Users/OlhaIshchenko/Documents/Daten_Analyse/unterricht/csv_Datei/cars.csv')\n",
    "df"
   ]
  },
  {
   "cell_type": "markdown",
   "id": "01d08eb7",
   "metadata": {},
   "source": [
    "Dataframes haben unzählige Methoden und Attribute (meistens gemeinsam mit Series):"
   ]
  },
  {
   "cell_type": "code",
   "execution_count": 11,
   "id": "dc552ad9",
   "metadata": {},
   "outputs": [],
   "source": [
    "df_countries = pd.read_csv('C:/Users/OlhaIshchenko/Documents/Daten_Analyse/unterricht/csv_Datei/countries.csv')"
   ]
  },
  {
   "cell_type": "code",
   "execution_count": 12,
   "id": "5d551a4e",
   "metadata": {},
   "outputs": [
    {
     "data": {
      "text/html": [
       "<div>\n",
       "<style scoped>\n",
       "    .dataframe tbody tr th:only-of-type {\n",
       "        vertical-align: middle;\n",
       "    }\n",
       "\n",
       "    .dataframe tbody tr th {\n",
       "        vertical-align: top;\n",
       "    }\n",
       "\n",
       "    .dataframe thead th {\n",
       "        text-align: right;\n",
       "    }\n",
       "</style>\n",
       "<table border=\"1\" class=\"dataframe\">\n",
       "  <thead>\n",
       "    <tr style=\"text-align: right;\">\n",
       "      <th></th>\n",
       "      <th>country</th>\n",
       "      <th>name</th>\n",
       "      <th>population</th>\n",
       "    </tr>\n",
       "  </thead>\n",
       "  <tbody>\n",
       "    <tr>\n",
       "      <th>0</th>\n",
       "      <td>England</td>\n",
       "      <td>London</td>\n",
       "      <td>8615246</td>\n",
       "    </tr>\n",
       "    <tr>\n",
       "      <th>1</th>\n",
       "      <td>Spain</td>\n",
       "      <td>Madrid</td>\n",
       "      <td>3165235</td>\n",
       "    </tr>\n",
       "    <tr>\n",
       "      <th>2</th>\n",
       "      <td>France</td>\n",
       "      <td>Paris</td>\n",
       "      <td>2273305</td>\n",
       "    </tr>\n",
       "    <tr>\n",
       "      <th>3</th>\n",
       "      <td>Romania</td>\n",
       "      <td>Bucharest</td>\n",
       "      <td>1803425</td>\n",
       "    </tr>\n",
       "    <tr>\n",
       "      <th>4</th>\n",
       "      <td>Hungary</td>\n",
       "      <td>Budapest</td>\n",
       "      <td>1754000</td>\n",
       "    </tr>\n",
       "    <tr>\n",
       "      <th>5</th>\n",
       "      <td>Spain</td>\n",
       "      <td>Barcelona</td>\n",
       "      <td>1602386</td>\n",
       "    </tr>\n",
       "    <tr>\n",
       "      <th>6</th>\n",
       "      <td>Italy</td>\n",
       "      <td>Milan</td>\n",
       "      <td>1350680</td>\n",
       "    </tr>\n",
       "    <tr>\n",
       "      <th>7</th>\n",
       "      <td>Germany</td>\n",
       "      <td>Berlin</td>\n",
       "      <td>3562166</td>\n",
       "    </tr>\n",
       "    <tr>\n",
       "      <th>8</th>\n",
       "      <td>Italy</td>\n",
       "      <td>Rome</td>\n",
       "      <td>2874038</td>\n",
       "    </tr>\n",
       "    <tr>\n",
       "      <th>9</th>\n",
       "      <td>Austria</td>\n",
       "      <td>Vienna</td>\n",
       "      <td>1805681</td>\n",
       "    </tr>\n",
       "    <tr>\n",
       "      <th>10</th>\n",
       "      <td>Germany</td>\n",
       "      <td>Hamburg</td>\n",
       "      <td>1760433</td>\n",
       "    </tr>\n",
       "    <tr>\n",
       "      <th>11</th>\n",
       "      <td>Poland</td>\n",
       "      <td>Warsaw</td>\n",
       "      <td>1740119</td>\n",
       "    </tr>\n",
       "    <tr>\n",
       "      <th>12</th>\n",
       "      <td>Germany</td>\n",
       "      <td>Munich</td>\n",
       "      <td>1493900</td>\n",
       "    </tr>\n",
       "  </tbody>\n",
       "</table>\n",
       "</div>"
      ],
      "text/plain": [
       "    country       name  population\n",
       "0   England     London     8615246\n",
       "1     Spain     Madrid     3165235\n",
       "2    France      Paris     2273305\n",
       "3   Romania  Bucharest     1803425\n",
       "4   Hungary   Budapest     1754000\n",
       "5     Spain  Barcelona     1602386\n",
       "6     Italy      Milan     1350680\n",
       "7   Germany     Berlin     3562166\n",
       "8     Italy       Rome     2874038\n",
       "9   Austria     Vienna     1805681\n",
       "10  Germany    Hamburg     1760433\n",
       "11   Poland     Warsaw     1740119\n",
       "12  Germany     Munich     1493900"
      ]
     },
     "execution_count": 12,
     "metadata": {},
     "output_type": "execute_result"
    }
   ],
   "source": [
    "df_countries"
   ]
  },
  {
   "cell_type": "markdown",
   "id": "f3dd71f8",
   "metadata": {},
   "source": [
    "###### Explorative Datenanalyse (explorative data analysis)\n",
    "Eine Reihe von üblichen Methoden in jeder DS Aufgabe, die allgemeine Methoden zum Dataset abliefern."
   ]
  },
  {
   "cell_type": "code",
   "execution_count": 13,
   "id": "dba66af0",
   "metadata": {},
   "outputs": [
    {
     "data": {
      "text/html": [
       "<div>\n",
       "<style scoped>\n",
       "    .dataframe tbody tr th:only-of-type {\n",
       "        vertical-align: middle;\n",
       "    }\n",
       "\n",
       "    .dataframe tbody tr th {\n",
       "        vertical-align: top;\n",
       "    }\n",
       "\n",
       "    .dataframe thead th {\n",
       "        text-align: right;\n",
       "    }\n",
       "</style>\n",
       "<table border=\"1\" class=\"dataframe\">\n",
       "  <thead>\n",
       "    <tr style=\"text-align: right;\">\n",
       "      <th></th>\n",
       "      <th>population</th>\n",
       "    </tr>\n",
       "  </thead>\n",
       "  <tbody>\n",
       "    <tr>\n",
       "      <th>count</th>\n",
       "      <td>1.300000e+01</td>\n",
       "    </tr>\n",
       "    <tr>\n",
       "      <th>mean</th>\n",
       "      <td>2.600047e+06</td>\n",
       "    </tr>\n",
       "    <tr>\n",
       "      <th>std</th>\n",
       "      <td>1.932512e+06</td>\n",
       "    </tr>\n",
       "    <tr>\n",
       "      <th>min</th>\n",
       "      <td>1.350680e+06</td>\n",
       "    </tr>\n",
       "    <tr>\n",
       "      <th>25%</th>\n",
       "      <td>1.740119e+06</td>\n",
       "    </tr>\n",
       "    <tr>\n",
       "      <th>50%</th>\n",
       "      <td>1.803425e+06</td>\n",
       "    </tr>\n",
       "    <tr>\n",
       "      <th>75%</th>\n",
       "      <td>2.874038e+06</td>\n",
       "    </tr>\n",
       "    <tr>\n",
       "      <th>max</th>\n",
       "      <td>8.615246e+06</td>\n",
       "    </tr>\n",
       "  </tbody>\n",
       "</table>\n",
       "</div>"
      ],
      "text/plain": [
       "         population\n",
       "count  1.300000e+01\n",
       "mean   2.600047e+06\n",
       "std    1.932512e+06\n",
       "min    1.350680e+06\n",
       "25%    1.740119e+06\n",
       "50%    1.803425e+06\n",
       "75%    2.874038e+06\n",
       "max    8.615246e+06"
      ]
     },
     "execution_count": 13,
     "metadata": {},
     "output_type": "execute_result"
    }
   ],
   "source": [
    "df_countries.describe() # statistik bezüglich Spalten mit Zahlen"
   ]
  },
  {
   "cell_type": "code",
   "execution_count": 14,
   "id": "ed54ebab",
   "metadata": {},
   "outputs": [
    {
     "name": "stdout",
     "output_type": "stream",
     "text": [
      "<class 'pandas.core.frame.DataFrame'>\n",
      "RangeIndex: 13 entries, 0 to 12\n",
      "Data columns (total 3 columns):\n",
      " #   Column      Non-Null Count  Dtype \n",
      "---  ------      --------------  ----- \n",
      " 0   country     13 non-null     object\n",
      " 1   name        13 non-null     object\n",
      " 2   population  13 non-null     int64 \n",
      "dtypes: int64(1), object(2)\n",
      "memory usage: 444.0+ bytes\n"
     ]
    }
   ],
   "source": [
    "df_countries.info() # allgemeine Informationen zum Dataframe"
   ]
  },
  {
   "cell_type": "code",
   "execution_count": 15,
   "id": "62b2f018",
   "metadata": {},
   "outputs": [
    {
     "data": {
      "text/plain": [
       "(13, 3)"
      ]
     },
     "execution_count": 15,
     "metadata": {},
     "output_type": "execute_result"
    }
   ],
   "source": [
    "df_countries.shape # Zeilen und Spalten"
   ]
  },
  {
   "cell_type": "code",
   "execution_count": 19,
   "id": "0ea07da8",
   "metadata": {},
   "outputs": [
    {
     "name": "stdout",
     "output_type": "stream",
     "text": [
      "Unser Dataframe hat 13 Einträge (Reihen) und 3 Spalten.\n"
     ]
    }
   ],
   "source": [
    "x,y = df_countries.shape\n",
    "print(f'Unser Dataframe hat {x} Einträge (Reihen) und {y} Spalten.')"
   ]
  },
  {
   "cell_type": "code",
   "execution_count": 19,
   "id": "611239c2",
   "metadata": {},
   "outputs": [
    {
     "data": {
      "text/html": [
       "<div>\n",
       "<style scoped>\n",
       "    .dataframe tbody tr th:only-of-type {\n",
       "        vertical-align: middle;\n",
       "    }\n",
       "\n",
       "    .dataframe tbody tr th {\n",
       "        vertical-align: top;\n",
       "    }\n",
       "\n",
       "    .dataframe thead th {\n",
       "        text-align: right;\n",
       "    }\n",
       "</style>\n",
       "<table border=\"1\" class=\"dataframe\">\n",
       "  <thead>\n",
       "    <tr style=\"text-align: right;\">\n",
       "      <th></th>\n",
       "      <th>country</th>\n",
       "      <th>name</th>\n",
       "      <th>population</th>\n",
       "    </tr>\n",
       "  </thead>\n",
       "  <tbody>\n",
       "    <tr>\n",
       "      <th>0</th>\n",
       "      <td>England</td>\n",
       "      <td>London</td>\n",
       "      <td>8615246</td>\n",
       "    </tr>\n",
       "    <tr>\n",
       "      <th>1</th>\n",
       "      <td>Spain</td>\n",
       "      <td>Madrid</td>\n",
       "      <td>3165235</td>\n",
       "    </tr>\n",
       "    <tr>\n",
       "      <th>2</th>\n",
       "      <td>France</td>\n",
       "      <td>Paris</td>\n",
       "      <td>2273305</td>\n",
       "    </tr>\n",
       "    <tr>\n",
       "      <th>3</th>\n",
       "      <td>Romania</td>\n",
       "      <td>Bucharest</td>\n",
       "      <td>1803425</td>\n",
       "    </tr>\n",
       "    <tr>\n",
       "      <th>4</th>\n",
       "      <td>Hungary</td>\n",
       "      <td>Budapest</td>\n",
       "      <td>1754000</td>\n",
       "    </tr>\n",
       "  </tbody>\n",
       "</table>\n",
       "</div>"
      ],
      "text/plain": [
       "   country       name  population\n",
       "0  England     London     8615246\n",
       "1    Spain     Madrid     3165235\n",
       "2   France      Paris     2273305\n",
       "3  Romania  Bucharest     1803425\n",
       "4  Hungary   Budapest     1754000"
      ]
     },
     "execution_count": 19,
     "metadata": {},
     "output_type": "execute_result"
    }
   ],
   "source": [
    "df_countries.head() # zeigt die ersten 5 Zeilen an"
   ]
  },
  {
   "cell_type": "code",
   "execution_count": 18,
   "id": "68d77d43",
   "metadata": {},
   "outputs": [
    {
     "data": {
      "text/html": [
       "<div>\n",
       "<style scoped>\n",
       "    .dataframe tbody tr th:only-of-type {\n",
       "        vertical-align: middle;\n",
       "    }\n",
       "\n",
       "    .dataframe tbody tr th {\n",
       "        vertical-align: top;\n",
       "    }\n",
       "\n",
       "    .dataframe thead th {\n",
       "        text-align: right;\n",
       "    }\n",
       "</style>\n",
       "<table border=\"1\" class=\"dataframe\">\n",
       "  <thead>\n",
       "    <tr style=\"text-align: right;\">\n",
       "      <th></th>\n",
       "      <th>country</th>\n",
       "      <th>name</th>\n",
       "      <th>population</th>\n",
       "    </tr>\n",
       "  </thead>\n",
       "  <tbody>\n",
       "    <tr>\n",
       "      <th>0</th>\n",
       "      <td>England</td>\n",
       "      <td>London</td>\n",
       "      <td>8615246</td>\n",
       "    </tr>\n",
       "    <tr>\n",
       "      <th>1</th>\n",
       "      <td>Spain</td>\n",
       "      <td>Madrid</td>\n",
       "      <td>3165235</td>\n",
       "    </tr>\n",
       "    <tr>\n",
       "      <th>2</th>\n",
       "      <td>France</td>\n",
       "      <td>Paris</td>\n",
       "      <td>2273305</td>\n",
       "    </tr>\n",
       "  </tbody>\n",
       "</table>\n",
       "</div>"
      ],
      "text/plain": [
       "   country    name  population\n",
       "0  England  London     8615246\n",
       "1    Spain  Madrid     3165235\n",
       "2   France   Paris     2273305"
      ]
     },
     "execution_count": 18,
     "metadata": {},
     "output_type": "execute_result"
    }
   ],
   "source": [
    "df_countries.head(3) # die ersten 3 Zeilen anzeigen"
   ]
  },
  {
   "cell_type": "code",
   "execution_count": 20,
   "id": "467ef577",
   "metadata": {},
   "outputs": [
    {
     "data": {
      "text/html": [
       "<div>\n",
       "<style scoped>\n",
       "    .dataframe tbody tr th:only-of-type {\n",
       "        vertical-align: middle;\n",
       "    }\n",
       "\n",
       "    .dataframe tbody tr th {\n",
       "        vertical-align: top;\n",
       "    }\n",
       "\n",
       "    .dataframe thead th {\n",
       "        text-align: right;\n",
       "    }\n",
       "</style>\n",
       "<table border=\"1\" class=\"dataframe\">\n",
       "  <thead>\n",
       "    <tr style=\"text-align: right;\">\n",
       "      <th></th>\n",
       "      <th>country</th>\n",
       "      <th>name</th>\n",
       "      <th>population</th>\n",
       "    </tr>\n",
       "  </thead>\n",
       "  <tbody>\n",
       "    <tr>\n",
       "      <th>8</th>\n",
       "      <td>Italy</td>\n",
       "      <td>Rome</td>\n",
       "      <td>2874038</td>\n",
       "    </tr>\n",
       "    <tr>\n",
       "      <th>9</th>\n",
       "      <td>Austria</td>\n",
       "      <td>Vienna</td>\n",
       "      <td>1805681</td>\n",
       "    </tr>\n",
       "    <tr>\n",
       "      <th>10</th>\n",
       "      <td>Germany</td>\n",
       "      <td>Hamburg</td>\n",
       "      <td>1760433</td>\n",
       "    </tr>\n",
       "    <tr>\n",
       "      <th>11</th>\n",
       "      <td>Poland</td>\n",
       "      <td>Warsaw</td>\n",
       "      <td>1740119</td>\n",
       "    </tr>\n",
       "    <tr>\n",
       "      <th>12</th>\n",
       "      <td>Germany</td>\n",
       "      <td>Munich</td>\n",
       "      <td>1493900</td>\n",
       "    </tr>\n",
       "  </tbody>\n",
       "</table>\n",
       "</div>"
      ],
      "text/plain": [
       "    country     name  population\n",
       "8     Italy     Rome     2874038\n",
       "9   Austria   Vienna     1805681\n",
       "10  Germany  Hamburg     1760433\n",
       "11   Poland   Warsaw     1740119\n",
       "12  Germany   Munich     1493900"
      ]
     },
     "execution_count": 20,
     "metadata": {},
     "output_type": "execute_result"
    }
   ],
   "source": [
    "df_countries.tail() # die letzten 5 Zeilen in Dataframe"
   ]
  },
  {
   "cell_type": "code",
   "execution_count": 21,
   "id": "423ae9f4",
   "metadata": {},
   "outputs": [
    {
     "data": {
      "text/html": [
       "<div>\n",
       "<style scoped>\n",
       "    .dataframe tbody tr th:only-of-type {\n",
       "        vertical-align: middle;\n",
       "    }\n",
       "\n",
       "    .dataframe tbody tr th {\n",
       "        vertical-align: top;\n",
       "    }\n",
       "\n",
       "    .dataframe thead th {\n",
       "        text-align: right;\n",
       "    }\n",
       "</style>\n",
       "<table border=\"1\" class=\"dataframe\">\n",
       "  <thead>\n",
       "    <tr style=\"text-align: right;\">\n",
       "      <th></th>\n",
       "      <th>country</th>\n",
       "      <th>name</th>\n",
       "      <th>population</th>\n",
       "    </tr>\n",
       "  </thead>\n",
       "  <tbody>\n",
       "    <tr>\n",
       "      <th>11</th>\n",
       "      <td>Poland</td>\n",
       "      <td>Warsaw</td>\n",
       "      <td>1740119</td>\n",
       "    </tr>\n",
       "    <tr>\n",
       "      <th>12</th>\n",
       "      <td>Germany</td>\n",
       "      <td>Munich</td>\n",
       "      <td>1493900</td>\n",
       "    </tr>\n",
       "  </tbody>\n",
       "</table>\n",
       "</div>"
      ],
      "text/plain": [
       "    country    name  population\n",
       "11   Poland  Warsaw     1740119\n",
       "12  Germany  Munich     1493900"
      ]
     },
     "execution_count": 21,
     "metadata": {},
     "output_type": "execute_result"
    }
   ],
   "source": [
    "df_countries.tail(2) # die letzten 2 Zeilen zeigen"
   ]
  },
  {
   "cell_type": "markdown",
   "id": "a09c9f87",
   "metadata": {},
   "source": [
    "### Zugriff auf eine Reihe\n",
    "geht genauso wie bei Series mit dem Attribut `.iloc[]`"
   ]
  },
  {
   "cell_type": "code",
   "execution_count": 22,
   "id": "21b885b1",
   "metadata": {},
   "outputs": [
    {
     "data": {
      "text/plain": [
       "country       Germany\n",
       "name           Munich\n",
       "population    1493900\n",
       "Name: 12, dtype: object"
      ]
     },
     "execution_count": 22,
     "metadata": {},
     "output_type": "execute_result"
    }
   ],
   "source": [
    "df_countries.iloc[12]"
   ]
  },
  {
   "cell_type": "code",
   "execution_count": 23,
   "id": "0adeccab",
   "metadata": {},
   "outputs": [
    {
     "data": {
      "text/plain": [
       "pandas.core.series.Series"
      ]
     },
     "execution_count": 23,
     "metadata": {},
     "output_type": "execute_result"
    }
   ],
   "source": [
    "type(df_countries.iloc[12])"
   ]
  },
  {
   "cell_type": "code",
   "execution_count": 24,
   "id": "083c883a",
   "metadata": {},
   "outputs": [
    {
     "name": "stderr",
     "output_type": "stream",
     "text": [
      "C:\\Users\\OlhaIshchenko\\AppData\\Local\\Temp\\ipykernel_20212\\2756452341.py:2: FutureWarning: Series.__getitem__ treating keys as positions is deprecated. In a future version, integer keys will always be treated as labels (consistent with DataFrame behavior). To access a value by position, use `ser.iloc[pos]`\n",
      "  line[0] # die erste Spalte 'country'\n"
     ]
    },
    {
     "data": {
      "text/plain": [
       "'Germany'"
      ]
     },
     "execution_count": 24,
     "metadata": {},
     "output_type": "execute_result"
    }
   ],
   "source": [
    "line = df_countries.iloc[12]\n",
    "line[0] # die erste Spalte 'country'"
   ]
  },
  {
   "cell_type": "code",
   "execution_count": 27,
   "id": "4c3b5df9",
   "metadata": {},
   "outputs": [
    {
     "name": "stderr",
     "output_type": "stream",
     "text": [
      "C:\\Users\\AndreasWagner\\AppData\\Local\\Temp\\ipykernel_16248\\2412011135.py:1: FutureWarning: Series.__getitem__ treating keys as positions is deprecated. In a future version, integer keys will always be treated as labels (consistent with DataFrame behavior). To access a value by position, use `ser.iloc[pos]`\n",
      "  line[1] # die zweite Spalte 'name'\n"
     ]
    },
    {
     "data": {
      "text/plain": [
       "'Munich'"
      ]
     },
     "execution_count": 27,
     "metadata": {},
     "output_type": "execute_result"
    }
   ],
   "source": [
    "line[1] # die zweite Spalte 'name'"
   ]
  },
  {
   "cell_type": "code",
   "execution_count": 28,
   "id": "f67f3fcc",
   "metadata": {},
   "outputs": [
    {
     "name": "stderr",
     "output_type": "stream",
     "text": [
      "C:\\Users\\AndreasWagner\\AppData\\Local\\Temp\\ipykernel_16248\\1659168983.py:1: FutureWarning: Series.__getitem__ treating keys as positions is deprecated. In a future version, integer keys will always be treated as labels (consistent with DataFrame behavior). To access a value by position, use `ser.iloc[pos]`\n",
      "  line[2] # dritte Spalte 'population'\n"
     ]
    },
    {
     "data": {
      "text/plain": [
       "np.int64(1493900)"
      ]
     },
     "execution_count": 28,
     "metadata": {},
     "output_type": "execute_result"
    }
   ],
   "source": [
    "line[2] # dritte Spalte 'population'"
   ]
  },
  {
   "cell_type": "code",
   "execution_count": 29,
   "id": "435d57fe",
   "metadata": {},
   "outputs": [],
   "source": [
    "# line[3] # error: gibt es nicht!"
   ]
  },
  {
   "cell_type": "markdown",
   "id": "bcd1652a",
   "metadata": {},
   "source": [
    "Reihen eines Dataframes sind Seriesobjekte."
   ]
  },
  {
   "cell_type": "code",
   "execution_count": 29,
   "id": "a0fc7d17",
   "metadata": {},
   "outputs": [
    {
     "data": {
      "text/plain": [
       "10"
      ]
     },
     "execution_count": 29,
     "metadata": {},
     "output_type": "execute_result"
    }
   ],
   "source": [
    "df_countries.index[10]"
   ]
  },
  {
   "cell_type": "code",
   "execution_count": 25,
   "id": "e0b40208",
   "metadata": {},
   "outputs": [
    {
     "data": {
      "text/plain": [
       "RangeIndex(start=0, stop=13, step=1)"
      ]
     },
     "execution_count": 25,
     "metadata": {},
     "output_type": "execute_result"
    }
   ],
   "source": [
    "df_countries.index # Alle Indizes sehen"
   ]
  },
  {
   "cell_type": "markdown",
   "id": "69232105",
   "metadata": {},
   "source": [
    "### Zugriff auf Spalten"
   ]
  },
  {
   "cell_type": "code",
   "execution_count": 26,
   "id": "414afc63",
   "metadata": {},
   "outputs": [
    {
     "data": {
      "text/plain": [
       "Index(['country', 'name', 'population'], dtype='object')"
      ]
     },
     "execution_count": 26,
     "metadata": {},
     "output_type": "execute_result"
    }
   ],
   "source": [
    "df_countries.columns # zeigt alle Spalten"
   ]
  },
  {
   "cell_type": "markdown",
   "id": "799d04cc",
   "metadata": {},
   "source": [
    "Zugriff auf eine gewisse Spalte: ähnlich wie bei Dictionarys"
   ]
  },
  {
   "cell_type": "code",
   "execution_count": 27,
   "id": "669f8032",
   "metadata": {},
   "outputs": [
    {
     "data": {
      "text/plain": [
       "0     England\n",
       "1       Spain\n",
       "2      France\n",
       "3     Romania\n",
       "4     Hungary\n",
       "5       Spain\n",
       "6       Italy\n",
       "7     Germany\n",
       "8       Italy\n",
       "9     Austria\n",
       "10    Germany\n",
       "11     Poland\n",
       "12    Germany\n",
       "Name: country, dtype: object"
      ]
     },
     "execution_count": 27,
     "metadata": {},
     "output_type": "execute_result"
    }
   ],
   "source": [
    "df_countries['country']"
   ]
  },
  {
   "cell_type": "code",
   "execution_count": 28,
   "id": "9f8c974c",
   "metadata": {},
   "outputs": [
    {
     "data": {
      "text/plain": [
       "0     England\n",
       "1       Spain\n",
       "2      France\n",
       "3     Romania\n",
       "4     Hungary\n",
       "5       Spain\n",
       "6       Italy\n",
       "7     Germany\n",
       "8       Italy\n",
       "9     Austria\n",
       "10    Germany\n",
       "11     Poland\n",
       "12    Germany\n",
       "Name: country, dtype: object"
      ]
     },
     "execution_count": 28,
     "metadata": {},
     "output_type": "execute_result"
    }
   ],
   "source": [
    "# alternativ und wenn der Spaltenname nur aus einem Wort besteht (kein Leerzeichen enthält)\n",
    "df_countries.country"
   ]
  },
  {
   "cell_type": "markdown",
   "id": "38dd1cf0",
   "metadata": {},
   "source": [
    "#### Einfache Abfragen\n",
    "z.B. Welche Städte in Dataframe haben eine Bevölkerung größer als 2 Millionen?"
   ]
  },
  {
   "cell_type": "code",
   "execution_count": 34,
   "id": "bb4c5caf",
   "metadata": {},
   "outputs": [
    {
     "data": {
      "text/html": [
       "<div>\n",
       "<style scoped>\n",
       "    .dataframe tbody tr th:only-of-type {\n",
       "        vertical-align: middle;\n",
       "    }\n",
       "\n",
       "    .dataframe tbody tr th {\n",
       "        vertical-align: top;\n",
       "    }\n",
       "\n",
       "    .dataframe thead th {\n",
       "        text-align: right;\n",
       "    }\n",
       "</style>\n",
       "<table border=\"1\" class=\"dataframe\">\n",
       "  <thead>\n",
       "    <tr style=\"text-align: right;\">\n",
       "      <th></th>\n",
       "      <th>country</th>\n",
       "      <th>name</th>\n",
       "      <th>population</th>\n",
       "    </tr>\n",
       "  </thead>\n",
       "  <tbody>\n",
       "    <tr>\n",
       "      <th>0</th>\n",
       "      <td>England</td>\n",
       "      <td>London</td>\n",
       "      <td>8615246</td>\n",
       "    </tr>\n",
       "    <tr>\n",
       "      <th>1</th>\n",
       "      <td>Spain</td>\n",
       "      <td>Madrid</td>\n",
       "      <td>3165235</td>\n",
       "    </tr>\n",
       "    <tr>\n",
       "      <th>2</th>\n",
       "      <td>France</td>\n",
       "      <td>Paris</td>\n",
       "      <td>2273305</td>\n",
       "    </tr>\n",
       "    <tr>\n",
       "      <th>7</th>\n",
       "      <td>Germany</td>\n",
       "      <td>Berlin</td>\n",
       "      <td>3562166</td>\n",
       "    </tr>\n",
       "    <tr>\n",
       "      <th>8</th>\n",
       "      <td>Italy</td>\n",
       "      <td>Rome</td>\n",
       "      <td>2874038</td>\n",
       "    </tr>\n",
       "  </tbody>\n",
       "</table>\n",
       "</div>"
      ],
      "text/plain": [
       "   country    name  population\n",
       "0  England  London     8615246\n",
       "1    Spain  Madrid     3165235\n",
       "2   France   Paris     2273305\n",
       "7  Germany  Berlin     3562166\n",
       "8    Italy    Rome     2874038"
      ]
     },
     "execution_count": 34,
     "metadata": {},
     "output_type": "execute_result"
    }
   ],
   "source": [
    "df_countries[df_countries.population > 2000000] # ähnlich wie bei Series"
   ]
  },
  {
   "cell_type": "markdown",
   "id": "db2ec5af",
   "metadata": {},
   "source": [
    "#### Einen Teilbereich aus Dataframe zeigen\n",
    "- gewisse Spalten"
   ]
  },
  {
   "cell_type": "code",
   "execution_count": 35,
   "id": "b896cf5b",
   "metadata": {},
   "outputs": [
    {
     "data": {
      "text/html": [
       "<div>\n",
       "<style scoped>\n",
       "    .dataframe tbody tr th:only-of-type {\n",
       "        vertical-align: middle;\n",
       "    }\n",
       "\n",
       "    .dataframe tbody tr th {\n",
       "        vertical-align: top;\n",
       "    }\n",
       "\n",
       "    .dataframe thead th {\n",
       "        text-align: right;\n",
       "    }\n",
       "</style>\n",
       "<table border=\"1\" class=\"dataframe\">\n",
       "  <thead>\n",
       "    <tr style=\"text-align: right;\">\n",
       "      <th></th>\n",
       "      <th>country</th>\n",
       "      <th>name</th>\n",
       "    </tr>\n",
       "  </thead>\n",
       "  <tbody>\n",
       "    <tr>\n",
       "      <th>0</th>\n",
       "      <td>England</td>\n",
       "      <td>London</td>\n",
       "    </tr>\n",
       "    <tr>\n",
       "      <th>1</th>\n",
       "      <td>Spain</td>\n",
       "      <td>Madrid</td>\n",
       "    </tr>\n",
       "    <tr>\n",
       "      <th>2</th>\n",
       "      <td>France</td>\n",
       "      <td>Paris</td>\n",
       "    </tr>\n",
       "    <tr>\n",
       "      <th>3</th>\n",
       "      <td>Romania</td>\n",
       "      <td>Bucharest</td>\n",
       "    </tr>\n",
       "    <tr>\n",
       "      <th>4</th>\n",
       "      <td>Hungary</td>\n",
       "      <td>Budapest</td>\n",
       "    </tr>\n",
       "    <tr>\n",
       "      <th>5</th>\n",
       "      <td>Spain</td>\n",
       "      <td>Barcelona</td>\n",
       "    </tr>\n",
       "    <tr>\n",
       "      <th>6</th>\n",
       "      <td>Italy</td>\n",
       "      <td>Milan</td>\n",
       "    </tr>\n",
       "    <tr>\n",
       "      <th>7</th>\n",
       "      <td>Germany</td>\n",
       "      <td>Berlin</td>\n",
       "    </tr>\n",
       "    <tr>\n",
       "      <th>8</th>\n",
       "      <td>Italy</td>\n",
       "      <td>Rome</td>\n",
       "    </tr>\n",
       "    <tr>\n",
       "      <th>9</th>\n",
       "      <td>Austria</td>\n",
       "      <td>Vienna</td>\n",
       "    </tr>\n",
       "    <tr>\n",
       "      <th>10</th>\n",
       "      <td>Germany</td>\n",
       "      <td>Hamburg</td>\n",
       "    </tr>\n",
       "    <tr>\n",
       "      <th>11</th>\n",
       "      <td>Poland</td>\n",
       "      <td>Warsaw</td>\n",
       "    </tr>\n",
       "    <tr>\n",
       "      <th>12</th>\n",
       "      <td>Germany</td>\n",
       "      <td>Munich</td>\n",
       "    </tr>\n",
       "  </tbody>\n",
       "</table>\n",
       "</div>"
      ],
      "text/plain": [
       "    country       name\n",
       "0   England     London\n",
       "1     Spain     Madrid\n",
       "2    France      Paris\n",
       "3   Romania  Bucharest\n",
       "4   Hungary   Budapest\n",
       "5     Spain  Barcelona\n",
       "6     Italy      Milan\n",
       "7   Germany     Berlin\n",
       "8     Italy       Rome\n",
       "9   Austria     Vienna\n",
       "10  Germany    Hamburg\n",
       "11   Poland     Warsaw\n",
       "12  Germany     Munich"
      ]
     },
     "execution_count": 35,
     "metadata": {},
     "output_type": "execute_result"
    }
   ],
   "source": [
    "df_countries[['country', 'name']] # nur spalten country und name anzeigen"
   ]
  },
  {
   "cell_type": "markdown",
   "id": "a8cb9280",
   "metadata": {},
   "source": [
    "- nur gewisse Reihen aus einem Teilbereich"
   ]
  },
  {
   "cell_type": "code",
   "execution_count": 36,
   "id": "4e46a55e",
   "metadata": {},
   "outputs": [
    {
     "data": {
      "text/html": [
       "<div>\n",
       "<style scoped>\n",
       "    .dataframe tbody tr th:only-of-type {\n",
       "        vertical-align: middle;\n",
       "    }\n",
       "\n",
       "    .dataframe tbody tr th {\n",
       "        vertical-align: top;\n",
       "    }\n",
       "\n",
       "    .dataframe thead th {\n",
       "        text-align: right;\n",
       "    }\n",
       "</style>\n",
       "<table border=\"1\" class=\"dataframe\">\n",
       "  <thead>\n",
       "    <tr style=\"text-align: right;\">\n",
       "      <th></th>\n",
       "      <th>country</th>\n",
       "      <th>name</th>\n",
       "      <th>population</th>\n",
       "    </tr>\n",
       "  </thead>\n",
       "  <tbody>\n",
       "    <tr>\n",
       "      <th>0</th>\n",
       "      <td>England</td>\n",
       "      <td>London</td>\n",
       "      <td>8615246</td>\n",
       "    </tr>\n",
       "    <tr>\n",
       "      <th>1</th>\n",
       "      <td>Spain</td>\n",
       "      <td>Madrid</td>\n",
       "      <td>3165235</td>\n",
       "    </tr>\n",
       "    <tr>\n",
       "      <th>2</th>\n",
       "      <td>France</td>\n",
       "      <td>Paris</td>\n",
       "      <td>2273305</td>\n",
       "    </tr>\n",
       "  </tbody>\n",
       "</table>\n",
       "</div>"
      ],
      "text/plain": [
       "   country    name  population\n",
       "0  England  London     8615246\n",
       "1    Spain  Madrid     3165235\n",
       "2   France   Paris     2273305"
      ]
     },
     "execution_count": 36,
     "metadata": {},
     "output_type": "execute_result"
    }
   ],
   "source": [
    "df_countries[:3] # die ersten 3 Reihen"
   ]
  },
  {
   "cell_type": "markdown",
   "id": "4f09bfdb",
   "metadata": {},
   "source": [
    "- eine Kombination"
   ]
  },
  {
   "cell_type": "code",
   "execution_count": 37,
   "id": "f8db7211",
   "metadata": {},
   "outputs": [
    {
     "data": {
      "text/html": [
       "<div>\n",
       "<style scoped>\n",
       "    .dataframe tbody tr th:only-of-type {\n",
       "        vertical-align: middle;\n",
       "    }\n",
       "\n",
       "    .dataframe tbody tr th {\n",
       "        vertical-align: top;\n",
       "    }\n",
       "\n",
       "    .dataframe thead th {\n",
       "        text-align: right;\n",
       "    }\n",
       "</style>\n",
       "<table border=\"1\" class=\"dataframe\">\n",
       "  <thead>\n",
       "    <tr style=\"text-align: right;\">\n",
       "      <th></th>\n",
       "      <th>country</th>\n",
       "      <th>name</th>\n",
       "    </tr>\n",
       "  </thead>\n",
       "  <tbody>\n",
       "    <tr>\n",
       "      <th>0</th>\n",
       "      <td>England</td>\n",
       "      <td>London</td>\n",
       "    </tr>\n",
       "    <tr>\n",
       "      <th>1</th>\n",
       "      <td>Spain</td>\n",
       "      <td>Madrid</td>\n",
       "    </tr>\n",
       "    <tr>\n",
       "      <th>2</th>\n",
       "      <td>France</td>\n",
       "      <td>Paris</td>\n",
       "    </tr>\n",
       "  </tbody>\n",
       "</table>\n",
       "</div>"
      ],
      "text/plain": [
       "   country    name\n",
       "0  England  London\n",
       "1    Spain  Madrid\n",
       "2   France   Paris"
      ]
     },
     "execution_count": 37,
     "metadata": {},
     "output_type": "execute_result"
    }
   ],
   "source": [
    "df_countries[['country', 'name']][:3] \n",
    "# nur 2 spalten country und name und nur die ersten 3 Zeilen"
   ]
  }
 ],
 "metadata": {
  "kernelspec": {
   "display_name": ".my_venv",
   "language": "python",
   "name": "python3"
  },
  "language_info": {
   "codemirror_mode": {
    "name": "ipython",
    "version": 3
   },
   "file_extension": ".py",
   "mimetype": "text/x-python",
   "name": "python",
   "nbconvert_exporter": "python",
   "pygments_lexer": "ipython3",
   "version": "3.12.6"
  },
  "nbTranslate": {
   "displayLangs": [
    "en",
    "de"
   ],
   "hotkey": "alt-t",
   "langInMainMenu": true,
   "sourceLang": "de",
   "targetLang": "en",
   "useGoogleTranslate": true
  }
 },
 "nbformat": 4,
 "nbformat_minor": 5
}
