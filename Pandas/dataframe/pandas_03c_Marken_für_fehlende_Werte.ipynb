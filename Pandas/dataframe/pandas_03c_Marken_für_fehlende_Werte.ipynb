{
 "cells": [
  {
   "cell_type": "code",
   "execution_count": 7,
   "metadata": {},
   "outputs": [],
   "source": [
    "import pandas as pd\n",
    "import numpy as np"
   ]
  },
  {
   "cell_type": "markdown",
   "metadata": {},
   "source": [
    "### `numpy.nan` (Not a Number)\n",
    "Wird hauptsächlich bei numerischen Datentypen verwendet.<br>\n",
    "Vor allem für float-Daten geeignet;Achtung bei anderen Datentypen (wie int oder boolean) , da es diese Datentypen automatisch in float konvertiert werden."
   ]
  },
  {
   "cell_type": "code",
   "execution_count": 8,
   "metadata": {},
   "outputs": [
    {
     "name": "stdout",
     "output_type": "stream",
     "text": [
      "     A    B\n",
      "0  1.0  5.0\n",
      "1  2.0  NaN\n",
      "2  NaN  7.0\n",
      "3  4.0  8.0\n"
     ]
    }
   ],
   "source": [
    "df1 = pd.DataFrame({\n",
    "    'A': [1, 2, np.nan, 4],\n",
    "    'B': [5, np.nan, 7, 8]\n",
    "})\n",
    "print(df1) # aus den Integer Werten sind floats geworden"
   ]
  },
  {
   "cell_type": "markdown",
   "metadata": {},
   "source": [
    "### `pandas.NA` (Not Available)\n",
    "`pandas.NA` ist eine neue Art von fehlendem Wert, die in Pandas v1.0 eingeführt wurde. Sie unterstützt Integer, Boolean und string-Datentypen, ohne die Datentypen in float zu ändern.<br>\n",
    "NA speziell dafür entwickelt wurde und keine unerwünschten Konvertierungen vornimmt."
   ]
  },
  {
   "cell_type": "code",
   "execution_count": 14,
   "metadata": {},
   "outputs": [
    {
     "name": "stdout",
     "output_type": "stream",
     "text": [
      "      A      B\n",
      "0     1   True\n",
      "1     2   <NA>\n",
      "2  <NA>  False\n",
      "3     4   True\n"
     ]
    }
   ],
   "source": [
    "df2 = pd.DataFrame({\n",
    "    'A': pd.Series([1, 2, pd.NA, 4], dtype=\"Int64\"),\n",
    "    'B': pd.Series([True, pd.NA, False, True], dtype=\"boolean\")\n",
    "})\n",
    "print(df2)"
   ]
  },
  {
   "cell_type": "markdown",
   "metadata": {},
   "source": [
    "Beide Bezeichner ermöglichen uns mit der Datenreihe mathematische Berechnungen durchzuführen ohne dass ein Fehler (wegen fehlendem Wert) dabei erzeugt wird:"
   ]
  },
  {
   "cell_type": "code",
   "execution_count": 15,
   "metadata": {},
   "outputs": [
    {
     "data": {
      "text/plain": [
       "A     7.0\n",
       "B    20.0\n",
       "dtype: float64"
      ]
     },
     "execution_count": 15,
     "metadata": {},
     "output_type": "execute_result"
    }
   ],
   "source": [
    "df1.sum()"
   ]
  },
  {
   "cell_type": "code",
   "execution_count": 16,
   "metadata": {},
   "outputs": [
    {
     "data": {
      "text/plain": [
       "A    7\n",
       "B    2\n",
       "dtype: Int64"
      ]
     },
     "execution_count": 16,
     "metadata": {},
     "output_type": "execute_result"
    }
   ],
   "source": [
    "df2.sum()"
   ]
  },
  {
   "cell_type": "markdown",
   "metadata": {},
   "source": [
    "`None` Werte werden automatisch umgewandelt:"
   ]
  },
  {
   "cell_type": "code",
   "execution_count": 18,
   "metadata": {},
   "outputs": [
    {
     "name": "stdout",
     "output_type": "stream",
     "text": [
      "      A      B\n",
      "0     1   True\n",
      "1     2   <NA>\n",
      "2  <NA>  False\n",
      "3     4   True\n"
     ]
    }
   ],
   "source": [
    "df3 = pd.DataFrame({\n",
    "    'A': pd.Series([1, 2, None, 4], dtype=\"Int64\"),\n",
    "    'B': pd.Series([True, pd.NA, False, True], dtype=\"boolean\")\n",
    "})\n",
    "print(df3)"
   ]
  },
  {
   "cell_type": "markdown",
   "metadata": {},
   "source": [
    "### Methodenübersicht für Fehlwert-Erkennung:\n",
    "`isnull()` und `isna()`: Diese beiden Methoden sind identisch und erkennen `nan`, `NA` und `None` als Fehlwerte.<br>\n",
    "`notnull()` und `notna()`: Umgekehrt geben diese Methoden True für alle nicht-fehlenden Werte zurück und False für Fehlwerte"
   ]
  },
  {
   "cell_type": "code",
   "execution_count": 20,
   "metadata": {},
   "outputs": [
    {
     "name": "stdout",
     "output_type": "stream",
     "text": [
      "       A      B\n",
      "0  False  False\n",
      "1  False   True\n",
      "2   True  False\n",
      "3  False  False\n",
      "4   True   True\n",
      "\n",
      "        A      B\n",
      "0  False  False\n",
      "1  False   True\n",
      "2   True  False\n",
      "3  False  False\n",
      "4   True   True\n"
     ]
    }
   ],
   "source": [
    "df4 = pd.DataFrame({\n",
    "    'A': pd.Series([1, 2, pd.NA, 4, np.nan], dtype=\"Int64\"),\n",
    "    'B': pd.Series([True, pd.NA, False, True], dtype=\"boolean\")\n",
    "})\n",
    "print(df4.isnull())\n",
    "print(\"\\n\", df4.isna())"
   ]
  }
 ],
 "metadata": {
  "kernelspec": {
   "display_name": "Python 3",
   "language": "python",
   "name": "python3"
  },
  "language_info": {
   "codemirror_mode": {
    "name": "ipython",
    "version": 3
   },
   "file_extension": ".py",
   "mimetype": "text/x-python",
   "name": "python",
   "nbconvert_exporter": "python",
   "pygments_lexer": "ipython3",
   "version": "3.12.6"
  }
 },
 "nbformat": 4,
 "nbformat_minor": 2
}
