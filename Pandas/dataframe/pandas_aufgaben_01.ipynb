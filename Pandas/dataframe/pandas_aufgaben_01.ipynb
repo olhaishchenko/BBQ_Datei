{
 "cells": [
  {
   "cell_type": "markdown",
   "id": "2cfccd74",
   "metadata": {},
   "source": [
    "# Pandas Aufgaben\n",
    "\n",
    "##### Aufgabe (1)\n",
    "Erzeugen Sie ein beliebiges DataFrame mit einem Index, der aus Vornamen besteht,\n",
    "sowie einer Spalte für das Gewicht und einer Spalte für die Körpergröße. Befüllen Sie dann mit _imaginäre Daten_ Ihren Dataframe.\n"
   ]
  },
  {
   "cell_type": "code",
   "execution_count": 1,
   "id": "0ea34a35",
   "metadata": {},
   "outputs": [],
   "source": [
    "import pandas as pd"
   ]
  },
  {
   "cell_type": "code",
   "execution_count": 2,
   "id": "f5f1ce59",
   "metadata": {},
   "outputs": [
    {
     "data": {
      "text/html": [
       "<div>\n",
       "<style scoped>\n",
       "    .dataframe tbody tr th:only-of-type {\n",
       "        vertical-align: middle;\n",
       "    }\n",
       "\n",
       "    .dataframe tbody tr th {\n",
       "        vertical-align: top;\n",
       "    }\n",
       "\n",
       "    .dataframe thead th {\n",
       "        text-align: right;\n",
       "    }\n",
       "</style>\n",
       "<table border=\"1\" class=\"dataframe\">\n",
       "  <thead>\n",
       "    <tr style=\"text-align: right;\">\n",
       "      <th></th>\n",
       "      <th>Gewicht</th>\n",
       "      <th>Körpergröße</th>\n",
       "    </tr>\n",
       "  </thead>\n",
       "  <tbody>\n",
       "    <tr>\n",
       "      <th>Julia</th>\n",
       "      <td>50</td>\n",
       "      <td>160</td>\n",
       "    </tr>\n",
       "    <tr>\n",
       "      <th>Olha</th>\n",
       "      <td>60</td>\n",
       "      <td>165</td>\n",
       "    </tr>\n",
       "    <tr>\n",
       "      <th>Natalia</th>\n",
       "      <td>65</td>\n",
       "      <td>170</td>\n",
       "    </tr>\n",
       "    <tr>\n",
       "      <th>Simon</th>\n",
       "      <td>70</td>\n",
       "      <td>175</td>\n",
       "    </tr>\n",
       "    <tr>\n",
       "      <th>Lorena</th>\n",
       "      <td>80</td>\n",
       "      <td>180</td>\n",
       "    </tr>\n",
       "    <tr>\n",
       "      <th>Lisa</th>\n",
       "      <td>85</td>\n",
       "      <td>185</td>\n",
       "    </tr>\n",
       "    <tr>\n",
       "      <th>Maria</th>\n",
       "      <td>90</td>\n",
       "      <td>190</td>\n",
       "    </tr>\n",
       "    <tr>\n",
       "      <th>Andreas</th>\n",
       "      <td>95</td>\n",
       "      <td>195</td>\n",
       "    </tr>\n",
       "    <tr>\n",
       "      <th>Julian</th>\n",
       "      <td>100</td>\n",
       "      <td>200</td>\n",
       "    </tr>\n",
       "    <tr>\n",
       "      <th>Karl</th>\n",
       "      <td>110</td>\n",
       "      <td>205</td>\n",
       "    </tr>\n",
       "  </tbody>\n",
       "</table>\n",
       "</div>"
      ],
      "text/plain": [
       "         Gewicht  Körpergröße\n",
       "Julia         50          160\n",
       "Olha          60          165\n",
       "Natalia       65          170\n",
       "Simon         70          175\n",
       "Lorena        80          180\n",
       "Lisa          85          185\n",
       "Maria         90          190\n",
       "Andreas       95          195\n",
       "Julian       100          200\n",
       "Karl         110          205"
      ]
     },
     "execution_count": 2,
     "metadata": {},
     "output_type": "execute_result"
    }
   ],
   "source": [
    "# schreibe deinen code hier\n",
    "leute = {\n",
    "    'Gewicht':[50, 60, 65, 70, 80, 85, 90, 95, 100, 110],\n",
    "    'Körpergröße':[160, 165, 170, 175, 180, 185, 190, 195, 200, 205]\n",
    "}\n",
    "leute_df = pd.DataFrame(leute, index=['Julia', 'Olha', 'Natalia', 'Simon', 'Lorena', 'Lisa', 'Maria', 'Andreas', 'Julian', 'Karl'])\n",
    "leute_df"
   ]
  },
  {
   "cell_type": "markdown",
   "id": "55760d58",
   "metadata": {},
   "source": [
    "##### Aufgabe (2)\n",
    "\n",
    "Extrahieren Sie dann alle Zeilen, deren BMI (Body Mass Index) im normalen Bereich liegt, d.h. zwischen 18.5 und 25.\n",
    "  \n",
    "Es gilt:\n",
    "- BMI = m / (h ∗∗ 2)\n",
    "- m: Körpermaße in Kilogramm\n",
    "- h: Körpergröße in Meter\n",
    "\n",
    "_Tipp_ Sie können in Dataframe eine neue Spalte `bmi` hinzufügen:  \n",
    "\n",
    "```python\n",
    "df['bmi'] = # Berechnung\n",
    "```"
   ]
  },
  {
   "cell_type": "code",
   "execution_count": 5,
   "id": "233a110b",
   "metadata": {},
   "outputs": [
    {
     "data": {
      "text/html": [
       "<div>\n",
       "<style scoped>\n",
       "    .dataframe tbody tr th:only-of-type {\n",
       "        vertical-align: middle;\n",
       "    }\n",
       "\n",
       "    .dataframe tbody tr th {\n",
       "        vertical-align: top;\n",
       "    }\n",
       "\n",
       "    .dataframe thead th {\n",
       "        text-align: right;\n",
       "    }\n",
       "</style>\n",
       "<table border=\"1\" class=\"dataframe\">\n",
       "  <thead>\n",
       "    <tr style=\"text-align: right;\">\n",
       "      <th></th>\n",
       "      <th>Gewicht</th>\n",
       "      <th>Körpergröße</th>\n",
       "      <th>bmi</th>\n",
       "    </tr>\n",
       "  </thead>\n",
       "  <tbody>\n",
       "    <tr>\n",
       "      <th>Julia</th>\n",
       "      <td>50</td>\n",
       "      <td>160</td>\n",
       "      <td>19.531250</td>\n",
       "    </tr>\n",
       "    <tr>\n",
       "      <th>Olha</th>\n",
       "      <td>60</td>\n",
       "      <td>165</td>\n",
       "      <td>22.038567</td>\n",
       "    </tr>\n",
       "    <tr>\n",
       "      <th>Natalia</th>\n",
       "      <td>65</td>\n",
       "      <td>170</td>\n",
       "      <td>22.491349</td>\n",
       "    </tr>\n",
       "    <tr>\n",
       "      <th>Simon</th>\n",
       "      <td>70</td>\n",
       "      <td>175</td>\n",
       "      <td>22.857143</td>\n",
       "    </tr>\n",
       "    <tr>\n",
       "      <th>Lorena</th>\n",
       "      <td>80</td>\n",
       "      <td>180</td>\n",
       "      <td>24.691358</td>\n",
       "    </tr>\n",
       "    <tr>\n",
       "      <th>Lisa</th>\n",
       "      <td>85</td>\n",
       "      <td>185</td>\n",
       "      <td>24.835646</td>\n",
       "    </tr>\n",
       "    <tr>\n",
       "      <th>Maria</th>\n",
       "      <td>90</td>\n",
       "      <td>190</td>\n",
       "      <td>24.930748</td>\n",
       "    </tr>\n",
       "    <tr>\n",
       "      <th>Andreas</th>\n",
       "      <td>95</td>\n",
       "      <td>195</td>\n",
       "      <td>24.983563</td>\n",
       "    </tr>\n",
       "  </tbody>\n",
       "</table>\n",
       "</div>"
      ],
      "text/plain": [
       "         Gewicht  Körpergröße        bmi\n",
       "Julia         50          160  19.531250\n",
       "Olha          60          165  22.038567\n",
       "Natalia       65          170  22.491349\n",
       "Simon         70          175  22.857143\n",
       "Lorena        80          180  24.691358\n",
       "Lisa          85          185  24.835646\n",
       "Maria         90          190  24.930748\n",
       "Andreas       95          195  24.983563"
      ]
     },
     "execution_count": 5,
     "metadata": {},
     "output_type": "execute_result"
    }
   ],
   "source": [
    "# schreibe deinen code hier\n",
    "leute_df['bmi'] = leute_df['Gewicht'] / (leute_df['Körpergröße'] ** 2) * 10000\n",
    "leute_df[(leute_df['bmi']>18.5) & (leute_df['bmi']<25)]"
   ]
  },
  {
   "cell_type": "markdown",
   "id": "0ad44372",
   "metadata": {},
   "source": [
    "##### Aufgabe(3)\n",
    "\n",
    "Exportieren Sie Ihren Dataframe als eine `csv` Datei, z.B. `bmi.csv`"
   ]
  },
  {
   "cell_type": "code",
   "execution_count": 9,
   "id": "32ce4cfd",
   "metadata": {},
   "outputs": [],
   "source": [
    "# schreibe deinen code hier\n",
    "leute_df.to_csv('bmi.csv')"
   ]
  },
  {
   "cell_type": "markdown",
   "id": "f05cdba3",
   "metadata": {},
   "source": [
    "Happy Coding!"
   ]
  }
 ],
 "metadata": {
  "kernelspec": {
   "display_name": ".my_venv",
   "language": "python",
   "name": "python3"
  },
  "language_info": {
   "codemirror_mode": {
    "name": "ipython",
    "version": 3
   },
   "file_extension": ".py",
   "mimetype": "text/x-python",
   "name": "python",
   "nbconvert_exporter": "python",
   "pygments_lexer": "ipython3",
   "version": "3.12.6"
  },
  "nbTranslate": {
   "displayLangs": [
    "en",
    "de"
   ],
   "hotkey": "alt-t",
   "langInMainMenu": true,
   "sourceLang": "de",
   "targetLang": "en",
   "useGoogleTranslate": true
  }
 },
 "nbformat": 4,
 "nbformat_minor": 5
}
