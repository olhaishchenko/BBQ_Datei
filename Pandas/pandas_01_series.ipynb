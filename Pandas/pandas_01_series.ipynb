{
 "cells": [
  {
   "cell_type": "markdown",
   "id": "6ed15fa3",
   "metadata": {},
   "source": [
    "<img src='https://encrypted-tbn0.gstatic.com/images?q=tbn:ANd9GcTDiDpm8v8Nl2dB2tMxHY7SKFnp2-S71Q6hnQ&usqp=CAU'/>"
   ]
  },
  {
   "cell_type": "markdown",
   "id": "f41f6a77",
   "metadata": {},
   "source": [
    "# Pandas\n",
    "\n",
    "- 3rd Party Bibliothek zur Verarbeitung  tabellarischer Daten\n",
    "- basiert auf NumPy\n",
    "- Datenstrukturen: Series, Dataframe\n",
    "\n",
    "#### Installation"
   ]
  },
  {
   "cell_type": "code",
   "execution_count": 54,
   "id": "560b2bde",
   "metadata": {},
   "outputs": [],
   "source": [
    "# %%capture\n",
    "# !pip install pandas"
   ]
  },
  {
   "cell_type": "markdown",
   "id": "003eef63",
   "metadata": {},
   "source": [
    "#### Zusätzliches Paket für Excel (werden wir erst installieren falls zwingend benötigt)"
   ]
  },
  {
   "cell_type": "code",
   "execution_count": 55,
   "id": "49f73112",
   "metadata": {},
   "outputs": [],
   "source": [
    "# %%capture\n",
    "# !pip install xlrd"
   ]
  },
  {
   "cell_type": "markdown",
   "id": "7ae43320",
   "metadata": {},
   "source": [
    "#### Informationen zum Pandas-Modul"
   ]
  },
  {
   "cell_type": "code",
   "execution_count": 56,
   "id": "e54cdd16",
   "metadata": {},
   "outputs": [
    {
     "name": "stdout",
     "output_type": "stream",
     "text": [
      "Name: pandas\n",
      "Version: 2.2.3\n",
      "Summary: Powerful data structures for data analysis, time series, and statistics\n",
      "Home-page: https://pandas.pydata.org\n",
      "Author: \n",
      "Author-email: The Pandas Development Team <pandas-dev@python.org>\n",
      "License: BSD 3-Clause License\n",
      "\n",
      "Copyright (c) 2008-2011, AQR Capital Management, LLC, Lambda Foundry, Inc. and PyData Development Team\n",
      "All rights reserved.\n",
      "\n",
      "Copyright (c) 2011-2023, Open source contributors.\n",
      "\n",
      "Redistribution and use in source and binary forms, with or without\n",
      "modification, are permitted provided that the following conditions are met:\n",
      "\n",
      "* Redistributions of source code must retain the above copyright notice, this\n",
      "  list of conditions and the following disclaimer.\n",
      "\n",
      "* Redistributions in binary form must reproduce the above copyright notice,\n",
      "  this list of conditions and the following disclaimer in the documentation\n",
      "  and/or other materials provided with the distribution.\n",
      "\n",
      "* Neither the name of the copyright holder nor the names of its\n",
      "  contributors may be used to endorse or promote products derived from\n",
      "  this software without specific prior written permission.\n",
      "\n",
      "THIS SOFTWARE IS PROVIDED BY THE COPYRIGHT HOLDERS AND CONTRIBUTORS \"AS IS\"\n",
      "AND ANY EXPRESS OR IMPLIED WARRANTIES, INCLUDING, BUT NOT LIMITED TO, THE\n",
      "IMPLIED WARRANTIES OF MERCHANTABILITY AND FITNESS FOR A PARTICULAR PURPOSE ARE\n",
      "DISCLAIMED. IN NO EVENT SHALL THE COPYRIGHT HOLDER OR CONTRIBUTORS BE LIABLE\n",
      "FOR ANY DIRECT, INDIRECT, INCIDENTAL, SPECIAL, EXEMPLARY, OR CONSEQUENTIAL\n",
      "DAMAGES (INCLUDING, BUT NOT LIMITED TO, PROCUREMENT OF SUBSTITUTE GOODS OR\n",
      "SERVICES; LOSS OF USE, DATA, OR PROFITS; OR BUSINESS INTERRUPTION) HOWEVER\n",
      "CAUSED AND ON ANY THEORY OF LIABILITY, WHETHER IN CONTRACT, STRICT LIABILITY,\n",
      "OR TORT (INCLUDING NEGLIGENCE OR OTHERWISE) ARISING IN ANY WAY OUT OF THE USE\n",
      "OF THIS SOFTWARE, EVEN IF ADVISED OF THE POSSIBILITY OF SUCH DAMAGE.\n",
      "Location: c:\\Users\\OlhaIshchenko\\Documents\\Daten_Analyse\\unterricht\\.my_venv\\Lib\\site-packages\n",
      "Requires: numpy, python-dateutil, pytz, tzdata\n",
      "Required-by: \n"
     ]
    }
   ],
   "source": [
    "# !pip show pandas"
   ]
  },
  {
   "cell_type": "markdown",
   "id": "85bb97f7",
   "metadata": {},
   "source": [
    "#### Pandas Dokumentation\n",
    "\n",
    "findet man hier: https://pandas.pydata.org/"
   ]
  },
  {
   "cell_type": "markdown",
   "id": "6ff043c4",
   "metadata": {},
   "source": [
    "#### Pandas importieren\n",
    "\n",
    "es üblich, dass man Pandas in pd umbennent:"
   ]
  },
  {
   "cell_type": "code",
   "execution_count": 57,
   "id": "8d9f0f44",
   "metadata": {},
   "outputs": [],
   "source": [
    "import pandas as pd"
   ]
  },
  {
   "cell_type": "markdown",
   "id": "4327aad6",
   "metadata": {},
   "source": [
    "### Pandas Datenstrukturen\n",
    "\n",
    "- Series: eine eindimensionale Darstellung von Daten (ähnlich wie NumPy Arrays)\n",
    "- DataFrame: eine zweidimensionale (tabellarisch: Reihen und Spalten) Darstellung von Daten\n"
   ]
  },
  {
   "cell_type": "markdown",
   "id": "e370cd7d",
   "metadata": {},
   "source": [
    "#### Series\n",
    "\n",
    "<img src='https://pandas.pydata.org/docs/_images/01_table_series.svg' width='150px;'>\n",
    "\n",
    "Ein Series-Objekt kann man wie die Spalte in einer Excel-Tabelle plus dem zugehörigen Index sehen. Anders ausgedrückt: Eine Series ist ein eindimensionales Array-ähnliches Objekt mit einem Index. Während bei einem Array der Index den natürlichen Zahlen von 0\n",
    "bis zur Länge des Arrays (exklusive) entspricht, kann der Index einer Series beliebig sein.\n",
    "  \n",
    "Sowohl der Index als auch die Werte einer Series müssen einen einheitlichen Datentyp aufweisen, also beispielsweise nur Integers, Floats, Strings usw.  \n",
    "\n",
    "Eine Series kann als eine Datenstruktur mit zwei Arrays angesehen werden: Ein Array fungiert als Index, d.h. als Bezeichner (Label), und ein Array beinhaltet die aktuellen Daten\n",
    "(Werte).\n",
    "\n",
    "Series wurden ursprünglich zur Analyse von Zeitreihen (engl. time series) entwickelt.  \n",
    "  \n",
    "Series sind _explizit_ indiziert (flexibler als NumPy Arrays: _implizit indiziert_)\n",
    "\n"
   ]
  },
  {
   "cell_type": "code",
   "execution_count": 58,
   "id": "855de8ef",
   "metadata": {},
   "outputs": [
    {
     "data": {
      "text/plain": [
       "array([10, 20, 30])"
      ]
     },
     "execution_count": 58,
     "metadata": {},
     "output_type": "execute_result"
    }
   ],
   "source": [
    "import numpy as np\n",
    "\n",
    "arr = np.array([10,20,30])\n",
    "arr # in der Ausgabe sehen wir nur die Elemente des Arrayobjekts"
   ]
  },
  {
   "cell_type": "code",
   "execution_count": 59,
   "id": "1feb366e",
   "metadata": {},
   "outputs": [
    {
     "data": {
      "text/plain": [
       "0    10\n",
       "1    20\n",
       "2    30\n",
       "dtype: int64"
      ]
     },
     "execution_count": 59,
     "metadata": {},
     "output_type": "execute_result"
    }
   ],
   "source": [
    "ser = pd.Series(index=range(3),  # Indizes\n",
    "                data=[10,20,30]) # Elemente\n",
    "ser"
   ]
  },
  {
   "cell_type": "markdown",
   "id": "46581a04",
   "metadata": {},
   "source": [
    "Im Folgenden lernen wir:\n",
    "\n",
    "- Ein Series-Objekt erstellen\n",
    "- Zugriff auf Elemente (Einzel)\n",
    "- Zugriff auf einen Teilbereich (Slicing)\n",
    "- Gruppieren (engl. groupby)\n",
    "- Abfragen erstellen\n",
    "- Weitere Funktion, Methoden und Attribute für Series"
   ]
  },
  {
   "cell_type": "markdown",
   "id": "47c55ed0",
   "metadata": {},
   "source": [
    "#### Ein Series-Objekt erstellen\n",
    "\n",
    "Series sind Objekte der Klasse `pandas.Series`"
   ]
  },
  {
   "cell_type": "code",
   "execution_count": 60,
   "id": "8f27caa6",
   "metadata": {},
   "outputs": [],
   "source": [
    "#help(pd.Series)"
   ]
  },
  {
   "cell_type": "markdown",
   "id": "d23ebdf2",
   "metadata": {},
   "source": [
    "##### Series mit nummerischen Indizes "
   ]
  },
  {
   "cell_type": "code",
   "execution_count": 61,
   "id": "50b80c8f",
   "metadata": {},
   "outputs": [
    {
     "data": {
      "text/plain": [
       "0    10.0\n",
       "1    22.0\n",
       "2    32.0\n",
       "3    41.0\n",
       "4    52.0\n",
       "dtype: float64"
      ]
     },
     "execution_count": 61,
     "metadata": {},
     "output_type": "execute_result"
    }
   ],
   "source": [
    "ser = pd.Series(index = range(5),         # Indizes\n",
    "                data = [10,22,32,41,52],  # Daten\n",
    "                dtype = float)            # Datentypen (optional)\n",
    "\n",
    "ser"
   ]
  },
  {
   "cell_type": "markdown",
   "id": "670f0276",
   "metadata": {},
   "source": [
    "##### Series mit nicht-nummerischen Indizes\n",
    "- Bei solchen Series spricht man dann von Index-Labels.\n",
    "- Duplikate in Index-Labels sind erlaubt."
   ]
  },
  {
   "cell_type": "code",
   "execution_count": 62,
   "id": "a0af2296",
   "metadata": {},
   "outputs": [
    {
     "data": {
      "text/plain": [
       "x    10\n",
       "y    20\n",
       "z    30\n",
       "z    40\n",
       "dtype: int64"
      ]
     },
     "execution_count": 62,
     "metadata": {},
     "output_type": "execute_result"
    }
   ],
   "source": [
    "labled = pd.Series(index = ('x', 'y', 'z', 'z'), # Index-Labels\n",
    "                   data = [10, 20, 30, 40]       # Daten\n",
    "                  )\n",
    "labled"
   ]
  },
  {
   "cell_type": "markdown",
   "id": "a95cf7ec",
   "metadata": {},
   "source": [
    "##### Series mit Multi-Indizes\n",
    "Dazu findet man Informationen in Pandas Dokumentation [hier](https://pandas.pydata.org/pandas-docs/stable/user_guide/advanced.html)"
   ]
  },
  {
   "cell_type": "markdown",
   "id": "a43ccec3",
   "metadata": {},
   "source": [
    "##### Series-Objekte aus Python-Objekten\n",
    "- Listen oder NumPy-Arrays\n",
    "- Dictionary"
   ]
  },
  {
   "cell_type": "code",
   "execution_count": 63,
   "id": "4d25b424",
   "metadata": {},
   "outputs": [],
   "source": [
    "# Beispiel: Dictionary aus Lehrenden mit ihren Fächern\n",
    "teachers = {\n",
    "    'Martin':'Mathe',\n",
    "    'Julia':'Englisch',\n",
    "    'Tom':'Physik',\n",
    "    'Christine':'Informatik'\n",
    "}"
   ]
  },
  {
   "cell_type": "code",
   "execution_count": 64,
   "id": "a04d93ab",
   "metadata": {},
   "outputs": [],
   "source": [
    "t = pd.Series(teachers)"
   ]
  },
  {
   "cell_type": "code",
   "execution_count": 65,
   "id": "01e72f4a",
   "metadata": {},
   "outputs": [
    {
     "data": {
      "text/plain": [
       "Martin            Mathe\n",
       "Julia          Englisch\n",
       "Tom              Physik\n",
       "Christine    Informatik\n",
       "dtype: object"
      ]
     },
     "execution_count": 65,
     "metadata": {},
     "output_type": "execute_result"
    }
   ],
   "source": [
    "t # keys: Indel-Labels und values: Daten"
   ]
  },
  {
   "cell_type": "markdown",
   "id": "fae9aca3",
   "metadata": {},
   "source": [
    "#### Zugriff auf Elemente (Einzel)\n",
    "\n",
    "geschieht mit Hilfe von Indizes bzw. Index-Labels"
   ]
  },
  {
   "cell_type": "code",
   "execution_count": 66,
   "id": "699f0692",
   "metadata": {},
   "outputs": [
    {
     "data": {
      "text/plain": [
       "0    10.0\n",
       "1    22.0\n",
       "2    32.0\n",
       "3    41.0\n",
       "4    52.0\n",
       "dtype: float64"
      ]
     },
     "execution_count": 66,
     "metadata": {},
     "output_type": "execute_result"
    }
   ],
   "source": [
    "ser"
   ]
  },
  {
   "cell_type": "code",
   "execution_count": 67,
   "id": "58ea8970",
   "metadata": {},
   "outputs": [
    {
     "data": {
      "text/plain": [
       "np.float64(32.0)"
      ]
     },
     "execution_count": 67,
     "metadata": {},
     "output_type": "execute_result"
    }
   ],
   "source": [
    "ser[2] # Element mit Index 2 aufrufen"
   ]
  },
  {
   "cell_type": "code",
   "execution_count": 68,
   "id": "1e223834",
   "metadata": {},
   "outputs": [],
   "source": [
    "# ser[-1] # KeyError: für Series ist negative Indizierung nicht definiert"
   ]
  },
  {
   "cell_type": "markdown",
   "id": "000c84c6",
   "metadata": {},
   "source": [
    "Für den Zugriff auf einen einzelnen Element in Series hat Pandas ein spezifisches Attribut: \n",
    "- `.iloc[]` (nummerische Indizes) und \n",
    "- `.loc[]` (für nicht-nummerische Indizes)."
   ]
  },
  {
   "cell_type": "code",
   "execution_count": 69,
   "id": "02953a2a",
   "metadata": {},
   "outputs": [
    {
     "data": {
      "text/plain": [
       "np.float64(32.0)"
      ]
     },
     "execution_count": 69,
     "metadata": {},
     "output_type": "execute_result"
    }
   ],
   "source": [
    "ser.iloc[2]"
   ]
  },
  {
   "cell_type": "code",
   "execution_count": 70,
   "id": "3e80a9d8",
   "metadata": {},
   "outputs": [
    {
     "data": {
      "text/plain": [
       "Martin            Mathe\n",
       "Julia          Englisch\n",
       "Tom              Physik\n",
       "Christine    Informatik\n",
       "dtype: object"
      ]
     },
     "execution_count": 70,
     "metadata": {},
     "output_type": "execute_result"
    }
   ],
   "source": [
    "t"
   ]
  },
  {
   "cell_type": "code",
   "execution_count": 71,
   "id": "d4d1ad6f",
   "metadata": {},
   "outputs": [
    {
     "data": {
      "text/plain": [
       "'Physik'"
      ]
     },
     "execution_count": 71,
     "metadata": {},
     "output_type": "execute_result"
    }
   ],
   "source": [
    "t.iloc[2]"
   ]
  },
  {
   "cell_type": "code",
   "execution_count": 72,
   "id": "a152a58b",
   "metadata": {},
   "outputs": [],
   "source": [
    "#t.loc[2] # Fehler! denn iloc[] akzeptiert keine Zahlen als Index, sondern Labels"
   ]
  },
  {
   "cell_type": "code",
   "execution_count": 73,
   "id": "aa3af4d5",
   "metadata": {},
   "outputs": [
    {
     "data": {
      "text/plain": [
       "'Physik'"
      ]
     },
     "execution_count": 73,
     "metadata": {},
     "output_type": "execute_result"
    }
   ],
   "source": [
    "t.loc['Tom']"
   ]
  },
  {
   "cell_type": "markdown",
   "id": "343775f1",
   "metadata": {},
   "source": [
    "#### Zugriff auf einen Teilbereich (Slicing)\n",
    "\n",
    "Slicing in Series geschieht ähnlich wie bei Listen oder NumPy Arrays:\n",
    "\n",
    "- `.iloc[start:end:step]` Ähnlich wie Listen und Arrays: das letzte Element `end` exkludiert\n",
    "- `.loc[start:end:step]` Hier ist das letzte Element `end` im Teilbereich mitdabei\n"
   ]
  },
  {
   "cell_type": "code",
   "execution_count": 74,
   "id": "6e18e180",
   "metadata": {},
   "outputs": [
    {
     "data": {
      "text/plain": [
       "0    10.0\n",
       "1    22.0\n",
       "2    32.0\n",
       "3    41.0\n",
       "4    52.0\n",
       "dtype: float64"
      ]
     },
     "execution_count": 74,
     "metadata": {},
     "output_type": "execute_result"
    }
   ],
   "source": [
    "ser"
   ]
  },
  {
   "cell_type": "code",
   "execution_count": 75,
   "id": "1d431b42",
   "metadata": {},
   "outputs": [
    {
     "data": {
      "text/plain": [
       "0    10.0\n",
       "1    22.0\n",
       "2    32.0\n",
       "dtype: float64"
      ]
     },
     "execution_count": 75,
     "metadata": {},
     "output_type": "execute_result"
    }
   ],
   "source": [
    "ser.iloc[:3] # Elemente mit Indizes 0,1 und 2"
   ]
  },
  {
   "cell_type": "code",
   "execution_count": 76,
   "id": "dc23abec",
   "metadata": {},
   "outputs": [
    {
     "data": {
      "text/plain": [
       "x    10\n",
       "y    20\n",
       "z    30\n",
       "z    40\n",
       "dtype: int64"
      ]
     },
     "execution_count": 76,
     "metadata": {},
     "output_type": "execute_result"
    }
   ],
   "source": [
    "labled"
   ]
  },
  {
   "cell_type": "code",
   "execution_count": 77,
   "id": "0ec2f16f",
   "metadata": {},
   "outputs": [
    {
     "data": {
      "text/plain": [
       "y    20\n",
       "z    30\n",
       "z    40\n",
       "dtype: int64"
      ]
     },
     "execution_count": 77,
     "metadata": {},
     "output_type": "execute_result"
    }
   ],
   "source": [
    "labled.loc['y':'z'] # Hier sind die Endelemente mit Indexlabel 'z' auch mitdabei"
   ]
  },
  {
   "cell_type": "code",
   "execution_count": 78,
   "id": "7a78b05e",
   "metadata": {},
   "outputs": [
    {
     "data": {
      "text/plain": [
       "y    20\n",
       "z    30\n",
       "dtype: int64"
      ]
     },
     "execution_count": 78,
     "metadata": {},
     "output_type": "execute_result"
    }
   ],
   "source": [
    "labled.iloc[1:3] # bei iloc[] ist das letzte Element nicht mitdabei im Teilbereich"
   ]
  },
  {
   "cell_type": "code",
   "execution_count": 79,
   "id": "e4ae5740",
   "metadata": {},
   "outputs": [
    {
     "data": {
      "text/plain": [
       "Martin            Mathe\n",
       "Julia          Englisch\n",
       "Tom              Physik\n",
       "Christine    Informatik\n",
       "dtype: object"
      ]
     },
     "execution_count": 79,
     "metadata": {},
     "output_type": "execute_result"
    }
   ],
   "source": [
    "t"
   ]
  },
  {
   "cell_type": "code",
   "execution_count": 80,
   "id": "18ecc509",
   "metadata": {},
   "outputs": [
    {
     "data": {
      "text/plain": [
       "Julia          Englisch\n",
       "Christine    Informatik\n",
       "dtype: object"
      ]
     },
     "execution_count": 80,
     "metadata": {},
     "output_type": "execute_result"
    }
   ],
   "source": [
    "t.loc['Julia':'Christine':2] # mit einer Schrittweite von 2"
   ]
  },
  {
   "cell_type": "markdown",
   "id": "e7b165cb",
   "metadata": {},
   "source": [
    "#### Gruppieren (engl. groupby)\n",
    "\n",
    "Wenn wir eine Spalte in einer Tabelle als ein Series betrachten, dann gibt es oft Spalten, in denen Kategorien gespeichert sind (binäre Kategorien: 0, 1 oder mehrfache: 0, 1, 2, etc.) \n",
    "\n",
    "- Wie viele /welche Kategorien sind überhaupt in der Spalte?\n",
    "- Wie viele Einträge (Datensätze) gibt es unter jeder Kategorie"
   ]
  },
  {
   "cell_type": "code",
   "execution_count": 81,
   "id": "829a6293",
   "metadata": {},
   "outputs": [
    {
     "data": {
      "text/plain": [
       "0    21\n",
       "1    31\n",
       "2    42\n",
       "3    59\n",
       "4    16\n",
       "dtype: int64"
      ]
     },
     "execution_count": 81,
     "metadata": {},
     "output_type": "execute_result"
    }
   ],
   "source": [
    "k = pd.Series(index=range(5),\n",
    "              data=[21,31,42,59,16])\n",
    "k"
   ]
  },
  {
   "cell_type": "code",
   "execution_count": 82,
   "id": "9f198df0",
   "metadata": {},
   "outputs": [
    {
     "data": {
      "text/plain": [
       "array([21, 31, 42, 59, 16])"
      ]
     },
     "execution_count": 82,
     "metadata": {},
     "output_type": "execute_result"
    }
   ],
   "source": [
    "k.values"
   ]
  },
  {
   "cell_type": "code",
   "execution_count": 83,
   "id": "6cd40844",
   "metadata": {},
   "outputs": [
    {
     "data": {
      "text/plain": [
       "RangeIndex(start=0, stop=5, step=1)"
      ]
     },
     "execution_count": 83,
     "metadata": {},
     "output_type": "execute_result"
    }
   ],
   "source": [
    "k.index"
   ]
  },
  {
   "cell_type": "code",
   "execution_count": 84,
   "id": "1023db22",
   "metadata": {},
   "outputs": [
    {
     "data": {
      "text/plain": [
       "(5,)"
      ]
     },
     "execution_count": 84,
     "metadata": {},
     "output_type": "execute_result"
    }
   ],
   "source": [
    "k.shape"
   ]
  },
  {
   "cell_type": "markdown",
   "id": "b7188133",
   "metadata": {},
   "source": [
    "Wir können die Zahlen im o.g. Seriesobjekt in 2 Kategorien einteilen: Gerade und ungerade Zahlen.\n",
    "Wir können mit Hilfe von `%` beweisen, ob eine Zahl gerade oder ungerade ist:\n",
    "\n",
    "```python\n",
    "gerade % 2 == 0 # True\n",
    "ungerade % 2 == 1 # True\n",
    "```"
   ]
  },
  {
   "cell_type": "markdown",
   "id": "ebf1f874",
   "metadata": {},
   "source": [
    "Mit Hilfe der Methoden `groupby()` können wir dann diese Gruppen identifizieren:"
   ]
  },
  {
   "cell_type": "code",
   "execution_count": 85,
   "id": "059d2f3c",
   "metadata": {},
   "outputs": [],
   "source": [
    "gruppen = k.groupby(lambda x: x % 2 == 0)"
   ]
  },
  {
   "cell_type": "code",
   "execution_count": 86,
   "id": "b0841932",
   "metadata": {},
   "outputs": [
    {
     "name": "stdout",
     "output_type": "stream",
     "text": [
      "False\n",
      "1    31\n",
      "3    59\n",
      "dtype: int64\n",
      "True\n",
      "0    21\n",
      "2    42\n",
      "4    16\n",
      "dtype: int64\n"
     ]
    }
   ],
   "source": [
    "for gruppe in gruppen:\n",
    "    print(gruppe[0])\n",
    "    print(gruppe[1])"
   ]
  },
  {
   "cell_type": "code",
   "execution_count": 87,
   "id": "e0eebcdb",
   "metadata": {},
   "outputs": [
    {
     "name": "stdout",
     "output_type": "stream",
     "text": [
      "False\n",
      "1    31\n",
      "3    59\n",
      "dtype: int64\n",
      "True\n",
      "0    21\n",
      "2    42\n",
      "4    16\n",
      "dtype: int64\n"
     ]
    }
   ],
   "source": [
    "for name, my_ser in gruppen:\n",
    "    print(name)\n",
    "    print(my_ser)"
   ]
  },
  {
   "cell_type": "markdown",
   "id": "0f8bd819",
   "metadata": {},
   "source": [
    "Wir haben ein `groupby` Objekt erzeugt. Dieses Objekt hat eigene Methoden, u.a. `get_group()`:"
   ]
  },
  {
   "cell_type": "code",
   "execution_count": 88,
   "id": "39263e7a",
   "metadata": {},
   "outputs": [
    {
     "data": {
      "text/plain": [
       "1    31\n",
       "3    59\n",
       "dtype: int64"
      ]
     },
     "execution_count": 88,
     "metadata": {},
     "output_type": "execute_result"
    }
   ],
   "source": [
    "gruppen.get_group(False)"
   ]
  },
  {
   "cell_type": "code",
   "execution_count": 89,
   "id": "0ac57ad8",
   "metadata": {},
   "outputs": [
    {
     "data": {
      "text/plain": [
       "0    21\n",
       "2    42\n",
       "4    16\n",
       "dtype: int64"
      ]
     },
     "execution_count": 89,
     "metadata": {},
     "output_type": "execute_result"
    }
   ],
   "source": [
    "gruppen.get_group(True)"
   ]
  },
  {
   "cell_type": "markdown",
   "id": "a81f48aa",
   "metadata": {},
   "source": [
    "In dem o.g. Beispiel hat die Methode `groupby()` die Indizes berücksichtigt (anstatt Values)!"
   ]
  },
  {
   "cell_type": "code",
   "execution_count": 90,
   "id": "6b26a0b3",
   "metadata": {},
   "outputs": [
    {
     "name": "stdout",
     "output_type": "stream",
     "text": [
      "Help on function groupby in module pandas.core.series:\n",
      "\n",
      "groupby(self, by=None, axis: 'Axis' = 0, level: 'IndexLabel | None' = None, as_index: 'bool' = True, sort: 'bool' = True, group_keys: 'bool' = True, observed: 'bool | lib.NoDefault' = <no_default>, dropna: 'bool' = True) -> 'SeriesGroupBy'\n",
      "    Group Series using a mapper or by a Series of columns.\n",
      "\n",
      "    A groupby operation involves some combination of splitting the\n",
      "    object, applying a function, and combining the results. This can be\n",
      "    used to group large amounts of data and compute operations on these\n",
      "    groups.\n",
      "\n",
      "    Parameters\n",
      "    ----------\n",
      "    by : mapping, function, label, pd.Grouper or list of such\n",
      "        Used to determine the groups for the groupby.\n",
      "        If ``by`` is a function, it's called on each value of the object's\n",
      "        index. If a dict or Series is passed, the Series or dict VALUES\n",
      "        will be used to determine the groups (the Series' values are first\n",
      "        aligned; see ``.align()`` method). If a list or ndarray of length\n",
      "        equal to the selected axis is passed (see the `groupby user guide\n",
      "        <https://pandas.pydata.org/pandas-docs/stable/user_guide/groupby.html#splitting-an-object-into-groups>`_),\n",
      "        the values are used as-is to determine the groups. A label or list\n",
      "        of labels may be passed to group by the columns in ``self``.\n",
      "        Notice that a tuple is interpreted as a (single) key.\n",
      "    axis : {0 or 'index', 1 or 'columns'}, default 0\n",
      "        Split along rows (0) or columns (1). For `Series` this parameter\n",
      "        is unused and defaults to 0.\n",
      "\n",
      "        .. deprecated:: 2.1.0\n",
      "\n",
      "            Will be removed and behave like axis=0 in a future version.\n",
      "            For ``axis=1``, do ``frame.T.groupby(...)`` instead.\n",
      "\n",
      "    level : int, level name, or sequence of such, default None\n",
      "        If the axis is a MultiIndex (hierarchical), group by a particular\n",
      "        level or levels. Do not specify both ``by`` and ``level``.\n",
      "    as_index : bool, default True\n",
      "        Return object with group labels as the\n",
      "        index. Only relevant for DataFrame input. as_index=False is\n",
      "        effectively \"SQL-style\" grouped output. This argument has no effect\n",
      "        on filtrations (see the `filtrations in the user guide\n",
      "        <https://pandas.pydata.org/docs/dev/user_guide/groupby.html#filtration>`_),\n",
      "        such as ``head()``, ``tail()``, ``nth()`` and in transformations\n",
      "        (see the `transformations in the user guide\n",
      "        <https://pandas.pydata.org/docs/dev/user_guide/groupby.html#transformation>`_).\n",
      "    sort : bool, default True\n",
      "        Sort group keys. Get better performance by turning this off.\n",
      "        Note this does not influence the order of observations within each\n",
      "        group. Groupby preserves the order of rows within each group. If False,\n",
      "        the groups will appear in the same order as they did in the original DataFrame.\n",
      "        This argument has no effect on filtrations (see the `filtrations in the user guide\n",
      "        <https://pandas.pydata.org/docs/dev/user_guide/groupby.html#filtration>`_),\n",
      "        such as ``head()``, ``tail()``, ``nth()`` and in transformations\n",
      "        (see the `transformations in the user guide\n",
      "        <https://pandas.pydata.org/docs/dev/user_guide/groupby.html#transformation>`_).\n",
      "\n",
      "        .. versionchanged:: 2.0.0\n",
      "\n",
      "            Specifying ``sort=False`` with an ordered categorical grouper will no\n",
      "            longer sort the values.\n",
      "\n",
      "    group_keys : bool, default True\n",
      "        When calling apply and the ``by`` argument produces a like-indexed\n",
      "        (i.e. :ref:`a transform <groupby.transform>`) result, add group keys to\n",
      "        index to identify pieces. By default group keys are not included\n",
      "        when the result's index (and column) labels match the inputs, and\n",
      "        are included otherwise.\n",
      "\n",
      "        .. versionchanged:: 1.5.0\n",
      "\n",
      "           Warns that ``group_keys`` will no longer be ignored when the\n",
      "           result from ``apply`` is a like-indexed Series or DataFrame.\n",
      "           Specify ``group_keys`` explicitly to include the group keys or\n",
      "           not.\n",
      "\n",
      "        .. versionchanged:: 2.0.0\n",
      "\n",
      "           ``group_keys`` now defaults to ``True``.\n",
      "\n",
      "    observed : bool, default False\n",
      "        This only applies if any of the groupers are Categoricals.\n",
      "        If True: only show observed values for categorical groupers.\n",
      "        If False: show all values for categorical groupers.\n",
      "\n",
      "        .. deprecated:: 2.1.0\n",
      "\n",
      "            The default value will change to True in a future version of pandas.\n",
      "\n",
      "    dropna : bool, default True\n",
      "        If True, and if group keys contain NA values, NA values together\n",
      "        with row/column will be dropped.\n",
      "        If False, NA values will also be treated as the key in groups.\n",
      "\n",
      "    Returns\n",
      "    -------\n",
      "    pandas.api.typing.SeriesGroupBy\n",
      "        Returns a groupby object that contains information about the groups.\n",
      "\n",
      "    See Also\n",
      "    --------\n",
      "    resample : Convenience method for frequency conversion and resampling\n",
      "        of time series.\n",
      "\n",
      "    Notes\n",
      "    -----\n",
      "    See the `user guide\n",
      "    <https://pandas.pydata.org/pandas-docs/stable/groupby.html>`__ for more\n",
      "    detailed usage and examples, including splitting an object into groups,\n",
      "    iterating through groups, selecting a group, aggregation, and more.\n",
      "\n",
      "    Examples\n",
      "    --------\n",
      "    >>> ser = pd.Series([390., 350., 30., 20.],\n",
      "    ...                 index=['Falcon', 'Falcon', 'Parrot', 'Parrot'],\n",
      "    ...                 name=\"Max Speed\")\n",
      "    >>> ser\n",
      "    Falcon    390.0\n",
      "    Falcon    350.0\n",
      "    Parrot     30.0\n",
      "    Parrot     20.0\n",
      "    Name: Max Speed, dtype: float64\n",
      "    >>> ser.groupby([\"a\", \"b\", \"a\", \"b\"]).mean()\n",
      "    a    210.0\n",
      "    b    185.0\n",
      "    Name: Max Speed, dtype: float64\n",
      "    >>> ser.groupby(level=0).mean()\n",
      "    Falcon    370.0\n",
      "    Parrot     25.0\n",
      "    Name: Max Speed, dtype: float64\n",
      "    >>> ser.groupby(ser > 100).mean()\n",
      "    Max Speed\n",
      "    False     25.0\n",
      "    True     370.0\n",
      "    Name: Max Speed, dtype: float64\n",
      "\n",
      "    **Grouping by Indexes**\n",
      "\n",
      "    We can groupby different levels of a hierarchical index\n",
      "    using the `level` parameter:\n",
      "\n",
      "    >>> arrays = [['Falcon', 'Falcon', 'Parrot', 'Parrot'],\n",
      "    ...           ['Captive', 'Wild', 'Captive', 'Wild']]\n",
      "    >>> index = pd.MultiIndex.from_arrays(arrays, names=('Animal', 'Type'))\n",
      "    >>> ser = pd.Series([390., 350., 30., 20.], index=index, name=\"Max Speed\")\n",
      "    >>> ser\n",
      "    Animal  Type\n",
      "    Falcon  Captive    390.0\n",
      "            Wild       350.0\n",
      "    Parrot  Captive     30.0\n",
      "            Wild        20.0\n",
      "    Name: Max Speed, dtype: float64\n",
      "    >>> ser.groupby(level=0).mean()\n",
      "    Animal\n",
      "    Falcon    370.0\n",
      "    Parrot     25.0\n",
      "    Name: Max Speed, dtype: float64\n",
      "    >>> ser.groupby(level=\"Type\").mean()\n",
      "    Type\n",
      "    Captive    210.0\n",
      "    Wild       185.0\n",
      "    Name: Max Speed, dtype: float64\n",
      "\n",
      "    We can also choose to include `NA` in group keys or not by defining\n",
      "    `dropna` parameter, the default setting is `True`.\n",
      "\n",
      "    >>> ser = pd.Series([1, 2, 3, 3], index=[\"a\", 'a', 'b', np.nan])\n",
      "    >>> ser.groupby(level=0).sum()\n",
      "    a    3\n",
      "    b    3\n",
      "    dtype: int64\n",
      "\n",
      "    >>> ser.groupby(level=0, dropna=False).sum()\n",
      "    a    3\n",
      "    b    3\n",
      "    NaN  3\n",
      "    dtype: int64\n",
      "\n",
      "    >>> arrays = ['Falcon', 'Falcon', 'Parrot', 'Parrot']\n",
      "    >>> ser = pd.Series([390., 350., 30., 20.], index=arrays, name=\"Max Speed\")\n",
      "    >>> ser.groupby([\"a\", \"b\", \"a\", np.nan]).mean()\n",
      "    a    210.0\n",
      "    b    350.0\n",
      "    Name: Max Speed, dtype: float64\n",
      "\n",
      "    >>> ser.groupby([\"a\", \"b\", \"a\", np.nan], dropna=False).mean()\n",
      "    a    210.0\n",
      "    b    350.0\n",
      "    NaN   20.0\n",
      "    Name: Max Speed, dtype: float64\n",
      "\n"
     ]
    }
   ],
   "source": [
    "help(pd.Series.groupby)"
   ]
  },
  {
   "cell_type": "markdown",
   "id": "f8186fb1",
   "metadata": {},
   "source": [
    "### Recherche-Aufgabe\n",
    "Wie kann `groupby()` auf Values anstelle von Indizes zugreifen?\n",
    "Das heißt eine Lösung mit `groupby()`, die gerade und ungerade Zahlen aus `ser` zurückliefert, ohne die Indexspalte vertauschen zu müssen"
   ]
  },
  {
   "cell_type": "code",
   "execution_count": 91,
   "id": "470e61c4",
   "metadata": {},
   "outputs": [
    {
     "name": "stdout",
     "output_type": "stream",
     "text": [
      "False\n",
      "0    21\n",
      "1    31\n",
      "3    59\n",
      "Name: Numbers, dtype: int64\n",
      "True\n",
      "2    42\n",
      "4    16\n",
      "Name: Numbers, dtype: int64\n"
     ]
    }
   ],
   "source": [
    "# Recherche-Aufgabe\n",
    "ser = pd.Series(index=range(5),\n",
    "                data=[21,31,42,59,16],\n",
    "                name='Numbers')\n",
    "ser\n",
    "gruppen = ser.groupby(by=lambda x: ser.iloc[x] % 2 == 0)\n",
    "for name, my_ser in gruppen:\n",
    "    print(name)\n",
    "    print(my_ser)"
   ]
  },
  {
   "cell_type": "code",
   "execution_count": 92,
   "id": "f4f2df33",
   "metadata": {},
   "outputs": [],
   "source": [
    "# Musterlösung\n"
   ]
  },
  {
   "cell_type": "markdown",
   "id": "8e6f20e5",
   "metadata": {},
   "source": [
    "#### Abfragen erstellen"
   ]
  },
  {
   "cell_type": "code",
   "execution_count": 93,
   "id": "a2b7e8fb",
   "metadata": {},
   "outputs": [
    {
     "data": {
      "text/plain": [
       "mercedes    390.0\n",
       "audi        350.0\n",
       "trabi        30.0\n",
       "fiat         20.0\n",
       "Name: Max Speed, dtype: float64"
      ]
     },
     "execution_count": 93,
     "metadata": {},
     "output_type": "execute_result"
    }
   ],
   "source": [
    "# Beispiel aus Pandas Doku\n",
    "ser = pd.Series([390., 350., 30., 20.],\n",
    "                index=['mercedes', 'audi', 'trabi', 'fiat'], \n",
    "                name=\"Max Speed\")\n",
    "ser"
   ]
  },
  {
   "cell_type": "markdown",
   "id": "da6464ed",
   "metadata": {},
   "source": [
    "Wir suchen alle Objekte in Series, die eine Geschwindigkeit über 100 haben."
   ]
  },
  {
   "cell_type": "code",
   "execution_count": 94,
   "id": "1975a07f",
   "metadata": {},
   "outputs": [
    {
     "data": {
      "text/plain": [
       "array([390., 350.,  30.,  20.])"
      ]
     },
     "execution_count": 94,
     "metadata": {},
     "output_type": "execute_result"
    }
   ],
   "source": [
    "ser.unique()"
   ]
  },
  {
   "cell_type": "code",
   "execution_count": 95,
   "id": "7a42cb6c",
   "metadata": {},
   "outputs": [
    {
     "data": {
      "text/plain": [
       "'Max Speed'"
      ]
     },
     "execution_count": 95,
     "metadata": {},
     "output_type": "execute_result"
    }
   ],
   "source": [
    "ser.name # Serienobjekt hat einen internen Namen"
   ]
  },
  {
   "cell_type": "code",
   "execution_count": 96,
   "id": "61685920",
   "metadata": {},
   "outputs": [
    {
     "data": {
      "text/plain": [
       "mercedes    390.0\n",
       "audi        350.0\n",
       "Name: Max Speed, dtype: float64"
      ]
     },
     "execution_count": 96,
     "metadata": {},
     "output_type": "execute_result"
    }
   ],
   "source": [
    "ser[ser>100] # alle Objekte aus 'ser' deren Value größer ist als 100"
   ]
  },
  {
   "cell_type": "markdown",
   "id": "a250bfb6",
   "metadata": {},
   "source": [
    "#### Weitere Funktion, Methoden und Attribute für Series"
   ]
  },
  {
   "cell_type": "code",
   "execution_count": 97,
   "id": "ae106a97",
   "metadata": {},
   "outputs": [
    {
     "data": {
      "text/plain": [
       "mercedes    390.0\n",
       "audi        350.0\n",
       "trabi        30.0\n",
       "fiat         20.0\n",
       "Name: Max Speed, dtype: float64"
      ]
     },
     "execution_count": 97,
     "metadata": {},
     "output_type": "execute_result"
    }
   ],
   "source": [
    "ser"
   ]
  },
  {
   "cell_type": "markdown",
   "id": "84964623",
   "metadata": {},
   "source": [
    "Datentyp von Elementen ermitteln:"
   ]
  },
  {
   "cell_type": "code",
   "execution_count": 98,
   "id": "6cd59499",
   "metadata": {},
   "outputs": [
    {
     "data": {
      "text/plain": [
       "dtype('float64')"
      ]
     },
     "execution_count": 98,
     "metadata": {},
     "output_type": "execute_result"
    }
   ],
   "source": [
    "ser.dtype"
   ]
  },
  {
   "cell_type": "markdown",
   "id": "4003f1be",
   "metadata": {},
   "source": [
    "Die Gestaltung (Form) eines Seriesobjekts: die Anzahl der Elemente"
   ]
  },
  {
   "cell_type": "code",
   "execution_count": 99,
   "id": "888c28df",
   "metadata": {},
   "outputs": [
    {
     "data": {
      "text/plain": [
       "(4,)"
      ]
     },
     "execution_count": 99,
     "metadata": {},
     "output_type": "execute_result"
    }
   ],
   "source": [
    "ser.shape # ähnlich wie len()"
   ]
  },
  {
   "cell_type": "code",
   "execution_count": 100,
   "id": "3cff1de4",
   "metadata": {},
   "outputs": [
    {
     "data": {
      "text/plain": [
       "4"
      ]
     },
     "execution_count": 100,
     "metadata": {},
     "output_type": "execute_result"
    }
   ],
   "source": [
    "len(ser)"
   ]
  },
  {
   "cell_type": "markdown",
   "id": "12d0721b",
   "metadata": {},
   "source": [
    "Wichtige statistische Eckdaten ermitteln"
   ]
  },
  {
   "cell_type": "code",
   "execution_count": 101,
   "id": "2097bde9",
   "metadata": {},
   "outputs": [
    {
     "data": {
      "text/plain": [
       "count      4.000000\n",
       "mean     197.500000\n",
       "std      199.895806\n",
       "min       20.000000\n",
       "25%       27.500000\n",
       "50%      190.000000\n",
       "75%      360.000000\n",
       "max      390.000000\n",
       "Name: Max Speed, dtype: float64"
      ]
     },
     "execution_count": 101,
     "metadata": {},
     "output_type": "execute_result"
    }
   ],
   "source": [
    "ser.describe()"
   ]
  },
  {
   "cell_type": "markdown",
   "id": "050bf6dd",
   "metadata": {},
   "source": [
    "Für diese Angaben gibt es noch individuelle Methoden"
   ]
  },
  {
   "cell_type": "code",
   "execution_count": 102,
   "id": "573d3519",
   "metadata": {},
   "outputs": [
    {
     "data": {
      "text/plain": [
       "np.float64(20.0)"
      ]
     },
     "execution_count": 102,
     "metadata": {},
     "output_type": "execute_result"
    }
   ],
   "source": [
    "ser.min() # minimum"
   ]
  },
  {
   "cell_type": "code",
   "execution_count": 103,
   "id": "0b7ae281",
   "metadata": {},
   "outputs": [
    {
     "data": {
      "text/plain": [
       "np.float64(390.0)"
      ]
     },
     "execution_count": 103,
     "metadata": {},
     "output_type": "execute_result"
    }
   ],
   "source": [
    "ser.max() # max"
   ]
  },
  {
   "cell_type": "code",
   "execution_count": 104,
   "id": "618a8874",
   "metadata": {},
   "outputs": [
    {
     "data": {
      "text/plain": [
       "np.float64(197.5)"
      ]
     },
     "execution_count": 104,
     "metadata": {},
     "output_type": "execute_result"
    }
   ],
   "source": [
    "ser.mean() # Durchschnitt"
   ]
  },
  {
   "cell_type": "code",
   "execution_count": 105,
   "id": "20b34940",
   "metadata": {},
   "outputs": [
    {
     "data": {
      "text/plain": [
       "np.float64(190.0)"
      ]
     },
     "execution_count": 105,
     "metadata": {},
     "output_type": "execute_result"
    }
   ],
   "source": [
    "ser.median() # Median"
   ]
  },
  {
   "cell_type": "code",
   "execution_count": 106,
   "id": "496fd6ce",
   "metadata": {},
   "outputs": [
    {
     "data": {
      "text/plain": [
       "np.int64(4)"
      ]
     },
     "execution_count": 106,
     "metadata": {},
     "output_type": "execute_result"
    }
   ],
   "source": [
    "ser.count() # die Anzahl der Elemente"
   ]
  },
  {
   "cell_type": "code",
   "execution_count": 107,
   "id": "549cb9d6",
   "metadata": {},
   "outputs": [
    {
     "data": {
      "text/plain": [
       "np.float64(790.0)"
      ]
     },
     "execution_count": 107,
     "metadata": {},
     "output_type": "execute_result"
    }
   ],
   "source": [
    "ser.sum() # die Summe"
   ]
  },
  {
   "cell_type": "markdown",
   "id": "6851e058",
   "metadata": {},
   "source": [
    "All diese Attribute und Funktionen sind auch für Pandas Dataframes gültig.  \n",
    "\n",
    "Im Prinzip und theoretisch kann man jede beliebige Funktion auf ein Series-Objekt anwenden.\n",
    "\n",
    "Dazu muss die Methode `.apply()` eingesetzt werden."
   ]
  },
  {
   "cell_type": "code",
   "execution_count": 108,
   "id": "a69ee373",
   "metadata": {},
   "outputs": [
    {
     "data": {
      "text/plain": [
       "mercedes    5.966147\n",
       "audi        5.857933\n",
       "trabi       3.401197\n",
       "fiat        2.995732\n",
       "Name: Max Speed, dtype: float64"
      ]
     },
     "execution_count": 108,
     "metadata": {},
     "output_type": "execute_result"
    }
   ],
   "source": [
    "ser.apply(np.log)"
   ]
  },
  {
   "cell_type": "code",
   "execution_count": 109,
   "id": "04e9b2ee",
   "metadata": {},
   "outputs": [
    {
     "data": {
      "text/plain": [
       "mercedes    390.0\n",
       "audi        350.0\n",
       "trabi        30.0\n",
       "fiat         20.0\n",
       "Name: Max Speed, dtype: float64"
      ]
     },
     "execution_count": 109,
     "metadata": {},
     "output_type": "execute_result"
    }
   ],
   "source": [
    "ser"
   ]
  },
  {
   "cell_type": "code",
   "execution_count": 110,
   "id": "f3d6bf68",
   "metadata": {},
   "outputs": [
    {
     "data": {
      "text/plain": [
       "mercedes    0.0\n",
       "audi        0.0\n",
       "trabi       0.0\n",
       "fiat        0.0\n",
       "Name: Max Speed, dtype: float64"
      ]
     },
     "execution_count": 110,
     "metadata": {},
     "output_type": "execute_result"
    }
   ],
   "source": [
    "ser.apply(lambda x: x%2)"
   ]
  },
  {
   "cell_type": "code",
   "execution_count": 111,
   "id": "38a68f37",
   "metadata": {},
   "outputs": [],
   "source": [
    "ser_class = ser.apply(lambda x: x%2)"
   ]
  },
  {
   "cell_type": "code",
   "execution_count": 112,
   "id": "c259c7f6",
   "metadata": {},
   "outputs": [
    {
     "data": {
      "text/plain": [
       "array([0.])"
      ]
     },
     "execution_count": 112,
     "metadata": {},
     "output_type": "execute_result"
    }
   ],
   "source": [
    "ser_class.unique() # Kategorien in Series ermitteln"
   ]
  },
  {
   "cell_type": "code",
   "execution_count": 113,
   "id": "d3525e38",
   "metadata": {},
   "outputs": [],
   "source": [
    "# help(pd.Series.unique)"
   ]
  }
 ],
 "metadata": {
  "kernelspec": {
   "display_name": ".my_venv",
   "language": "python",
   "name": "python3"
  },
  "language_info": {
   "codemirror_mode": {
    "name": "ipython",
    "version": 3
   },
   "file_extension": ".py",
   "mimetype": "text/x-python",
   "name": "python",
   "nbconvert_exporter": "python",
   "pygments_lexer": "ipython3",
   "version": "3.12.6"
  },
  "nbTranslate": {
   "displayLangs": [
    "en",
    "de"
   ],
   "hotkey": "alt-t",
   "langInMainMenu": true,
   "sourceLang": "de",
   "targetLang": "en",
   "useGoogleTranslate": true
  }
 },
 "nbformat": 4,
 "nbformat_minor": 5
}
