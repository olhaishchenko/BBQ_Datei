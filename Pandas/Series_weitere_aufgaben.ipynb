{
 "cells": [
  {
   "cell_type": "markdown",
   "metadata": {},
   "source": [
    "## Übung 1: Grundlegende Series-Erstellung und Zugriff auf Elemente\n",
    "### Aufgabe 1:\n",
    "- Erstelle eine Series mit den folgenden Daten: ['Apfel', 'Banane', 'Kirsche', 'Dattel', 'Erdbeere'] und nutze als Index die Buchstaben ['A', 'B', 'C', 'D', 'E'] .\n",
    "- Greife auf das zweite und das letzte Element der Serie zu.\n",
    "- Ändere das erste Element der Series auf 'Ananas' und gib die Serie erneut aus."
   ]
  },
  {
   "cell_type": "code",
   "execution_count": 1,
   "metadata": {},
   "outputs": [],
   "source": [
    "import pandas as pd"
   ]
  },
  {
   "cell_type": "code",
   "execution_count": 7,
   "metadata": {},
   "outputs": [
    {
     "name": "stdout",
     "output_type": "stream",
     "text": [
      "Banane Erdbeere\n"
     ]
    },
    {
     "data": {
      "text/plain": [
       "A      Ananas\n",
       "B      Banane\n",
       "C     Kirsche\n",
       "D      Dattel\n",
       "E    Erdbeere\n",
       "dtype: object"
      ]
     },
     "execution_count": 7,
     "metadata": {},
     "output_type": "execute_result"
    }
   ],
   "source": [
    "pd_obst = pd.Series(data = ['Apfel', 'Banane', 'Kirsche', 'Dattel', 'Erdbeere'], \n",
    "                    index = ['A', 'B', 'C', 'D', 'E'])\n",
    "print(pd_obst.loc['B'], pd_obst.loc['E'])\n",
    "pd_obst['A'] = 'Ananas'\n",
    "pd_obst\n"
   ]
  },
  {
   "cell_type": "markdown",
   "metadata": {},
   "source": [
    "### Aufgabe 2:\n",
    "- Erstelle eine Series mit Temperaturen der Woche: Temperaturen = [20, 21, 19, 22, 23, 24, 18] und als Index die Tage der Woche ['Mo', 'Di', 'Mi', 'Do', 'Fr', 'Sa', 'So'] .\n",
    "- Gib die Temperatur für Mittwoch aus.\n",
    "- Ändere die Temperatur für Sonntag auf 19 und gib die Serie erneut aus."
   ]
  },
  {
   "cell_type": "code",
   "execution_count": 9,
   "metadata": {},
   "outputs": [
    {
     "name": "stdout",
     "output_type": "stream",
     "text": [
      "19\n"
     ]
    },
    {
     "data": {
      "text/plain": [
       "Mo    20\n",
       "Di    21\n",
       "Mi    19\n",
       "Do    22\n",
       "Fr    23\n",
       "Sa    24\n",
       "So    19\n",
       "dtype: int64"
      ]
     },
     "execution_count": 9,
     "metadata": {},
     "output_type": "execute_result"
    }
   ],
   "source": [
    "pd_temp = pd.Series(data=[20, 21, 19, 22, 23, 24, 18],\n",
    "                    index=['Mo', 'Di', 'Mi', 'Do', 'Fr', 'Sa', 'So'] )\n",
    "print(pd_temp['Mi'])\n",
    "pd_temp['So'] = 19\n",
    "pd_temp"
   ]
  },
  {
   "cell_type": "markdown",
   "metadata": {},
   "source": [
    "### Aufgabe 3:\n",
    "- Erstelle eine Series mit den Namen ['Alice', 'Bob', 'Charlie', 'David', 'Eve'] und ordne den Namen jeweils eine zufällige Punktzahl zu, z.B. [85, 90, 78, 88, 92] .\n",
    "- Greife auf die Punktzahl von Bob zu und aktualisiere seine Punktzahl auf 95.\n",
    "- Gib die Series mit den aktualisierten Werten aus."
   ]
  },
  {
   "cell_type": "code",
   "execution_count": 11,
   "metadata": {},
   "outputs": [
    {
     "name": "stdout",
     "output_type": "stream",
     "text": [
      "90.0\n"
     ]
    },
    {
     "data": {
      "text/plain": [
       "Alice      85.0\n",
       "Bob        95.0\n",
       "Charlie    78.0\n",
       "David      88.0\n",
       "Eve        92.0\n",
       "dtype: float64"
      ]
     },
     "execution_count": 11,
     "metadata": {},
     "output_type": "execute_result"
    }
   ],
   "source": [
    "pd_namen  = pd.Series(index=['Alice', 'Bob', 'Charlie', 'David', 'Eve'],\n",
    "                      data=[85, 90, 78, 88, 92],\n",
    "                       dtype=float)\n",
    "print(pd_namen['Bob'])\n",
    "pd_namen['Bob'] = 95\n",
    "pd_namen"
   ]
  },
  {
   "cell_type": "markdown",
   "metadata": {},
   "source": [
    "## Übung 2: Mathematische Operationen auf Series\n",
    "### Aufgabe 1:\n",
    "- Erstelle eine Series namens preise mit den Werten [2.5, 3.0, 4.5, 3.75, 2.25] , die die Preise von Artikeln darstellt.\n",
    "- Multipliziere alle Werte in der Series mit 1.19, um die Preise inklusive Mehrwertsteuer zu berechnen.\n",
    "- Gib die Series nach der Berechnung aus und berechne anschließend den Gesamtpreis."
   ]
  },
  {
   "cell_type": "code",
   "execution_count": 14,
   "metadata": {},
   "outputs": [
    {
     "name": "stdout",
     "output_type": "stream",
     "text": [
      "0    2.9750\n",
      "1    3.5700\n",
      "2    5.3550\n",
      "3    4.4625\n",
      "4    2.6775\n",
      "Name: Preise, dtype: float64\n",
      "Gesamtpreis: 19.04\n"
     ]
    }
   ],
   "source": [
    "pd_preise = pd.Series(data=[2.5, 3.0, 4.5, 3.75, 2.25],\n",
    "                      name='Preise' )\n",
    "pd_preise *= 1.19\n",
    "print(pd_preise)\n",
    "print(f'Gesamtpreis: {pd_preise.sum():.2f}')"
   ]
  },
  {
   "cell_type": "markdown",
   "metadata": {},
   "source": [
    "### Aufgabe 2:\n",
    "- Erstelle eine Series namens vorrat mit den Werten [5, 3, 6, 8, 2] , die die Anzahl der vorrätigen Artikel in einem Lager darstellt.\n",
    "- Erhöhe die Werte um 10 %, um eine Lagerauffüllung zu simulieren.\n",
    "- Gib die durchschnittliche Anzahl der Artikel im Lager vor und nach der Erhöhung an."
   ]
  },
  {
   "cell_type": "code",
   "execution_count": 18,
   "metadata": {},
   "outputs": [
    {
     "name": "stdout",
     "output_type": "stream",
     "text": [
      "0    5.5\n",
      "1    3.3\n",
      "2    6.6\n",
      "3    8.8\n",
      "4    2.2\n",
      "dtype: float64\n",
      "durchschnittliche Anzahl der Artikel im Lager vor: 4.8 und nach: 5.28\n"
     ]
    }
   ],
   "source": [
    "pd_vorrat = pd.Series(data=[5, 3, 6, 8, 2])\n",
    "pd_vorrat *= 1.1\n",
    "print(pd_vorrat)\n",
    "print(f'durchschnittliche Anzahl der Artikel im Lager vor: {pd_vorrat.mean()/1.1}',\n",
    "             f'und nach: {pd_vorrat.mean()}')"
   ]
  },
  {
   "cell_type": "markdown",
   "metadata": {},
   "source": [
    "### Aufgabe 3:\n",
    "- Erstelle eine Series namens umsatz mit monatlichen Umsätzen in Tausend [50, 45, 60, 55, 70, 65] .\n",
    "- Berechne für jeden Monat einen Bonus von 10 % des Umsatzes und speichere diesen als neue Series bonus .\n",
    "- Gib den Gesamtwert von bonus sowie die Summe von umsatz + bonus aus.\n"
   ]
  },
  {
   "cell_type": "code",
   "execution_count": 20,
   "metadata": {},
   "outputs": [
    {
     "data": {
      "text/plain": [
       "0    105.0\n",
       "1     94.5\n",
       "2    126.0\n",
       "3    115.5\n",
       "4    147.0\n",
       "5    136.5\n",
       "dtype: float64"
      ]
     },
     "execution_count": 20,
     "metadata": {},
     "output_type": "execute_result"
    }
   ],
   "source": [
    "umsatz = pd.Series(data=[50, 45, 60, 55, 70, 65])\n",
    "bonus = umsatz * 1.1\n",
    "bonus + umsatz"
   ]
  },
  {
   "cell_type": "markdown",
   "metadata": {},
   "source": [
    "## Übung 3: Logische Operationen und Filter\n",
    "### Aufgabe 1:\n",
    "- Erstelle eine Series namens alter mit Alterswerten [18, 21, 30, 16, 22, 25, 17, 19] .\n",
    "- Filtere alle Einträge, bei denen das Alter über 18 Jahre liegt, und speichere diese in einer neuen Series .\n",
    "- Gib die Anzahl der Alterswerte an, die genau 18 Jahre betragen."
   ]
  },
  {
   "cell_type": "code",
   "execution_count": 23,
   "metadata": {},
   "outputs": [
    {
     "data": {
      "text/plain": [
       "np.int64(5)"
      ]
     },
     "execution_count": 23,
     "metadata": {},
     "output_type": "execute_result"
    }
   ],
   "source": [
    "alter = pd.Series(data=[18, 21, 30, 16, 22, 25, 17, 19])\n",
    "alter_gr_18 = alter[alter>18]\n",
    "alter_gr_18.count()"
   ]
  },
  {
   "cell_type": "markdown",
   "metadata": {},
   "source": [
    "### Aufgabe 2:\n",
    "- Erstelle eine Series mit dem Namen punkte und den Werten [60, 45, 88, 72, 90, 55, 40] , die die Punktzahl verschiedener Teilnehmer darstellt.\n",
    "- Filtere alle Teilnehmer heraus, die mindestens 70 Punkte erreicht haben, und gib diese in einer neuen Series aus.\n",
    "- Gib außerdem die Anzahl der Teilnehmer mit weniger als 50 Punkten an."
   ]
  },
  {
   "cell_type": "code",
   "execution_count": 24,
   "metadata": {},
   "outputs": [
    {
     "name": "stdout",
     "output_type": "stream",
     "text": [
      "2    88\n",
      "3    72\n",
      "4    90\n",
      "dtype: int64\n",
      "1    45\n",
      "6    40\n",
      "dtype: int64\n"
     ]
    }
   ],
   "source": [
    "punkte = pd.Series(data=[60, 45, 88, 72, 90, 55, 40])\n",
    "punkte_70 = punkte[punkte>=70]\n",
    "punkte_50 = punkte[punkte<50]\n",
    "print(punkte_70)\n",
    "print(punkte_50)"
   ]
  },
  {
   "cell_type": "markdown",
   "metadata": {},
   "source": [
    "### Aufgabe 3:\n",
    "- Erstelle eine Series namens note mit Noten [2.5, 3.0, 1.7, 4.0, 2.0, 3.3, 1.0, 2.8] .\n",
    "- Filtere alle Einträge heraus, bei denen die Note besser als 2.0 ist, und speichere diese in einer neuen Series beste_noten .\n",
    "- Gib die Anzahl und den Durchschnittswert der Noten in beste_noten aus."
   ]
  },
  {
   "cell_type": "code",
   "execution_count": 26,
   "metadata": {},
   "outputs": [
    {
     "name": "stdout",
     "output_type": "stream",
     "text": [
      "Anzahl die beste Noten: 2 \n",
      "Durchschnittswert: 1.35\n"
     ]
    }
   ],
   "source": [
    "note = pd.Series(data=[2.5, 3.0, 1.7, 4.0, 2.0, 3.3, 1.0, 2.8])\n",
    "beste_note = note[note<2]\n",
    "print(f'Anzahl die beste Noten: {beste_note.count()} \\nDurchschnittswert: {beste_note.mean()}')"
   ]
  }
 ],
 "metadata": {
  "kernelspec": {
   "display_name": ".my_venv",
   "language": "python",
   "name": "python3"
  },
  "language_info": {
   "codemirror_mode": {
    "name": "ipython",
    "version": 3
   },
   "file_extension": ".py",
   "mimetype": "text/x-python",
   "name": "python",
   "nbconvert_exporter": "python",
   "pygments_lexer": "ipython3",
   "version": "3.12.6"
  }
 },
 "nbformat": 4,
 "nbformat_minor": 2
}
