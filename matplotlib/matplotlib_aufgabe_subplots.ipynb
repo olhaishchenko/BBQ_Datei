{
 "cells": [
  {
   "cell_type": "markdown",
   "id": "6b53bca8",
   "metadata": {},
   "source": [
    "## Matplotlib Aufgabe (2)\n",
    "\n",
    "Erstelle mit Matplotlib ein Subplot-Design wie aus wie das folgende Bild:\n",
    "<img src='subplots.png' width='500px;'/>"
   ]
  },
  {
   "cell_type": "markdown",
   "id": "6c6073b5",
   "metadata": {},
   "source": [
    "Und visualisiere dann folgende Funktionen jeweils für die bereits individuell deklarierten Arrays in den vier Subplots mit jeweils gegebenen Überschriften."
   ]
  },
  {
   "cell_type": "code",
   "execution_count": 1,
   "id": "090f2b48",
   "metadata": {},
   "outputs": [
    {
     "data": {
      "text/plain": [
       "<Figure size 640x480 with 0 Axes>"
      ]
     },
     "metadata": {},
     "output_type": "display_data"
    }
   ],
   "source": [
    "import numpy as np\n",
    "from numpy import e, pi, sin, exp, cos\n",
    "import matplotlib.pyplot as plt\n",
    "%matplotlib inline\n",
    "\n",
    "\n",
    "##### subplot(2,2,1) #####\n",
    "# Array \n",
    "x = np.arange(-5.0, 1.0, 0.1)\n",
    "\n",
    "# Überschrift\n",
    "title = 'Die Funktion foo'\n",
    "\n",
    "# Funktion\n",
    "def foo(t): \n",
    "    return exp(-t) * cos(2*pi*t)\n",
    "\n",
    "##### subplot(2,2,2) #####\n",
    "# Array \n",
    "x = np.arange(-5.0, 1.0, 0.1)\n",
    "\n",
    "# Überschrift\n",
    "title = 'foopi, die Ableitung von foo'\n",
    "\n",
    "# Funktion\n",
    "def foopi(t):\n",
    "    return -2*pi * exp(-t) * sin(2*pi*t) - e**(-t)*cos(2*pi*t)\n",
    "\n",
    "##### subplot(2,2,3) #####\n",
    "# Array \n",
    "y = np.arange(-3.0, 2.0, 0.02)\n",
    "\n",
    "# Überschrift\n",
    "title = 'Die Funktion go'\n",
    "\n",
    "# Funktion\n",
    "def go(t):\n",
    "    return sin(t) * cos(1/(t+0.1))\n",
    "\n",
    "#### subplot(2,2,4) ####\n",
    "# Array \n",
    "z = np.arange(-0.2, 0.2, 0.001)\n",
    "\n",
    "# Überschrift\n",
    "title = 'Ein detaillierterer Blick auf go'\n",
    "\n",
    "# Funktion\n",
    "def g(t):\n",
    "    return sin(t) * cos(1/(t))\n",
    "\n",
    "# Tipp für dieses Subplot\n",
    "# x_ticks: [-0.2, -0.1, 0, 0.1, 0.2]\n",
    "# y_ticks: [-0.15, -0.1, 0, 0.1, 0.15]\n",
    "\n",
    "\n",
    "# schreibe deinen code hier\n",
    "\n",
    "plt.tight_layout()\n",
    "plt.show()"
   ]
  }
 ],
 "metadata": {
  "kernelspec": {
   "display_name": "Python 3",
   "language": "python",
   "name": "python3"
  },
  "language_info": {
   "codemirror_mode": {
    "name": "ipython",
    "version": 3
   },
   "file_extension": ".py",
   "mimetype": "text/x-python",
   "name": "python",
   "nbconvert_exporter": "python",
   "pygments_lexer": "ipython3",
   "version": "3.12.6"
  },
  "nbTranslate": {
   "displayLangs": [
    "en",
    "de"
   ],
   "hotkey": "alt-t",
   "langInMainMenu": true,
   "sourceLang": "de",
   "targetLang": "en",
   "useGoogleTranslate": true
  }
 },
 "nbformat": 4,
 "nbformat_minor": 5
}
