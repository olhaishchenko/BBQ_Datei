{
 "cells": [
  {
   "cell_type": "code",
   "execution_count": 4,
   "metadata": {},
   "outputs": [
    {
     "data": {
      "text/plain": [
       "25"
      ]
     },
     "execution_count": 4,
     "metadata": {},
     "output_type": "execute_result"
    }
   ],
   "source": [
    "def calculate(a,op,b):\n",
    "    ## operation = get_implementation_of_operation(op)\n",
    "    return get_implementation_of_operation(op)(a,b)\n",
    "\n",
    "def get_implementation_of_operation(op):\n",
    "    return {'+': addition, '-': subtraktion, '*': multiplikation, '/': division}.get(op)\n",
    "    \n",
    "def addition(a,b):\n",
    "    return a+b\n",
    "\n",
    "def subtraktion(a,b):\n",
    "    return a-b\n",
    "\n",
    "def multiplikation(a, b):\n",
    "    return a*b\n",
    "\n",
    "def division(a,b):\n",
    "    return a/b\n",
    "\n",
    "calculate(11, '+', 14)"
   ]
  },
  {
   "cell_type": "code",
   "execution_count": null,
   "metadata": {},
   "outputs": [],
   "source": [
    "# erstellen Sie zufällig 20 Argument-Sätze und lassen jeweils einen Wert berechnen \n",
    "# und fügen Sie diesen Wert in eine Liste ein.\n",
    "# Zufallszahlen sind von Typ 'int'.\n",
    "\n"
   ]
  }
 ],
 "metadata": {
  "kernelspec": {
   "display_name": "Python 3",
   "language": "python",
   "name": "python3"
  },
  "language_info": {
   "codemirror_mode": {
    "name": "ipython",
    "version": 3
   },
   "file_extension": ".py",
   "mimetype": "text/x-python",
   "name": "python",
   "nbconvert_exporter": "python",
   "pygments_lexer": "ipython3",
   "version": "3.12.6"
  }
 },
 "nbformat": 4,
 "nbformat_minor": 2
}
