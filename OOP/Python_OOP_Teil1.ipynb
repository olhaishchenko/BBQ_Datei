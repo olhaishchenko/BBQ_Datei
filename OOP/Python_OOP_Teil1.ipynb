{
 "cells": [
  {
   "cell_type": "markdown",
   "metadata": {},
   "source": [
    "### 1. Einführung in OOP\n",
    "\n",
    "Objektorientierte Programmierung (OOP) ist ein Paradigma, das darauf abzielt, Software durch die Nutzung von \"Objekten\" zu strukturieren. In der OOP werden die Probleme der Programmierung so betrachtet, dass sie durch die Interaktion von Objekten gelöst werden können. Hier sind die Hauptmerkmale und -konzepte der OOP:\n",
    "\n",
    "#### 1.1. Was sind Objekte?\n",
    "\n",
    "Ein Objekt ist eine Instanz einer Klasse, die Daten (Attribute) und Funktionen (Methoden) kapselt. Objekte repräsentieren Dinge oder Konzepte in der realen Welt. Zum Beispiel könnte ein `Fiat Panda` ein Objekt der Klasse `Auto` sein, das bestimmte Attribute wie `Farbe`, `Marke` und `Baujahr` hat und Methoden wie `fahren()` oder `hupen()` ausführen kann.\n",
    "\n",
    "**Beispiel:**\n",
    "\n",
    "-   **Objekt:** Auto\n",
    "-   **Attribute:** Farbe, Marke, Baujahr\n",
    "-   **Methoden:** fahren(), hupen()\n",
    "\n",
    "#### 1.2. Was sind Klassen?\n",
    "\n",
    "Eine Klasse ist eine Blaupause oder ein Prototyp, aus dem Objekte erstellt werden. Sie definiert die Attribute und Methoden, die die Objekte dieser Klasse haben. "
   ]
  },
  {
   "cell_type": "code",
   "execution_count": 4,
   "metadata": {},
   "outputs": [
    {
     "name": "stdout",
     "output_type": "stream",
     "text": [
      "Hupe! Hupe!\n"
     ]
    }
   ],
   "source": [
    "class Auto:  # Definition einer Klasse namens Auto\n",
    "    def __init__(self, marke, farbe, baujahr):  # Konstruktor zur Initialisierung\n",
    "        self.marke = marke  # Attribut für die Marke\n",
    "        self.farbe = farbe  # Attribut für die Farbe\n",
    "        self.baujahr = baujahr  # Attribut für das Baujahr\n",
    "\n",
    "    def hupen(self):  # Methode für das Hupen\n",
    "        return \"Hupe! Hupe!\"\n",
    "\n",
    "a = Auto(\"My_Marke\", \"blau\", 2024)\n",
    "sound = a.hupen()\n",
    "print(sound)"
   ]
  },
  {
   "cell_type": "markdown",
   "metadata": {},
   "source": [
    "#### 1.3. Grundprinzipien der OOP\n",
    "\n",
    "**Kurz und knapp: bei OOP werden Funktionen (hier Methoden) und Daten (hier Attribute) zu einer Einheit, sie exisitieren immer zusammen und niemals unabhängig !!!**\n",
    "\n",
    "Hier sind die vier Grundprinzipien der objektorientierten Programmierung, die dir helfen, den OOP-Ansatz besser zu verstehen:\n",
    "\n",
    "1.  **Abstraktion**:\n",
    "    \n",
    "    -   Abstraktion bedeutet, dass nur die notwendigen Informationen angezeigt werden, während die komplexen Details verborgen bleiben. In der Programmierung können wir beispielsweise eine Klasse erstellen, die die Funktionalität eines Autos abstrahiert, sodass der Benutzer nur die grundlegenden Methoden verwenden muss, ohne sich um die internen Implementierungen kümmern zu müssen.\n",
    "2.  **Kapselung**:\n",
    "    \n",
    "    -   Kapselung bezieht sich auf das Zusammenfassen von Daten und Methoden in einer Klasse. Dadurch wird der Zugriff auf die Daten gesteuert und der Code modularer. In Python können Attribute als privat deklariert werden, sodass sie nicht direkt von außerhalb der Klasse zugänglich sind. Zum Beispiel kann das Attribut `__geschwindigkeit` in einer Klasse `Auto` geschützt werden, sodass es nur durch Methoden innerhalb dieser Klasse geändert werden kann.\n",
    "3.  **Vererbung**:\n",
    "    \n",
    "    -   Vererbung ermöglicht es, eine neue Klasse (Unterklasse) auf der Grundlage einer bestehenden Klasse (Basisklasse) zu erstellen.  Eine Unterklasse erbt die Eigenschaften und Methoden der Basisklasse, kann aber auch eigene Attribute und Methoden hinzufügen oder die Methoden der Basisklasse überschreiben.\n",
    "    -   **Beispiel**: Wenn `Fahrzeug` eine Basisklasse ist, könnte `Auto` und `Motorrad` Unterklassen sein, die spezifische Implementierungen für Fahrzeuge bieten.\n",
    "4.  **Polymorphismus**:\n",
    "    \n",
    "    -   Polymorphismus erlaubt es, dass verschiedene Klassen dieselben Methoden mit unterschiedlichen Implementierungen haben. Dies ermöglicht es, eine Methode auf verschiedene Arten zu verwenden, je nachdem, welches Objekt die Methode aufruft.\n",
    "    -   **Beispiel**: Wenn die Klasse `Vogel` eine Methode `fliegen()` hat, könnte die Unterklasse `Sperling` eine andere Implementierung als die Unterklasse `Pinguin` haben.\n",
    "\n",
    "### 2. Klassen und Objekte\n",
    "\n",
    "In der objektorientierten Programmierung sind Klassen und Objekte die zentralen Bausteine. Sie helfen uns, unsere Programme in logische und handhabbare Einheiten zu unterteilen.\n",
    "\n",
    "#### 2.1. Definition einer Klasse\n",
    "\n",
    "Eine Klasse ist ein Template oder ein Bauplan für die Erstellung von Objekten. Sie definiert die Attribute und Methoden, die die Objekte haben. In Python wird eine Klasse mit dem Schlüsselwort `class` definiert. \\\n",
    "**Syntax zur Definition einer Klasse**:\n",
    "```py\n",
    "class Klassenname(Basisklasse):\n",
    "    var_cls = None # Klassenvariable\n",
    "\n",
    "    def __init__(self, parameter1, parameter2, ...):  # Konstruktor\n",
    "        # Initialisierung der Attribute\n",
    "        self.attribut1 = parameter1\n",
    "        self.attribut2 = parameter2\n",
    "\n",
    "    def methode1(self):\n",
    "        # Methode 1\n",
    "        pass\n",
    "\n",
    "    def methode2(self):\n",
    "        # Methode 2\n",
    "        pass\n",
    "```"
   ]
  },
  {
   "cell_type": "markdown",
   "metadata": {},
   "source": [
    "**Beispiel einer einfachen Klasse**:"
   ]
  },
  {
   "cell_type": "code",
   "execution_count": 10,
   "metadata": {},
   "outputs": [],
   "source": [
    "class Hund:  # Definition einer Klasse namens Hund\n",
    "    def __init__(self, name, alter):  # Konstruktor\n",
    "        self.name = name  # Attribut für den Namen des Hundes\n",
    "        self.alter = alter  # Attribut für das Alter des Hundes\n",
    "\n",
    "    def bellen(self):  # Methode, die das Bellen des Hundes simuliert\n",
    "        return f\"{self.name} sagt: Wuff!\"\n"
   ]
  },
  {
   "cell_type": "markdown",
   "metadata": {},
   "source": [
    "#### 2.2. Erstellen von Objekten\n",
    "\n",
    "Ein Objekt ist eine Instanz einer Klasse, die auf dem Template der Klasse basiert. Um ein Objekt zu erstellen, rufst du die Klasse wie eine Funktion auf und übergibst die erforderlichen Parameter an den Konstruktor.\n",
    "\n",
    "**Erstellen von Objekten:**\n",
    "```py\n",
    "# Erstellen von Objekten der Klasse Hund\n",
    "hund1 = Hund(\"Buddy\", 3)\n",
    "hund2 = Hund(\"Bella\", 5)\n",
    "\n",
    "# Methoden aufrufen\n",
    "print(hund1.bellen())  # Ausgabe: Buddy sagt: Wuff!\n",
    "print(hund2.bellen())  # Ausgabe: Bella sagt: Wuff!\n",
    "```\n",
    "In diesem Beispiel haben wir zwei Objekte der Klasse `Hund` erstellt: `hund1` und `hund2`. Jedes Objekt hat seine eigenen Werte für die Attribute `name` und `alter`, und wir können die Methode `bellen()` aufrufen, um ihre spezifischen Ausgaben zu erhalten.\n"
   ]
  },
  {
   "cell_type": "markdown",
   "metadata": {},
   "source": [
    "### 3. Methoden und Attribute\n",
    "\n",
    "Methoden und Attribute sind wesentliche Konzepte in der objektorientierten Programmierung. Sie ermöglichen es, den Zustand eines Objekts bei seiner Erstellung zu definieren und sein Verhalten zu steuern.\n",
    "\n",
    "#### 3.1. Methoden\n",
    "\n",
    "Methoden sind Funktionen, die innerhalb einer Klasse definiert sind. Sie können auf die Attribute der Klasse zugreifen und Operationen an diesen durchführen.\n",
    "\n",
    "**Beispiel für Methoden:**"
   ]
  },
  {
   "cell_type": "code",
   "execution_count": 8,
   "metadata": {},
   "outputs": [
    {
     "name": "stdout",
     "output_type": "stream",
     "text": [
      "Toyota, Baujahr: 2020\n"
     ]
    }
   ],
   "source": [
    "class Auto:\n",
    "    def __init__(self, marke, baujahr):\n",
    "        self.marke = marke\n",
    "        self.baujahr = baujahr\n",
    "\n",
    "    def beschreibung(self):\n",
    "        return f\"{self.marke}, Baujahr: {self.baujahr}\"\n",
    "\n",
    "# Erstellen eines Objekts der Klasse Auto\n",
    "auto1 = Auto(\"Toyota\", 2020)\n",
    "\n",
    "# Aufrufen der Methode\n",
    "print(auto1.beschreibung())  # Ausgabe: Toyota, Baujahr: 2020"
   ]
  },
  {
   "cell_type": "code",
   "execution_count": null,
   "metadata": {},
   "outputs": [],
   "source": [
    "# auto1.beschreibung() normaler Methodenaufruf <object>.<meathodenname>()\n",
    "# auto1 # object\n",
    "# Auto.beschreibung(auto1)\n",
    "# type(auto1).beschreibung(auto1)"
   ]
  },
  {
   "cell_type": "markdown",
   "metadata": {},
   "source": [
    "#### 3.2. Konstruktoren\n",
    "\n",
    "Ein Konstruktor ist eine spezielle Methode, die aufgerufen wird, wenn ein neues Objekt einer Klasse erstellt wird. In Python wird der Konstruktor durch die Methode `__init__()` definiert. Der Konstruktor wird verwendet, um die Attribute des Objekts zu initialisieren.\\\n",
    "**Syntax eines Konstruktors:**\n",
    "```py\n",
    "class Klassenname:\n",
    "    def __init__(self, parameter1, parameter2, ...):\n",
    "        # Initialisierung der Attribute\n",
    "        self.attribut1 = parameter1\n",
    "        self.attribut2 = parameter2\n",
    "```\n",
    "**Beispiel für einen Konstruktor:**"
   ]
  },
  {
   "cell_type": "code",
   "execution_count": 7,
   "metadata": {},
   "outputs": [
    {
     "name": "stdout",
     "output_type": "stream",
     "text": [
      "1984\n",
      "George Orwell\n",
      "1949\n"
     ]
    }
   ],
   "source": [
    "class Buch:\n",
    "    def __init__(self, titel, autor, jahr):\n",
    "        self.titel = titel  # Attribut für den Titel des Buches\n",
    "        self.autor = autor  # Attribut für den Autor des Buches\n",
    "        self.jahr = jahr    # Attribut für das Veröffentlichungsjahr\n",
    "\n",
    "# Erstellen eines Objekts der Klasse Buch\n",
    "buch1 = Buch(\"1984\", \"George Orwell\", 1949)\n",
    "\n",
    "# Zugriff auf die Attribute\n",
    "print(buch1.titel)  # Ausgabe: 1984\n",
    "print(buch1.autor)  # Ausgabe: George Orwell\n",
    "print(buch1.jahr)   # Ausgabe: 1949"
   ]
  },
  {
   "cell_type": "markdown",
   "metadata": {},
   "source": [
    "#### 3.3. Attribute\n",
    "\n",
    "Attribute sind Variablen, die den Zustand eines Objekts speichern. Sie können in der `__init__`-Methode oder außerhalb von Methoden (im Klassenniveau) definiert werden. Attribute können verschiedene Datentypen annehmen und auch andere Objekte oder Sammlungen enthalten.\n",
    "\n",
    "**Beispiel für verschiedene Attribute:**"
   ]
  },
  {
   "cell_type": "code",
   "execution_count": 9,
   "metadata": {},
   "outputs": [
    {
     "name": "stdout",
     "output_type": "stream",
     "text": [
      "Anna\n",
      "30\n",
      "['Lehrerin', 'Schriftstellerin']\n"
     ]
    }
   ],
   "source": [
    "class Person:\n",
    "    def __init__(self, name, alter, berufe):\n",
    "        self.name = name  # Attribut für den Namen\n",
    "        self.alter = alter  # Attribut für das Alter\n",
    "        self.berufe = berufe  # Attribut für die Liste der Berufe\n",
    "\n",
    "# Erstellen eines Objekts der Klasse Person\n",
    "person1 = Person(\"Anna\", 30, [\"Lehrerin\", \"Schriftstellerin\"])\n",
    "\n",
    "# Zugriff auf die Attribute\n",
    "print(person1.name)    # Ausgabe: Anna\n",
    "print(person1.alter)   # Ausgabe: 30\n",
    "print(person1.berufe)  # Ausgabe: ['Lehrerin', 'Schriftstellerin']"
   ]
  },
  {
   "cell_type": "markdown",
   "metadata": {},
   "source": [
    "##### Standardwerte für Attribute\n",
    "\n",
    "Es ist auch möglich, Standardwerte für Attribute festzulegen, indem man ihnen in der `__init__`-Methode einen Wert zuweist, falls kein Wert übergeben wird.\n",
    "\n",
    "**Beispiel für Standardwerte:**"
   ]
  },
  {
   "cell_type": "code",
   "execution_count": 10,
   "metadata": {},
   "outputs": [
    {
     "name": "stdout",
     "output_type": "stream",
     "text": [
      "2020\n",
      "1965\n"
     ]
    }
   ],
   "source": [
    "class Fahrzeug:\n",
    "    def __init__(self, marke, model, baujahr=2020):  # Standardwert für baujahr\n",
    "        self.marke = marke\n",
    "        self.model = model\n",
    "        self.baujahr = baujahr\n",
    "\n",
    "# Erstellen von Objekten der Klasse Fahrzeug\n",
    "fahrzeug1 = Fahrzeug(\"Toyota\", \"Camry\")  # baujahr wird auf 2020 gesetzt\n",
    "fahrzeug2 = Fahrzeug(\"Ford\", \"Mustang\", 1965)  # baujahr wird auf 1965 gesetzt\n",
    "\n",
    "print(fahrzeug1.baujahr)  # Ausgabe: 2020\n",
    "print(fahrzeug2.baujahr)  # Ausgabe: 1965"
   ]
  },
  {
   "cell_type": "markdown",
   "metadata": {},
   "source": [
    "#### Zugriff auf Attribute\n",
    "\n",
    "Auf die Attribute eines Objekts kann über den Punktoperator (`.`) zugegriffen werden. Man kann sowohl den Wert eines Attributs abrufen als auch ihn ändern.\n",
    "\n",
    "**Beispiel für den Zugriff auf und die Änderung von Attributen:**"
   ]
  },
  {
   "cell_type": "code",
   "execution_count": 11,
   "metadata": {},
   "outputs": [
    {
     "name": "stdout",
     "output_type": "stream",
     "text": [
      "1.5\n",
      "2.0\n"
     ]
    }
   ],
   "source": [
    "class Student:\n",
    "    def __init__(self, name, note):\n",
    "        self.name = name\n",
    "        self.note = note\n",
    "\n",
    "student1 = Student(\"Max\", 1.5)\n",
    "\n",
    "# Zugriff auf das Attribut\n",
    "print(student1.note)  # Ausgabe: 1.5\n",
    "\n",
    "# Ändern des Attributs\n",
    "student1.note = 2.0\n",
    "print(student1.note)  # Ausgabe: 2.0"
   ]
  },
  {
   "cell_type": "markdown",
   "metadata": {},
   "source": [
    "### 3. 4 Sichtbarkeit von Attributen und Methoden\n",
    "**Stark private** Attribute bzw. Methoden werden in Python durch ein Doppelt-Unterstrich `__` vor dem Variablen-/Methodennamen gekennzeichnet. Diese Konvention bewirkt, dass der Name intern verändert wird (Name Mangling), sodass das Attribut nicht direkt von außen zugänglich ist.\\\n",
    "Falls der Variablen-/Methodennamen mit einem `_` beginnt, handelt es sich nicht um ein vollständig privates Attribut, sondern um eine geschützte Konvention. Es signalisiert, dass die Variable oder Methode nur innerhalb der Klasse oder ihrer Unterklassen verwendet werden sollte, ist jedoch nicht strikt vor Zugriff von außen geschützt."
   ]
  },
  {
   "cell_type": "code",
   "execution_count": 16,
   "metadata": {},
   "outputs": [],
   "source": [
    "class StrongPrivate:\n",
    "    def __init__(self, name):\n",
    "        self.__name = name  # Stark privates Attribut\n",
    "\n",
    "    def __private_method(self):  # Stark private Methode\n",
    "        print(\"Stark private Methode\")\n",
    "\n",
    "# Direkter Zugriff auf stark private Attribute/Methode nicht möglich:\n",
    "obj = StrongPrivate(\"Bob\")\n",
    "# print(obj.__name)  # AttributeError\n",
    "# obj.__private_method()  # AttributeError"
   ]
  },
  {
   "cell_type": "code",
   "execution_count": 19,
   "metadata": {},
   "outputs": [
    {
     "name": "stdout",
     "output_type": "stream",
     "text": [
      "Alice\n",
      "Geschützte Methode: Alice\n",
      "None\n"
     ]
    }
   ],
   "source": [
    "class WeakPrivate:\n",
    "    def __init__(self, name):\n",
    "        self._name = name  # Geschütztes Attribut (schwach privat)\n",
    "\n",
    "    def _method(self):  # Geschützte Methode\n",
    "        print(f\"Geschützte Methode: {self._name}\")\n",
    "\n",
    "# Zugriff von außen ist möglich (aber nicht empfohlen)\n",
    "obj = WeakPrivate(\"Alice\")\n",
    "print(obj._name)  # Ausgabe: Alice\n",
    "print(obj._method())"
   ]
  }
 ],
 "metadata": {
  "kernelspec": {
   "display_name": ".venv_test",
   "language": "python",
   "name": "python3"
  },
  "language_info": {
   "codemirror_mode": {
    "name": "ipython",
    "version": 3
   },
   "file_extension": ".py",
   "mimetype": "text/x-python",
   "name": "python",
   "nbconvert_exporter": "python",
   "pygments_lexer": "ipython3",
   "version": "3.12.6"
  }
 },
 "nbformat": 4,
 "nbformat_minor": 2
}
