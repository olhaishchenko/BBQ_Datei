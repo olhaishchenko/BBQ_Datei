{
 "cells": [
  {
   "cell_type": "markdown",
   "metadata": {},
   "source": [
    "### Aufgabe 1: Einfache Klasse erstellen\n",
    "Erstelle eine Klasse Person, die die folgenden Attribute hat:\n",
    "\n",
    "- name (Name der Person)\n",
    "- age (Alter der Person) \n",
    "\n",
    "Die Klasse soll eine Methode introduce haben, die eine Begrüßung mit dem Namen und Alter der Person ausgibt."
   ]
  },
  {
   "cell_type": "code",
   "execution_count": 1,
   "metadata": {},
   "outputs": [
    {
     "name": "stdout",
     "output_type": "stream",
     "text": [
      "Ich bin Olga. Ich bin 45 Jahre alt.\n"
     ]
    }
   ],
   "source": [
    "# Dein Code\n",
    "class Person:\n",
    "    def __init__(self, name:str, age:int):\n",
    "        self.name = name\n",
    "        self.age = age\n",
    "    def str(self):\n",
    "        return f\"Ich bin {self.name}. Ich bin {self.age} Jahre alt.\"\n",
    "\n",
    "new_person = Person(\"Maria\", 18)\n",
    "print(new_person.str())"
   ]
  },
  {
   "cell_type": "markdown",
   "metadata": {},
   "source": [
    "### Aufgabe 2: Konto mit Gebühren und Überziehungslimit\n",
    "Erstelle eine Klasse BankAccount, die die folgenden Attribute hat:\n",
    "\n",
    "- account_holder (Kontoinhaber)\n",
    "- balance (Kontostand, Standardwert: 0)\n",
    "- overdraft_limit (Überziehungslimit, Standardwert: 100)\n",
    "\n",
    "Die Klasse soll Methoden haben:\n",
    "\n",
    "- deposit(amount) um Geld einzuzahlen.\n",
    "- withdraw(amount) um Geld abzuheben, wobei das Überziehungslimit berücksichtigt werden soll. Wenn versucht wird, mehr Geld abzuheben als erlaubt, soll eine Fehlermeldung ausgegeben werden.\n",
    "- apply_fees() soll 10% Gebühren auf den aktuellen Kontostand anwenden, falls der Kontostand negativ ist."
   ]
  },
  {
   "cell_type": "code",
   "execution_count": 9,
   "metadata": {},
   "outputs": [
    {
     "name": "stdout",
     "output_type": "stream",
     "text": [
      "200 wurde abgehoben. Neuer Kontostand: 800\n",
      "Fehler: Deine Balance beträgt 800, Überziehungslimit erreicht, nicht genug Geld für Abhebung von 1200\n",
      "Neuer Kontostand: 800\n",
      "Fehler: Deine Balance beträgt 800, Überziehungslimit erreicht, nicht genug Geld für Abhebung von 1500\n",
      "Neuer Kontostand: 1800\n",
      "Neuer Kontostand: -110.0\n"
     ]
    }
   ],
   "source": [
    "# Dein Code\n",
    "class BankAccount:\n",
    "    def __init__(self, account_holder, balance=0, overdraft_limit=100):\n",
    "        self.account_holder = account_holder\n",
    "        self.balance = balance\n",
    "        self.overdraft_limit = overdraft_limit\n",
    "\n",
    "    def deposit(self, amount):\n",
    "        \"\"\"Einzahlung auf das Konto\"\"\"\n",
    "        self.balance += amount\n",
    "        print(f\"Neuer Kontostand: {self.balance}\")\n",
    "\n",
    "    def withdraw(self, amount):\n",
    "        \"\"\"Abhebung vom Konto unter Berücksichtigung des Überziehungslimits\"\"\"\n",
    "        if self.overdraft_limit <  amount <= self.balance:\n",
    "            # self.balance - amount >= -self.overdraft_limit\n",
    "            self.balance -= amount\n",
    "            print(f\"{amount} wurde abgehoben. Neuer Kontostand: {self.balance}\")\n",
    "        else: \n",
    "            print(f\"Fehler: Deine Balance beträgt {self.balance}, Überziehungslimit erreicht, nicht genug Geld für Abhebung von {amount}\")\n",
    "\n",
    "    def apply_fees(self):\n",
    "        \"\"\"10% Gebühren auf den negativen Kontostand anwenden\"\"\"\n",
    "        if self.balance < 0:\n",
    "            fees = 0.1 * abs(self.balance)\n",
    "            self.balance -= fees\n",
    "        print(f\"Neuer Kontostand: {self.balance}\")\n",
    "    \n",
    "bank_acc = BankAccount(\"Maria\", 1000, 150)\n",
    "\n",
    "# Testfälle\n",
    "bank_acc.withdraw(200)  # Abhebung von 200\n",
    "bank_acc.withdraw(1200)  # Sollte innerhalb des Limits abheben\n",
    "bank_acc.apply_fees()  # Sollten keine Gebühren angewendet werden, da Balance positiv\n",
    "bank_acc.withdraw(1500)  # Überschreitung des Limits, sollte fehlschlagen\n",
    "bank_acc.deposit(1000)  # Einzahlung von 1000 auf das Konto von Maria, neuer Kontostand wird 1800 sein\n",
    "\n",
    "\n",
    "bank_acc_2 = BankAccount(\"Tim\", -100, 100)\n",
    "bank_acc_2.apply_fees()  # Gebühren werden auf den negativen Kontostand angewendet, 10% von -100 (10) werden abgezogen, neuer Kontostand wird -110 sein\n"
   ]
  },
  {
   "cell_type": "markdown",
   "metadata": {},
   "source": [
    "### Aufgabe 3: Bibliotheksverwaltung mit Klassenattribut\n",
    "Erstelle eine Klasse Library, die das Klassenattribut total_books hat, das die Gesamtanzahl der Bücher in der Bibliothek verfolgt. Jedes Buch wird als Instanz der Klasse Book hinzugefügt, die die Attribute title, author und checked_out (Standardwert: False) besitzt.\n",
    "\\\n",
    "Die Klasse Library soll die folgenden Methoden haben:\n",
    "\n",
    "- add_book(title, author) zum Hinzufügen eines neuen Buchs.\n",
    "- checkout_book(title) zum Ausleihen eines Buchs. Falls das Buch nicht verfügbar ist, soll eine Fehlermeldung ausgegeben werden.\n",
    "- return_book(title) zum Zurückgeben eines Buchs."
   ]
  },
  {
   "cell_type": "code",
   "execution_count": 1,
   "metadata": {},
   "outputs": [
    {
     "name": "stdout",
     "output_type": "stream",
     "text": [
      "Das Buch '1984' von George Orwell wurde hinzugefügt. Gesamtanzahl Bücher: 1\n",
      "Das Buch 'Der Prozess' von Franz Kafka wurde hinzugefügt. Gesamtanzahl Bücher: 2\n",
      "Das Buch '1984' wurde ausgeliehen.\n",
      "Das Buch '1984' wurde zurückgegeben.\n",
      "Das Buch 'Der Prozess' wurde ausgeliehen.\n",
      "Das Buch '1984' wurde ausgeliehen.\n"
     ]
    }
   ],
   "source": [
    "# Dein Code\n",
    "class Book:\n",
    "    def __init__(self, title, author):\n",
    "        self.title = title\n",
    "        self.author = author\n",
    "        self.checked_out = False\n",
    "\n",
    "class Library:\n",
    "    total_books = 0  # Klassenattribut für die Gesamtanzahl der Bücher in der Bibliothek\n",
    "\n",
    "    def __init__(self):\n",
    "        self.books = []  # Liste, um alle Bücher zu speichern\n",
    "    \n",
    "    def add_book(self, title, author):\n",
    "        new_book = Book(title, author)\n",
    "        self.books.append(new_book)\n",
    "        Library.total_books += 1  # Buch wird hinzugefügt\n",
    "        print(f\"Das Buch '{title}' von {author} wurde hinzugefügt. Gesamtanzahl Bücher: {Library.total_books}\")\n",
    "    \n",
    "    def checkout_book(self, title):\n",
    "        for book in self.books:\n",
    "            if book.title == title:\n",
    "                # if  book.checked_out == False:\n",
    "                if    not book.checked_out:\n",
    "                    book.checked_out = True\n",
    "                    print(f\"Das Buch '{title}' wurde ausgeliehen.\")\n",
    "                    return\n",
    "                else:\n",
    "                    print(f\"Das Buch '{title}' ist bereits ausgeliehen.\")\n",
    "                    return\n",
    "        print(f\"Das Buch '{title}' ist nicht in der Bibliothek vorhanden.\")\n",
    "    \n",
    "    def return_book(self, title):\n",
    "        for book in self.books:\n",
    "            if book.title == title:\n",
    "                # if book.checked_out == True:\n",
    "                if book.checked_out:\n",
    "                    book.checked_out = False\n",
    "                    print(f\"Das Buch '{title}' wurde zurückgegeben.\")\n",
    "                    return\n",
    "                else:\n",
    "                    print(f\"Das Buch '{title}' war nicht ausgeliehen.\")\n",
    "                    return\n",
    "        print(f\"Das Buch '{title}' ist nicht in der Bibliothek vorhanden.\")\n",
    "\n",
    "# Beispiel:\n",
    "bibliothek = Library()\n",
    "\n",
    "bibliothek.add_book(\"1984\", \"George Orwell\")\n",
    "bibliothek.add_book(\"Der Prozess\", \"Franz Kafka\")\n",
    "\n",
    "bibliothek.checkout_book(\"1984\")\n",
    "bibliothek.return_book(\"1984\")\n",
    "bibliothek.checkout_book(\"Der Prozess\")\n",
    "bibliothek.checkout_book(\"1984\")  \n"
   ]
  },
  {
   "cell_type": "code",
   "execution_count": 10,
   "metadata": {},
   "outputs": [
    {
     "name": "stdout",
     "output_type": "stream",
     "text": [
      "Buch 'Der Alchemist' von Paulo Coelho hinzugefügt. Gesamtanzahl der Bücher: 1\n",
      "Buch 'Harry Potter' von J.K. Rowling hinzugefügt. Gesamtanzahl der Bücher: 2\n",
      "Buch 'Der Alchemist' wurde ausgeliehen.\n",
      "Fehler: Das Buch 'Der Alchemist' ist bereits ausgeliehen.\n",
      "Buch 'Der Alchemist' wurde zurückgegeben.\n",
      "Fehler: Das Buch 'Der Alchemist' wurde nicht ausgeliehen.\n",
      "Fehler: Das Buch 'Nicht existierendes Buch' ist in der Bibliothek nicht vorhanden.\n"
     ]
    }
   ],
   "source": [
    "class Book:\n",
    "    def __init__(self, title, author):\n",
    "        \"\"\"Initialisiert ein neues Buch mit Titel, Autor und checked_out-Status\"\"\"\n",
    "        self.title = title\n",
    "        self.author = author\n",
    "        self.checked_out = False\n",
    "\n",
    "\n",
    "class Library:\n",
    "    total_books = 0  # Klassenattribut, das die Gesamtanzahl der Bücher verfolgt\n",
    "\n",
    "    def __init__(self):\n",
    "        \"\"\"Initialisiert eine neue Bibliothek mit einer leeren Liste von Büchern\"\"\"\n",
    "        self.books = []\n",
    "\n",
    "    def add_book(self, title, author):\n",
    "        \"\"\"Fügt ein neues Buch der Bibliothek hinzu und erhöht die Gesamtanzahl\"\"\"\n",
    "        new_book = Book(title, author)\n",
    "        self.books.append(new_book)\n",
    "        Library.total_books += 1\n",
    "        print(f\"Buch '{title}' von {author} hinzugefügt. Gesamtanzahl der Bücher: {Library.total_books}\")\n",
    "\n",
    "    def checkout_book(self, title):\n",
    "        \"\"\"Erlaubt das Ausleihen eines Buches, wenn es verfügbar ist\"\"\"\n",
    "        for book in self.books:\n",
    "            if book.title == title:\n",
    "                if not book.checked_out:\n",
    "                    book.checked_out = True\n",
    "                    print(f\"Buch '{title}' wurde ausgeliehen.\")\n",
    "                    return\n",
    "                else:\n",
    "                    print(f\"Fehler: Das Buch '{title}' ist bereits ausgeliehen.\")\n",
    "                    return\n",
    "        print(f\"Fehler: Das Buch '{title}' ist in der Bibliothek nicht vorhanden.\")\n",
    "\n",
    "    def return_book(self, title):\n",
    "        \"\"\"Erlaubt das Zurückgeben eines ausgeliehenen Buches\"\"\"\n",
    "        for book in self.books:\n",
    "            if book.title == title:\n",
    "                if book.checked_out:\n",
    "                    book.checked_out = False\n",
    "                    print(f\"Buch '{title}' wurde zurückgegeben.\")\n",
    "                    return\n",
    "                else:\n",
    "                    print(f\"Fehler: Das Buch '{title}' wurde nicht ausgeliehen.\")\n",
    "                    return\n",
    "        print(f\"Fehler: Das Buch '{title}' ist in der Bibliothek nicht vorhanden.\")\n",
    "\n",
    "# Beispiel Nutzung\n",
    "library = Library()\n",
    "\n",
    "# Bücher hinzufügen\n",
    "library.add_book(\"Der Alchemist\", \"Paulo Coelho\")\n",
    "library.add_book(\"Harry Potter\", \"J.K. Rowling\")\n",
    "\n",
    "# Bücher ausleihen\n",
    "library.checkout_book(\"Der Alchemist\")\n",
    "library.checkout_book(\"Der Alchemist\")  # Fehlermeldung, da bereits ausgeliehen\n",
    "\n",
    "# Buch zurückgeben\n",
    "library.return_book(\"Der Alchemist\")\n",
    "library.return_book(\"Der Alchemist\")  # Fehlermeldung, da bereits zurückgegeben\n",
    "\n",
    "# Versuch, ein nicht existierendes Buch auszuleihen\n",
    "library.checkout_book(\"Nicht existierendes Buch\")\n"
   ]
  }
 ],
 "metadata": {
  "kernelspec": {
   "display_name": ".my_venv",
   "language": "python",
   "name": "python3"
  },
  "language_info": {
   "codemirror_mode": {
    "name": "ipython",
    "version": 3
   },
   "file_extension": ".py",
   "mimetype": "text/x-python",
   "name": "python",
   "nbconvert_exporter": "python",
   "pygments_lexer": "ipython3",
   "version": "3.12.6"
  }
 },
 "nbformat": 4,
 "nbformat_minor": 2
}
