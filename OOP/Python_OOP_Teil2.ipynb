{
 "cells": [
  {
   "cell_type": "markdown",
   "metadata": {},
   "source": [
    "## OOP Teil 2\n",
    "### 3.5. Klassenattribute vs. Instanzattribute\n",
    "\n",
    "In Python gibt es zwei Haupttypen von Attributen, die in Klassen verwendet werden: **Instanzattribute** und **Klassenattribute**. Beide dienen unterschiedlichen Zwecken und haben unterschiedliche Sichtbarkeiten.\n",
    "\n",
    "#### 3.5.1. Instanzattribute\n",
    "\n",
    "Instanzattribute sind spezifisch für eine Instanz (ein Objekt) der Klasse. Sie werden in der `__init__`-Methode definiert und sind für jedes Objekt unterschiedlich. Jedes Mal, wenn Sie eine neue Instanz der Klasse erstellen, werden die Instanzattribute für diese spezielle Instanz initialisiert.\n",
    "\n",
    "**Beispiel für Instanzattribute:**"
   ]
  },
  {
   "cell_type": "code",
   "execution_count": 1,
   "metadata": {},
   "outputs": [
    {
     "name": "stdout",
     "output_type": "stream",
     "text": [
      "Toyota\n",
      "Ford\n"
     ]
    }
   ],
   "source": [
    "class Auto:\n",
    "    def __init__(self, marke, model):\n",
    "        self.marke = marke  # Instanzattribut\n",
    "        self.model = model  # Instanzattribut\n",
    "\n",
    "# Erstellen von Objekten\n",
    "auto1 = Auto(\"Toyota\", \"Corolla\")\n",
    "auto2 = Auto(\"Ford\", \"Mustang\")\n",
    "\n",
    "print(auto1.marke)  # Ausgabe: Toyota\n",
    "print(auto2.marke)  # Ausgabe: Ford"
   ]
  },
  {
   "cell_type": "markdown",
   "metadata": {},
   "source": [
    "In diesem Beispiel haben `auto1` und `auto2` unterschiedliche Werte für die Instanzattribute `marke` und `model`.\n",
    "\n",
    "#### 3.5.2. Klassenattribute\n",
    "\n",
    "Klassenattribute hingegen sind für die gesamte Klasse und alle ihre Instanzen gleich. Sie werden auf Klassenebene definiert, außerhalb von Methoden. Alle Instanzen der Klasse teilen sich dasselbe Klassenattribut, und wenn es geändert wird, wird die Änderung in allen Instanzen sichtbar.\n",
    "\n",
    "**Beispiel für Klassenattribute:**"
   ]
  },
  {
   "cell_type": "code",
   "execution_count": 2,
   "metadata": {},
   "outputs": [
    {
     "name": "stdout",
     "output_type": "stream",
     "text": [
      "2\n"
     ]
    }
   ],
   "source": [
    "class Fahrzeug:\n",
    "    anzahl_fahrzeuge = 0  # Klassenattribut\n",
    "\n",
    "    def __init__(self, marke):\n",
    "        self.marke = marke  # Instanzattribut\n",
    "        Fahrzeug.anzahl_fahrzeuge += 1  # Erhöhe die Anzahl der Fahrzeuge\n",
    "\n",
    "# Erstellen von Fahrzeugen\n",
    "fahrzeug1 = Fahrzeug(\"Toyota\")\n",
    "fahrzeug2 = Fahrzeug(\"Ford\")\n",
    "\n",
    "print(Fahrzeug.anzahl_fahrzeuge)  # Ausgabe: 2"
   ]
  },
  {
   "cell_type": "markdown",
   "metadata": {},
   "source": [
    "In diesem Beispiel ist `anzahl_fahrzeuge` ein Klassenattribut, das die Gesamtanzahl der Fahrzeuge speichert. Bei der Erstellung jeder neuen Instanz wird dieses Attribut um eins erhöht.\n",
    "\n",
    "#### 3.5.3. Zugriff auf Klassenattribute und Instanzattribute\n",
    "\n",
    "Sie können sowohl auf Klassenattribute als auch auf Instanzattribute zugreifen, jedoch auf unterschiedliche Weise:\n",
    "\n",
    "-   **Zugriff auf Klassenattribute:**\n",
    "    \n",
    "\t   ```python\n",
    "\t  print(Fahrzeug.anzahl_fahrzeuge)  # Zugriff über die Klasse\n",
    "\t  ``` \n",
    "  \n",
    "    \n",
    "-   **Zugriff auf Instanzattribute:**\n",
    "    \n",
    "    ```python\n",
    "\tprint(fahrzeug1.marke)  # Zugriff über die Instanz\n",
    "\t```\n",
    "\n",
    "### 4. Methoden in Klassen\n",
    "\n",
    "Methoden sind Funktionen, die in einer Klasse definiert sind. Sie definieren das Verhalten der Objekte, die von dieser Klasse erstellt werden. Methoden ermöglichen es, Operationen auf den Attributen der Klasse auszuführen und können sowohl Daten verarbeiten als auch Werte zurückgeben.\n",
    "\n",
    "#### 4.1. Instanzmethoden\n",
    "\n",
    "Instanzmethoden sind die gebräuchlichsten Methoden in Klassen. Sie haben immer `self` als ersten Parameter, der eine Referenz auf das aktuelle Objekt darstellt. Dadurch können diese Methoden auf die Attribute der Instanz zugreifen und sie ändern.\n",
    "\n",
    "**Beispiel für eine Instanzmethode:**"
   ]
  },
  {
   "cell_type": "code",
   "execution_count": 3,
   "metadata": {},
   "outputs": [
    {
     "name": "stdout",
     "output_type": "stream",
     "text": [
      "500 Euro eingezahlt. Neuer Saldo: 1500 Euro.\n",
      "300 Euro abgehoben. Neuer Saldo: 1200 Euro.\n"
     ]
    }
   ],
   "source": [
    "class Konto:\n",
    "    def __init__(self, inhaber, saldo):\n",
    "        self.inhaber = inhaber\n",
    "        self.saldo = saldo\n",
    "\n",
    "    def einzahlen(self, betrag):\n",
    "        self.saldo += betrag\n",
    "        print(f\"{betrag} Euro eingezahlt. Neuer Saldo: {self.saldo} Euro.\")\n",
    "\n",
    "    def abheben(self, betrag):\n",
    "        if betrag > self.saldo:\n",
    "            print(\"Nicht genügend Guthaben!\")\n",
    "        else:\n",
    "            self.saldo -= betrag\n",
    "            print(f\"{betrag} Euro abgehoben. Neuer Saldo: {self.saldo} Euro.\")\n",
    "\n",
    "# Erstellen eines Kontos\n",
    "konto1 = Konto(\"Max Mustermann\", 1000)\n",
    "\n",
    "# Aufrufen der Methoden\n",
    "konto1.einzahlen(500)  # Ausgabe: 500 Euro eingezahlt. Neuer Saldo: 1500 Euro.\n",
    "konto1.abheben(300)    # Ausgabe: 300 Euro abgehoben. Neuer Saldo: 1200 Euro."
   ]
  },
  {
   "cell_type": "markdown",
   "metadata": {},
   "source": [
    "#### 4.2. Klassenmethoden\n",
    "\n",
    "Klassenmethoden sind Methoden, die auf die Klasse selbst und nicht auf eine bestimmte Instanz angewendet werden. Sie werden mit dem Dekorator `@classmethod` gekennzeichnet und haben als ersten Parameter `cls`, der eine Referenz auf die Klasse darstellt. Klassenmethoden werden häufig verwendet, um alternative Konstruktoren oder Fabrikmethoden zu erstellen.\n",
    "\n",
    "**Beispiel für eine Klassenmethode:**"
   ]
  },
  {
   "cell_type": "code",
   "execution_count": 4,
   "metadata": {},
   "outputs": [
    {
     "name": "stdout",
     "output_type": "stream",
     "text": [
      "2\n"
     ]
    }
   ],
   "source": [
    "class Tier:\n",
    "    anzahl_tiere = 0  # Klassenattribut\n",
    "\n",
    "    def __init__(self, name):\n",
    "        self.name = name\n",
    "        Tier.anzahl_tiere += 1  # Zähle jedes neu erstellte Tier\n",
    "\n",
    "    @classmethod\n",
    "    def get_anzahl_tiere(cls):\n",
    "        return cls.anzahl_tiere\n",
    "\n",
    "# Erstellen von Tieren\n",
    "tier1 = Tier(\"Hund\")\n",
    "tier2 = Tier(\"Katze\")\n",
    "\n",
    "# Aufrufen der Klassenmethode\n",
    "print(Tier.get_anzahl_tiere())  # Ausgabe: 2"
   ]
  },
  {
   "cell_type": "markdown",
   "metadata": {},
   "source": [
    "#### 4.3. Statische Methoden\n",
    "\n",
    "Statische Methoden sind Methoden, die keine Referenz auf das Objekt (`self`) oder die Klasse (`cls`) benötigen. Sie werden mit dem Dekorator `@staticmethod` gekennzeichnet und können unabhängig von der Klasse oder den Instanzen aufgerufen werden. Statische Methoden sind nützlich, wenn die Methode eine Funktionalität bereitstellt, die nicht direkt mit den Attributen der Klasse oder der Instanz verknüpft ist.\n",
    "\n",
    "**Beispiel für eine statische Methode:**"
   ]
  },
  {
   "cell_type": "code",
   "execution_count": 5,
   "metadata": {},
   "outputs": [
    {
     "name": "stdout",
     "output_type": "stream",
     "text": [
      "8\n"
     ]
    }
   ],
   "source": [
    "class Mathe:\n",
    "    @staticmethod\n",
    "    def addiere(a, b):\n",
    "        return a + b\n",
    "\n",
    "# Aufrufen der statischen Methode\n",
    "ergebnis = Mathe.addiere(5, 3)\n",
    "print(ergebnis)  # Ausgabe: 8"
   ]
  },
  {
   "cell_type": "markdown",
   "metadata": {},
   "source": [
    "#### 4.4. Überschreiben von Methoden (siehe Vererbung)\n",
    "\n",
    "In der objektorientierten Programmierung können Methoden in abgeleiteten Klassen überschrieben werden, um das Verhalten der geerbten Methoden zu ändern. Dies wird häufig in der Vererbung verwendet, um spezifisches Verhalten in einer Unterklasse zu implementieren.\n",
    "\n",
    "**Beispiel für das Überschreiben von Methoden:**"
   ]
  },
  {
   "cell_type": "code",
   "execution_count": 6,
   "metadata": {},
   "outputs": [
    {
     "name": "stdout",
     "output_type": "stream",
     "text": [
      "Das Auto startet mit einem Schlüssel.\n"
     ]
    }
   ],
   "source": [
    "class Fahrzeug:\n",
    "    def starten(self):\n",
    "        return \"Das Fahrzeug startet.\"\n",
    "\n",
    "class Auto(Fahrzeug):\n",
    "    def starten(self):  # Überschreiben der Methode\n",
    "        return \"Das Auto startet mit einem Schlüssel.\"\n",
    "\n",
    "# Erstellen eines Autos\n",
    "auto1 = Auto()\n",
    "\n",
    "# Aufrufen der Methode\n",
    "print(auto1.starten())  # Ausgabe: Das Auto startet mit einem Schlüssel."
   ]
  },
  {
   "cell_type": "markdown",
   "metadata": {},
   "source": [
    "### 4.5. Eigenschaften und Setter\n",
    "\n",
    "Manchmal möchten Sie den Zugriff auf die Attribute einer Klasse steuern, um sicherzustellen, dass die Attribute nur mit gültigen Werten bearbeitet werden. Dies kann mithilfe von Eigenschaften und Setter-Methoden erreicht werden.\n",
    "\n",
    "**Beispiel für Eigenschaften und Setter:**"
   ]
  },
  {
   "cell_type": "code",
   "execution_count": 7,
   "metadata": {},
   "outputs": [
    {
     "name": "stdout",
     "output_type": "stream",
     "text": [
      "Max\n",
      "Julia\n",
      "Name darf nicht leer sein.\n"
     ]
    }
   ],
   "source": [
    "class Person:\n",
    "    def __init__(self, name):\n",
    "        self._name = name  # Unterstrich zeigt an, dass es sich um ein \"privates\" Attribut handelt\n",
    "\n",
    "    @property\n",
    "    def name(self):\n",
    "        return self._name\n",
    "\n",
    "    @name.setter\n",
    "    def name(self, neuer_name):\n",
    "        if neuer_name:\n",
    "            self._name = neuer_name\n",
    "        else:\n",
    "            print(\"Name darf nicht leer sein.\")\n",
    "\n",
    "# Erstellen einer Person\n",
    "person = Person(\"Max\")\n",
    "\n",
    "# Zugriff auf die Eigenschaft\n",
    "print(person.name)  # Ausgabe: Max\n",
    "\n",
    "# Ändern des Namens\n",
    "person.name = \"Julia\"  # Name wird geändert\n",
    "print(person.name)  # Ausgabe: Julia\n",
    "\n",
    "# Versuch, einen leeren Namen zu setzen\n",
    "person.name = \"\"  # Ausgabe: Name darf nicht leer sein."
   ]
  },
  {
   "cell_type": "markdown",
   "metadata": {},
   "source": [
    "### 5. Vererbung und Polymorphismus\n",
    "\n",
    "#### 5.1. Vererbung успадкування\n",
    "\n",
    "Vererbung ermöglicht es einer Klasse, Eigenschaften und Methoden einer anderen Klasse zu übernehmen. Die Klasse, die die Eigenschaften erbt, wird als **Unterklasse** oder **abgeleitete Klasse** bezeichnet, während die Klasse, von der geerbt wird, als **Oberklasse** oder **Basisklasse** bezeichnet wird. Dies fördert die Wiederverwendbarkeit des Codes und die Schaffung hierarchischer Strukturen."
   ]
  },
  {
   "cell_type": "code",
   "execution_count": 8,
   "metadata": {},
   "outputs": [
    {
     "name": "stdout",
     "output_type": "stream",
     "text": [
      "Der Hund bellt.\n",
      "Die Katze miaut.\n"
     ]
    }
   ],
   "source": [
    "class Tier:\n",
    "    def __init__(self, name):\n",
    "        self.name = name\n",
    "\n",
    "    def sprechen(self):\n",
    "        return \"Das Tier macht ein Geräusch.\"\n",
    "\n",
    "class Hund(Tier):  # Hund erbt von Tier\n",
    "    def sprechen(self):  # Überschreiben der Methode\n",
    "        return \"Der Hund bellt.\"\n",
    "\n",
    "class Katze(Tier):  # Katze erbt von Tier\n",
    "    def sprechen(self):  # Überschreiben der Methode\n",
    "        return \"Die Katze miaut.\"\n",
    "\n",
    "# Erstellen von Objekten\n",
    "hund = Hund(\"Bello\")\n",
    "katze = Katze(\"Miez\")\n",
    "\n",
    "# Aufrufen der Methoden\n",
    "print(hund.sprechen())  # Ausgabe: Der Hund bellt.\n",
    "print(katze.sprechen())  # Ausgabe: Die Katze miaut."
   ]
  },
  {
   "cell_type": "markdown",
   "metadata": {},
   "source": [
    "In diesem Beispiel haben `Hund` und `Katze` die gemeinsame Basisklasse `Tier`. Sie erben die Methode `sprechen`, aber sie überschreiben diese Methode, um ein spezifisches Geräusch zu machen.\n",
    "\n",
    "#### 5.2. Der `super()`-Funktionsaufruf\n",
    "\n",
    "Der `super()`-Funktionsaufruf wird verwendet, um auf Methoden und Eigenschaften der Basisklasse zuzugreifen. Dies ist besonders nützlich, wenn Sie die Methode der Basisklasse innerhalb der abgeleiteten Klasse aufrufen möchten.\n",
    "\n",
    "**Beispiel für die Verwendung von `super()`:**"
   ]
  },
  {
   "cell_type": "code",
   "execution_count": 11,
   "metadata": {},
   "outputs": [
    {
     "name": "stdout",
     "output_type": "stream",
     "text": [
      "Toyota\n",
      "Corolla\n"
     ]
    }
   ],
   "source": [
    "class Fahrzeug:\n",
    "    def __init__(self, marke):\n",
    "        self.marke = marke\n",
    "\n",
    "class Auto(Fahrzeug):\n",
    "    def __init__(self, marke, model):\n",
    "        self.model = model\n",
    "        super().__init__(marke)  # Aufruf des Konstruktors der Basisklasse\n",
    "\n",
    "# Erstellen eines Autos\n",
    "auto = Auto(\"Toyota\", \"Corolla\")\n",
    "print(auto.marke)  # Ausgabe: Toyota\n",
    "print(auto.model)  # Ausgabe: Corolla"
   ]
  },
  {
   "cell_type": "markdown",
   "metadata": {},
   "source": [
    "Hier verwendet die Klasse `Auto` den `super()`-Funktionsaufruf, um den Konstruktor der Basisklasse `Fahrzeug` aufzurufen und das Attribut `marke` zu initialisieren.\n",
    "\n",
    "#### 5.3. Polymorphismus\n",
    "\n",
    "Polymorphismus bedeutet \"viele Formen\". In der OOP bezieht sich dies auf die Fähigkeit, Methoden in verschiedenen Klassen mit demselben Namen zu definieren, wobei jede Klasse ihre eigene Implementierung hat. Dies ermöglicht es, dass Objekte verschiedener Klassen auf ähnliche Weise behandelt werden können.\n",
    "\n",
    "**Beispiel für Polymorphismus:**"
   ]
  },
  {
   "cell_type": "code",
   "execution_count": 12,
   "metadata": {},
   "outputs": [
    {
     "data": {
      "text/plain": [
       "'Der Pinguin kann nicht fliegen.'"
      ]
     },
     "execution_count": 12,
     "metadata": {},
     "output_type": "execute_result"
    }
   ],
   "source": [
    "class Vogel:\n",
    "    def fliegen(self):\n",
    "        return \"Der Vogel fliegt.\"\n",
    "\n",
    "class Pinguin(Vogel):\n",
    "    def fliegen(self):  # Überschreiben der Methode\n",
    "        return \"Der Pinguin kann nicht fliegen.\"\n",
    "\n",
    "\n",
    "# Erstellen von Objekten\n",
    "vogel = Vogel()\n",
    "pinguin = Pinguin()\n",
    "\n",
    "# Aufrufen der Funktion\n",
    "vogel.fliegen()    # Ausgabe: Der Vogel fliegt.\n",
    "pinguin.fliegen()  # Ausgabe: Der Pinguin kann nicht fliegen."
   ]
  },
  {
   "cell_type": "markdown",
   "metadata": {},
   "source": [
    "In diesem Beispiel haben sowohl `Vogel` als auch `Pinguin` eine Methode namens `fliegen`, aber ihre Implementierungen unterscheiden sich. Die Funktion `tier_flug` kann beide Objekte akzeptieren und die entsprechende Methode aufrufen.\n",
    "\n",
    "#### 5.4. Mehrfache Vererbung\n",
    "\n",
    "Python unterstützt auch die mehrfache Vererbung, was bedeutet, dass eine Klasse von mehr als einer Basisklasse erben kann. Dies kann jedoch zu Komplikationen führen, insbesondere im Hinblick auf die Method Resolution Order (MRO).\n",
    "\n",
    "**Beispiel für mehrfache Vererbung:**"
   ]
  },
  {
   "cell_type": "code",
   "execution_count": 13,
   "metadata": {},
   "outputs": [
    {
     "name": "stdout",
     "output_type": "stream",
     "text": [
      "Das Gerät ist eingeschaltet.\n",
      "Das Radio sendet.\n",
      "Der Fernseher zeigt das Bild an.\n",
      "Das SmartTV streamt Inhalte.\n"
     ]
    }
   ],
   "source": [
    "class Gerät:\n",
    "    def einschalten(self):\n",
    "        return \"Das Gerät ist eingeschaltet.\"\n",
    "\n",
    "class Radio(Gerät):\n",
    "    def senden(self):\n",
    "        return \"Das Radio sendet.\"\n",
    "\n",
    "class Fernseher(Gerät):\n",
    "    def anzeigen(self):\n",
    "        return \"Der Fernseher zeigt das Bild an.\"\n",
    "\n",
    "class SmartTV(Radio, Fernseher):  # Mehrfache Vererbung\n",
    "    def streamen(self):\n",
    "        return \"Das SmartTV streamt Inhalte.\"\n",
    "\n",
    "# Erstellen eines SmartTV\n",
    "smart_tv = SmartTV()\n",
    "print(smart_tv.einschalten())  # Ausgabe: Das Gerät ist eingeschaltet.\n",
    "print(smart_tv.senden())        # Ausgabe: Das Radio sendet.\n",
    "print(smart_tv.anzeigen())      # Ausgabe: Der Fernseher zeigt das Bild an.\n",
    "print(smart_tv.streamen())      # Ausgabe: Das SmartTV streamt Inhalte."
   ]
  },
  {
   "cell_type": "markdown",
   "metadata": {},
   "source": [
    "### 6. Magische Methoden und Operatorüberladung\n",
    "\n",
    "Magische Methoden (auch als Dunder-Methoden oder spezielle Methoden bezeichnet) sind vordefinierte Methoden in Python, die es ermöglichen, das Verhalten von Objekten für bestimmte Operationen zu ändern. Diese Methoden haben spezielle Namen, die mit zwei Unterstrichen beginnen und enden, z. B. `__init__`, `__str__`, `__add__` usw. Sie ermöglichen es uns, Operatoren zu überladen und benutzerdefinierte Verhalten für unsere Objekte zu definieren.\n",
    "\n",
    "#### 6.1. Der Konstruktor `__init__`\n",
    "\n",
    "Der Konstruktor `__init__` wird automatisch aufgerufen, wenn eine neue Instanz einer Klasse erstellt wird. Hier können Sie Attribute initialisieren und erforderliche Vorbereitungen treffen."
   ]
  },
  {
   "cell_type": "code",
   "execution_count": 14,
   "metadata": {},
   "outputs": [
    {
     "name": "stdout",
     "output_type": "stream",
     "text": [
      "Max\n",
      "30\n"
     ]
    }
   ],
   "source": [
    "class Person:\n",
    "    def __init__(self, name, alter):\n",
    "        self.name = name\n",
    "        self.alter = alter\n",
    "\n",
    "# Erstellen einer Person\n",
    "person1 = Person(\"Max\", 30)\n",
    "print(person1.name)  # Ausgabe: Max\n",
    "print(person1.alter)  # Ausgabe: 30"
   ]
  },
  {
   "cell_type": "markdown",
   "metadata": {},
   "source": [
    "#### 6.2. Die `__str__`- und `__repr__`-Methoden\n",
    "\n",
    "Die Methode `__str__` wird verwendet, um eine benutzerfreundliche String-Darstellung eines Objekts zu erzeugen, während `__repr__` eine detailliertere und unmissverständliche Darstellung zurückgibt, die zur Wiederherstellung des Objekts verwendet werden kann.\n",
    "\n",
    "**Beispiel für `__str__` und `__repr__`:**"
   ]
  },
  {
   "cell_type": "code",
   "execution_count": 15,
   "metadata": {},
   "outputs": [
    {
     "name": "stdout",
     "output_type": "stream",
     "text": [
      "Toyota Corolla\n",
      "Auto(marke='Toyota', model='Corolla')\n"
     ]
    }
   ],
   "source": [
    "class Auto:\n",
    "    def __init__(self, marke, model):\n",
    "        self.marke = marke\n",
    "        self.model = model\n",
    "\n",
    "    def __str__(self):\n",
    "        return f\"{self.marke} {self.model}\"\n",
    "\n",
    "    def __repr__(self):\n",
    "        return f\"Auto(marke='{self.marke}', model='{self.model}')\"\n",
    "\n",
    "# Erstellen eines Autos\n",
    "auto = Auto(\"Toyota\", \"Corolla\")\n",
    "\n",
    "# Aufrufen der Methoden\n",
    "print(auto)         # Ausgabe: Toyota Corolla\n",
    "print(repr(auto))   # Ausgabe: Auto(marke='Toyota', model='Corolla')"
   ]
  },
  {
   "cell_type": "markdown",
   "metadata": {},
   "source": [
    "#### 6.3. Operatorüberladung\n",
    "\n",
    "Operatorüberladung ermöglicht es uns, die Funktionsweise von Operatoren wie `+`, `-`, `*`, `==` usw. für unsere benutzerdefinierten Objekte anzupassen. Dies geschieht durch die Implementierung der entsprechenden magischen Methoden.\n",
    "\n",
    "**Beispiel für die Überladung des `+`-Operators:**"
   ]
  },
  {
   "cell_type": "code",
   "execution_count": 16,
   "metadata": {},
   "outputs": [
    {
     "name": "stdout",
     "output_type": "stream",
     "text": [
      "Punkt(4, 6)\n"
     ]
    }
   ],
   "source": [
    "class Punkt:\n",
    "    def __init__(self, x, y):\n",
    "        self.x = x\n",
    "        self.y = y\n",
    "\n",
    "    def __add__(self, other):\n",
    "        return Punkt(self.x + other.x, self.y + other.y)\n",
    "\n",
    "    def __repr__(self):\n",
    "        return f\"Punkt({self.x}, {self.y})\"\n",
    "\n",
    "# Erstellen von Punkten\n",
    "punkt1 = Punkt(1, 2)\n",
    "punkt2 = Punkt(3, 4)\n",
    "\n",
    "# Überladen des + Operators\n",
    "punkt3 = punkt1 + punkt2\n",
    "print(punkt3)  # Ausgabe: Punkt(4, 6)"
   ]
  },
  {
   "cell_type": "markdown",
   "metadata": {},
   "source": [
    "#### 6.4. Weitere wichtige magische Methoden\n",
    "\n",
    "Hier sind einige weitere nützliche magische Methoden, die oft verwendet werden:\n",
    "\n",
    "-   `__len__`: Wird aufgerufen, wenn die `len()`-Funktion auf das Objekt angewendet wird.\n",
    "-   `__getitem__`: Ermöglicht den Zugriff auf Elemente mit dem Indexzugriff, z.B. `obj[0]`.\n",
    "-   `__setitem__`: Ermöglicht das Setzen von Elementen mit dem Indexzugriff, z.B. `obj[0] = value`.\n",
    "-   `__iter__`: Macht das Objekt iterierbar, sodass es in Schleifen verwendet werden kann.\n",
    "-   `__next__`: Gibt das nächste Element bei der Iteration zurück.\n",
    "\n",
    "**Beispiel für `__len__` und `__getitem__`:**"
   ]
  },
  {
   "cell_type": "code",
   "execution_count": 17,
   "metadata": {},
   "outputs": [
    {
     "name": "stdout",
     "output_type": "stream",
     "text": [
      "2\n",
      "Erstes Element\n"
     ]
    }
   ],
   "source": [
    "class Sammlung:\n",
    "    def __init__(self):\n",
    "        self.elemente = []\n",
    "\n",
    "    def add_element(self, element):\n",
    "        self.elemente.append(element)\n",
    "\n",
    "    def __len__(self):\n",
    "        return len(self.elemente)\n",
    "\n",
    "    def __getitem__(self, index):\n",
    "        return self.elemente[index]\n",
    "\n",
    "# Erstellen einer Sammlung\n",
    "sammlung = Sammlung()\n",
    "sammlung.add_element(\"Erstes Element\")\n",
    "sammlung.add_element(\"Zweites Element\")\n",
    "\n",
    "# Aufrufen von __len__ und __getitem__\n",
    "print(len(sammlung))         # Ausgabe: 2\n",
    "print(sammlung[0])           # Ausgabe: Erstes Element"
   ]
  },
  {
   "cell_type": "markdown",
   "metadata": {},
   "source": [
    "### 7. Verwendung von `isinstance()` und `issubclass()`\n",
    "\n",
    "#### `isinstance()`\n",
    "\n",
    "Die Funktion `isinstance()` wird verwendet, um zu überprüfen, ob ein Objekt eine Instanz einer bestimmten Klasse oder eines Typs ist. Dies ist besonders nützlich, um sicherzustellen, dass der Typ eines Objekts vor der Ausführung von Operationen oder Methoden, die von dieser Klasse abhängen, korrekt ist.\n",
    "\n",
    "**Syntax:**\n",
    "```python\n",
    "isinstance(obj, classinfo)\n",
    "``` \n",
    "\n",
    "-   `obj`: Das Objekt, das überprüft werden soll.\n",
    "-   `classinfo`: Eine Klasse, ein Tupel von Klassen oder Typen, gegen die das Objekt überprüft werden soll.\n",
    "\n",
    "**Beispiel:**"
   ]
  },
  {
   "cell_type": "code",
   "execution_count": 18,
   "metadata": {},
   "outputs": [
    {
     "name": "stdout",
     "output_type": "stream",
     "text": [
      "True\n",
      "True\n",
      "True\n",
      "False\n"
     ]
    }
   ],
   "source": [
    "class Tier:\n",
    "    pass\n",
    "\n",
    "class Hund(Tier):\n",
    "    pass\n",
    "\n",
    "mein_hund = Hund()\n",
    "\n",
    "print(isinstance(mein_hund, Hund))  # Ausgabe: True\n",
    "print(isinstance(mein_hund, Tier))   # Ausgabe: True\n",
    "print(isinstance(mein_hund, object)) # Ausgabe: True\n",
    "print(isinstance(mein_hund, str))    # Ausgabe: False"
   ]
  },
  {
   "cell_type": "markdown",
   "metadata": {},
   "source": [
    "Hier wird überprüft, ob `mein_hund` eine Instanz von `Hund`, `Tier` oder `object` ist, und die Ergebnisse zeigen die entsprechenden Wahrheitswerte an.\n",
    "\n",
    "#### `issubclass()`\n",
    "\n",
    "Die Funktion `issubclass()` wird verwendet, um zu überprüfen, ob eine Klasse eine Unterklasse einer anderen Klasse ist. Dies ist nützlich, um die Vererbungshierarchie zu überprüfen.\n",
    "\n",
    "**Syntax:**\n",
    "```python\n",
    "issubclass(cls, classinfo)\n",
    "``` \n",
    "\n",
    "-   `cls`: Die Klasse, die überprüft werden soll.\n",
    "-   `classinfo`: Eine Klasse oder ein Tupel von Klassen, gegen die die Überprüfung durchgeführt werden soll.\n",
    "\n",
    "**Beispiel:**"
   ]
  },
  {
   "cell_type": "code",
   "execution_count": 23,
   "metadata": {},
   "outputs": [
    {
     "name": "stdout",
     "output_type": "stream",
     "text": [
      "True\n",
      "True\n",
      "False\n"
     ]
    }
   ],
   "source": [
    "class Tier:\n",
    "    pass\n",
    "\n",
    "class Hund(Tier):\n",
    "    pass\n",
    "\n",
    "class Katze(Tier):\n",
    "    pass\n",
    "\n",
    "print(issubclass(Hund, Tier))   # Ausgabe: True\n",
    "print(issubclass(Katze, Tier))   # Ausgabe: True\n",
    "print(issubclass(Hund, Katze))    # Ausgabe: False"
   ]
  },
  {
   "cell_type": "markdown",
   "metadata": {},
   "source": [
    "In diesem Beispiel zeigt `issubclass(Hund, Tier)` an, dass `Hund` eine Unterklasse von `Tier` ist.\n",
    "\n",
    "#### Weitere nützliche Funktionen\n",
    "\n",
    "1.  **`dir()`**: Gibt eine Liste der Attribute und Methoden eines Objekts oder einer Klasse zurück.\n",
    "    \n",
    "    **Beispiel:**\n",
    "    \n",
    "    ```python\n",
    "    print(dir(Hund))\n",
    "    ``` \n",
    "    \n",
    "2.  **`type()`**: Gibt den Typ eines Objekts zurück.\n",
    "    \n",
    "    **Beispiel:**\n",
    "    \n",
    "    ```python\n",
    "    print(type(mein_hund))  # Ausgabe: <class '__main__.Hund'>\n",
    "    ``` \n",
    "    \n",
    "3.  **`help()`**: Gibt die Dokumentation für ein Objekt, eine Methode oder eine Klasse zurück.\n",
    "    \n",
    "    **Beispiel:**\n",
    "    \n",
    "    ```python\n",
    "    help(Hund)\n",
    "    ```"
   ]
  },
  {
   "cell_type": "code",
   "execution_count": 37,
   "metadata": {},
   "outputs": [],
   "source": [
    "class Dummy:\n",
    "    pass\n",
    "\n",
    "class DummyVerwaltung:\n",
    "    def __init__(self, d):\n",
    "        self.my_attrib = d\n",
    "\n",
    "\n",
    "i = 12\n",
    "dv = DummyVerwaltung(i)\n",
    "\n"
   ]
  },
  {
   "cell_type": "code",
   "execution_count": 38,
   "metadata": {},
   "outputs": [
    {
     "data": {
      "text/plain": [
       "{'my_attrib': 12}"
      ]
     },
     "execution_count": 38,
     "metadata": {},
     "output_type": "execute_result"
    }
   ],
   "source": [
    "dv.__dict__"
   ]
  },
  {
   "cell_type": "code",
   "execution_count": null,
   "metadata": {},
   "outputs": [],
   "source": []
  }
 ],
 "metadata": {
  "kernelspec": {
   "display_name": "Python 3",
   "language": "python",
   "name": "python3"
  },
  "language_info": {
   "codemirror_mode": {
    "name": "ipython",
    "version": 3
   },
   "file_extension": ".py",
   "mimetype": "text/x-python",
   "name": "python",
   "nbconvert_exporter": "python",
   "pygments_lexer": "ipython3",
   "version": "3.12.6"
  }
 },
 "nbformat": 4,
 "nbformat_minor": 2
}
