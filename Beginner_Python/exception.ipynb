{
 "cells": [
  {
   "cell_type": "markdown",
   "metadata": {},
   "source": [
    "Aufgabe 1: Division durch Null"
   ]
  },
  {
   "cell_type": "code",
   "execution_count": 1,
   "metadata": {},
   "outputs": [
    {
     "name": "stdout",
     "output_type": "stream",
     "text": [
      "5.0\n",
      "Fehler: Division durch Null ist nicht erlaubt!\n"
     ]
    }
   ],
   "source": [
    "def divide(a, b):\n",
    "    try:\n",
    "        return a / b\n",
    "    except ZeroDivisionError:\n",
    "        return \"Fehler: Division durch Null ist nicht erlaubt!\"\n",
    "\n",
    "# Test\n",
    "print(divide(10, 2))  # 5.0\n",
    "print(divide(10, 0))  # Fehler: Division durch Null ist nicht erlaubt!\n"
   ]
  },
  {
   "cell_type": "markdown",
   "metadata": {},
   "source": [
    "Aufgabe 2: Ungültige Zahleneingabe"
   ]
  },
  {
   "cell_type": "code",
   "execution_count": 2,
   "metadata": {},
   "outputs": [
    {
     "name": "stdout",
     "output_type": "stream",
     "text": [
      "123\n",
      "Fehler: Ungültige Zahleneingabe!\n"
     ]
    }
   ],
   "source": [
    "def convert_to_int(string):\n",
    "    try:\n",
    "        return int(string)\n",
    "    except ValueError:\n",
    "        return \"Fehler: Ungültige Zahleneingabe!\"\n",
    "\n",
    "# Test\n",
    "print(convert_to_int(\"123\"))  # 123\n",
    "print(convert_to_int(\"abc\"))  # Fehler: Ungültige Zahleneingabe!\n"
   ]
  },
  {
   "cell_type": "markdown",
   "metadata": {},
   "source": [
    "Aufgabe 3: Zugriff auf Listenindex"
   ]
  },
  {
   "cell_type": "code",
   "execution_count": 3,
   "metadata": {},
   "outputs": [
    {
     "name": "stdout",
     "output_type": "stream",
     "text": [
      "2\n",
      "Fehler: Ungültiger Index!\n"
     ]
    }
   ],
   "source": [
    "def access_list_element(lst, index):\n",
    "    try:\n",
    "        return lst[index]\n",
    "    except IndexError:\n",
    "        return \"Fehler: Ungültiger Index!\"\n",
    "\n",
    "# Test\n",
    "lst = [1, 2, 3]\n",
    "print(access_list_element(lst, 1))  # 2\n",
    "print(access_list_element(lst, 5))  # Fehler: Ungültiger Index!\n"
   ]
  },
  {
   "cell_type": "markdown",
   "metadata": {},
   "source": [
    "Aufgabe 4: Dictionary-Zugriff"
   ]
  },
  {
   "cell_type": "code",
   "execution_count": 4,
   "metadata": {},
   "outputs": [
    {
     "name": "stdout",
     "output_type": "stream",
     "text": [
      "1\n",
      "Fehler: Schlüssel nicht gefunden!\n"
     ]
    }
   ],
   "source": [
    "def access_dict_value(dct, key):\n",
    "    try:\n",
    "        return dct[key]\n",
    "    except KeyError:\n",
    "        return \"Fehler: Schlüssel nicht gefunden!\"\n",
    "\n",
    "# Test\n",
    "dct = {'a': 1, 'b': 2}\n",
    "print(access_dict_value(dct, 'a'))  # 1\n",
    "print(access_dict_value(dct, 'c'))  # Fehler: Schlüssel nicht gefunden!\n"
   ]
  },
  {
   "cell_type": "markdown",
   "metadata": {},
   "source": [
    "Aufgabe 5: Typüberprüfung"
   ]
  },
  {
   "cell_type": "code",
   "execution_count": 5,
   "metadata": {},
   "outputs": [
    {
     "name": "stdout",
     "output_type": "stream",
     "text": [
      "7\n",
      "Fehler: Typen sind nicht kompatibel!\n"
     ]
    }
   ],
   "source": [
    "def add_values(a, b):\n",
    "    try:\n",
    "        return a + b\n",
    "    except TypeError:\n",
    "        return \"Fehler: Typen sind nicht kompatibel!\"\n",
    "\n",
    "# Test\n",
    "print(add_values(3, 4))  # 7\n",
    "print(add_values(3, \"4\"))  # Fehler: Typen sind nicht kompatibel!\n"
   ]
  }
 ],
 "metadata": {
  "kernelspec": {
   "display_name": "Python 3",
   "language": "python",
   "name": "python3"
  },
  "language_info": {
   "codemirror_mode": {
    "name": "ipython",
    "version": 3
   },
   "file_extension": ".py",
   "mimetype": "text/x-python",
   "name": "python",
   "nbconvert_exporter": "python",
   "pygments_lexer": "ipython3",
   "version": "3.12.6"
  }
 },
 "nbformat": 4,
 "nbformat_minor": 2
}
