{
 "cells": [
  {
   "cell_type": "code",
   "execution_count": 118,
   "metadata": {},
   "outputs": [],
   "source": [
    "import re"
   ]
  },
  {
   "cell_type": "markdown",
   "metadata": {},
   "source": [
    " Write a Python program to check that a string contains only a certain set of characters (in this case a-z, A-Z and 0-9)."
   ]
  },
  {
   "cell_type": "code",
   "execution_count": 20,
   "metadata": {},
   "outputs": [
    {
     "name": "stdout",
     "output_type": "stream",
     "text": [
      "Found a match!\n"
     ]
    },
    {
     "name": "stderr",
     "output_type": "stream",
     "text": [
      "<>:2: SyntaxWarning: invalid escape sequence '\\d'\n",
      "<>:2: SyntaxWarning: invalid escape sequence '\\d'\n",
      "C:\\Users\\OlhaIshchenko\\AppData\\Local\\Temp\\ipykernel_27204\\3218372029.py:2: SyntaxWarning: invalid escape sequence '\\d'\n",
      "  if re.search('[\\d\\w^_]','ervsF6_&'):\n"
     ]
    }
   ],
   "source": [
    "#re.findall('[\\d\\w^_]','ervsF6_&')\n",
    "if re.search('[\\d\\w^_]','ervsF6_&'):\n",
    "    print('Found a match!')\n",
    "else:\n",
    "    print('Not matched!')"
   ]
  },
  {
   "cell_type": "code",
   "execution_count": 6,
   "metadata": {},
   "outputs": [
    {
     "data": {
      "text/plain": [
       "['e', 'r', 'v', 's', 'F', '6']"
      ]
     },
     "execution_count": 6,
     "metadata": {},
     "output_type": "execute_result"
    }
   ],
   "source": [
    "re.findall('[a-zA-Z0-9]','ervsF6_&')"
   ]
  },
  {
   "cell_type": "code",
   "execution_count": null,
   "metadata": {},
   "outputs": [],
   "source": [
    "def is_allowed_specific_char(string):\n",
    "    charRe = re.compile(r'[^a-zA-Z0-9]')\n",
    "    string = charRe.search(string)\n",
    "    return not bool(string)\n",
    "\n",
    "print(is_allowed_specific_char(\"ABCDEFabcdef123450\")) \n",
    "print(is_allowed_specific_char(\"*&%@#!}{\"))"
   ]
  },
  {
   "cell_type": "markdown",
   "metadata": {},
   "source": [
    "Write a Python program that matches a string that has an a followed by zero or more b's."
   ]
  },
  {
   "cell_type": "code",
   "execution_count": 51,
   "metadata": {},
   "outputs": [
    {
     "name": "stdout",
     "output_type": "stream",
     "text": [
      "Not matched\n",
      "Not matched\n",
      "Not matched\n",
      "Found a match\n",
      "Found a match\n"
     ]
    }
   ],
   "source": [
    "def text_match_ab(text):\n",
    "    if re.search('^ab*$', text):\n",
    "        print('Found a match')\n",
    "    else:\n",
    "        print('Not matched')\n",
    "text_match_ab('abdsjsbgbbb')\n",
    "text_match_ab('adsjsbgbbb')\n",
    "text_match_ab('bdsjsbgbbb')\n",
    "text_match_ab('ab')\n",
    "text_match_ab('a')"
   ]
  },
  {
   "cell_type": "code",
   "execution_count": 48,
   "metadata": {},
   "outputs": [
    {
     "name": "stdout",
     "output_type": "stream",
     "text": [
      "Not matched!\n",
      "Not matched!\n",
      "Found a match!\n",
      "Found a match!\n",
      "Found a match!\n"
     ]
    }
   ],
   "source": [
    "def text_match(text):\n",
    "        patterns = '^a(b*)$'\n",
    "        if re.search(patterns,  text):\n",
    "                return 'Found a match!'\n",
    "        else:\n",
    "                return('Not matched!')\n",
    "print(text_match(\"ac\"))\n",
    "print(text_match(\"abc\"))\n",
    "print(text_match(\"a\"))\n",
    "print(text_match(\"ab\"))\n",
    "print(text_match(\"abb\"))"
   ]
  },
  {
   "cell_type": "markdown",
   "metadata": {},
   "source": [
    "Write a Python program that matches a string that has an a followed by one or more b's."
   ]
  },
  {
   "cell_type": "code",
   "execution_count": 46,
   "metadata": {},
   "outputs": [
    {
     "name": "stdout",
     "output_type": "stream",
     "text": [
      "Found a match\n",
      "Not matched\n",
      "Not matched\n",
      "Found a match\n"
     ]
    }
   ],
   "source": [
    "def text_match_a_b(text):\n",
    "    if re.search('ab+', text):\n",
    "        print('Found a match')\n",
    "    else:\n",
    "        print('Not matched')\n",
    "text_match_a_b('adabsjsb')\n",
    "text_match_a_b('adbsjsb')\n",
    "text_match_a_b('adsjsb')\n",
    "text_match_a_b('adabbbsjsb')"
   ]
  },
  {
   "cell_type": "markdown",
   "metadata": {},
   "source": [
    "Write a Python program that matches a string that has an a followed by zero or one 'b'."
   ]
  },
  {
   "cell_type": "code",
   "execution_count": 45,
   "metadata": {},
   "outputs": [
    {
     "name": "stdout",
     "output_type": "stream",
     "text": [
      "Found a match\n",
      "Found a match\n",
      "Found a match\n",
      "Found a match\n"
     ]
    }
   ],
   "source": [
    "def text_match_a_(text):\n",
    "    if re.search('ab?', text):\n",
    "        print('Found a match')\n",
    "    else:\n",
    "        print('Not matched')\n",
    "\n",
    "text_match_a_('adabsjsb')\n",
    "text_match_a_('adbsjsb')\n",
    "text_match_a_('adsjsb')\n",
    "text_match_a_('adabbbsjsb')"
   ]
  },
  {
   "cell_type": "markdown",
   "metadata": {},
   "source": [
    "Write a Python program that matches a string that has an a followed by three 'b'."
   ]
  },
  {
   "cell_type": "code",
   "execution_count": 61,
   "metadata": {},
   "outputs": [
    {
     "name": "stdout",
     "output_type": "stream",
     "text": [
      "Not matched\n",
      "Not matched\n",
      "Not matched\n",
      "Found a match\n"
     ]
    }
   ],
   "source": [
    "def text_match_abbb(text):\n",
    "    if re.search('ab{3}?', text):\n",
    "        print('Found a match')\n",
    "    else:\n",
    "        print('Not matched')\n",
    "\n",
    "text_match_abbb('adabsjsb')\n",
    "text_match_abbb('adbsjsb')\n",
    "text_match_abbb('adsjsb')\n",
    "text_match_abbb('adabbbsjsb')"
   ]
  },
  {
   "cell_type": "markdown",
   "metadata": {},
   "source": [
    "Write a Python program that matches a string that has an a followed by two to three 'b'."
   ]
  },
  {
   "cell_type": "code",
   "execution_count": 64,
   "metadata": {},
   "outputs": [
    {
     "name": "stdout",
     "output_type": "stream",
     "text": [
      "Found a match\n",
      "Not matched\n",
      "Not matched\n",
      "Found a match\n"
     ]
    }
   ],
   "source": [
    "def text_match_abb_bbb(text):\n",
    "    if re.search('ab{2,3}?', text):\n",
    "        print('Found a match')\n",
    "    else:\n",
    "        print('Not matched')\n",
    "\n",
    "text_match_abb_bbb('adabbsjsb')\n",
    "text_match_abb_bbb('adbsjsb')\n",
    "text_match_abb_bbb('adsjsb')\n",
    "text_match_abb_bbb('adabbbsjsb')"
   ]
  },
  {
   "cell_type": "markdown",
   "metadata": {},
   "source": [
    "Write a Python program to find sequences of lowercase letters joined by an underscore."
   ]
  },
  {
   "cell_type": "code",
   "execution_count": 75,
   "metadata": {},
   "outputs": [
    {
     "name": "stdout",
     "output_type": "stream",
     "text": [
      "Not matched\n",
      "Found a match\n",
      "Not matched\n",
      "Not matched\n"
     ]
    }
   ],
   "source": [
    "def text_match_a_z(text):\n",
    "    if re.search('^[a-z]+_[a-z]+$', text):\n",
    "        print('Found a match')\n",
    "    else:\n",
    "        print('Not matched')\n",
    "\n",
    "text_match_a_z('adab_bsjsb ')\n",
    "text_match_a_z('ad_bsjsb')\n",
    "text_match_a_z('adsjsb')\n",
    "text_match_a_z('adabbbsjsb')"
   ]
  },
  {
   "cell_type": "markdown",
   "metadata": {},
   "source": [
    "Write a Python program to find the sequences of one upper case letter followed by lower case letters."
   ]
  },
  {
   "cell_type": "code",
   "execution_count": 77,
   "metadata": {},
   "outputs": [
    {
     "name": "stdout",
     "output_type": "stream",
     "text": [
      "Found a match\n",
      "Not matched\n"
     ]
    }
   ],
   "source": [
    "def text_match_A_z(text):\n",
    "    if re.findall('^[A-Z][a-z]+$', text):\n",
    "        print('Found a match')\n",
    "    else:\n",
    "        print('Not matched')\n",
    "text_match_A_z('Adsjsb, K')\n",
    "text_match_A_z('adabbbsjsb')"
   ]
  },
  {
   "cell_type": "markdown",
   "metadata": {},
   "source": [
    "9. Write a Python program that matches a string that has an 'a' followed by anything ending in 'b'."
   ]
  },
  {
   "cell_type": "code",
   "execution_count": 79,
   "metadata": {},
   "outputs": [
    {
     "name": "stdout",
     "output_type": "stream",
     "text": [
      "Not matched\n",
      "Found a match\n",
      "Not matched\n"
     ]
    }
   ],
   "source": [
    "def text_match_akb(text):\n",
    "    if re.findall('a.*b$', text):\n",
    "        print('Found a match')\n",
    "    else:\n",
    "        print('Not matched')\n",
    "text_match_akb('Adsjsb')\n",
    "text_match_akb('adabbbsjsb')\n",
    "text_match_akb('adabbbsjs')"
   ]
  },
  {
   "cell_type": "markdown",
   "metadata": {},
   "source": [
    "#### Aufgabe 1: E-Mail-Adresse prüfen"
   ]
  },
  {
   "cell_type": "code",
   "execution_count": 80,
   "metadata": {},
   "outputs": [
    {
     "name": "stdout",
     "output_type": "stream",
     "text": [
      "Gültige E-Mail-Adresse\n",
      "Ungültige E-Mail-Adresse\n"
     ]
    }
   ],
   "source": [
    "import re\n",
    "pattern = r'^[a-zA-Z0-9._%+-]+@[a-zA-Z0-9.-]+\\.[a-zA-Z]{2,}$'\n",
    "test_string_pass = \"test@example.com\"\n",
    "test_string_fail = \"test@example\"\n",
    "match = re.match(pattern, test_string_pass)\n",
    "if match:\n",
    "    print(\"Gültige E-Mail-Adresse\")\n",
    "else:\n",
    "    print(\"Ungültige E-Mail-Adresse\")\n",
    "match = re.match(pattern, test_string_fail)\n",
    "if match:\n",
    "    print(\"Gültige E-Mail-Adresse\")\n",
    "else:\n",
    "    print(\"Ungültige E-Mail-Adresse\")"
   ]
  },
  {
   "cell_type": "markdown",
   "metadata": {},
   "source": [
    "#### Aufgabe 2: Whitespace entfern"
   ]
  },
  {
   "cell_type": "code",
   "execution_count": null,
   "metadata": {},
   "outputs": [],
   "source": [
    "pattern = r'\\s+'\n",
    "test_string_pass = \"Text mit Leerzeichen\"\n",
    "result = re.sub(pattern, \"\", test_string_pass)\n",
    "print(result)\n"
   ]
  },
  {
   "cell_type": "markdown",
   "metadata": {},
   "source": [
    "#### Aufgabe 3: Prüfen ob String nur aus Zahlen besteht"
   ]
  },
  {
   "cell_type": "code",
   "execution_count": 83,
   "metadata": {},
   "outputs": [
    {
     "name": "stdout",
     "output_type": "stream",
     "text": [
      "String besteht nur aus Zahlen\n",
      "String besteht nicht nur aus Zahlen\n"
     ]
    }
   ],
   "source": [
    "# Test-Strings\n",
    "string_pass = \"12345\"\n",
    "string_fail = \"123a45\"\n",
    "pattern = r'[0-9]+$'\n",
    "\n",
    "match = re.match(pattern, string_pass)\n",
    "if match:\n",
    "    print(\"String besteht nur aus Zahlen\")\n",
    "else:\n",
    "    print(\"String besteht nicht  nur aus Zahlen\")\n",
    "match = re.match(pattern, string_fail)\n",
    "if match:\n",
    "    print(\"String besteht nur aus Zahlen\")\n",
    "else:\n",
    "    print(\"String besteht nicht nur aus Zahlen\")"
   ]
  },
  {
   "cell_type": "markdown",
   "metadata": {},
   "source": [
    "#### Aufgabe 4: Prüfen ob String nur aus Großbuchstaben besteht"
   ]
  },
  {
   "cell_type": "code",
   "execution_count": 85,
   "metadata": {},
   "outputs": [
    {
     "name": "stdout",
     "output_type": "stream",
     "text": [
      "String besteht nur aus Großbuchstaben\n",
      "String besteht nicht nur aus Großbuchstaben\n"
     ]
    }
   ],
   "source": [
    "# Test-String\n",
    "string_pass = \"ABCDEF\"\n",
    "string_fail = \"aBcdEf\"\n",
    "pattern = r'[A-Z]+$'\n",
    "\n",
    "match = re.match(pattern, string_pass)\n",
    "if match:\n",
    "    print(\"String besteht nur aus Großbuchstaben\")\n",
    "else:\n",
    "    print(\"String besteht nicht  nur aus Großbuchstaben\")\n",
    "match = re.match(pattern, string_fail)\n",
    "if match:\n",
    "    print(\"String besteht nur aus Großbuchstaben\")\n",
    "else:\n",
    "    print(\"String besteht nicht nur aus Großbuchstaben\")"
   ]
  },
  {
   "cell_type": "markdown",
   "metadata": {},
   "source": [
    "#### Aufgabe 5: Uhrzeit prüfen"
   ]
  },
  {
   "cell_type": "code",
   "execution_count": 108,
   "metadata": {},
   "outputs": [
    {
     "name": "stdout",
     "output_type": "stream",
     "text": [
      "Gültige Uhrzeit\n",
      "Ungültige Uhrzeit\n"
     ]
    }
   ],
   "source": [
    "# Test-String\n",
    "string_pass = \"23:59\"\n",
    "string_fail = \"24:60\"\n",
    "\n",
    "def gultig_uhrzeit(text):\n",
    "    pattern = r'[0-1][0-9]|2[0-3]:[0-5][0-9]$'\n",
    "    match = re.match(pattern, text)\n",
    "    if match:\n",
    "        print(\"Gültige Uhrzeit\")\n",
    "    else:\n",
    "        print(\"Ungültige Uhrzeit\")\n",
    "gultig_uhrzeit(string_pass)\n",
    "gultig_uhrzeit(string_fail)\n"
   ]
  },
  {
   "cell_type": "markdown",
   "metadata": {},
   "source": [
    "#### Aufgabe 6: IP-Adresse auf Gültigkeit prüfen"
   ]
  },
  {
   "cell_type": "code",
   "execution_count": 110,
   "metadata": {},
   "outputs": [
    {
     "name": "stdout",
     "output_type": "stream",
     "text": [
      "Gültige IP-Adresse\n",
      "Ungültige IP-Adresse\n",
      "1.2.3.266\n",
      "Ungültige IP-Adresse\n"
     ]
    }
   ],
   "source": [
    "# Test-String\n",
    "# string_pass = \"192.168.1.1\"\n",
    "# string_fail = \"999.999.999.999\"\n",
    "\n",
    "def gultig_ip_adresse(text):\n",
    "    pattern = r'^(25[0-5]|2[0-4][0-9]|[01]?[0-9][0-9]?)\\.(25[0-5]|2[0-4][0-9]|[01]?[0-9][0-9]?)\\.(25[0-5]|2[0-4][0-9]|[01]?[0-9][0-9]?)\\.(25[0-5]|2[0-4][0-9]|[01]?[0-9][0-9]?)$'\n",
    "    match = re.match(pattern, text)\n",
    "    if match:\n",
    "        print(\"Gültige IP-Adresse\")\n",
    "    else:\n",
    "        print(\"Ungültige IP-Adresse\")\n",
    "#gultig_ip_adresse(string_pass)\n",
    "#gultig_ip_adresse(string_fail)\n",
    "ip_ad=input('input ip adresse')\n",
    "print(ip_ad)\n",
    "gultig_ip_adresse(ip_ad)"
   ]
  },
  {
   "cell_type": "markdown",
   "metadata": {},
   "source": [
    "#### Aufgabe 7a: Prüfen ob String gültiges Datum enthält"
   ]
  },
  {
   "cell_type": "code",
   "execution_count": null,
   "metadata": {},
   "outputs": [
    {
     "name": "stdout",
     "output_type": "stream",
     "text": [
      "1.1.2024\n",
      "Gültige Datum\n"
     ]
    }
   ],
   "source": [
    "# Test-String\n",
    "# string_pass = \"31.12.2024\"\n",
    "# string_fail = \"32.11.2024\"\n",
    "# r'([0-2][0-9]|3[01]|0?[1-9])\\.(0?[1-9]|1[0-2])\\.2024$'\n",
    "# r'(3[01]|[0-2][0-9]|0?[1-9])\\.(1[0-2]|0?[1-9])\\.2024$'\n",
    "def gultig_datum(text):\n",
    "    pattern = r'(3[01]|[0-2][0-9]|0?[1-9])\\.(1[0-2]|0?[1-9])\\.2024$'\n",
    "    match = re.match(pattern, text)\n",
    "    if match:\n",
    "        print(\"Gültige Datum\")\n",
    "    else:\n",
    "        print(\"Ungültige Datum\")\n",
    "# gultig_datum(string_pass)\n",
    "# gultig_datum(string_fail)\n",
    "datum=input('input datum tag.monat.jahr')\n",
    "print(datum)\n",
    "gultig_datum(datum)"
   ]
  },
  {
   "cell_type": "markdown",
   "metadata": {},
   "source": [
    "#### Aufgabe 7b: Prüfen ob String gültiges Datum enthält"
   ]
  },
  {
   "cell_type": "code",
   "execution_count": 135,
   "metadata": {},
   "outputs": [
    {
     "name": "stdout",
     "output_type": "stream",
     "text": [
      "Gültige Datum\n",
      "Ungültige Datum\n"
     ]
    }
   ],
   "source": [
    "# Test-String\n",
    "string_pass = \"2024-12-31\"\n",
    "string_fail = \"2024-13-11\"\n",
    "def gultig_datum(text):\n",
    "    pattern = r'2024-(1[0-2]|0?[1-9])-(3[01]|[0-2][0-9]|0?[1-9])$'\n",
    "    match = re.match(pattern, text)\n",
    "    if match:\n",
    "        print(\"Gültige Datum\")\n",
    "    else:\n",
    "        print(\"Ungültige Datum\")\n",
    "gultig_datum(string_pass)\n",
    "gultig_datum(string_fail)\n"
   ]
  },
  {
   "cell_type": "markdown",
   "metadata": {},
   "source": [
    "#### Aufgabe 7c: Prüfen ob String gültiges Datum enthält (ein Ausdruck soll alle gültigen finden)"
   ]
  },
  {
   "cell_type": "code",
   "execution_count": null,
   "metadata": {},
   "outputs": [],
   "source": [
    "# Test-String\n",
    "string_pass1 = \"2024-12-31\"\n",
    "string_fail1 = \"2024-13-11\"\n",
    "string_pass2 = \"4.2.2024\"\n",
    "string_fail2 = \"1.0.2024\"\n",
    "def aufg7c(date):\n",
    "    pattern = r'^(\\d{1,}-(0?[1-9]|1[0-2])-(0?[1-9]|[12][0-9]|3[01]))|((0?[1-9]|[12][0-9]|3[01])\\.(0?[1-9]|1[0-2])\\.(\\d+))$'\n",
    "    return re.match(pattern, date) is not None\n"
   ]
  },
  {
   "cell_type": "markdown",
   "metadata": {},
   "source": [
    "#### Aufgabe 8: Duplikate entfernen (sub)"
   ]
  },
  {
   "cell_type": "code",
   "execution_count": 124,
   "metadata": {},
   "outputs": [
    {
     "name": "stdout",
     "output_type": "stream",
     "text": [
      "Text  mit  doppelt Leerzeichen\n",
      "Text mit doppelt Leerzeichen\n"
     ]
    }
   ],
   "source": [
    "# Test-String\n",
    "# string_pass = \"Text mit doppelt Leerzeichen\"\n",
    "def duplikate_entfernen(text):\n",
    "    x = re.sub(\"\\\\s\\\\s\", \" \", text)\n",
    "    return print(x)\n",
    "\n",
    "# gultig_datum(string_pass)\n",
    "# gultig_datum(string_fail)\n",
    "datum = \"Text  mit  doppelt Leerzeichen\"\n",
    "print(datum)\n",
    "duplikate_entfernen(datum)"
   ]
  },
  {
   "cell_type": "markdown",
   "metadata": {},
   "source": [
    "#### Aufgabe 9: Vokale zählen (findall)"
   ]
  },
  {
   "cell_type": "code",
   "execution_count": 128,
   "metadata": {},
   "outputs": [
    {
     "name": "stdout",
     "output_type": "stream",
     "text": [
      "3\n",
      "0\n"
     ]
    }
   ],
   "source": [
    "# Test-String\n",
    "string_mit_Vokalen = \"Hallo Welt\"\n",
    "string_ohne_Vokale = \"Hll Wlt\"\n",
    "def vokale_zaelen(text):\n",
    "    x = re.findall(r'[aoueyüä]', text)\n",
    "    return print(len(x))\n",
    "vokale_zaelen(string_mit_Vokalen)\n",
    "vokale_zaelen(string_ohne_Vokale)"
   ]
  },
  {
   "cell_type": "markdown",
   "metadata": {},
   "source": [
    "#### Aufgabe 10: Wörter mit Ziffern suchen (findall)"
   ]
  },
  {
   "cell_type": "code",
   "execution_count": 130,
   "metadata": {},
   "outputs": [
    {
     "name": "stdout",
     "output_type": "stream",
     "text": [
      "['abc123', '45xyz']\n"
     ]
    }
   ],
   "source": [
    "# Test-String\n",
    "string_pass = \"abc123 test 45xyz keineZiffern\"\n",
    "def woerter_mit_ziffern(text):\n",
    "    x = re.findall(r'[a-zA-Z]*[0-9]+[a-zA-Z]*', text)\n",
    "    return print(x)\n",
    "woerter_mit_ziffern(string_pass)\n"
   ]
  },
  {
   "cell_type": "markdown",
   "metadata": {},
   "source": [
    "#### Aufgabe 11: Zeilenumbruch entfernen (sub)"
   ]
  },
  {
   "cell_type": "code",
   "execution_count": 133,
   "metadata": {},
   "outputs": [
    {
     "name": "stdout",
     "output_type": "stream",
     "text": [
      "Zeile 1\n",
      "Zeile 2\n",
      "Zeile 1 Zeile 2\n"
     ]
    }
   ],
   "source": [
    "# Test-String\n",
    "string = \"Zeile 1\\nZeile 2\"\n",
    "def zeilenumbruch_entfernen(text):\n",
    "    x = re.sub(\"\\\\n\", \" \", text)\n",
    "    return print(x)\n",
    "print(string)\n",
    "zeilenumbruch_entfernen(string)"
   ]
  }
 ],
 "metadata": {
  "kernelspec": {
   "display_name": "Python 3",
   "language": "python",
   "name": "python3"
  },
  "language_info": {
   "codemirror_mode": {
    "name": "ipython",
    "version": 3
   },
   "file_extension": ".py",
   "mimetype": "text/x-python",
   "name": "python",
   "nbconvert_exporter": "python",
   "pygments_lexer": "ipython3",
   "version": "3.12.6"
  }
 },
 "nbformat": 4,
 "nbformat_minor": 2
}
