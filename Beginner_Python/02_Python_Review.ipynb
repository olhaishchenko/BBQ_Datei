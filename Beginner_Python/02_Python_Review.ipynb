{
 "cells": [
  {
   "cell_type": "markdown",
   "id": "61170956",
   "metadata": {},
   "source": [
    "# Python Review\n",
    "\n",
    "Hier wollen wir Beispiele zu den Grundlagen von Python notieren:\n",
    "\n",
    "1. Datentypen"
   ]
  },
  {
   "cell_type": "code",
   "execution_count": 14,
   "id": "f642d571",
   "metadata": {},
   "outputs": [
    {
     "name": "stdout",
     "output_type": "stream",
     "text": [
      "(3+4j)\n",
      "False\n",
      "False\n",
      "False\n",
      "True\n"
     ]
    }
   ],
   "source": [
    "# hier bitte Beispiele für Datentypen in Python wiederholen\n",
    "# int\n",
    "5\n",
    "# float\n",
    "5.5\n",
    "# komplexe Zahlen (a+b) * (a+b) = a^2 + 2*ab + b^2\n",
    "c = 2+1j # (2 + 1j) * (2 + 1j) = 2*2 + 2*1j + 2*1j + 1j*1j  = 4 + 2j + 2j + (-1) 3 + 4j\n",
    "print((c*c))\n",
    "\n",
    "# Bool'sche werte\n",
    "True\n",
    "False\n",
    "print(bool(0))\n",
    "print(bool(None))\n",
    "print(None==0)\n",
    "print(bool(1))"
   ]
  },
  {
   "cell_type": "markdown",
   "id": "0505f78b",
   "metadata": {},
   "source": [
    " a | b | a and b\n",
    "---|---|--------\n",
    " 0 | 0 | False\n",
    " 0 | 1 | False\n",
    " 1 | 0 | False\n",
    " 1 | 1 | True\n",
    " \n",
    "\n",
    " a | b | a or b\n",
    "---|---|-------\n",
    " 0 | 0 | False\n",
    " 0 | 1 | True\n",
    " 1 | 0 | True\n",
    " 1 | 1 | True\n",
    " \n",
    " \n",
    " a | not a\n",
    "---|-------\n",
    " 0 | True\n",
    " 1 | False\n",
    " \n",
    " \n",
    " [Logik-Spiel](https://logictraffic.ch/)\n",
    " \n",
    " \n",
    " Anwendung des Distributionsgesetzes :\n",
    " \n",
    " a | b | c | a ^ (b v c) | (a ^ b) | (a ^ c) | (a ^ b) v (a ^ c)\n",
    " --|---|---|-------------|---------|---------|------------------\n",
    " 0 | 0 | 0 |     0   |  0  |  0  |       0      \n",
    " 0 | 0 | 1 |        |    |    |            \n",
    " 0 | 1 | 0 |        |    |    |             \n",
    " 0 | 1 | 1 |        |    |    |             \n",
    " 1 | 0 | 0 |        |    |    |             \n",
    " 1 | 0 | 1 |         |    |     |      \n",
    " 1 | 1 | 0 |         |     |    |              \n",
    " 1 | 1 | 1 |         |     |     |              \n",
    " \n",
    " [Regeln zur Aussagenlogik](https://www.massmatics.de/merkzettel/index.php#!1332:Rechenregeln_Logik)\n",
    " \n",
    " "
   ]
  },
  {
   "cell_type": "markdown",
   "id": "d3720ed1",
   "metadata": {},
   "source": [
    "### Aufgabe 1 Gegeben seien die folgenden Aussagen:\n",
    "<p>\n",
    "A: Es ist eiskalt.<br/>\n",
    "B: Es schneit.\n",
    "</p>\n",
    "<p>\n",
    "Drücken Sie die nachfolgenden Sätze als aussagenlogische Formeln mit Hilfe der Aussagenvariablen A und B aus. \n",
    "Geben Sie außerdem für jede der Formeln die zugehörige\n",
    "Wahrheitstafel an und kennzeichnen Sie die erfüllenden bzw. widerlegenden Variablenbelegungen als solche.\n",
    "</p>\n",
    "\n",
    "(a) Es ist eiskalt und es schneit.<br/>\n",
    "(b) Es ist eiskalt, aber es schneit nicht.<br/>\n",
    "(c) Es ist nicht eiskalt und es schneit nicht.<br/>\n",
    "(d) Entweder es schneit oder es ist eiskalt (oder beides).<br/>\n",
    "(e) Entweder es schneit oder es ist eiskalt, aber es schneit nicht, wenn es eiskalt ist.<br/>\n",
    "\n",
    "\n",
    "**Lösung**\n",
    "\n",
    "(a) A: Es ist eiskalt   B: Es schneit<br/>    ****<br/>\n",
    "(b) A: Es ist eiskalt   B: Es schneit<br/>   ****<br/>\n",
    "(c) A: Es ist eiskalt   B: Es schneit<br/>   **** <br/>\n",
    "(d) A: Es ist eiskalt   B: Es schneit<br/>   **** <br/>\n",
    "(e) A: Es ist eiskalt   B: Es schneit<br/>   **** <br/>\n",
    " \n",
    "    (A^¬B) v (¬A^B)  Frage, : wie Implikation mit und , oder , nicht ersetzen\n",
    "    \n",
    "    "
   ]
  },
  {
   "cell_type": "markdown",
   "id": "e65e6411",
   "metadata": {},
   "source": [
    "### Aufgabe 2\n",
    "\n",
    "Gegeben ist die folgende Wahrheitstafel\n",
    "\n",
    " A | B | (a) | (b) | (c)\n",
    "---|---|-----|-----|-----\n",
    " 0 | 0 |  1  |  1  |  0\n",
    " 0 | 1 |  0  |  0  |  1\n",
    " 1 | 0 |  1  |  0  |  0\n",
    " 1 | 1 |  1  |  1  |  0\n",
    " \n",
    " Finden Sie entsprechende Formeln für (a), (b) und (c) , die nur ^ , v und ¬ enthalten\n",
    " \n",
    " **(a)**   <br/> \n",
    " **(b)**  <br/>\n",
    " **(c)**  <br/>"
   ]
  },
  {
   "cell_type": "markdown",
   "id": "cebc39ea",
   "metadata": {},
   "source": [
    "### XOR erkunden in Python"
   ]
  },
  {
   "cell_type": "code",
   "execution_count": 2,
   "id": "ac815d48",
   "metadata": {},
   "outputs": [
    {
     "name": "stdout",
     "output_type": "stream",
     "text": [
      "True\n"
     ]
    }
   ],
   "source": [
    "# Bitweises XOR\n",
    "A = bool(1)\n",
    "B = bool(0)\n",
    "\n",
    "print(A ^ B) # bitte nicht verwirren lassen, in Python ist ^ Zeichen füer XOR"
   ]
  },
  {
   "cell_type": "code",
   "execution_count": 3,
   "id": "21aba8fb",
   "metadata": {},
   "outputs": [
    {
     "name": "stdout",
     "output_type": "stream",
     "text": [
      "6\n"
     ]
    }
   ],
   "source": [
    "A = 3   # 0b011\n",
    "B = 5   # 0b101\n",
    "\n",
    "print(A ^ B) # 0b110"
   ]
  },
  {
   "cell_type": "code",
   "execution_count": 4,
   "id": "d2a711f1",
   "metadata": {},
   "outputs": [
    {
     "name": "stdout",
     "output_type": "stream",
     "text": [
      "4\n"
     ]
    }
   ],
   "source": [
    "A = bool(3)  # True\n",
    "B = 5\n",
    "\n",
    "print(A ^ B)"
   ]
  },
  {
   "cell_type": "markdown",
   "id": "3883ec9d",
   "metadata": {},
   "source": [
    "### Wahrheitstabelle XOR\n",
    "\n",
    " A | B | A XOR B\n",
    "---|---|--------\n",
    " 0 | 0 |    0\n",
    " 0 | 1 |    1\n",
    " 1 | 0 |    1\n",
    " 1 | 1 |    0\n",
    " \n",
    " Gesucht die Disjunktive Normalform (DNF) : <br/>\n",
    " Hinweis :    (Windows) ALT+170 ,(MacOS) Option+Shift+1   : ¬ <br/>\n",
    " **Lösung ?**<br/>"
   ]
  },
  {
   "cell_type": "code",
   "execution_count": 12,
   "id": "926cb5d9",
   "metadata": {},
   "outputs": [
    {
     "name": "stdout",
     "output_type": "stream",
     "text": [
      "False\n",
      "True\n",
      "True\n",
      "False\n",
      "True\n",
      "True\n"
     ]
    }
   ],
   "source": [
    "# Python-Funktion, die die XOR-Verknüpfung für zwei Werte bestimmt\n",
    "# Ergebnis soll ein bool-Wert sein\n",
    "# Parameter a, b  können vom Typ bool sein (True, False) oder 0 oder 1\n",
    "# def xor(a, b):\n",
    "    # pass\n",
    "\n",
    "def xor(a, b):\n",
    "    return    # hier bitte die Lösung implementieren\n",
    "\n",
    "\n",
    "# Teste mit\n",
    "print(xor(0,0)) # False\n",
    "print(xor(0,1)) # True\n",
    "print(xor(1,0)) # True\n",
    "print(xor(1,1)) # False\n",
    "\n",
    "print(xor(False, 1)) # True\n",
    "print(xor(0, True))  # True"
   ]
  },
  {
   "cell_type": "code",
   "execution_count": 13,
   "id": "72feb2e2",
   "metadata": {},
   "outputs": [
    {
     "name": "stdout",
     "output_type": "stream",
     "text": [
      "True\n",
      "False\n",
      "False\n",
      "False\n",
      "False\n"
     ]
    }
   ],
   "source": [
    "# NOR implementieren\n",
    "def nor(a,b):\n",
    "    return       # hier bitte dieLösung implementieren\n",
    "    \n",
    "print(nor(0,0)) # True\n",
    "print(nor(1,0)) # False\n",
    "print(nor(0,1)) # False\n",
    "print(nor(1,1)) # False\n",
    "print(nor(7,True)) # False"
   ]
  },
  {
   "cell_type": "code",
   "execution_count": null,
   "id": "efe54846",
   "metadata": {},
   "outputs": [],
   "source": [
    "# NAND implementieren\n",
    "def nand(a,b):\n",
    "    return     # hier bitte die Lösung implementieren"
   ]
  },
  {
   "cell_type": "markdown",
   "id": "8e8c0028",
   "metadata": {},
   "source": [
    "[Video zum Thema Boolsche Algebra](https://studyflix.de/informatik/boolesche-algebra-977)\n",
    "[Video zum Thema DeMorgan'sche Regel](https://studyflix.de/informatik/de-morgansche-gesetze-979)"
   ]
  },
  {
   "cell_type": "markdown",
   "id": "9d829c3f",
   "metadata": {},
   "source": [
    "2. Deklaration von Variablen"
   ]
  },
  {
   "cell_type": "code",
   "execution_count": 30,
   "id": "149ecf65",
   "metadata": {},
   "outputs": [
    {
     "name": "stdout",
     "output_type": "stream",
     "text": [
      "<class 'int'>\n",
      "<class 'str'>\n",
      "5.0\n",
      "None\n",
      "15.0\n",
      "gib was ein : 10\n",
      "<class 'int'>\n"
     ]
    }
   ],
   "source": [
    "# hier bitte Variablen im Beispiel nutzen\n",
    "a = 10               # Autotypisierung\n",
    "print(type(a))\n",
    "\n",
    "a = \"Hallo\"\n",
    "print(type(a))\n",
    "\n",
    "def teile(zaehler, nenner):\n",
    "    if type(zaehler) == int and type(nenner) == int:  \n",
    "        return zaehler/nenner\n",
    "\n",
    "print(teile(10,2)) # 5.0 , weil Python generel mit fließpunktzahlen rechnet\n",
    "print(teile(10,a))\n",
    "\n",
    "print(10+5.0) # float \"gewinnt\"\n",
    "\n",
    "#Eingabe durch Benutzer \n",
    "a = int(input('gib was ein : '))\n",
    "print(type(a))"
   ]
  },
  {
   "cell_type": "code",
   "execution_count": 38,
   "id": "251b5816",
   "metadata": {},
   "outputs": [
    {
     "name": "stdout",
     "output_type": "stream",
     "text": [
      "10 <class 'int'>\n"
     ]
    }
   ],
   "source": [
    "a = int(10.7) # kein Runden !\n",
    "print(a, type(a))"
   ]
  },
  {
   "cell_type": "code",
   "execution_count": 41,
   "id": "486efdcf",
   "metadata": {},
   "outputs": [
    {
     "name": "stdout",
     "output_type": "stream",
     "text": [
      "1991218823696\n",
      "1991218823696\n",
      "1991218823696\n",
      "1991218823760\n"
     ]
    }
   ],
   "source": [
    "a = 10\n",
    "b = 10\n",
    "\n",
    "print(id(a))\n",
    "print(id(b))\n",
    "print(id(10))\n",
    "\n",
    "b = 12\n",
    "print(id(b))"
   ]
  },
  {
   "cell_type": "code",
   "execution_count": 44,
   "id": "4e202ab2",
   "metadata": {},
   "outputs": [
    {
     "name": "stdout",
     "output_type": "stream",
     "text": [
      "1991260016432\n",
      "1991260016432\n",
      "1991260016432\n",
      "1991301711920\n"
     ]
    }
   ],
   "source": [
    "a = '10'\n",
    "b = '10'\n",
    "\n",
    "print(id(a))\n",
    "print(id(b))\n",
    "print(id('10'))\n",
    "\n",
    "b = '12'\n",
    "print(id(b))"
   ]
  },
  {
   "cell_type": "code",
   "execution_count": 66,
   "id": "47628334",
   "metadata": {},
   "outputs": [
    {
     "name": "stdout",
     "output_type": "stream",
     "text": [
      "3.14\n"
     ]
    }
   ],
   "source": [
    "# Konstanten nur Programmierkonvention\n",
    "# Variablen, deren Name nur aus Großbuchstaben besteht,\n",
    "# werden \n",
    "PI = 3.14\n",
    "\n",
    "\n",
    "print(PI)"
   ]
  },
  {
   "cell_type": "raw",
   "id": "c2013955",
   "metadata": {},
   "source": [
    "3. Arithmetische Operatoren"
   ]
  },
  {
   "cell_type": "code",
   "execution_count": 56,
   "id": "756adda4",
   "metadata": {},
   "outputs": [
    {
     "name": "stdout",
     "output_type": "stream",
     "text": [
      "9\n",
      "1\n",
      "20\n",
      "1.25\n",
      "1\n",
      "1\n",
      "625\n",
      "1\n",
      "5\n",
      "4\n",
      "80\n",
      "5\n",
      "2\n"
     ]
    }
   ],
   "source": [
    "# hier Beispiele für die Nutzung von mathematischen Operatoren\n",
    "# + - * / % // **\n",
    "print(5 + 4)   # 9\n",
    "print(5 - 4) # 1\n",
    "print(5 * 4) # 20\n",
    "print(5 / 4) # 1.25\n",
    "print(5 % 4) # 1\n",
    "print(5 // 4) # 1\n",
    "print(5 ** 4) # 625\n",
    "\n",
    "# Bit-Operatoren\n",
    "print(5 ^ 4)  # Bit-weises XOR 0b101 ^ 0b100 = 0b001 also 1\n",
    "print(5 | 4)  # Bit-weises OR  0b101 | 0b100 = 0b101 also 5\n",
    "print(5 & 4)  # Bit-weises AND 0b101 & 0b100 = 0b100 also 4\n",
    "print(5 << 4) # Bit-Shift nach links  0b1010000 = 80\n",
    "print(80 >> 4)# Bit-Shift nach rechts 0b0000101 = 5\n",
    "print(5 >> 1) # \"ganzzahlige Halbierung\" = 2"
   ]
  },
  {
   "cell_type": "code",
   "execution_count": 59,
   "id": "530a9502",
   "metadata": {},
   "outputs": [
    {
     "name": "stdout",
     "output_type": "stream",
     "text": [
      "gib mal a: 5\n",
      "gib mal b: 4\n",
      "Operator: +\n",
      "9\n"
     ]
    }
   ],
   "source": [
    "# UPN-Taschenrechner : \n",
    "a = int(input('gib mal a: '))\n",
    "b = int(input('gib mal b: '))\n",
    "op = input('Operator: ')\n",
    "\n",
    "\n",
    "if op == '+':\n",
    "    print(a + b)\n",
    "elif op == '-':\n",
    "    print(a - b)\n",
    "    \n",
    "# Alternative print(eval(f'{a} {op} {b}'))"
   ]
  },
  {
   "cell_type": "markdown",
   "id": "39040f67",
   "metadata": {},
   "source": [
    "4. Vergleichsoperatoren\n",
    "\n",
    "- <\n",
    "- >\n",
    "- <=\n",
    "- >=\n",
    "- ==\n",
    "- !="
   ]
  },
  {
   "cell_type": "markdown",
   "id": "1fdb1411",
   "metadata": {},
   "source": [
    "5. Identitätsoperatoren\n",
    "\n",
    "- is\n",
    "- is not"
   ]
  },
  {
   "cell_type": "markdown",
   "id": "37510744",
   "metadata": {},
   "source": [
    "6. Zuweisungsoperatoren\n",
    "\n",
    "- =\n",
    "- %=  \n",
    "```python \n",
    "   # 5 modulo 4\n",
    "   a=5\n",
    "   a %= 4 # a = a % 4 \n",
    "```\n",
    "\n",
    "- /=    ```a /= 2   # a = a / 2```\n",
    "- //=   ```a //= 2   # a = a // 2```\n",
    "- -=    ```a -= 2  # a = a - 2```\n",
    "- +=    ```a += 2  # a = a + 2```\n",
    "- *=    ```a *= 2  # a = a * 2```\n",
    "- \\*\\*=   ```a **= 2  # a = a ** 2```\n"
   ]
  },
  {
   "cell_type": "markdown",
   "id": "2f062dfb",
   "metadata": {},
   "source": [
    "7. Mitgliedsoperatoren\n",
    "\n",
    "- in \n",
    "```python\n",
    "   f = [1,2,3]\n",
    "   print( 1 in f )  # True\n",
    "\n",
    "   for i in f:\n",
    "        print(i, end=':') # 1:2:3: \n",
    "```\n",
    "    \n",
    "- not in\n",
    "```python\n",
    "   f = [1,2,3]\n",
    "   print( 1 not in f ) # False\n",
    "```"
   ]
  },
  {
   "cell_type": "markdown",
   "id": "0191e28f",
   "metadata": {},
   "source": [
    "8. Unäre Operatoren (Operatoren mit nur einem Operanden)\n",
    "\n",
    "- \"-\" ```a = -4```\n",
    "- \"+\" ```a = +4```\n",
    "- \"~\" Komplement-Operator "
   ]
  },
  {
   "cell_type": "code",
   "execution_count": 64,
   "id": "550bb727",
   "metadata": {},
   "outputs": [
    {
     "name": "stdout",
     "output_type": "stream",
     "text": [
      "-3\n",
      "1\n"
     ]
    }
   ],
   "source": [
    "print(~2) # 2 = 0b10   ~0b00000010 =  0b11111101 = -128 +        64+32+16+8+4+0+1 = -3\n",
    "\n",
    "# Recherche 1er-Komplement\n",
    "\n",
    "\n",
    "\n",
    "# ~a = -a - 1\n",
    "\n",
    "# a = 2\n",
    "# ~a = -2 - 1 = -3\n",
    "\n",
    "# a = -2\n",
    "# ~a = -(-2) - 1 = 2 - 1 = 1\n",
    "print(~(-2))     #  ~0b11111110 = 0b00000001\n",
    "\n"
   ]
  },
  {
   "cell_type": "markdown",
   "id": "99f548ad",
   "metadata": {},
   "source": [
    "[Video zum Thema 1er- und 2er-Komplement auf Englisch](https://www.youtube.com/watch?v=4qH4unVtJkE)\n",
    "\n",
    "Studyflix:\n",
    "[Video zum Thema 2er Komplement auf Deutsch](https://studyflix.de/informatik/zweierkomplement-1781)"
   ]
  }
 ],
 "metadata": {
  "hide_input": false,
  "kernelspec": {
   "display_name": "Python 3 (ipykernel)",
   "language": "python",
   "name": "python3"
  },
  "language_info": {
   "codemirror_mode": {
    "name": "ipython",
    "version": 3
   },
   "file_extension": ".py",
   "mimetype": "text/x-python",
   "name": "python",
   "nbconvert_exporter": "python",
   "pygments_lexer": "ipython3",
   "version": "3.10.0"
  }
 },
 "nbformat": 4,
 "nbformat_minor": 5
}
