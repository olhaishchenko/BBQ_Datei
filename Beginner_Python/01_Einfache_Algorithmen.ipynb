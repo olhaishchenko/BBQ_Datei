{
 "cells": [
  {
   "attachments": {
    "image.png": {
     "image/png": "[encoded data removed]"
    }
   },
   "cell_type": "markdown",
   "id": "7c82bddf",
   "metadata": {},
   "source": [
    "## Unbekannter iterativer Algorithmus\n",
    "\n",
    "Implementieren Sie den im folgenden Struktogramm dargestellten Algorithmus in Python.\n",
    "\n",
    "Der Benutzer muss den Wert für **n als ganze Zahl** eingeben,\n",
    "\n",
    "![image.png](attachment:image.png)\n",
    "\n",
    "Geben Sie das Ergebnis aus!\n",
    "\n",
    "Was berechnet der Algorithmus ?"
   ]
  },
  {
   "cell_type": "code",
   "execution_count": 2,
   "id": "b6c23f4e",
   "metadata": {},
   "outputs": [
    {
     "data": {
      "text/plain": [
       "120"
      ]
     },
     "execution_count": 2,
     "metadata": {},
     "output_type": "execute_result"
    }
   ],
   "source": [
    "# Fügen Sie den Python-Code hier ein !\n",
    "n = int(input(\"enter number n: \"))\n",
    "z = 1\n",
    "e = 1\n",
    "while z <= n:\n",
    "    e *= z\n",
    "    z += 1\n",
    "e"
   ]
  },
  {
   "cell_type": "markdown",
   "id": "773967c7",
   "metadata": {},
   "source": [
    "## Fibonacci-Folge\n",
    "\n",
    "Erstellen Sie mit **structorizer** ein Struktogramm für den folgenden Algorithmus (Pseudo-Code, umgangssprachlich).\n",
    "\n",
    "```\n",
    "wiederhole die Eingabe für n bis n > 2 ist\n",
    "    falls n <= 2 eingeben wurde\n",
    "        Ausgabe Fehlermeldung 'Geben Sie einen Wert größer als 2 ein.'\n",
    "initialisiere a mit 0\n",
    "initialisiere b mit 1\n",
    "initiaisiere ergebnis als leeres Feld\n",
    "solange n > 0\n",
    "    f := a\n",
    "    füge f an das Ende des Feldes ergebnis\n",
    "    a := b\n",
    "    b := b + f\n",
    "    dekrementiere n um 1\n",
    "Ausgabe ergebnis\n",
    "```\n",
    "\n",
    "Für mehr Informationen zur Fibonacci-Folge siehe https://de.wikipedia.org/wiki/Fibonacci-Folge."
   ]
  },
  {
   "cell_type": "markdown",
   "id": "89c3440d",
   "metadata": {},
   "source": [
    "## Struktogramm\n",
    "\n",
    "Fügen Sie hier das Struktogramm als Bild ein:\n",
    "\n"
   ]
  },
  {
   "cell_type": "markdown",
   "id": "61c1c565",
   "metadata": {},
   "source": [
    "## Implementieren Sie den Algorithmus in Python"
   ]
  },
  {
   "cell_type": "code",
   "execution_count": 15,
   "id": "a4d68d5a",
   "metadata": {},
   "outputs": [
    {
     "name": "stdout",
     "output_type": "stream",
     "text": [
      "Geben Sie einen Wert größer als 2 ein\n",
      "Geben Sie einen Wert größer als 2 ein\n",
      "Geben Sie einen Wert größer als 2 ein\n"
     ]
    },
    {
     "data": {
      "text/plain": [
       "[0, 1, 1, 2]"
      ]
     },
     "execution_count": 15,
     "metadata": {},
     "output_type": "execute_result"
    }
   ],
   "source": [
    "# Fügen Sie den Python-Code hier ein\n",
    "while n <= 2:\n",
    "    n = int(input())\n",
    "    print('Geben Sie einen Wert größer als 2 ein')\n",
    "a = 0\n",
    "b = 1\n",
    "ergebnis = []\n",
    "while n > 0:\n",
    "    f = a\n",
    "    ergebnis.append(f)\n",
    "    a = b\n",
    "    b = b + f\n",
    "    n -= 1\n",
    "ergebnis\n"
   ]
  },
  {
   "cell_type": "markdown",
   "id": "25564515",
   "metadata": {},
   "source": [
    "## Der Euklidische Algorithmus\n",
    "Der sogenannte euklidische Algorithmus ist ein Verfahren zum Ermitteln des größten gemeinsamen Teilers (**ggT**) zweier Zahlen. \n",
    "\n",
    "[Siehe auch das Video zum Algorithmus.](https://www.youtube.com/watch?v=jZC7QqufD_0)\n",
    "\n",
    "Beim euklidischen Algorithmus wird wie folgt verfahren: \n",
    "\n",
    "Man teilt die größere durch die kleinere Zahl. \n",
    "Geht die Division auf, ist der Divisor der ggT. \n",
    "Geht die Division nicht auf, bleibt ein Rest. Dieser Rest ist der neue Divisor. Der alte Divisor wird zum Dividenden. Nun setzt man das Verfahren fort. \n",
    "Nach endlich vielen Schritten erhält man den ggT. \n",
    "In manchen Fällen ist dies die Zahl 1, dann sind die Ausgangszahlen teilerfremd, es gibt dann also keine gemeinsamen Teiler.\n",
    "\n",
    "Es ist der ggT von 544 und 391 gesucht. \n",
    "\n",
    "544 : 391 = 1;  Rest 153 \n",
    "\n",
    "391 : 153 = 2;  Rest 85 \n",
    "\n",
    "153 :  85 = 1;  Rest 68 \n",
    "\n",
    " 85 :  68 = 1;  **Rest 17** \n",
    " \n",
    " 68 :  17 = 4;  Rest 0 \n",
    "\n",
    "\n",
    "Die Divison geht auf, der **ggT von 544 und 391 ist 17**.  "
   ]
  },
  {
   "attachments": {
    "2024-09-27 095929.png": {
     "image/png": "[encoded data removed]"
    }
   },
   "cell_type": "markdown",
   "id": "dcf02fde",
   "metadata": {},
   "source": [
    "### Erstellen Sie mit **structorizer** ein Struktogramm\n",
    "![2024-09-27 095929.png](<attachment:2024-09-27 095929.png>)\n",
    "\n",
    "Die beiden Zahlen sollen vom Benutzer eingegeben werden.\n",
    "\n",
    "Am Schluß soll nur der ggT ausgegeben werden, falls einer existiert.\n",
    "\n",
    "**Falls der Rest gleich 1 ist, existiert kein ggT.**\n",
    "\n",
    "Hier bitte das Struktogramm als Bild einfügen!"
   ]
  },
  {
   "cell_type": "markdown",
   "id": "14c0a0c0",
   "metadata": {},
   "source": [
    "### Implementieren Sie den Algorithmus in Python"
   ]
  },
  {
   "cell_type": "code",
   "execution_count": 4,
   "id": "6ba8fd7a",
   "metadata": {},
   "outputs": [
    {
     "name": "stdout",
     "output_type": "stream",
     "text": [
      "ggT von 144 und 120 ist 24\n"
     ]
    }
   ],
   "source": [
    "# Fügen Sie hier den Python-Code ein.\n",
    "a, b = int(input(\"Geben ganze Zahlen\")), int(input())\n",
    "c = max(a, b)\n",
    "d = min(a, b)\n",
    "flag = True\n",
    "while flag:\n",
    "    rest = c % d\n",
    "    if rest == 0:\n",
    "        print(f'ggT von {a} und {b} ist {d}')\n",
    "        flag = False\n",
    "    elif rest == 1:\n",
    "        print(f'es gibt kein gemeinsamen Teiler')\n",
    "        flag = False\n",
    "    else:\n",
    "        c = d\n",
    "        d = rest    "
   ]
  },
  {
   "cell_type": "code",
   "execution_count": null,
   "id": "093e4f04",
   "metadata": {},
   "outputs": [],
   "source": []
  }
 ],
 "metadata": {
  "kernelspec": {
   "display_name": "Python 3 (ipykernel)",
   "language": "python",
   "name": "python3"
  },
  "language_info": {
   "codemirror_mode": {
    "name": "ipython",
    "version": 3
   },
   "file_extension": ".py",
   "mimetype": "text/x-python",
   "name": "python",
   "nbconvert_exporter": "python",
   "pygments_lexer": "ipython3",
   "version": "3.12.6"
  }
 },
 "nbformat": 4,
 "nbformat_minor": 5
}
