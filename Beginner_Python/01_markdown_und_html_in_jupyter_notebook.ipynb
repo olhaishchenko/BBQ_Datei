{
 "cells": [
  {
   "cell_type": "markdown",
   "id": "04467eff",
   "metadata": {},
   "source": [
    "# Heading 1\n",
    "## Heading 2\n",
    "### Heading 3\n",
    "#### Heading 4\n",
    "##### Heading 5 (kursiv)"
   ]
  },
  {
   "cell_type": "markdown",
   "id": "ee21c15c",
   "metadata": {},
   "source": [
    "Dies ist ein ganz normaler Textabschnitt."
   ]
  },
  {
   "cell_type": "markdown",
   "id": "0d05fbdd",
   "metadata": {},
   "source": [
    "**Fett**"
   ]
  },
  {
   "cell_type": "markdown",
   "id": "ad03075d",
   "metadata": {},
   "source": [
    "__fett__"
   ]
  },
  {
   "cell_type": "markdown",
   "id": "8e693659",
   "metadata": {},
   "source": [
    "*kursiv*"
   ]
  },
  {
   "cell_type": "markdown",
   "id": "18e6eb1c",
   "metadata": {},
   "source": [
    "_kursiv_"
   ]
  },
  {
   "cell_type": "markdown",
   "id": "ef67d3e1",
   "metadata": {},
   "source": [
    "Bulletliste\n",
    "- item 1\n",
    "- item 2\n",
    "- item 3"
   ]
  },
  {
   "cell_type": "markdown",
   "id": "039e7ba6",
   "metadata": {},
   "source": [
    "Durchnummeriert\n",
    "\n",
    "1. item 1\n",
    "2. item 2\n",
    "3. item 3"
   ]
  },
  {
   "cell_type": "markdown",
   "id": "1ca7d01e",
   "metadata": {},
   "source": [
    "<img src=\"https://s.hs-data.com/gfx/emblem/common/80x80/208.png\"/>"
   ]
  },
  {
   "attachments": {
    "208.png": {
     "image/png": "[encoded data removed]"
    }
   },
   "cell_type": "markdown",
   "id": "d9863f7a",
   "metadata": {},
   "source": [
    "![208.png](attachment:208.png)"
   ]
  },
  {
   "cell_type": "markdown",
   "id": "e353ac0a",
   "metadata": {},
   "source": [
    "<h1>Heading 1 as html </h1>\n",
    "<h2>Heading 2 as html </h2>\n",
    "<p>Ein Absatz</p>\n",
    "<a href=\"https://www.markdownguide.org/cheat-sheet/\">Markdown-Übrsicht</a>"
   ]
  }
 ],
 "metadata": {
  "hide_input": false,
  "kernelspec": {
   "display_name": "Python 3 (ipykernel)",
   "language": "python",
   "name": "python3"
  },
  "language_info": {
   "codemirror_mode": {
    "name": "ipython",
    "version": 3
   },
   "file_extension": ".py",
   "mimetype": "text/x-python",
   "name": "python",
   "nbconvert_exporter": "python",
   "pygments_lexer": "ipython3",
   "version": "3.10.0"
  },
  "nbTranslate": {
   "displayLangs": [
    "en",
    "de"
   ],
   "hotkey": "alt-t",
   "langInMainMenu": true,
   "sourceLang": "de",
   "targetLang": "en",
   "useGoogleTranslate": true
  }
 },
 "nbformat": 4,
 "nbformat_minor": 5
}
