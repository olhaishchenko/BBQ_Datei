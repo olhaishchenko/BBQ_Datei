{
 "cells": [
  {
   "cell_type": "markdown",
   "metadata": {},
   "source": [
    "<hr style=\"border-width:5px;border-color:darkblue\">\n",
    "<center><h1> Python Grundlagen</h1></center>\n",
    "<center><h2> Variablen und Datenstrukturen</h2></center>\n",
    "<hr style=\"border-width:5px;border-color:darkblue\">\n",
    "\n",
    "## 1. Variablen\n",
    "\n",
    "Eine Variable in Python ist ein symbolischer Name für einen Wert, der im Speicher des Computers abgelegt ist. Variablen werden benutzt um Daten zu speichern, die wir in unserem Programm manipulieren wollen.\n",
    "\n",
    "In Python erzeugen wir eine Variable und weisen ihr zugleich einen Wert zu:\n",
    "\n",
    "```python\n",
    "meine_variable = ein_wert\n",
    "```\n",
    "\n",
    "Die Variable heisst **`meine_variable`** und hat den Wert **`ein_wert`**.\n",
    "\n",
    "Einer Variable können unterschiedliche Typen zugewiesen werden:\n",
    "\n",
    "```python\n",
    "# Die Variable erhält den Integer Wert 9\n",
    "meine_variable = 9\n",
    "\n",
    "# Wir können arithmetische Operationen mit bereits existierenden Variablen durchführen und damit eine neue Variable erzeugen.\n",
    "eine_andere_variable = meine_variable + 4\n",
    "\n",
    "# Eine Variable kann auch einen anderen Typen zugewiesen bekommen. Hier wird der Variable ein String (Zeichenkette) zugewiesen\n",
    "eine_andere_variable = \"Hallo Welt\"\n",
    "```\n",
    "\n",
    "Sobald wir den `=` Operator mit einer bereits definierten Variable benutzen, wird der alte Wert mit dem neuen Wert auf der rechten Seite von `=` überschrieben.\n",
    "\n",
    "Um den Wert einer Variable anzuzeigen, können wir die **`print`** Funktion benutzen:\n",
    "\n",
    "```python\n",
    "# Erzeugung der Variablen\n",
    "meine_variable = 10.5\n",
    "eine_andere_variable = meine_variable * 3\n",
    "\n",
    "# Anzeigen der Variablen\n",
    "print(meine_variable)\n",
    ">>> 10.5\n",
    "print(eine_andere_variable)\n",
    ">>> 31.5\n",
    "```\n",
    "\n",
    "**Regeln für die Benennung von Variablen :**\n",
    "* Eine Vaiable muss mit einem **Buchstaben** under einem **_** beginnen.\n",
    "* Eine Variable **darf nicht** mit einer **Zahl** beginnen.\n",
    "* Die weiteren Zeichen dürfen nur **Buchstaben**, **Zahlen** und **_** enthalten.\n",
    "* Die Benennung von Variablen beachtet die **Groß- und Kleinschreibung**. `mein_variable`, `MEINE_VARIABLE` und `Meine_Variable` sind drei **verschiedene** Bezeichner.\n"
   ]
  },
  {
   "cell_type": "markdown",
   "metadata": {},
   "source": [
    "#### **Aufgabe 1**\n",
    "* Erzeuge eine Variable mit dem Namen `meine_variable` und weise ihr den Wert `123456` zu. \n",
    "\n",
    "* Erzeuge eine Variable `meine_variable_mal_zwei` die den doppelten Wert von `meine_variable` enthält. Die Multiplikation wird mit dem `*` Operator durchgeführt\n",
    "\n",
    "* Gib den Wert beider Variablen auf dem Bildschirm aus"
   ]
  },
  {
   "cell_type": "code",
   "execution_count": 2,
   "metadata": {},
   "outputs": [
    {
     "data": {
      "text/plain": [
       "(123456, 246912)"
      ]
     },
     "execution_count": 2,
     "metadata": {},
     "output_type": "execute_result"
    }
   ],
   "source": [
    "# Füge hier deinen Python-Code ein\n",
    "meine_variable = 123456\n",
    "meine_variable_mal_zwei = meine_variable * 2\n",
    "meine_variable, meine_variable_mal_zwei"
   ]
  },
  {
   "cell_type": "markdown",
   "metadata": {},
   "source": [
    "## 2. Listen\n",
    "\n",
    "Eine Liste ist ein spezielle spezielle Variable, da sie mehrere Werte enthalten kann.\n",
    "Sie wird so erzeugt:\n",
    "\n",
    "```python\n",
    "meine_liste = [99, 1.0, \"Hallo Welt\"]\n",
    "```\n",
    "\n",
    "Die Liste enthält drei Elemente: `99`, `1.0` und `\"Hallo Welt\"`\n",
    "\n",
    "\n",
    "Die eckigen Klammern **`[`** und **`]`** bestimmen den Anfang und das Ende der Liste.\n",
    "\n",
    "Die Elemente der Liste werden durch **Kommas** getrennt.\n",
    "\n",
    "### 2.a. Listenindizierung\n",
    "Listen sind geordnete Sammlungen von Elementen, was bedeutet, dass jedes Element eine bestimmte Position hat, die als **Index** bekannt ist. Das erste Element in einer Liste hat immer den Index `0`. Das zweite Element hat den Index `1`, das dritte Element hat den Index `2` und so weiter.\n",
    "Geordnet bedeutet hier, dass die Reihenfolge der Elemente in einer Liste beibehalten wird und jedes Element eine spezifische Position oder einen Index hat. Wenn du ein Element an einer bestimmten Position hinzufügst oder entfernst, verschiebt sich die Reihenfolge entsprechend. \n",
    "\n",
    "Um auf ein Element einer Liste zuzugreifen, müssen wir dessen Index in eckigen Klammern angeben:\n",
    "\n",
    "```python\n",
    "# Anzeigen des ersten Elements der Liste\n",
    "print(meine_liste[0])\n",
    ">>> 99\n",
    "```\n",
    "Wir können auch einzelne Elemente der Liste mit Hilfe des Index ändern:\n",
    "\n",
    "```python\n",
    "# Dem zweiten Element der Liste einen neuen Wert zuordnen\n",
    "meine_liste[1] = 4.0\n",
    "```\n",
    "\n",
    "Es ist auch möglich auf die Elemente in umgekehrter Reihenfolge zuzugreifen. Man spricht hierbei von **negativer Indexierung**.\n",
    "<br> <br>\n",
    "<img src=\"https://i.postimg.cc/d0rRxmnD/liste-index.jpg\" style = 'height:300px'>\n",
    "<br> <br>\n",
    "\n",
    "Wir können damit auf das letzte Element mit dem Index **`-1`** zugreifen, auf das Element vor dem Letzten mit **`-2`** usw.\n",
    "\n",
    "Um ein Element der Liste zu ändern, können wir den negativen Index genauso wie den positiven Index verwenden:\n",
    "\n",
    "```python\n",
    "# Ändern des letzten Elements\n",
    "meine_liste[-1] = \"neuer Wert\"\n",
    "```\n",
    "\n",
    "Unsere Liste sieht nun so aus:\n",
    "```py\n",
    "print(meine_liste)\n",
    ">>> [99, 4.0, \"neuer Wert\"]\n",
    "```\n",
    "\n"
   ]
  },
  {
   "cell_type": "markdown",
   "metadata": {},
   "source": [
    "#### **Aufgabe 2**\n",
    "* Sortiere die gegebene Liste in aufsteigender Reihenfolge, indem du die Elemente der Liste mithilfe ihrer Indizes neu zuweist.\n",
    "\n",
    "* Gib den Inhalt der Liste auf dem Bildschirm aus"
   ]
  },
  {
   "cell_type": "code",
   "execution_count": 11,
   "metadata": {},
   "outputs": [
    {
     "data": {
      "text/plain": [
       "(-3, -2, -1, 0, 1, 2, 3, 4)"
      ]
     },
     "execution_count": 11,
     "metadata": {},
     "output_type": "execute_result"
    }
   ],
   "source": [
    "eine_liste = [3, 2, -1, 5, -2, 4, -3, 1, 0]\n",
    "eine_liste.sort()\n",
    "zweite_liste = [3, 2, -1, 5, -2, 4, -3, 1, 0]\n",
    "zweite_liste.sort(reverse=True)\n",
    "# Füge hier deinen Python-Code ein\n",
    "dritte_liste = [3, 2, -1, 5, -2, 4, -3, 1, 0]\n",
    "dritte_liste[6], dritte_liste[4], dritte_liste[2], dritte_liste[-1], dritte_liste[-2], dritte_liste[1], dritte_liste[0], dritte_liste[-4]"
   ]
  },
  {
   "cell_type": "markdown",
   "metadata": {},
   "source": [
    "### 2.b. Listen-Slicing\n",
    "**Slicing** ist eine spezielle Art der Indexierung, die verwendet wird, um aus bestehenden Listen neue zu generieren.\n",
    "\n",
    "Beim Slicing erhalten wir eine Teilliste von Elementen aus einer größeren Liste, indem wir die Start- und Endindizes der Elemente angeben, getrennt durch das Doppelpunkt-Symbol `:`.\n",
    "```py\n",
    "meine_liste = [0, 1, \"Guten\", -3.0, \"Tag\", 99, 100.23]\n",
    "\n",
    "# Rufe die ersten drei Elemente der Liste ab und zeige sie an\n",
    "erste_elemente = meine_liste[0:3]\n",
    "print(erste_elemente)\n",
    ">>> [0, 1, \"Guten\"]\n",
    "```\n",
    "Der Endindex auf der rechten Seite des `:` ist **nicht enthalten**. Das bedeutet, das die Liste, die durch `meine_liste[0:3]` erzeugt wird, nur die Elemente mit den Indices `0`, `1` und `2` enthält.\n",
    "\n",
    "Wenn der Startindex nicht angegeben wird, werden alle Elemente vom Begin der Liste dem Slice hinzugefügt:\n",
    "```py\n",
    "# Rufe die ersten zwei Elemente der Liste ab und zeige sie an\n",
    "erste_elemente = meine_liste[:2]\n",
    "print(erste_elemente)\n",
    ">>> [0, 1]\n",
    "```\n",
    "\n",
    "Genauso verhält es sich auch mit dem Endindex. Wenn dieser nicht angegeben wird, werden alle Elemente bis zum Ende der Liste hinzugefügt.\n",
    "```py\n",
    "# Rufe die letzten drei Elemente der Liste ab und zeige sie an\n",
    "letzte_elemente = meine_liste[5:]\n",
    "print(letzte_elemente)\n",
    ">>> [\"Tag\", 99, 100.23]\n",
    "```\n",
    "\n",
    "Es kann auch die negative Indexierung verwendet werden. Anstatt die letzten drei Elemente mit dem Startindex `5` abzurufen (den können wir nur verwenden wenn wir die genaue Anzahl der Listenelemente kennen),\n",
    "benutzen wir nun den Startindex `-3`:\n",
    "```py\n",
    "# Rufe die letzten drei Elemente der Liste mit negativer Indexierung ab und zeige sie an\n",
    "letzte_elemente = meine_liste[-3:]\n",
    "print(letzte_elemente)\n",
    ">>> [\"Tag\", 99, 100.23]\n",
    "```\n",
    "\n",
    "<br> <br>\n",
    "<img src=\"https://i.postimg.cc/9QvtbNdv/liste-slicing.jpg\" style = 'height:300px'>\n",
    "\n",
    "Die Schrittweite kann im Slicing verwendet werden, um bestimmte Elemente aus einer Liste zu überspringen oder in umgekehrter Reihenfolge zu durchlaufen. Standardmäßig beträgt die Schrittweite 1, was bedeutet, dass jedes Element in der angegebenen Range des Slicings verwendet wird. Wenn wir eine andere Schrittweite verwenden möchten, geben wir diese als dritten Parameter an:\n",
    "```py\n",
    "# Vorwärts-Slicing mit Schrittweite 2 von Beginn bis Ende\n",
    "jedes_zweite_element = meine_liste[::2]  \n",
    "print(jedes_zweite_element)\n",
    ">>> [0, \"Guten\", \"Tag\", 100.23]\n",
    "```\n",
    "\n",
    "Wenn wir die Schrittweite als negativen Wert angegeben, wird die in umgekehrter Reihenfolge zu durchlaufen, durch die Verwendung der Schrittweite `-1` können wir eine Liste in umgekehrter Reihenfolge erzeugen:\n",
    "```py\n",
    "# Rückwärts-Slicing mit Schrittweite -1 , umgekehrte Liste erzeugen\n",
    "reversed_liste = meine_liste[::-1]  \n",
    "print(reversed_liste)\n",
    ">>> [100.23, 99, \"Tag\", -3.0, \"Guten\", 1, 0]\n",
    "```\n"
   ]
  },
  {
   "cell_type": "markdown",
   "metadata": {},
   "source": [
    "\n",
    "#### **Aufgabe 3**\n",
    "\n",
    "* Gib die **ersten zehn** Elemente der Liste `lange_liste` auf dem Bildschirm aus.\n",
    "\n",
    "* Gib die **letzten sechs** Elemente der Liste `lange_liste` auf dem Bildschirm aus.\n",
    "\n",
    "* Gib das 5. Element bis einschließlich des 10.Elements der Liste `lange_liste` in **umgekehrter Reichenfolge** auf dem Bildschirm aus. ( Hinweis: es ist einfacher diese Transformation in zwei Schritten durchzuführen )\n"
   ]
  },
  {
   "cell_type": "code",
   "execution_count": 17,
   "metadata": {},
   "outputs": [
    {
     "data": {
      "text/plain": [
       "([87, 84, 18, 63, 44, 25, 98, 10, 62, 47],\n",
       " [63, 10, 97, 50, 36, 18],\n",
       " [47, 62, 10, 98, 25, 44])"
      ]
     },
     "execution_count": 17,
     "metadata": {},
     "output_type": "execute_result"
    }
   ],
   "source": [
    "lange_liste = [87, 84, 18, 63, 44, 25, 98, 10, 62, 47, 5, 91, 33, 2, 43, 68, 58, 87, 3, 23, 18, 9, 48, 31, 63, 10, 97, 50, 36, 18]\n",
    "kurze_liste = lange_liste[4:10]\n",
    "lange_liste[:10], lange_liste[-6:], kurze_liste[::-1]\n",
    "\n",
    "# Füge hier deinen Python-Code ein"
   ]
  },
  {
   "cell_type": "markdown",
   "metadata": {},
   "source": [
    "### 2.c. Listen Methoden\n",
    "\n",
    "Im folgenden betrachten wir, wie man Elemente zu einer Liste hinzufügen bzw. entfernen kann.\n",
    "In der **objektorientierten Programmierung (OOP)** ist eine **Methode** eine Funktion, die einer **Klasse** zugeordnet ist.\n",
    "\n",
    "Wir verwenden eine Methode, indem wir den **Namen des Objekts** gefolgt von einem Punkt **`.`** und anschließend den **Methodennamen** angeben. Der Methodenname wird von runden Klammern **`(`** und **`)`** gefolgt. Diese Klammern enthalten die **Argumente** der Methode, können aber auch leer sein.\n",
    "<center>\n",
    "<img src=\"https://i.postimg.cc/9Q4YGj7d/liste-methode.jpg\" style = 'height:200px'></center>"
   ]
  },
  {
   "cell_type": "markdown",
   "metadata": {},
   "source": [
    "#### **`pop()`** Methode\n",
    "Die **`pop`** Methode ermöglicht es uns ein Element einer Liste zu entfernen. Der Index dieses Elements wird der Methode als Argument übergeben. Wenn wir kein Argument übergeben wird das letzte Element aus der Liste entfernt. Der Rückgabewert er Methode entspricht dem Element, welches wir mit **`pop`** aus der Liste entfernt haben.\n",
    "\n",
    "```py\n",
    "meine_liste = [1, 2, 3, 4, 5]\n",
    "\n",
    "# Löschen des dritten Elements\n",
    "meine_liste.pop(2)\n",
    "print(meine_liste)\n",
    ">>> [1, 2, 4, 5] \n",
    "\n",
    "# Löschen des letzten Elements\n",
    "return_value = meine_liste.pop()\n",
    "\n",
    "# Anzeigen der Liste\n",
    "print(meine_liste)\n",
    ">>> [1, 2, 4]\n",
    "\n",
    "# Anzeigen des Rückgabewerts\n",
    "print(return_value)\n",
    ">>> 5\n",
    "```"
   ]
  },
  {
   "cell_type": "markdown",
   "metadata": {},
   "source": [
    "### **Aufgabe 4**\n",
    "* Entferne die Elemente `\"Hallo\"`, `\"Welt\"`, `\"foo\"` `\"bar\"` aus der unten angegebenen List `pop_liste`. **Achtung, beim Entfernen eines Elements änderen sich die Indices der verbleibenden Elemente.**\n",
    "\n",
    "* Gib den Inhalt der List auf dem Bildschirm aus"
   ]
  },
  {
   "cell_type": "code",
   "execution_count": 18,
   "metadata": {},
   "outputs": [
    {
     "data": {
      "text/plain": [
       "[12, 33, 44, 55, 77, 88]"
      ]
     },
     "execution_count": 18,
     "metadata": {},
     "output_type": "execute_result"
    }
   ],
   "source": [
    "pop_liste = [12, \"Hallo\", 33, 44, \"Welt\", 55, \"foo\", \"bar\", 77 ,88]\n",
    "pop_liste.pop(-3)\n",
    "pop_liste.pop(-3)\n",
    "pop_liste.pop(-4)\n",
    "pop_liste.pop(1)\n",
    "pop_liste\n",
    "\n",
    "# Füge hier deinen Python-Code ein"
   ]
  },
  {
   "cell_type": "markdown",
   "metadata": {},
   "source": [
    "#### **`insert()`** Methode\n",
    "Um in eine Liste ein neues Element einzufügen kann man die Methode **`insert`** verwenden. Diese benötigt **zwei Argumente**.\n",
    "Das erste Argument ist der **index**, der angibt an welcher Stelle wir das neue Element einfügen wollen.\n",
    "Das zweite Argument ist der neue **Wert**, der an dieser Stelle eingefügt wird.\n",
    "\n",
    "```py\n",
    "meine_liste = [1, 2, 3]\n",
    "\n",
    "# Wert \"Hallo\" in die zweite Stelle der Liste einfügen\n",
    "meine_liste.insert(1, \"Hallo\")\n",
    "\n",
    "# Anzeigen der veränderten Liste\n",
    "print(meine_liste)\n",
    ">>> [1, 'Hallo', 2, 3]\n",
    "```"
   ]
  },
  {
   "cell_type": "markdown",
   "metadata": {},
   "source": [
    "#### **Aufgabe 5**\n",
    "* Entferne alle Zahlen aus der liste **`nur_strings`** mit Hilfe der **`pop`** Methode.\n",
    "\n",
    "* Füge die Werte `\"Hallo\"`, `\",\"`, `\"geht\"`, `\"Dir\"` in die Liste ein, so dass die Ausgabe der Liste wie folgt aussieht:\n",
    "<br><br>`[\"Hallo\", \",\", \"wie\", \"geht\", \"es\", \"Dir\", \"?\"]`"
   ]
  },
  {
   "cell_type": "code",
   "execution_count": 20,
   "metadata": {},
   "outputs": [
    {
     "data": {
      "text/plain": [
       "['Hallo', ',', 'wie', 'geht', 'es', 'Dir', '?']"
      ]
     },
     "execution_count": 20,
     "metadata": {},
     "output_type": "execute_result"
    }
   ],
   "source": [
    "nur_strings = [12, 33, \"wie\", 55, 77, \"es\" ,\"?\", 5456, 111, 23]\n",
    "# Füge hier deinen Python-Code ein\n",
    "nur_strings.pop(0)\n",
    "nur_strings.pop(0)\n",
    "nur_strings.pop(1)\n",
    "nur_strings.pop(1)\n",
    "nur_strings.pop(-1)\n",
    "nur_strings.pop(-1)\n",
    "nur_strings.pop(-1)\n",
    "nur_strings.insert(0, \"Hallo\")\n",
    "nur_strings.insert(1, \",\")\n",
    "nur_strings.insert(3, \"geht\")\n",
    "nur_strings.insert(-1, \"Dir\")\n",
    "nur_strings"
   ]
  },
  {
   "cell_type": "markdown",
   "metadata": {},
   "source": [
    "#### **`append()`** Methode\n",
    "Wir können ein neues Element direkt an das Ende der Liste mit der **`append`** Methode anfügen.\n",
    "```python\n",
    "meine_liste = [ \"Hallo\" ]\n",
    "# Einfügen von \"Auf Wiedersehen\" an das Ende der Liste\n",
    "my_list.append(\"Auf Wiedersehen\")\n",
    "```\n",
    "Diese Methode wird in Python sehr häufig benutzt, z.B. um die Werte einer sich ständig verändernden Variable zu speichern.\n",
    "\n"
   ]
  },
  {
   "cell_type": "markdown",
   "metadata": {},
   "source": [
    "#### **Aufgabe 6.1**\n",
    "* Erzeuge eine Variable `x` mit dem Wert `0` und eine Liste, die als einziges Element `x` enthält."
   ]
  },
  {
   "cell_type": "code",
   "execution_count": 22,
   "metadata": {},
   "outputs": [
    {
     "data": {
      "text/plain": [
       "[3, 5, 6, 7, 0]"
      ]
     },
     "execution_count": 22,
     "metadata": {},
     "output_type": "execute_result"
    }
   ],
   "source": [
    "# Füge hier deinen Python-Code ein\n",
    "x=0\n",
    "liste = [3, 5, 6, 7]\n",
    "liste.append(x)\n",
    "liste"
   ]
  },
  {
   "cell_type": "markdown",
   "metadata": {},
   "source": [
    "#### **Aufgabe 6.2**\n",
    "* Erhöhe den Wert von `x` um `1` und füge `x` mit Hilfe der `append` Methode deiner Liste hinzu.\n",
    "\n",
    "* Führe diese Zelle mehrfach aus und gib bei jeder Ausführung den Inhalt der Liste auf dem Bildschirm aus."
   ]
  },
  {
   "cell_type": "code",
   "execution_count": 38,
   "metadata": {},
   "outputs": [
    {
     "data": {
      "text/plain": [
       "[3, 5, 6, 7, 0, 2, 3, 4, 5, 6, 7, 8, 9, 10, 11, 12, 13, 14, 15, 16]"
      ]
     },
     "execution_count": 38,
     "metadata": {},
     "output_type": "execute_result"
    }
   ],
   "source": [
    "# Füge hier deinen Python-Code ein\n",
    "x=x+1\n",
    "liste.append(x)\n",
    "liste"
   ]
  },
  {
   "cell_type": "code",
   "execution_count": 40,
   "metadata": {},
   "outputs": [
    {
     "name": "stdout",
     "output_type": "stream",
     "text": [
      "[0, 1]\n",
      "[0, 1, 2]\n",
      "[0, 1, 2, 3]\n",
      "[0, 1, 2, 3, 4]\n",
      "[0, 1, 2, 3, 4, 5]\n",
      "[0, 1, 2, 3, 4, 5, 6]\n",
      "[0, 1, 2, 3, 4, 5, 6, 7]\n",
      "[0, 1, 2, 3, 4, 5, 6, 7, 8]\n",
      "[0, 1, 2, 3, 4, 5, 6, 7, 8, 9]\n",
      "[0, 1, 2, 3, 4, 5, 6, 7, 8, 9, 10]\n"
     ]
    }
   ],
   "source": [
    "x=0\n",
    "my_liste= [x]\n",
    "for i in range(10):\n",
    "    x += 1\n",
    "    my_liste.append(x)\n",
    "    print(my_liste)"
   ]
  },
  {
   "cell_type": "markdown",
   "metadata": {},
   "source": [
    "#### **`extend()`** Methode\n",
    "Mit Hilfe der **`extend`** Methode kann einer Liste eine andere Liste hinzugefügt werden. Diese wird als Argument der Methode angegeben.<br><br>\n",
    "Alternativ können Listen auch mit dem `+`-Operator zusammengefügt werden. <br>Dabei muss man aber stets auf den Kontext achten, da hierbei beide Argumente vom Typ `list` sein müssen, andernfalls wird ein Fehler erzeugt.\n",
    "\n",
    "```py\n",
    "liste_1 = [1, 2, 3, 4]\n",
    "liste_2 = [5, 6, 7]\n",
    "\n",
    "# Elemente von liste_2 zu liste_1 mit extend hinzufügen\n",
    "neue_liste_1 = liste_1.extend(liste_2)\n",
    "\n",
    "# Inhalt von neue_liste_1 ausgeben\n",
    "print(neue_liste_1)\n",
    ">>> [1, 2, 3, 4, 5, 6, 7]\n",
    "\n",
    "# Elemente beider Listen mit dem + Operator zusammenfügen\n",
    "neue_liste_2 = liste_1 + liste_2\n",
    "\n",
    "# Inhalt von neue_liste_2 ausgeben\n",
    "print(neue_liste_2)\n",
    ">>> [1, 2, 3, 4, 5, 6, 7]\n",
    "```"
   ]
  },
  {
   "cell_type": "markdown",
   "metadata": {},
   "source": [
    "## 3. Tupel\n",
    "\n",
    "Der Tupel ist eine ähnliche Datenstruktur wie die Liste. Der wesentliche Unterschied besteht darin, dass wir einen Tupel **mit oder ohne runde Klammern** definieren können.\n",
    "\n",
    "Wir können auf die Elemente eines Tupels durch den Index wie auf eine Liste zugreifen. Allerdings können wir keine Elemente löschen oder hinzufügen, der Tupel ist **immutable (unveränderlich)**.\n",
    "Dies ist eine wichtige Eigenschaft die Tupel von Listen unterscheidet.\n",
    "\n",
    "```python\n",
    "# Tupel mit Klammern erzeugen\n",
    "ein_tupel = (\"foo\", \"bar\", 123)\n",
    "\n",
    "# Tupel ohne Klammern erzeugen, beide Formen sind äquivalent\n",
    "ein_tupel = \"foo\", \"bar\", 123\n",
    "\n",
    "# Erstes Element des Tupels ausgeben\n",
    "print(ein_tupel[0])\n",
    ">>> Hallo\n",
    "\n",
    "# Letztes Element des Tupels ausgeben\n",
    "print(ein_tupel[-1])\n",
    ">>> 123\n",
    "```\n",
    "\n",
    "Eine der Stärken von Tupeln liegt darin, gleichzeitig mehreren Variablen Werte zuzuweisen.\n",
    "```py\n",
    "# Tupel mit drei Elementen erzeugen\n",
    "ein_tupel = \"foo\", \"bar\", 123\n",
    "\n",
    "# Variablen jeweils die einzelnen Werte des Tupels zuweisen\n",
    "x, y, z = ein_tupel\n",
    "\n",
    "# Variablen ausgeben\n",
    "print(x, y, z, sep=\" \") \n",
    ">>> foo bar 123\n",
    "```\n",
    "\n",
    "Damit die Zuweisung der Elemente des Tupels zu den Variablen funktioniert, müssen **genau so viele Variablen wie Tupel-Elemente** angegeben werden. Andernfalls kommt es zu einem Fehler.\n"
   ]
  },
  {
   "cell_type": "markdown",
   "metadata": {},
   "source": [
    "## 4. Dictionaries\n",
    "\n",
    "Listen und Tupel sind Datenstrukturen, deren Elemente durch **Ganzzahlen** in **geordneter** Weise indiziert sind.\n",
    "\n",
    "Dictionaries sind eine ganz besondere Datenstruktur, da die Elemente eines Wörterbuchs frei mit **Zahlen**, **Zeichenketten** und sogar **Tupeln** indiziert werden können.\n",
    "\n",
    "Wir definieren ein Dictionaries mit **geschweiften Klammern**. Jedes Element des Wörterbuchs ist ein **Schlüssel: Wert**-Paar. Auf die Werte in einem Wörterbuch wird zugegriffen, indem die **Schlüssel** als **Index** zwischen eckigen Klammern verwendet werden.\n",
    "```python\n",
    "# Definition of a dictionary\n",
    "a_dict = {\"age\": 25,\n",
    "          \"height\": 183,\n",
    "          \"sex\":\"F\",\n",
    "          \"first name\":\"Vanessa\"}\n",
    "# Display age\n",
    "print(a_dict[\"age\"])\n",
    ">>> 25\n",
    "\n",
    "print(a_dict[\"first name\"])\n",
    ">>> Vanessa\n",
    "```\n",
    "<br> <br>\n",
    "\n",
    "<img src=\"https://i.postimg.cc/Kvp5kYRc/dict.png\" style =\"height:250px\">\n",
    "\n",
    "<br> <br>\n",
    "\n",
    "\n",
    "Wir können die in diesem Dictionary enthaltenen Informationen in der folgenden Tabelle zusammenfassen:\n",
    "\n",
    "| Key           | Value       |\n",
    "| ------------- | ----------- |\n",
    "| `\"age\"`       | `25`        |\n",
    "| `\"size\"`      | `183`       |\n",
    "| `\"sex\"`       | `\"F\"`       |\n",
    "| `\"first name\"` | `\"Vanessa\"` |\n",
    "\n",
    "\n",
    "Wir können Werte in einem Dictionary auf die gleiche Weise ersetzen, wie wir es beim Ersetzen von Elementen in einer Liste tun würden.\n",
    "\n",
    "#### **Aufgabe 7.1**\n",
    "* Erstellen Sie ein Dictionary mit dem Namen **`card_id`** mit den folgenden Schlüssel-Werte-Paaren und zeigen Sie es an:\n",
    "\n",
    "| Key            | Value        |\n",
    "| -------------- | ------------ |\n",
    "| `\"first name\"` | `\"Paul\"`     |\n",
    "| `\"last name\"`  | `\"Lefebvre\"` |\n",
    "| `\"emission\"`   | `1978`       |\n"
   ]
  },
  {
   "cell_type": "code",
   "execution_count": 42,
   "metadata": {},
   "outputs": [
    {
     "data": {
      "text/plain": [
       "{'first name': 'Paul', 'last name': 'Lefebvre', 'emission': 1978}"
      ]
     },
     "execution_count": 42,
     "metadata": {},
     "output_type": "execute_result"
    }
   ],
   "source": [
    "# Füge hier deinen Python-Code ein\n",
    "card_id = {\"first name\": \"Paul\",\n",
    "            \"last name\": \"Lefebvre\",\n",
    "            \"emission\":1978}\n",
    "card_id"
   ]
  },
  {
   "cell_type": "markdown",
   "metadata": {},
   "source": [
    "#### **Aufgabe 7.2**\n",
    "* Überschreibe den Wert, der dem Schlüssel „Vorname“ zugeordnet ist, mit dem Wert „Guillaume“ und zeige das neue Dictionary „card_id“ an."
   ]
  },
  {
   "cell_type": "code",
   "execution_count": 43,
   "metadata": {},
   "outputs": [
    {
     "data": {
      "text/plain": [
       "{'first name': 'Guillaume', 'last name': 'Lefebvre', 'emission': 1978}"
      ]
     },
     "execution_count": 43,
     "metadata": {},
     "output_type": "execute_result"
    }
   ],
   "source": [
    "# Füge hier deinen Python-Code ein\n",
    "card_id[\"first name\"]= \"Guillaume\"\n",
    "card_id"
   ]
  },
  {
   "cell_type": "markdown",
   "metadata": {},
   "source": [
    "Es ist möglich, unserem Dictionary sehr einfach neue Schlüssel **hinzuzufügen**, indem man einem neuen Schlüssel einfach einen Wert zuweist:\n",
    "```python\n",
    "# Hinzufügen eines neuen Schlüssels zum Dictionary\n",
    "a_dict[„neuer Schlüssel“] = a_value\n",
    "```\n",
    "\n",
    "Wie bei Listen löschen wir ein Element mit der Methode **`pop`**, indem wir den **Schlüssel** als Argument übergeben:\n",
    "\n",
    "```python\n",
    "# Löschung des Schlüssels „a key“\n",
    "a_dict.pop(„a schlüssel“)\n",
    "```\n",
    "\n",
    "#### **Aufgabe 7.3**\n",
    "* Füge dem Dictionary „card_id“ einen neuen Schlüssel **„expiration“`** hinzu, indem Du ihm den Wert „1993“ zuweist, und zeig ihn an.\n"
   ]
  },
  {
   "cell_type": "code",
   "execution_count": 44,
   "metadata": {},
   "outputs": [
    {
     "data": {
      "text/plain": [
       "{'first name': 'Guillaume',\n",
       " 'last name': 'Lefebvre',\n",
       " 'emission': 1978,\n",
       " 'expiration': 1993}"
      ]
     },
     "execution_count": 44,
     "metadata": {},
     "output_type": "execute_result"
    }
   ],
   "source": [
    "# Füge hier deinen Python-Code ein\n",
    "card_id[\"expiration\"] = 1993\n",
    "card_id"
   ]
  }
 ],
 "metadata": {
  "kernelspec": {
   "display_name": "Python 3",
   "language": "python",
   "name": "python3"
  },
  "language_info": {
   "codemirror_mode": {
    "name": "ipython",
    "version": 3
   },
   "file_extension": ".py",
   "mimetype": "text/x-python",
   "name": "python",
   "nbconvert_exporter": "python",
   "pygments_lexer": "ipython3",
   "version": "3.12.6"
  }
 },
 "nbformat": 4,
 "nbformat_minor": 2
}
