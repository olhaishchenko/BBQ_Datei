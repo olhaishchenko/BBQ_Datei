{
 "cells": [
  {
   "cell_type": "markdown",
   "id": "1bdcda38",
   "metadata": {},
   "source": [
    "## Projekt: Astronauten\n",
    "\n",
    "<img src='https://encrypted-tbn0.gstatic.com/images?q=tbn:ANd9GcQMiY7Y6LCtfZW0H8P_yTzsv1q0VQsAiFSQ7A&usqp=CAU' /><br>\n",
    "Die Datei `astronauts.csv`enthält interessante Informationen einiger Astronauten.   \n",
    "In diesem Projekt möchten wir diese Informationen mit Hilfe von `Pandas`und `Seaborn` untersuchen."
   ]
  },
  {
   "cell_type": "markdown",
   "id": "68ca6f24",
   "metadata": {},
   "source": [
    "1. Im ersten Schritt importieren wir einige Module:"
   ]
  },
  {
   "cell_type": "code",
   "execution_count": 2,
   "id": "8980cee7",
   "metadata": {},
   "outputs": [],
   "source": [
    "import numpy as np\n",
    "import pandas as pd\n",
    "import matplotlib.pyplot as plt\n",
    "import seaborn as sns\n",
    "%matplotlib inline"
   ]
  },
  {
   "cell_type": "markdown",
   "id": "5fa8309d",
   "metadata": {},
   "source": [
    "2. Erstellen Sie mit Pandas ein Dataframe aus `astronauts.csv`:"
   ]
  },
  {
   "cell_type": "code",
   "execution_count": 3,
   "id": "b3844a43",
   "metadata": {},
   "outputs": [],
   "source": [
    "df_ast = pd.read_csv('C:/Users/OlhaIshchenko/Documents/Daten_Analyse/unterricht/csv_Datei/astronauts.csv')"
   ]
  },
  {
   "cell_type": "markdown",
   "id": "375f530d",
   "metadata": {},
   "source": [
    "3. Wie viele Zeilen und Spalten gibt es in diesem Dataframe?"
   ]
  },
  {
   "cell_type": "code",
   "execution_count": 3,
   "id": "18417cb4",
   "metadata": {},
   "outputs": [
    {
     "name": "stdout",
     "output_type": "stream",
     "text": [
      "<class 'pandas.core.frame.DataFrame'>\n",
      "RangeIndex: 357 entries, 0 to 356\n",
      "Data columns (total 19 columns):\n",
      " #   Column               Non-Null Count  Dtype  \n",
      "---  ------               --------------  -----  \n",
      " 0   Name                 357 non-null    object \n",
      " 1   Year                 330 non-null    float64\n",
      " 2   Group                330 non-null    float64\n",
      " 3   Status               357 non-null    object \n",
      " 4   Birth Date           357 non-null    object \n",
      " 5   Birth Place          357 non-null    object \n",
      " 6   Gender               357 non-null    object \n",
      " 7   Alma Mater           356 non-null    object \n",
      " 8   Undergraduate Major  335 non-null    object \n",
      " 9   Graduate Major       298 non-null    object \n",
      " 10  Military Rank        207 non-null    object \n",
      " 11  Military Branch      211 non-null    object \n",
      " 12  Space Flights        357 non-null    int64  \n",
      " 13  Space Flight (hr)    357 non-null    int64  \n",
      " 14  Space Walks          357 non-null    int64  \n",
      " 15  Space Walks (hr)     357 non-null    float64\n",
      " 16  Missions             334 non-null    object \n",
      " 17  Death Date           52 non-null     object \n",
      " 18  Death Mission        16 non-null     object \n",
      "dtypes: float64(3), int64(3), object(13)\n",
      "memory usage: 53.1+ KB\n"
     ]
    }
   ],
   "source": [
    "df_ast.info()"
   ]
  },
  {
   "cell_type": "code",
   "execution_count": 4,
   "id": "cd224a45",
   "metadata": {},
   "outputs": [
    {
     "data": {
      "text/plain": [
       "(357, 19)"
      ]
     },
     "execution_count": 4,
     "metadata": {},
     "output_type": "execute_result"
    }
   ],
   "source": [
    "df_ast.shape"
   ]
  },
  {
   "cell_type": "markdown",
   "id": "237050ae",
   "metadata": {},
   "source": [
    "4. Wie sind die Spaltennamen?"
   ]
  },
  {
   "cell_type": "code",
   "execution_count": null,
   "id": "dcfe43d0",
   "metadata": {},
   "outputs": [],
   "source": [
    "df_ast.columns.tolist()"
   ]
  },
  {
   "cell_type": "code",
   "execution_count": 5,
   "id": "eabfa925",
   "metadata": {},
   "outputs": [
    {
     "data": {
      "text/plain": [
       "Index(['Name', 'Year', 'Group', 'Status', 'Birth Date', 'Birth Place',\n",
       "       'Gender', 'Alma Mater', 'Undergraduate Major', 'Graduate Major',\n",
       "       'Military Rank', 'Military Branch', 'Space Flights',\n",
       "       'Space Flight (hr)', 'Space Walks', 'Space Walks (hr)', 'Missions',\n",
       "       'Death Date', 'Death Mission'],\n",
       "      dtype='object')"
      ]
     },
     "execution_count": 5,
     "metadata": {},
     "output_type": "execute_result"
    }
   ],
   "source": [
    "df_ast.columns"
   ]
  },
  {
   "cell_type": "markdown",
   "id": "7271d7ca",
   "metadata": {},
   "source": [
    "5. Welche Datentypen besitzen die Spalten?"
   ]
  },
  {
   "cell_type": "code",
   "execution_count": 6,
   "id": "21736362",
   "metadata": {},
   "outputs": [
    {
     "data": {
      "text/plain": [
       "Name                    object\n",
       "Year                   float64\n",
       "Group                  float64\n",
       "Status                  object\n",
       "Birth Date              object\n",
       "Birth Place             object\n",
       "Gender                  object\n",
       "Alma Mater              object\n",
       "Undergraduate Major     object\n",
       "Graduate Major          object\n",
       "Military Rank           object\n",
       "Military Branch         object\n",
       "Space Flights            int64\n",
       "Space Flight (hr)        int64\n",
       "Space Walks              int64\n",
       "Space Walks (hr)       float64\n",
       "Missions                object\n",
       "Death Date              object\n",
       "Death Mission           object\n",
       "dtype: object"
      ]
     },
     "execution_count": 6,
     "metadata": {},
     "output_type": "execute_result"
    }
   ],
   "source": [
    "df_ast.dtypes"
   ]
  },
  {
   "cell_type": "markdown",
   "id": "e642d150",
   "metadata": {},
   "source": [
    "5.1. Ermitteln Sie statistische Eckdaten für nummerische Variablen."
   ]
  },
  {
   "cell_type": "code",
   "execution_count": 26,
   "id": "18c9a8e6",
   "metadata": {},
   "outputs": [
    {
     "data": {
      "text/html": [
       "<div>\n",
       "<style scoped>\n",
       "    .dataframe tbody tr th:only-of-type {\n",
       "        vertical-align: middle;\n",
       "    }\n",
       "\n",
       "    .dataframe tbody tr th {\n",
       "        vertical-align: top;\n",
       "    }\n",
       "\n",
       "    .dataframe thead th {\n",
       "        text-align: right;\n",
       "    }\n",
       "</style>\n",
       "<table border=\"1\" class=\"dataframe\">\n",
       "  <thead>\n",
       "    <tr style=\"text-align: right;\">\n",
       "      <th></th>\n",
       "      <th>Year</th>\n",
       "      <th>Group</th>\n",
       "      <th>Space Flights</th>\n",
       "      <th>Space Flight (hr)</th>\n",
       "      <th>Space Walks</th>\n",
       "      <th>Space Walks (hr)</th>\n",
       "    </tr>\n",
       "  </thead>\n",
       "  <tbody>\n",
       "    <tr>\n",
       "      <th>count</th>\n",
       "      <td>330.000000</td>\n",
       "      <td>330.000000</td>\n",
       "      <td>357.000000</td>\n",
       "      <td>357.000000</td>\n",
       "      <td>357.000000</td>\n",
       "      <td>357.000000</td>\n",
       "    </tr>\n",
       "    <tr>\n",
       "      <th>mean</th>\n",
       "      <td>1985.106061</td>\n",
       "      <td>11.409091</td>\n",
       "      <td>2.364146</td>\n",
       "      <td>1249.266106</td>\n",
       "      <td>1.246499</td>\n",
       "      <td>7.707283</td>\n",
       "    </tr>\n",
       "    <tr>\n",
       "      <th>std</th>\n",
       "      <td>13.216147</td>\n",
       "      <td>5.149962</td>\n",
       "      <td>1.428700</td>\n",
       "      <td>1896.759857</td>\n",
       "      <td>2.056989</td>\n",
       "      <td>13.367973</td>\n",
       "    </tr>\n",
       "    <tr>\n",
       "      <th>min</th>\n",
       "      <td>1959.000000</td>\n",
       "      <td>1.000000</td>\n",
       "      <td>0.000000</td>\n",
       "      <td>0.000000</td>\n",
       "      <td>0.000000</td>\n",
       "      <td>0.000000</td>\n",
       "    </tr>\n",
       "    <tr>\n",
       "      <th>25%</th>\n",
       "      <td>1978.000000</td>\n",
       "      <td>8.000000</td>\n",
       "      <td>1.000000</td>\n",
       "      <td>289.000000</td>\n",
       "      <td>0.000000</td>\n",
       "      <td>0.000000</td>\n",
       "    </tr>\n",
       "    <tr>\n",
       "      <th>50%</th>\n",
       "      <td>1987.000000</td>\n",
       "      <td>12.000000</td>\n",
       "      <td>2.000000</td>\n",
       "      <td>590.000000</td>\n",
       "      <td>0.000000</td>\n",
       "      <td>0.000000</td>\n",
       "    </tr>\n",
       "    <tr>\n",
       "      <th>75%</th>\n",
       "      <td>1996.000000</td>\n",
       "      <td>16.000000</td>\n",
       "      <td>3.000000</td>\n",
       "      <td>1045.000000</td>\n",
       "      <td>2.000000</td>\n",
       "      <td>12.000000</td>\n",
       "    </tr>\n",
       "    <tr>\n",
       "      <th>max</th>\n",
       "      <td>2009.000000</td>\n",
       "      <td>20.000000</td>\n",
       "      <td>7.000000</td>\n",
       "      <td>12818.000000</td>\n",
       "      <td>10.000000</td>\n",
       "      <td>67.000000</td>\n",
       "    </tr>\n",
       "  </tbody>\n",
       "</table>\n",
       "</div>"
      ],
      "text/plain": [
       "              Year       Group  Space Flights  Space Flight (hr)  Space Walks  \\\n",
       "count   330.000000  330.000000     357.000000         357.000000   357.000000   \n",
       "mean   1985.106061   11.409091       2.364146        1249.266106     1.246499   \n",
       "std      13.216147    5.149962       1.428700        1896.759857     2.056989   \n",
       "min    1959.000000    1.000000       0.000000           0.000000     0.000000   \n",
       "25%    1978.000000    8.000000       1.000000         289.000000     0.000000   \n",
       "50%    1987.000000   12.000000       2.000000         590.000000     0.000000   \n",
       "75%    1996.000000   16.000000       3.000000        1045.000000     2.000000   \n",
       "max    2009.000000   20.000000       7.000000       12818.000000    10.000000   \n",
       "\n",
       "       Space Walks (hr)  \n",
       "count        357.000000  \n",
       "mean           7.707283  \n",
       "std           13.367973  \n",
       "min            0.000000  \n",
       "25%            0.000000  \n",
       "50%            0.000000  \n",
       "75%           12.000000  \n",
       "max           67.000000  "
      ]
     },
     "execution_count": 26,
     "metadata": {},
     "output_type": "execute_result"
    }
   ],
   "source": [
    "df_ast.describe()"
   ]
  },
  {
   "cell_type": "markdown",
   "id": "77f5dc72",
   "metadata": {},
   "source": [
    "5.2. Ermitteln Sie statistische Eckdaten für kategorische Variablen."
   ]
  },
  {
   "cell_type": "code",
   "execution_count": 27,
   "id": "5e285df6",
   "metadata": {},
   "outputs": [
    {
     "data": {
      "text/html": [
       "<div>\n",
       "<style scoped>\n",
       "    .dataframe tbody tr th:only-of-type {\n",
       "        vertical-align: middle;\n",
       "    }\n",
       "\n",
       "    .dataframe tbody tr th {\n",
       "        vertical-align: top;\n",
       "    }\n",
       "\n",
       "    .dataframe thead th {\n",
       "        text-align: right;\n",
       "    }\n",
       "</style>\n",
       "<table border=\"1\" class=\"dataframe\">\n",
       "  <thead>\n",
       "    <tr style=\"text-align: right;\">\n",
       "      <th></th>\n",
       "      <th>Name</th>\n",
       "      <th>Status</th>\n",
       "      <th>Birth Date</th>\n",
       "      <th>Birth Place</th>\n",
       "      <th>Gender</th>\n",
       "      <th>Alma Mater</th>\n",
       "      <th>Undergraduate Major</th>\n",
       "      <th>Graduate Major</th>\n",
       "      <th>Military Rank</th>\n",
       "      <th>Military Branch</th>\n",
       "      <th>Missions</th>\n",
       "      <th>Death Date</th>\n",
       "      <th>Death Mission</th>\n",
       "    </tr>\n",
       "  </thead>\n",
       "  <tbody>\n",
       "    <tr>\n",
       "      <th>count</th>\n",
       "      <td>357</td>\n",
       "      <td>357</td>\n",
       "      <td>357</td>\n",
       "      <td>357</td>\n",
       "      <td>357</td>\n",
       "      <td>356</td>\n",
       "      <td>335</td>\n",
       "      <td>298</td>\n",
       "      <td>207</td>\n",
       "      <td>211</td>\n",
       "      <td>334</td>\n",
       "      <td>52</td>\n",
       "      <td>16</td>\n",
       "    </tr>\n",
       "    <tr>\n",
       "      <th>unique</th>\n",
       "      <td>357</td>\n",
       "      <td>4</td>\n",
       "      <td>348</td>\n",
       "      <td>272</td>\n",
       "      <td>2</td>\n",
       "      <td>280</td>\n",
       "      <td>9</td>\n",
       "      <td>143</td>\n",
       "      <td>12</td>\n",
       "      <td>14</td>\n",
       "      <td>305</td>\n",
       "      <td>38</td>\n",
       "      <td>3</td>\n",
       "    </tr>\n",
       "    <tr>\n",
       "      <th>top</th>\n",
       "      <td>George D. Zamka</td>\n",
       "      <td>Retired</td>\n",
       "      <td>10/27/1946</td>\n",
       "      <td>Cleveland, OH</td>\n",
       "      <td>Male</td>\n",
       "      <td>US Naval Academy</td>\n",
       "      <td>others</td>\n",
       "      <td>Aeronautical Engineering</td>\n",
       "      <td>Colonel</td>\n",
       "      <td>US Air Force (Retired)</td>\n",
       "      <td>STS 51-F (Challenger)</td>\n",
       "      <td>1/28/1986</td>\n",
       "      <td>STS 51-L (Challenger)</td>\n",
       "    </tr>\n",
       "    <tr>\n",
       "      <th>freq</th>\n",
       "      <td>1</td>\n",
       "      <td>220</td>\n",
       "      <td>2</td>\n",
       "      <td>8</td>\n",
       "      <td>307</td>\n",
       "      <td>12</td>\n",
       "      <td>150</td>\n",
       "      <td>27</td>\n",
       "      <td>94</td>\n",
       "      <td>61</td>\n",
       "      <td>5</td>\n",
       "      <td>7</td>\n",
       "      <td>7</td>\n",
       "    </tr>\n",
       "  </tbody>\n",
       "</table>\n",
       "</div>"
      ],
      "text/plain": [
       "                   Name   Status  Birth Date    Birth Place Gender  \\\n",
       "count               357      357         357            357    357   \n",
       "unique              357        4         348            272      2   \n",
       "top     George D. Zamka  Retired  10/27/1946  Cleveland, OH   Male   \n",
       "freq                  1      220           2              8    307   \n",
       "\n",
       "              Alma Mater Undergraduate Major            Graduate Major  \\\n",
       "count                356                 335                       298   \n",
       "unique               280                   9                       143   \n",
       "top     US Naval Academy              others  Aeronautical Engineering   \n",
       "freq                  12                 150                        27   \n",
       "\n",
       "       Military Rank         Military Branch               Missions  \\\n",
       "count            207                     211                    334   \n",
       "unique            12                      14                    305   \n",
       "top          Colonel  US Air Force (Retired)  STS 51-F (Challenger)   \n",
       "freq              94                      61                      5   \n",
       "\n",
       "       Death Date          Death Mission  \n",
       "count          52                     16  \n",
       "unique         38                      3  \n",
       "top     1/28/1986  STS 51-L (Challenger)  \n",
       "freq            7                      7  "
      ]
     },
     "execution_count": 27,
     "metadata": {},
     "output_type": "execute_result"
    }
   ],
   "source": [
    "\n",
    "(df_ast.describe(include='object'))"
   ]
  },
  {
   "cell_type": "markdown",
   "id": "16a6225f",
   "metadata": {},
   "source": [
    "6. Gibt es Datenlücken in diesem Dataframe? Wenn ja, wie viele und in welchen Spalten?"
   ]
  },
  {
   "cell_type": "code",
   "execution_count": 28,
   "id": "e2154643",
   "metadata": {},
   "outputs": [
    {
     "name": "stdout",
     "output_type": "stream",
     "text": [
      "Year                    27\n",
      "Group                   27\n",
      "Alma Mater               1\n",
      "Undergraduate Major     22\n",
      "Graduate Major          59\n",
      "Military Rank          150\n",
      "Military Branch        146\n",
      "Missions                23\n",
      "Death Date             305\n",
      "Death Mission          341\n",
      "dtype: int64\n"
     ]
    }
   ],
   "source": [
    "missing_data = df_ast.isnull().sum()\n",
    "print(missing_data[missing_data > 0])"
   ]
  },
  {
   "cell_type": "markdown",
   "id": "86026072",
   "metadata": {},
   "source": [
    "7. Zeigen Sie die ersten 10 Zeilen aus Dataframe."
   ]
  },
  {
   "cell_type": "code",
   "execution_count": 10,
   "id": "4b9a9f3c",
   "metadata": {},
   "outputs": [
    {
     "data": {
      "text/html": [
       "<div>\n",
       "<style scoped>\n",
       "    .dataframe tbody tr th:only-of-type {\n",
       "        vertical-align: middle;\n",
       "    }\n",
       "\n",
       "    .dataframe tbody tr th {\n",
       "        vertical-align: top;\n",
       "    }\n",
       "\n",
       "    .dataframe thead th {\n",
       "        text-align: right;\n",
       "    }\n",
       "</style>\n",
       "<table border=\"1\" class=\"dataframe\">\n",
       "  <thead>\n",
       "    <tr style=\"text-align: right;\">\n",
       "      <th></th>\n",
       "      <th>Name</th>\n",
       "      <th>Year</th>\n",
       "      <th>Group</th>\n",
       "      <th>Status</th>\n",
       "      <th>Birth Date</th>\n",
       "      <th>Birth Place</th>\n",
       "      <th>Gender</th>\n",
       "      <th>Alma Mater</th>\n",
       "      <th>Undergraduate Major</th>\n",
       "      <th>Graduate Major</th>\n",
       "      <th>Military Rank</th>\n",
       "      <th>Military Branch</th>\n",
       "      <th>Space Flights</th>\n",
       "      <th>Space Flight (hr)</th>\n",
       "      <th>Space Walks</th>\n",
       "      <th>Space Walks (hr)</th>\n",
       "      <th>Missions</th>\n",
       "      <th>Death Date</th>\n",
       "      <th>Death Mission</th>\n",
       "    </tr>\n",
       "  </thead>\n",
       "  <tbody>\n",
       "    <tr>\n",
       "      <th>0</th>\n",
       "      <td>Joseph M. Acaba</td>\n",
       "      <td>2004.0</td>\n",
       "      <td>19.0</td>\n",
       "      <td>Active</td>\n",
       "      <td>5/17/1967</td>\n",
       "      <td>Inglewood, CA</td>\n",
       "      <td>Male</td>\n",
       "      <td>University of California-Santa Barbara; Univer...</td>\n",
       "      <td>Geology</td>\n",
       "      <td>Geology</td>\n",
       "      <td>NaN</td>\n",
       "      <td>NaN</td>\n",
       "      <td>2</td>\n",
       "      <td>3307</td>\n",
       "      <td>2</td>\n",
       "      <td>13.0</td>\n",
       "      <td>STS-119 (Discovery), ISS-31/32 (Soyuz)</td>\n",
       "      <td>NaN</td>\n",
       "      <td>NaN</td>\n",
       "    </tr>\n",
       "    <tr>\n",
       "      <th>1</th>\n",
       "      <td>Loren W. Acton</td>\n",
       "      <td>NaN</td>\n",
       "      <td>NaN</td>\n",
       "      <td>Retired</td>\n",
       "      <td>3/7/1936</td>\n",
       "      <td>Lewiston, MT</td>\n",
       "      <td>Male</td>\n",
       "      <td>Montana State University; University of Colorado</td>\n",
       "      <td>Engineering Physics</td>\n",
       "      <td>Solar Physics</td>\n",
       "      <td>NaN</td>\n",
       "      <td>NaN</td>\n",
       "      <td>1</td>\n",
       "      <td>190</td>\n",
       "      <td>0</td>\n",
       "      <td>0.0</td>\n",
       "      <td>STS 51-F (Challenger)</td>\n",
       "      <td>NaN</td>\n",
       "      <td>NaN</td>\n",
       "    </tr>\n",
       "    <tr>\n",
       "      <th>2</th>\n",
       "      <td>James C. Adamson</td>\n",
       "      <td>1984.0</td>\n",
       "      <td>10.0</td>\n",
       "      <td>Retired</td>\n",
       "      <td>3/3/1946</td>\n",
       "      <td>Warsaw, NY</td>\n",
       "      <td>Male</td>\n",
       "      <td>US Military Academy; Princeton University</td>\n",
       "      <td>Engineering</td>\n",
       "      <td>Aerospace Engineering</td>\n",
       "      <td>Colonel</td>\n",
       "      <td>US Army (Retired)</td>\n",
       "      <td>2</td>\n",
       "      <td>334</td>\n",
       "      <td>0</td>\n",
       "      <td>0.0</td>\n",
       "      <td>STS-28 (Columbia), STS-43 (Atlantis)</td>\n",
       "      <td>NaN</td>\n",
       "      <td>NaN</td>\n",
       "    </tr>\n",
       "    <tr>\n",
       "      <th>3</th>\n",
       "      <td>Thomas D. Akers</td>\n",
       "      <td>1987.0</td>\n",
       "      <td>12.0</td>\n",
       "      <td>Retired</td>\n",
       "      <td>5/20/1951</td>\n",
       "      <td>St. Louis, MO</td>\n",
       "      <td>Male</td>\n",
       "      <td>University of Missouri-Rolla</td>\n",
       "      <td>Applied Mathematics</td>\n",
       "      <td>Applied Mathematics</td>\n",
       "      <td>Colonel</td>\n",
       "      <td>US Air Force (Retired)</td>\n",
       "      <td>4</td>\n",
       "      <td>814</td>\n",
       "      <td>4</td>\n",
       "      <td>29.0</td>\n",
       "      <td>STS-41 (Discovery), STS-49 (Endeavor), STS-61 ...</td>\n",
       "      <td>NaN</td>\n",
       "      <td>NaN</td>\n",
       "    </tr>\n",
       "    <tr>\n",
       "      <th>4</th>\n",
       "      <td>Buzz Aldrin</td>\n",
       "      <td>1963.0</td>\n",
       "      <td>3.0</td>\n",
       "      <td>Retired</td>\n",
       "      <td>1/20/1930</td>\n",
       "      <td>Montclair, NJ</td>\n",
       "      <td>Male</td>\n",
       "      <td>US Military Academy; MIT</td>\n",
       "      <td>Mechanical Engineering</td>\n",
       "      <td>Astronautics</td>\n",
       "      <td>Colonel</td>\n",
       "      <td>US Air Force (Retired)</td>\n",
       "      <td>2</td>\n",
       "      <td>289</td>\n",
       "      <td>2</td>\n",
       "      <td>8.0</td>\n",
       "      <td>Gemini 12, Apollo 11</td>\n",
       "      <td>NaN</td>\n",
       "      <td>NaN</td>\n",
       "    </tr>\n",
       "    <tr>\n",
       "      <th>5</th>\n",
       "      <td>Andrew M. Allen</td>\n",
       "      <td>1987.0</td>\n",
       "      <td>12.0</td>\n",
       "      <td>Retired</td>\n",
       "      <td>8/4/1955</td>\n",
       "      <td>Philadelphia, PA</td>\n",
       "      <td>Male</td>\n",
       "      <td>Villanova University; University of Florida</td>\n",
       "      <td>Mechanical Engineering</td>\n",
       "      <td>Business Administration</td>\n",
       "      <td>Lieutenant Colonel</td>\n",
       "      <td>US Marine Corps (Retired)</td>\n",
       "      <td>3</td>\n",
       "      <td>906</td>\n",
       "      <td>0</td>\n",
       "      <td>0.0</td>\n",
       "      <td>STS-46 (Atlantis), STS-62 (Columbia), STS-75 (...</td>\n",
       "      <td>NaN</td>\n",
       "      <td>NaN</td>\n",
       "    </tr>\n",
       "    <tr>\n",
       "      <th>6</th>\n",
       "      <td>Joseph P. Allen</td>\n",
       "      <td>1967.0</td>\n",
       "      <td>6.0</td>\n",
       "      <td>Retired</td>\n",
       "      <td>6/27/1937</td>\n",
       "      <td>Crawsfordsville, IN</td>\n",
       "      <td>Male</td>\n",
       "      <td>DePauw University; Yale University</td>\n",
       "      <td>Mathematics &amp; Physics</td>\n",
       "      <td>Physics</td>\n",
       "      <td>NaN</td>\n",
       "      <td>NaN</td>\n",
       "      <td>2</td>\n",
       "      <td>313</td>\n",
       "      <td>2</td>\n",
       "      <td>12.0</td>\n",
       "      <td>ST-5 (Columbia), STS 51-A (Discovery)</td>\n",
       "      <td>NaN</td>\n",
       "      <td>NaN</td>\n",
       "    </tr>\n",
       "    <tr>\n",
       "      <th>7</th>\n",
       "      <td>Scott D. Altman</td>\n",
       "      <td>1995.0</td>\n",
       "      <td>15.0</td>\n",
       "      <td>Retired</td>\n",
       "      <td>8/15/1959</td>\n",
       "      <td>Lincoln, IL</td>\n",
       "      <td>Male</td>\n",
       "      <td>University of Illinois; US Naval Postgraduate ...</td>\n",
       "      <td>Aeronautical &amp; Astronautical Engineering</td>\n",
       "      <td>Aeronautical Engineering</td>\n",
       "      <td>Captain</td>\n",
       "      <td>US Navy (Retired)</td>\n",
       "      <td>4</td>\n",
       "      <td>1236</td>\n",
       "      <td>0</td>\n",
       "      <td>0.0</td>\n",
       "      <td>STS-90 (Columbia), STS-106 (Atlantis), STS-109...</td>\n",
       "      <td>NaN</td>\n",
       "      <td>NaN</td>\n",
       "    </tr>\n",
       "    <tr>\n",
       "      <th>8</th>\n",
       "      <td>William A. Anders</td>\n",
       "      <td>1963.0</td>\n",
       "      <td>3.0</td>\n",
       "      <td>Retired</td>\n",
       "      <td>10/17/1933</td>\n",
       "      <td>Hong Kong</td>\n",
       "      <td>Male</td>\n",
       "      <td>US Naval Academy; Air Force Institute of Techn...</td>\n",
       "      <td>Nuclear Engineering</td>\n",
       "      <td>Nuclear Engineering</td>\n",
       "      <td>Major General</td>\n",
       "      <td>US Air Force Reserves (Retired)</td>\n",
       "      <td>1</td>\n",
       "      <td>147</td>\n",
       "      <td>0</td>\n",
       "      <td>0.0</td>\n",
       "      <td>Apollo 8</td>\n",
       "      <td>NaN</td>\n",
       "      <td>NaN</td>\n",
       "    </tr>\n",
       "    <tr>\n",
       "      <th>9</th>\n",
       "      <td>Clayton C. Anderson</td>\n",
       "      <td>1998.0</td>\n",
       "      <td>17.0</td>\n",
       "      <td>Retired</td>\n",
       "      <td>2/23/1959</td>\n",
       "      <td>Omaha, NE</td>\n",
       "      <td>Male</td>\n",
       "      <td>Hastings College; Iowa State University</td>\n",
       "      <td>Physics</td>\n",
       "      <td>Aerospace Engineering</td>\n",
       "      <td>NaN</td>\n",
       "      <td>NaN</td>\n",
       "      <td>2</td>\n",
       "      <td>4005</td>\n",
       "      <td>6</td>\n",
       "      <td>38.0</td>\n",
       "      <td>STS-117/120 (Atlantis/Discovery), STS-131 (Dis...</td>\n",
       "      <td>NaN</td>\n",
       "      <td>NaN</td>\n",
       "    </tr>\n",
       "  </tbody>\n",
       "</table>\n",
       "</div>"
      ],
      "text/plain": [
       "                  Name    Year  Group   Status  Birth Date  \\\n",
       "0      Joseph M. Acaba  2004.0   19.0   Active   5/17/1967   \n",
       "1       Loren W. Acton     NaN    NaN  Retired    3/7/1936   \n",
       "2     James C. Adamson  1984.0   10.0  Retired    3/3/1946   \n",
       "3      Thomas D. Akers  1987.0   12.0  Retired   5/20/1951   \n",
       "4          Buzz Aldrin  1963.0    3.0  Retired   1/20/1930   \n",
       "5      Andrew M. Allen  1987.0   12.0  Retired    8/4/1955   \n",
       "6      Joseph P. Allen  1967.0    6.0  Retired   6/27/1937   \n",
       "7      Scott D. Altman  1995.0   15.0  Retired   8/15/1959   \n",
       "8    William A. Anders  1963.0    3.0  Retired  10/17/1933   \n",
       "9  Clayton C. Anderson  1998.0   17.0  Retired   2/23/1959   \n",
       "\n",
       "           Birth Place Gender  \\\n",
       "0        Inglewood, CA   Male   \n",
       "1         Lewiston, MT   Male   \n",
       "2           Warsaw, NY   Male   \n",
       "3        St. Louis, MO   Male   \n",
       "4        Montclair, NJ   Male   \n",
       "5     Philadelphia, PA   Male   \n",
       "6  Crawsfordsville, IN   Male   \n",
       "7          Lincoln, IL   Male   \n",
       "8            Hong Kong   Male   \n",
       "9            Omaha, NE   Male   \n",
       "\n",
       "                                          Alma Mater  \\\n",
       "0  University of California-Santa Barbara; Univer...   \n",
       "1   Montana State University; University of Colorado   \n",
       "2          US Military Academy; Princeton University   \n",
       "3                       University of Missouri-Rolla   \n",
       "4                           US Military Academy; MIT   \n",
       "5        Villanova University; University of Florida   \n",
       "6                 DePauw University; Yale University   \n",
       "7  University of Illinois; US Naval Postgraduate ...   \n",
       "8  US Naval Academy; Air Force Institute of Techn...   \n",
       "9            Hastings College; Iowa State University   \n",
       "\n",
       "                        Undergraduate Major            Graduate Major  \\\n",
       "0                                   Geology                   Geology   \n",
       "1                       Engineering Physics             Solar Physics   \n",
       "2                               Engineering     Aerospace Engineering   \n",
       "3                       Applied Mathematics       Applied Mathematics   \n",
       "4                    Mechanical Engineering              Astronautics   \n",
       "5                    Mechanical Engineering   Business Administration   \n",
       "6                     Mathematics & Physics                   Physics   \n",
       "7  Aeronautical & Astronautical Engineering  Aeronautical Engineering   \n",
       "8                       Nuclear Engineering       Nuclear Engineering   \n",
       "9                                   Physics     Aerospace Engineering   \n",
       "\n",
       "        Military Rank                  Military Branch  Space Flights  \\\n",
       "0                 NaN                              NaN              2   \n",
       "1                 NaN                              NaN              1   \n",
       "2             Colonel                US Army (Retired)              2   \n",
       "3             Colonel           US Air Force (Retired)              4   \n",
       "4             Colonel           US Air Force (Retired)              2   \n",
       "5  Lieutenant Colonel        US Marine Corps (Retired)              3   \n",
       "6                 NaN                              NaN              2   \n",
       "7             Captain                US Navy (Retired)              4   \n",
       "8       Major General  US Air Force Reserves (Retired)              1   \n",
       "9                 NaN                              NaN              2   \n",
       "\n",
       "   Space Flight (hr)  Space Walks  Space Walks (hr)  \\\n",
       "0               3307            2              13.0   \n",
       "1                190            0               0.0   \n",
       "2                334            0               0.0   \n",
       "3                814            4              29.0   \n",
       "4                289            2               8.0   \n",
       "5                906            0               0.0   \n",
       "6                313            2              12.0   \n",
       "7               1236            0               0.0   \n",
       "8                147            0               0.0   \n",
       "9               4005            6              38.0   \n",
       "\n",
       "                                            Missions Death Date Death Mission  \n",
       "0             STS-119 (Discovery), ISS-31/32 (Soyuz)        NaN           NaN  \n",
       "1                              STS 51-F (Challenger)        NaN           NaN  \n",
       "2               STS-28 (Columbia), STS-43 (Atlantis)        NaN           NaN  \n",
       "3  STS-41 (Discovery), STS-49 (Endeavor), STS-61 ...        NaN           NaN  \n",
       "4                               Gemini 12, Apollo 11        NaN           NaN  \n",
       "5  STS-46 (Atlantis), STS-62 (Columbia), STS-75 (...        NaN           NaN  \n",
       "6              ST-5 (Columbia), STS 51-A (Discovery)        NaN           NaN  \n",
       "7  STS-90 (Columbia), STS-106 (Atlantis), STS-109...        NaN           NaN  \n",
       "8                                           Apollo 8        NaN           NaN  \n",
       "9  STS-117/120 (Atlantis/Discovery), STS-131 (Dis...        NaN           NaN  "
      ]
     },
     "execution_count": 10,
     "metadata": {},
     "output_type": "execute_result"
    }
   ],
   "source": [
    "df_ast.head(10)"
   ]
  },
  {
   "cell_type": "markdown",
   "id": "d87fddb4",
   "metadata": {},
   "source": [
    "8. Wieviele Astronauten sind weiblich und wieviele männlich?"
   ]
  },
  {
   "cell_type": "code",
   "execution_count": null,
   "id": "52343a11",
   "metadata": {},
   "outputs": [],
   "source": [
    "geschlecht  = df_ast.groupby('Gender').size()\n",
    "geschlecht.to_frame('Number')"
   ]
  },
  {
   "cell_type": "code",
   "execution_count": 14,
   "id": "adec9713",
   "metadata": {},
   "outputs": [
    {
     "data": {
      "text/plain": [
       "Gender\n",
       "Male      307\n",
       "Female     50\n",
       "Name: count, dtype: int64"
      ]
     },
     "execution_count": 14,
     "metadata": {},
     "output_type": "execute_result"
    }
   ],
   "source": [
    "df_ast.Gender.value_counts()"
   ]
  },
  {
   "cell_type": "markdown",
   "id": "0af03be8",
   "metadata": {},
   "source": [
    "9. Wie viele sind  `Major` (Military Rank)?"
   ]
  },
  {
   "cell_type": "code",
   "execution_count": 16,
   "id": "9aa2c34a",
   "metadata": {},
   "outputs": [
    {
     "data": {
      "text/plain": [
       "np.int64(5)"
      ]
     },
     "execution_count": 16,
     "metadata": {},
     "output_type": "execute_result"
    }
   ],
   "source": [
    "(df_ast['Military Rank']=='Major').sum()"
   ]
  },
  {
   "cell_type": "markdown",
   "id": "4fae8c1e",
   "metadata": {},
   "source": [
    "10. Welche Fächer haben die Astronauten als `Undergraduate Major` studiert?"
   ]
  },
  {
   "cell_type": "code",
   "execution_count": 17,
   "id": "44eafe80",
   "metadata": {},
   "outputs": [
    {
     "data": {
      "text/plain": [
       "array(['Geology', 'Engineering Physics', 'Engineering',\n",
       "       'Applied Mathematics', 'Mechanical Engineering',\n",
       "       'Mathematics & Physics',\n",
       "       'Aeronautical & Astronautical Engineering', 'Nuclear Engineering',\n",
       "       'Physics', 'Physics & Astronomy', 'Aeronautics & Astronautics',\n",
       "       'Aeronautical Engineering', 'Accounting', 'Electrical Engineering',\n",
       "       'Aerospace Engineering', 'Zoology',\n",
       "       'Physics & Mechanical Engineering', 'Engineering Science',\n",
       "       'Engineering Mechanics', nan, 'Electrical Science',\n",
       "       'Business Management; Aeronautical Engineering', 'Mathematics',\n",
       "       'Biology', 'Biochemistry', 'Chemistry',\n",
       "       'Aerospace Engineering & Mechanics', 'Physics & Mathematics',\n",
       "       'Chemical Engineering', 'Biological Science',\n",
       "       'Mathematics & Economics',\n",
       "       'Applied Biology; Mechanical Engineering',\n",
       "       'Chemistry; Physiological Optics',\n",
       "       'Physics & Astronautical Engineering', 'Naval Sciences',\n",
       "       'Ceramic Engineering', 'Astronautical Engineering', 'Astronautics',\n",
       "       'Animal Nutrition', 'Solid Earth Sciences',\n",
       "       'Aeronautics & Astronautics; Earth, Atmospheric & Planetary Sciences',\n",
       "       'Applied Science & Engineering', 'Psychology',\n",
       "       'Business Economics',\n",
       "       'Engineering Sciences; Astronautics & Mathematics',\n",
       "       'Business Finance', 'Ocean Engineering', 'Civil Engineering',\n",
       "       'Engineering Management', 'Astronomy', 'Chemistry & Biology',\n",
       "       'Marine Engineering & Nautical Science', 'Philosophy',\n",
       "       'Computer Science', 'Bioscience', 'Animal Science',\n",
       "       'Systems Engineering', 'Physics & Engineering',\n",
       "       'Industrial Engineering',\n",
       "       'Electrical Engineering; Computer Science', 'Education',\n",
       "       'Metallurgical Engineering', 'Electronics Engineering',\n",
       "       'Industrial Management', 'Human Biology',\n",
       "       'Mathematical & Electrical Science', 'Military Engineering',\n",
       "       'Mathematics & Statistics; Chemistry', 'Biology & Psychology',\n",
       "       'Mathematics; Russian', 'Geosciences', 'Economics',\n",
       "       'Physics; English', 'Mechanical & Aeronautical Engineering',\n",
       "       'Molecular Biology', 'Earth & Planetary Science', 'Music',\n",
       "       'Physiology', 'Ecological Science', 'Earth Sciences',\n",
       "       'Space Physics', 'Physical Science',\n",
       "       'Computer & Systems Engineering', 'Military Science'], dtype=object)"
      ]
     },
     "execution_count": 17,
     "metadata": {},
     "output_type": "execute_result"
    }
   ],
   "source": [
    "df_ast['Undergraduate Major'].unique()"
   ]
  },
  {
   "cell_type": "code",
   "execution_count": 19,
   "id": "1f67eb8f",
   "metadata": {},
   "outputs": [
    {
     "data": {
      "text/plain": [
       "Undergraduate Major\n",
       "Physics & Mechanical Engineering             1\n",
       "Industrial Management                        1\n",
       "Electronics Engineering                      1\n",
       "Metallurgical Engineering                    1\n",
       "Electrical Engineering; Computer Science     1\n",
       "                                            ..\n",
       "Electrical Engineering                      23\n",
       "Aeronautical Engineering                    28\n",
       "Mechanical Engineering                      30\n",
       "Aerospace Engineering                       33\n",
       "Physics                                     35\n",
       "Name: count, Length: 83, dtype: int64"
      ]
     },
     "execution_count": 19,
     "metadata": {},
     "output_type": "execute_result"
    }
   ],
   "source": [
    "df_ast['Undergraduate Major'].value_counts().sort_values()"
   ]
  },
  {
   "cell_type": "markdown",
   "id": "76d8d486",
   "metadata": {},
   "source": [
    "11. Die Spalte `Undergraduate Major` enthält viele Fächer. Manche diese Fächer kommen nur 1 mal vor.  \n",
    "Schreiben Sie eine Funktion, die alle Fächer in dieser Spalte mit einer Häufigkeit von 1 bis 10 in einer neuen Kategorie `others` einstuft, bzw. ersetzt."
   ]
  },
  {
   "cell_type": "code",
   "execution_count": 8,
   "id": "5534758e",
   "metadata": {},
   "outputs": [
    {
     "data": {
      "text/plain": [
       "Undergraduate Major\n",
       "Others                      150\n",
       "Physics                      35\n",
       "Aerospace Engineering        33\n",
       "Mechanical Engineering       30\n",
       "Aeronautical Engineering     28\n",
       "Electrical Engineering       23\n",
       "Engineering Science          13\n",
       "Engineering                  12\n",
       "Mathematics                  11\n",
       "Name: count, dtype: int64"
      ]
     },
     "execution_count": 8,
     "metadata": {},
     "output_type": "execute_result"
    }
   ],
   "source": [
    "majors = df_ast['Undergraduate Major'].value_counts()\n",
    "minors = majors[majors<=10]\n",
    "\n",
    "def convert(val):\n",
    "    if val in minors:\n",
    "        return 'Others'\n",
    "    else: \n",
    "        return val\n",
    "df_ast['Undergraduate Major'] = df_ast['Undergraduate Major'].apply(convert)\n",
    "df_ast['Undergraduate Major'].value_counts()"
   ]
  },
  {
   "cell_type": "code",
   "execution_count": 12,
   "id": "eae79031",
   "metadata": {},
   "outputs": [
    {
     "data": {
      "text/plain": [
       "Index(['Chemistry', 'Chemical Engineering', 'Naval Sciences',\n",
       "       'Astronautical Engineering', 'Aeronautical & Astronautical Engineering',\n",
       "       'Biology', 'Civil Engineering', 'Mathematics & Physics', 'Geology',\n",
       "       'Applied Science & Engineering', 'Physics & Astronomy',\n",
       "       'Computer Science', 'Aeronautics & Astronautics', 'Applied Mathematics',\n",
       "       'Engineering Physics', 'Engineering Mechanics', 'Ocean Engineering',\n",
       "       'Chemistry & Biology', 'Zoology', 'Physics & Mathematics',\n",
       "       'Engineering Management', 'Education', 'Biological Science',\n",
       "       'Physics & Mechanical Engineering', 'Accounting', 'Nuclear Engineering',\n",
       "       'Biochemistry', 'Ceramic Engineering',\n",
       "       'Physics & Astronautical Engineering',\n",
       "       'Chemistry; Physiological Optics',\n",
       "       'Applied Biology; Mechanical Engineering', 'Mathematics & Economics',\n",
       "       'Business Management; Aeronautical Engineering', 'Animal Nutrition',\n",
       "       'Astronautics', 'Business Economics', 'Psychology',\n",
       "       'Aeronautics & Astronautics; Earth, Atmospheric & Planetary Sciences',\n",
       "       'Solid Earth Sciences',\n",
       "       'Engineering Sciences; Astronautics & Mathematics', 'Business Finance',\n",
       "       'Aerospace Engineering & Mechanics', 'Electrical Science',\n",
       "       'Marine Engineering & Nautical Science', 'Astronomy', 'Bioscience',\n",
       "       'Philosophy', 'Systems Engineering', 'Physics & Engineering',\n",
       "       'Industrial Engineering', 'Animal Science',\n",
       "       'Electrical Engineering; Computer Science', 'Metallurgical Engineering',\n",
       "       'Electronics Engineering', 'Industrial Management', 'Human Biology',\n",
       "       'Mathematical & Electrical Science', 'Military Engineering',\n",
       "       'Mathematics & Statistics; Chemistry', 'Biology & Psychology',\n",
       "       'Mathematics; Russian', 'Geosciences', 'Economics', 'Physics; English',\n",
       "       'Mechanical & Aeronautical Engineering', 'Molecular Biology',\n",
       "       'Earth & Planetary Science', 'Music', 'Physiology',\n",
       "       'Ecological Science', 'Earth Sciences', 'Space Physics',\n",
       "       'Physical Science', 'Computer & Systems Engineering',\n",
       "       'Military Science'],\n",
       "      dtype='object', name='Undergraduate Major')"
      ]
     },
     "execution_count": 12,
     "metadata": {},
     "output_type": "execute_result"
    }
   ],
   "source": [
    "minors.index"
   ]
  },
  {
   "cell_type": "code",
   "execution_count": 11,
   "id": "f37a56d2",
   "metadata": {},
   "outputs": [
    {
     "data": {
      "text/html": [
       "<div>\n",
       "<style scoped>\n",
       "    .dataframe tbody tr th:only-of-type {\n",
       "        vertical-align: middle;\n",
       "    }\n",
       "\n",
       "    .dataframe tbody tr th {\n",
       "        vertical-align: top;\n",
       "    }\n",
       "\n",
       "    .dataframe thead th {\n",
       "        text-align: right;\n",
       "    }\n",
       "</style>\n",
       "<table border=\"1\" class=\"dataframe\">\n",
       "  <thead>\n",
       "    <tr style=\"text-align: right;\">\n",
       "      <th></th>\n",
       "      <th>count</th>\n",
       "    </tr>\n",
       "    <tr>\n",
       "      <th>Undergraduate Major</th>\n",
       "      <th></th>\n",
       "    </tr>\n",
       "  </thead>\n",
       "  <tbody>\n",
       "    <tr>\n",
       "      <th>Chemistry</th>\n",
       "      <td>10</td>\n",
       "    </tr>\n",
       "    <tr>\n",
       "      <th>Chemical Engineering</th>\n",
       "      <td>9</td>\n",
       "    </tr>\n",
       "    <tr>\n",
       "      <th>Naval Sciences</th>\n",
       "      <td>9</td>\n",
       "    </tr>\n",
       "    <tr>\n",
       "      <th>Astronautical Engineering</th>\n",
       "      <td>8</td>\n",
       "    </tr>\n",
       "    <tr>\n",
       "      <th>Aeronautical &amp; Astronautical Engineering</th>\n",
       "      <td>6</td>\n",
       "    </tr>\n",
       "    <tr>\n",
       "      <th>...</th>\n",
       "      <td>...</td>\n",
       "    </tr>\n",
       "    <tr>\n",
       "      <th>Earth Sciences</th>\n",
       "      <td>1</td>\n",
       "    </tr>\n",
       "    <tr>\n",
       "      <th>Space Physics</th>\n",
       "      <td>1</td>\n",
       "    </tr>\n",
       "    <tr>\n",
       "      <th>Physical Science</th>\n",
       "      <td>1</td>\n",
       "    </tr>\n",
       "    <tr>\n",
       "      <th>Computer &amp; Systems Engineering</th>\n",
       "      <td>1</td>\n",
       "    </tr>\n",
       "    <tr>\n",
       "      <th>Military Science</th>\n",
       "      <td>1</td>\n",
       "    </tr>\n",
       "  </tbody>\n",
       "</table>\n",
       "<p>75 rows × 1 columns</p>\n",
       "</div>"
      ],
      "text/plain": [
       "                                          count\n",
       "Undergraduate Major                            \n",
       "Chemistry                                    10\n",
       "Chemical Engineering                          9\n",
       "Naval Sciences                                9\n",
       "Astronautical Engineering                     8\n",
       "Aeronautical & Astronautical Engineering      6\n",
       "...                                         ...\n",
       "Earth Sciences                                1\n",
       "Space Physics                                 1\n",
       "Physical Science                              1\n",
       "Computer & Systems Engineering                1\n",
       "Military Science                              1\n",
       "\n",
       "[75 rows x 1 columns]"
      ]
     },
     "execution_count": 11,
     "metadata": {},
     "output_type": "execute_result"
    }
   ],
   "source": [
    "minors.to_frame()"
   ]
  },
  {
   "cell_type": "code",
   "execution_count": null,
   "id": "304e96fd",
   "metadata": {},
   "outputs": [
    {
     "name": "stdout",
     "output_type": "stream",
     "text": [
      "Undergraduate Major\n",
      "others                      150\n",
      "Physics                      35\n",
      "Aerospace Engineering        33\n",
      "Mechanical Engineering       30\n",
      "Aeronautical Engineering     28\n",
      "Electrical Engineering       23\n",
      "Engineering Science          13\n",
      "Engineering                  12\n",
      "Mathematics                  11\n",
      "Name: count, dtype: int64\n"
     ]
    }
   ],
   "source": [
    "# Define the function to categorize infrequent majors as \"others\"\n",
    "def categorize_majors(df, column):\n",
    "    major_counts = df[column].value_counts()\n",
    "\n",
    "    infrequent_majors = major_counts[(major_counts >= 1) & (major_counts <= 10)].index\n",
    "\n",
    "    df[column] = df[column].apply(lambda x: \"others\" if x in infrequent_majors else x)\n",
    "\n",
    "categorize_majors(df_ast, 'Undergraduate Major')\n",
    "\n",
    "print(df_ast['Undergraduate Major'].value_counts())\n"
   ]
  },
  {
   "cell_type": "code",
   "execution_count": 53,
   "id": "f719786e",
   "metadata": {},
   "outputs": [
    {
     "data": {
      "text/html": [
       "<div>\n",
       "<style scoped>\n",
       "    .dataframe tbody tr th:only-of-type {\n",
       "        vertical-align: middle;\n",
       "    }\n",
       "\n",
       "    .dataframe tbody tr th {\n",
       "        vertical-align: top;\n",
       "    }\n",
       "\n",
       "    .dataframe thead th {\n",
       "        text-align: right;\n",
       "    }\n",
       "</style>\n",
       "<table border=\"1\" class=\"dataframe\">\n",
       "  <thead>\n",
       "    <tr style=\"text-align: right;\">\n",
       "      <th></th>\n",
       "      <th>Name</th>\n",
       "      <th>Year</th>\n",
       "      <th>Group</th>\n",
       "      <th>Status</th>\n",
       "      <th>Birth Date</th>\n",
       "      <th>Birth Place</th>\n",
       "      <th>Gender</th>\n",
       "      <th>Alma Mater</th>\n",
       "      <th>Undergraduate Major</th>\n",
       "      <th>Graduate Major</th>\n",
       "      <th>Military Rank</th>\n",
       "      <th>Military Branch</th>\n",
       "      <th>Space Flights</th>\n",
       "      <th>Space Flight (hr)</th>\n",
       "      <th>Space Walks</th>\n",
       "      <th>Space Walks (hr)</th>\n",
       "      <th>Missions</th>\n",
       "      <th>Death Date</th>\n",
       "      <th>Death Mission</th>\n",
       "    </tr>\n",
       "  </thead>\n",
       "  <tbody>\n",
       "    <tr>\n",
       "      <th>0</th>\n",
       "      <td>Joseph M. Acaba</td>\n",
       "      <td>2004.0</td>\n",
       "      <td>19.0</td>\n",
       "      <td>Active</td>\n",
       "      <td>5/17/1967</td>\n",
       "      <td>Inglewood, CA</td>\n",
       "      <td>Male</td>\n",
       "      <td>University of California-Santa Barbara; Univer...</td>\n",
       "      <td>others</td>\n",
       "      <td>Geology</td>\n",
       "      <td>NaN</td>\n",
       "      <td>NaN</td>\n",
       "      <td>2</td>\n",
       "      <td>3307</td>\n",
       "      <td>2</td>\n",
       "      <td>13.0</td>\n",
       "      <td>STS-119 (Discovery), ISS-31/32 (Soyuz)</td>\n",
       "      <td>NaN</td>\n",
       "      <td>NaN</td>\n",
       "    </tr>\n",
       "    <tr>\n",
       "      <th>1</th>\n",
       "      <td>Loren W. Acton</td>\n",
       "      <td>NaN</td>\n",
       "      <td>NaN</td>\n",
       "      <td>Retired</td>\n",
       "      <td>3/7/1936</td>\n",
       "      <td>Lewiston, MT</td>\n",
       "      <td>Male</td>\n",
       "      <td>Montana State University; University of Colorado</td>\n",
       "      <td>others</td>\n",
       "      <td>Solar Physics</td>\n",
       "      <td>NaN</td>\n",
       "      <td>NaN</td>\n",
       "      <td>1</td>\n",
       "      <td>190</td>\n",
       "      <td>0</td>\n",
       "      <td>0.0</td>\n",
       "      <td>STS 51-F (Challenger)</td>\n",
       "      <td>NaN</td>\n",
       "      <td>NaN</td>\n",
       "    </tr>\n",
       "    <tr>\n",
       "      <th>2</th>\n",
       "      <td>James C. Adamson</td>\n",
       "      <td>1984.0</td>\n",
       "      <td>10.0</td>\n",
       "      <td>Retired</td>\n",
       "      <td>3/3/1946</td>\n",
       "      <td>Warsaw, NY</td>\n",
       "      <td>Male</td>\n",
       "      <td>US Military Academy; Princeton University</td>\n",
       "      <td>Engineering</td>\n",
       "      <td>Aerospace Engineering</td>\n",
       "      <td>Colonel</td>\n",
       "      <td>US Army (Retired)</td>\n",
       "      <td>2</td>\n",
       "      <td>334</td>\n",
       "      <td>0</td>\n",
       "      <td>0.0</td>\n",
       "      <td>STS-28 (Columbia), STS-43 (Atlantis)</td>\n",
       "      <td>NaN</td>\n",
       "      <td>NaN</td>\n",
       "    </tr>\n",
       "    <tr>\n",
       "      <th>3</th>\n",
       "      <td>Thomas D. Akers</td>\n",
       "      <td>1987.0</td>\n",
       "      <td>12.0</td>\n",
       "      <td>Retired</td>\n",
       "      <td>5/20/1951</td>\n",
       "      <td>St. Louis, MO</td>\n",
       "      <td>Male</td>\n",
       "      <td>University of Missouri-Rolla</td>\n",
       "      <td>others</td>\n",
       "      <td>Applied Mathematics</td>\n",
       "      <td>Colonel</td>\n",
       "      <td>US Air Force (Retired)</td>\n",
       "      <td>4</td>\n",
       "      <td>814</td>\n",
       "      <td>4</td>\n",
       "      <td>29.0</td>\n",
       "      <td>STS-41 (Discovery), STS-49 (Endeavor), STS-61 ...</td>\n",
       "      <td>NaN</td>\n",
       "      <td>NaN</td>\n",
       "    </tr>\n",
       "    <tr>\n",
       "      <th>4</th>\n",
       "      <td>Buzz Aldrin</td>\n",
       "      <td>1963.0</td>\n",
       "      <td>3.0</td>\n",
       "      <td>Retired</td>\n",
       "      <td>1/20/1930</td>\n",
       "      <td>Montclair, NJ</td>\n",
       "      <td>Male</td>\n",
       "      <td>US Military Academy; MIT</td>\n",
       "      <td>Mechanical Engineering</td>\n",
       "      <td>Astronautics</td>\n",
       "      <td>Colonel</td>\n",
       "      <td>US Air Force (Retired)</td>\n",
       "      <td>2</td>\n",
       "      <td>289</td>\n",
       "      <td>2</td>\n",
       "      <td>8.0</td>\n",
       "      <td>Gemini 12, Apollo 11</td>\n",
       "      <td>NaN</td>\n",
       "      <td>NaN</td>\n",
       "    </tr>\n",
       "  </tbody>\n",
       "</table>\n",
       "</div>"
      ],
      "text/plain": [
       "               Name    Year  Group   Status Birth Date    Birth Place Gender  \\\n",
       "0   Joseph M. Acaba  2004.0   19.0   Active  5/17/1967  Inglewood, CA   Male   \n",
       "1    Loren W. Acton     NaN    NaN  Retired   3/7/1936   Lewiston, MT   Male   \n",
       "2  James C. Adamson  1984.0   10.0  Retired   3/3/1946     Warsaw, NY   Male   \n",
       "3   Thomas D. Akers  1987.0   12.0  Retired  5/20/1951  St. Louis, MO   Male   \n",
       "4       Buzz Aldrin  1963.0    3.0  Retired  1/20/1930  Montclair, NJ   Male   \n",
       "\n",
       "                                          Alma Mater     Undergraduate Major  \\\n",
       "0  University of California-Santa Barbara; Univer...                  others   \n",
       "1   Montana State University; University of Colorado                  others   \n",
       "2          US Military Academy; Princeton University             Engineering   \n",
       "3                       University of Missouri-Rolla                  others   \n",
       "4                           US Military Academy; MIT  Mechanical Engineering   \n",
       "\n",
       "          Graduate Major Military Rank         Military Branch  Space Flights  \\\n",
       "0                Geology           NaN                     NaN              2   \n",
       "1          Solar Physics           NaN                     NaN              1   \n",
       "2  Aerospace Engineering       Colonel       US Army (Retired)              2   \n",
       "3    Applied Mathematics       Colonel  US Air Force (Retired)              4   \n",
       "4           Astronautics       Colonel  US Air Force (Retired)              2   \n",
       "\n",
       "   Space Flight (hr)  Space Walks  Space Walks (hr)  \\\n",
       "0               3307            2              13.0   \n",
       "1                190            0               0.0   \n",
       "2                334            0               0.0   \n",
       "3                814            4              29.0   \n",
       "4                289            2               8.0   \n",
       "\n",
       "                                            Missions Death Date Death Mission  \n",
       "0             STS-119 (Discovery), ISS-31/32 (Soyuz)        NaN           NaN  \n",
       "1                              STS 51-F (Challenger)        NaN           NaN  \n",
       "2               STS-28 (Columbia), STS-43 (Atlantis)        NaN           NaN  \n",
       "3  STS-41 (Discovery), STS-49 (Endeavor), STS-61 ...        NaN           NaN  \n",
       "4                               Gemini 12, Apollo 11        NaN           NaN  "
      ]
     },
     "execution_count": 53,
     "metadata": {},
     "output_type": "execute_result"
    }
   ],
   "source": [
    "df_ast.head()"
   ]
  },
  {
   "cell_type": "markdown",
   "id": "437165c2",
   "metadata": {},
   "source": [
    "12. Die Spalte `Space Flights` enthält Anzahl der Raumfahrten für jeden Astronauten.  \n",
    "Ermitteln Sie den Maximum, Minimum und Durchschnitt dieser Spalte."
   ]
  },
  {
   "cell_type": "code",
   "execution_count": 25,
   "id": "14349cda",
   "metadata": {},
   "outputs": [
    {
     "data": {
      "text/plain": [
       "count    357.000000\n",
       "mean       2.364146\n",
       "std        1.428700\n",
       "min        0.000000\n",
       "25%        1.000000\n",
       "50%        2.000000\n",
       "75%        3.000000\n",
       "max        7.000000\n",
       "Name: Space Flights, dtype: float64"
      ]
     },
     "execution_count": 25,
     "metadata": {},
     "output_type": "execute_result"
    }
   ],
   "source": [
    "df_ast['Space Flights'].describe()"
   ]
  },
  {
   "cell_type": "code",
   "execution_count": 13,
   "id": "fdf0d303",
   "metadata": {},
   "outputs": [
    {
     "name": "stdout",
     "output_type": "stream",
     "text": [
      "Max Space Flights: 7\n",
      "Min Space Flights: 0\n",
      "Average Space Flights: 2.364\n"
     ]
    }
   ],
   "source": [
    "print(\"Max Space Flights:\", df_ast['Space Flights'].max())\n",
    "print(\"Min Space Flights:\", df_ast['Space Flights'].min())\n",
    "print(\"Average Space Flights:\", df_ast['Space Flights'].mean().round(3))\n"
   ]
  },
  {
   "cell_type": "markdown",
   "id": "5358ec8d",
   "metadata": {},
   "source": [
    "13. Visualisieren Sie die Häufigkeiten der `Space Flights`"
   ]
  },
  {
   "cell_type": "code",
   "execution_count": null,
   "id": "ea8ce737",
   "metadata": {},
   "outputs": [
    {
     "data": {
      "image/png": "[encoded data removed]",
      "text/plain": [
       "<Figure size 640x480 with 1 Axes>"
      ]
     },
     "metadata": {},
     "output_type": "display_data"
    }
   ],
   "source": [
    "# Histogram for Space Flights\n",
    "sns.histplot(df_ast['Space Flights'], bins=10, kde=True)\n",
    "plt.xlabel('Space Flights')\n",
    "plt.title('Distribution of Space Flights')\n",
    "plt.show()"
   ]
  },
  {
   "cell_type": "markdown",
   "id": "6a1a315b",
   "metadata": {},
   "source": [
    "14. Erstellen Sie aus kategorischen Variablen ein neues Dataframe."
   ]
  },
  {
   "cell_type": "code",
   "execution_count": 31,
   "id": "70560651",
   "metadata": {},
   "outputs": [
    {
     "data": {
      "text/html": [
       "<div>\n",
       "<style scoped>\n",
       "    .dataframe tbody tr th:only-of-type {\n",
       "        vertical-align: middle;\n",
       "    }\n",
       "\n",
       "    .dataframe tbody tr th {\n",
       "        vertical-align: top;\n",
       "    }\n",
       "\n",
       "    .dataframe thead th {\n",
       "        text-align: right;\n",
       "    }\n",
       "</style>\n",
       "<table border=\"1\" class=\"dataframe\">\n",
       "  <thead>\n",
       "    <tr style=\"text-align: right;\">\n",
       "      <th></th>\n",
       "      <th>Name</th>\n",
       "      <th>Status</th>\n",
       "      <th>Birth Date</th>\n",
       "      <th>Birth Place</th>\n",
       "      <th>Gender</th>\n",
       "      <th>Alma Mater</th>\n",
       "      <th>Undergraduate Major</th>\n",
       "      <th>Graduate Major</th>\n",
       "      <th>Military Rank</th>\n",
       "      <th>Military Branch</th>\n",
       "      <th>Missions</th>\n",
       "      <th>Death Date</th>\n",
       "      <th>Death Mission</th>\n",
       "    </tr>\n",
       "  </thead>\n",
       "  <tbody>\n",
       "    <tr>\n",
       "      <th>0</th>\n",
       "      <td>Joseph M. Acaba</td>\n",
       "      <td>Active</td>\n",
       "      <td>5/17/1967</td>\n",
       "      <td>Inglewood, CA</td>\n",
       "      <td>Male</td>\n",
       "      <td>University of California-Santa Barbara; Univer...</td>\n",
       "      <td>others</td>\n",
       "      <td>Geology</td>\n",
       "      <td>NaN</td>\n",
       "      <td>NaN</td>\n",
       "      <td>STS-119 (Discovery), ISS-31/32 (Soyuz)</td>\n",
       "      <td>NaN</td>\n",
       "      <td>NaN</td>\n",
       "    </tr>\n",
       "    <tr>\n",
       "      <th>1</th>\n",
       "      <td>Loren W. Acton</td>\n",
       "      <td>Retired</td>\n",
       "      <td>3/7/1936</td>\n",
       "      <td>Lewiston, MT</td>\n",
       "      <td>Male</td>\n",
       "      <td>Montana State University; University of Colorado</td>\n",
       "      <td>others</td>\n",
       "      <td>Solar Physics</td>\n",
       "      <td>NaN</td>\n",
       "      <td>NaN</td>\n",
       "      <td>STS 51-F (Challenger)</td>\n",
       "      <td>NaN</td>\n",
       "      <td>NaN</td>\n",
       "    </tr>\n",
       "    <tr>\n",
       "      <th>2</th>\n",
       "      <td>James C. Adamson</td>\n",
       "      <td>Retired</td>\n",
       "      <td>3/3/1946</td>\n",
       "      <td>Warsaw, NY</td>\n",
       "      <td>Male</td>\n",
       "      <td>US Military Academy; Princeton University</td>\n",
       "      <td>Engineering</td>\n",
       "      <td>Aerospace Engineering</td>\n",
       "      <td>Colonel</td>\n",
       "      <td>US Army (Retired)</td>\n",
       "      <td>STS-28 (Columbia), STS-43 (Atlantis)</td>\n",
       "      <td>NaN</td>\n",
       "      <td>NaN</td>\n",
       "    </tr>\n",
       "    <tr>\n",
       "      <th>3</th>\n",
       "      <td>Thomas D. Akers</td>\n",
       "      <td>Retired</td>\n",
       "      <td>5/20/1951</td>\n",
       "      <td>St. Louis, MO</td>\n",
       "      <td>Male</td>\n",
       "      <td>University of Missouri-Rolla</td>\n",
       "      <td>others</td>\n",
       "      <td>Applied Mathematics</td>\n",
       "      <td>Colonel</td>\n",
       "      <td>US Air Force (Retired)</td>\n",
       "      <td>STS-41 (Discovery), STS-49 (Endeavor), STS-61 ...</td>\n",
       "      <td>NaN</td>\n",
       "      <td>NaN</td>\n",
       "    </tr>\n",
       "    <tr>\n",
       "      <th>4</th>\n",
       "      <td>Buzz Aldrin</td>\n",
       "      <td>Retired</td>\n",
       "      <td>1/20/1930</td>\n",
       "      <td>Montclair, NJ</td>\n",
       "      <td>Male</td>\n",
       "      <td>US Military Academy; MIT</td>\n",
       "      <td>Mechanical Engineering</td>\n",
       "      <td>Astronautics</td>\n",
       "      <td>Colonel</td>\n",
       "      <td>US Air Force (Retired)</td>\n",
       "      <td>Gemini 12, Apollo 11</td>\n",
       "      <td>NaN</td>\n",
       "      <td>NaN</td>\n",
       "    </tr>\n",
       "  </tbody>\n",
       "</table>\n",
       "</div>"
      ],
      "text/plain": [
       "               Name   Status Birth Date    Birth Place Gender  \\\n",
       "0   Joseph M. Acaba   Active  5/17/1967  Inglewood, CA   Male   \n",
       "1    Loren W. Acton  Retired   3/7/1936   Lewiston, MT   Male   \n",
       "2  James C. Adamson  Retired   3/3/1946     Warsaw, NY   Male   \n",
       "3   Thomas D. Akers  Retired  5/20/1951  St. Louis, MO   Male   \n",
       "4       Buzz Aldrin  Retired  1/20/1930  Montclair, NJ   Male   \n",
       "\n",
       "                                          Alma Mater     Undergraduate Major  \\\n",
       "0  University of California-Santa Barbara; Univer...                  others   \n",
       "1   Montana State University; University of Colorado                  others   \n",
       "2          US Military Academy; Princeton University             Engineering   \n",
       "3                       University of Missouri-Rolla                  others   \n",
       "4                           US Military Academy; MIT  Mechanical Engineering   \n",
       "\n",
       "          Graduate Major Military Rank         Military Branch  \\\n",
       "0                Geology           NaN                     NaN   \n",
       "1          Solar Physics           NaN                     NaN   \n",
       "2  Aerospace Engineering       Colonel       US Army (Retired)   \n",
       "3    Applied Mathematics       Colonel  US Air Force (Retired)   \n",
       "4           Astronautics       Colonel  US Air Force (Retired)   \n",
       "\n",
       "                                            Missions Death Date Death Mission  \n",
       "0             STS-119 (Discovery), ISS-31/32 (Soyuz)        NaN           NaN  \n",
       "1                              STS 51-F (Challenger)        NaN           NaN  \n",
       "2               STS-28 (Columbia), STS-43 (Atlantis)        NaN           NaN  \n",
       "3  STS-41 (Discovery), STS-49 (Endeavor), STS-61 ...        NaN           NaN  \n",
       "4                               Gemini 12, Apollo 11        NaN           NaN  "
      ]
     },
     "execution_count": 31,
     "metadata": {},
     "output_type": "execute_result"
    }
   ],
   "source": [
    "categorical_df = df_ast.select_dtypes(include='object')\n",
    "categorical_df.head()"
   ]
  },
  {
   "cell_type": "code",
   "execution_count": 33,
   "id": "a0340ddc",
   "metadata": {},
   "outputs": [
    {
     "data": {
      "text/plain": [
       "(357, 13)"
      ]
     },
     "execution_count": 33,
     "metadata": {},
     "output_type": "execute_result"
    }
   ],
   "source": [
    "categorical_df.shape"
   ]
  },
  {
   "cell_type": "code",
   "execution_count": 35,
   "id": "dcb53520",
   "metadata": {},
   "outputs": [
    {
     "data": {
      "text/plain": [
       "Index(['Name', 'Status', 'Birth Date', 'Birth Place', 'Gender', 'Alma Mater',\n",
       "       'Undergraduate Major', 'Graduate Major', 'Military Rank',\n",
       "       'Military Branch', 'Missions', 'Death Date', 'Death Mission'],\n",
       "      dtype='object')"
      ]
     },
     "execution_count": 35,
     "metadata": {},
     "output_type": "execute_result"
    }
   ],
   "source": [
    "categorical_df.columns"
   ]
  },
  {
   "cell_type": "markdown",
   "id": "3556d471",
   "metadata": {},
   "source": [
    "15. Ermitteln Sie die Anzahl der Pensionierten `Retired` aus diesem Dataframe"
   ]
  },
  {
   "cell_type": "code",
   "execution_count": null,
   "id": "df51c54e",
   "metadata": {},
   "outputs": [
    {
     "name": "stdout",
     "output_type": "stream",
     "text": [
      "Number of Retired Astronauts: 220\n"
     ]
    }
   ],
   "source": [
    "print(\"Number of Retired Astronauts:\",(categorical_df['Status']=='Retired').sum())"
   ]
  },
  {
   "cell_type": "code",
   "execution_count": null,
   "id": "2a211931",
   "metadata": {},
   "outputs": [
    {
     "name": "stdout",
     "output_type": "stream",
     "text": [
      "Number of Retired Astronauts: 220\n"
     ]
    }
   ],
   "source": [
    "print(\"Number of Retired Astronauts:\",categorical_df['Status'].value_counts().get('Retired', 0))"
   ]
  },
  {
   "cell_type": "markdown",
   "id": "f7738627",
   "metadata": {},
   "source": [
    "16. Erstellen Sie eine Korrelationsmatriz für das (Haupt-)Dataframe"
   ]
  },
  {
   "cell_type": "code",
   "execution_count": 55,
   "id": "50e35068",
   "metadata": {},
   "outputs": [
    {
     "data": {
      "text/html": [
       "<div>\n",
       "<style scoped>\n",
       "    .dataframe tbody tr th:only-of-type {\n",
       "        vertical-align: middle;\n",
       "    }\n",
       "\n",
       "    .dataframe tbody tr th {\n",
       "        vertical-align: top;\n",
       "    }\n",
       "\n",
       "    .dataframe thead th {\n",
       "        text-align: right;\n",
       "    }\n",
       "</style>\n",
       "<table border=\"1\" class=\"dataframe\">\n",
       "  <thead>\n",
       "    <tr style=\"text-align: right;\">\n",
       "      <th></th>\n",
       "      <th>Year</th>\n",
       "      <th>Group</th>\n",
       "      <th>Space Flights</th>\n",
       "      <th>Space Flight (hr)</th>\n",
       "      <th>Space Walks</th>\n",
       "      <th>Space Walks (hr)</th>\n",
       "    </tr>\n",
       "  </thead>\n",
       "  <tbody>\n",
       "    <tr>\n",
       "      <th>Year</th>\n",
       "      <td>1.000000</td>\n",
       "      <td>0.980934</td>\n",
       "      <td>0.036420</td>\n",
       "      <td>0.331386</td>\n",
       "      <td>0.210073</td>\n",
       "      <td>0.253502</td>\n",
       "    </tr>\n",
       "    <tr>\n",
       "      <th>Group</th>\n",
       "      <td>0.980934</td>\n",
       "      <td>1.000000</td>\n",
       "      <td>-0.011386</td>\n",
       "      <td>0.325683</td>\n",
       "      <td>0.217891</td>\n",
       "      <td>0.261384</td>\n",
       "    </tr>\n",
       "    <tr>\n",
       "      <th>Space Flights</th>\n",
       "      <td>0.036420</td>\n",
       "      <td>-0.011386</td>\n",
       "      <td>1.000000</td>\n",
       "      <td>0.325233</td>\n",
       "      <td>0.257073</td>\n",
       "      <td>0.258642</td>\n",
       "    </tr>\n",
       "    <tr>\n",
       "      <th>Space Flight (hr)</th>\n",
       "      <td>0.331386</td>\n",
       "      <td>0.325683</td>\n",
       "      <td>0.325233</td>\n",
       "      <td>1.000000</td>\n",
       "      <td>0.472796</td>\n",
       "      <td>0.454408</td>\n",
       "    </tr>\n",
       "    <tr>\n",
       "      <th>Space Walks</th>\n",
       "      <td>0.210073</td>\n",
       "      <td>0.217891</td>\n",
       "      <td>0.257073</td>\n",
       "      <td>0.472796</td>\n",
       "      <td>1.000000</td>\n",
       "      <td>0.985755</td>\n",
       "    </tr>\n",
       "    <tr>\n",
       "      <th>Space Walks (hr)</th>\n",
       "      <td>0.253502</td>\n",
       "      <td>0.261384</td>\n",
       "      <td>0.258642</td>\n",
       "      <td>0.454408</td>\n",
       "      <td>0.985755</td>\n",
       "      <td>1.000000</td>\n",
       "    </tr>\n",
       "  </tbody>\n",
       "</table>\n",
       "</div>"
      ],
      "text/plain": [
       "                       Year     Group  Space Flights  Space Flight (hr)  \\\n",
       "Year               1.000000  0.980934       0.036420           0.331386   \n",
       "Group              0.980934  1.000000      -0.011386           0.325683   \n",
       "Space Flights      0.036420 -0.011386       1.000000           0.325233   \n",
       "Space Flight (hr)  0.331386  0.325683       0.325233           1.000000   \n",
       "Space Walks        0.210073  0.217891       0.257073           0.472796   \n",
       "Space Walks (hr)   0.253502  0.261384       0.258642           0.454408   \n",
       "\n",
       "                   Space Walks  Space Walks (hr)  \n",
       "Year                  0.210073          0.253502  \n",
       "Group                 0.217891          0.261384  \n",
       "Space Flights         0.257073          0.258642  \n",
       "Space Flight (hr)     0.472796          0.454408  \n",
       "Space Walks           1.000000          0.985755  \n",
       "Space Walks (hr)      0.985755          1.000000  "
      ]
     },
     "execution_count": 55,
     "metadata": {},
     "output_type": "execute_result"
    }
   ],
   "source": [
    "df_ast.corr(numeric_only=True)"
   ]
  },
  {
   "cell_type": "code",
   "execution_count": 41,
   "id": "60f3f045",
   "metadata": {},
   "outputs": [
    {
     "data": {
      "text/html": [
       "<div>\n",
       "<style scoped>\n",
       "    .dataframe tbody tr th:only-of-type {\n",
       "        vertical-align: middle;\n",
       "    }\n",
       "\n",
       "    .dataframe tbody tr th {\n",
       "        vertical-align: top;\n",
       "    }\n",
       "\n",
       "    .dataframe thead th {\n",
       "        text-align: right;\n",
       "    }\n",
       "</style>\n",
       "<table border=\"1\" class=\"dataframe\">\n",
       "  <thead>\n",
       "    <tr style=\"text-align: right;\">\n",
       "      <th></th>\n",
       "      <th>Year</th>\n",
       "      <th>Group</th>\n",
       "      <th>Space Flights</th>\n",
       "      <th>Space Flight (hr)</th>\n",
       "      <th>Space Walks</th>\n",
       "      <th>Space Walks (hr)</th>\n",
       "    </tr>\n",
       "  </thead>\n",
       "  <tbody>\n",
       "    <tr>\n",
       "      <th>0</th>\n",
       "      <td>2004.0</td>\n",
       "      <td>19.0</td>\n",
       "      <td>2</td>\n",
       "      <td>3307</td>\n",
       "      <td>2</td>\n",
       "      <td>13.0</td>\n",
       "    </tr>\n",
       "    <tr>\n",
       "      <th>1</th>\n",
       "      <td>NaN</td>\n",
       "      <td>NaN</td>\n",
       "      <td>1</td>\n",
       "      <td>190</td>\n",
       "      <td>0</td>\n",
       "      <td>0.0</td>\n",
       "    </tr>\n",
       "    <tr>\n",
       "      <th>2</th>\n",
       "      <td>1984.0</td>\n",
       "      <td>10.0</td>\n",
       "      <td>2</td>\n",
       "      <td>334</td>\n",
       "      <td>0</td>\n",
       "      <td>0.0</td>\n",
       "    </tr>\n",
       "    <tr>\n",
       "      <th>3</th>\n",
       "      <td>1987.0</td>\n",
       "      <td>12.0</td>\n",
       "      <td>4</td>\n",
       "      <td>814</td>\n",
       "      <td>4</td>\n",
       "      <td>29.0</td>\n",
       "    </tr>\n",
       "    <tr>\n",
       "      <th>4</th>\n",
       "      <td>1963.0</td>\n",
       "      <td>3.0</td>\n",
       "      <td>2</td>\n",
       "      <td>289</td>\n",
       "      <td>2</td>\n",
       "      <td>8.0</td>\n",
       "    </tr>\n",
       "  </tbody>\n",
       "</table>\n",
       "</div>"
      ],
      "text/plain": [
       "     Year  Group  Space Flights  Space Flight (hr)  Space Walks  \\\n",
       "0  2004.0   19.0              2               3307            2   \n",
       "1     NaN    NaN              1                190            0   \n",
       "2  1984.0   10.0              2                334            0   \n",
       "3  1987.0   12.0              4                814            4   \n",
       "4  1963.0    3.0              2                289            2   \n",
       "\n",
       "   Space Walks (hr)  \n",
       "0              13.0  \n",
       "1               0.0  \n",
       "2               0.0  \n",
       "3              29.0  \n",
       "4               8.0  "
      ]
     },
     "execution_count": 41,
     "metadata": {},
     "output_type": "execute_result"
    }
   ],
   "source": [
    "not_categorical_df = df_ast.select_dtypes(exclude='object')\n",
    "not_categorical_df.head()"
   ]
  },
  {
   "cell_type": "code",
   "execution_count": 42,
   "id": "06494093",
   "metadata": {},
   "outputs": [
    {
     "data": {
      "text/html": [
       "<div>\n",
       "<style scoped>\n",
       "    .dataframe tbody tr th:only-of-type {\n",
       "        vertical-align: middle;\n",
       "    }\n",
       "\n",
       "    .dataframe tbody tr th {\n",
       "        vertical-align: top;\n",
       "    }\n",
       "\n",
       "    .dataframe thead th {\n",
       "        text-align: right;\n",
       "    }\n",
       "</style>\n",
       "<table border=\"1\" class=\"dataframe\">\n",
       "  <thead>\n",
       "    <tr style=\"text-align: right;\">\n",
       "      <th></th>\n",
       "      <th>Year</th>\n",
       "      <th>Group</th>\n",
       "      <th>Space Flights</th>\n",
       "      <th>Space Flight (hr)</th>\n",
       "      <th>Space Walks</th>\n",
       "      <th>Space Walks (hr)</th>\n",
       "    </tr>\n",
       "  </thead>\n",
       "  <tbody>\n",
       "    <tr>\n",
       "      <th>Year</th>\n",
       "      <td>1.000000</td>\n",
       "      <td>0.980934</td>\n",
       "      <td>0.036420</td>\n",
       "      <td>0.331386</td>\n",
       "      <td>0.210073</td>\n",
       "      <td>0.253502</td>\n",
       "    </tr>\n",
       "    <tr>\n",
       "      <th>Group</th>\n",
       "      <td>0.980934</td>\n",
       "      <td>1.000000</td>\n",
       "      <td>-0.011386</td>\n",
       "      <td>0.325683</td>\n",
       "      <td>0.217891</td>\n",
       "      <td>0.261384</td>\n",
       "    </tr>\n",
       "    <tr>\n",
       "      <th>Space Flights</th>\n",
       "      <td>0.036420</td>\n",
       "      <td>-0.011386</td>\n",
       "      <td>1.000000</td>\n",
       "      <td>0.325233</td>\n",
       "      <td>0.257073</td>\n",
       "      <td>0.258642</td>\n",
       "    </tr>\n",
       "    <tr>\n",
       "      <th>Space Flight (hr)</th>\n",
       "      <td>0.331386</td>\n",
       "      <td>0.325683</td>\n",
       "      <td>0.325233</td>\n",
       "      <td>1.000000</td>\n",
       "      <td>0.472796</td>\n",
       "      <td>0.454408</td>\n",
       "    </tr>\n",
       "    <tr>\n",
       "      <th>Space Walks</th>\n",
       "      <td>0.210073</td>\n",
       "      <td>0.217891</td>\n",
       "      <td>0.257073</td>\n",
       "      <td>0.472796</td>\n",
       "      <td>1.000000</td>\n",
       "      <td>0.985755</td>\n",
       "    </tr>\n",
       "    <tr>\n",
       "      <th>Space Walks (hr)</th>\n",
       "      <td>0.253502</td>\n",
       "      <td>0.261384</td>\n",
       "      <td>0.258642</td>\n",
       "      <td>0.454408</td>\n",
       "      <td>0.985755</td>\n",
       "      <td>1.000000</td>\n",
       "    </tr>\n",
       "  </tbody>\n",
       "</table>\n",
       "</div>"
      ],
      "text/plain": [
       "                       Year     Group  Space Flights  Space Flight (hr)  \\\n",
       "Year               1.000000  0.980934       0.036420           0.331386   \n",
       "Group              0.980934  1.000000      -0.011386           0.325683   \n",
       "Space Flights      0.036420 -0.011386       1.000000           0.325233   \n",
       "Space Flight (hr)  0.331386  0.325683       0.325233           1.000000   \n",
       "Space Walks        0.210073  0.217891       0.257073           0.472796   \n",
       "Space Walks (hr)   0.253502  0.261384       0.258642           0.454408   \n",
       "\n",
       "                   Space Walks  Space Walks (hr)  \n",
       "Year                  0.210073          0.253502  \n",
       "Group                 0.217891          0.261384  \n",
       "Space Flights         0.257073          0.258642  \n",
       "Space Flight (hr)     0.472796          0.454408  \n",
       "Space Walks           1.000000          0.985755  \n",
       "Space Walks (hr)      0.985755          1.000000  "
      ]
     },
     "execution_count": 42,
     "metadata": {},
     "output_type": "execute_result"
    }
   ],
   "source": [
    "not_categorical_df.corr()"
   ]
  },
  {
   "cell_type": "markdown",
   "id": "93fea237",
   "metadata": {},
   "source": [
    "17. Können wir behaupten, dass zwischen den Variablen 'Space Flights' und 'Space Walks' ein linearer Zusammenhang besteht?  \n",
    "Begründen Sie Ihre Antwort mit Hilfe eines Regressionsplot oder eine Heatmap (besser)."
   ]
  },
  {
   "cell_type": "code",
   "execution_count": 46,
   "id": "a0468882",
   "metadata": {},
   "outputs": [
    {
     "data": {
      "image/png": "[encoded data removed]",
      "text/plain": [
       "<Figure size 640x480 with 1 Axes>"
      ]
     },
     "metadata": {},
     "output_type": "display_data"
    }
   ],
   "source": [
    "# Regressionsplot für 'Space Flights' und 'Space Walks'\n",
    "sns.regplot(y='Space Flights', x='Space Walks', data=df_ast, ci=95)\n",
    "plt.title(\"Linearer Zusammenhang zwischen 'Space Flights' und 'Space Walks'\")\n",
    "plt.show()\n"
   ]
  },
  {
   "cell_type": "code",
   "execution_count": 47,
   "id": "03b9cfd1",
   "metadata": {},
   "outputs": [
    {
     "data": {
      "image/png": "[encoded data removed]",
      "text/plain": [
       "<Figure size 800x600 with 2 Axes>"
      ]
     },
     "metadata": {},
     "output_type": "display_data"
    }
   ],
   "source": [
    "plt.figure(figsize=(8, 6))\n",
    "sns.heatmap(not_categorical_df.corr(), annot=True, cmap='coolwarm')\n",
    "plt.title(\"Korrelationsmatrix Heatmap\")\n",
    "plt.show()"
   ]
  },
  {
   "cell_type": "markdown",
   "id": "796f8a6a",
   "metadata": {},
   "source": [
    "18. Erstellen Sie ein Balkendiagramm für Top 5 Universitäten ('Alma Mater') je nach Anzahl der Graduierten."
   ]
  },
  {
   "cell_type": "code",
   "execution_count": 49,
   "id": "557c0bce",
   "metadata": {},
   "outputs": [
    {
     "data": {
      "text/plain": [
       "Alma Mater\n",
       "US Naval Academy                                                                 12\n",
       "US Naval Academy; US Naval Postgraduate School                                   11\n",
       "Purdue University                                                                 7\n",
       "US Air Force Academy; Purdue University                                           7\n",
       "MIT                                                                               5\n",
       "                                                                                 ..\n",
       "State University of New York-Buffalo; Cornell University; University of Texas     1\n",
       "University of Missouri-Rolla                                                      1\n",
       "University of Washington; Northwestern University; Wright State University        1\n",
       "Cornell University; Princeton University; University of Miami                     1\n",
       "University of California-Berkeley; University of Houston                          1\n",
       "Name: count, Length: 280, dtype: int64"
      ]
     },
     "execution_count": 49,
     "metadata": {},
     "output_type": "execute_result"
    }
   ],
   "source": [
    "df_ast['Alma Mater'].value_counts()"
   ]
  },
  {
   "cell_type": "code",
   "execution_count": 52,
   "id": "a07dca60",
   "metadata": {},
   "outputs": [
    {
     "data": {
      "image/png": "[encoded data removed]",
      "text/plain": [
       "<Figure size 640x480 with 1 Axes>"
      ]
     },
     "metadata": {},
     "output_type": "display_data"
    }
   ],
   "source": [
    "# Top 5 universities by the number of graduates\n",
    "top_universities = df_ast['Alma Mater'].value_counts().head(5)\n",
    "\n",
    "# Bar plot for top universities\n",
    "top_universities.plot(kind='bar', color='skyblue')\n",
    "plt.xlabel('Alma Mater')\n",
    "plt.ylabel('Number of Graduates')\n",
    "plt.title('Top 5 Universities by Number of Graduates')\n",
    "plt.show()"
   ]
  },
  {
   "cell_type": "markdown",
   "id": "5723b8f2",
   "metadata": {},
   "source": [
    "Vielen Dank!"
   ]
  }
 ],
 "metadata": {
  "kernelspec": {
   "display_name": ".my_venv",
   "language": "python",
   "name": "python3"
  },
  "language_info": {
   "codemirror_mode": {
    "name": "ipython",
    "version": 3
   },
   "file_extension": ".py",
   "mimetype": "text/x-python",
   "name": "python",
   "nbconvert_exporter": "python",
   "pygments_lexer": "ipython3",
   "version": "3.12.6"
  },
  "nbTranslate": {
   "displayLangs": [
    "en",
    "de"
   ],
   "hotkey": "alt-t",
   "langInMainMenu": true,
   "sourceLang": "de",
   "targetLang": "en",
   "useGoogleTranslate": true
  }
 },
 "nbformat": 4,
 "nbformat_minor": 5
}
