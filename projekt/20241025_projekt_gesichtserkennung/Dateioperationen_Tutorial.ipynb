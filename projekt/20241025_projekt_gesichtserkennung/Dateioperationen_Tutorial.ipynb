{
 "cells": [
  {
   "cell_type": "markdown",
   "metadata": {},
   "source": [
    "## Python Dateioperationen - eine kruze Einführung"
   ]
  },
  {
   "cell_type": "code",
   "execution_count": 2,
   "metadata": {},
   "outputs": [],
   "source": [
    "import os"
   ]
  },
  {
   "cell_type": "markdown",
   "metadata": {},
   "source": [
    "Pfad des Scripts anzeigen:"
   ]
  },
  {
   "cell_type": "code",
   "execution_count": null,
   "metadata": {},
   "outputs": [],
   "source": [
    "os.getcwd()"
   ]
  },
  {
   "cell_type": "markdown",
   "metadata": {},
   "source": [
    "Pfad des Scripts wechseln:"
   ]
  },
  {
   "cell_type": "code",
   "execution_count": null,
   "metadata": {},
   "outputs": [],
   "source": [
    "pfad= \"..\"\n",
    "os.chdir(pfad)\n",
    "os.getcwd()"
   ]
  },
  {
   "cell_type": "markdown",
   "metadata": {},
   "source": [
    "Inhalt des aktuellen Verzeichnis anzeigen:"
   ]
  },
  {
   "cell_type": "code",
   "execution_count": null,
   "metadata": {},
   "outputs": [],
   "source": [
    "os.listdir()"
   ]
  },
  {
   "cell_type": "markdown",
   "metadata": {},
   "source": [
    "\n",
    "Eine Datei schreiben : \n",
    "```py\n",
    "with open('beispiel.txt', 'w') as file: \n",
    "\tfile.write(\"Das ist ein Beispieltext.\\n\")\n",
    "```\t \n",
    "\n",
    "Eine Datei lesen :\n",
    "```py\n",
    "with open('beispiel.txt', 'r') as file: \n",
    "\tcontent = file.read() print(\"Inhalt der Datei:\", content)\n",
    "```\t\n",
    "\n",
    "Um Pfade zu konstruieren, kannst du die Funktion `os.path.join()` verwenden, die sicherstellt, dass die richtigen Trennzeichen verwendet werden:\n",
    "```py\n",
    "verzeichnis = 'mein_verzeichnis' \n",
    "datei_name = 'meine_datei.txt' \n",
    "kompletter_pfad = os.path.join(verzeichnis, datei_name) \n",
    "print(\"Kompletter Pfad:\", kompletter)\n",
    "```\n",
    "Um alle Dateien in einem Verzeichnis mit einer bestimmten Endung (z.B. `.txt`) zu öffnen, kannst du eine Schleife verwenden:\n",
    "```py\n",
    "for datei in os.listdir(): \n",
    "\tif datei.endswith('.txt'): \n",
    "\t\twith open(datei, 'r') as file: \n",
    "\t\t\tinhalt = file.read() \n",
    "\t\t\tprint(f\"Inhalt der Datei {datei}:\\n{inhalt}\\n\")\n",
    "\t\t\tdir_pfad = os.getcwd()\n",
    "\t\t\tabs_pfad = os.path.join(dir_pfad, datei)\n",
    "\t\t\tprint(f\"Absoluter Pfad der Datei {datei}: {abs_pfad}\")\n",
    "```\n",
    "\n",
    "Jupyter cell magic zum Erstellen einer Datei benutzen:\n",
    "```\n",
    "%%writefile example.txt \n",
    "Dies ist der Inhalt einer Datei, der von Cell Magic %%writefile geschrieben wurde.\n",
    "```\n",
    "\n",
    "| Modus   | Beschreibung                                                                                            | Datei erforderlich? | Plattformunabhängig |\n",
    "|---------|---------------------------------------------------------------------------------------------------------|---------------------|----------------------|\n",
    "| `\"r\"`   | **Lesen**: Öffnet eine bestehende Datei nur zum Lesen. Löst Fehler aus, wenn die Datei nicht existiert. | Ja                  | Ja                   |\n",
    "| `\"w\"`   | **Schreiben (Überschreiben)**: Öffnet eine Datei zum Schreiben und überschreibt sie. Erstellt die Datei, falls sie nicht existiert. | Nein                | Ja                   |\n",
    "| `\"a\"`   | **Anhängen**: Öffnet eine Datei zum Schreiben und fügt den neuen Inhalt am Ende an. Erstellt die Datei, falls sie nicht existiert. | Nein                | Ja                   |\n",
    "| `\"x\"`   | **Erstellen**: Erstellt eine Datei zum Schreiben. Fehler, wenn die Datei bereits existiert.            | Nein                | Ja                   |\n",
    "| `\"r+\"`  | **Lesen und Schreiben**: Öffnet eine Datei zum Lesen und Schreiben. Fehler, wenn die Datei nicht existiert. | Ja              | Ja                   |\n",
    "| `\"w+\"`  | **Lesen und Schreiben (Überschreiben)**: Öffnet eine Datei zum Lesen und Schreiben, überschreibt sie oder erstellt sie. | Nein            | Ja                   |\n",
    "| `\"a+\"`  | **Lesen und Anhängen**: Öffnet eine Datei zum Lesen und Anhängen. Erstellt die Datei, falls sie nicht existiert. | Nein            | Ja                   |\n",
    "| `\"b\"`   | **Binärmodus**: Fügt an einen Modus `\"r\"`, `\"w\"`, `\"a\"`, `\"x\"`, `\"r+\"`, `\"w+\"`, `\"a+\"` an, um eine Datei im Binärformat zu öffnen. | -             | Ja                   |\n",
    "| `\"t\"`   | **Textmodus**: Standardmodus für Textdateien. Wird häufig mit `\"r\"`, `\"w\"`, `\"a\"`, etc. kombiniert und ist Standard, daher optional. | -             | Ja                   |\n",
    "\n",
    "### Beispiele für Kombinationsmodi:\n",
    "\n",
    "-   `\"rb\"`: Lesen einer Datei im Binärmodus.\n",
    "-   `\"w+b\"`: Lesen und Schreiben im Binärmodus, Datei wird überschrieben oder erstellt.\n",
    "-   `\"a+t\"`: Anhängen im Textmodus und gleichzeitig lesend öffnen.\n",
    "\n",
    "Die Modi funktionieren unabhängig vom Betriebssystem, sofern der Dateizugriff erlaubt ist."
   ]
  },
  {
   "cell_type": "markdown",
   "metadata": {},
   "source": []
  }
 ],
 "metadata": {
  "kernelspec": {
   "display_name": "Python 3",
   "language": "python",
   "name": "python3"
  },
  "language_info": {
   "codemirror_mode": {
    "name": "ipython",
    "version": 3
   },
   "file_extension": ".py",
   "mimetype": "text/x-python",
   "name": "python",
   "nbconvert_exporter": "python",
   "pygments_lexer": "ipython3",
   "version": "3.12.6"
  }
 },
 "nbformat": 4,
 "nbformat_minor": 2
}
