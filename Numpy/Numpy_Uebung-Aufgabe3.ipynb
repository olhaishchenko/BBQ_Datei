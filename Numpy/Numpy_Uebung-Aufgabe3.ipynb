{
 "cells": [
  {
   "cell_type": "code",
   "execution_count": 1,
   "metadata": {},
   "outputs": [],
   "source": [
    "import numpy as np"
   ]
  },
  {
   "cell_type": "markdown",
   "metadata": {},
   "source": [
    "### Aufgabe 0 \n",
    "Gegeben ist folgender Array: np.array( [\"Rot\", \"Grün\", \"Rot\", \"Blau\", \"Rot\", \"Grün\", \"rot\"]) Ermitteln sie die einzigartigen Werte des Arrays mit einer dafür geeigneten numpy Funktion."
   ]
  },
  {
   "cell_type": "code",
   "execution_count": 2,
   "metadata": {},
   "outputs": [
    {
     "data": {
      "text/plain": [
       "array(['Blau', 'Grün', 'Rot', 'rot'], dtype='<U4')"
      ]
     },
     "execution_count": 2,
     "metadata": {},
     "output_type": "execute_result"
    }
   ],
   "source": [
    "color_ar = np.array( [\"Rot\", \"Grün\", \"Rot\", \"Blau\", \"Rot\", \"Grün\", \"rot\"])\n",
    "np.unique(color_ar)"
   ]
  },
  {
   "cell_type": "markdown",
   "metadata": {},
   "source": [
    "### Aufgabe 0.5\n",
    "  Gegeben sind folgende Arrays: array_a = np.array([1, 2, 3, 4, 5]) array_b = np.array([3, 4, 5, 6, 7]) Ermitteln Sie mit np.isin() welche Werte von array_a in array_b vorhanden sind. Benutzen Sie einen boolschen Index um einen Array zu erzeugen der die gemeinsamen Werte enthält.\n"
   ]
  },
  {
   "cell_type": "code",
   "execution_count": 3,
   "metadata": {},
   "outputs": [
    {
     "data": {
      "text/plain": [
       "array([False, False,  True,  True,  True])"
      ]
     },
     "execution_count": 3,
     "metadata": {},
     "output_type": "execute_result"
    }
   ],
   "source": [
    "array_a = np.array([1, 2, 3, 4, 5])\n",
    "array_b = np.array([3, 4, 5, 6, 7])\n",
    "np.isin(array_a, array_b)"
   ]
  },
  {
   "cell_type": "markdown",
   "metadata": {},
   "source": [
    "### Aufgabe 0.75\n",
    " Führen Sie die folgenden Mengenoperationen an den Arrays aus 0.5 durch: 1. Schnittmenge 2. Vereinigungsmenge 3. Differenzmenge "
   ]
  },
  {
   "cell_type": "code",
   "execution_count": 4,
   "metadata": {},
   "outputs": [
    {
     "data": {
      "text/plain": [
       "array([3, 4, 5])"
      ]
     },
     "execution_count": 4,
     "metadata": {},
     "output_type": "execute_result"
    }
   ],
   "source": [
    "# Schnittmenge\n",
    "\n",
    "np.intersect1d(array_a, array_b)"
   ]
  },
  {
   "cell_type": "code",
   "execution_count": 5,
   "metadata": {},
   "outputs": [
    {
     "data": {
      "text/plain": [
       "array([1, 2, 3, 4, 5, 6, 7])"
      ]
     },
     "execution_count": 5,
     "metadata": {},
     "output_type": "execute_result"
    }
   ],
   "source": [
    "# Vereinigungsmenge\n",
    "np.union1d(array_a, array_b)"
   ]
  },
  {
   "cell_type": "code",
   "execution_count": 6,
   "metadata": {},
   "outputs": [
    {
     "data": {
      "text/plain": [
       "array([1, 2])"
      ]
     },
     "execution_count": 6,
     "metadata": {},
     "output_type": "execute_result"
    }
   ],
   "source": [
    "# Differenzmenge \n",
    "np.setdiff1d(array_a, array_b)"
   ]
  },
  {
   "cell_type": "code",
   "execution_count": 7,
   "metadata": {},
   "outputs": [
    {
     "data": {
      "text/plain": [
       "array([1, 2, 6, 7])"
      ]
     },
     "execution_count": 7,
     "metadata": {},
     "output_type": "execute_result"
    }
   ],
   "source": [
    "np.setxor1d(array_a, array_b)"
   ]
  },
  {
   "cell_type": "markdown",
   "metadata": {},
   "source": [
    "### Aufgabe 1 \n",
    "Erstellen Sie ein 2D-Array mit zufälligen Werten und sortieren Sie es einmal nach Zeilen und einmal nach Spalten. Verwenden Sie dafür np.sort() mit Angabe des entsprechenden Werts für axis . "
   ]
  },
  {
   "cell_type": "code",
   "execution_count": 16,
   "metadata": {},
   "outputs": [
    {
     "data": {
      "text/plain": [
       "array([[ 1.25052118,  1.66350608, -1.16059556, -0.37016564],\n",
       "       [-0.26851991,  0.08750502, -0.52112441, -0.21082812],\n",
       "       [-0.19491863, -0.05195392,  0.57176942, -0.8541492 ],\n",
       "       [ 0.91603256,  0.78218242, -2.24002973,  1.31637557],\n",
       "       [-1.19221337, -0.7335166 ,  0.43028811,  0.43925519]])"
      ]
     },
     "execution_count": 16,
     "metadata": {},
     "output_type": "execute_result"
    }
   ],
   "source": [
    "arr_s = np.random.standard_normal((5,4))\n",
    "arr_s"
   ]
  },
  {
   "cell_type": "code",
   "execution_count": 17,
   "metadata": {},
   "outputs": [
    {
     "data": {
      "text/plain": [
       "array([[-1.16059556, -0.37016564,  1.25052118,  1.66350608],\n",
       "       [-0.52112441, -0.26851991, -0.21082812,  0.08750502],\n",
       "       [-0.8541492 , -0.19491863, -0.05195392,  0.57176942],\n",
       "       [-2.24002973,  0.78218242,  0.91603256,  1.31637557],\n",
       "       [-1.19221337, -0.7335166 ,  0.43028811,  0.43925519]])"
      ]
     },
     "execution_count": 17,
     "metadata": {},
     "output_type": "execute_result"
    }
   ],
   "source": [
    "arr_s1 = arr_s.copy()\n",
    "arr_s1.sort(axis=1)\n",
    "arr_s1"
   ]
  },
  {
   "cell_type": "code",
   "execution_count": 18,
   "metadata": {},
   "outputs": [
    {
     "data": {
      "text/plain": [
       "array([[-1.19221337, -0.7335166 , -2.24002973, -0.8541492 ],\n",
       "       [-0.26851991, -0.05195392, -1.16059556, -0.37016564],\n",
       "       [-0.19491863,  0.08750502, -0.52112441, -0.21082812],\n",
       "       [ 0.91603256,  0.78218242,  0.43028811,  0.43925519],\n",
       "       [ 1.25052118,  1.66350608,  0.57176942,  1.31637557]])"
      ]
     },
     "execution_count": 18,
     "metadata": {},
     "output_type": "execute_result"
    }
   ],
   "source": [
    "arr_s0 = arr_s.copy()\n",
    "arr_s0.sort(axis=0)\n",
    "arr_s0"
   ]
  },
  {
   "cell_type": "markdown",
   "metadata": {},
   "source": [
    "### Aufgabe 2\n",
    " Gegeben ist folgender Array: np.array([[1, 2, 3, 4], [5, 6, 7, 8], [9, 10, 11, 12]]) Benutzen Sie np.sum() mit dem Argument axis um die Summe aller Werte für jede Zeile des Arrays zu berechnen. Das Ergebnis sollte ein 1D-Array sein, das die Summen der jeweiligen Zeilen enthält. die Summe aller Werte für jede Spalte des Arrays zu berechnen. Das Ergebnis sollte ebenfalls ein 1D-Array sein, das die Summen der jeweiligen Spalten enthält. "
   ]
  },
  {
   "cell_type": "code",
   "execution_count": 23,
   "metadata": {},
   "outputs": [
    {
     "data": {
      "text/plain": [
       "(array([[ 1,  2,  3,  4],\n",
       "        [ 5,  6,  7,  8],\n",
       "        [ 9, 10, 11, 12]]),\n",
       " array([10, 26, 42]))"
      ]
     },
     "execution_count": 23,
     "metadata": {},
     "output_type": "execute_result"
    }
   ],
   "source": [
    "arr_f_s = np.array([[1, 2, 3, 4], [5, 6, 7, 8], [9, 10, 11, 12]])\n",
    "arr_s_z = np.sum(arr_f_s, axis=1)\n",
    "arr_f_s, arr_s_z"
   ]
  },
  {
   "cell_type": "code",
   "execution_count": 24,
   "metadata": {},
   "outputs": [
    {
     "data": {
      "text/plain": [
       "array([15, 18, 21, 24])"
      ]
     },
     "execution_count": 24,
     "metadata": {},
     "output_type": "execute_result"
    }
   ],
   "source": [
    "arr_s_s = np.sum(arr_f_s, axis=0)\n",
    "arr_s_s"
   ]
  },
  {
   "cell_type": "markdown",
   "metadata": {},
   "source": [
    "### Aufgabe 3\n",
    " Gegeben ist ein 1D-Array mit Integer-Zahlen, der einige Nullen enthält. np.array([10, 0, 5, 20, 0, 25]) Verwenden Sie np.where() , um ein neues Array zu erstellen, in dem die Werte von 100 durch die Elemente des ursprünglichen Arrays geteilt werden. Wenn ein Element des Arrays den Wert 0 hat, soll an dieser Stelle np.nan (Not a Number) eingetragen werden. "
   ]
  },
  {
   "cell_type": "code",
   "execution_count": 43,
   "metadata": {},
   "outputs": [
    {
     "name": "stderr",
     "output_type": "stream",
     "text": [
      "C:\\Users\\OlhaIshchenko\\AppData\\Local\\Temp\\ipykernel_8232\\2977442286.py:2: RuntimeWarning: divide by zero encountered in divide\n",
      "  np.where(arr_where != 0, 100/arr_where, np.nan)\n"
     ]
    },
    {
     "data": {
      "text/plain": [
       "array([10., nan, 20.,  5., nan,  4.])"
      ]
     },
     "execution_count": 43,
     "metadata": {},
     "output_type": "execute_result"
    }
   ],
   "source": [
    "arr_where = np.array([10, 0, 5, 20, 0, 25])\n",
    "np.where(arr_where != 0, 100/arr_where, np.nan)"
   ]
  },
  {
   "cell_type": "code",
   "execution_count": 49,
   "metadata": {},
   "outputs": [
    {
     "name": "stderr",
     "output_type": "stream",
     "text": [
      "C:\\Users\\OlhaIshchenko\\AppData\\Local\\Temp\\ipykernel_8232\\1116973131.py:1: RuntimeWarning: divide by zero encountered in divide\n",
      "  100 / arr_where\n"
     ]
    },
    {
     "data": {
      "text/plain": [
       "array([10., inf, 20.,  5., inf,  4.])"
      ]
     },
     "execution_count": 49,
     "metadata": {},
     "output_type": "execute_result"
    }
   ],
   "source": [
    "100 / arr_where"
   ]
  },
  {
   "cell_type": "markdown",
   "metadata": {},
   "source": [
    "### 3.1:\n",
    " Erstellung des Filters Erstellen Sie einen Filter (in diesem Fall einen booleschen Index), der angibt, welche Elemente im ursprünglichen Array ungleich 0 sind. "
   ]
  },
  {
   "cell_type": "code",
   "execution_count": 44,
   "metadata": {},
   "outputs": [
    {
     "data": {
      "text/plain": [
       "array([ True, False,  True,  True, False,  True])"
      ]
     },
     "execution_count": 44,
     "metadata": {},
     "output_type": "execute_result"
    }
   ],
   "source": [
    "arr_cond = np.where(arr_where != 0, True, False)\n",
    "# filter = original_ar !=0\n",
    "arr_cond"
   ]
  },
  {
   "cell_type": "markdown",
   "metadata": {},
   "source": [
    "### 3.2:\n",
    "  Erstellung des Ergebnis-Arrays Verwenden Sie den erstellten Filter, um ein neues Array zu erstellen, in dem die Werte von 100 durch die Elemente des ursprünglichen Arrays geteilt werden. An den Stellen, an denen der Filter False ist (also die Elemente 0), sollte np.nan eingetragen werden. "
   ]
  },
  {
   "cell_type": "code",
   "execution_count": 45,
   "metadata": {},
   "outputs": [
    {
     "name": "stderr",
     "output_type": "stream",
     "text": [
      "C:\\Users\\OlhaIshchenko\\AppData\\Local\\Temp\\ipykernel_8232\\194720381.py:1: RuntimeWarning: divide by zero encountered in divide\n",
      "  arr_res = np.where(arr_cond, 100/arr_where, np.nan)\n"
     ]
    },
    {
     "data": {
      "text/plain": [
       "array([10., nan, 20.,  5., nan,  4.])"
      ]
     },
     "execution_count": 45,
     "metadata": {},
     "output_type": "execute_result"
    }
   ],
   "source": [
    "arr_res = np.where(arr_cond, 100/arr_where, np.nan)\n",
    "arr_res"
   ]
  },
  {
   "cell_type": "markdown",
   "metadata": {},
   "source": [
    "### 3.3 \n",
    " np.any() und np.all() Benutzen sie eine der beiden Funktionen um zu testen ob im erstellten Array mindestens ein np.nan eingetragen ist. Benutzen Sie eine der Funktionen um zu testen ob im Array kein np.nan vorkommt. "
   ]
  },
  {
   "cell_type": "code",
   "execution_count": 46,
   "metadata": {},
   "outputs": [
    {
     "data": {
      "text/plain": [
       "np.True_"
      ]
     },
     "execution_count": 46,
     "metadata": {},
     "output_type": "execute_result"
    }
   ],
   "source": [
    "arr_res.any()"
   ]
  },
  {
   "cell_type": "code",
   "execution_count": 47,
   "metadata": {},
   "outputs": [
    {
     "data": {
      "text/plain": [
       "np.True_"
      ]
     },
     "execution_count": 47,
     "metadata": {},
     "output_type": "execute_result"
    }
   ],
   "source": [
    "arr_res.all()"
   ]
  },
  {
   "cell_type": "markdown",
   "metadata": {},
   "source": [
    "### 3.4: \n",
    " np.nan zählen Ermitteln sie die Anzahl der np.nan im Ergebnis. Sie können dazu die Funktion sum() in Verbindung mit dem boolschen Index benutzen."
   ]
  },
  {
   "cell_type": "code",
   "execution_count": 48,
   "metadata": {},
   "outputs": [
    {
     "data": {
      "text/plain": [
       "np.int64(2)"
      ]
     },
     "execution_count": 48,
     "metadata": {},
     "output_type": "execute_result"
    }
   ],
   "source": [
    "arr_nan_count = np.where(arr_cond , 0 , 1)\n",
    "arr_nan_count.sum()"
   ]
  },
  {
   "cell_type": "code",
   "execution_count": 55,
   "metadata": {},
   "outputs": [
    {
     "data": {
      "text/plain": [
       "np.int64(2)"
      ]
     },
     "execution_count": 55,
     "metadata": {},
     "output_type": "execute_result"
    }
   ],
   "source": [
    "np.sum(~arr_cond)"
   ]
  },
  {
   "cell_type": "code",
   "execution_count": 51,
   "metadata": {},
   "outputs": [
    {
     "data": {
      "text/plain": [
       "np.int64(2)"
      ]
     },
     "execution_count": 51,
     "metadata": {},
     "output_type": "execute_result"
    }
   ],
   "source": [
    "nan_count = np.sum(np.isnan(arr_res))\n",
    "nan_count"
   ]
  }
 ],
 "metadata": {
  "kernelspec": {
   "display_name": ".my_venv",
   "language": "python",
   "name": "python3"
  },
  "language_info": {
   "codemirror_mode": {
    "name": "ipython",
    "version": 3
   },
   "file_extension": ".py",
   "mimetype": "text/x-python",
   "name": "python",
   "nbconvert_exporter": "python",
   "pygments_lexer": "ipython3",
   "version": "3.12.6"
  }
 },
 "nbformat": 4,
 "nbformat_minor": 2
}
