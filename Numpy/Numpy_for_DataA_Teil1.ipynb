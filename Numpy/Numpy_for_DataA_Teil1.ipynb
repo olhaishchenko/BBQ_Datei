{
 "cells": [
  {
   "cell_type": "markdown",
   "metadata": {},
   "source": [
    "# Numpy Teil 1"
   ]
  },
  {
   "cell_type": "markdown",
   "metadata": {},
   "source": [
    "## Pythons Data Science Stack\n",
    "\n",
    "besteht aus vielen Drittanbieter-Paketen zur Durchführung von wissenschaftlichen Berechnungen und Verarbeitung und Analyse, bzw. Visualisierung von Daten.\n",
    "\n",
    "- numpy\n",
    "- pandas\n",
    "- matplotlib\n",
    "- scipy\n",
    "- scikit learn\n",
    "\n",
    "und noch weitere Pakete und Bibliotheken."
   ]
  },
  {
   "cell_type": "markdown",
   "metadata": {},
   "source": [
    "### NumPy\n",
    "- ein fundamentales Paket für wissenschaftliche Berechnungen mit Python\n",
    "- unterstützt Berechnungen mit Vektoren, Matrizen oder generell großen mehrdimensionalen Arrays\n",
    "- schnelle Ausführung von Algorithmen\n",
    "- Basis für weitere Bibliotheken wie z.B. SciPy, Pandas, Matplotlib und OpenCV\n",
    "- CPython (der Standardinterpreter von Python) war langsam: NumPy als Kompensation\n",
    "- NumPy Anfänger: https://numpy.org/doc/stable/user/absolute_beginners.html"
   ]
  },
  {
   "cell_type": "markdown",
   "metadata": {},
   "source": [
    "### Installation"
   ]
  },
  {
   "cell_type": "code",
   "execution_count": 2,
   "metadata": {},
   "outputs": [
    {
     "name": "stdout",
     "output_type": "stream",
     "text": [
      "^C\n"
     ]
    },
    {
     "name": "stdout",
     "output_type": "stream",
     "text": [
      "Requirement already satisfied: numpy in c:\\users\\olhaishchenko\\documents\\daten_analyse\\unterricht\\.my_venv\\lib\\site-packages (2.1.2)\n"
     ]
    }
   ],
   "source": [
    "!pip install numpy"
   ]
  },
  {
   "cell_type": "markdown",
   "metadata": {},
   "source": [
    "### NumPy Informationen abfragen"
   ]
  },
  {
   "cell_type": "code",
   "execution_count": 2,
   "metadata": {},
   "outputs": [
    {
     "name": "stdout",
     "output_type": "stream",
     "text": [
      "Name: numpy\n",
      "Version: 2.1.2\n",
      "Summary: Fundamental package for array computing in Python\n",
      "Home-page: https://numpy.org\n",
      "Author: Travis E. Oliphant et al.\n",
      "Author-email: \n",
      "License: Copyright (c) 2005-2024, NumPy Developers.\n",
      "All rights reserved.\n",
      "\n",
      "Redistribution and use in source and binary forms, with or without\n",
      "modification, are permitted provided that the following conditions are\n",
      "met:\n",
      "\n",
      "    * Redistributions of source code must retain the above copyright\n",
      "       notice, this list of conditions and the following disclaimer.\n",
      "\n",
      "    * Redistributions in binary form must reproduce the above\n",
      "       copyright notice, this list of conditions and the following\n",
      "       disclaimer in the documentation and/or other materials provided\n",
      "       with the distribution.\n",
      "\n",
      "    * Neither the name of the NumPy Developers nor the names of any\n",
      "       contributors may be used to endorse or promote products derived\n",
      "       from this software without specific prior written permission.\n",
      "\n",
      "THIS SOFTWARE IS PROVIDED BY THE COPYRIGHT HOLDERS AND CONTRIBUTORS\n",
      "\"AS IS\" AND ANY EXPRESS OR IMPLIED WARRANTIES, INCLUDING, BUT NOT\n",
      "LIMITED TO, THE IMPLIED WARRANTIES OF MERCHANTABILITY AND FITNESS FOR\n",
      "A PARTICULAR PURPOSE ARE DISCLAIMED. IN NO EVENT SHALL THE COPYRIGHT\n",
      "OWNER OR CONTRIBUTORS BE LIABLE FOR ANY DIRECT, INDIRECT, INCIDENTAL,\n",
      "SPECIAL, EXEMPLARY, OR CONSEQUENTIAL DAMAGES (INCLUDING, BUT NOT\n",
      "LIMITED TO, PROCUREMENT OF SUBSTITUTE GOODS OR SERVICES; LOSS OF USE,\n",
      "DATA, OR PROFITS; OR BUSINESS INTERRUPTION) HOWEVER CAUSED AND ON ANY\n",
      "THEORY OF LIABILITY, WHETHER IN CONTRACT, STRICT LIABILITY, OR TORT\n",
      "(INCLUDING NEGLIGENCE OR OTHERWISE) ARISING IN ANY WAY OUT OF THE USE\n",
      "OF THIS SOFTWARE, EVEN IF ADVISED OF THE POSSIBILITY OF SUCH DAMAGE.\n",
      "\n",
      "----\n",
      "\n",
      "The NumPy repository and source distributions bundle several libraries that are\n",
      "compatibly licensed.  We list these here.\n",
      "\n",
      "Name: lapack-lite\n",
      "Files: numpy/linalg/lapack_lite/*\n",
      "License: BSD-3-Clause\n",
      "  For details, see numpy/linalg/lapack_lite/LICENSE.txt\n",
      "\n",
      "Name: dragon4\n",
      "Files: numpy/_core/src/multiarray/dragon4.c\n",
      "License: MIT\n",
      "  For license text, see numpy/_core/src/multiarray/dragon4.c\n",
      "\n",
      "Name: libdivide\n",
      "Files: numpy/_core/include/numpy/libdivide/*\n",
      "License: Zlib\n",
      "  For license text, see numpy/_core/include/numpy/libdivide/LICENSE.txt\n",
      "\n",
      "\n",
      "Note that the following files are vendored in the repository and sdist but not\n",
      "installed in built numpy packages:\n",
      "\n",
      "Name: Meson\n",
      "Files: vendored-meson/meson/*\n",
      "License: Apache 2.0\n",
      "  For license text, see vendored-meson/meson/COPYING\n",
      "\n",
      "Name: spin\n",
      "Files: .spin/cmds.py\n",
      "License: BSD-3\n",
      "  For license text, see .spin/LICENSE\n",
      "\n",
      "----\n",
      "\n",
      "This binary distribution of NumPy also bundles the following software:\n",
      "\n",
      "\n",
      "Name: OpenBLAS\n",
      "Files: numpy.libs\\libscipy_openblas*.dll\n",
      "Description: bundled as a dynamically linked library\n",
      "Availability: https://github.com/OpenMathLib/OpenBLAS/\n",
      "License: BSD-3-Clause\n",
      "  Copyright (c) 2011-2014, The OpenBLAS Project\n",
      "  All rights reserved.\n",
      "\n",
      "  Redistribution and use in source and binary forms, with or without\n",
      "  modification, are permitted provided that the following conditions are\n",
      "  met:\n",
      "\n",
      "     1. Redistributions of source code must retain the above copyright\n",
      "        notice, this list of conditions and the following disclaimer.\n",
      "\n",
      "     2. Redistributions in binary form must reproduce the above copyright\n",
      "        notice, this list of conditions and the following disclaimer in\n",
      "        the documentation and/or other materials provided with the\n",
      "        distribution.\n",
      "     3. Neither the name of the OpenBLAS project nor the names of\n",
      "        its contributors may be used to endorse or promote products\n",
      "        derived from this software without specific prior written\n",
      "        permission.\n",
      "\n",
      "  THIS SOFTWARE IS PROVIDED BY THE COPYRIGHT HOLDERS AND CONTRIBUTORS \"AS IS\"\n",
      "  AND ANY EXPRESS OR IMPLIED WARRANTIES, INCLUDING, BUT NOT LIMITED TO, THE\n",
      "  IMPLIED WARRANTIES OF MERCHANTABILITY AND FITNESS FOR A PARTICULAR PURPOSE\n",
      "  ARE DISCLAIMED. IN NO EVENT SHALL THE COPYRIGHT OWNER OR CONTRIBUTORS BE\n",
      "  LIABLE FOR ANY DIRECT, INDIRECT, INCIDENTAL, SPECIAL, EXEMPLARY, OR CONSEQUENTIAL\n",
      "  DAMAGES (INCLUDING, BUT NOT LIMITED TO, PROCUREMENT OF SUBSTITUTE GOODS OR\n",
      "  SERVICES; LOSS OF USE, DATA, OR PROFITS; OR BUSINESS INTERRUPTION) HOWEVER\n",
      "  CAUSED AND ON ANY THEORY OF LIABILITY, WHETHER IN CONTRACT, STRICT LIABILITY,\n",
      "  OR TORT (INCLUDING NEGLIGENCE OR OTHERWISE) ARISING IN ANY WAY OUT OF THE\n",
      "  USE OF THIS SOFTWARE, EVEN IF ADVISED OF THE POSSIBILITY OF SUCH DAMAGE.\n",
      "\n",
      "\n",
      "Name: LAPACK\n",
      "Files: numpy.libs\\libscipy_openblas*.dll\n",
      "Description: bundled in OpenBLAS\n",
      "Availability: https://github.com/OpenMathLib/OpenBLAS/\n",
      "License: BSD-3-Clause-Attribution\n",
      "  Copyright (c) 1992-2013 The University of Tennessee and The University\n",
      "                          of Tennessee Research Foundation.  All rights\n",
      "                          reserved.\n",
      "  Copyright (c) 2000-2013 The University of California Berkeley. All\n",
      "                          rights reserved.\n",
      "  Copyright (c) 2006-2013 The University of Colorado Denver.  All rights\n",
      "                          reserved.\n",
      "\n",
      "  $COPYRIGHT$\n",
      "\n",
      "  Additional copyrights may follow\n",
      "\n",
      "  $HEADER$\n",
      "\n",
      "  Redistribution and use in source and binary forms, with or without\n",
      "  modification, are permitted provided that the following conditions are\n",
      "  met:\n",
      "\n",
      "  - Redistributions of source code must retain the above copyright\n",
      "    notice, this list of conditions and the following disclaimer.\n",
      "\n",
      "  - Redistributions in binary form must reproduce the above copyright\n",
      "    notice, this list of conditions and the following disclaimer listed\n",
      "    in this license in the documentation and/or other materials\n",
      "    provided with the distribution.\n",
      "\n",
      "  - Neither the name of the copyright holders nor the names of its\n",
      "    contributors may be used to endorse or promote products derived from\n",
      "    this software without specific prior written permission.\n",
      "\n",
      "  The copyright holders provide no reassurances that the source code\n",
      "  provided does not infringe any patent, copyright, or any other\n",
      "  intellectual property rights of third parties.  The copyright holders\n",
      "  disclaim any liability to any recipient for claims brought against\n",
      "  recipient by any third party for infringement of that parties\n",
      "  intellectual property rights.\n",
      "\n",
      "  THIS SOFTWARE IS PROVIDED BY THE COPYRIGHT HOLDERS AND CONTRIBUTORS\n",
      "  \"AS IS\" AND ANY EXPRESS OR IMPLIED WARRANTIES, INCLUDING, BUT NOT\n",
      "  LIMITED TO, THE IMPLIED WARRANTIES OF MERCHANTABILITY AND FITNESS FOR\n",
      "  A PARTICULAR PURPOSE ARE DISCLAIMED. IN NO EVENT SHALL THE COPYRIGHT\n",
      "  OWNER OR CONTRIBUTORS BE LIABLE FOR ANY DIRECT, INDIRECT, INCIDENTAL,\n",
      "  SPECIAL, EXEMPLARY, OR CONSEQUENTIAL DAMAGES (INCLUDING, BUT NOT\n",
      "  LIMITED TO, PROCUREMENT OF SUBSTITUTE GOODS OR SERVICES; LOSS OF USE,\n",
      "  DATA, OR PROFITS; OR BUSINESS INTERRUPTION) HOWEVER CAUSED AND ON ANY\n",
      "  THEORY OF LIABILITY, WHETHER IN CONTRACT, STRICT LIABILITY, OR TORT\n",
      "  (INCLUDING NEGLIGENCE OR OTHERWISE) ARISING IN ANY WAY OUT OF THE USE\n",
      "  OF THIS SOFTWARE, EVEN IF ADVISED OF THE POSSIBILITY OF SUCH DAMAGE.\n",
      "\n",
      "\n",
      "Name: GCC runtime library\n",
      "Files: numpy.libs\\libscipy_openblas*.dll\n",
      "Description: statically linked to files compiled with gcc\n",
      "Availability: https://gcc.gnu.org/git/?p=gcc.git;a=tree;f=libgfortran\n",
      "License: GPL-3.0-with-GCC-exception\n",
      "  Copyright (C) 2002-2017 Free Software Foundation, Inc.\n",
      "\n",
      "  Libgfortran is free software; you can redistribute it and/or modify\n",
      "  it under the terms of the GNU General Public License as published by\n",
      "  the Free Software Foundation; either version 3, or (at your option)\n",
      "  any later version.\n",
      "\n",
      "  Libgfortran is distributed in the hope that it will be useful,\n",
      "  but WITHOUT ANY WARRANTY; without even the implied warranty of\n",
      "  MERCHANTABILITY or FITNESS FOR A PARTICULAR PURPOSE.  See the\n",
      "  GNU General Public License for more details.\n",
      "\n",
      "  Under Section 7 of GPL version 3, you are granted additional\n",
      "  permissions described in the GCC Runtime Library Exception, version\n",
      "  3.1, as published by the Free Software Foundation.\n",
      "\n",
      "  You should have received a copy of the GNU General Public License and\n",
      "  a copy of the GCC Runtime Library Exception along with this program;\n",
      "  see the files COPYING3 and COPYING.RUNTIME respectively.  If not, see\n",
      "  <http://www.gnu.org/licenses/>.\n",
      "\n",
      "----\n",
      "\n",
      "Full text of license texts referred to above follows (that they are\n",
      "listed below does not necessarily imply the conditions apply to the\n",
      "present binary release):\n",
      "\n",
      "----\n",
      "\n",
      "GCC RUNTIME LIBRARY EXCEPTION\n",
      "\n",
      "Version 3.1, 31 March 2009\n",
      "\n",
      "Copyright (C) 2009 Free Software Foundation, Inc. <http://fsf.org/>\n",
      "\n",
      "Everyone is permitted to copy and distribute verbatim copies of this\n",
      "license document, but changing it is not allowed.\n",
      "\n",
      "This GCC Runtime Library Exception (\"Exception\") is an additional\n",
      "permission under section 7 of the GNU General Public License, version\n",
      "3 (\"GPLv3\"). It applies to a given file (the \"Runtime Library\") that\n",
      "bears a notice placed by the copyright holder of the file stating that\n",
      "the file is governed by GPLv3 along with this Exception.\n",
      "\n",
      "When you use GCC to compile a program, GCC may combine portions of\n",
      "certain GCC header files and runtime libraries with the compiled\n",
      "program. The purpose of this Exception is to allow compilation of\n",
      "non-GPL (including proprietary) programs to use, in this way, the\n",
      "header files and runtime libraries covered by this Exception.\n",
      "\n",
      "0. Definitions.\n",
      "\n",
      "A file is an \"Independent Module\" if it either requires the Runtime\n",
      "Library for execution after a Compilation Process, or makes use of an\n",
      "interface provided by the Runtime Library, but is not otherwise based\n",
      "on the Runtime Library.\n",
      "\n",
      "\"GCC\" means a version of the GNU Compiler Collection, with or without\n",
      "modifications, governed by version 3 (or a specified later version) of\n",
      "the GNU General Public License (GPL) with the option of using any\n",
      "subsequent versions published by the FSF.\n",
      "\n",
      "\"GPL-compatible Software\" is software whose conditions of propagation,\n",
      "modification and use would permit combination with GCC in accord with\n",
      "the license of GCC.\n",
      "\n",
      "\"Target Code\" refers to output from any compiler for a real or virtual\n",
      "target processor architecture, in executable form or suitable for\n",
      "input to an assembler, loader, linker and/or execution\n",
      "phase. Notwithstanding that, Target Code does not include data in any\n",
      "format that is used as a compiler intermediate representation, or used\n",
      "for producing a compiler intermediate representation.\n",
      "\n",
      "The \"Compilation Process\" transforms code entirely represented in\n",
      "non-intermediate languages designed for human-written code, and/or in\n",
      "Java Virtual Machine byte code, into Target Code. Thus, for example,\n",
      "use of source code generators and preprocessors need not be considered\n",
      "part of the Compilation Process, since the Compilation Process can be\n",
      "understood as starting with the output of the generators or\n",
      "preprocessors.\n",
      "\n",
      "A Compilation Process is \"Eligible\" if it is done using GCC, alone or\n",
      "with other GPL-compatible software, or if it is done without using any\n",
      "work based on GCC. For example, using non-GPL-compatible Software to\n",
      "optimize any GCC intermediate representations would not qualify as an\n",
      "Eligible Compilation Process.\n",
      "\n",
      "1. Grant of Additional Permission.\n",
      "\n",
      "You have permission to propagate a work of Target Code formed by\n",
      "combining the Runtime Library with Independent Modules, even if such\n",
      "propagation would otherwise violate the terms of GPLv3, provided that\n",
      "all Target Code was generated by Eligible Compilation Processes. You\n",
      "may then convey such a combination under terms of your choice,\n",
      "consistent with the licensing of the Independent Modules.\n",
      "\n",
      "2. No Weakening of GCC Copyleft.\n",
      "\n",
      "The availability of this Exception does not imply any general\n",
      "presumption that third-party software is unaffected by the copyleft\n",
      "requirements of the license of GCC.\n",
      "\n",
      "----\n",
      "\n",
      "                    GNU GENERAL PUBLIC LICENSE\n",
      "                       Version 3, 29 June 2007\n",
      "\n",
      " Copyright (C) 2007 Free Software Foundation, Inc. <http://fsf.org/>\n",
      " Everyone is permitted to copy and distribute verbatim copies\n",
      " of this license document, but changing it is not allowed.\n",
      "\n",
      "                            Preamble\n",
      "\n",
      "  The GNU General Public License is a free, copyleft license for\n",
      "software and other kinds of works.\n",
      "\n",
      "  The licenses for most software and other practical works are designed\n",
      "to take away your freedom to share and change the works.  By contrast,\n",
      "the GNU General Public License is intended to guarantee your freedom to\n",
      "share and change all versions of a program--to make sure it remains free\n",
      "software for all its users.  We, the Free Software Foundation, use the\n",
      "GNU General Public License for most of our software; it applies also to\n",
      "any other work released this way by its authors.  You can apply it to\n",
      "your programs, too.\n",
      "\n",
      "  When we speak of free software, we are referring to freedom, not\n",
      "price.  Our General Public Licenses are designed to make sure that you\n",
      "have the freedom to distribute copies of free software (and charge for\n",
      "them if you wish), that you receive source code or can get it if you\n",
      "want it, that you can change the software or use pieces of it in new\n",
      "free programs, and that you know you can do these things.\n",
      "\n",
      "  To protect your rights, we need to prevent others from denying you\n",
      "these rights or asking you to surrender the rights.  Therefore, you have\n",
      "certain responsibilities if you distribute copies of the software, or if\n",
      "you modify it: responsibilities to respect the freedom of others.\n",
      "\n",
      "  For example, if you distribute copies of such a program, whether\n",
      "gratis or for a fee, you must pass on to the recipients the same\n",
      "freedoms that you received.  You must make sure that they, too, receive\n",
      "or can get the source code.  And you must show them these terms so they\n",
      "know their rights.\n",
      "\n",
      "  Developers that use the GNU GPL protect your rights with two steps:\n",
      "(1) assert copyright on the software, and (2) offer you this License\n",
      "giving you legal permission to copy, distribute and/or modify it.\n",
      "\n",
      "  For the developers' and authors' protection, the GPL clearly explains\n",
      "that there is no warranty for this free software.  For both users' and\n",
      "authors' sake, the GPL requires that modified versions be marked as\n",
      "changed, so that their problems will not be attributed erroneously to\n",
      "authors of previous versions.\n",
      "\n",
      "  Some devices are designed to deny users access to install or run\n",
      "modified versions of the software inside them, although the manufacturer\n",
      "can do so.  This is fundamentally incompatible with the aim of\n",
      "protecting users' freedom to change the software.  The systematic\n",
      "pattern of such abuse occurs in the area of products for individuals to\n",
      "use, which is precisely where it is most unacceptable.  Therefore, we\n",
      "have designed this version of the GPL to prohibit the practice for those\n",
      "products.  If such problems arise substantially in other domains, we\n",
      "stand ready to extend this provision to those domains in future versions\n",
      "of the GPL, as needed to protect the freedom of users.\n",
      "\n",
      "  Finally, every program is threatened constantly by software patents.\n",
      "States should not allow patents to restrict development and use of\n",
      "software on general-purpose computers, but in those that do, we wish to\n",
      "avoid the special danger that patents applied to a free program could\n",
      "make it effectively proprietary.  To prevent this, the GPL assures that\n",
      "patents cannot be used to render the program non-free.\n",
      "\n",
      "  The precise terms and conditions for copying, distribution and\n",
      "modification follow.\n",
      "\n",
      "                       TERMS AND CONDITIONS\n",
      "\n",
      "  0. Definitions.\n",
      "\n",
      "  \"This License\" refers to version 3 of the GNU General Public License.\n",
      "\n",
      "  \"Copyright\" also means copyright-like laws that apply to other kinds of\n",
      "works, such as semiconductor masks.\n",
      "\n",
      "  \"The Program\" refers to any copyrightable work licensed under this\n",
      "License.  Each licensee is addressed as \"you\".  \"Licensees\" and\n",
      "\"recipients\" may be individuals or organizations.\n",
      "\n",
      "  To \"modify\" a work means to copy from or adapt all or part of the work\n",
      "in a fashion requiring copyright permission, other than the making of an\n",
      "exact copy.  The resulting work is called a \"modified version\" of the\n",
      "earlier work or a work \"based on\" the earlier work.\n",
      "\n",
      "  A \"covered work\" means either the unmodified Program or a work based\n",
      "on the Program.\n",
      "\n",
      "  To \"propagate\" a work means to do anything with it that, without\n",
      "permission, would make you directly or secondarily liable for\n",
      "infringement under applicable copyright law, except executing it on a\n",
      "computer or modifying a private copy.  Propagation includes copying,\n",
      "distribution (with or without modification), making available to the\n",
      "public, and in some countries other activities as well.\n",
      "\n",
      "  To \"convey\" a work means any kind of propagation that enables other\n",
      "parties to make or receive copies.  Mere interaction with a user through\n",
      "a computer network, with no transfer of a copy, is not conveying.\n",
      "\n",
      "  An interactive user interface displays \"Appropriate Legal Notices\"\n",
      "to the extent that it includes a convenient and prominently visible\n",
      "feature that (1) displays an appropriate copyright notice, and (2)\n",
      "tells the user that there is no warranty for the work (except to the\n",
      "extent that warranties are provided), that licensees may convey the\n",
      "work under this License, and how to view a copy of this License.  If\n",
      "the interface presents a list of user commands or options, such as a\n",
      "menu, a prominent item in the list meets this criterion.\n",
      "\n",
      "  1. Source Code.\n",
      "\n",
      "  The \"source code\" for a work means the preferred form of the work\n",
      "for making modifications to it.  \"Object code\" means any non-source\n",
      "form of a work.\n",
      "\n",
      "  A \"Standard Interface\" means an interface that either is an official\n",
      "standard defined by a recognized standards body, or, in the case of\n",
      "interfaces specified for a particular programming language, one that\n",
      "is widely used among developers working in that language.\n",
      "\n",
      "  The \"System Libraries\" of an executable work include anything, other\n",
      "than the work as a whole, that (a) is included in the normal form of\n",
      "packaging a Major Component, but which is not part of that Major\n",
      "Component, and (b) serves only to enable use of the work with that\n",
      "Major Component, or to implement a Standard Interface for which an\n",
      "implementation is available to the public in source code form.  A\n",
      "\"Major Component\", in this context, means a major essential component\n",
      "(kernel, window system, and so on) of the specific operating system\n",
      "(if any) on which the executable work runs, or a compiler used to\n",
      "produce the work, or an object code interpreter used to run it.\n",
      "\n",
      "  The \"Corresponding Source\" for a work in object code form means all\n",
      "the source code needed to generate, install, and (for an executable\n",
      "work) run the object code and to modify the work, including scripts to\n",
      "control those activities.  However, it does not include the work's\n",
      "System Libraries, or general-purpose tools or generally available free\n",
      "programs which are used unmodified in performing those activities but\n",
      "which are not part of the work.  For example, Corresponding Source\n",
      "includes interface definition files associated with source files for\n",
      "the work, and the source code for shared libraries and dynamically\n",
      "linked subprograms that the work is specifically designed to require,\n",
      "such as by intimate data communication or control flow between those\n",
      "subprograms and other parts of the work.\n",
      "\n",
      "  The Corresponding Source need not include anything that users\n",
      "can regenerate automatically from other parts of the Corresponding\n",
      "Source.\n",
      "\n",
      "  The Corresponding Source for a work in source code form is that\n",
      "same work.\n",
      "\n",
      "  2. Basic Permissions.\n",
      "\n",
      "  All rights granted under this License are granted for the term of\n",
      "copyright on the Program, and are irrevocable provided the stated\n",
      "conditions are met.  This License explicitly affirms your unlimited\n",
      "permission to run the unmodified Program.  The output from running a\n",
      "covered work is covered by this License only if the output, given its\n",
      "content, constitutes a covered work.  This License acknowledges your\n",
      "rights of fair use or other equivalent, as provided by copyright law.\n",
      "\n",
      "  You may make, run and propagate covered works that you do not\n",
      "convey, without conditions so long as your license otherwise remains\n",
      "in force.  You may convey covered works to others for the sole purpose\n",
      "of having them make modifications exclusively for you, or provide you\n",
      "with facilities for running those works, provided that you comply with\n",
      "the terms of this License in conveying all material for which you do\n",
      "not control copyright.  Those thus making or running the covered works\n",
      "for you must do so exclusively on your behalf, under your direction\n",
      "and control, on terms that prohibit them from making any copies of\n",
      "your copyrighted material outside their relationship with you.\n",
      "\n",
      "  Conveying under any other circumstances is permitted solely under\n",
      "the conditions stated below.  Sublicensing is not allowed; section 10\n",
      "makes it unnecessary.\n",
      "\n",
      "  3. Protecting Users' Legal Rights From Anti-Circumvention Law.\n",
      "\n",
      "  No covered work shall be deemed part of an effective technological\n",
      "measure under any applicable law fulfilling obligations under article\n",
      "11 of the WIPO copyright treaty adopted on 20 December 1996, or\n",
      "similar laws prohibiting or restricting circumvention of such\n",
      "measures.\n",
      "\n",
      "  When you convey a covered work, you waive any legal power to forbid\n",
      "circumvention of technological measures to the extent such circumvention\n",
      "is effected by exercising rights under this License with respect to\n",
      "the covered work, and you disclaim any intention to limit operation or\n",
      "modification of the work as a means of enforcing, against the work's\n",
      "users, your or third parties' legal rights to forbid circumvention of\n",
      "technological measures.\n",
      "\n",
      "  4. Conveying Verbatim Copies.\n",
      "\n",
      "  You may convey verbatim copies of the Program's source code as you\n",
      "receive it, in any medium, provided that you conspicuously and\n",
      "appropriately publish on each copy an appropriate copyright notice;\n",
      "keep intact all notices stating that this License and any\n",
      "non-permissive terms added in accord with section 7 apply to the code;\n",
      "keep intact all notices of the absence of any warranty; and give all\n",
      "recipients a copy of this License along with the Program.\n",
      "\n",
      "  You may charge any price or no price for each copy that you convey,\n",
      "and you may offer support or warranty protection for a fee.\n",
      "\n",
      "  5. Conveying Modified Source Versions.\n",
      "\n",
      "  You may convey a work based on the Program, or the modifications to\n",
      "produce it from the Program, in the form of source code under the\n",
      "terms of section 4, provided that you also meet all of these conditions:\n",
      "\n",
      "    a) The work must carry prominent notices stating that you modified\n",
      "    it, and giving a relevant date.\n",
      "\n",
      "    b) The work must carry prominent notices stating that it is\n",
      "    released under this License and any conditions added under section\n",
      "    7.  This requirement modifies the requirement in section 4 to\n",
      "    \"keep intact all notices\".\n",
      "\n",
      "    c) You must license the entire work, as a whole, under this\n",
      "    License to anyone who comes into possession of a copy.  This\n",
      "    License will therefore apply, along with any applicable section 7\n",
      "    additional terms, to the whole of the work, and all its parts,\n",
      "    regardless of how they are packaged.  This License gives no\n",
      "    permission to license the work in any other way, but it does not\n",
      "    invalidate such permission if you have separately received it.\n",
      "\n",
      "    d) If the work has interactive user interfaces, each must display\n",
      "    Appropriate Legal Notices; however, if the Program has interactive\n",
      "    interfaces that do not display Appropriate Legal Notices, your\n",
      "    work need not make them do so.\n",
      "\n",
      "  A compilation of a covered work with other separate and independent\n",
      "works, which are not by their nature extensions of the covered work,\n",
      "and which are not combined with it such as to form a larger program,\n",
      "in or on a volume of a storage or distribution medium, is called an\n",
      "\"aggregate\" if the compilation and its resulting copyright are not\n",
      "used to limit the access or legal rights of the compilation's users\n",
      "beyond what the individual works permit.  Inclusion of a covered work\n",
      "in an aggregate does not cause this License to apply to the other\n",
      "parts of the aggregate.\n",
      "\n",
      "  6. Conveying Non-Source Forms.\n",
      "\n",
      "  You may convey a covered work in object code form under the terms\n",
      "of sections 4 and 5, provided that you also convey the\n",
      "machine-readable Corresponding Source under the terms of this License,\n",
      "in one of these ways:\n",
      "\n",
      "    a) Convey the object code in, or embodied in, a physical product\n",
      "    (including a physical distribution medium), accompanied by the\n",
      "    Corresponding Source fixed on a durable physical medium\n",
      "    customarily used for software interchange.\n",
      "\n",
      "    b) Convey the object code in, or embodied in, a physical product\n",
      "    (including a physical distribution medium), accompanied by a\n",
      "    written offer, valid for at least three years and valid for as\n",
      "    long as you offer spare parts or customer support for that product\n",
      "    model, to give anyone who possesses the object code either (1) a\n",
      "    copy of the Corresponding Source for all the software in the\n",
      "    product that is covered by this License, on a durable physical\n",
      "    medium customarily used for software interchange, for a price no\n",
      "    more than your reasonable cost of physically performing this\n",
      "    conveying of source, or (2) access to copy the\n",
      "    Corresponding Source from a network server at no charge.\n",
      "\n",
      "    c) Convey individual copies of the object code with a copy of the\n",
      "    written offer to provide the Corresponding Source.  This\n",
      "    alternative is allowed only occasionally and noncommercially, and\n",
      "    only if you received the object code with such an offer, in accord\n",
      "    with subsection 6b.\n",
      "\n",
      "    d) Convey the object code by offering access from a designated\n",
      "    place (gratis or for a charge), and offer equivalent access to the\n",
      "    Corresponding Source in the same way through the same place at no\n",
      "    further charge.  You need not require recipients to copy the\n",
      "    Corresponding Source along with the object code.  If the place to\n",
      "    copy the object code is a network server, the Corresponding Source\n",
      "    may be on a different server (operated by you or a third party)\n",
      "    that supports equivalent copying facilities, provided you maintain\n",
      "    clear directions next to the object code saying where to find the\n",
      "    Corresponding Source.  Regardless of what server hosts the\n",
      "    Corresponding Source, you remain obligated to ensure that it is\n",
      "    available for as long as needed to satisfy these requirements.\n",
      "\n",
      "    e) Convey the object code using peer-to-peer transmission, provided\n",
      "    you inform other peers where the object code and Corresponding\n",
      "    Source of the work are being offered to the general public at no\n",
      "    charge under subsection 6d.\n",
      "\n",
      "  A separable portion of the object code, whose source code is excluded\n",
      "from the Corresponding Source as a System Library, need not be\n",
      "included in conveying the object code work.\n",
      "\n",
      "  A \"User Product\" is either (1) a \"consumer product\", which means any\n",
      "tangible personal property which is normally used for personal, family,\n",
      "or household purposes, or (2) anything designed or sold for incorporation\n",
      "into a dwelling.  In determining whether a product is a consumer product,\n",
      "doubtful cases shall be resolved in favor of coverage.  For a particular\n",
      "product received by a particular user, \"normally used\" refers to a\n",
      "typical or common use of that class of product, regardless of the status\n",
      "of the particular user or of the way in which the particular user\n",
      "actually uses, or expects or is expected to use, the product.  A product\n",
      "is a consumer product regardless of whether the product has substantial\n",
      "commercial, industrial or non-consumer uses, unless such uses represent\n",
      "the only significant mode of use of the product.\n",
      "\n",
      "  \"Installation Information\" for a User Product means any methods,\n",
      "procedures, authorization keys, or other information required to install\n",
      "and execute modified versions of a covered work in that User Product from\n",
      "a modified version of its Corresponding Source.  The information must\n",
      "suffice to ensure that the continued functioning of the modified object\n",
      "code is in no case prevented or interfered with solely because\n",
      "modification has been made.\n",
      "\n",
      "  If you convey an object code work under this section in, or with, or\n",
      "specifically for use in, a User Product, and the conveying occurs as\n",
      "part of a transaction in which the right of possession and use of the\n",
      "User Product is transferred to the recipient in perpetuity or for a\n",
      "fixed term (regardless of how the transaction is characterized), the\n",
      "Corresponding Source conveyed under this section must be accompanied\n",
      "by the Installation Information.  But this requirement does not apply\n",
      "if neither you nor any third party retains the ability to install\n",
      "modified object code on the User Product (for example, the work has\n",
      "been installed in ROM).\n",
      "\n",
      "  The requirement to provide Installation Information does not include a\n",
      "requirement to continue to provide support service, warranty, or updates\n",
      "for a work that has been modified or installed by the recipient, or for\n",
      "the User Product in which it has been modified or installed.  Access to a\n",
      "network may be denied when the modification itself materially and\n",
      "adversely affects the operation of the network or violates the rules and\n",
      "protocols for communication across the network.\n",
      "\n",
      "  Corresponding Source conveyed, and Installation Information provided,\n",
      "in accord with this section must be in a format that is publicly\n",
      "documented (and with an implementation available to the public in\n",
      "source code form), and must require no special password or key for\n",
      "unpacking, reading or copying.\n",
      "\n",
      "  7. Additional Terms.\n",
      "\n",
      "  \"Additional permissions\" are terms that supplement the terms of this\n",
      "License by making exceptions from one or more of its conditions.\n",
      "Additional permissions that are applicable to the entire Program shall\n",
      "be treated as though they were included in this License, to the extent\n",
      "that they are valid under applicable law.  If additional permissions\n",
      "apply only to part of the Program, that part may be used separately\n",
      "under those permissions, but the entire Program remains governed by\n",
      "this License without regard to the additional permissions.\n",
      "\n",
      "  When you convey a copy of a covered work, you may at your option\n",
      "remove any additional permissions from that copy, or from any part of\n",
      "it.  (Additional permissions may be written to require their own\n",
      "removal in certain cases when you modify the work.)  You may place\n",
      "additional permissions on material, added by you to a covered work,\n",
      "for which you have or can give appropriate copyright permission.\n",
      "\n",
      "  Notwithstanding any other provision of this License, for material you\n",
      "add to a covered work, you may (if authorized by the copyright holders of\n",
      "that material) supplement the terms of this License with terms:\n",
      "\n",
      "    a) Disclaiming warranty or limiting liability differently from the\n",
      "    terms of sections 15 and 16 of this License; or\n",
      "\n",
      "    b) Requiring preservation of specified reasonable legal notices or\n",
      "    author attributions in that material or in the Appropriate Legal\n",
      "    Notices displayed by works containing it; or\n",
      "\n",
      "    c) Prohibiting misrepresentation of the origin of that material, or\n",
      "    requiring that modified versions of such material be marked in\n",
      "    reasonable ways as different from the original version; or\n",
      "\n",
      "    d) Limiting the use for publicity purposes of names of licensors or\n",
      "    authors of the material; or\n",
      "\n",
      "    e) Declining to grant rights under trademark law for use of some\n",
      "    trade names, trademarks, or service marks; or\n",
      "\n",
      "    f) Requiring indemnification of licensors and authors of that\n",
      "    material by anyone who conveys the material (or modified versions of\n",
      "    it) with contractual assumptions of liability to the recipient, for\n",
      "    any liability that these contractual assumptions directly impose on\n",
      "    those licensors and authors.\n",
      "\n",
      "  All other non-permissive additional terms are considered \"further\n",
      "restrictions\" within the meaning of section 10.  If the Program as you\n",
      "received it, or any part of it, contains a notice stating that it is\n",
      "governed by this License along with a term that is a further\n",
      "restriction, you may remove that term.  If a license document contains\n",
      "a further restriction but permits relicensing or conveying under this\n",
      "License, you may add to a covered work material governed by the terms\n",
      "of that license document, provided that the further restriction does\n",
      "not survive such relicensing or conveying.\n",
      "\n",
      "  If you add terms to a covered work in accord with this section, you\n",
      "must place, in the relevant source files, a statement of the\n",
      "additional terms that apply to those files, or a notice indicating\n",
      "where to find the applicable terms.\n",
      "\n",
      "  Additional terms, permissive or non-permissive, may be stated in the\n",
      "form of a separately written license, or stated as exceptions;\n",
      "the above requirements apply either way.\n",
      "\n",
      "  8. Termination.\n",
      "\n",
      "  You may not propagate or modify a covered work except as expressly\n",
      "provided under this License.  Any attempt otherwise to propagate or\n",
      "modify it is void, and will automatically terminate your rights under\n",
      "this License (including any patent licenses granted under the third\n",
      "paragraph of section 11).\n",
      "\n",
      "  However, if you cease all violation of this License, then your\n",
      "license from a particular copyright holder is reinstated (a)\n",
      "provisionally, unless and until the copyright holder explicitly and\n",
      "finally terminates your license, and (b) permanently, if the copyright\n",
      "holder fails to notify you of the violation by some reasonable means\n",
      "prior to 60 days after the cessation.\n",
      "\n",
      "  Moreover, your license from a particular copyright holder is\n",
      "reinstated permanently if the copyright holder notifies you of the\n",
      "violation by some reasonable means, this is the first time you have\n",
      "received notice of violation of this License (for any work) from that\n",
      "copyright holder, and you cure the violation prior to 30 days after\n",
      "your receipt of the notice.\n",
      "\n",
      "  Termination of your rights under this section does not terminate the\n",
      "licenses of parties who have received copies or rights from you under\n",
      "this License.  If your rights have been terminated and not permanently\n",
      "reinstated, you do not qualify to receive new licenses for the same\n",
      "material under section 10.\n",
      "\n",
      "  9. Acceptance Not Required for Having Copies.\n",
      "\n",
      "  You are not required to accept this License in order to receive or\n",
      "run a copy of the Program.  Ancillary propagation of a covered work\n",
      "occurring solely as a consequence of using peer-to-peer transmission\n",
      "to receive a copy likewise does not require acceptance.  However,\n",
      "nothing other than this License grants you permission to propagate or\n",
      "modify any covered work.  These actions infringe copyright if you do\n",
      "not accept this License.  Therefore, by modifying or propagating a\n",
      "covered work, you indicate your acceptance of this License to do so.\n",
      "\n",
      "  10. Automatic Licensing of Downstream Recipients.\n",
      "\n",
      "  Each time you convey a covered work, the recipient automatically\n",
      "receives a license from the original licensors, to run, modify and\n",
      "propagate that work, subject to this License.  You are not responsible\n",
      "for enforcing compliance by third parties with this License.\n",
      "\n",
      "  An \"entity transaction\" is a transaction transferring control of an\n",
      "organization, or substantially all assets of one, or subdividing an\n",
      "organization, or merging organizations.  If propagation of a covered\n",
      "work results from an entity transaction, each party to that\n",
      "transaction who receives a copy of the work also receives whatever\n",
      "licenses to the work the party's predecessor in interest had or could\n",
      "give under the previous paragraph, plus a right to possession of the\n",
      "Corresponding Source of the work from the predecessor in interest, if\n",
      "the predecessor has it or can get it with reasonable efforts.\n",
      "\n",
      "  You may not impose any further restrictions on the exercise of the\n",
      "rights granted or affirmed under this License.  For example, you may\n",
      "not impose a license fee, royalty, or other charge for exercise of\n",
      "rights granted under this License, and you may not initiate litigation\n",
      "(including a cross-claim or counterclaim in a lawsuit) alleging that\n",
      "any patent claim is infringed by making, using, selling, offering for\n",
      "sale, or importing the Program or any portion of it.\n",
      "\n",
      "  11. Patents.\n",
      "\n",
      "  A \"contributor\" is a copyright holder who authorizes use under this\n",
      "License of the Program or a work on which the Program is based.  The\n",
      "work thus licensed is called the contributor's \"contributor version\".\n",
      "\n",
      "  A contributor's \"essential patent claims\" are all patent claims\n",
      "owned or controlled by the contributor, whether already acquired or\n",
      "hereafter acquired, that would be infringed by some manner, permitted\n",
      "by this License, of making, using, or selling its contributor version,\n",
      "but do not include claims that would be infringed only as a\n",
      "consequence of further modification of the contributor version.  For\n",
      "purposes of this definition, \"control\" includes the right to grant\n",
      "patent sublicenses in a manner consistent with the requirements of\n",
      "this License.\n",
      "\n",
      "  Each contributor grants you a non-exclusive, worldwide, royalty-free\n",
      "patent license under the contributor's essential patent claims, to\n",
      "make, use, sell, offer for sale, import and otherwise run, modify and\n",
      "propagate the contents of its contributor version.\n",
      "\n",
      "  In the following three paragraphs, a \"patent license\" is any express\n",
      "agreement or commitment, however denominated, not to enforce a patent\n",
      "(such as an express permission to practice a patent or covenant not to\n",
      "sue for patent infringement).  To \"grant\" such a patent license to a\n",
      "party means to make such an agreement or commitment not to enforce a\n",
      "patent against the party.\n",
      "\n",
      "  If you convey a covered work, knowingly relying on a patent license,\n",
      "and the Corresponding Source of the work is not available for anyone\n",
      "to copy, free of charge and under the terms of this License, through a\n",
      "publicly available network server or other readily accessible means,\n",
      "then you must either (1) cause the Corresponding Source to be so\n",
      "available, or (2) arrange to deprive yourself of the benefit of the\n",
      "patent license for this particular work, or (3) arrange, in a manner\n",
      "consistent with the requirements of this License, to extend the patent\n",
      "license to downstream recipients.  \"Knowingly relying\" means you have\n",
      "actual knowledge that, but for the patent license, your conveying the\n",
      "covered work in a country, or your recipient's use of the covered work\n",
      "in a country, would infringe one or more identifiable patents in that\n",
      "country that you have reason to believe are valid.\n",
      "\n",
      "  If, pursuant to or in connection with a single transaction or\n",
      "arrangement, you convey, or propagate by procuring conveyance of, a\n",
      "covered work, and grant a patent license to some of the parties\n",
      "receiving the covered work authorizing them to use, propagate, modify\n",
      "or convey a specific copy of the covered work, then the patent license\n",
      "you grant is automatically extended to all recipients of the covered\n",
      "work and works based on it.\n",
      "\n",
      "  A patent license is \"discriminatory\" if it does not include within\n",
      "the scope of its coverage, prohibits the exercise of, or is\n",
      "conditioned on the non-exercise of one or more of the rights that are\n",
      "specifically granted under this License.  You may not convey a covered\n",
      "work if you are a party to an arrangement with a third party that is\n",
      "in the business of distributing software, under which you make payment\n",
      "to the third party based on the extent of your activity of conveying\n",
      "the work, and under which the third party grants, to any of the\n",
      "parties who would receive the covered work from you, a discriminatory\n",
      "patent license (a) in connection with copies of the covered work\n",
      "conveyed by you (or copies made from those copies), or (b) primarily\n",
      "for and in connection with specific products or compilations that\n",
      "contain the covered work, unless you entered into that arrangement,\n",
      "or that patent license was granted, prior to 28 March 2007.\n",
      "\n",
      "  Nothing in this License shall be construed as excluding or limiting\n",
      "any implied license or other defenses to infringement that may\n",
      "otherwise be available to you under applicable patent law.\n",
      "\n",
      "  12. No Surrender of Others' Freedom.\n",
      "\n",
      "  If conditions are imposed on you (whether by court order, agreement or\n",
      "otherwise) that contradict the conditions of this License, they do not\n",
      "excuse you from the conditions of this License.  If you cannot convey a\n",
      "covered work so as to satisfy simultaneously your obligations under this\n",
      "License and any other pertinent obligations, then as a consequence you may\n",
      "not convey it at all.  For example, if you agree to terms that obligate you\n",
      "to collect a royalty for further conveying from those to whom you convey\n",
      "the Program, the only way you could satisfy both those terms and this\n",
      "License would be to refrain entirely from conveying the Program.\n",
      "\n",
      "  13. Use with the GNU Affero General Public License.\n",
      "\n",
      "  Notwithstanding any other provision of this License, you have\n",
      "permission to link or combine any covered work with a work licensed\n",
      "under version 3 of the GNU Affero General Public License into a single\n",
      "combined work, and to convey the resulting work.  The terms of this\n",
      "License will continue to apply to the part which is the covered work,\n",
      "but the special requirements of the GNU Affero General Public License,\n",
      "section 13, concerning interaction through a network will apply to the\n",
      "combination as such.\n",
      "\n",
      "  14. Revised Versions of this License.\n",
      "\n",
      "  The Free Software Foundation may publish revised and/or new versions of\n",
      "the GNU General Public License from time to time.  Such new versions will\n",
      "be similar in spirit to the present version, but may differ in detail to\n",
      "address new problems or concerns.\n",
      "\n",
      "  Each version is given a distinguishing version number.  If the\n",
      "Program specifies that a certain numbered version of the GNU General\n",
      "Public License \"or any later version\" applies to it, you have the\n",
      "option of following the terms and conditions either of that numbered\n",
      "version or of any later version published by the Free Software\n",
      "Foundation.  If the Program does not specify a version number of the\n",
      "GNU General Public License, you may choose any version ever published\n",
      "by the Free Software Foundation.\n",
      "\n",
      "  If the Program specifies that a proxy can decide which future\n",
      "versions of the GNU General Public License can be used, that proxy's\n",
      "public statement of acceptance of a version permanently authorizes you\n",
      "to choose that version for the Program.\n",
      "\n",
      "  Later license versions may give you additional or different\n",
      "permissions.  However, no additional obligations are imposed on any\n",
      "author or copyright holder as a result of your choosing to follow a\n",
      "later version.\n",
      "\n",
      "  15. Disclaimer of Warranty.\n",
      "\n",
      "  THERE IS NO WARRANTY FOR THE PROGRAM, TO THE EXTENT PERMITTED BY\n",
      "APPLICABLE LAW.  EXCEPT WHEN OTHERWISE STATED IN WRITING THE COPYRIGHT\n",
      "HOLDERS AND/OR OTHER PARTIES PROVIDE THE PROGRAM \"AS IS\" WITHOUT WARRANTY\n",
      "OF ANY KIND, EITHER EXPRESSED OR IMPLIED, INCLUDING, BUT NOT LIMITED TO,\n",
      "THE IMPLIED WARRANTIES OF MERCHANTABILITY AND FITNESS FOR A PARTICULAR\n",
      "PURPOSE.  THE ENTIRE RISK AS TO THE QUALITY AND PERFORMANCE OF THE PROGRAM\n",
      "IS WITH YOU.  SHOULD THE PROGRAM PROVE DEFECTIVE, YOU ASSUME THE COST OF\n",
      "ALL NECESSARY SERVICING, REPAIR OR CORRECTION.\n",
      "\n",
      "  16. Limitation of Liability.\n",
      "\n",
      "  IN NO EVENT UNLESS REQUIRED BY APPLICABLE LAW OR AGREED TO IN WRITING\n",
      "WILL ANY COPYRIGHT HOLDER, OR ANY OTHER PARTY WHO MODIFIES AND/OR CONVEYS\n",
      "THE PROGRAM AS PERMITTED ABOVE, BE LIABLE TO YOU FOR DAMAGES, INCLUDING ANY\n",
      "GENERAL, SPECIAL, INCIDENTAL OR CONSEQUENTIAL DAMAGES ARISING OUT OF THE\n",
      "USE OR INABILITY TO USE THE PROGRAM (INCLUDING BUT NOT LIMITED TO LOSS OF\n",
      "DATA OR DATA BEING RENDERED INACCURATE OR LOSSES SUSTAINED BY YOU OR THIRD\n",
      "PARTIES OR A FAILURE OF THE PROGRAM TO OPERATE WITH ANY OTHER PROGRAMS),\n",
      "EVEN IF SUCH HOLDER OR OTHER PARTY HAS BEEN ADVISED OF THE POSSIBILITY OF\n",
      "SUCH DAMAGES.\n",
      "\n",
      "  17. Interpretation of Sections 15 and 16.\n",
      "\n",
      "  If the disclaimer of warranty and limitation of liability provided\n",
      "above cannot be given local legal effect according to their terms,\n",
      "reviewing courts shall apply local law that most closely approximates\n",
      "an absolute waiver of all civil liability in connection with the\n",
      "Program, unless a warranty or assumption of liability accompanies a\n",
      "copy of the Program in return for a fee.\n",
      "\n",
      "                     END OF TERMS AND CONDITIONS\n",
      "\n",
      "            How to Apply These Terms to Your New Programs\n",
      "\n",
      "  If you develop a new program, and you want it to be of the greatest\n",
      "possible use to the public, the best way to achieve this is to make it\n",
      "free software which everyone can redistribute and change under these terms.\n",
      "\n",
      "  To do so, attach the following notices to the program.  It is safest\n",
      "to attach them to the start of each source file to most effectively\n",
      "state the exclusion of warranty; and each file should have at least\n",
      "the \"copyright\" line and a pointer to where the full notice is found.\n",
      "\n",
      "    <one line to give the program's name and a brief idea of what it does.>\n",
      "    Copyright (C) <year>  <name of author>\n",
      "\n",
      "    This program is free software: you can redistribute it and/or modify\n",
      "    it under the terms of the GNU General Public License as published by\n",
      "    the Free Software Foundation, either version 3 of the License, or\n",
      "    (at your option) any later version.\n",
      "\n",
      "    This program is distributed in the hope that it will be useful,\n",
      "    but WITHOUT ANY WARRANTY; without even the implied warranty of\n",
      "    MERCHANTABILITY or FITNESS FOR A PARTICULAR PURPOSE.  See the\n",
      "    GNU General Public License for more details.\n",
      "\n",
      "    You should have received a copy of the GNU General Public License\n",
      "    along with this program.  If not, see <http://www.gnu.org/licenses/>.\n",
      "\n",
      "Also add information on how to contact you by electronic and paper mail.\n",
      "\n",
      "  If the program does terminal interaction, make it output a short\n",
      "notice like this when it starts in an interactive mode:\n",
      "\n",
      "    <program>  Copyright (C) <year>  <name of author>\n",
      "    This program comes with ABSOLUTELY NO WARRANTY; for details type `show w'.\n",
      "    This is free software, and you are welcome to redistribute it\n",
      "    under certain conditions; type `show c' for details.\n",
      "\n",
      "The hypothetical commands `show w' and `show c' should show the appropriate\n",
      "parts of the General Public License.  Of course, your program's commands\n",
      "might be different; for a GUI interface, you would use an \"about box\".\n",
      "\n",
      "  You should also get your employer (if you work as a programmer) or school,\n",
      "if any, to sign a \"copyright disclaimer\" for the program, if necessary.\n",
      "For more information on this, and how to apply and follow the GNU GPL, see\n",
      "<http://www.gnu.org/licenses/>.\n",
      "\n",
      "  The GNU General Public License does not permit incorporating your program\n",
      "into proprietary programs.  If your program is a subroutine library, you\n",
      "may consider it more useful to permit linking proprietary applications with\n",
      "the library.  If this is what you want to do, use the GNU Lesser General\n",
      "Public License instead of this License.  But first, please read\n",
      "<http://www.gnu.org/philosophy/why-not-lgpl.html>.\n",
      "Location: c:\\Users\\OlhaIshchenko\\Documents\\Daten_Analyse\\unterricht\\.my_venv\\Lib\\site-packages\n",
      "Requires: \n",
      "Required-by: \n"
     ]
    }
   ],
   "source": [
    "!pip show numpy"
   ]
  },
  {
   "cell_type": "markdown",
   "metadata": {},
   "source": [
    "### Importieren"
   ]
  },
  {
   "cell_type": "code",
   "execution_count": 3,
   "metadata": {},
   "outputs": [
    {
     "name": "stdout",
     "output_type": "stream",
     "text": [
      "NumPy erfolgreich importiert.\n"
     ]
    }
   ],
   "source": [
    "import numpy as np\n",
    "print('NumPy erfolgreich importiert.') # optional"
   ]
  },
  {
   "cell_type": "code",
   "execution_count": 5,
   "metadata": {},
   "outputs": [
    {
     "data": {
      "text/plain": [
       "[2, 3]"
      ]
     },
     "execution_count": 5,
     "metadata": {},
     "output_type": "execute_result"
    }
   ],
   "source": [
    "l = [1,2,3,4,5]\n",
    "l[1:-2]"
   ]
  },
  {
   "cell_type": "markdown",
   "metadata": {},
   "source": [
    "### Array\n",
    "NumPy ist besonders gut in Berechnungen mit Arrays.  \n",
    "Ein Array ist ein sequenzieller und geordneter Datentyp, in dem beliebig viele Werte abgespeichert werden können. Während eine Variable eines elementaren Datentyps immer nur einen einzelnen Wert enthält, kann eine Arrayvariable eine größere Anzahl verschiedenster Werte enthalten.\n",
    "Ein NumPy Array ist sehr ähnlich wie eine Python-Liste: \n",
    "- Elemente eines Arrays sind geordnet und können anhand Indizes aufgerufen werden\n",
    "- Teilbereichsoperator (slicing) funktioniert ähnlich für Arrays\n",
    "\n",
    "_Unterschiede_\n",
    "- NumPy Arrays können wie Vektorobjekte behandelt werden\n",
    "- NumPy Arrays enthalten Elemente desselben oder ähnlichen Datentyps, während Listelemente unterschiedliche Datentypen annehmen\n",
    "- Berechnungen mit NumPy Arrays sind viel schneller als mit Listen\n",
    "- NumPy Arrays haben einen kleineren Bedarf an Speicherplatz"
   ]
  },
  {
   "cell_type": "markdown",
   "metadata": {},
   "source": [
    "### Beispiel zur Verwendung von Arrays\n",
    "Zuerst erzeugen wir ein Array mit Zufallszahlen:"
   ]
  },
  {
   "cell_type": "code",
   "execution_count": 2,
   "metadata": {},
   "outputs": [
    {
     "data": {
      "text/plain": [
       "array([[ 0.97925379,  0.74181984,  0.63684306],\n",
       "       [ 0.76166549,  0.54468831, -2.02254329]])"
      ]
     },
     "execution_count": 2,
     "metadata": {},
     "output_type": "execute_result"
    }
   ],
   "source": [
    "# Generate some random data\n",
    "data = np.random.randn(2, 3)\n",
    "data"
   ]
  },
  {
   "cell_type": "markdown",
   "metadata": {},
   "source": [
    "Dann führen wir damit mathematische Operationen durch:"
   ]
  },
  {
   "cell_type": "code",
   "execution_count": 3,
   "metadata": {},
   "outputs": [
    {
     "data": {
      "text/plain": [
       "array([[  9.79253793,   7.41819844,   6.36843057],\n",
       "       [  7.61665486,   5.44688314, -20.2254329 ]])"
      ]
     },
     "execution_count": 3,
     "metadata": {},
     "output_type": "execute_result"
    }
   ],
   "source": [
    "data * 10\n"
   ]
  },
  {
   "cell_type": "code",
   "execution_count": 4,
   "metadata": {},
   "outputs": [
    {
     "data": {
      "text/plain": [
       "array([[ 1.95850759,  1.48363969,  1.27368611],\n",
       "       [ 1.52333097,  1.08937663, -4.04508658]])"
      ]
     },
     "execution_count": 4,
     "metadata": {},
     "output_type": "execute_result"
    }
   ],
   "source": [
    "data + data"
   ]
  },
  {
   "cell_type": "markdown",
   "metadata": {},
   "source": [
    "Dimension des Arrays mit `shape` (Attribut, keine Methode !) anzeigen:"
   ]
  },
  {
   "cell_type": "code",
   "execution_count": 5,
   "metadata": {},
   "outputs": [
    {
     "data": {
      "text/plain": [
       "(2, 3)"
      ]
     },
     "execution_count": 5,
     "metadata": {},
     "output_type": "execute_result"
    }
   ],
   "source": [
    "data.shape"
   ]
  },
  {
   "cell_type": "markdown",
   "metadata": {},
   "source": [
    "Ein Array besteht nur aus einem Datentyp. Der steht im Attribut `dtype`"
   ]
  },
  {
   "cell_type": "code",
   "execution_count": 8,
   "metadata": {},
   "outputs": [
    {
     "data": {
      "text/plain": [
       "dtype('float64')"
      ]
     },
     "execution_count": 8,
     "metadata": {},
     "output_type": "execute_result"
    }
   ],
   "source": [
    "data.dtype"
   ]
  },
  {
   "cell_type": "markdown",
   "metadata": {},
   "source": [
    "### Arrays erzeugen"
   ]
  },
  {
   "cell_type": "markdown",
   "metadata": {},
   "source": [
    "Aus einer Liste:"
   ]
  },
  {
   "cell_type": "code",
   "execution_count": 14,
   "metadata": {},
   "outputs": [
    {
     "data": {
      "text/plain": [
       "array([6. , 7.5, 8. , 0. , 1. ])"
      ]
     },
     "execution_count": 14,
     "metadata": {},
     "output_type": "execute_result"
    }
   ],
   "source": [
    "liste1 = [6, 7.5, 8, 0, 1]\n",
    "# liste2 = [7,7,8,0,1]\n",
    "arr1 = np.array(liste1)\n",
    "# arr2 = np.array(liste2)\n",
    "arr1#, arr2"
   ]
  },
  {
   "cell_type": "code",
   "execution_count": 16,
   "metadata": {},
   "outputs": [
    {
     "data": {
      "text/plain": [
       "(dtype('float64'), (5,), 1)"
      ]
     },
     "execution_count": 16,
     "metadata": {},
     "output_type": "execute_result"
    }
   ],
   "source": [
    "arr1.dtype, arr1.shape, arr1.ndim"
   ]
  },
  {
   "cell_type": "code",
   "execution_count": 17,
   "metadata": {},
   "outputs": [],
   "source": [
    "# arr2.dtype, arr2.shape, arr2.ndim"
   ]
  },
  {
   "cell_type": "markdown",
   "metadata": {},
   "source": [
    "Verschachtele Listen erzeugen einen mehrdimensionalen Array:"
   ]
  },
  {
   "cell_type": "code",
   "execution_count": 24,
   "metadata": {},
   "outputs": [
    {
     "data": {
      "text/plain": [
       "[[0, 1, 2, 3], [4, 5, 6, 7]]"
      ]
     },
     "execution_count": 24,
     "metadata": {},
     "output_type": "execute_result"
    }
   ],
   "source": [
    "data2 = [[i for i in range(4)],[j for j in range(4,8)]]\n",
    "data2"
   ]
  },
  {
   "cell_type": "code",
   "execution_count": 21,
   "metadata": {},
   "outputs": [
    {
     "data": {
      "text/plain": [
       "array([[0, 1, 2, 3],\n",
       "       [4, 5, 6, 7]])"
      ]
     },
     "execution_count": 21,
     "metadata": {},
     "output_type": "execute_result"
    }
   ],
   "source": [
    "arr2 = np.array(data2)\n",
    "arr2"
   ]
  },
  {
   "cell_type": "markdown",
   "metadata": {},
   "source": [
    "Wir können die Dimension mit dem Attribut `ndim` oder `shape` überprüfen:"
   ]
  },
  {
   "cell_type": "code",
   "execution_count": 22,
   "metadata": {},
   "outputs": [
    {
     "data": {
      "text/plain": [
       "(2, 4)"
      ]
     },
     "execution_count": 22,
     "metadata": {},
     "output_type": "execute_result"
    }
   ],
   "source": [
    "arr2.shape"
   ]
  },
  {
   "cell_type": "code",
   "execution_count": 23,
   "metadata": {},
   "outputs": [
    {
     "data": {
      "text/plain": [
       "2"
      ]
     },
     "execution_count": 23,
     "metadata": {},
     "output_type": "execute_result"
    }
   ],
   "source": [
    "arr2.ndim"
   ]
  },
  {
   "cell_type": "markdown",
   "metadata": {},
   "source": [
    "Dimension ändern mit `reshape()`"
   ]
  },
  {
   "cell_type": "code",
   "execution_count": 26,
   "metadata": {},
   "outputs": [
    {
     "data": {
      "text/plain": [
       "array([0, 1, 2, 3, 4, 5, 6, 7, 8])"
      ]
     },
     "execution_count": 26,
     "metadata": {},
     "output_type": "execute_result"
    }
   ],
   "source": [
    "arr_rs = np.arange(9)\n",
    "arr_rs"
   ]
  },
  {
   "cell_type": "code",
   "execution_count": 27,
   "metadata": {},
   "outputs": [
    {
     "data": {
      "text/plain": [
       "1"
      ]
     },
     "execution_count": 27,
     "metadata": {},
     "output_type": "execute_result"
    }
   ],
   "source": [
    "arr_rs.ndim"
   ]
  },
  {
   "cell_type": "code",
   "execution_count": 28,
   "metadata": {},
   "outputs": [
    {
     "name": "stdout",
     "output_type": "stream",
     "text": [
      "[0 1 2 3 4 5 6 7 8] (9,)\n"
     ]
    }
   ],
   "source": [
    "print(arr_rs, arr_rs.shape)"
   ]
  },
  {
   "cell_type": "code",
   "execution_count": 73,
   "metadata": {},
   "outputs": [
    {
     "name": "stdout",
     "output_type": "stream",
     "text": [
      "[0 1 2 3 4 5 6 7 8] (9,)\n",
      "[[0 1 2]\n",
      " [3 4 5]\n",
      " [6 7 8]] (3, 3)\n"
     ]
    }
   ],
   "source": [
    "print(arr_rs, arr_rs.shape)\n",
    "\n",
    "print(arr_rs.reshape((3,3)), arr_rs.reshape(3,3).shape)"
   ]
  },
  {
   "cell_type": "code",
   "execution_count": 78,
   "metadata": {},
   "outputs": [
    {
     "name": "stdout",
     "output_type": "stream",
     "text": [
      "[[0 1 2]\n",
      " [3 4 5]\n",
      " [6 7 8]]\n"
     ]
    },
    {
     "data": {
      "text/plain": [
       "array([0, 1, 2, 3, 4, 5, 6, 7, 8])"
      ]
     },
     "execution_count": 78,
     "metadata": {},
     "output_type": "execute_result"
    }
   ],
   "source": [
    "brr = arr_rs.reshape((3,3))\n",
    "print(brr)\n",
    "brr.reshape((-1))"
   ]
  },
  {
   "cell_type": "code",
   "execution_count": 77,
   "metadata": {},
   "outputs": [
    {
     "name": "stdout",
     "output_type": "stream",
     "text": [
      "[[[1 2]\n",
      "  [3 4]]\n",
      "\n",
      " [[5 6]\n",
      "  [7 8]]]\n"
     ]
    }
   ],
   "source": [
    "arr = np.array([1, 2, 3, 4, 5, 6, 7, 8])\n",
    "\n",
    "newarr = arr.reshape(2, 2, -1)\n",
    "\n",
    "print(newarr)"
   ]
  },
  {
   "cell_type": "markdown",
   "metadata": {},
   "source": [
    "Transponieren mit dem Attribut `T`"
   ]
  },
  {
   "cell_type": "code",
   "execution_count": 14,
   "metadata": {},
   "outputs": [
    {
     "name": "stdout",
     "output_type": "stream",
     "text": [
      "[[1 2 3]] (1, 3)\n",
      "[[1]\n",
      " [2]\n",
      " [3]] (3, 1)\n"
     ]
    }
   ],
   "source": [
    "arr_t = np.array([[1, 2, 3]]) # Achtung, doppelte [] f Dimension (1,3) ansonsten wäre es nur (3,)\n",
    "print(arr_t, arr_t.shape)\n",
    "transponiert = arr_t.T\n",
    "print(transponiert, transponiert.shape)"
   ]
  },
  {
   "cell_type": "markdown",
   "metadata": {},
   "source": [
    "Ohne doppelte `[]` kann die Dimension nicht geändert werden"
   ]
  },
  {
   "cell_type": "code",
   "execution_count": 15,
   "metadata": {},
   "outputs": [
    {
     "name": "stdout",
     "output_type": "stream",
     "text": [
      "[1 2 3] (3,)\n",
      "[1 2 3] (3,)\n"
     ]
    }
   ],
   "source": [
    "arr_t = np.array([1, 2, 3])\n",
    "print(arr_t, arr_t.shape)\n",
    "transponiert = arr_t.T\n",
    "print(transponiert, transponiert.shape)"
   ]
  },
  {
   "cell_type": "markdown",
   "metadata": {},
   "source": [
    "`zeros()` und `ones()` erzeugen Arrays mit lauter 0 oder 1 Werten. Es kann entweder die Anzahl der Elemente eingegeben werden oder die gewünschte Dimension als Tuple:"
   ]
  },
  {
   "cell_type": "code",
   "execution_count": 16,
   "metadata": {},
   "outputs": [
    {
     "data": {
      "text/plain": [
       "array([1., 1., 1., 1., 1., 1., 1., 1., 1., 1.])"
      ]
     },
     "execution_count": 16,
     "metadata": {},
     "output_type": "execute_result"
    }
   ],
   "source": [
    "ones = np.ones(10)\n",
    "ones"
   ]
  },
  {
   "cell_type": "code",
   "execution_count": 43,
   "metadata": {},
   "outputs": [
    {
     "data": {
      "text/plain": [
       "array([[[1., 1., 1., 1.],\n",
       "        [1., 1., 1., 1.],\n",
       "        [1., 1., 1., 1.]],\n",
       "\n",
       "       [[1., 1., 1., 1.],\n",
       "        [1., 1., 1., 1.],\n",
       "        [1., 1., 1., 1.]]])"
      ]
     },
     "execution_count": 43,
     "metadata": {},
     "output_type": "execute_result"
    }
   ],
   "source": [
    "ones1 = np.ones((2,3,4))\n",
    "ones1"
   ]
  },
  {
   "cell_type": "code",
   "execution_count": 31,
   "metadata": {},
   "outputs": [
    {
     "data": {
      "text/plain": [
       "array([[[0., 0., 0., 0., 0., 0.],\n",
       "        [0., 0., 0., 0., 0., 0.],\n",
       "        [0., 0., 0., 0., 0., 0.],\n",
       "        [0., 0., 0., 0., 0., 0.],\n",
       "        [0., 0., 0., 0., 0., 0.]],\n",
       "\n",
       "       [[0., 0., 0., 0., 0., 0.],\n",
       "        [0., 0., 0., 0., 0., 0.],\n",
       "        [0., 0., 0., 0., 0., 0.],\n",
       "        [0., 0., 0., 0., 0., 0.],\n",
       "        [0., 0., 0., 0., 0., 0.]],\n",
       "\n",
       "       [[0., 0., 0., 0., 0., 0.],\n",
       "        [0., 0., 0., 0., 0., 0.],\n",
       "        [0., 0., 0., 0., 0., 0.],\n",
       "        [0., 0., 0., 0., 0., 0.],\n",
       "        [0., 0., 0., 0., 0., 0.]]])"
      ]
     },
     "execution_count": 31,
     "metadata": {},
     "output_type": "execute_result"
    }
   ],
   "source": [
    "zeros=np.zeros((3,5,6))\n",
    "zeros"
   ]
  },
  {
   "cell_type": "code",
   "execution_count": 42,
   "metadata": {},
   "outputs": [
    {
     "data": {
      "text/plain": [
       "array([[0., 0., 0., 0.],\n",
       "       [0., 0., 0., 0.],\n",
       "       [0., 0., 0., 0.]])"
      ]
     },
     "execution_count": 42,
     "metadata": {},
     "output_type": "execute_result"
    }
   ],
   "source": [
    "zeros1 = np.zeros((3,4))\n",
    "zeros1"
   ]
  },
  {
   "cell_type": "code",
   "execution_count": 32,
   "metadata": {},
   "outputs": [
    {
     "data": {
      "text/plain": [
       "3"
      ]
     },
     "execution_count": 32,
     "metadata": {},
     "output_type": "execute_result"
    }
   ],
   "source": [
    "zeros.ndim"
   ]
  },
  {
   "cell_type": "markdown",
   "metadata": {},
   "source": [
    "`eye()` erzeugt die Einheitsmatrix (Diagonale mit 1en, sonst 0en), es werden nur die Anzahl der Zeilen bzw. Spalten angegeben, da die EMattrix immer quadratisch ist."
   ]
  },
  {
   "cell_type": "code",
   "execution_count": 18,
   "metadata": {},
   "outputs": [
    {
     "data": {
      "text/plain": [
       "array([[1., 0., 0., 0., 0., 0., 0., 0., 0., 0.],\n",
       "       [0., 1., 0., 0., 0., 0., 0., 0., 0., 0.],\n",
       "       [0., 0., 1., 0., 0., 0., 0., 0., 0., 0.],\n",
       "       [0., 0., 0., 1., 0., 0., 0., 0., 0., 0.],\n",
       "       [0., 0., 0., 0., 1., 0., 0., 0., 0., 0.],\n",
       "       [0., 0., 0., 0., 0., 1., 0., 0., 0., 0.],\n",
       "       [0., 0., 0., 0., 0., 0., 1., 0., 0., 0.],\n",
       "       [0., 0., 0., 0., 0., 0., 0., 1., 0., 0.],\n",
       "       [0., 0., 0., 0., 0., 0., 0., 0., 1., 0.],\n",
       "       [0., 0., 0., 0., 0., 0., 0., 0., 0., 1.]])"
      ]
     },
     "execution_count": 18,
     "metadata": {},
     "output_type": "execute_result"
    }
   ],
   "source": [
    "arr_eye = np.eye(10)\n",
    "arr_eye"
   ]
  },
  {
   "cell_type": "markdown",
   "metadata": {},
   "source": [
    "`arange()` erzeugt eine Sequenz ähnlich `range()`"
   ]
  },
  {
   "cell_type": "code",
   "execution_count": 33,
   "metadata": {},
   "outputs": [
    {
     "data": {
      "text/plain": [
       "array([0, 1, 2, 3, 4, 5, 6, 7])"
      ]
     },
     "execution_count": 33,
     "metadata": {},
     "output_type": "execute_result"
    }
   ],
   "source": [
    "arr_ar = np.arange(8)\n",
    "arr_ar"
   ]
  },
  {
   "cell_type": "code",
   "execution_count": 36,
   "metadata": {},
   "outputs": [
    {
     "data": {
      "text/plain": [
       "array([1, 3, 5, 7, 9])"
      ]
     },
     "execution_count": 36,
     "metadata": {},
     "output_type": "execute_result"
    }
   ],
   "source": [
    "arr_ar2 = np.arange(1,10,2)\n",
    "arr_ar2"
   ]
  },
  {
   "cell_type": "markdown",
   "metadata": {},
   "source": [
    "`linspace()` erzeugt gleichmäßig verteilte Werte innerhalb eines bestimmten Intervalls"
   ]
  },
  {
   "cell_type": "code",
   "execution_count": 37,
   "metadata": {},
   "outputs": [
    {
     "data": {
      "text/plain": [
       "array([1.        , 1.44444444, 1.88888889, 2.33333333, 2.77777778,\n",
       "       3.22222222, 3.66666667, 4.11111111, 4.55555556, 5.        ])"
      ]
     },
     "execution_count": 37,
     "metadata": {},
     "output_type": "execute_result"
    }
   ],
   "source": [
    "arr_ls = np.linspace(1, 5, num=10)\n",
    "arr_ls"
   ]
  },
  {
   "cell_type": "code",
   "execution_count": 38,
   "metadata": {},
   "outputs": [
    {
     "data": {
      "text/plain": [
       "((10,), 1)"
      ]
     },
     "execution_count": 38,
     "metadata": {},
     "output_type": "execute_result"
    }
   ],
   "source": [
    "arr_ls.shape, arr_ls.ndim"
   ]
  },
  {
   "cell_type": "code",
   "execution_count": 7,
   "metadata": {},
   "outputs": [
    {
     "data": {
      "text/plain": [
       "(array([[[7., 7.],\n",
       "         [7., 7.]],\n",
       " \n",
       "        [[7., 7.],\n",
       "         [7., 7.]]]),\n",
       " 8)"
      ]
     },
     "execution_count": 7,
     "metadata": {},
     "output_type": "execute_result"
    }
   ],
   "source": [
    "konst = np.full((2, 2, 2), 7.)\n",
    "konst, konst.size"
   ]
  },
  {
   "cell_type": "code",
   "execution_count": 5,
   "metadata": {},
   "outputs": [
    {
     "data": {
      "text/plain": [
       "array([[3.47739925e-081, 1.82836797e+184],\n",
       "       [1.59853838e+160, 2.33858757e-052],\n",
       "       [8.45042687e+169, 1.00136897e-307]])"
      ]
     },
     "execution_count": 5,
     "metadata": {},
     "output_type": "execute_result"
    }
   ],
   "source": [
    "empty_arr = np.empty((3,2))\n",
    "empty_arr"
   ]
  },
  {
   "cell_type": "markdown",
   "metadata": {},
   "source": [
    "**Aufgabe** : vergleiche `list` Erzeugung mit `array` Erzeugung siehe `aufgaben_numpy_teil1`"
   ]
  },
  {
   "cell_type": "markdown",
   "metadata": {},
   "source": [
    "### Numpy Datentypen\n",
    "<pre>\n",
    "int8, uint8         i1, u1          Signed and unsigned 8-bit (1 byte) integer types\n",
    "int16, uint16       i2, u2          Signed and unsigned 16-bit integer types\n",
    "int32, uint32       i4, u4          Signed and unsigned 32-bit integer types\n",
    "int64, uint64       i8, u8          Signed and unsigned 64-bit integer types\n",
    "float16             f2              Half-precision oating point\n",
    "float32             f4 or f         Standard single-precision foating point; compatible with C foat\n",
    "float64             f8 or d         Standard double-precision foating point; compatible with C double and Python float object\n",
    "float128            f16 or g        Extended-precision foating point\n",
    "complex64,\n",
    "complex128,\n",
    "complex256          c8, c16, c32    Complex numbers represented by two 32, 64, or 128 foats, respectively\n",
    "bool                ?               Boolean type storing True and False values\n",
    "object              O               Python object type; a value can be any Python object\n",
    "string_             S               Fixed-length ASCII string type (1 byte per character); for example, to create a string dtype with length 10, use 'S10'\n",
    "unicode_            U               Fixed-length Unicode type (number of bytes platform specific); same\n",
    "specification semantics as string_ (e.g., 'U10')\n",
    "<pre>"
   ]
  },
  {
   "cell_type": "markdown",
   "metadata": {},
   "source": [
    "Typkonvertieung"
   ]
  },
  {
   "cell_type": "code",
   "execution_count": 21,
   "metadata": {},
   "outputs": [
    {
     "name": "stdout",
     "output_type": "stream",
     "text": [
      "int32\n",
      "[1 2 3 4 5]\n",
      "float64\n",
      "[1. 2. 3. 4. 5.]\n"
     ]
    }
   ],
   "source": [
    "arr = np.array([1, 2, 3, 4, 5])\n",
    "print(arr.dtype)\n",
    "print(arr)\n",
    "float_arr = arr.astype(np.float64)\n",
    "print(float_arr.dtype)\n",
    "print(float_arr)\n"
   ]
  },
  {
   "cell_type": "markdown",
   "metadata": {},
   "source": [
    "Wenn `float`s in `int`s umgewandelt werden, dann verschwindet der Nachkommanteil:"
   ]
  },
  {
   "cell_type": "code",
   "execution_count": 22,
   "metadata": {},
   "outputs": [
    {
     "name": "stdout",
     "output_type": "stream",
     "text": [
      "[ 3.7 -1.2 -2.6  0.5 12.9 10.1]\n",
      "[ 3 -1 -2  0 12 10]\n"
     ]
    }
   ],
   "source": [
    "arr = np.array([3.7, -1.2, -2.6, 0.5, 12.9, 10.1])\n",
    "print(arr)\n",
    "print(arr.astype(np.int32))"
   ]
  },
  {
   "cell_type": "markdown",
   "metadata": {},
   "source": [
    "Strings können auch in Zahlen konvertiert werden, wenn es möglich ist"
   ]
  },
  {
   "cell_type": "code",
   "execution_count": 23,
   "metadata": {},
   "outputs": [
    {
     "name": "stdout",
     "output_type": "stream",
     "text": [
      "[ 1.25 -9.6  42.  ]\n"
     ]
    }
   ],
   "source": [
    "numeric_strings = np.array(['1.25', '-9.6', '42'])\n",
    "print(numeric_strings.astype(float))"
   ]
  },
  {
   "cell_type": "markdown",
   "metadata": {},
   "source": [
    "### Arithmetische Operatioen"
   ]
  },
  {
   "cell_type": "markdown",
   "metadata": {},
   "source": [
    "Arrays sind wichtig, weil sie es uns ermöglichen, Batch-Operationen mit Daten durchzuführen\n",
    "ohne irgendwelche for-Schleifen zu schreiben. Dies wird als **Vektorisierung** bezeichnet. Jede arithmetische\n",
    "Operationen zwischen Arrays gleicher Größe werden elementweise durchgeführt:"
   ]
  },
  {
   "cell_type": "code",
   "execution_count": 55,
   "metadata": {},
   "outputs": [
    {
     "name": "stdout",
     "output_type": "stream",
     "text": [
      "Orginal: \n",
      " [[1. 2. 3.]\n",
      " [4. 5. 6.]]\n",
      "Quadriert: \n",
      " [[ 1.  4.  9.]\n",
      " [16. 25. 36.]]\n",
      "\n",
      "Orginal: \n",
      " [[1. 2. 3.]\n",
      " [4. 5. 6.]]\n",
      "Subtrahiert: \n",
      " [[0. 0. 0.]\n",
      " [0. 0. 0.]]\n"
     ]
    }
   ],
   "source": [
    "arr = np.array([[1., 2., 3.], [4., 5., 6.]])\n",
    "print(\"Orginal:\",'\\n', arr)\n",
    "print(\"Quadriert:\",'\\n', arr * arr)\n",
    "print()\n",
    "print(\"Orginal:\",'\\n', arr)\n",
    "print(\"Subtrahiert:\",'\\n', arr - arr)"
   ]
  },
  {
   "cell_type": "markdown",
   "metadata": {},
   "source": [
    "Operationen mit Skalaren (einzelnen Werten) werden auf jedes Element dew Arrays angewendet:"
   ]
  },
  {
   "cell_type": "code",
   "execution_count": 25,
   "metadata": {},
   "outputs": [
    {
     "name": "stdout",
     "output_type": "stream",
     "text": [
      "[[1.         0.5        0.33333333]\n",
      " [0.25       0.2        0.16666667]]\n",
      "[[100. 101. 102.]\n",
      " [103. 104. 105.]]\n"
     ]
    }
   ],
   "source": [
    "print(1 / arr)\n",
    "print(arr + 99)"
   ]
  },
  {
   "cell_type": "markdown",
   "metadata": {},
   "source": [
    "Vergleiche zwischen Arrays liefern einen Array gleicher Dimension mit `bool` Werten:"
   ]
  },
  {
   "cell_type": "code",
   "execution_count": 56,
   "metadata": {},
   "outputs": [
    {
     "name": "stdout",
     "output_type": "stream",
     "text": [
      "[[False  True False]\n",
      " [ True False  True]]\n"
     ]
    }
   ],
   "source": [
    "arr2 = np.array([[0., 4., 1.], [7., 2., 12.]])\n",
    "print(arr2 > arr)\n"
   ]
  },
  {
   "cell_type": "markdown",
   "metadata": {},
   "source": [
    "### Indizierung und Slicing\n",
    "Eindimensionale Arrays verhalten sich wie Python Listen:"
   ]
  },
  {
   "cell_type": "code",
   "execution_count": 57,
   "metadata": {},
   "outputs": [
    {
     "name": "stdout",
     "output_type": "stream",
     "text": [
      "1\n",
      "[2 3]\n"
     ]
    }
   ],
   "source": [
    "arr = np.array([1, 2, 3, 4])\n",
    "print(arr[0])\n",
    "print(arr[1:3])"
   ]
  },
  {
   "cell_type": "markdown",
   "metadata": {},
   "source": [
    "**Broadcasting** (siehe unten), wird auf alle Elemente angewandt"
   ]
  },
  {
   "cell_type": "code",
   "execution_count": 28,
   "metadata": {},
   "outputs": [
    {
     "data": {
      "text/plain": [
       "array([42, 42, 42, 42])"
      ]
     },
     "execution_count": 28,
     "metadata": {},
     "output_type": "execute_result"
    }
   ],
   "source": [
    "arr[:] = 42\n",
    "arr"
   ]
  },
  {
   "cell_type": "markdown",
   "metadata": {},
   "source": [
    "Achtung, Array Slices sind **views** und keine Kopien !"
   ]
  },
  {
   "cell_type": "code",
   "execution_count": 29,
   "metadata": {},
   "outputs": [
    {
     "data": {
      "text/plain": [
       "array([1234567,      42,      42,      42])"
      ]
     },
     "execution_count": 29,
     "metadata": {},
     "output_type": "execute_result"
    }
   ],
   "source": [
    "new_arr = arr[:]\n",
    "new_arr[0] = 1234567\n",
    "arr"
   ]
  },
  {
   "cell_type": "markdown",
   "metadata": {},
   "source": [
    "Verwende `copy()` um den Array zu kopieren"
   ]
  },
  {
   "cell_type": "code",
   "execution_count": 30,
   "metadata": {},
   "outputs": [
    {
     "name": "stdout",
     "output_type": "stream",
     "text": [
      "[ 0 42 42 42] [1234567      42      42      42]\n"
     ]
    }
   ],
   "source": [
    "new_arr = arr.copy()\n",
    "new_arr[0] = 0\n",
    "print(new_arr, arr)"
   ]
  },
  {
   "cell_type": "markdown",
   "metadata": {},
   "source": [
    "Bei merdimensionalen Arrays sind die einfachen Indices keine Skalare, sondern ebenfalls Arrays."
   ]
  },
  {
   "cell_type": "code",
   "execution_count": 31,
   "metadata": {},
   "outputs": [
    {
     "data": {
      "text/plain": [
       "array([7, 8, 9])"
      ]
     },
     "execution_count": 31,
     "metadata": {},
     "output_type": "execute_result"
    }
   ],
   "source": [
    "arr2d = np.array([[1, 2, 3], [4, 5, 6], [7, 8, 9]])\n",
    "arr2d[2]"
   ]
  },
  {
   "cell_type": "markdown",
   "metadata": {},
   "source": [
    "Der 1.Index steht bei 2 Dimensionen für die Zeile, der 2. für die Spalte:"
   ]
  },
  {
   "cell_type": "code",
   "execution_count": 32,
   "metadata": {},
   "outputs": [
    {
     "name": "stdout",
     "output_type": "stream",
     "text": [
      "6\n",
      "8\n"
     ]
    }
   ],
   "source": [
    "print(arr2d[1, 2])\n",
    "print(arr2d[2, 1])"
   ]
  },
  {
   "attachments": {
    "image.png": {
     "image/png": "[encoded data removed]"
    }
   },
   "cell_type": "markdown",
   "metadata": {},
   "source": [
    "#### Multidimensionales Slicing\n",
    "![image.png](attachment:image.png)"
   ]
  },
  {
   "cell_type": "code",
   "execution_count": 84,
   "metadata": {},
   "outputs": [
    {
     "name": "stdout",
     "output_type": "stream",
     "text": [
      "Komplett: \n",
      " [[1 2 3]\n",
      " [4 5 6]\n",
      " [7 8 9]] (3, 3)\n",
      "------------------------------\n",
      "[:2, 1:]: \n",
      " [[2 3]\n",
      " [5 6]] (2, 2)\n",
      "------------------------------\n",
      "[2]: \n",
      " [7 8 9] (3,)\n",
      "------------------------------\n",
      "[[2]]: \n",
      " [[7 8 9]] (1, 3)\n",
      "------------------------------\n",
      "[2, :]: \n",
      " [7 8 9] (3,)\n",
      "------------------------------\n",
      "[2:, :]: \n",
      " [[7 8 9]] (1, 3)\n",
      "------------------------------\n",
      "[:, :2]: \n",
      " [[1 2]\n",
      " [4 5]\n",
      " [7 8]] (3, 2)\n",
      "------------------------------\n",
      "[1, :2]: \n",
      " [4 5] (2,)\n",
      "------------------------------\n",
      "[1:2, :2]: \n",
      " [[4 5]] (1, 2)\n"
     ]
    }
   ],
   "source": [
    "arr_ms = np.array([[1, 2, 3], [4, 5, 6],[7, 8, 9]])\n",
    "end_f = \"\\n\"+\"-\"*30+\"\\n\"\n",
    "print(\"Komplett:\", '\\n',arr_ms, arr_ms.shape, end=end_f)\n",
    "print(\"[:2, 1:]:\", '\\n',arr_ms[:2, 1:], arr_ms[:2, 1:].shape, end=end_f)\n",
    "print(\"[2]:\", '\\n',arr_ms[2], arr_ms[2].shape, end=end_f)\n",
    "print(\"[[2]]:\", '\\n',arr_ms[[2]], arr_ms[[2]].shape, end=end_f)\n",
    "print(\"[2, :]:\", '\\n',arr_ms[2, :], arr_ms[2, :].shape, end=end_f)\n",
    "print(\"[2:, :]:\", '\\n',arr_ms[2:, :], arr_ms[2:, :].shape, end=end_f)\n",
    "print(\"[:, :2]:\", '\\n',arr_ms[:, :2], arr_ms[:, :2].shape, end=end_f)\n",
    "print(\"[1, :2]:\", '\\n',arr_ms[1, :2], arr_ms[1, :2].shape, end=end_f)\n",
    "print(\"[1:2, :2]:\", '\\n',arr_ms[1:2, :2], arr_ms[1:2, :2].shape)"
   ]
  },
  {
   "cell_type": "markdown",
   "metadata": {},
   "source": [
    "Beachte die beiden letzten Zeilen und vergleiche den Unterschied der Dimensionen."
   ]
  },
  {
   "cell_type": "markdown",
   "metadata": {},
   "source": [
    "#### Boolsches Indizieren"
   ]
  },
  {
   "cell_type": "code",
   "execution_count": 63,
   "metadata": {},
   "outputs": [
    {
     "data": {
      "text/plain": [
       "array([ True, False, False,  True, False, False, False])"
      ]
     },
     "execution_count": 63,
     "metadata": {},
     "output_type": "execute_result"
    }
   ],
   "source": [
    "names = np.array([\"Bob\", \"Joe\", \"Will\", \"Bob\", \"Will\", \"Joe\", \"Joe\"])\n",
    "names == \"Bob\""
   ]
  },
  {
   "cell_type": "markdown",
   "metadata": {},
   "source": [
    "Mit dieser Rückgabe können Element aus einem Array ausgewählt werden, vorausgesetzt die Dimensionen stimmen überein:"
   ]
  },
  {
   "cell_type": "code",
   "execution_count": 65,
   "metadata": {},
   "outputs": [
    {
     "name": "stdout",
     "output_type": "stream",
     "text": [
      "[[ 1  2  3]\n",
      " [ 4  5  6]\n",
      " [ 7  8  9]\n",
      " [10 11 12]\n",
      " [13 14 15]\n",
      " [16 17 18]\n",
      " [19 20 21]]\n"
     ]
    },
    {
     "data": {
      "text/plain": [
       "array([[ 1,  2,  3],\n",
       "       [10, 11, 12]])"
      ]
     },
     "execution_count": 65,
     "metadata": {},
     "output_type": "execute_result"
    }
   ],
   "source": [
    "# Zeilen filtern\n",
    "dat1 = np.arange(1,22).reshape((7,3))\n",
    "print(dat1)\n",
    "dat1[names == \"Bob\"] # 1. und 4.Zeilen werden ausgeben"
   ]
  },
  {
   "cell_type": "code",
   "execution_count": 36,
   "metadata": {},
   "outputs": [
    {
     "data": {
      "text/plain": [
       "array([[1, 4]])"
      ]
     },
     "execution_count": 36,
     "metadata": {},
     "output_type": "execute_result"
    }
   ],
   "source": [
    "# Spalten filtern\n",
    "dat2 = np.arange(1, 8).reshape((1, 7))\n",
    "#dat2[names == \"Bob\"] Fehler, falsche Achse\n",
    "dat2[:, names == \"Bob\"]\n"
   ]
  },
  {
   "cell_type": "markdown",
   "metadata": {},
   "source": [
    "Negation"
   ]
  },
  {
   "cell_type": "code",
   "execution_count": 37,
   "metadata": {},
   "outputs": [
    {
     "data": {
      "text/plain": [
       "array([False,  True,  True, False,  True,  True,  True])"
      ]
     },
     "execution_count": 37,
     "metadata": {},
     "output_type": "execute_result"
    }
   ],
   "source": [
    "names != \"Bob\""
   ]
  },
  {
   "cell_type": "code",
   "execution_count": 38,
   "metadata": {},
   "outputs": [
    {
     "data": {
      "text/plain": [
       "array([False,  True,  True, False,  True,  True,  True])"
      ]
     },
     "execution_count": 38,
     "metadata": {},
     "output_type": "execute_result"
    }
   ],
   "source": [
    "~(names == \"Bob\")"
   ]
  },
  {
   "cell_type": "markdown",
   "metadata": {},
   "source": [
    "`and`, `or` und `not` funktionieren hier nicht, wir benutzen stattdessen `&`, `|` und `~`.<br>\n",
    "Dies wollen geklammert werden."
   ]
  },
  {
   "cell_type": "code",
   "execution_count": 39,
   "metadata": {},
   "outputs": [
    {
     "data": {
      "text/plain": [
       "array([[ 1,  2,  3],\n",
       "       [ 7,  8,  9],\n",
       "       [10, 11, 12],\n",
       "       [13, 14, 15]])"
      ]
     },
     "execution_count": 39,
     "metadata": {},
     "output_type": "execute_result"
    }
   ],
   "source": [
    "mask = (names == \"Bob\") | (names == \"Will\")\n",
    "dat1[mask]"
   ]
  },
  {
   "cell_type": "markdown",
   "metadata": {},
   "source": [
    "Alle Zeilen auf 7 setzten falls  `names == Joe`"
   ]
  },
  {
   "cell_type": "code",
   "execution_count": 40,
   "metadata": {},
   "outputs": [
    {
     "data": {
      "text/plain": [
       "array([[ 1,  2,  3],\n",
       "       [ 7,  7,  7],\n",
       "       [ 7,  8,  9],\n",
       "       [10, 11, 12],\n",
       "       [13, 14, 15],\n",
       "       [ 7,  7,  7],\n",
       "       [ 7,  7,  7]])"
      ]
     },
     "execution_count": 40,
     "metadata": {},
     "output_type": "execute_result"
    }
   ],
   "source": [
    "mask = names == \"Joe\"\n",
    "dat1[mask] = 7\n",
    "dat1"
   ]
  },
  {
   "cell_type": "markdown",
   "metadata": {},
   "source": [
    "#### Fancy Indexing"
   ]
  },
  {
   "cell_type": "code",
   "execution_count": 64,
   "metadata": {},
   "outputs": [
    {
     "data": {
      "text/plain": [
       "array([[0, 0, 0, 0],\n",
       "       [1, 1, 1, 1],\n",
       "       [2, 2, 2, 2],\n",
       "       [3, 3, 3, 3],\n",
       "       [4, 4, 4, 4],\n",
       "       [5, 5, 5, 5],\n",
       "       [6, 6, 6, 6],\n",
       "       [7, 7, 7, 7]])"
      ]
     },
     "execution_count": 64,
     "metadata": {},
     "output_type": "execute_result"
    }
   ],
   "source": [
    "arr_fancy = np.array(list([i for _ in range(4)] for i in range(8)))\n",
    "arr_fancy"
   ]
  },
  {
   "cell_type": "markdown",
   "metadata": {},
   "source": [
    "Bestimmte Zeilen mittels **fancy** Indexing auswählen"
   ]
  },
  {
   "cell_type": "code",
   "execution_count": 42,
   "metadata": {},
   "outputs": [
    {
     "data": {
      "text/plain": [
       "array([[0, 0, 0, 0],\n",
       "       [2, 2, 2, 2],\n",
       "       [4, 4, 4, 4]])"
      ]
     },
     "execution_count": 42,
     "metadata": {},
     "output_type": "execute_result"
    }
   ],
   "source": [
    "arr_fancy[[0,2 , 4]]"
   ]
  },
  {
   "cell_type": "markdown",
   "metadata": {},
   "source": [
    "Negative Indices zählen von hinten"
   ]
  },
  {
   "cell_type": "code",
   "execution_count": 43,
   "metadata": {},
   "outputs": [
    {
     "data": {
      "text/plain": [
       "array([[7, 7, 7, 7],\n",
       "       [4, 4, 4, 4],\n",
       "       [0, 0, 0, 0]])"
      ]
     },
     "execution_count": 43,
     "metadata": {},
     "output_type": "execute_result"
    }
   ],
   "source": [
    "arr_fancy[[-1, -4 , -8]]"
   ]
  },
  {
   "cell_type": "markdown",
   "metadata": {},
   "source": [
    "Hier werden die Elemente (1, 0), (5, 3), (7, 1) und (2, 2) ausgewählt. Ergebnis ist in diesem Fall eindimensional:"
   ]
  },
  {
   "cell_type": "code",
   "execution_count": 68,
   "metadata": {},
   "outputs": [
    {
     "name": "stdout",
     "output_type": "stream",
     "text": [
      "[[ 0  1  2  3]\n",
      " [ 4  5  6  7]\n",
      " [ 8  9 10 11]\n",
      " [12 13 14 15]\n",
      " [16 17 18 19]\n",
      " [20 21 22 23]\n",
      " [24 25 26 27]\n",
      " [28 29 30 31]]\n"
     ]
    },
    {
     "data": {
      "text/plain": [
       "array([ 4, 23, 29, 10])"
      ]
     },
     "execution_count": 68,
     "metadata": {},
     "output_type": "execute_result"
    }
   ],
   "source": [
    "arr_f2 = np.arange(32).reshape((8, 4))\n",
    "print(arr_f2)\n",
    "arr_f2[[1, 5, 7, 2],[0, 3, 1, 2]] #(1z,0s) (5z,3s) (7z,1s) (2z,2s)"
   ]
  },
  {
   "cell_type": "markdown",
   "metadata": {},
   "source": [
    "Hier wählen wir zuerst die Zeilen aus und verändern dann die Reihenfolge der Spalten:"
   ]
  },
  {
   "cell_type": "code",
   "execution_count": 69,
   "metadata": {},
   "outputs": [
    {
     "data": {
      "text/plain": [
       "array([[ 4,  7,  5,  6],\n",
       "       [16, 19, 17, 18]])"
      ]
     },
     "execution_count": 69,
     "metadata": {},
     "output_type": "execute_result"
    }
   ],
   "source": [
    "arr_f2[[1, 4]][:, [0, 3, 1, 2]]"
   ]
  },
  {
   "cell_type": "markdown",
   "metadata": {},
   "source": [
    "**fancy** Indexing erzeugt im Gegensatz zum Slicing immer eine Kopie der Daten:"
   ]
  },
  {
   "cell_type": "code",
   "execution_count": 70,
   "metadata": {},
   "outputs": [
    {
     "name": "stdout",
     "output_type": "stream",
     "text": [
      "[[ 8 11  9 10]\n",
      " [16 19 17 18]]\n",
      "[[ 0 11  9 10]\n",
      " [ 0 19 17 18]]\n",
      "[[ 0  1  2  3]\n",
      " [ 4  5  6  7]\n",
      " [ 8  9 10 11]\n",
      " [12 13 14 15]\n",
      " [16 17 18 19]\n",
      " [20 21 22 23]\n",
      " [24 25 26 27]\n",
      " [28 29 30 31]]\n"
     ]
    }
   ],
   "source": [
    "neu = arr_f2[[2, 4]][:, [0, 3, 1, 2]]\n",
    "print(neu)\n",
    "neu[:,0] = 0\n",
    "print(neu)\n",
    "print(arr_f2)"
   ]
  },
  {
   "cell_type": "markdown",
   "metadata": {},
   "source": [
    "### Broadcasting\n",
    "Broadcasting in NumPy ist eine leistungsstarke Methode, die es ermöglicht, Operationen auf Arrays mit unterschiedlichen Formen (shapes) durchzuführen, ohne explizit ihre Dimensionen anzupassen. Dies führt zu effizientem und kompaktem Code.\n",
    "<br>\n",
    "Normalerweise müssen Arrays in NumPy die gleiche Form haben, um Operationen wie Addition oder Multiplikation miteinander durchführen zu können. Broadcasting erweitert kleinere Arrays automatisch entlang ihrer fehlenden Dimensionen, um sie an größere Arrays anzupassen, ohne tatsächlich zusätzlichen Speicher zu benötigen.\n",
    "<br>\n",
    "#### Regeln für Broadcasting:\n",
    "**Regel 1**: Wenn sich die Dimensionen der beiden Arrays unterscheiden, wird die kleinere Dimension mit 1 ergänzt.\n",
    "\n",
    "Beispiel: Ein Array der Form (5, 3) und eines der Form (3) → Das kleinere Array wird zu (1, 3)."
   ]
  },
  {
   "cell_type": "code",
   "execution_count": 47,
   "metadata": {},
   "outputs": [
    {
     "data": {
      "text/plain": [
       "(array([[ 0,  1,  2],\n",
       "        [ 3,  4,  5],\n",
       "        [ 6,  7,  8],\n",
       "        [ 9, 10, 11],\n",
       "        [12, 13, 14]]),\n",
       " (5, 3))"
      ]
     },
     "execution_count": 47,
     "metadata": {},
     "output_type": "execute_result"
    }
   ],
   "source": [
    "arr_b1 = np.arange(15).reshape((5,3))\n",
    "arr_b1, arr_b1.shape"
   ]
  },
  {
   "cell_type": "code",
   "execution_count": 48,
   "metadata": {},
   "outputs": [
    {
     "data": {
      "text/plain": [
       "(array([  99,  999, 9999]), (3,))"
      ]
     },
     "execution_count": 48,
     "metadata": {},
     "output_type": "execute_result"
    }
   ],
   "source": [
    "arr_b2 = np.array([99, 999, 9999])\n",
    "arr_b2, arr_b2.shape"
   ]
  },
  {
   "cell_type": "code",
   "execution_count": 49,
   "metadata": {},
   "outputs": [
    {
     "data": {
      "text/plain": [
       "(array([[  99,  999, 9999]]), (1, 3))"
      ]
     },
     "execution_count": 49,
     "metadata": {},
     "output_type": "execute_result"
    }
   ],
   "source": [
    "arr2_b2_reshaped = arr_b2.reshape((1,3))\n",
    "arr2_b2_reshaped, arr2_b2_reshaped.shape"
   ]
  },
  {
   "cell_type": "code",
   "execution_count": 50,
   "metadata": {},
   "outputs": [
    {
     "data": {
      "text/plain": [
       "(array([[   99,  1000, 10001],\n",
       "        [  102,  1003, 10004],\n",
       "        [  105,  1006, 10007],\n",
       "        [  108,  1009, 10010],\n",
       "        [  111,  1012, 10013]]),\n",
       " (5, 3))"
      ]
     },
     "execution_count": 50,
     "metadata": {},
     "output_type": "execute_result"
    }
   ],
   "source": [
    "res1 = arr_b1 + arr_b2\n",
    "res1, res1.shape"
   ]
  },
  {
   "cell_type": "code",
   "execution_count": 51,
   "metadata": {},
   "outputs": [
    {
     "data": {
      "text/plain": [
       "(array([[   99,  1000, 10001],\n",
       "        [  102,  1003, 10004],\n",
       "        [  105,  1006, 10007],\n",
       "        [  108,  1009, 10010],\n",
       "        [  111,  1012, 10013]]),\n",
       " (5, 3))"
      ]
     },
     "execution_count": 51,
     "metadata": {},
     "output_type": "execute_result"
    }
   ],
   "source": [
    "res2 = arr_b1 + arr2_b2_reshaped\n",
    "res2, res2.shape"
   ]
  },
  {
   "cell_type": "code",
   "execution_count": 85,
   "metadata": {},
   "outputs": [
    {
     "name": "stdout",
     "output_type": "stream",
     "text": [
      "[[ 0  1  2]\n",
      " [ 3  4  5]\n",
      " [ 6  7  8]\n",
      " [ 9 10 11]\n",
      " [12 13 14]]\n",
      "[[0 1 2]]\n",
      "[[ 0  2  4]\n",
      " [ 3  5  7]\n",
      " [ 6  8 10]\n",
      " [ 9 11 13]\n",
      " [12 14 16]]\n"
     ]
    }
   ],
   "source": [
    "arr_c1 = np.arange(15).reshape((5,3))\n",
    "arr_c2 = np.arange(3).reshape((1,3))\n",
    "print(arr_c1)\n",
    "print(arr_c2)\n",
    "res2 = arr_c1 + arr_c2\n",
    "print(res2)"
   ]
  },
  {
   "cell_type": "markdown",
   "metadata": {},
   "source": [
    "**Regel 2**: Wenn die Größe in einer Dimension eines Arrays 1 ist, kann sie in dieser Dimension an die Größe des anderen Arrays angepasst werden.\n",
    "\n",
    "Beispiel: Ein Array der Form (5, 3) und eines der Form (5, 1) → Die Dimension mit 1 wird auf 3 erweitert."
   ]
  },
  {
   "cell_type": "code",
   "execution_count": 52,
   "metadata": {},
   "outputs": [
    {
     "data": {
      "text/plain": [
       "array([[1],\n",
       "       [2],\n",
       "       [3],\n",
       "       [4],\n",
       "       [5]])"
      ]
     },
     "execution_count": 52,
     "metadata": {},
     "output_type": "execute_result"
    }
   ],
   "source": [
    "arr_b3 = np.arange(1,6).reshape((5,1))\n",
    "arr_b3"
   ]
  },
  {
   "cell_type": "code",
   "execution_count": 53,
   "metadata": {},
   "outputs": [
    {
     "data": {
      "text/plain": [
       "(array([[ 1,  2,  3],\n",
       "        [ 5,  6,  7],\n",
       "        [ 9, 10, 11],\n",
       "        [13, 14, 15],\n",
       "        [17, 18, 19]]),\n",
       " (5, 3))"
      ]
     },
     "execution_count": 53,
     "metadata": {},
     "output_type": "execute_result"
    }
   ],
   "source": [
    "res3 = arr_b1 + arr_b3\n",
    "res3, res3.shape"
   ]
  },
  {
   "cell_type": "markdown",
   "metadata": {},
   "source": [
    "**Regel 3**: Die Arrays müssen in allen Dimensionen entweder die gleiche Größe haben oder eine der Größen muss 1 sein.\n",
    "\n",
    "Wenn diese Bedingung nicht erfüllt ist, gibt NumPy einen Fehler aus."
   ]
  },
  {
   "cell_type": "code",
   "execution_count": 54,
   "metadata": {},
   "outputs": [
    {
     "data": {
      "text/plain": [
       "(array([[11, 22],\n",
       "        [11, 22],\n",
       "        [11, 22],\n",
       "        [11, 22],\n",
       "        [11, 22]]),\n",
       " (5, 2))"
      ]
     },
     "execution_count": 54,
     "metadata": {},
     "output_type": "execute_result"
    }
   ],
   "source": [
    "arr_b4 = np.array([[11, 22]] * 5)\n",
    "# arr_b1 + arr_b4 Fehler !!!\n",
    "arr_b4, arr_b4.shape"
   ]
  },
  {
   "cell_type": "code",
   "execution_count": 79,
   "metadata": {},
   "outputs": [
    {
     "name": "stdout",
     "output_type": "stream",
     "text": [
      "1\n",
      "2\n",
      "3\n",
      "4\n",
      "5\n",
      "6\n",
      "7\n",
      "8\n"
     ]
    }
   ],
   "source": [
    "arr = np.array([[[1, 2], [3, 4]], [[5, 6], [7, 8]]])\n",
    "\n",
    "for x in np.nditer(arr):\n",
    "  print(x)"
   ]
  },
  {
   "cell_type": "code",
   "execution_count": 80,
   "metadata": {},
   "outputs": [
    {
     "name": "stdout",
     "output_type": "stream",
     "text": [
      "np.bytes_(b'1')\n",
      "np.bytes_(b'2')\n",
      "np.bytes_(b'3')\n"
     ]
    }
   ],
   "source": [
    "arr = np.array([1, 2, 3])\n",
    "\n",
    "for x in np.nditer(arr, flags=['buffered'], op_dtypes=['S']):\n",
    "  print(x)"
   ]
  },
  {
   "cell_type": "markdown",
   "metadata": {},
   "source": [
    "Iterate through every scalar element of the 2D array skipping 1 element:"
   ]
  },
  {
   "cell_type": "code",
   "execution_count": 81,
   "metadata": {},
   "outputs": [
    {
     "name": "stdout",
     "output_type": "stream",
     "text": [
      "1\n",
      "3\n",
      "5\n",
      "7\n"
     ]
    }
   ],
   "source": [
    "arr = np.array([[1, 2, 3, 4], [5, 6, 7, 8]])\n",
    "\n",
    "for x in np.nditer(arr[:, ::2]):\n",
    "  print(x)"
   ]
  },
  {
   "cell_type": "markdown",
   "metadata": {},
   "source": [
    "Enumerated Iteration Using ndenumerate()\n",
    "\n",
    "\n",
    "Enumeration means mentioning sequence number of somethings one by one.\n",
    "\n",
    "Sometimes we require corresponding index of the element while iterating, the ndenumerate() method can be used for those usecases."
   ]
  },
  {
   "cell_type": "code",
   "execution_count": 82,
   "metadata": {},
   "outputs": [
    {
     "name": "stdout",
     "output_type": "stream",
     "text": [
      "(0,) 1\n",
      "(1,) 2\n",
      "(2,) 3\n"
     ]
    }
   ],
   "source": [
    "arr = np.array([1, 2, 3])\n",
    "\n",
    "for idx, x in np.ndenumerate(arr):\n",
    "  print(idx, x)"
   ]
  },
  {
   "cell_type": "code",
   "execution_count": 83,
   "metadata": {},
   "outputs": [
    {
     "name": "stdout",
     "output_type": "stream",
     "text": [
      "(0, 0) 1\n",
      "(0, 1) 2\n",
      "(0, 2) 3\n",
      "(0, 3) 4\n",
      "(1, 0) 5\n",
      "(1, 1) 6\n",
      "(1, 2) 7\n",
      "(1, 3) 8\n"
     ]
    }
   ],
   "source": [
    "arr = np.array([[1, 2, 3, 4], [5, 6, 7, 8]])\n",
    "\n",
    "for idx, x in np.ndenumerate(arr):\n",
    "  print(idx, x)"
   ]
  }
 ],
 "metadata": {
  "kernelspec": {
   "display_name": ".my_venv",
   "language": "python",
   "name": "python3"
  },
  "language_info": {
   "codemirror_mode": {
    "name": "ipython",
    "version": 3
   },
   "file_extension": ".py",
   "mimetype": "text/x-python",
   "name": "python",
   "nbconvert_exporter": "python",
   "pygments_lexer": "ipython3",
   "version": "3.12.6"
  }
 },
 "nbformat": 4,
 "nbformat_minor": 2
}
