{
 "cells": [
  {
   "cell_type": "markdown",
   "metadata": {},
   "source": [
    "# Numpy Teil 2"
   ]
  },
  {
   "cell_type": "code",
   "execution_count": 1,
   "metadata": {},
   "outputs": [],
   "source": [
    "import numpy as np"
   ]
  },
  {
   "cell_type": "markdown",
   "metadata": {},
   "source": [
    "### Zufallszahlen erzeugen"
   ]
  },
  {
   "cell_type": "markdown",
   "metadata": {},
   "source": [
    "`seed()` \n",
    "setzt den Startwert des Zufallszahlengenerators."
   ]
  },
  {
   "cell_type": "code",
   "execution_count": 2,
   "metadata": {},
   "outputs": [],
   "source": [
    "np.random.seed(42)"
   ]
  },
  {
   "cell_type": "markdown",
   "metadata": {},
   "source": [
    "`random()` zieht Zufallszahlen aus einer gleichverteilten Verteilung im Intervall [0, 1). Mit `size` kann die Anzahl der Werte angegeben werden oder die Dimension:"
   ]
  },
  {
   "cell_type": "code",
   "execution_count": 3,
   "metadata": {},
   "outputs": [
    {
     "name": "stdout",
     "output_type": "stream",
     "text": [
      "0.3745401188473625\n",
      "[0.95071431 0.73199394 0.59865848 0.15601864 0.15599452]\n",
      "[[0.05808361 0.86617615 0.60111501]\n",
      " [0.70807258 0.02058449 0.96990985]\n",
      " [0.83244264 0.21233911 0.18182497]]\n"
     ]
    }
   ],
   "source": [
    "print(np.random.random())\n",
    "print(np.random.random(size=5))\n",
    "print(np.random.random(size=(3,3)))"
   ]
  },
  {
   "cell_type": "markdown",
   "metadata": {},
   "source": [
    "`randint()`\n",
    "zieht zufällige Ganzzahlen aus einem gegebenen Intervall"
   ]
  },
  {
   "cell_type": "code",
   "execution_count": 12,
   "metadata": {},
   "outputs": [
    {
     "data": {
      "text/plain": [
       "array([9, 1, 9, 7, 9], dtype=int32)"
      ]
     },
     "execution_count": 12,
     "metadata": {},
     "output_type": "execute_result"
    }
   ],
   "source": [
    "np.random.randint(1, 10, 5)  # 5 Ganzzahlen zwischen 1 und 10"
   ]
  },
  {
   "cell_type": "code",
   "execution_count": 14,
   "metadata": {},
   "outputs": [
    {
     "data": {
      "text/plain": [
       "array([[52, 93, 15],\n",
       "       [72, 61, 21],\n",
       "       [83, 87, 75]], dtype=int32)"
      ]
     },
     "execution_count": 14,
     "metadata": {},
     "output_type": "execute_result"
    }
   ],
   "source": [
    "np.random.randint(1, 100, size=(3,3)) # Mit ANgabe der Array Dimensionen"
   ]
  },
  {
   "cell_type": "markdown",
   "metadata": {},
   "source": [
    "`choice()` zieht zufällig Werte aus einer gegebenen Liste oder Array."
   ]
  },
  {
   "cell_type": "code",
   "execution_count": 15,
   "metadata": {},
   "outputs": [
    {
     "data": {
      "text/plain": [
       "array([7, 6, 1])"
      ]
     },
     "execution_count": 15,
     "metadata": {},
     "output_type": "execute_result"
    }
   ],
   "source": [
    "np.random.choice([1, 2, 3, 4, 5, 6, 7, 8], size=3, replace=False) # 3 Werte aus der Liste, ohne Wiederholung wenn replace=False"
   ]
  },
  {
   "cell_type": "markdown",
   "metadata": {},
   "source": [
    "`permutation()` liefert eine zufällige Permutation einer Sequenz"
   ]
  },
  {
   "cell_type": "code",
   "execution_count": 16,
   "metadata": {},
   "outputs": [
    {
     "data": {
      "text/plain": [
       "array([1, 3, 2, 4])"
      ]
     },
     "execution_count": 16,
     "metadata": {},
     "output_type": "execute_result"
    }
   ],
   "source": [
    "np.random.permutation([1, 2, 3, 4])"
   ]
  },
  {
   "cell_type": "code",
   "execution_count": 1,
   "metadata": {},
   "outputs": [
    {
     "name": "stdout",
     "output_type": "stream",
     "text": [
      "[[ 0  1  2  3  4]\n",
      " [ 5  6  7  8  9]\n",
      " [10 11 12 13 14]]\n"
     ]
    },
    {
     "data": {
      "text/plain": [
       "array([[ 0,  1,  2,  3,  4],\n",
       "       [ 5,  6,  7,  8,  9],\n",
       "       [10, 11, 12, 13, 14]])"
      ]
     },
     "execution_count": 1,
     "metadata": {},
     "output_type": "execute_result"
    }
   ],
   "source": [
    "import numpy as np\n",
    "rng = np.random.default_rng()\n",
    "x = np.arange(0, 15).reshape(3, 5)\n",
    "print(x)\n",
    "# array([[ 0,  1,  2,  3,  4],\n",
    "#        [ 5,  6,  7,  8,  9],\n",
    "#        [10, 11, 12, 13, 14]])\n",
    "# rng.permutation(x, axis=1) \n",
    "# array([[ 1,  3,  2,  0,  4],  # random\n",
    "#        [ 6,  8,  7,  5,  9],\n",
    "#        [11, 13, 12, 10, 14]])\n",
    "rng.permutation(x) \n",
    "# array([[10, 11, 12, 13, 14],\n",
    "#        [ 0,  1,  2,  3,  4],\n",
    "#        [ 5,  6,  7,  8,  9]])"
   ]
  },
  {
   "cell_type": "markdown",
   "metadata": {},
   "source": [
    "`shuffle()`\n",
    "vermischt eine Sequenz und ändert ursprüngliche Array verändert"
   ]
  },
  {
   "cell_type": "code",
   "execution_count": 17,
   "metadata": {},
   "outputs": [
    {
     "data": {
      "text/plain": [
       "[4, 3, 1, 2]"
      ]
     },
     "execution_count": 17,
     "metadata": {},
     "output_type": "execute_result"
    }
   ],
   "source": [
    "arr = [1, 2, 3, 4]\n",
    "np.random.shuffle(arr)\n",
    "arr"
   ]
  },
  {
   "cell_type": "markdown",
   "metadata": {},
   "source": [
    "`uniform()`\n",
    "zieht Stichproben aus einem Intervall"
   ]
  },
  {
   "cell_type": "code",
   "execution_count": 18,
   "metadata": {},
   "outputs": [
    {
     "data": {
      "text/plain": [
       "array([30.4242243 , 52.47564316, 43.19450186, 29.12291402, 61.18528947,\n",
       "       13.94938607, 29.21446485, 36.63618433, 45.60699842, 78.51759614])"
      ]
     },
     "execution_count": 18,
     "metadata": {},
     "output_type": "execute_result"
    }
   ],
   "source": [
    "np.random.uniform(0, 100, 10)  # 10 Stichproben zwischen 0 und 1"
   ]
  },
  {
   "cell_type": "markdown",
   "metadata": {},
   "source": [
    "`standard_normal()`\n",
    "zieht Stichproben aus einer Normalverteilung mit dem Mittelwert 0 und der Standardabweichung 1<br>\n",
    "alte Methode heisst `randn()`"
   ]
  },
  {
   "cell_type": "code",
   "execution_count": 19,
   "metadata": {},
   "outputs": [
    {
     "data": {
      "text/plain": [
       "array([ 0.0675282 , -1.42474819, -0.54438272,  0.11092259, -1.15099358,\n",
       "        0.37569802, -0.60063869, -0.29169375, -0.60170661,  1.85227818])"
      ]
     },
     "execution_count": 19,
     "metadata": {},
     "output_type": "execute_result"
    }
   ],
   "source": [
    "np.random.standard_normal(10)  # 10 Stichproben"
   ]
  },
  {
   "cell_type": "markdown",
   "metadata": {},
   "source": [
    "`binomial()`\n",
    "zieht Stichproben aus einer Binomialverteilung."
   ]
  },
  {
   "cell_type": "code",
   "execution_count": 20,
   "metadata": {},
   "outputs": [
    {
     "data": {
      "text/plain": [
       "array([3, 5, 2, 7, 4, 6, 4, 5, 5, 4], dtype=int32)"
      ]
     },
     "execution_count": 20,
     "metadata": {},
     "output_type": "execute_result"
    }
   ],
   "source": [
    "np.random.binomial(n=10, p=0.5, size=10)  # 10 Stichproben aus einer Binomialverteilung"
   ]
  },
  {
   "cell_type": "markdown",
   "metadata": {},
   "source": [
    "`normal()`\n",
    "zieht Stichproben aus einer Normalverteilung (gausssche Verteilung)"
   ]
  },
  {
   "cell_type": "code",
   "execution_count": 21,
   "metadata": {},
   "outputs": [
    {
     "data": {
      "text/plain": [
       "array([ 0.73846658,  0.17136828, -0.11564828, -0.3011037 , -1.47852199,\n",
       "       -0.71984421, -0.46063877,  1.05712223,  0.34361829, -1.76304016])"
      ]
     },
     "execution_count": 21,
     "metadata": {},
     "output_type": "execute_result"
    }
   ],
   "source": [
    "np.random.normal(loc=0, scale=1, size=10)  # Mittelwert=0, Standardabweichung=1"
   ]
  }
 ],
 "metadata": {
  "kernelspec": {
   "display_name": ".my_venv",
   "language": "python",
   "name": "python3"
  },
  "language_info": {
   "codemirror_mode": {
    "name": "ipython",
    "version": 3
   },
   "file_extension": ".py",
   "mimetype": "text/x-python",
   "name": "python",
   "nbconvert_exporter": "python",
   "pygments_lexer": "ipython3",
   "version": "3.12.6"
  }
 },
 "nbformat": 4,
 "nbformat_minor": 2
}
