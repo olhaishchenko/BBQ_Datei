{
 "cells": [
  {
   "cell_type": "markdown",
   "metadata": {},
   "source": [
    "## Lage- und Streuungsmaße selber berechnen\n",
    "Bitte die Funktionsnamen aus den Kommentaren verwenden. Lösung mit Python ohne zusätzliche Bibliotheken (`math` kann benutzt werden falls ihr es benötigt). \\\n",
    "Die Ergebnisse sollen mit der letzten Code-Zelle geprüft werden, dort werden eure Funktionen aufgerufen."
   ]
  },
  {
   "cell_type": "markdown",
   "metadata": {},
   "source": [
    "### Mittelwert bestimmen"
   ]
  },
  {
   "cell_type": "code",
   "execution_count": 12,
   "metadata": {},
   "outputs": [],
   "source": [
    "def calc_mean(data: list) -> float:\n",
    "    \n",
    "    return sum(data)/len(data)"
   ]
  },
  {
   "cell_type": "markdown",
   "metadata": {},
   "source": [
    "### Modus bestimmen\n",
    "Es reicht ein Wert falls mehrere in Frage kommen."
   ]
  },
  {
   "cell_type": "code",
   "execution_count": 14,
   "metadata": {},
   "outputs": [],
   "source": [
    "def calc_mode(data: list) -> float:\n",
    "    unique_data = list(set(data))\n",
    "    dictionary = {}\n",
    "    for i in unique_data:\n",
    "        get_count = data.count(i)\n",
    "        dictionary[i]= get_count\n",
    "    max_repeat = 0 \n",
    "    for i in unique_data:\n",
    "        get_value = dictionary[i]\n",
    "        if get_value>max_repeat:\n",
    "            max_repeat = get_value\n",
    "    result = ''\n",
    "    for i in unique_data:\n",
    "        if dictionary[i]==max_repeat:\n",
    "            result = result+str(i)+\" \"\n",
    "    return int(result)\n"
   ]
  },
  {
   "cell_type": "code",
   "execution_count": 39,
   "metadata": {},
   "outputs": [
    {
     "name": "stdout",
     "output_type": "stream",
     "text": [
      "9\n"
     ]
    }
   ],
   "source": [
    "# Von Andreas\n",
    "def calc_mode(data: list) -> float:\n",
    "    counts = {}\n",
    "    for value in data:\n",
    "        counts[value] = counts.get(value, 0) + 1\n",
    "    mode = max(counts, key = counts.get)\n",
    "    return mode\n",
    "# data = [2,5,6,6,9,9,9,10,11,13]\n",
    "# print(calc_mode(data))"
   ]
  },
  {
   "cell_type": "markdown",
   "metadata": {},
   "source": [
    "### Median bestimmen"
   ]
  },
  {
   "cell_type": "code",
   "execution_count": 48,
   "metadata": {},
   "outputs": [
    {
     "name": "stdout",
     "output_type": "stream",
     "text": [
      "[2, 5, 6, 6, 9, 9, 9, 10, 11, 13, 14, 14, 14, 14, 15]\n",
      "15\n"
     ]
    },
    {
     "data": {
      "text/plain": [
       "10"
      ]
     },
     "execution_count": 48,
     "metadata": {},
     "output_type": "execute_result"
    }
   ],
   "source": [
    "def calc_median(data: list) -> float:\n",
    "    data = sorted(data)\n",
    "    ind = len(data)//2\n",
    "    if not len(data) % 2:\n",
    "        return (data[ind - 1] + data[ind]) / 2\n",
    "    else:\n",
    "        return data[ind]\n",
    "# data = [14,14,14,14,2,5,6,6,9,9,9,10,11,13,15]\n",
    "# #print(data)\n",
    "# calc_median(data)"
   ]
  },
  {
   "cell_type": "markdown",
   "metadata": {},
   "source": [
    "### Quartil 1 bestimmen"
   ]
  },
  {
   "cell_type": "code",
   "execution_count": 49,
   "metadata": {},
   "outputs": [],
   "source": [
    "def calc_25percentile(data: list) -> float:\n",
    "    data = sorted(data)\n",
    "    p = (len(data) + 1) / 4\n",
    "    if p.is_integer():\n",
    "        ind = int(p)\n",
    "        return data[ind-1]\n",
    "    else:\n",
    "        ind = (len(data) + 1) // 4\n",
    "        return data[ind-1] + (p-ind)*(data[ind]-data[ind-1])"
   ]
  },
  {
   "cell_type": "markdown",
   "metadata": {},
   "source": [
    "### Quartil 3 bestimmen"
   ]
  },
  {
   "cell_type": "code",
   "execution_count": 50,
   "metadata": {},
   "outputs": [],
   "source": [
    "def calc_75percentile(data: list) -> float:\n",
    "    data = sorted(data)\n",
    "    p = 3*(len(data) + 1) / 4\n",
    "    if p.is_integer():\n",
    "        ind = int(p)\n",
    "        return data[ind-1]\n",
    "    else:\n",
    "        ind = 3 * (len(data) + 1) // 4\n",
    "        return data[ind-1] + (p-ind)*(data[ind]-data[ind-1])"
   ]
  },
  {
   "cell_type": "markdown",
   "metadata": {},
   "source": [
    "### Varianz der Grundgesamtheit (ganze Population) berechnen"
   ]
  },
  {
   "cell_type": "code",
   "execution_count": 18,
   "metadata": {},
   "outputs": [],
   "source": [
    "def calc_variance(data: list) -> float:\n",
    "    s = 0\n",
    "    m_w = calc_mean(data)\n",
    "    #vsum=sum([(x-m_w)**2 for x in data])\n",
    "    for el in data:\n",
    "        s += (el-m_w)**2\n",
    "    return s/len(data)"
   ]
  },
  {
   "cell_type": "markdown",
   "metadata": {},
   "source": [
    "### Standardabweichung (sigma) berechnen"
   ]
  },
  {
   "cell_type": "code",
   "execution_count": 19,
   "metadata": {},
   "outputs": [],
   "source": [
    "import math\n",
    "def calc_stdev(data: list)->float:\n",
    "    return math.sqrt(calc_variance(data))\n",
    "#c**0.5"
   ]
  },
  {
   "cell_type": "markdown",
   "metadata": {},
   "source": [
    "### Testfälle für die statistischen Berechnungen"
   ]
  },
  {
   "cell_type": "code",
   "execution_count": 35,
   "metadata": {},
   "outputs": [
    {
     "name": "stdout",
     "output_type": "stream",
     "text": [
      "Alle Tests bestanden!\n"
     ]
    }
   ],
   "source": [
    "if __name__ == \"__main__\":\n",
    "    daten = [2, 5, 6, 6, 9, 9, 9, 10, 11, 13]\n",
    "\n",
    "    # Berechnungen\n",
    "    mittelwert = calc_mean(daten)\n",
    "    median = calc_median(daten)\n",
    "    modus = calc_mode(daten)\n",
    "    varianz = calc_variance(daten)\n",
    "    standardabweichung = calc_stdev(daten)\n",
    "\n",
    "    # Tests mit Assertions\n",
    "    assert round(mittelwert, 2) == 8.0, f\"Erwarteter Mittelwert: 8.0, erhalten: {mittelwert}\"\n",
    "    assert round(median, 2) == 9.0, f\"Erwarteter Median: 9.0, erhalten: {median}\"\n",
    "    assert modus == 9, f\"Erwarteter Modus: 9, erhalten: {modus}\"\n",
    "    assert round(varianz, 4) == 9.4, f\"Erwartete Varianz: 9.4, erhalten: {varianz}\"\n",
    "    assert round(standardabweichung, 4) == 3.0659, f\"Erwartete Standardabweichung: 3.0659, erhalten: {standardabweichung}\"\n",
    "\n",
    "    print(\"Alle Tests bestanden!\")\n"
   ]
  },
  {
   "cell_type": "markdown",
   "metadata": {},
   "source": [
    "Keine Testfälle für Quartilsbrechenung\n",
    "Für den Datensatz `daten = [1, 2, 3, 4]` könnt ihr die studyfilx Methode benutzen, d.h. Q1 = 1,5 und Q3 = 3,5 <br>\n",
    "oder die Methode aus dem PDF, die liefert folgende Ergebnisse: Q1 = 1,25 und Q3 = 3,75"
   ]
  },
  {
   "cell_type": "code",
   "execution_count": 33,
   "metadata": {},
   "outputs": [
    {
     "name": "stdout",
     "output_type": "stream",
     "text": [
      "Q1 für [1, 2, 3, 4]: 1.25\n",
      "Q3 für [1, 2, 3, 4]: 3.75\n",
      "Q1 für [2, 5, 6, 6, 9, 9, 9, 10, 11, 13]: 5.75\n",
      "Q3 für [2, 5, 6, 6, 9, 9, 9, 10, 11, 13]: 10.25\n"
     ]
    }
   ],
   "source": [
    "daten = [1, 2, 3, 4]\n",
    "q1 = calc_25percentile(daten)\n",
    "q3 = calc_75percentile(daten)\n",
    "\n",
    "print(f\"Q1 für {daten}:\", q1)\n",
    "print(f\"Q3 für {daten}:\", q3)\n",
    "\n",
    "\n",
    "daten = [2, 5, 6, 6, 9, 9, 9, 10, 11, 13]\n",
    "q1 = calc_25percentile(daten)\n",
    "q3 = calc_75percentile(daten)\n",
    "\n",
    "print(f\"Q1 für {daten}:\", q1)\n",
    "print(f\"Q3 für {daten}:\", q3)"
   ]
  },
  {
   "cell_type": "code",
   "execution_count": 55,
   "metadata": {},
   "outputs": [
    {
     "name": "stdout",
     "output_type": "stream",
     "text": [
      "[2]\n"
     ]
    }
   ],
   "source": [
    "import statistics\n",
    "data = [1, 2, 2, 3, 4]\n",
    "modes = statistics.multimode(data)\n",
    "print(modes)"
   ]
  }
 ],
 "metadata": {
  "kernelspec": {
   "display_name": ".my_venv",
   "language": "python",
   "name": "python3"
  },
  "language_info": {
   "codemirror_mode": {
    "name": "ipython",
    "version": 3
   },
   "file_extension": ".py",
   "mimetype": "text/x-python",
   "name": "python",
   "nbconvert_exporter": "python",
   "pygments_lexer": "ipython3",
   "version": "3.12.6"
  }
 },
 "nbformat": 4,
 "nbformat_minor": 2
}
