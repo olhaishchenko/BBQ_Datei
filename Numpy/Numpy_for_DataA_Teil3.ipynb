{
 "cells": [
  {
   "cell_type": "markdown",
   "metadata": {},
   "source": [
    "# Numpy Teil 3"
   ]
  },
  {
   "cell_type": "markdown",
   "metadata": {},
   "source": [
    "## `ufunc` - schnelle elementweise Array-Funktionen\n",
    "In NumPy steht der Begriff ufunc für universal function (universelle Funktion). Diese Funktionen sind spezielle Funktionen, die auf NumPy-Arrays angewendet werden können, um elementweise Operationen durchzuführen. Ufuncs sind sehr effizient und ermöglichen es uns, Berechnungen in einer vektorisierte Form durchzuführen, was oft schneller ist als das Verwenden von Schleifen in Python.<br>\n",
    "[Universelle Array Funktionen](http://docs.scipy.org/doc/numpy/reference/ufuncs.html)"
   ]
  },
  {
   "cell_type": "code",
   "execution_count": 25,
   "metadata": {},
   "outputs": [],
   "source": [
    "import numpy as np"
   ]
  },
  {
   "cell_type": "markdown",
   "metadata": {},
   "source": [
    "### Einfache elementweise Transformationen - _unäre_ ufuncs"
   ]
  },
  {
   "cell_type": "code",
   "execution_count": 26,
   "metadata": {},
   "outputs": [
    {
     "data": {
      "text/plain": [
       "array([0, 1, 2, 3, 4, 5, 6, 7, 8, 9])"
      ]
     },
     "execution_count": 26,
     "metadata": {},
     "output_type": "execute_result"
    }
   ],
   "source": [
    "arr = np.arange(10)\n",
    "arr"
   ]
  },
  {
   "cell_type": "markdown",
   "metadata": {},
   "source": [
    "`sqrt()` Wurzel berechnen"
   ]
  },
  {
   "cell_type": "code",
   "execution_count": 27,
   "metadata": {},
   "outputs": [
    {
     "data": {
      "text/plain": [
       "array([0.        , 1.        , 1.41421356, 1.73205081, 2.        ,\n",
       "       2.23606798, 2.44948974, 2.64575131, 2.82842712, 3.        ])"
      ]
     },
     "execution_count": 27,
     "metadata": {},
     "output_type": "execute_result"
    }
   ],
   "source": [
    "np.sqrt(arr)"
   ]
  },
  {
   "cell_type": "markdown",
   "metadata": {},
   "source": [
    "`exp()` Exponentialfunktion"
   ]
  },
  {
   "cell_type": "code",
   "execution_count": 28,
   "metadata": {},
   "outputs": [
    {
     "data": {
      "text/plain": [
       "array([1.00000000e+00, 2.71828183e+00, 7.38905610e+00, 2.00855369e+01,\n",
       "       5.45981500e+01, 1.48413159e+02, 4.03428793e+02, 1.09663316e+03,\n",
       "       2.98095799e+03, 8.10308393e+03])"
      ]
     },
     "execution_count": 28,
     "metadata": {},
     "output_type": "execute_result"
    }
   ],
   "source": [
    "np.exp(arr)"
   ]
  },
  {
   "cell_type": "markdown",
   "metadata": {},
   "source": [
    "### Funktionen für zwei Arrays - _binäre_ ufuncs"
   ]
  },
  {
   "cell_type": "code",
   "execution_count": 29,
   "metadata": {},
   "outputs": [
    {
     "data": {
      "text/plain": [
       "array([-0.57799856, -0.51155065,  1.60672168, -0.42605929, -0.00706472,\n",
       "       -0.21886081, -1.02100363, -1.6541453 ])"
      ]
     },
     "execution_count": 29,
     "metadata": {},
     "output_type": "execute_result"
    }
   ],
   "source": [
    "x = np.random.standard_normal(8)\n",
    "x"
   ]
  },
  {
   "cell_type": "code",
   "execution_count": 30,
   "metadata": {},
   "outputs": [
    {
     "data": {
      "text/plain": [
       "array([ 1.78783892, -0.32951794, -0.26294883, -3.64858647,  0.35828413,\n",
       "       -1.63048333, -0.42413149, -0.11584165])"
      ]
     },
     "execution_count": 30,
     "metadata": {},
     "output_type": "execute_result"
    }
   ],
   "source": [
    "y = np.random.standard_normal(8)\n",
    "y"
   ]
  },
  {
   "cell_type": "markdown",
   "metadata": {},
   "source": [
    "`minimum()` und `maximum()`"
   ]
  },
  {
   "cell_type": "code",
   "execution_count": 31,
   "metadata": {},
   "outputs": [
    {
     "data": {
      "text/plain": [
       "array([-0.57799856, -0.51155065, -0.26294883, -3.64858647, -0.00706472,\n",
       "       -1.63048333, -1.02100363, -1.6541453 ])"
      ]
     },
     "execution_count": 31,
     "metadata": {},
     "output_type": "execute_result"
    }
   ],
   "source": [
    "np.minimum(x, y)"
   ]
  },
  {
   "cell_type": "code",
   "execution_count": 32,
   "metadata": {},
   "outputs": [
    {
     "data": {
      "text/plain": [
       "array([ 1.78783892, -0.32951794,  1.60672168, -0.42605929,  0.35828413,\n",
       "       -0.21886081, -0.42413149, -0.11584165])"
      ]
     },
     "execution_count": 32,
     "metadata": {},
     "output_type": "execute_result"
    }
   ],
   "source": [
    "np.maximum(x, y)"
   ]
  },
  {
   "cell_type": "markdown",
   "metadata": {},
   "source": [
    "### `ufuncs` mit mehreren Rückgabewerten\n",
    "`modf()`\n",
    "gibt die gebrochenen und ganzzahligen Anteile eines Arrays als separate Arrays zurück."
   ]
  },
  {
   "cell_type": "code",
   "execution_count": 33,
   "metadata": {},
   "outputs": [
    {
     "data": {
      "text/plain": [
       "array([-2.20658668, -2.12860249, -1.49273915,  4.36013423,  3.61825955,\n",
       "        9.20203542, -2.76619699])"
      ]
     },
     "execution_count": 33,
     "metadata": {},
     "output_type": "execute_result"
    }
   ],
   "source": [
    "arr = np.random.standard_normal(7) * 5\n",
    "arr"
   ]
  },
  {
   "cell_type": "code",
   "execution_count": 34,
   "metadata": {},
   "outputs": [
    {
     "data": {
      "text/plain": [
       "array([-0.20658668, -0.12860249, -0.49273915,  0.36013423,  0.61825955,\n",
       "        0.20203542, -0.76619699])"
      ]
     },
     "execution_count": 34,
     "metadata": {},
     "output_type": "execute_result"
    }
   ],
   "source": [
    "remainder, whole_part = np.modf(arr)\n",
    "remainder"
   ]
  },
  {
   "cell_type": "code",
   "execution_count": 35,
   "metadata": {},
   "outputs": [
    {
     "data": {
      "text/plain": [
       "array([-2., -2., -1.,  4.,  3.,  9., -2.])"
      ]
     },
     "execution_count": 35,
     "metadata": {},
     "output_type": "execute_result"
    }
   ],
   "source": [
    "whole_part"
   ]
  },
  {
   "cell_type": "markdown",
   "metadata": {},
   "source": [
    "### `out` Argument\n",
    "`ufuncs` akzeptieren ein optionales out-Argument, das ihnen erlaubt, ihre Ergebnisse einem bestehenden Array zuzuweisen, statt ein neues zu erstellen:"
   ]
  },
  {
   "cell_type": "code",
   "execution_count": 36,
   "metadata": {},
   "outputs": [
    {
     "data": {
      "text/plain": [
       "array([-1.20658668, -1.12860249, -0.49273915,  5.36013423,  4.61825955,\n",
       "       10.20203542, -1.76619699])"
      ]
     },
     "execution_count": 36,
     "metadata": {},
     "output_type": "execute_result"
    }
   ],
   "source": [
    "out = np.zeros_like(arr) # siehe unten\n",
    "np.add(arr, 1, out=out)\n",
    "out"
   ]
  },
  {
   "cell_type": "markdown",
   "metadata": {},
   "source": [
    "### Auswahl unärer Funktionen\n",
    "<pre><b>\n",
    "Funktion                                Beschreibung</b>\n",
    "\n",
    "abs, fabs                               Berechnet elementweise den absoluten Wert für Integer-, Gleitkomma- oder komplexe Werte.\n",
    "\n",
    "sqrt                                    Berechnet für jedes Element die Quadratwurzel (äquivalent zu arr ** 0.5).\n",
    "\n",
    "square                                  Berechnet das Quadrat jedes Elements (äquivalent zu arr ** 2).\n",
    "\n",
    "exp                                     Berechnet den Exponenten ex jedes Elements.\n",
    "\n",
    "log, log10, log2, log1p                 Natürlicher Logarithmus (Basis e), log Basis 10, log Basis 2 bzw. log(1 + x).\n",
    "\n",
    "sign                                    Berechnet das Vorzeichen jedes Elements: 1 (positiv), 0 (null) oder –1 (negativ).\n",
    "\n",
    "ceil                                    Rundet jedes Element auf die kleinste Integer-Zahl auf, die größer oder gleich diesem Element ist.\n",
    "\n",
    "floor                                   Rundet jedes Element auf die größte Integer-Zahl ab, die kleiner oder gleich diesem Element ist.\n",
    "\n",
    "rint                                    Rundet Elemente auf die nächstgelegene Integer-Zahl, wobei der dtype beibehalten wird.\n",
    "\n",
    "modf                                    Gibt die gebrochenen und ganzzahligen Anteile eines Arrays als separate Arrays zurück.\n",
    "\n",
    "isnan                                   Gibt ein boolesches Array zurück, das angibt, ob die einzelnen Werte NaN (Not a Number, keine Zahl) sind.\n",
    "\n",
    "isfinite, isinf                         Gibt ein boolesches Array zurück, das angibt, ob die einzelnen Werte endlich (nicht-inf, nicht-NaN) bzw. unendlich sind.\n",
    "\n",
    "logical_not                             Berechnet elementweise den Wahrheitswert von not x (äquivalent zu ~arr).\n",
    "\n",
    "cos, cosh, sin, sinh, tan, tanh         Reguläre trigonometrische und Hyperbelfunktionen.\n",
    "\n",
    "arccos, arccosh, arcsin, arcsinh, \n",
    "arctan, arctanh                         Inverse trigonometrische Funktionen.\n",
    "</pre>"
   ]
  },
  {
   "cell_type": "markdown",
   "metadata": {},
   "source": [
    "### Auswahl binärer Funktionen\n",
    "<pre><b>\n",
    "Funktion                                Beschreibung</b>\n",
    "add                                     Addiert korrespondierende Elemente in Arrays.\n",
    "\n",
    "subtract                                Subtrahiert die Elemente im zweiten Array vom ersten Array.\n",
    "\n",
    "multiply                                Multipliziert die Array-Elemente miteinander.\n",
    "\n",
    "divide, floor_divide                    Dividieren oder Floor-Dividieren (Abschneiden des Rests).\n",
    "\n",
    "power                                   Potenziert Elemente im ersten Array entsprechend dem Exponenten im zweiten Array.\n",
    "\n",
    "maximum, fmax                           Elementweises Maximum; fmax ignoriert NaN.\n",
    "\n",
    "minimum, fmin                           Elementweises Minimum; fmin ignoriert NaN.\n",
    "\n",
    "mod                                     Elementweiser Modulus (Rest der Division).\n",
    "\n",
    "copysign                                Kopiert die Vorzeichen der Werte im zweiten Argument auf die Werte im ersten Argument.\n",
    "\n",
    "logical_and                             Berechnet elementweise die Wahrheitswerte von AND (&).\n",
    "\n",
    "logical_or                              Berechnet elementweise die Wahrheitswerte von OR (|).\n",
    "\n",
    "logical_xor                             Berechnet elementweise die Wahrheitswerte von XOR (^).\n",
    "\n",
    "greater, greater_equal, less, \n",
    "less_equal, equal, not_equal            Führt elementweise Vergleiche durch, die ein boolesches Array ergeben (äquivalent zu den Infix-Operatoren >, >=, <, <=, ==, !=).\n",
    "</pre>"
   ]
  },
  {
   "cell_type": "markdown",
   "metadata": {},
   "source": [
    "## Erzeung von Arrays mit `like`\n",
    "In NumPy gibt es mehrere Funktionen, die das Suffix like verwenden, um neue Arrays zu erstellen, die ähnliche Eigenschaften wie ein gegebenes Array aufweisen."
   ]
  },
  {
   "cell_type": "code",
   "execution_count": 37,
   "metadata": {},
   "outputs": [
    {
     "data": {
      "text/plain": [
       "array([[1, 2, 3],\n",
       "       [4, 5, 6],\n",
       "       [7, 8, 9]])"
      ]
     },
     "execution_count": 37,
     "metadata": {},
     "output_type": "execute_result"
    }
   ],
   "source": [
    "arr = np.arange(1,10).reshape(3,3)\n",
    "arr"
   ]
  },
  {
   "cell_type": "markdown",
   "metadata": {},
   "source": [
    "`zeros_like()`<br>\n",
    "Erstellt ein Array der gleichen Form und des gleichen Datentyps wie a, gefüllt mit Nullen."
   ]
  },
  {
   "cell_type": "code",
   "execution_count": 38,
   "metadata": {},
   "outputs": [
    {
     "data": {
      "text/plain": [
       "array([[0, 0, 0],\n",
       "       [0, 0, 0],\n",
       "       [0, 0, 0]])"
      ]
     },
     "execution_count": 38,
     "metadata": {},
     "output_type": "execute_result"
    }
   ],
   "source": [
    "np.zeros_like(arr)"
   ]
  },
  {
   "cell_type": "markdown",
   "metadata": {},
   "source": [
    "`ones_like()`<br>\n",
    "Erstellt ein Array der gleichen Form und des gleichen Datentyps wie a, gefüllt mit Einsen"
   ]
  },
  {
   "cell_type": "code",
   "execution_count": 39,
   "metadata": {},
   "outputs": [
    {
     "data": {
      "text/plain": [
       "array([[1, 1, 1],\n",
       "       [1, 1, 1],\n",
       "       [1, 1, 1]])"
      ]
     },
     "execution_count": 39,
     "metadata": {},
     "output_type": "execute_result"
    }
   ],
   "source": [
    "np.ones_like(arr)"
   ]
  },
  {
   "cell_type": "markdown",
   "metadata": {},
   "source": [
    "`empty_like()`<br>\n",
    "Erstellt ein Array der gleichen Form und des gleichen Datentyps wie a, ohne die Werte zu initialisieren (die Werte sind unbestimmt)."
   ]
  },
  {
   "cell_type": "code",
   "execution_count": 40,
   "metadata": {},
   "outputs": [
    {
     "data": {
      "text/plain": [
       "array([[0, 0, 0],\n",
       "       [0, 0, 0],\n",
       "       [0, 0, 0]])"
      ]
     },
     "execution_count": 40,
     "metadata": {},
     "output_type": "execute_result"
    }
   ],
   "source": [
    "np.empty_like(arr)"
   ]
  },
  {
   "cell_type": "markdown",
   "metadata": {},
   "source": [
    "`full_like()`\n",
    "Erstellt ein Array der gleichen Form und des gleichen Datentyps wie a, gefüllt mit dem angegebenen Wert fill_value."
   ]
  },
  {
   "cell_type": "code",
   "execution_count": 41,
   "metadata": {},
   "outputs": [
    {
     "data": {
      "text/plain": [
       "array([[7, 7, 7],\n",
       "       [7, 7, 7],\n",
       "       [7, 7, 7]])"
      ]
     },
     "execution_count": 41,
     "metadata": {},
     "output_type": "execute_result"
    }
   ],
   "source": [
    "np.full_like(arr, 7) #(füllt das Array mit dem Wert 7)"
   ]
  },
  {
   "cell_type": "markdown",
   "metadata": {},
   "source": [
    "## Dateiein- und ausgabe\n",
    "NumPy ist in der Lage, Daten in einigen Text- und Binärformaten auf der Festplatte zu speichern und von ihr zu laden. Arrays werden standardmäßig in einem unkomprimierten rohen Binärformat mit der Dateierweiterung .npy gespeichert. Sollte der Dateipfad noch nicht auf .npy enden, wird die Erweiterung angehängt."
   ]
  },
  {
   "cell_type": "code",
   "execution_count": 42,
   "metadata": {},
   "outputs": [],
   "source": [
    "arr = np.arange(10)\n",
    "np.save(\"my_array\", arr)"
   ]
  },
  {
   "cell_type": "markdown",
   "metadata": {},
   "source": [
    "Laden des Arrays:"
   ]
  },
  {
   "cell_type": "code",
   "execution_count": 43,
   "metadata": {},
   "outputs": [
    {
     "data": {
      "text/plain": [
       "array([0, 1, 2, 3, 4, 5, 6, 7, 8, 9])"
      ]
     },
     "execution_count": 43,
     "metadata": {},
     "output_type": "execute_result"
    }
   ],
   "source": [
    "np.load(\"my_array.npy\")"
   ]
  },
  {
   "cell_type": "markdown",
   "metadata": {},
   "source": [
    "Speichern mehrerer Arrays via Keyword Argument in einem unkomprimierten Archiv, Endung `npz`"
   ]
  },
  {
   "cell_type": "code",
   "execution_count": 44,
   "metadata": {},
   "outputs": [],
   "source": [
    "np.savez(\"my_archive.npz\", a=arr, b=arr)"
   ]
  },
  {
   "cell_type": "markdown",
   "metadata": {},
   "source": [
    "Laden eines `npz`, auf die Arrays kann mit einer dict Struktur zugegriffen werden:"
   ]
  },
  {
   "cell_type": "code",
   "execution_count": 46,
   "metadata": {},
   "outputs": [
    {
     "data": {
      "text/plain": [
       "array([0, 1, 2, 3, 4, 5, 6, 7, 8, 9])"
      ]
     },
     "execution_count": 46,
     "metadata": {},
     "output_type": "execute_result"
    }
   ],
   "source": [
    "my_arrs = np.load(\"my_archive.npz\")\n",
    "my_arrs['b']"
   ]
  },
  {
   "cell_type": "markdown",
   "metadata": {},
   "source": [
    "Speichern mit Komprimierung:"
   ]
  },
  {
   "cell_type": "code",
   "execution_count": 49,
   "metadata": {},
   "outputs": [],
   "source": [
    "np.savez_compressed(\"my_arrs_compressed.npz\", a=arr, b=arr)"
   ]
  },
  {
   "cell_type": "code",
   "execution_count": 50,
   "metadata": {},
   "outputs": [
    {
     "data": {
      "text/plain": [
       "array([0, 1, 2, 3, 4, 5, 6, 7, 8, 9])"
      ]
     },
     "execution_count": 50,
     "metadata": {},
     "output_type": "execute_result"
    }
   ],
   "source": [
    "my_arrs = np.load(\"my_arrs_compressed.npz\")\n",
    "my_arrs['b']"
   ]
  }
 ],
 "metadata": {
  "kernelspec": {
   "display_name": ".my_venv",
   "language": "python",
   "name": "python3"
  },
  "language_info": {
   "codemirror_mode": {
    "name": "ipython",
    "version": 3
   },
   "file_extension": ".py",
   "mimetype": "text/x-python",
   "name": "python",
   "nbconvert_exporter": "python",
   "pygments_lexer": "ipython3",
   "version": "3.12.6"
  }
 },
 "nbformat": 4,
 "nbformat_minor": 2
}
