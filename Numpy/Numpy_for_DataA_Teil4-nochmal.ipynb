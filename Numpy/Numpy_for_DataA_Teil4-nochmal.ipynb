{
 "cells": [
  {
   "cell_type": "markdown",
   "metadata": {},
   "source": [
    "# Numpy Teil 4"
   ]
  },
  {
   "cell_type": "code",
   "execution_count": 1,
   "metadata": {},
   "outputs": [],
   "source": [
    "import numpy as np"
   ]
  },
  {
   "cell_type": "markdown",
   "metadata": {},
   "source": [
    "### np.nan\n",
    "np.nan steht für \"Not a Number\" und ist ein spezieller Wert in NumPy, der verwendet wird, um fehlende oder undefinierte Werte darzustellen. \\\n",
    "Es wird häufig in Datensätzen verwendet, die unvollständige Informationen enthalten, z.B. bei numerischen Berechnungen, bei denen ein Wert nicht berechnet werden kann oder fehlt. \\\n",
    "`np.nan` ist **nicht gleich sich selbst**, d.h., der Ausdruck np.nan == np.nan gibt False zurück.\n",
    "\n",
    "### np.isnan()\n",
    "`np.isnan()` ist eine Funktion in numpy, die überprüft, ob die Elemente eines Arrays NaN sind.\n",
    "Sie wird verwendet, um in einem Array nach `np.nan`-Werten zu suchen. Die Funktion gibt ein boolesches Array zurück, das angibt, welche Elemente NaN sind. \\\n",
    "Beispiel: Wenn wir ein Array data haben, können Sie `np.isnan(data)` verwenden, um ein boolesches Array zu erhalten, in dem True für NaN-Werte und False für alle anderen Werte steht."
   ]
  },
  {
   "cell_type": "code",
   "execution_count": 2,
   "metadata": {},
   "outputs": [
    {
     "data": {
      "text/plain": [
       "array([False, False,  True, False])"
      ]
     },
     "execution_count": 2,
     "metadata": {},
     "output_type": "execute_result"
    }
   ],
   "source": [
    "data = np.array([1.0, 2.0, np.nan, 4.0])\n",
    "\n",
    "nan_check = np.isnan(data)\n",
    "nan_check"
   ]
  },
  {
   "cell_type": "markdown",
   "metadata": {},
   "source": [
    "### Bedingte Logik als Array Operation\n",
    "Die Funktion `where()` ist eine vektorisierte Version des ternären Ausdrucks `x if condition else y`."
   ]
  },
  {
   "cell_type": "code",
   "execution_count": 3,
   "metadata": {},
   "outputs": [],
   "source": [
    "xarr = np.array([1.1, 1.2, 1.3, 1.4, 1.5])\n",
    "yarr = np.array([2.1, 2.2, 2.3, 2.4, 2.5])\n",
    "cond = np.array([True, False, True, True, False])"
   ]
  },
  {
   "cell_type": "markdown",
   "metadata": {},
   "source": [
    "Python Methode"
   ]
  },
  {
   "cell_type": "code",
   "execution_count": 4,
   "metadata": {},
   "outputs": [
    {
     "data": {
      "text/plain": [
       "[np.float64(1.1),\n",
       " np.float64(2.2),\n",
       " np.float64(1.3),\n",
       " np.float64(1.4),\n",
       " np.float64(2.5)]"
      ]
     },
     "execution_count": 4,
     "metadata": {},
     "output_type": "execute_result"
    }
   ],
   "source": [
    "result = [(x if c else y)\n",
    "          for x, y, c in zip(xarr, yarr, cond)]\n",
    "result"
   ]
  },
  {
   "cell_type": "markdown",
   "metadata": {},
   "source": [
    "Numpy Methode"
   ]
  },
  {
   "cell_type": "code",
   "execution_count": 5,
   "metadata": {},
   "outputs": [
    {
     "data": {
      "text/plain": [
       "array([1.1, 2.2, 1.3, 1.4, 2.5])"
      ]
     },
     "execution_count": 5,
     "metadata": {},
     "output_type": "execute_result"
    }
   ],
   "source": [
    "result = np.where(cond, xarr, yarr)\n",
    "result"
   ]
  },
  {
   "cell_type": "markdown",
   "metadata": {},
   "source": [
    "`where()` kann auch mit multidimensionalen Arrays beutzt werden.<br>\n",
    "Das zweite bzw. dritte Argument zu numpy.where muss kein Array sein, eines oder beide können Skalare sein."
   ]
  },
  {
   "cell_type": "code",
   "execution_count": 6,
   "metadata": {},
   "outputs": [
    {
     "name": "stdout",
     "output_type": "stream",
     "text": [
      "[[-0.18087412 -0.83476885 -0.72756235 -0.65434885]\n",
      " [ 0.61381308 -0.48114043 -0.88485447  0.54597558]\n",
      " [-1.77050973  0.19729784 -0.38524472 -0.39419539]\n",
      " [ 1.82463482  0.61348644  0.58892801  0.73579864]]\n"
     ]
    },
    {
     "data": {
      "text/plain": [
       "array([[-10, -10, -10, -10],\n",
       "       [ 10, -10, -10,  10],\n",
       "       [-10,  10, -10, -10],\n",
       "       [ 10,  10,  10,  10]])"
      ]
     },
     "execution_count": 6,
     "metadata": {},
     "output_type": "execute_result"
    }
   ],
   "source": [
    "# alle positiven Werte durch 10 und alle negativen durch -10 ersetzen\n",
    "arr_w = np.random.standard_normal((4,4))\n",
    "print(arr_w)\n",
    "np.where(arr_w >= 0, 10, -10)"
   ]
  },
  {
   "cell_type": "code",
   "execution_count": 7,
   "metadata": {},
   "outputs": [
    {
     "data": {
      "text/plain": [
       "array([[-0.18087412, -0.83476885, -0.72756235, -0.65434885],\n",
       "       [10.        , -0.48114043, -0.88485447, 10.        ],\n",
       "       [-1.77050973, 10.        , -0.38524472, -0.39419539],\n",
       "       [10.        , 10.        , 10.        , 10.        ]])"
      ]
     },
     "execution_count": 7,
     "metadata": {},
     "output_type": "execute_result"
    }
   ],
   "source": [
    "# positive Werte ersetzen, negative behalten\n",
    "np.where(arr_w >= 0, 10, arr_w)"
   ]
  },
  {
   "cell_type": "markdown",
   "metadata": {},
   "source": [
    "### Mathematische und statistische Funktionen\n",
    "Sie sind oft doppelt vorhanden, als Funktion der numpy Bibliothek und als Array Methode."
   ]
  },
  {
   "cell_type": "code",
   "execution_count": 8,
   "metadata": {},
   "outputs": [
    {
     "data": {
      "text/plain": [
       "array([[ 1.33576393, -1.89370257, -1.53236031,  0.67830175],\n",
       "       [ 0.54203733,  0.79718568,  0.4405246 ,  1.0633166 ],\n",
       "       [-0.88908384,  1.90220877,  0.96990228, -1.62848131],\n",
       "       [-1.48719786, -0.16188729,  1.30499685, -0.60417834],\n",
       "       [ 0.05401891, -0.32926999,  1.37628103,  0.73553203]])"
      ]
     },
     "execution_count": 8,
     "metadata": {},
     "output_type": "execute_result"
    }
   ],
   "source": [
    "arr_mf = np.random.standard_normal((5, 4))\n",
    "arr_mf"
   ]
  },
  {
   "cell_type": "markdown",
   "metadata": {},
   "source": [
    "`mean()` - Arithmetischer Mittelwert"
   ]
  },
  {
   "cell_type": "code",
   "execution_count": 9,
   "metadata": {},
   "outputs": [
    {
     "name": "stdout",
     "output_type": "stream",
     "text": [
      "True\n",
      "0.13369541265693916\n"
     ]
    }
   ],
   "source": [
    "print(arr_mf.mean() == np.mean(arr_mf))\n",
    "print(arr_mf.mean())"
   ]
  },
  {
   "cell_type": "markdown",
   "metadata": {},
   "source": [
    "Die Methoden/Funktionen akzeptieren ein optionales `axis` Argument, so dass die Funktion an der angegebenen Achse berechnet wird.<br>\n",
    "Bei zwei Dimensionen enspricht `axis=1` der Berechung über die Spalten und `axis=0` der Berechnung über die Zeilen. Das Ergebnis ist ein Array mit einer Dimension weniger: "
   ]
  },
  {
   "cell_type": "code",
   "execution_count": 22,
   "metadata": {},
   "outputs": [
    {
     "data": {
      "text/plain": [
       "(array([-0.49823179,  0.5616146 ,  0.30371759,  0.29646361]), (4,))"
      ]
     },
     "execution_count": 22,
     "metadata": {},
     "output_type": "execute_result"
    }
   ],
   "source": [
    "np.mean(arr_mf, axis=0), np.mean(arr_mf, axis=0).shape "
   ]
  },
  {
   "cell_type": "code",
   "execution_count": 23,
   "metadata": {},
   "outputs": [
    {
     "data": {
      "text/plain": [
       "(array([ 0.2921596 , -0.04758443,  0.33396453, -0.06798179,  0.31889711]),\n",
       " (5,))"
      ]
     },
     "execution_count": 23,
     "metadata": {},
     "output_type": "execute_result"
    }
   ],
   "source": [
    "arr_mf.mean(axis=1), arr_mf.mean(axis=1).shape "
   ]
  },
  {
   "cell_type": "markdown",
   "metadata": {},
   "source": [
    "### Grundlegende statistische Array-Methoden\n",
    "<pre><b>\n",
    "Methode                             Beschreibung</b>\n",
    "\n",
    "sum                                 Summe aller Elemente in dem Array oder entlang einer Achse; Arrays der Länge null ergeben die Summe 0.\n",
    "\n",
    "mean                                Arithmetischer Mittelwert; ungültig für Arrays der Länge null (liefert NaN).\n",
    "\n",
    "std, var                            Standardabweichung bzw. Varianz.\n",
    "\n",
    "min, max                            Minimum und Maximum.\n",
    "\n",
    "argmin, argmax                      Indizes der minimalen bzw. maximalen Elemente\n",
    "</pre>"
   ]
  },
  {
   "cell_type": "markdown",
   "metadata": {},
   "source": [
    "### `axis` in numpy\n",
    "`axis=0`: Bezieht sich auf die erste Dimension des Arrays, also die \"Zeilen\". Wenn Sie über `axis=0` aggregieren (z. B. mit `np.sum()`), wird die Operation auf alle Zeilen angewendet, und das Ergebnis ist eine Zusammenfassung für jede Spalte.\n",
    "\n",
    "`axis=1`: Bezieht sich auf die zweite Dimension des Arrays, also die \"Spalten\". Wenn Sie über `axis=1` aggregieren, wird die Operation auf jede Zeile angewendet, und das Ergebnis ist eine Zusammenfassung für jede Zeile."
   ]
  },
  {
   "cell_type": "code",
   "execution_count": 12,
   "metadata": {},
   "outputs": [
    {
     "name": "stdout",
     "output_type": "stream",
     "text": [
      "[[ 1  2  3  4]\n",
      " [ 5  6  7  8]\n",
      " [ 9 10 11 12]]\n",
      "(3, 4)\n",
      "Summe über axis=0 (Spalten): [15 18 21 24]\n",
      "Summe über axis=1 (Zeilen): [10 26 42]\n",
      "78\n"
     ]
    }
   ],
   "source": [
    "array = np.array([[1, 2, 3, 4],\n",
    "                  [5, 6, 7, 8],\n",
    "                  [9, 10, 11, 12]])\n",
    "print(array)\n",
    "print(array.shape)\n",
    "\n",
    "sum_axis_0 = np.sum(array, axis=0)\n",
    "print(\"Summe über axis=0 (Spalten):\", sum_axis_0)\n",
    "\n",
    "sum_axis_1 = np.sum(array, axis=1)\n",
    "print(\"Summe über axis=1 (Zeilen):\", sum_axis_1)\n",
    "sum_ganz_arr = np.sum(array)\n",
    "print(sum_ganz_arr)"
   ]
  },
  {
   "cell_type": "markdown",
   "metadata": {},
   "source": [
    "#### Methoden für boolsche Arrays\n",
    "`sum()` kann benutz werden um die Anzahl von `True` bzw. `False` zu bestimmen"
   ]
  },
  {
   "cell_type": "code",
   "execution_count": 13,
   "metadata": {},
   "outputs": [
    {
     "data": {
      "text/plain": [
       "array([ True, False, False,  True, False,  True, False,  True,  True])"
      ]
     },
     "execution_count": 13,
     "metadata": {},
     "output_type": "execute_result"
    }
   ],
   "source": [
    "arr_b = np.random.choice([True, False], size=  9)\n",
    "arr_b"
   ]
  },
  {
   "cell_type": "code",
   "execution_count": 14,
   "metadata": {},
   "outputs": [
    {
     "data": {
      "text/plain": [
       "np.int64(5)"
      ]
     },
     "execution_count": 14,
     "metadata": {},
     "output_type": "execute_result"
    }
   ],
   "source": [
    "(arr_b > 0).sum()"
   ]
  },
  {
   "cell_type": "code",
   "execution_count": 15,
   "metadata": {},
   "outputs": [
    {
     "data": {
      "text/plain": [
       "np.int64(4)"
      ]
     },
     "execution_count": 15,
     "metadata": {},
     "output_type": "execute_result"
    }
   ],
   "source": [
    "(arr_b == 0).sum()"
   ]
  },
  {
   "cell_type": "markdown",
   "metadata": {},
   "source": [
    "`any()` wird verwendet um zu prüfen ob `True` Werte im Array vorhanden sind (wie bei eine ODER Verknüpfung).<br>\n",
    "`all()` entspricht einer UND Verknüpfung. DIe Methoden können auch auf Arrays mit Zahlen angewendet werden, 0 wird dabei als `False` interpretiert, alle anderen Zahlen als `True`."
   ]
  },
  {
   "cell_type": "code",
   "execution_count": 16,
   "metadata": {},
   "outputs": [
    {
     "data": {
      "text/plain": [
       "np.True_"
      ]
     },
     "execution_count": 16,
     "metadata": {},
     "output_type": "execute_result"
    }
   ],
   "source": [
    "arr_b.any()"
   ]
  },
  {
   "cell_type": "code",
   "execution_count": 17,
   "metadata": {},
   "outputs": [
    {
     "data": {
      "text/plain": [
       "np.False_"
      ]
     },
     "execution_count": 17,
     "metadata": {},
     "output_type": "execute_result"
    }
   ],
   "source": [
    "arr_b.all()"
   ]
  },
  {
   "cell_type": "markdown",
   "metadata": {},
   "source": [
    "#### Sortieren\n",
    "Für eindimensionale Arrays funktioniert das wie bei Python Listen:"
   ]
  },
  {
   "cell_type": "code",
   "execution_count": 18,
   "metadata": {},
   "outputs": [
    {
     "data": {
      "text/plain": [
       "array([-0.61739245,  0.19384228, -0.50150399,  0.23067264, -0.11765724,\n",
       "        1.96055102])"
      ]
     },
     "execution_count": 18,
     "metadata": {},
     "output_type": "execute_result"
    }
   ],
   "source": [
    "arr_s = np.random.standard_normal(6)\n",
    "arr_s"
   ]
  },
  {
   "cell_type": "code",
   "execution_count": 19,
   "metadata": {},
   "outputs": [
    {
     "data": {
      "text/plain": [
       "array([-0.61739245, -0.50150399, -0.11765724,  0.19384228,  0.23067264,\n",
       "        1.96055102])"
      ]
     },
     "execution_count": 19,
     "metadata": {},
     "output_type": "execute_result"
    }
   ],
   "source": [
    "arr_s.sort()\n",
    "arr_s"
   ]
  },
  {
   "cell_type": "markdown",
   "metadata": {},
   "source": [
    "Bei 2d Arrays sortiert `axis=0` die Werte in jeder Spalte, während `axis=1` in jeder Zeile sortiert:"
   ]
  },
  {
   "cell_type": "code",
   "execution_count": 20,
   "metadata": {},
   "outputs": [
    {
     "data": {
      "text/plain": [
       "array([[ 0.3318997 ,  1.01774248, -0.00717852, -0.30094532],\n",
       "       [ 0.70820189, -0.45245923,  1.15709677,  0.7798476 ],\n",
       "       [-0.14494288,  0.45633116,  0.2860969 ,  0.53633689],\n",
       "       [-0.70039042,  0.16860005, -1.02295499,  0.65103586],\n",
       "       [ 0.65474132, -0.07814377, -0.82487335,  1.11570882]])"
      ]
     },
     "execution_count": 20,
     "metadata": {},
     "output_type": "execute_result"
    }
   ],
   "source": [
    "arr_s = np.random.standard_normal((5,4))\n",
    "arr_s"
   ]
  },
  {
   "cell_type": "code",
   "execution_count": 24,
   "metadata": {},
   "outputs": [
    {
     "data": {
      "text/plain": [
       "array([[-0.70039042, -0.45245923, -1.02295499, -0.30094532],\n",
       "       [-0.14494288, -0.07814377, -0.82487335,  0.53633689],\n",
       "       [ 0.3318997 ,  0.16860005, -0.00717852,  0.65103586],\n",
       "       [ 0.65474132,  0.45633116,  0.2860969 ,  0.7798476 ],\n",
       "       [ 0.70820189,  1.01774248,  1.15709677,  1.11570882]])"
      ]
     },
     "execution_count": 24,
     "metadata": {},
     "output_type": "execute_result"
    }
   ],
   "source": [
    "arr_sp = arr_s.copy()\n",
    "arr_sp.sort(axis=0)\n",
    "arr_sp"
   ]
  },
  {
   "cell_type": "code",
   "execution_count": 22,
   "metadata": {},
   "outputs": [
    {
     "data": {
      "text/plain": [
       "array([[-0.30094532, -0.00717852,  0.3318997 ,  1.01774248],\n",
       "       [-0.45245923,  0.70820189,  0.7798476 ,  1.15709677],\n",
       "       [-0.14494288,  0.2860969 ,  0.45633116,  0.53633689],\n",
       "       [-1.02295499, -0.70039042,  0.16860005,  0.65103586],\n",
       "       [-0.82487335, -0.07814377,  0.65474132,  1.11570882]])"
      ]
     },
     "execution_count": 22,
     "metadata": {},
     "output_type": "execute_result"
    }
   ],
   "source": [
    "arr_sz = arr_s.copy()\n",
    "arr_sz.sort(axis=1)\n",
    "arr_sz"
   ]
  },
  {
   "cell_type": "markdown",
   "metadata": {},
   "source": [
    "`np.sort()` liefert eine kopierte Version anstatt den Array direkt zu verändern (Stichwort `inplace`)<br>\n",
    "Standard beim Sortieren ist immer `axis=0` (auch bei den Methoden)."
   ]
  },
  {
   "cell_type": "code",
   "execution_count": 23,
   "metadata": {},
   "outputs": [
    {
     "name": "stdout",
     "output_type": "stream",
     "text": [
      "[[-0.30094532 -0.00717852  0.3318997   1.01774248]\n",
      " [-0.45245923  0.70820189  0.7798476   1.15709677]\n",
      " [-0.14494288  0.2860969   0.45633116  0.53633689]\n",
      " [-1.02295499 -0.70039042  0.16860005  0.65103586]\n",
      " [-0.82487335 -0.07814377  0.65474132  1.11570882]]\n",
      "[[ 0.3318997   1.01774248 -0.00717852 -0.30094532]\n",
      " [ 0.70820189 -0.45245923  1.15709677  0.7798476 ]\n",
      " [-0.14494288  0.45633116  0.2860969   0.53633689]\n",
      " [-0.70039042  0.16860005 -1.02295499  0.65103586]\n",
      " [ 0.65474132 -0.07814377 -0.82487335  1.11570882]]\n"
     ]
    }
   ],
   "source": [
    "arr_kopie = np.sort(arr_s)\n",
    "print(arr_kopie)\n",
    "print(arr_s)"
   ]
  },
  {
   "cell_type": "markdown",
   "metadata": {},
   "source": [
    "#### Mengenlogik\n",
    "Für eindimensionale Arrays<br>\n",
    "`unique()` liefert die sortierten eindeutigen Werte in einem array zurück:"
   ]
  },
  {
   "cell_type": "code",
   "execution_count": 52,
   "metadata": {},
   "outputs": [
    {
     "data": {
      "text/plain": [
       "array(['Bob', 'Joe', 'Will'], dtype='<U4')"
      ]
     },
     "execution_count": 52,
     "metadata": {},
     "output_type": "execute_result"
    }
   ],
   "source": [
    "names = np.array([\"Bob\", \"Will\", \"Joe\", \"Bob\", \"Will\", \"Joe\", \"Joe\"])\n",
    "np.unique(names)"
   ]
  },
  {
   "cell_type": "markdown",
   "metadata": {},
   "source": [
    "`isin()` prüft das Vorhandensein der Werte aus einem Array in einem anderen und liefert ein boolesches Array zurück:"
   ]
  },
  {
   "cell_type": "code",
   "execution_count": 54,
   "metadata": {},
   "outputs": [
    {
     "data": {
      "text/plain": [
       "array([ True, False, False,  True,  True, False,  True])"
      ]
     },
     "execution_count": 54,
     "metadata": {},
     "output_type": "execute_result"
    }
   ],
   "source": [
    "values = np.array([6, 0, 0, 3, 2, 5, 6])\n",
    "np.isin(values, [2, 3, 6])"
   ]
  },
  {
   "cell_type": "markdown",
   "metadata": {},
   "source": [
    "`intersect1d()` bildet die Schnittmenge"
   ]
  },
  {
   "cell_type": "code",
   "execution_count": 55,
   "metadata": {},
   "outputs": [
    {
     "data": {
      "text/plain": [
       "array([2, 3])"
      ]
     },
     "execution_count": 55,
     "metadata": {},
     "output_type": "execute_result"
    }
   ],
   "source": [
    "np.intersect1d([1, 2, 3], [2, 3, 4])"
   ]
  },
  {
   "cell_type": "markdown",
   "metadata": {},
   "source": [
    "`union1d()` bildet die Vereinigungsmenge"
   ]
  },
  {
   "cell_type": "code",
   "execution_count": 56,
   "metadata": {},
   "outputs": [
    {
     "data": {
      "text/plain": [
       "array([1, 2, 3, 4])"
      ]
     },
     "execution_count": 56,
     "metadata": {},
     "output_type": "execute_result"
    }
   ],
   "source": [
    "np.union1d([1, 2, 3], [2, 3, 4])"
   ]
  },
  {
   "cell_type": "markdown",
   "metadata": {},
   "source": [
    "`setdiff1d()` Mengendifferenz, Elemente in x, die nicht in y enthalten sind."
   ]
  },
  {
   "cell_type": "code",
   "execution_count": 58,
   "metadata": {},
   "outputs": [
    {
     "data": {
      "text/plain": [
       "array([1])"
      ]
     },
     "execution_count": 58,
     "metadata": {},
     "output_type": "execute_result"
    }
   ],
   "source": [
    "np.setdiff1d([1, 2, 3], [2, 3, 4])"
   ]
  },
  {
   "cell_type": "markdown",
   "metadata": {},
   "source": [
    "`setxor1d()` Symmetrische Mengendifferenzen, Elemente, die in einem der Arrays, aber nicht in beiden enthalten sind."
   ]
  },
  {
   "cell_type": "code",
   "execution_count": 59,
   "metadata": {},
   "outputs": [
    {
     "data": {
      "text/plain": [
       "array([1, 4])"
      ]
     },
     "execution_count": 59,
     "metadata": {},
     "output_type": "execute_result"
    }
   ],
   "source": [
    "np.setxor1d([1, 2, 3], [2, 3, 4])"
   ]
  }
 ],
 "metadata": {
  "kernelspec": {
   "display_name": ".my_venv",
   "language": "python",
   "name": "python3"
  },
  "language_info": {
   "codemirror_mode": {
    "name": "ipython",
    "version": 3
   },
   "file_extension": ".py",
   "mimetype": "text/x-python",
   "name": "python",
   "nbconvert_exporter": "python",
   "pygments_lexer": "ipython3",
   "version": "3.12.6"
  }
 },
 "nbformat": 4,
 "nbformat_minor": 2
}
