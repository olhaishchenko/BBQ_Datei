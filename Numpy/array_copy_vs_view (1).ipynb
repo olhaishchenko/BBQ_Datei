{
 "cells": [
  {
   "cell_type": "markdown",
   "id": "a9ce438d",
   "metadata": {},
   "source": [
    "# View vs. Copy für NumPy Arrays\n",
    "\n",
    "- View: eine weitere Sicht aus einem Array: Änderungen in View beeinflüssen das Array selbst\n",
    "- Copy: ein eigenständiges Objekt: Änderungen in Copy beeinflüssen das Array NICHT"
   ]
  },
  {
   "cell_type": "code",
   "execution_count": 1,
   "id": "3e66d7ec",
   "metadata": {},
   "outputs": [],
   "source": [
    "import numpy as np\n",
    "\n",
    "arr = np.array([1,2,3,4,5])\n",
    "cop = arr.copy()\n"
   ]
  },
  {
   "cell_type": "code",
   "execution_count": 2,
   "id": "fca8d8f6",
   "metadata": {},
   "outputs": [
    {
     "data": {
      "text/plain": [
       "array([1, 2, 3, 4, 5])"
      ]
     },
     "execution_count": 2,
     "metadata": {},
     "output_type": "execute_result"
    }
   ],
   "source": [
    "arr"
   ]
  },
  {
   "cell_type": "code",
   "execution_count": 3,
   "id": "335ab5f9",
   "metadata": {},
   "outputs": [
    {
     "data": {
      "text/plain": [
       "array([1, 2, 3, 4, 5])"
      ]
     },
     "execution_count": 3,
     "metadata": {},
     "output_type": "execute_result"
    }
   ],
   "source": [
    "cop"
   ]
  },
  {
   "cell_type": "code",
   "execution_count": 4,
   "id": "53acf499",
   "metadata": {},
   "outputs": [],
   "source": [
    "cop[0] = 100"
   ]
  },
  {
   "cell_type": "code",
   "execution_count": 5,
   "id": "e44df4a4",
   "metadata": {},
   "outputs": [
    {
     "data": {
      "text/plain": [
       "array([100,   2,   3,   4,   5])"
      ]
     },
     "execution_count": 5,
     "metadata": {},
     "output_type": "execute_result"
    }
   ],
   "source": [
    "cop"
   ]
  },
  {
   "cell_type": "code",
   "execution_count": 6,
   "id": "04595904",
   "metadata": {},
   "outputs": [
    {
     "data": {
      "text/plain": [
       "array([1, 2, 3, 4, 5])"
      ]
     },
     "execution_count": 6,
     "metadata": {},
     "output_type": "execute_result"
    }
   ],
   "source": [
    "arr"
   ]
  },
  {
   "cell_type": "code",
   "execution_count": 7,
   "id": "c2420069",
   "metadata": {},
   "outputs": [],
   "source": [
    "y = arr"
   ]
  },
  {
   "cell_type": "code",
   "execution_count": 8,
   "id": "38bfcba6",
   "metadata": {},
   "outputs": [],
   "source": [
    "y[-1] = 1000"
   ]
  },
  {
   "cell_type": "code",
   "execution_count": 9,
   "id": "e99e5ca7",
   "metadata": {},
   "outputs": [
    {
     "data": {
      "text/plain": [
       "array([   1,    2,    3,    4, 1000])"
      ]
     },
     "execution_count": 9,
     "metadata": {},
     "output_type": "execute_result"
    }
   ],
   "source": [
    "y"
   ]
  },
  {
   "cell_type": "code",
   "execution_count": 10,
   "id": "2227771a",
   "metadata": {},
   "outputs": [
    {
     "data": {
      "text/plain": [
       "array([   1,    2,    3,    4, 1000])"
      ]
     },
     "execution_count": 10,
     "metadata": {},
     "output_type": "execute_result"
    }
   ],
   "source": [
    "arr"
   ]
  },
  {
   "cell_type": "markdown",
   "id": "60f91c89",
   "metadata": {},
   "source": [
    "Numpy hat dazu zwei Methoden: `copy()` und `view()`"
   ]
  },
  {
   "cell_type": "code",
   "execution_count": 11,
   "id": "3ae03156",
   "metadata": {},
   "outputs": [],
   "source": [
    "arr = np.array([1,2,3,4,5])\n",
    "x = arr.copy()\n",
    "y = arr.view()"
   ]
  },
  {
   "cell_type": "code",
   "execution_count": 12,
   "id": "d4bb25bc",
   "metadata": {},
   "outputs": [
    {
     "data": {
      "text/plain": [
       "False"
      ]
     },
     "execution_count": 12,
     "metadata": {},
     "output_type": "execute_result"
    }
   ],
   "source": [
    "x is arr"
   ]
  },
  {
   "cell_type": "code",
   "execution_count": 13,
   "id": "4bec3429",
   "metadata": {},
   "outputs": [
    {
     "data": {
      "text/plain": [
       "False"
      ]
     },
     "execution_count": 13,
     "metadata": {},
     "output_type": "execute_result"
    }
   ],
   "source": [
    "y is arr"
   ]
  },
  {
   "cell_type": "code",
   "execution_count": 14,
   "id": "1f697c2c",
   "metadata": {},
   "outputs": [],
   "source": [
    "y[-1] = 50"
   ]
  },
  {
   "cell_type": "code",
   "execution_count": 15,
   "id": "241d2689",
   "metadata": {},
   "outputs": [
    {
     "data": {
      "text/plain": [
       "array([ 1,  2,  3,  4, 50])"
      ]
     },
     "execution_count": 15,
     "metadata": {},
     "output_type": "execute_result"
    }
   ],
   "source": [
    "y"
   ]
  },
  {
   "cell_type": "code",
   "execution_count": 16,
   "id": "d82ed4b9",
   "metadata": {},
   "outputs": [
    {
     "data": {
      "text/plain": [
       "array([ 1,  2,  3,  4, 50])"
      ]
     },
     "execution_count": 16,
     "metadata": {},
     "output_type": "execute_result"
    }
   ],
   "source": [
    "arr"
   ]
  },
  {
   "cell_type": "code",
   "execution_count": 17,
   "id": "ec2df352",
   "metadata": {},
   "outputs": [
    {
     "data": {
      "text/plain": [
       "array([1, 2, 3, 4, 5])"
      ]
     },
     "execution_count": 17,
     "metadata": {},
     "output_type": "execute_result"
    }
   ],
   "source": [
    "x"
   ]
  },
  {
   "cell_type": "code",
   "execution_count": 18,
   "id": "7ee15203",
   "metadata": {},
   "outputs": [],
   "source": [
    "x[0] = 100"
   ]
  },
  {
   "cell_type": "code",
   "execution_count": 19,
   "id": "8df3fd5c",
   "metadata": {},
   "outputs": [
    {
     "data": {
      "text/plain": [
       "array([100,   2,   3,   4,   5])"
      ]
     },
     "execution_count": 19,
     "metadata": {},
     "output_type": "execute_result"
    }
   ],
   "source": [
    "x"
   ]
  },
  {
   "cell_type": "code",
   "execution_count": 20,
   "id": "af51c48a",
   "metadata": {},
   "outputs": [
    {
     "data": {
      "text/plain": [
       "array([ 1,  2,  3,  4, 50])"
      ]
     },
     "execution_count": 20,
     "metadata": {},
     "output_type": "execute_result"
    }
   ],
   "source": [
    "arr"
   ]
  },
  {
   "cell_type": "code",
   "execution_count": 21,
   "id": "48dbff8a",
   "metadata": {},
   "outputs": [
    {
     "data": {
      "text/plain": [
       "array([ 1,  2,  3,  4, 50])"
      ]
     },
     "execution_count": 21,
     "metadata": {},
     "output_type": "execute_result"
    }
   ],
   "source": [
    "y"
   ]
  },
  {
   "cell_type": "code",
   "execution_count": 22,
   "id": "344f6672",
   "metadata": {},
   "outputs": [],
   "source": [
    "z = arr # alias: zeigt auf dasselbe Objekt wie arr - ist auch eine View"
   ]
  },
  {
   "cell_type": "markdown",
   "id": "c9080a4f",
   "metadata": {},
   "source": [
    "### .base\n",
    "Jedes Numpy-Array besitzt ein Attribut `.base`, welches verrät, ob das Array selbst das Original ist, oder nicht."
   ]
  },
  {
   "cell_type": "code",
   "execution_count": 23,
   "id": "6df49aa2",
   "metadata": {},
   "outputs": [
    {
     "name": "stdout",
     "output_type": "stream",
     "text": [
      "None\n"
     ]
    }
   ],
   "source": [
    "print(arr.base) # arr: original - nicht abhängig von einem anderen Array"
   ]
  },
  {
   "cell_type": "code",
   "execution_count": 24,
   "id": "5e2c9b0a",
   "metadata": {},
   "outputs": [
    {
     "name": "stdout",
     "output_type": "stream",
     "text": [
      "None\n"
     ]
    }
   ],
   "source": [
    "print(x.base) # x: original - nicht abhängig von einem anderen Array"
   ]
  },
  {
   "cell_type": "code",
   "execution_count": 25,
   "id": "519c798c",
   "metadata": {},
   "outputs": [
    {
     "name": "stdout",
     "output_type": "stream",
     "text": [
      "[ 1  2  3  4 50]\n"
     ]
    }
   ],
   "source": [
    "print(y.base) # y: ist eine View von [ 1  2  3  4 50]"
   ]
  }
 ],
 "metadata": {
  "kernelspec": {
   "display_name": ".my_venv",
   "language": "python",
   "name": "python3"
  },
  "language_info": {
   "codemirror_mode": {
    "name": "ipython",
    "version": 3
   },
   "file_extension": ".py",
   "mimetype": "text/x-python",
   "name": "python",
   "nbconvert_exporter": "python",
   "pygments_lexer": "ipython3",
   "version": "3.12.6"
  },
  "nbTranslate": {
   "displayLangs": [
    "en",
    "de"
   ],
   "hotkey": "alt-t",
   "langInMainMenu": true,
   "sourceLang": "de",
   "targetLang": "en",
   "useGoogleTranslate": true
  }
 },
 "nbformat": 4,
 "nbformat_minor": 5
}
