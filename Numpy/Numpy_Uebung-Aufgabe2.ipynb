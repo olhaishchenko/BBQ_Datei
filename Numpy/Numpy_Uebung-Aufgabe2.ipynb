{
 "cells": [
  {
   "cell_type": "markdown",
   "metadata": {},
   "source": [
    "## Grundrechenarten\n",
    "Importieren sie die Bibliothek `numpy` unter dem Namen `np`"
   ]
  },
  {
   "cell_type": "code",
   "execution_count": 1,
   "metadata": {},
   "outputs": [],
   "source": [
    "import numpy as np"
   ]
  },
  {
   "cell_type": "markdown",
   "metadata": {},
   "source": [
    "### Eindimensional\n",
    "Gegeben sind zwei Arrays"
   ]
  },
  {
   "cell_type": "code",
   "execution_count": 5,
   "metadata": {},
   "outputs": [],
   "source": [
    "arr1 = np.array([1, 2, 3])\n",
    "arr2 = np.array([5, 6, 7])"
   ]
  },
  {
   "cell_type": "markdown",
   "metadata": {},
   "source": [
    "Bilden Sie die Summe, Differenz und das Produkt"
   ]
  },
  {
   "cell_type": "code",
   "execution_count": 6,
   "metadata": {},
   "outputs": [
    {
     "name": "stdout",
     "output_type": "stream",
     "text": [
      "[ 6  8 10]\n",
      "[-4 -4 -4]\n",
      "[ 5 12 21]\n"
     ]
    }
   ],
   "source": [
    "print(arr1+arr2)\n",
    "print(arr1-arr2)\n",
    "print(arr1*arr2)"
   ]
  },
  {
   "cell_type": "markdown",
   "metadata": {},
   "source": [
    "Was passiert, wenn Sie statt arr2, eine einzelne Zahl (num = 5) benutzen?"
   ]
  },
  {
   "cell_type": "code",
   "execution_count": 7,
   "metadata": {},
   "outputs": [
    {
     "name": "stdout",
     "output_type": "stream",
     "text": [
      "[6 7 8]\n",
      "[-4 -3 -2]\n",
      "[ 5 10 15]\n"
     ]
    }
   ],
   "source": [
    "print(arr1+5)\n",
    "print(arr1-5)\n",
    "print(arr1*5)"
   ]
  },
  {
   "cell_type": "markdown",
   "metadata": {},
   "source": [
    "### Zweidimensional\n",
    "Diesmal ist eine Matrix gegeben:"
   ]
  },
  {
   "cell_type": "code",
   "execution_count": 8,
   "metadata": {},
   "outputs": [],
   "source": [
    "arr_2d = np.array([[1, 2, 3],\n",
    "                   [4, 5, 6],\n",
    "                   [7, 8, 9]])"
   ]
  },
  {
   "cell_type": "markdown",
   "metadata": {},
   "source": [
    "Was passiert, wenn eine einzelne Zahl (num = 5) addieren?"
   ]
  },
  {
   "cell_type": "code",
   "execution_count": 9,
   "metadata": {},
   "outputs": [
    {
     "name": "stdout",
     "output_type": "stream",
     "text": [
      "[[ 6  7  8]\n",
      " [ 9 10 11]\n",
      " [12 13 14]]\n"
     ]
    }
   ],
   "source": [
    "print(arr_2d+5)"
   ]
  },
  {
   "cell_type": "markdown",
   "metadata": {},
   "source": [
    "Wie muss der Array aussehen, den man auf arr_2d addiert, damit das Ergebnis\n",
    "```py\n",
    "array([[ 2,  3,  4],\n",
    "       [ 6,  7,  8],\n",
    "       [10, 11, 12]])\n",
    "```       \n",
    "ist? \n"
   ]
  },
  {
   "cell_type": "code",
   "execution_count": 11,
   "metadata": {},
   "outputs": [
    {
     "name": "stdout",
     "output_type": "stream",
     "text": [
      "[[ 2  3  4]\n",
      " [ 6  7  8]\n",
      " [10 11 12]]\n"
     ]
    }
   ],
   "source": [
    "print(arr_2d+[[1],[2],[3]])"
   ]
  },
  {
   "cell_type": "markdown",
   "metadata": {},
   "source": [
    "Reshape\n",
    "Oft ist es hilfreich, die Elemente eines Arrays anders anzuordnen. So kann man z.B. aus einem eindimensionalen Array der Länge 15, einen zweidimensionalen Array mit der Shape (3, 5) machen (drei Zeilen, fünf Spalten)."
   ]
  },
  {
   "cell_type": "code",
   "execution_count": 12,
   "metadata": {},
   "outputs": [],
   "source": [
    "arr_1d = np.arange(15)\n",
    "arr_2d = arr_1d.reshape((3, 5))"
   ]
  },
  {
   "cell_type": "markdown",
   "metadata": {},
   "source": [
    "Machen Sie aus arr_2d einen Array mit\n",
    "\n",
    "- fünf Zeilen und drei Spalten!\n",
    "\n",
    "- fünfzehn Zeilen und einer Spalte\n",
    "\n",
    "- einer Zeile und fünfzehn Spalten\n",
    "\n",
    "- einen eindimensionalen Array"
   ]
  },
  {
   "cell_type": "code",
   "execution_count": 14,
   "metadata": {},
   "outputs": [
    {
     "name": "stdout",
     "output_type": "stream",
     "text": [
      "[[ 0  1  2]\n",
      " [ 3  4  5]\n",
      " [ 6  7  8]\n",
      " [ 9 10 11]\n",
      " [12 13 14]]\n",
      "[[ 0]\n",
      " [ 1]\n",
      " [ 2]\n",
      " [ 3]\n",
      " [ 4]\n",
      " [ 5]\n",
      " [ 6]\n",
      " [ 7]\n",
      " [ 8]\n",
      " [ 9]\n",
      " [10]\n",
      " [11]\n",
      " [12]\n",
      " [13]\n",
      " [14]]\n",
      "[[ 0  1  2  3  4  5  6  7  8  9 10 11 12 13 14]]\n",
      "[ 0  1  2  3  4  5  6  7  8  9 10 11 12 13 14]\n"
     ]
    }
   ],
   "source": [
    "arr_2d = arr_2d.reshape((5, 3))\n",
    "print(arr_2d)\n",
    "print(arr_2d.reshape((15, 1)))\n",
    "print(arr_2d.reshape((1, 15)))\n",
    "print(arr_2d.reshape(15))"
   ]
  },
  {
   "cell_type": "markdown",
   "metadata": {},
   "source": [
    "## Slicing\n",
    "### Eindimensional\n",
    "Gegeben ist ein Array aus zwanzig Elementen:"
   ]
  },
  {
   "cell_type": "code",
   "execution_count": 15,
   "metadata": {},
   "outputs": [],
   "source": [
    "arr = np.array(list(\"abcdefghiklmnopqrstuvwxyz\"))"
   ]
  },
  {
   "cell_type": "markdown",
   "metadata": {},
   "source": [
    "Lassen Sie sich die ersten 10 ausgeben (Die Syntax fürs Slicen ist wie bei Python-Listen)"
   ]
  },
  {
   "cell_type": "code",
   "execution_count": 16,
   "metadata": {},
   "outputs": [
    {
     "data": {
      "text/plain": [
       "array(['a', 'b', 'c', 'd', 'e', 'f', 'g', 'h', 'i', 'k'], dtype='<U1')"
      ]
     },
     "execution_count": 16,
     "metadata": {},
     "output_type": "execute_result"
    }
   ],
   "source": [
    "arr[:10]"
   ]
  },
  {
   "cell_type": "markdown",
   "metadata": {},
   "source": [
    "### Zweidimensional\n",
    "Diesmal ist ein zweidimensionaler Array mit vier Zeilen und fünf Spalten gegeben."
   ]
  },
  {
   "cell_type": "code",
   "execution_count": 18,
   "metadata": {},
   "outputs": [
    {
     "data": {
      "text/plain": [
       "array([['a', 'b', 'c', 'd', 'e'],\n",
       "       ['f', 'g', 'h', 'i', 'k'],\n",
       "       ['l', 'm', 'n', 'o', 'p'],\n",
       "       ['q', 'r', 's', 't', 'u']], dtype='<U1')"
      ]
     },
     "execution_count": 18,
     "metadata": {},
     "output_type": "execute_result"
    }
   ],
   "source": [
    "arr2d = arr[:20].reshape((4, 5))\n",
    "arr2d"
   ]
  },
  {
   "cell_type": "markdown",
   "metadata": {},
   "source": [
    "Man kann auch in zwei (oder mehr) Dimensionen slicen. Beispiel:\n",
    "\n",
    "```py\n",
    "print(arr2d[:2, :2])\n",
    "[['a' 'b']\n",
    " ['f' 'g']]\n",
    "``` \n",
    "Benutzen Sie Slicing, um\n",
    "\n",
    "a) die letzten drei Elemente der vorletzten Zeile auszugeben (\"n\", \"o\", \"p\")"
   ]
  },
  {
   "cell_type": "code",
   "execution_count": 19,
   "metadata": {},
   "outputs": [
    {
     "data": {
      "text/plain": [
       "array([['n', 'o', 'p']], dtype='<U1')"
      ]
     },
     "execution_count": 19,
     "metadata": {},
     "output_type": "execute_result"
    }
   ],
   "source": [
    "arr2d[2:3,2:]"
   ]
  },
  {
   "cell_type": "markdown",
   "metadata": {},
   "source": [
    "b) den Ausschnitt [[\"g\", \"h\"], [\"m\", \"n\"]] zu bekommen"
   ]
  },
  {
   "cell_type": "code",
   "execution_count": 20,
   "metadata": {},
   "outputs": [
    {
     "data": {
      "text/plain": [
       "array([['g', 'h'],\n",
       "       ['m', 'n']], dtype='<U1')"
      ]
     },
     "execution_count": 20,
     "metadata": {},
     "output_type": "execute_result"
    }
   ],
   "source": [
    "arr2d[1:3,1:3]"
   ]
  },
  {
   "cell_type": "markdown",
   "metadata": {},
   "source": [
    "#### Aufgabe (1)\n",
    "\n",
    "Schreibe ein Python-Programm (**ohne NumPy**), welches folgende Temperaturen (Celsius) in Fahrenheit umrechnet!\n",
    "```python\n",
    "cel = [20.1, 20.8, 21.9, 22.5, 22.7, 21.8, 21.3, 20.9, 20.1]\n",
    "```\n",
    "$Fahrenheit =(Celsius \\times \\frac{9}{5})+32$"
   ]
  },
  {
   "cell_type": "code",
   "execution_count": 21,
   "metadata": {},
   "outputs": [
    {
     "name": "stdout",
     "output_type": "stream",
     "text": [
      "[68.18, 69.44, 71.42, 72.5, 72.86, 71.24000000000001, 70.34, 69.62, 68.18]\n"
     ]
    }
   ],
   "source": [
    "cel = [20.1, 20.8, 21.9, 22.5, 22.7, 21.8, 21.3, 20.9, 20.1]\n",
    "fahrenheit = [i*9/5+32 for i in cel]\n",
    "print(fahrenheit)"
   ]
  },
  {
   "cell_type": "markdown",
   "metadata": {},
   "source": [
    "#### Aufgabe (2)\n",
    "\n",
    "Schreibe ein Python-Programm (**mit NumPy**), welches folgende Temperaturen (Celsius) in Fahrenheit umrechnet!\n",
    "```python\n",
    "cel = [20.1, 20.8, 21.9, 22.5, 22.7, 21.8, 21.3, 20.9, 20.1]\n",
    "```"
   ]
  },
  {
   "cell_type": "code",
   "execution_count": 22,
   "metadata": {},
   "outputs": [
    {
     "data": {
      "text/plain": [
       "array([68.18, 69.44, 71.42, 72.5 , 72.86, 71.24, 70.34, 69.62, 68.18])"
      ]
     },
     "execution_count": 22,
     "metadata": {},
     "output_type": "execute_result"
    }
   ],
   "source": [
    "cel_ar = np.array(cel)\n",
    "cel_ar * 9 / 5 + 32"
   ]
  },
  {
   "cell_type": "markdown",
   "metadata": {},
   "source": [
    "#### Aufgabe (3):\n",
    "Wie sieht die Ausgabe des folgenden Codes aus und warum?\n",
    "```python\n",
    "a = np.array([1, 2, 3, 4, 5])\n",
    "b = a[1:4]\n",
    "b[0] = 200\n",
    "print(a[1])\n",
    "```"
   ]
  },
  {
   "cell_type": "code",
   "execution_count": 3,
   "metadata": {},
   "outputs": [
    {
     "name": "stdout",
     "output_type": "stream",
     "text": [
      "200\n",
      "[  1 200   3   4   5]\n"
     ]
    }
   ],
   "source": [
    "a = np.array([1, 2, 3, 4, 5])\n",
    "b = a[1:4]\n",
    "b[0] = 200\n",
    "print(a[1])\n",
    "print(a)"
   ]
  },
  {
   "cell_type": "markdown",
   "metadata": {},
   "source": [
    "#### Aufgabe (4)\n",
    "\n",
    "  \n",
    "Schreibe zwei Python-Programme, welche jeweils eine Liste, und einen NumPy-Array aus hunderttausend ganzen Zahlen generieren. Diese Zahlen können gern durch Zufall generiert werden.\n",
    "\n",
    "Dann ermitlle die Größe der Liste und die Größe des Arrays.  \n",
    "Das ``sys``-Modul aus der Pythons Standardbibliothek verfügt über eine Funktion ``getsizeof``, um die Größe von Objekten zu berechnen.\n",
    "Wir müssen die Größe der Datenstruktur (z.B. der Liste) und die Größe der enthaltenen Elemente addieren !\n",
    "\n",
    "Zufallszahlen können mit Hilfe der Bibliothek `random` erzeugt werden, z.B. mit der Funktion `randomint(a,b)`. Diese erzeugt eine zufällige Ganzahl zwischen `a` und `b`.\n",
    "Numpy hat eine eigene `random` Funktionen, hier kann `np.random.randint(a, b, size=anzahl)` benutzt werden."
   ]
  },
  {
   "cell_type": "code",
   "execution_count": 2,
   "metadata": {},
   "outputs": [
    {
     "name": "stdout",
     "output_type": "stream",
     "text": [
      "int32\n",
      "400112\n",
      "800984\n",
      "56\n",
      "28\n"
     ]
    }
   ],
   "source": [
    "import sys\n",
    "import random as r\n",
    "a = np.random.randint(1, 100, size=100000)\n",
    "print(a.dtype)\n",
    "b = [r.randint(1, 100) for _ in range (100000)]\n",
    "print(sys.getsizeof(a))\n",
    "print(sys.getsizeof(b))\n",
    "c = []\n",
    "print(sys.getsizeof(c))\n",
    "\n",
    "print(sys.getsizeof(b[1]))\n",
    "\n"
   ]
  },
  {
   "cell_type": "code",
   "execution_count": 9,
   "metadata": {},
   "outputs": [
    {
     "data": {
      "text/plain": [
       "(140726595422648,\n",
       " 140726595422648,\n",
       " 140726595422648,\n",
       " 1896079563392,\n",
       " 1896079563392)"
      ]
     },
     "execution_count": 9,
     "metadata": {},
     "output_type": "execute_result"
    }
   ],
   "source": [
    "f=1\n",
    "g=[1,[1,2]]\n",
    "h=g\n",
    "id(f), id(g[0]),id(g[1][0]), id(g), id(h) "
   ]
  },
  {
   "cell_type": "code",
   "execution_count": 4,
   "metadata": {},
   "outputs": [
    {
     "name": "stdout",
     "output_type": "stream",
     "text": [
      "400112\n",
      "3600984\n",
      "56\n"
     ]
    }
   ],
   "source": [
    "import sys\n",
    "def deepgso(ob):\n",
    "    size = sys.getsizeof(ob)\n",
    "    if isinstance(ob, (list,tuple,set)):\n",
    "        for element in ob:\n",
    "            size+=deepgso(element)\n",
    "    if isinstance(ob, dict):\n",
    "        for k,v in ob.items():\n",
    "            size+=deepgso(k)\n",
    "            size+=deepgso(v)\n",
    "    return size\n",
    "# print(deepgso(a))\n",
    "print(deepgso(b))\n",
    "print(deepgso(c))"
   ]
  },
  {
   "cell_type": "code",
   "execution_count": 5,
   "metadata": {},
   "outputs": [
    {
     "data": {
      "text/plain": [
       "800984"
      ]
     },
     "execution_count": 5,
     "metadata": {},
     "output_type": "execute_result"
    }
   ],
   "source": [
    "\n",
    "3600984-100000*28\n"
   ]
  },
  {
   "cell_type": "markdown",
   "metadata": {},
   "source": [
    "#### Aufgabe (5)\n",
    "\n",
    "Erweitere die Programme aus Aufgabe (4), sodass die Zeitdauer bei Erstellung von Liste und Array separat berechnet werden können.  \n",
    "Das Modul ``time`` aus der Pythons Standardbibliothek verfügt über eine Funktion ``time``, welche den aktuellen Zeitpunkt als eine Kommazahl zurückliefert.  \n",
    "\n",
    "Vergleiche dann die Zeitdauer von zwei Programmen."
   ]
  },
  {
   "cell_type": "code",
   "execution_count": 34,
   "metadata": {},
   "outputs": [
    {
     "name": "stdout",
     "output_type": "stream",
     "text": [
      "Array:  1.0771751403808594\n",
      "List:  52.11305618286133\n"
     ]
    }
   ],
   "source": [
    "import numpy as np\n",
    "import time\n",
    "dt1 = time.time()\n",
    "a = np.random.randint(0, 15, size=100000)\n",
    "dt2 = time.time()\n",
    "print(\"Array: \", (dt2-dt1)*1000)\n",
    "dt3 = time.time()\n",
    "b = [r.randint(0, 15) for _ in range (100000)]\n",
    "dt4 = time.time()\n",
    "print(\"List: \", (dt4-dt3)*1000)"
   ]
  },
  {
   "cell_type": "code",
   "execution_count": 35,
   "metadata": {},
   "outputs": [
    {
     "name": "stdout",
     "output_type": "stream",
     "text": [
      "Für List\n",
      "47.7 ms ± 915 μs per loop (mean ± std. dev. of 7 runs, 10 loops each)\n",
      "für array\n",
      "498 μs ± 7.99 μs per loop (mean ± std. dev. of 7 runs, 1,000 loops each)\n"
     ]
    }
   ],
   "source": [
    "# Jupyter-Magic\n",
    "print(\"Für List\")\n",
    "%timeit random_list = [r.randint(0, 15) for _ in range (100000)]\n",
    "print(\"für array\")\n",
    "%timeit random_array = np.random.randint(0, 15, size=100000)"
   ]
  },
  {
   "cell_type": "code",
   "execution_count": 37,
   "metadata": {},
   "outputs": [
    {
     "name": "stdout",
     "output_type": "stream",
     "text": [
      "51.3 ms ± 7.78 ms per loop (mean ± std. dev. of 5 runs, 3 loops each)\n"
     ]
    }
   ],
   "source": [
    "%%timeit -r 5 -n 3 # -r: Anzahl der Wierderholung, -n: Anzahl der Schleifen pro Messung\n",
    "liste = []\n",
    "for _ in range(100000):\n",
    "    liste.append(r.randint(0, 15))"
   ]
  },
  {
   "cell_type": "code",
   "execution_count": 38,
   "metadata": {},
   "outputs": [
    {
     "name": "stdout",
     "output_type": "stream",
     "text": [
      "1.85 s ± 118 ms per loop (mean ± std. dev. of 5 runs, 3 loops each)\n"
     ]
    }
   ],
   "source": [
    "%%timeit -r 5 -n 3\n",
    "arr = np.array([])\n",
    "for _ in range(100000):\n",
    "    arr = np.append(arr, r.randint(0, 15))"
   ]
  }
 ],
 "metadata": {
  "kernelspec": {
   "display_name": ".my_venv",
   "language": "python",
   "name": "python3"
  },
  "language_info": {
   "codemirror_mode": {
    "name": "ipython",
    "version": 3
   },
   "file_extension": ".py",
   "mimetype": "text/x-python",
   "name": "python",
   "nbconvert_exporter": "python",
   "pygments_lexer": "ipython3",
   "version": "3.12.6"
  }
 },
 "nbformat": 4,
 "nbformat_minor": 2
}
