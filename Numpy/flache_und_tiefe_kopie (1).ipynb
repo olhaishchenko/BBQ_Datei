{
 "cells": [
  {
   "cell_type": "markdown",
   "id": "14799aac",
   "metadata": {},
   "source": [
    "# Flach vs. Tief"
   ]
  },
  {
   "cell_type": "markdown",
   "id": "ea1c6bea",
   "metadata": {},
   "source": [
    "Folgende Liste ist gegeben:"
   ]
  },
  {
   "cell_type": "code",
   "execution_count": 2,
   "id": "44449bec",
   "metadata": {},
   "outputs": [],
   "source": [
    "a = [10, 20, 30, [40, 50]]"
   ]
  },
  {
   "cell_type": "markdown",
   "id": "57204df6",
   "metadata": {},
   "source": [
    "Wir wollen aus dieser Liste eine Kopie erzeugen, mit dieser Kopie arbeiten, ohne dass die Originalliste verändert wird."
   ]
  },
  {
   "cell_type": "code",
   "execution_count": 3,
   "id": "1d289034",
   "metadata": {},
   "outputs": [
    {
     "name": "stdout",
     "output_type": "stream",
     "text": [
      "Help on method_descriptor:\n",
      "\n",
      "copy(self, /) unbound builtins.list method\n",
      "    Return a shallow copy of the list.\n",
      "\n"
     ]
    }
   ],
   "source": [
    "help(list.copy)"
   ]
  },
  {
   "cell_type": "code",
   "execution_count": 4,
   "id": "76e5cb81",
   "metadata": {},
   "outputs": [],
   "source": [
    "b = a.copy()"
   ]
  },
  {
   "cell_type": "code",
   "execution_count": 5,
   "id": "25faf424",
   "metadata": {},
   "outputs": [
    {
     "data": {
      "text/plain": [
       "[10, 20, 30, [40, 50]]"
      ]
     },
     "execution_count": 5,
     "metadata": {},
     "output_type": "execute_result"
    }
   ],
   "source": [
    "b"
   ]
  },
  {
   "cell_type": "code",
   "execution_count": 6,
   "id": "2dd34be4",
   "metadata": {},
   "outputs": [
    {
     "data": {
      "text/plain": [
       "False"
      ]
     },
     "execution_count": 6,
     "metadata": {},
     "output_type": "execute_result"
    }
   ],
   "source": [
    "a is b # zwei unabhängige Objekte"
   ]
  },
  {
   "cell_type": "code",
   "execution_count": 7,
   "id": "bb9257d3",
   "metadata": {},
   "outputs": [],
   "source": [
    "b.append(100) # wir tragen 100 in Liste b ein"
   ]
  },
  {
   "cell_type": "code",
   "execution_count": 8,
   "id": "ba2fb9a9",
   "metadata": {},
   "outputs": [
    {
     "data": {
      "text/plain": [
       "[10, 20, 30, [40, 50], 100]"
      ]
     },
     "execution_count": 8,
     "metadata": {},
     "output_type": "execute_result"
    }
   ],
   "source": [
    "b # die Kopieliste hat jetzt ein neues Element 100"
   ]
  },
  {
   "cell_type": "code",
   "execution_count": 9,
   "id": "57406595",
   "metadata": {},
   "outputs": [
    {
     "data": {
      "text/plain": [
       "[10, 20, 30, [40, 50]]"
      ]
     },
     "execution_count": 9,
     "metadata": {},
     "output_type": "execute_result"
    }
   ],
   "source": [
    "a # die ursprüngliche Liste hat sich nicht verändert"
   ]
  },
  {
   "cell_type": "code",
   "execution_count": 10,
   "id": "779cb18d",
   "metadata": {},
   "outputs": [
    {
     "data": {
      "text/plain": [
       "[40, 50]"
      ]
     },
     "execution_count": 10,
     "metadata": {},
     "output_type": "execute_result"
    }
   ],
   "source": [
    "# das Element mit Index 3 in Liste b, ist selbst eine Liste\n",
    "b[3]"
   ]
  },
  {
   "cell_type": "code",
   "execution_count": 11,
   "id": "61c71c58",
   "metadata": {},
   "outputs": [],
   "source": [
    "# wir können da ein neues Element eintragen\n",
    "b[3].append(90)"
   ]
  },
  {
   "cell_type": "code",
   "execution_count": 12,
   "id": "0f60de25",
   "metadata": {},
   "outputs": [
    {
     "data": {
      "text/plain": [
       "[10, 20, 30, [40, 50, 90], 100]"
      ]
     },
     "execution_count": 12,
     "metadata": {},
     "output_type": "execute_result"
    }
   ],
   "source": [
    "b # die Liste b[3] hat jetzt ein neues Element"
   ]
  },
  {
   "cell_type": "code",
   "execution_count": 13,
   "id": "fd424a84",
   "metadata": {},
   "outputs": [
    {
     "data": {
      "text/plain": [
       "[10, 20, 30, [40, 50, 90]]"
      ]
     },
     "execution_count": 13,
     "metadata": {},
     "output_type": "execute_result"
    }
   ],
   "source": [
    "a # die Liste innerhalb der ursprünglichen Liste hat es jetzt auch!"
   ]
  },
  {
   "cell_type": "markdown",
   "id": "d9496868",
   "metadata": {},
   "source": [
    "Die Liste `b` und `a` sind zwei unterschiedliche Objekte:"
   ]
  },
  {
   "cell_type": "code",
   "execution_count": null,
   "id": "faada1e8",
   "metadata": {},
   "outputs": [],
   "source": [
    "id(a) == id(b)"
   ]
  },
  {
   "cell_type": "code",
   "execution_count": null,
   "id": "161bd28a",
   "metadata": {},
   "outputs": [],
   "source": [
    "a is b"
   ]
  },
  {
   "cell_type": "markdown",
   "id": "719c5cbd",
   "metadata": {},
   "source": [
    "In der Liste `a` gibt es trotzdem eine Liste, die selbst in Speicher eine eigene Adresse besitzt.\n",
    "Diese Adresse verändert sich aber nicht, wenn man eine _flache_ Kopie aus der Liste `a` erzeugt!"
   ]
  },
  {
   "cell_type": "code",
   "execution_count": 14,
   "id": "a944f501",
   "metadata": {},
   "outputs": [
    {
     "data": {
      "text/plain": [
       "[10, 20, 30, [40, 50, 90]]"
      ]
     },
     "execution_count": 14,
     "metadata": {},
     "output_type": "execute_result"
    }
   ],
   "source": [
    "a"
   ]
  },
  {
   "cell_type": "code",
   "execution_count": 15,
   "id": "6f7c8bd6",
   "metadata": {},
   "outputs": [
    {
     "data": {
      "text/plain": [
       "[40, 50, 90]"
      ]
     },
     "execution_count": 15,
     "metadata": {},
     "output_type": "execute_result"
    }
   ],
   "source": [
    "a[3]"
   ]
  },
  {
   "cell_type": "code",
   "execution_count": 16,
   "id": "e4c9151d",
   "metadata": {},
   "outputs": [
    {
     "data": {
      "text/plain": [
       "2959285087040"
      ]
     },
     "execution_count": 16,
     "metadata": {},
     "output_type": "execute_result"
    }
   ],
   "source": [
    "id(a[3])"
   ]
  },
  {
   "cell_type": "code",
   "execution_count": 17,
   "id": "df04c995",
   "metadata": {},
   "outputs": [
    {
     "data": {
      "text/plain": [
       "2959285087040"
      ]
     },
     "execution_count": 17,
     "metadata": {},
     "output_type": "execute_result"
    }
   ],
   "source": [
    "id(b[3])"
   ]
  },
  {
   "cell_type": "code",
   "execution_count": 18,
   "id": "be6f39f4",
   "metadata": {},
   "outputs": [
    {
     "data": {
      "text/plain": [
       "True"
      ]
     },
     "execution_count": 18,
     "metadata": {},
     "output_type": "execute_result"
    }
   ],
   "source": [
    "id(a[3]) == id(b[3])"
   ]
  },
  {
   "cell_type": "markdown",
   "id": "46c2884f",
   "metadata": {},
   "source": [
    "Das heißt, die kleine Liste in `a` lebt weiterhin in Liste `b`."
   ]
  },
  {
   "cell_type": "code",
   "execution_count": 19,
   "id": "ac93398a",
   "metadata": {},
   "outputs": [],
   "source": [
    "x = ['apfel', 'banane', [10, 20]]"
   ]
  },
  {
   "cell_type": "markdown",
   "id": "eb17ef3a",
   "metadata": {},
   "source": [
    "Damit die Originalliste _wirklich_ unverändert beleibt, müssen wir eine tiefe Kopie erzeugen.  Dazu müssen wir eine Funktion `deepcopy()` aus dem Modul `copy` aus der Standardbibliothek importieren:"
   ]
  },
  {
   "cell_type": "code",
   "execution_count": 20,
   "id": "03df94cd",
   "metadata": {},
   "outputs": [],
   "source": [
    "from copy import deepcopy\n",
    "y = deepcopy(x)"
   ]
  },
  {
   "cell_type": "code",
   "execution_count": 21,
   "id": "4b57cd90",
   "metadata": {},
   "outputs": [
    {
     "data": {
      "text/plain": [
       "False"
      ]
     },
     "execution_count": 21,
     "metadata": {},
     "output_type": "execute_result"
    }
   ],
   "source": [
    "x is y # unterschiedliche Objekte"
   ]
  },
  {
   "cell_type": "code",
   "execution_count": 22,
   "id": "3852db77",
   "metadata": {},
   "outputs": [
    {
     "data": {
      "text/plain": [
       "['apfel', 'banane', [10, 20]]"
      ]
     },
     "execution_count": 22,
     "metadata": {},
     "output_type": "execute_result"
    }
   ],
   "source": [
    "x"
   ]
  },
  {
   "cell_type": "code",
   "execution_count": 23,
   "id": "2780e77c",
   "metadata": {},
   "outputs": [
    {
     "data": {
      "text/plain": [
       "['apfel', 'banane', [10, 20]]"
      ]
     },
     "execution_count": 23,
     "metadata": {},
     "output_type": "execute_result"
    }
   ],
   "source": [
    "y"
   ]
  },
  {
   "cell_type": "code",
   "execution_count": 24,
   "id": "ea0983e8",
   "metadata": {},
   "outputs": [
    {
     "data": {
      "text/plain": [
       "[10, 20]"
      ]
     },
     "execution_count": 24,
     "metadata": {},
     "output_type": "execute_result"
    }
   ],
   "source": [
    "y[2]"
   ]
  },
  {
   "cell_type": "code",
   "execution_count": 25,
   "id": "5c1827a8",
   "metadata": {},
   "outputs": [],
   "source": [
    "y[2].append(30)"
   ]
  },
  {
   "cell_type": "code",
   "execution_count": 26,
   "id": "9a29d042",
   "metadata": {},
   "outputs": [
    {
     "data": {
      "text/plain": [
       "['apfel', 'banane', [10, 20]]"
      ]
     },
     "execution_count": 26,
     "metadata": {},
     "output_type": "execute_result"
    }
   ],
   "source": [
    "x"
   ]
  },
  {
   "cell_type": "code",
   "execution_count": 27,
   "id": "ebc49848",
   "metadata": {},
   "outputs": [
    {
     "data": {
      "text/plain": [
       "['apfel', 'banane', [10, 20, 30]]"
      ]
     },
     "execution_count": 27,
     "metadata": {},
     "output_type": "execute_result"
    }
   ],
   "source": [
    "y"
   ]
  }
 ],
 "metadata": {
  "kernelspec": {
   "display_name": ".my_venv",
   "language": "python",
   "name": "python3"
  },
  "language_info": {
   "codemirror_mode": {
    "name": "ipython",
    "version": 3
   },
   "file_extension": ".py",
   "mimetype": "text/x-python",
   "name": "python",
   "nbconvert_exporter": "python",
   "pygments_lexer": "ipython3",
   "version": "3.12.6"
  },
  "nbTranslate": {
   "displayLangs": [
    "en",
    "de"
   ],
   "hotkey": "alt-t",
   "langInMainMenu": true,
   "sourceLang": "de",
   "targetLang": "en",
   "useGoogleTranslate": true
  }
 },
 "nbformat": 4,
 "nbformat_minor": 5
}
