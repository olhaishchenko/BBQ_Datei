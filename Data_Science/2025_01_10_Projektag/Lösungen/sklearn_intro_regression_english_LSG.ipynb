{
 "cells": [
  {
   "cell_type": "markdown",
   "metadata": {
    "deletable": false,
    "dst-cell-id": "3f5d7a17-b872-48a2-a00c-93597be9120e",
    "editable": false,
    "run_control": {
     "frozen": true
    }
   },
   "source": [
    "# Introduction\n",
    "\n",
    ">This notebook introduces the concepts of Machine Learning and more particularly linear regression, in order to show to what extent Python is a programming language adapted to machine learning problems. All these concepts will be presented in more detail and put into practice in the modules dedicated to Machine Learning.\n",
    ">\n",
    "> Machine Learning is a sub-field of Artificial Intelligence, which gives the computer the ability to learn to automatically perform tasks from data. When the task to be performed is the prediction of a variable, we speak of supervised learning.\n",
    ">\n",
    "> Linear regression is one of the first supervised learning predictive models to have been studied. This model makes it possible to predict a quantitative variable. Today it is the most popular model for practical applications thanks to its simplicity.\n",
    ">\n",
    "> In the linear regression model, we have $y$ the quantitative variable to predict (called target variable) and explanatory variables allowing the prediction.\n",
    "\n",
    "### Univariate Linear Regression\n",
    "\n",
    "> In the univariate linear model, we work with two variables: $y$ is known as the **target** variable, and $x$ is referred to as the **explanatory variable**. Linear regression involves modeling the relationship between these two variables using an **affine function**. Therefore, the formula for the univariate linear model is expressed as:\n",
    ">\n",
    ">$$y \\approx \\beta_1 x + \\beta_0 $$\n",
    ">\n",
    ">Here:\n",
    ">- $y$ represents the variable we aim to predict.\n",
    ">- $x$ stands for the explanatory variable.\n",
    ">- $\\beta_1$ and $\\beta_0$ denote the parameters of the affine function. $\\beta_1$ determines the **slope**, while $\\beta_0$ determines the >**y-intercept** (also known as the **bias**).\n",
    ">\n",
    ">**The objective of linear regression is to find the optimal values of $\\beta_0$ and $\\beta_1$ for predicting the variable $y$ based on a given value of $x$**."
   ]
  },
  {
   "cell_type": "markdown",
   "metadata": {
    "deletable": false,
    "dst-cell-id": "353125fe-6daf-4619-bb37-8acd18713358",
    "editable": false,
    "run_control": {
     "frozen": true
    }
   },
   "source": [
    "### Multivariate Linear Regression\n",
    "\n",
    "\n",
    "> Multivariate linear regression involves establishing a linear relationship between a target variable $y$ and **multiple explanatory variables** $x_1$, $x_2$, ..., $x_p$, commonly referred to as *features*:\n",
    ">\n",
    "> $$\n",
    "\\begin{align}\n",
    "    y & \\approx β_0 + β_1 x_1 + β_2 x_2 + ⋯ + β_p x_p \\\\\n",
    "      & \\approx β_0+ \\sum_{j=1}^{p} β_j x_j \n",
    "\\end{align}\n",
    "$$\n",
    ">\n",
    "> There are now $p + 1$ parameters $\\beta_j$ to find.\n",
    "\n",
    "\n",
    "# 1. Utilizing scikit-learn for Linear Regression\n",
    "\n",
    "In this section, we will explore how to employ the **`scikit-learn`** library to solve a Machine Learning problem using Linear Regression.\n",
    "\n",
    "Throughout the upcoming exercises, our objective will be to predict the **selling price of cars** based on their **characteristics**.\n",
    "\n",
    "### Importing the Dataset\n",
    "\n",
    "The dataset we will be working with contains a variety of attributes related to different cars from the year 1985.\n",
    "\n",
    "For simplicity, only numeric variables have been retained, and rows with missing values have been removed.\n",
    "\n",
    "* **(a)** Import the `pandas` module and assign it an alias `pd`.\n",
    "\n",
    "* **(b)** Load the `automobiles.csv` dataset into a `DataFrame` named `df` using the `read_csv` function from `pandas`. The file is located in the same directory as the notebook runtime environment.\n",
    "\n",
    "* **(c)** Display the first 5 rows of the `df` DataFrame to verify a successful import.\n"
   ]
  },
  {
   "cell_type": "code",
   "execution_count": null,
   "metadata": {
    "dst-cell-id": "e88608cf-12e6-44de-a0b8-5e198ac265ed"
   },
   "outputs": [],
   "source": [
    "import pandas as pd\n",
    "df = pd.read_csv('automobiles.csv')\n",
    "df.head()"
   ]
  },
  {
   "cell_type": "markdown",
   "metadata": {
    "deletable": false,
    "dst-cell-id": "b8ec5853-1e24-4252-a1da-51ef0e8bcdcb",
    "editable": false,
    "run_control": {
     "frozen": true
    }
   },
   "source": [
    "* The `symboling` variable indicates the degree of risk in relation to the insurer, taking into account factors like the risk of accidents and breakdowns.\n",
    "\n",
    "* The `normalized_losses` variable represents the relative average annual cost of vehicle insurance. It's normalized based on cars of the same type (SUV, utility, sports, etc.).\n",
    "\n",
    "* The next 13 variables refer to technical specifications of the cars, including dimensions, engine displacement, horsepower, etc.\n",
    "\n",
    "* The final variable, `price`, denotes the selling price of the vehicle. This is the variable we aim to predict.\n",
    "\n",
    "\n",
    "### Separating Explanatory Variables from Target Variable\n",
    "\n",
    "> We will now create two separate `DataFrames` - one containing the explanatory variables and the other containing the target variable `price`.\n",
    "\n",
    "* **(d)** Create a `DataFrame` named `X` by copying all the explanatory variables from our dataset, excluding `price`.\n",
    "\n",
    "* **(e)** Create a `DataFrame` named `y` by copying the target variable `price`.\n"
   ]
  },
  {
   "cell_type": "code",
   "execution_count": null,
   "metadata": {
    "dst-cell-id": "b94ba02b-8dbd-447a-910c-592601f15f09"
   },
   "outputs": [],
   "source": [
    "# Explanatory variables\n",
    "X = df.drop(['price'], axis = 1)\n",
    "\n",
    "# Target variable\n",
    "y = df['price']"
   ]
  },
  {
   "cell_type": "markdown",
   "metadata": {
    "deletable": false,
    "dst-cell-id": "310e8863-1fdd-4a2e-97d9-0dd6a711d946",
    "editable": false,
    "run_control": {
     "frozen": true
    }
   },
   "source": [
    "### Splitting the Data into Training and Test Sets\n",
    "\n",
    "> We are now going to divide our dataset into two distinct sets: A **training** set and a **test** set. \n",
    ">\n",
    ">> - The training set is deployed to train the model, i.e., to determine the optimal $\\beta_0$, ..., $\\beta_p$ parameters for this dataset.\n",
    ">>\n",
    ">> - The test set is utilized to assess the trained model. This evaluation gauges its ability to make accurate predictions on data it has **never encountered** before.\n",
    "\n",
    "> The `train_test_split` function from the `model_selection` submodule of **`scikit-learn`** proves to be exceptionally useful for this task.\n",
    "\n",
    "* **(f)** Execute the following cell to import the `train_test_split` function.\n"
   ]
  },
  {
   "cell_type": "code",
   "execution_count": 5,
   "metadata": {
    "deletable": false,
    "dst-cell-id": "d5c31454-890f-46bf-a114-6d2799c672eb",
    "editable": false
   },
   "outputs": [],
   "source": [
    "from sklearn.model_selection import train_test_split"
   ]
  },
  {
   "cell_type": "markdown",
   "metadata": {
    "deletable": false,
    "dst-cell-id": "af48e7b4-ad55-4538-bb7a-e676b91ac3ad",
    "editable": false,
    "run_control": {
     "frozen": true
    }
   },
   "source": [
    "> This function is used as follows:\n",
    ">\n",
    "> ```python\n",
    ">    X_train, X_test, y_train, y_test = train_test_split(X, y, test_size = 0.2, random_state = 42)\n",
    "> ```\n",
    ">\n",
    "> - `X_train` and` y_train` represent the explanatory and target variables of the **training** dataset.\n",
    ">\n",
    ">\n",
    "> - `X_test` and` y_test` signify the explanatory and target variables of the **test** dataset.\n",
    ">\n",
    ">\n",
    "> - The `test_size` parameter dictates the **proportion** of the dataset allocated for the test set. In the example above, this proportion is set to 20% of the initial dataset.\n",
    ">\n",
    ">\n",
    "> - The `random_state` argument ensures that the data splitting can be reproduced. Indeed, the operation being random, 2 successive cuts will in theory give 2 different results. As long as the value of `random_state` is the same (it doesn't matter what value it is), the result of the train_test_split function will remain the same.\n",
    "\n",
    "* **(g)** Using the `train_test_split` function, divide the dataset into a training set (`X_train`, `y_train`) and a test set (`X_test`, `y_test`) so that the test set encompasses **15% of the original dataset**. Precise the parameter `random_state = 42"
   ]
  },
  {
   "cell_type": "code",
   "execution_count": null,
   "metadata": {
    "dst-cell-id": "c1d85f38-1da8-4fbc-a91e-a55935a9f6dd"
   },
   "outputs": [],
   "source": [
    "# Splitting the dataset into a training set (85%) and a test set (15%)\n",
    "X_train, X_test, y_train, y_test = train_test_split(X, y, test_size=0.15, random_state = 42)"
   ]
  },
  {
   "cell_type": "markdown",
   "metadata": {
    "deletable": false,
    "dst-cell-id": "e1589a48-d74d-4c18-94f6-c6e1dac70187",
    "editable": false,
    "run_control": {
     "frozen": true
    }
   },
   "source": [
    "### Training the regression model\n",
    "\n",
    "> To train a linear regression model on this dataset, we will use the **`LinearRegression`** class contained in the `linear_model` submodule of `scikit-learn`.\n",
    "\n",
    "* **(h)** Execute the following cell to import the `LinearRegression` class."
   ]
  },
  {
   "cell_type": "code",
   "execution_count": 6,
   "metadata": {
    "deletable": false,
    "dst-cell-id": "b7675a86-b5fe-4f13-891f-901b08aacf9c",
    "editable": false
   },
   "outputs": [],
   "source": [
    "from sklearn.linear_model import LinearRegression"
   ]
  },
  {
   "cell_type": "markdown",
   "metadata": {
    "deletable": false,
    "dst-cell-id": "9e4b1b6f-f8fd-466b-b36e-e0429d30f9ef",
    "editable": false,
    "run_control": {
     "frozen": true
    }
   },
   "source": [
    "> The `scikit-learn` API makes it easy to train and evaluate models. All scikit-learn model classes have the following two methods:\n",
    ">\n",
    ">> * **`fit`**: Train the model on the dataset given as input.\n",
    ">>\n",
    ">>\n",
    ">> * **`predict`**: Make a prediction from a set of explanatory variables given as input.\n",
    ">\n",
    "> Below is an example of training a model with scikit-learn:\n",
    ">\n",
    ">\n",
    "> ```python\n",
    "> # Instantiation of the model\n",
    "> linreg = LinearRegression()\n",
    ">\n",
    "> # Training the model on the training set\n",
    "> linreg.fit(X_train, y_train)\n",
    ">\n",
    "> # Prediction of the target variable for the test dataset. These predictions are stored in y_pred.\n",
    "> y_pred = linreg.predict(X_test)\n",
    ">\n",
    "> ```\n",
    "\n",
    "\n",
    "* **(i)** Instantiate a `LinearRegression` model named **`lr`**.\n",
    "\n",
    "\n",
    "* **(j)** Train `lr` on the training dataset.\n",
    "\n",
    "\n",
    "* **(k)** Make a prediction on the training data. Store these predictions in `y_pred_train`.\n",
    "\n",
    "\n",
    "* **(l)** Make a prediction on the test data. Store these predictions in `y_pred_test`."
   ]
  },
  {
   "cell_type": "code",
   "execution_count": 17,
   "metadata": {
    "dst-cell-id": "80c5d9fb-72bf-4d19-b955-42ee74243028"
   },
   "outputs": [],
   "source": [
    "# Instantiation of the model\n",
    "lr = LinearRegression()\n",
    "\n",
    "# Training the model\n",
    "lr.fit(X_train, y_train)\n",
    "\n",
    "# Prediction of the target variable for the TRAIN dataset\n",
    "y_pred_train = lr.predict(X_train)\n",
    "\n",
    "# Prediction of the target variable for the TEST dataset\n",
    "y_pred_test = lr.predict(X_test)"
   ]
  },
  {
   "cell_type": "markdown",
   "metadata": {
    "deletable": false,
    "dst-cell-id": "d6482d76-d2de-4459-9370-16d9203f9dc9",
    "editable": false,
    "run_control": {
     "frozen": true
    }
   },
   "source": [
    "### Evaluating Model Performance\n",
    "\n",
    "> To assess the accuracy of the model's predictions, we have several predefined metrics available in the `scikit-learn` library. One commonly used metric for regression tasks is the Mean Squared Error (MSE). It is accessible through the `mean_squared_error` function in the `metrics` submodule of `scikit-learn`.\n",
    "> \n",
    "> The MSE is computed by averaging the squared differences between the predicted values obtained from the regression function and the actual target values.\n",
    ">\n",
    "> The `mean_squared_error` function of `scikit-learn` is used as follows:\n",
    ">\n",
    "> ```python\n",
    ">    mean_squared_error(y_true, y_pred)\n",
    "> ```\n",
    "> where:\n",
    ">\n",
    ">> * `y_true` contains the true values of the target variable.\n",
    ">> * `y_pred` contains the values **predicted** by our model for the same explanatory variables."
   ]
  },
  {
   "cell_type": "markdown",
   "metadata": {
    "deletable": false,
    "dst-cell-id": "9b27052a-8ccb-4969-9a51-de934672440c",
    "editable": false,
    "run_control": {
     "frozen": true
    }
   },
   "source": [
    "\n",
    "* **(m)** Import the **`mean_squared_error`** function from the `sklearn.metrics` submodule.\n",
    "\n",
    "\n",
    "* **(n)** Evaluate the prediction quality of the model on **training data**. Store the result in a variable named `mse_train`.\n",
    "\n",
    "\n",
    "* **(o)** Evaluate model prediction quality on **test data**. Store the result in a variable named `mse_test`.\n"
   ]
  },
  {
   "cell_type": "code",
   "execution_count": null,
   "metadata": {
    "dst-cell-id": "3a3baaee-3f73-4dfd-a062-e83fa9e207cb"
   },
   "outputs": [],
   "source": [
    "from sklearn.metrics import mean_squared_error\n",
    "\n",
    "# Calculation of the MSE between the target variable and the predictions made on the training dataset\n",
    "mse_train = mean_squared_error(y_train, y_pred_train)\n",
    "\n",
    "# Calculation of the MSE between the target variable and the predictions made on the test dataset\n",
    "mse_test = mean_squared_error(y_test, y_pred_test)\n",
    "\n",
    "print(\"MSE train lr:\", mse_train)\n",
    "print(\"MSE test lr:\", mse_test)"
   ]
  },
  {
   "cell_type": "markdown",
   "metadata": {
    "deletable": false,
    "dst-cell-id": "382dd2fb-af3a-4372-97fe-8b1c7b5bc6bc",
    "editable": false,
    "run_control": {
     "frozen": true
    }
   },
   "source": [
    ">The Mean Squared Error (MSE) you'll obtain is expected to be in the millions on the test data, which might be hard to interpret.\n",
    ">\n",
    ">To address this, we'll also utilize another metric called the **Mean Absolute Error** (MAE). This metric is on the same scale as the target variable, making it more easily interpretable.\n",
    ">\n",
    "* **(p)** Import the `mean_absolute_error` function from the `sklearn.metrics` submodule.\n",
    "\n",
    "* **(q)** Assess the prediction quality on both the test and training data using the mean absolute error.\n",
    "\n",
    "* **(r)** Calculate the average purchase price for all vehicles from the `DataFrame` `df`. Based on this, do you find the model's predictions to be reliable?\n"
   ]
  },
  {
   "cell_type": "code",
   "execution_count": null,
   "metadata": {
    "dst-cell-id": "f16ad0b7-b72f-46b7-87c9-9df7c77287b9"
   },
   "outputs": [],
   "source": [
    "from sklearn.metrics import mean_absolute_error\n",
    "\n",
    "# Calculation of the MAE between the target variable and the predictions made on the training dataset\n",
    "mae_train = mean_absolute_error(y_train, y_pred_train)\n",
    "\n",
    "# Calculation of the MAE between the target variable and the predictions made on the test dataset\n",
    "mae_test = mean_absolute_error(y_test, y_pred_test)\n",
    "\n",
    "print(\"MAE train lr:\", mae_train)\n",
    "print(\"MAE test lr:\", mae_test)\n",
    "\n",
    "mean_price = df['price'].mean()\n",
    "\n",
    "print(\"\\nRelative error\", mae_test / mean_price)\n",
    "\n",
    "# The mean absolute error is around 20% of the average price, which is not optimal\n",
    "# but is still a good baseline for testing more advanced models."
   ]
  },
  {
   "cell_type": "markdown",
   "metadata": {
    "deletable": false,
    "dst-cell-id": "d7bbe20d-cc64-4956-a012-b81c77bb4bb9",
    "editable": false,
    "run_control": {
     "frozen": true
    }
   },
   "source": [
    "# Conclusion and Recap\n",
    "\n",
    ">In this notebook, we introduced the resolution of a Machine Learning problem.\n",
    ">\n",
    "> The different stages that we studied are the classic stages of any project:\n",
    ">\n",
    "> * Data exploration with the `Pandas` library\n",
    ">\n",
    "> * Data preparation by separating the explanatory variables from the target variable\n",
    ">\n",
    "> * Separation of the dataset into two (a training set and a test set) using the `train_test_split` function from the `scikit-learn` library\n",
    ">\n",
    "> * Identification of the type of problem: here a regression\n",
    ">\n",
    "> * Instantiation of a model like `LinearRegression` with the `scikit-learn` library\n",
    ">\n",
    "> * Training the model on the training dataset using the `fit` method\n",
    ">\n",
    "> * Prediction on test data using the `predict` method\n",
    ">\n",
    "> * Evaluation of model performance by calculating the error between these predictions and the true values ​​of the target variable in the test data. The evaluation for a regression model is easily done using the `mean_squared_error` or `mean_absolute_error` functions of the `metrics` submodule of scikit-learn.\n",
    ">\n",
    "> In the next notebook, we will carry out the same steps but for the resolution of a classification Machine Learning problem."
   ]
  }
 ],
 "metadata": {
  "hide_input": false,
  "kernelspec": {
   "display_name": "Python 3",
   "language": "python",
   "name": "python3"
  },
  "language_info": {
   "codemirror_mode": {
    "name": "ipython",
    "version": 3
   },
   "file_extension": ".py",
   "mimetype": "text/x-python",
   "name": "python",
   "nbconvert_exporter": "python",
   "pygments_lexer": "ipython3",
   "version": "3.12.6"
  },
  "nbTranslate": {
   "displayLangs": [
    "*"
   ],
   "hotkey": "alt-t",
   "langInMainMenu": true,
   "sourceLang": "fr",
   "targetLang": "en",
   "useGoogleTranslate": true
  },
  "owner": "DataScientest"
 },
 "nbformat": 4,
 "nbformat_minor": 2
}
