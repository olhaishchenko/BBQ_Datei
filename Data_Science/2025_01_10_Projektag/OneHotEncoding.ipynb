{
 "cells": [
  {
   "cell_type": "markdown",
   "metadata": {},
   "source": [
    "# One-Hot-Encoding und Anwendung in der Regression\n",
    "\n",
    "## 1. Warum One-Hot-Encoding?\n",
    "\n",
    "Kategorische Daten bestehen aus Labels (z. B. `\"Rot\"`, `\"Blau\"`, `\"Grün\"`) und können nicht direkt in numerische Modelle eingegeben werden, da Maschinen diese Labels nicht interpretieren können. \n",
    "\n",
    "### Beispiel:\n",
    "Betrachten wir folgende Daten:\n",
    "\n",
    "| Farbe   | Preis (in €) |\n",
    "|---------|--------------|\n",
    "| Rot     | 100          |\n",
    "| Blau    | 200          |\n",
    "| Grün    | 150          |\n",
    "\n",
    "**Problem:**  \n",
    "Die Farbe beeinflusst den Preis, aber `\"Rot\"`, `\"Blau\"` und `\"Grün\"` sind keine Zahlen.\n",
    "\n",
    "**Achtung:**\n",
    "Wenn wir den Farben Zahlenwerte wie \"Rot\" = 1, \"Blau\" = 2, \"Grün\" = 3 zuweisen, könnte das Modell annehmen, dass es eine Reihenfolge oder einen numerischen Abstand zwischen diesen Kategorien gibt. Zum Beispiel könnte es fälschlicherweise interpretieren, dass \"Grün\" (3) mehr Einfluss auf den Preis hat als \"Blau\" (2), und dass der Unterschied zwischen \"Blau\" und \"Grün\" genauso groß ist wie der zwischen \"Rot\" und \"Blau\". Solche Annahmen sind jedoch bei kategorischen Daten oft nicht korrekt.\n",
    "\n",
    "**Lösung:**  \n",
    "One-Hot-Encoding löst dieses Problem, indem es jede Kategorie in eine eigene Binärspalte umwandelt. Dabei wird für eine Kategorie ein Wert von 1 gesetzt, während alle anderen Kategorien den Wert 0 erhalten.\n",
    "\n",
    "| Farbe_Rot | Farbe_Blau | Farbe_Grün | Preis (in €) |\n",
    "|-----|------|------|--------------|\n",
    "| 1   | 0    | 0    | 100          |\n",
    "| 0   | 1    | 0    | 200          |\n",
    "| 0   | 0    | 1    | 150          |\n",
    "\n",
    "## 2. Wie funktioniert One-Hot-Encoding in Python?"
   ]
  },
  {
   "cell_type": "code",
   "execution_count": 1,
   "metadata": {},
   "outputs": [
    {
     "name": "stdout",
     "output_type": "stream",
     "text": [
      "  Farbe  Preis\n",
      "0   Rot    105\n",
      "1   Rot    102\n",
      "2   Rot    108\n",
      "3  Blau    185\n",
      "4  Blau    205\n",
      "5  Blau    199\n",
      "6  Grün    152\n",
      "7  Grün    148\n",
      "8  Grün    146\n"
     ]
    }
   ],
   "source": [
    "import pandas as pd\n",
    "\n",
    "data = pd.DataFrame({\n",
    "    'Farbe': ['Rot', 'Rot', 'Rot', 'Blau', 'Blau', 'Blau', 'Grün', 'Grün', 'Grün'],\n",
    "    'Preis': [105, 102, 108, 185, 205, 199, 152, 148, 146]\n",
    "})\n",
    "print(data)"
   ]
  },
  {
   "cell_type": "markdown",
   "metadata": {},
   "source": [
    "One-Hot-Encoding der Spalte \"Farbe\""
   ]
  },
  {
   "cell_type": "code",
   "execution_count": 2,
   "metadata": {},
   "outputs": [
    {
     "name": "stdout",
     "output_type": "stream",
     "text": [
      "   Preis  Farbe_Blau  Farbe_Grün  Farbe_Rot\n",
      "0    105       False       False       True\n",
      "1    102       False       False       True\n",
      "2    108       False       False       True\n",
      "3    185        True       False      False\n",
      "4    205        True       False      False\n",
      "5    199        True       False      False\n",
      "6    152       False        True      False\n",
      "7    148       False        True      False\n",
      "8    146       False        True      False\n"
     ]
    }
   ],
   "source": [
    "data_encoded = pd.get_dummies(data, columns=['Farbe'])\n",
    "print(data_encoded)"
   ]
  },
  {
   "cell_type": "markdown",
   "metadata": {},
   "source": [
    "In Python entspricht der boolsche Wert `True` einer `1` , `False` einer 0 (`bool` ist in Python eine Unterklasse von `int`), <br>\n",
    "die Regression verwendet diese Daten wie folgt:"
   ]
  },
  {
   "cell_type": "code",
   "execution_count": 3,
   "metadata": {},
   "outputs": [
    {
     "name": "stdout",
     "output_type": "stream",
     "text": [
      "   Preis  Farbe_Blau  Farbe_Grün  Farbe_Rot\n",
      "0    105           0           0          1\n",
      "1    102           0           0          1\n",
      "2    108           0           0          1\n",
      "3    185           1           0          0\n",
      "4    205           1           0          0\n",
      "5    199           1           0          0\n",
      "6    152           0           1          0\n",
      "7    148           0           1          0\n",
      "8    146           0           1          0\n"
     ]
    }
   ],
   "source": [
    "print(data_encoded.astype(int))"
   ]
  },
  {
   "cell_type": "markdown",
   "metadata": {},
   "source": [
    "### Beispiel: Regression mit One-Hot-Encoded-Daten"
   ]
  },
  {
   "cell_type": "code",
   "execution_count": 4,
   "metadata": {},
   "outputs": [
    {
     "name": "stdout",
     "output_type": "stream",
     "text": [
      "Intercept: 150.0\n",
      "Coefficients: [ 46.33333333  -1.33333333 -45.        ]\n"
     ]
    }
   ],
   "source": [
    "# Zielvariable und Features festlegen\n",
    "X = data_encoded[['Farbe_Blau', 'Farbe_Grün', 'Farbe_Rot']]\n",
    "y = data_encoded['Preis']\n",
    "\n",
    "# Modell erstellen\n",
    "from sklearn.linear_model import LinearRegression\n",
    "\n",
    "model = LinearRegression()\n",
    "model.fit(X, y)\n",
    "\n",
    "# Koeffizienten und Intercept ausgeben\n",
    "print(\"Intercept:\", model.intercept_)\n",
    "print(\"Coefficients:\", model.coef_)\n"
   ]
  },
  {
   "cell_type": "markdown",
   "metadata": {},
   "source": [
    "**Interpretation:**<br>\n",
    "Regressionsgleichung für unser Beispiel:<br>\n",
    "$y = \\beta_0 + \\beta_1 \\times x_1 + \\beta_2 \\times x_2 + \\beta_3 \\times x_3$\n",
    "\n",
    "-   Der Basispreis $\\beta_0$ (Intercept) ist 150 €.\n",
    "-   Wenn die Farbe `Blau` ist ($\\beta_1 = 1, \\beta_2=0,\\beta_3=0$), erhöht sich der Basispreis um ca. 46,33 €.\n",
    "-   Wenn die Farbe `Grün` ist ($\\beta_1 = 0, \\beta_2=1,\\beta_3=0$), verringert sich der Basispreis um ca. -1,33 €.\n",
    "-   Wenn die Farbe `Rot` ist ($\\beta_1 = 0, \\beta_2=0,\\beta_3=1$), verringert sich der Basispreis um -45 €."
   ]
  },
  {
   "cell_type": "markdown",
   "metadata": {},
   "source": [
    "### Vorhersage mit unserem Modell erstellen\n",
    "Wenn wir eine Vorhersage für ein blaues Objekt erstellen wollen , müssen wir `[1, 0, 0]` verwenden. Genau so wie es in unserem umgewandelten (OneHotEncoded) DataFrame aussicht, wir verwenden `[0, 1, 0]` für Grün und `[0, 0, 1]` für Rot. "
   ]
  },
  {
   "cell_type": "code",
   "execution_count": 5,
   "metadata": {},
   "outputs": [
    {
     "name": "stderr",
     "output_type": "stream",
     "text": [
      "c:\\Users\\OlhaIshchenko\\Documents\\Daten_Analyse\\unterricht\\.my_venv\\Lib\\site-packages\\sklearn\\utils\\validation.py:2739: UserWarning: X does not have valid feature names, but LinearRegression was fitted with feature names\n",
      "  warnings.warn(\n"
     ]
    },
    {
     "data": {
      "text/plain": [
       "array([196.33333333, 148.66666667, 105.        ])"
      ]
     },
     "execution_count": 5,
     "metadata": {},
     "output_type": "execute_result"
    }
   ],
   "source": [
    "# Wir wollen die Vorhersage für den Preis für drei Farben erstellen, Blau, Grün und Rot.\n",
    "prediction_data = ([[1,0,0],[0,1,0],[0,0,1]]) \n",
    "model.predict(prediction_data)"
   ]
  },
  {
   "cell_type": "markdown",
   "metadata": {},
   "source": [
    "Diese Eingabe hat eine Warnung erzeugt, wir können auch so unsere Daten für die Vorhersage erzeugen"
   ]
  },
  {
   "cell_type": "code",
   "execution_count": 6,
   "metadata": {},
   "outputs": [
    {
     "name": "stdout",
     "output_type": "stream",
     "text": [
      "[196.33333333 148.66666667 105.        ]\n"
     ]
    }
   ],
   "source": [
    "prediction_data = pd.DataFrame({\n",
    "    'Farbe': ['Blau', 'Grün', 'Rot']\n",
    "})\n",
    "\n",
    "# Überprüfen ob unser Modell mit den Farben trainiert wurde\n",
    "if not prediction_data[\"Farbe\"].isin(data[\"Farbe\"]).all():\n",
    "    raise ValueError(\"prediction_data enthält unbekannte Farben\")\n",
    "\n",
    "# One-Hot-Encoding anwenden\n",
    "prediction_data_encoded = pd.get_dummies(prediction_data, columns=['Farbe'])\n",
    "\n",
    "# Spaltenreihenfolge gleich den Testdaten X (falls notwendig), fehlende Spalten auffüllen (falls notwendig)\n",
    "prediction_data_encoded = prediction_data_encoded.reindex(columns=X.columns, fill_value=0)\n",
    "\n",
    "# Vorhersage\n",
    "predictions = model.predict(prediction_data_encoded)\n",
    "print(predictions)"
   ]
  },
  {
   "cell_type": "markdown",
   "metadata": {},
   "source": [
    "# Aufgabe\n",
    "Erstelle ein Regressionsmodell mit folgenden Daten:\n",
    "\n",
    "```py\n",
    "categories = [\"A\", \"B\", \"C\", \"A\", \"C\", \"A\", \"B\", \"C\", \"A\", \"B\"] values = [5000, 7000, 6000, 5200, 6200, 4400, 6400, 5400, 5400, 7200]\n",
    "```\n",
    "\n",
    "1.  Wandle die Kategorien in One-Hot-Encoding um.\n",
    "2.  Trainiere ein lineares Regressionsmodell.\n",
    "3.  Interpretiere die Koeffizienten.\n",
    "4.  Erstelle eine Vorhersage für A, B und C\n",
    "\n",
    "Bei diesem Beispiel könnt ihr auf den test_train_split verzichten, in der Realität wird man das aber immer durchführen (da hat man auch hoffentlich mehr Daten zu verarbeiten)."
   ]
  },
  {
   "cell_type": "code",
   "execution_count": 7,
   "metadata": {},
   "outputs": [],
   "source": [
    "categories = [\"A\", \"B\", \"C\", \"A\", \"C\", \"A\", \"B\", \"C\", \"A\", \"B\"] \n",
    "values = [5000, 7000, 6000, 5200, 6200, 4400, 6400, 5400, 5400, 7200]\n",
    "data = pd.DataFrame({\n",
    "    'Categories': categories,\n",
    "    'Values': values\n",
    "})"
   ]
  },
  {
   "cell_type": "code",
   "execution_count": 8,
   "metadata": {},
   "outputs": [
    {
     "name": "stdout",
     "output_type": "stream",
     "text": [
      "   Values  Categories_A  Categories_B  Categories_C\n",
      "0    5000          True         False         False\n",
      "1    7000         False          True         False\n",
      "2    6000         False         False          True\n",
      "3    5200          True         False         False\n",
      "4    6200         False         False          True\n",
      "5    4400          True         False         False\n",
      "6    6400         False          True         False\n",
      "7    5400         False         False          True\n",
      "8    5400          True         False         False\n",
      "9    7200         False          True         False\n"
     ]
    }
   ],
   "source": [
    "data_encoded = pd.get_dummies(data, columns=['Categories'])\n",
    "print(data_encoded)"
   ]
  },
  {
   "cell_type": "code",
   "execution_count": 10,
   "metadata": {},
   "outputs": [
    {
     "name": "stdout",
     "output_type": "stream",
     "text": [
      "   Values  Categories_A  Categories_B  Categories_C\n",
      "0    5000             1             0             0\n",
      "1    7000             0             1             0\n",
      "2    6000             0             0             1\n",
      "3    5200             1             0             0\n",
      "4    6200             0             0             1\n",
      "5    4400             1             0             0\n",
      "6    6400             0             1             0\n",
      "7    5400             0             0             1\n",
      "8    5400             1             0             0\n",
      "9    7200             0             1             0\n"
     ]
    }
   ],
   "source": [
    "print(data_encoded.astype(int))"
   ]
  },
  {
   "cell_type": "code",
   "execution_count": 12,
   "metadata": {},
   "outputs": [
    {
     "name": "stdout",
     "output_type": "stream",
     "text": [
      "Intercept: 5911.111111111111\n",
      "Coefficients: [-911.11111111  955.55555556  -44.44444444]\n"
     ]
    }
   ],
   "source": [
    "# Zielvariable und Features festlegen\n",
    "X = data_encoded[data_encoded.columns[1:]]\n",
    "y = data_encoded['Values']\n",
    "\n",
    "# Modell erstellen und trainieren\n",
    "model = LinearRegression()\n",
    "model.fit(X, y)\n",
    "\n",
    "# Koeffizienten und Intercept ausgeben\n",
    "print(\"Intercept:\", model.intercept_)\n",
    "print(\"Coefficients:\", model.coef_)\n"
   ]
  },
  {
   "cell_type": "markdown",
   "metadata": {},
   "source": [
    "**Interpretation:**<br>\n",
    "Regressionsgleichung für unser Beispiel:<br>\n",
    "$y = \\beta_0 + \\beta_1 \\times x_1 + \\beta_2 \\times x_2 + \\beta_3 \\times x_3$\n",
    "\n",
    "-   Der Basiswert $\\beta_0$ (Intercept) ist 5911.\n",
    "-   Wenn die Kategorie `A` ist ($\\beta_1 = 1, \\beta_2=0,\\beta_3=0$), erhöht sich der Wert um ca.-911.\n",
    "-   Wenn die Kategorie `B` ist ($\\beta_1 = 0, \\beta_2=1,\\beta_3=0$), verringert sich der Wert um ca. -956.\n",
    "-   Wenn die Kategorie `C` ist ($\\beta_1 = 0, \\beta_2=0,\\beta_3=1$), verringert sich der Wert um -44."
   ]
  },
  {
   "cell_type": "code",
   "execution_count": 13,
   "metadata": {},
   "outputs": [
    {
     "name": "stdout",
     "output_type": "stream",
     "text": [
      "[5000.         6866.66666667 5866.66666667]\n"
     ]
    }
   ],
   "source": [
    "prediction_data = pd.DataFrame({\n",
    "    'Categories': ['A', 'B', 'C']\n",
    "})\n",
    "\n",
    "# Überprüfen ob unser Modell mit den Farben trainiert wurde\n",
    "if not prediction_data[\"Categories\"].isin(data[\"Categories\"]).all():\n",
    "    raise ValueError(\"prediction_data enthält unbekannte Kategorien\")\n",
    "\n",
    "# One-Hot-Encoding anwenden\n",
    "prediction_data_encoded = pd.get_dummies(prediction_data, columns=['Categories'])\n",
    "\n",
    "# Spaltenreihenfolge gleich den Testdaten X (falls notwendig), fehlende Spalten auffüllen (falls notwendig)\n",
    "prediction_data_encoded = prediction_data_encoded.reindex(columns=X.columns, fill_value=0)\n",
    "\n",
    "# Vorhersage\n",
    "predictions = model.predict(prediction_data_encoded)\n",
    "print(predictions)"
   ]
  }
 ],
 "metadata": {
  "kernelspec": {
   "display_name": ".my_venv",
   "language": "python",
   "name": "python3"
  },
  "language_info": {
   "codemirror_mode": {
    "name": "ipython",
    "version": 3
   },
   "file_extension": ".py",
   "mimetype": "text/x-python",
   "name": "python",
   "nbconvert_exporter": "python",
   "pygments_lexer": "ipython3",
   "version": "3.12.6"
  }
 },
 "nbformat": 4,
 "nbformat_minor": 2
}
