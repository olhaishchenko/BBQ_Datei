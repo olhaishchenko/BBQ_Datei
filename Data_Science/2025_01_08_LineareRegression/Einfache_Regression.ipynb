{
 "cells": [
  {
   "cell_type": "markdown",
   "id": "84d212ff",
   "metadata": {},
   "source": [
    "Drei wichtige Begriffe in KI:\n",
    "\n",
    "- **Regression**: eine kontinuierliche Zahl anhand gegebenen Features berechnen\n",
    "- Klassifikation: eine Kategorie zuordnen\n",
    "- Clustering: mögliche Kategorien erkennen"
   ]
  },
  {
   "cell_type": "markdown",
   "id": "c06ab062",
   "metadata": {},
   "source": [
    "##### Regressionsanalyse\n",
    "\n",
    "Bei der Regressionsanalyse geht es darum, anhand gegebenen nummerischen oder auch nicht nummerischen Daten eine _kontinuierliche Variable (eine Zahl)_ zu _berechnen_\n",
    "<img src=\"https://www.visitberlin.de/system/files/styles/visitberlin_teaser_search_visitberlin_xxl_1x/private/image/Taxis_iStock.com_Foto%20Maxiphoto_DL_PPT_0.jpg.webp?itok=ChYObdaD\" style=\"width:250px;\"/>\n",
    "\n",
    "### Taxi-Funktion\n",
    "\n",
    "Wir wollen eine Funktion definieren, die die Anzahl von Kilometern als Argument akzeptiert und am die Fahrtgebühren berechnet. Wenn wir in ein Taxi einsteigen, berechnet der Taxifahrer eine feste Einstiegsgebühr von 7.50 Euro. Jedes Kilometer dann kostet 0.75 Euro. Also wenn jemand 10 Kilometer fährt, dann bezahlt er 10 x 0.75 + 7.50 also 15.00 Euro (Steueranteile inklusiv)"
   ]
  },
  {
   "cell_type": "code",
   "execution_count": 2,
   "id": "28cb7461",
   "metadata": {},
   "outputs": [],
   "source": [
    "def taxi(k):\n",
    "    return k*0.75 + 7.50"
   ]
  },
  {
   "cell_type": "code",
   "execution_count": 3,
   "id": "efb4941e",
   "metadata": {},
   "outputs": [
    {
     "data": {
      "text/plain": [
       "15.0"
      ]
     },
     "execution_count": 3,
     "metadata": {},
     "output_type": "execute_result"
    }
   ],
   "source": [
    "# 10 Kilometerfahrt\n",
    "taxi(10)"
   ]
  },
  {
   "cell_type": "markdown",
   "id": "13973307",
   "metadata": {},
   "source": [
    "Wie man sieht, die Fahrtgebühren berechnet man anhand Kilometer (Anzahl von Kilometern mal 0.75) und addiert mit einem festen Wert (7.5)."
   ]
  },
  {
   "cell_type": "markdown",
   "id": "67eeef1c",
   "metadata": {},
   "source": [
    "#### Lineare Gleichung\n",
    "In Algebra nennt man diese Art Berechnung eine lineare Gleichung:\n",
    "```python\n",
    "    y = m * x  + n\n",
    "```\n",
    "In dieser Gleichung haben wir: \n",
    "- eine _abhängige Variable_ \"y\" - abhängig, weil \"y\"s Wert von \"x\", \"m\" und \"n\" abhängig berechnet wird. \n",
    "- eine _unabhängige Variable_ \"x\" - Anzahl der Kilometer kann _unabhängig_ sein\n",
    "- einen sogenannten _Koeffizienten_ (engl. coefficient) \"m\": auch _Gewichtung_ genannt\n",
    "- ein sogenanntes _Intercept_ (de. Schnittpunkt): fester Wert"
   ]
  },
  {
   "cell_type": "markdown",
   "id": "c1d67e3c",
   "metadata": {},
   "source": [
    "In unserem Beispiel für Taxigebühren (Fahrtgebühren):\n",
    "- Abhängige Variable: Fahrtkosten ('y')\n",
    "- Unabhängige Variable: Anzahl der Kilometer ('x')\n",
    "- Koeffizient: 0.75 Euro (Kilometerpreis) (m)\n",
    "- Schnittpunkt (Intercept): 7.50 Euro (n)"
   ]
  },
  {
   "cell_type": "markdown",
   "id": "03c4e1c6",
   "metadata": {},
   "source": [
    "In der Datenanalyse:\n",
    "\n",
    "- heißt die _abhängige Variable_ auch _target_ oder _label_\n",
    "- und die _unabhängige Variable_ auch _feature_ oder _attribute_"
   ]
  },
  {
   "cell_type": "markdown",
   "id": "4b1fee23",
   "metadata": {},
   "source": [
    "In der Regression muss oft der Wert eines Labels anhand gegebenen Features _eingeschätzt_ werden.  \n",
    "Diese Einschätzung ist in der Tat eine Berechnung, die in meisten Fällen nicht hundertprozent genau sein kann.  \n",
    "Das Ziel ist, anhand gegebenen Features den unbekannten _Koeffizienten_ und _Schnittpukt_ zu finden."
   ]
  },
  {
   "cell_type": "markdown",
   "id": "d31905b8",
   "metadata": {},
   "source": [
    "**Übung**  \n",
    "Wir haben einige Streckenlängen in einer Variable `strecken` gespeichert:\n",
    "```python\n",
    "strecken = [6, 7.3, 10, 8, 3.5, 4.5, 11, 9, 12] \n",
    "```\n",
    "Schreibe ein Programm, um die Fahrtgebühren für gegebenen Strecken in dieser Liste berechnet und diese in einer neuen Liste speichert."
   ]
  },
  {
   "cell_type": "code",
   "execution_count": 4,
   "id": "3ef60fc2",
   "metadata": {},
   "outputs": [
    {
     "data": {
      "text/plain": [
       "[12, 13, 15, 14, 11, 11, 16, 15, 17]"
      ]
     },
     "execution_count": 4,
     "metadata": {},
     "output_type": "execute_result"
    }
   ],
   "source": [
    "# um die Zahlen aufzurunden\n",
    "from math import ceil \n",
    "# Funktion\n",
    "def taxi(k):\n",
    "    return k*0.75 + 7.50\n",
    "# Gegebene Strecken in Km\n",
    "strecken = [6, 7.3, 10, 8, 3.5, 4.5, 11, 9, 12]\n",
    "# Fahrtkosten\n",
    "fahrtkosten = [ceil(taxi(strecke)) for strecke in strecken]\n",
    "# Ausgabe\n",
    "fahrtkosten"
   ]
  },
  {
   "cell_type": "markdown",
   "id": "74c0e85d",
   "metadata": {},
   "source": [
    "##### Tabellarische Darstellung von Daten\n",
    "wir können aus `strecken` und `fahrtkosten` ein Dataframe erstellen:"
   ]
  },
  {
   "cell_type": "code",
   "execution_count": 5,
   "id": "bfd2a6a7",
   "metadata": {},
   "outputs": [
    {
     "data": {
      "text/plain": [
       "[6, 7.3, 10, 8, 3.5, 4.5, 11, 9, 12]"
      ]
     },
     "execution_count": 5,
     "metadata": {},
     "output_type": "execute_result"
    }
   ],
   "source": [
    "strecken"
   ]
  },
  {
   "cell_type": "code",
   "execution_count": 6,
   "id": "07ec474a",
   "metadata": {},
   "outputs": [
    {
     "data": {
      "text/plain": [
       "[12, 13, 15, 14, 11, 11, 16, 15, 17]"
      ]
     },
     "execution_count": 6,
     "metadata": {},
     "output_type": "execute_result"
    }
   ],
   "source": [
    "fahrtkosten"
   ]
  },
  {
   "cell_type": "code",
   "execution_count": 7,
   "id": "742cd0c7",
   "metadata": {},
   "outputs": [
    {
     "data": {
      "text/html": [
       "<div>\n",
       "<style scoped>\n",
       "    .dataframe tbody tr th:only-of-type {\n",
       "        vertical-align: middle;\n",
       "    }\n",
       "\n",
       "    .dataframe tbody tr th {\n",
       "        vertical-align: top;\n",
       "    }\n",
       "\n",
       "    .dataframe thead th {\n",
       "        text-align: right;\n",
       "    }\n",
       "</style>\n",
       "<table border=\"1\" class=\"dataframe\">\n",
       "  <thead>\n",
       "    <tr style=\"text-align: right;\">\n",
       "      <th></th>\n",
       "      <th>strecke</th>\n",
       "      <th>fahrtkosten</th>\n",
       "    </tr>\n",
       "  </thead>\n",
       "  <tbody>\n",
       "    <tr>\n",
       "      <th>0</th>\n",
       "      <td>6.0</td>\n",
       "      <td>12</td>\n",
       "    </tr>\n",
       "    <tr>\n",
       "      <th>1</th>\n",
       "      <td>7.3</td>\n",
       "      <td>13</td>\n",
       "    </tr>\n",
       "    <tr>\n",
       "      <th>2</th>\n",
       "      <td>10.0</td>\n",
       "      <td>15</td>\n",
       "    </tr>\n",
       "    <tr>\n",
       "      <th>3</th>\n",
       "      <td>8.0</td>\n",
       "      <td>14</td>\n",
       "    </tr>\n",
       "    <tr>\n",
       "      <th>4</th>\n",
       "      <td>3.5</td>\n",
       "      <td>11</td>\n",
       "    </tr>\n",
       "    <tr>\n",
       "      <th>5</th>\n",
       "      <td>4.5</td>\n",
       "      <td>11</td>\n",
       "    </tr>\n",
       "    <tr>\n",
       "      <th>6</th>\n",
       "      <td>11.0</td>\n",
       "      <td>16</td>\n",
       "    </tr>\n",
       "    <tr>\n",
       "      <th>7</th>\n",
       "      <td>9.0</td>\n",
       "      <td>15</td>\n",
       "    </tr>\n",
       "    <tr>\n",
       "      <th>8</th>\n",
       "      <td>12.0</td>\n",
       "      <td>17</td>\n",
       "    </tr>\n",
       "  </tbody>\n",
       "</table>\n",
       "</div>"
      ],
      "text/plain": [
       "   strecke  fahrtkosten\n",
       "0      6.0           12\n",
       "1      7.3           13\n",
       "2     10.0           15\n",
       "3      8.0           14\n",
       "4      3.5           11\n",
       "5      4.5           11\n",
       "6     11.0           16\n",
       "7      9.0           15\n",
       "8     12.0           17"
      ]
     },
     "execution_count": 7,
     "metadata": {},
     "output_type": "execute_result"
    }
   ],
   "source": [
    "import pandas as pd\n",
    "# ein Dictionary aus Daten\n",
    "data = {'strecke':strecken,\n",
    "        'fahrtkosten':fahrtkosten}\n",
    "# mit Pandas ein Dataframe aus Daten\n",
    "df = pd.DataFrame(data)\n",
    "# Ausgabe\n",
    "df"
   ]
  },
  {
   "cell_type": "markdown",
   "id": "6b94d679",
   "metadata": {},
   "source": [
    "### Zusammenhänge verstehen\n",
    "\n",
    "Wir bereits kennen die Funktion `taxi()` und wir haben selbst die Fahrtkosten anhand Streckenlängen mit dieser Funktion berechnet. Was wäre wenn, jemand diese Funktion nicht kennt und trotzdem den Zusammenhang zwischen Streckenlänge und die Fahrtkosten nachvollziehen möchte?  \n",
    "\n",
    "Genauer gesagt, jemand möchte z.B. 20 Kilometer mit unserem Taxi fahren und möchte aber im Vorfeld und anhand der oben genannten Daten in Dataframe einschätzen, wie viel ungefähr diese Fahrt kosten würde. Wie geht man mit dieser Aufgabe um?"
   ]
  },
  {
   "cell_type": "markdown",
   "id": "77b78436",
   "metadata": {},
   "source": [
    "In diesem Beispiel haben wir mit einem typischen Problem der Regressionsanalyse bzw. -berechnung zu tun. Es geht dabei darum, wie aus den Zahlen in der Spalte 'strecke' die Zahlen in der Spalte 'fahrtkosten' zustande kommen."
   ]
  },
  {
   "cell_type": "markdown",
   "id": "5ddfca2f",
   "metadata": {},
   "source": [
    "##### Visualisierung\n",
    "Eine wichtige und effektive Technik in der Reggressionsalanyse ist eine einfache Datenvisualisierung."
   ]
  },
  {
   "cell_type": "code",
   "execution_count": 8,
   "id": "edd09776",
   "metadata": {},
   "outputs": [
    {
     "data": {
      "image/png": "[encoded data removed]",
      "text/plain": [
       "<Figure size 640x480 with 1 Axes>"
      ]
     },
     "metadata": {},
     "output_type": "display_data"
    }
   ],
   "source": [
    "import matplotlib.pyplot as plt\n",
    "%matplotlib inline\n",
    "\n",
    "plt.scatter(x='strecke',\n",
    "            y='fahrtkosten',\n",
    "            data=df)\n",
    "\n",
    "plt.ylim(min(fahrtkosten)-1,max(fahrtkosten)+1)\n",
    "plt.xlabel('Kilometer')\n",
    "plt.ylabel('Fahrtkosten')\n",
    "plt.title('Fahrtkosten je nach km')\n",
    "plt.show()"
   ]
  },
  {
   "cell_type": "markdown",
   "id": "30680daf",
   "metadata": {},
   "source": [
    "Dabei kann man versuchen, mit Hilfe einer _Gleichung_ ein grafisches Muster bilden, welches die Positionen der Datenpunkte auf dem Diagramm besser beschreiben kann."
   ]
  },
  {
   "cell_type": "code",
   "execution_count": 9,
   "id": "2e79c9c3",
   "metadata": {},
   "outputs": [
    {
     "data": {
      "image/png": "[encoded data removed]",
      "text/plain": [
       "<Figure size 640x480 with 1 Axes>"
      ]
     },
     "metadata": {},
     "output_type": "display_data"
    }
   ],
   "source": [
    "plt.scatter(x='strecke',\n",
    "            y='fahrtkosten',\n",
    "            data=df,\n",
    "            marker='D',\n",
    "            color='g')\n",
    "plt.plot(strecken, \n",
    "         [taxi(strecke) for strecke in strecken])\n",
    "plt.xlabel('Kilometer')\n",
    "plt.ylabel('Fahrtkosten')\n",
    "plt.title('Fahrtkosten je nach km')\n",
    "plt.ylim(min(fahrtkosten)-1,max(fahrtkosten)+1)\n",
    "plt.xlim(min(strecken),max(strecken))\n",
    "plt.show()"
   ]
  },
  {
   "cell_type": "markdown",
   "id": "96f5890e",
   "metadata": {},
   "source": [
    "Wir sehen dass viele von unseren Datenpunkte sehr nah an der blauen Gerade liegen.  \n",
    "Das bedeutet, dass die Gleichung, die diese Gerade beschreibt, auch die Positionen (Koordinate) von unseren Datenpunkten mit etwas _Abweichung_ beschreiben kann.  \n",
    "Hier können wir behaupten, dass die Fahrtkosten in einer gut bschreibbaren linearen Relation im Hinblick auf Kilometer-Anzahl stehen.  \n",
    "Die Frage ist jetzt, wie man diese Relation genauer und mathematisch herausfinden kann?"
   ]
  },
  {
   "cell_type": "markdown",
   "id": "516c3803",
   "metadata": {},
   "source": [
    "Unser Ziel in dieser Aufgabe ist, eine Gleichung zu finden, die Anhand Kilometer-Anzahl die Fahrtkosten berechnet. Diese Gleichung kann quasi so aussehen:\n",
    "\n",
    "``fahrtkosten = koef * kilometer + schnittpunkt``  \n",
    "oder anders gesagt:  \n",
    "``y = coefficient * x + intercept`` "
   ]
  },
  {
   "cell_type": "markdown",
   "id": "11868fbc",
   "metadata": {},
   "source": [
    "während der Schnittpunkt (intercept) den Treffpunkt der Gerade und der y-Achse darstellt."
   ]
  },
  {
   "cell_type": "markdown",
   "id": "b6183c48",
   "metadata": {},
   "source": [
    "### SciKit Learn\n",
    "\n",
    "- ist eine 3rd-Party-Bibliothek (nicht in Standard-Library von Python): muss installiert werden\n",
    "- enthält Algorithmen des maschnellen Lernens für Regressionsanalysen und viel mehr\n",
    "- Dokumentation und Beispiel findet man hier: https://scikit-learn.org/stable/"
   ]
  },
  {
   "cell_type": "markdown",
   "id": "0b3c9238",
   "metadata": {},
   "source": [
    "#### Installation"
   ]
  },
  {
   "cell_type": "code",
   "execution_count": 10,
   "id": "fe3715b5",
   "metadata": {},
   "outputs": [
    {
     "name": "stdout",
     "output_type": "stream",
     "text": [
      "Collecting scikit-learn\n",
      "  Downloading scikit_learn-1.6.0-cp312-cp312-win_amd64.whl.metadata (15 kB)\n",
      "Requirement already satisfied: numpy>=1.19.5 in c:\\users\\olhaishchenko\\documents\\daten_analyse\\unterricht\\.my_venv\\lib\\site-packages (from scikit-learn) (2.1.3)\n",
      "Requirement already satisfied: scipy>=1.6.0 in c:\\users\\olhaishchenko\\documents\\daten_analyse\\unterricht\\.my_venv\\lib\\site-packages (from scikit-learn) (1.14.1)\n",
      "Collecting joblib>=1.2.0 (from scikit-learn)\n",
      "  Downloading joblib-1.4.2-py3-none-any.whl.metadata (5.4 kB)\n",
      "Collecting threadpoolctl>=3.1.0 (from scikit-learn)\n",
      "  Downloading threadpoolctl-3.5.0-py3-none-any.whl.metadata (13 kB)\n",
      "Downloading scikit_learn-1.6.0-cp312-cp312-win_amd64.whl (11.1 MB)\n",
      "   ---------------------------------------- 0.0/11.1 MB ? eta -:--:--\n",
      "   ---------------------- ----------------- 6.3/11.1 MB 35.1 MB/s eta 0:00:01\n",
      "   ---------------------------------------- 11.1/11.1 MB 36.5 MB/s eta 0:00:00\n",
      "Downloading joblib-1.4.2-py3-none-any.whl (301 kB)\n",
      "Downloading threadpoolctl-3.5.0-py3-none-any.whl (18 kB)\n",
      "Installing collected packages: threadpoolctl, joblib, scikit-learn\n",
      "Successfully installed joblib-1.4.2 scikit-learn-1.6.0 threadpoolctl-3.5.0\n"
     ]
    }
   ],
   "source": [
    "!pip install scikit-learn"
   ]
  },
  {
   "cell_type": "markdown",
   "id": "96b81f12",
   "metadata": {},
   "source": [
    "#### Ablauf jeder Aufgabe in Maschinelles Lernen\n",
    "\n",
    "1. Wir erstellen ein Modell\n",
    "2. dann trainieren wir das Modell anhand existierenden Daten\n",
    "3. wir prüfen dann seine Lernfähigkeit und eventuell verbessern seine Leistung\n",
    "4. und schließlich setzen wir es ein, um eine Einschätzung zu machen."
   ]
  },
  {
   "cell_type": "markdown",
   "id": "c3165804",
   "metadata": {},
   "source": [
    "##### Scikit Learn importieren\n",
    "Für unsere aktuelle Aufgabe brauchen wir ein Modell aus der Klasse `LinearRegression`"
   ]
  },
  {
   "cell_type": "code",
   "execution_count": 11,
   "id": "748fb9ce",
   "metadata": {},
   "outputs": [],
   "source": [
    "# importiere die Klasse LinearRegression\n",
    "from sklearn.linear_model import LinearRegression"
   ]
  },
  {
   "cell_type": "markdown",
   "id": "8960ade1",
   "metadata": {},
   "source": [
    "Wir gehen gleich die vier Schritte von oben durch:\n",
    "\n",
    "1. Ein Modell erstellen\n",
    "Ein Objekt der Klasse `LinearRegression` erzeugen:"
   ]
  },
  {
   "cell_type": "code",
   "execution_count": 12,
   "id": "1dbabc95",
   "metadata": {},
   "outputs": [],
   "source": [
    "model = LinearRegression() # ein Objekt der Klasse LinearRegression erzeugen = ein Modell erstellen"
   ]
  },
  {
   "cell_type": "markdown",
   "id": "98d0789f",
   "metadata": {},
   "source": [
    "2. Modell trainieren\n",
    "Bevor wir unser Modell trainieren, müssen wir unsere Daten in _Trainig_ und _Testing_ sets aufspalten. Die Daten müssen natürlich dabei groß genug sein, damit man diese Einteilen kann. Wir erstellen selbst diese Daten:"
   ]
  },
  {
   "cell_type": "code",
   "execution_count": 13,
   "id": "05e6ec7e",
   "metadata": {},
   "outputs": [
    {
     "data": {
      "text/html": [
       "<div>\n",
       "<style scoped>\n",
       "    .dataframe tbody tr th:only-of-type {\n",
       "        vertical-align: middle;\n",
       "    }\n",
       "\n",
       "    .dataframe tbody tr th {\n",
       "        vertical-align: top;\n",
       "    }\n",
       "\n",
       "    .dataframe thead th {\n",
       "        text-align: right;\n",
       "    }\n",
       "</style>\n",
       "<table border=\"1\" class=\"dataframe\">\n",
       "  <thead>\n",
       "    <tr style=\"text-align: right;\">\n",
       "      <th></th>\n",
       "      <th>km</th>\n",
       "      <th>price</th>\n",
       "    </tr>\n",
       "  </thead>\n",
       "  <tbody>\n",
       "    <tr>\n",
       "      <th>0</th>\n",
       "      <td>56</td>\n",
       "      <td>49</td>\n",
       "    </tr>\n",
       "    <tr>\n",
       "      <th>1</th>\n",
       "      <td>97</td>\n",
       "      <td>80</td>\n",
       "    </tr>\n",
       "    <tr>\n",
       "      <th>2</th>\n",
       "      <td>19</td>\n",
       "      <td>21</td>\n",
       "    </tr>\n",
       "    <tr>\n",
       "      <th>3</th>\n",
       "      <td>76</td>\n",
       "      <td>64</td>\n",
       "    </tr>\n",
       "    <tr>\n",
       "      <th>4</th>\n",
       "      <td>65</td>\n",
       "      <td>56</td>\n",
       "    </tr>\n",
       "  </tbody>\n",
       "</table>\n",
       "</div>"
      ],
      "text/plain": [
       "   km  price\n",
       "0  56     49\n",
       "1  97     80\n",
       "2  19     21\n",
       "3  76     64\n",
       "4  65     56"
      ]
     },
     "execution_count": 13,
     "metadata": {},
     "output_type": "execute_result"
    }
   ],
   "source": [
    "import numpy as np\n",
    "np.random.seed(42)\n",
    "# 500 Zufall-Strecken zwischen 5 und 100 Kilometer \n",
    "km = np.random.randint(5, 100, 500)\n",
    "# Fahrtkosten als ganze Zahlen\n",
    "tm = (km * 0.75 + 7.5).astype(int)\n",
    "# Dataframe bilden\n",
    "data = {'km':km, 'price':tm}\n",
    "df = pd.DataFrame(data)\n",
    "# dataframe prüfen\n",
    "df.head()"
   ]
  },
  {
   "cell_type": "code",
   "execution_count": 14,
   "id": "8bb41da1",
   "metadata": {},
   "outputs": [
    {
     "data": {
      "text/plain": [
       "(500, 2)"
      ]
     },
     "execution_count": 14,
     "metadata": {},
     "output_type": "execute_result"
    }
   ],
   "source": [
    "# shape\n",
    "df.shape"
   ]
  },
  {
   "cell_type": "code",
   "execution_count": 15,
   "id": "aeca5068",
   "metadata": {},
   "outputs": [],
   "source": [
    "# die Funktion 'train_test_split' importieren\n",
    "from sklearn.model_selection import train_test_split"
   ]
  },
  {
   "cell_type": "code",
   "execution_count": 16,
   "id": "bc696580",
   "metadata": {},
   "outputs": [],
   "source": [
    "X = df[['km']].to_numpy() # Feature-Set. in diesem Beispiel nur ein einziges Feature"
   ]
  },
  {
   "cell_type": "code",
   "execution_count": 17,
   "id": "c93b89b6",
   "metadata": {},
   "outputs": [],
   "source": [
    "y = df['price'].to_numpy() # Target (Ziel)"
   ]
  },
  {
   "cell_type": "code",
   "execution_count": 19,
   "id": "21782b68",
   "metadata": {},
   "outputs": [],
   "source": [
    "# help(train_test_split)\n",
    "X_train, X_test, y_train, y_test = train_test_split(X, # ein 2-D Array aus den Features (unabhängigen Variablen)\n",
    "                                                    y, # ein 1-D Array: Target (das, was wir einschätzen wollen)\n",
    "                                                    test_size=0.25) # Wir testen das Modell mit 25% der Daten"
   ]
  },
  {
   "cell_type": "markdown",
   "id": "4e291a3b",
   "metadata": {},
   "source": [
    "Jetzt haben wir unser Lern- und Testdaten für unser Modell vorbereitet.  \n",
    "Nun muss das Modell trainiert werden. Das geht ganz einfach mit der Methode `.fit()`"
   ]
  },
  {
   "cell_type": "code",
   "execution_count": 20,
   "id": "1e4d395f",
   "metadata": {},
   "outputs": [
    {
     "data": {
      "text/html": [
       "<style>#sk-container-id-1 {\n",
       "  /* Definition of color scheme common for light and dark mode */\n",
       "  --sklearn-color-text: #000;\n",
       "  --sklearn-color-text-muted: #666;\n",
       "  --sklearn-color-line: gray;\n",
       "  /* Definition of color scheme for unfitted estimators */\n",
       "  --sklearn-color-unfitted-level-0: #fff5e6;\n",
       "  --sklearn-color-unfitted-level-1: #f6e4d2;\n",
       "  --sklearn-color-unfitted-level-2: #ffe0b3;\n",
       "  --sklearn-color-unfitted-level-3: chocolate;\n",
       "  /* Definition of color scheme for fitted estimators */\n",
       "  --sklearn-color-fitted-level-0: #f0f8ff;\n",
       "  --sklearn-color-fitted-level-1: #d4ebff;\n",
       "  --sklearn-color-fitted-level-2: #b3dbfd;\n",
       "  --sklearn-color-fitted-level-3: cornflowerblue;\n",
       "\n",
       "  /* Specific color for light theme */\n",
       "  --sklearn-color-text-on-default-background: var(--sg-text-color, var(--theme-code-foreground, var(--jp-content-font-color1, black)));\n",
       "  --sklearn-color-background: var(--sg-background-color, var(--theme-background, var(--jp-layout-color0, white)));\n",
       "  --sklearn-color-border-box: var(--sg-text-color, var(--theme-code-foreground, var(--jp-content-font-color1, black)));\n",
       "  --sklearn-color-icon: #696969;\n",
       "\n",
       "  @media (prefers-color-scheme: dark) {\n",
       "    /* Redefinition of color scheme for dark theme */\n",
       "    --sklearn-color-text-on-default-background: var(--sg-text-color, var(--theme-code-foreground, var(--jp-content-font-color1, white)));\n",
       "    --sklearn-color-background: var(--sg-background-color, var(--theme-background, var(--jp-layout-color0, #111)));\n",
       "    --sklearn-color-border-box: var(--sg-text-color, var(--theme-code-foreground, var(--jp-content-font-color1, white)));\n",
       "    --sklearn-color-icon: #878787;\n",
       "  }\n",
       "}\n",
       "\n",
       "#sk-container-id-1 {\n",
       "  color: var(--sklearn-color-text);\n",
       "}\n",
       "\n",
       "#sk-container-id-1 pre {\n",
       "  padding: 0;\n",
       "}\n",
       "\n",
       "#sk-container-id-1 input.sk-hidden--visually {\n",
       "  border: 0;\n",
       "  clip: rect(1px 1px 1px 1px);\n",
       "  clip: rect(1px, 1px, 1px, 1px);\n",
       "  height: 1px;\n",
       "  margin: -1px;\n",
       "  overflow: hidden;\n",
       "  padding: 0;\n",
       "  position: absolute;\n",
       "  width: 1px;\n",
       "}\n",
       "\n",
       "#sk-container-id-1 div.sk-dashed-wrapped {\n",
       "  border: 1px dashed var(--sklearn-color-line);\n",
       "  margin: 0 0.4em 0.5em 0.4em;\n",
       "  box-sizing: border-box;\n",
       "  padding-bottom: 0.4em;\n",
       "  background-color: var(--sklearn-color-background);\n",
       "}\n",
       "\n",
       "#sk-container-id-1 div.sk-container {\n",
       "  /* jupyter's `normalize.less` sets `[hidden] { display: none; }`\n",
       "     but bootstrap.min.css set `[hidden] { display: none !important; }`\n",
       "     so we also need the `!important` here to be able to override the\n",
       "     default hidden behavior on the sphinx rendered scikit-learn.org.\n",
       "     See: https://github.com/scikit-learn/scikit-learn/issues/21755 */\n",
       "  display: inline-block !important;\n",
       "  position: relative;\n",
       "}\n",
       "\n",
       "#sk-container-id-1 div.sk-text-repr-fallback {\n",
       "  display: none;\n",
       "}\n",
       "\n",
       "div.sk-parallel-item,\n",
       "div.sk-serial,\n",
       "div.sk-item {\n",
       "  /* draw centered vertical line to link estimators */\n",
       "  background-image: linear-gradient(var(--sklearn-color-text-on-default-background), var(--sklearn-color-text-on-default-background));\n",
       "  background-size: 2px 100%;\n",
       "  background-repeat: no-repeat;\n",
       "  background-position: center center;\n",
       "}\n",
       "\n",
       "/* Parallel-specific style estimator block */\n",
       "\n",
       "#sk-container-id-1 div.sk-parallel-item::after {\n",
       "  content: \"\";\n",
       "  width: 100%;\n",
       "  border-bottom: 2px solid var(--sklearn-color-text-on-default-background);\n",
       "  flex-grow: 1;\n",
       "}\n",
       "\n",
       "#sk-container-id-1 div.sk-parallel {\n",
       "  display: flex;\n",
       "  align-items: stretch;\n",
       "  justify-content: center;\n",
       "  background-color: var(--sklearn-color-background);\n",
       "  position: relative;\n",
       "}\n",
       "\n",
       "#sk-container-id-1 div.sk-parallel-item {\n",
       "  display: flex;\n",
       "  flex-direction: column;\n",
       "}\n",
       "\n",
       "#sk-container-id-1 div.sk-parallel-item:first-child::after {\n",
       "  align-self: flex-end;\n",
       "  width: 50%;\n",
       "}\n",
       "\n",
       "#sk-container-id-1 div.sk-parallel-item:last-child::after {\n",
       "  align-self: flex-start;\n",
       "  width: 50%;\n",
       "}\n",
       "\n",
       "#sk-container-id-1 div.sk-parallel-item:only-child::after {\n",
       "  width: 0;\n",
       "}\n",
       "\n",
       "/* Serial-specific style estimator block */\n",
       "\n",
       "#sk-container-id-1 div.sk-serial {\n",
       "  display: flex;\n",
       "  flex-direction: column;\n",
       "  align-items: center;\n",
       "  background-color: var(--sklearn-color-background);\n",
       "  padding-right: 1em;\n",
       "  padding-left: 1em;\n",
       "}\n",
       "\n",
       "\n",
       "/* Toggleable style: style used for estimator/Pipeline/ColumnTransformer box that is\n",
       "clickable and can be expanded/collapsed.\n",
       "- Pipeline and ColumnTransformer use this feature and define the default style\n",
       "- Estimators will overwrite some part of the style using the `sk-estimator` class\n",
       "*/\n",
       "\n",
       "/* Pipeline and ColumnTransformer style (default) */\n",
       "\n",
       "#sk-container-id-1 div.sk-toggleable {\n",
       "  /* Default theme specific background. It is overwritten whether we have a\n",
       "  specific estimator or a Pipeline/ColumnTransformer */\n",
       "  background-color: var(--sklearn-color-background);\n",
       "}\n",
       "\n",
       "/* Toggleable label */\n",
       "#sk-container-id-1 label.sk-toggleable__label {\n",
       "  cursor: pointer;\n",
       "  display: flex;\n",
       "  width: 100%;\n",
       "  margin-bottom: 0;\n",
       "  padding: 0.5em;\n",
       "  box-sizing: border-box;\n",
       "  text-align: center;\n",
       "  align-items: start;\n",
       "  justify-content: space-between;\n",
       "  gap: 0.5em;\n",
       "}\n",
       "\n",
       "#sk-container-id-1 label.sk-toggleable__label .caption {\n",
       "  font-size: 0.6rem;\n",
       "  font-weight: lighter;\n",
       "  color: var(--sklearn-color-text-muted);\n",
       "}\n",
       "\n",
       "#sk-container-id-1 label.sk-toggleable__label-arrow:before {\n",
       "  /* Arrow on the left of the label */\n",
       "  content: \"▸\";\n",
       "  float: left;\n",
       "  margin-right: 0.25em;\n",
       "  color: var(--sklearn-color-icon);\n",
       "}\n",
       "\n",
       "#sk-container-id-1 label.sk-toggleable__label-arrow:hover:before {\n",
       "  color: var(--sklearn-color-text);\n",
       "}\n",
       "\n",
       "/* Toggleable content - dropdown */\n",
       "\n",
       "#sk-container-id-1 div.sk-toggleable__content {\n",
       "  max-height: 0;\n",
       "  max-width: 0;\n",
       "  overflow: hidden;\n",
       "  text-align: left;\n",
       "  /* unfitted */\n",
       "  background-color: var(--sklearn-color-unfitted-level-0);\n",
       "}\n",
       "\n",
       "#sk-container-id-1 div.sk-toggleable__content.fitted {\n",
       "  /* fitted */\n",
       "  background-color: var(--sklearn-color-fitted-level-0);\n",
       "}\n",
       "\n",
       "#sk-container-id-1 div.sk-toggleable__content pre {\n",
       "  margin: 0.2em;\n",
       "  border-radius: 0.25em;\n",
       "  color: var(--sklearn-color-text);\n",
       "  /* unfitted */\n",
       "  background-color: var(--sklearn-color-unfitted-level-0);\n",
       "}\n",
       "\n",
       "#sk-container-id-1 div.sk-toggleable__content.fitted pre {\n",
       "  /* unfitted */\n",
       "  background-color: var(--sklearn-color-fitted-level-0);\n",
       "}\n",
       "\n",
       "#sk-container-id-1 input.sk-toggleable__control:checked~div.sk-toggleable__content {\n",
       "  /* Expand drop-down */\n",
       "  max-height: 200px;\n",
       "  max-width: 100%;\n",
       "  overflow: auto;\n",
       "}\n",
       "\n",
       "#sk-container-id-1 input.sk-toggleable__control:checked~label.sk-toggleable__label-arrow:before {\n",
       "  content: \"▾\";\n",
       "}\n",
       "\n",
       "/* Pipeline/ColumnTransformer-specific style */\n",
       "\n",
       "#sk-container-id-1 div.sk-label input.sk-toggleable__control:checked~label.sk-toggleable__label {\n",
       "  color: var(--sklearn-color-text);\n",
       "  background-color: var(--sklearn-color-unfitted-level-2);\n",
       "}\n",
       "\n",
       "#sk-container-id-1 div.sk-label.fitted input.sk-toggleable__control:checked~label.sk-toggleable__label {\n",
       "  background-color: var(--sklearn-color-fitted-level-2);\n",
       "}\n",
       "\n",
       "/* Estimator-specific style */\n",
       "\n",
       "/* Colorize estimator box */\n",
       "#sk-container-id-1 div.sk-estimator input.sk-toggleable__control:checked~label.sk-toggleable__label {\n",
       "  /* unfitted */\n",
       "  background-color: var(--sklearn-color-unfitted-level-2);\n",
       "}\n",
       "\n",
       "#sk-container-id-1 div.sk-estimator.fitted input.sk-toggleable__control:checked~label.sk-toggleable__label {\n",
       "  /* fitted */\n",
       "  background-color: var(--sklearn-color-fitted-level-2);\n",
       "}\n",
       "\n",
       "#sk-container-id-1 div.sk-label label.sk-toggleable__label,\n",
       "#sk-container-id-1 div.sk-label label {\n",
       "  /* The background is the default theme color */\n",
       "  color: var(--sklearn-color-text-on-default-background);\n",
       "}\n",
       "\n",
       "/* On hover, darken the color of the background */\n",
       "#sk-container-id-1 div.sk-label:hover label.sk-toggleable__label {\n",
       "  color: var(--sklearn-color-text);\n",
       "  background-color: var(--sklearn-color-unfitted-level-2);\n",
       "}\n",
       "\n",
       "/* Label box, darken color on hover, fitted */\n",
       "#sk-container-id-1 div.sk-label.fitted:hover label.sk-toggleable__label.fitted {\n",
       "  color: var(--sklearn-color-text);\n",
       "  background-color: var(--sklearn-color-fitted-level-2);\n",
       "}\n",
       "\n",
       "/* Estimator label */\n",
       "\n",
       "#sk-container-id-1 div.sk-label label {\n",
       "  font-family: monospace;\n",
       "  font-weight: bold;\n",
       "  display: inline-block;\n",
       "  line-height: 1.2em;\n",
       "}\n",
       "\n",
       "#sk-container-id-1 div.sk-label-container {\n",
       "  text-align: center;\n",
       "}\n",
       "\n",
       "/* Estimator-specific */\n",
       "#sk-container-id-1 div.sk-estimator {\n",
       "  font-family: monospace;\n",
       "  border: 1px dotted var(--sklearn-color-border-box);\n",
       "  border-radius: 0.25em;\n",
       "  box-sizing: border-box;\n",
       "  margin-bottom: 0.5em;\n",
       "  /* unfitted */\n",
       "  background-color: var(--sklearn-color-unfitted-level-0);\n",
       "}\n",
       "\n",
       "#sk-container-id-1 div.sk-estimator.fitted {\n",
       "  /* fitted */\n",
       "  background-color: var(--sklearn-color-fitted-level-0);\n",
       "}\n",
       "\n",
       "/* on hover */\n",
       "#sk-container-id-1 div.sk-estimator:hover {\n",
       "  /* unfitted */\n",
       "  background-color: var(--sklearn-color-unfitted-level-2);\n",
       "}\n",
       "\n",
       "#sk-container-id-1 div.sk-estimator.fitted:hover {\n",
       "  /* fitted */\n",
       "  background-color: var(--sklearn-color-fitted-level-2);\n",
       "}\n",
       "\n",
       "/* Specification for estimator info (e.g. \"i\" and \"?\") */\n",
       "\n",
       "/* Common style for \"i\" and \"?\" */\n",
       "\n",
       ".sk-estimator-doc-link,\n",
       "a:link.sk-estimator-doc-link,\n",
       "a:visited.sk-estimator-doc-link {\n",
       "  float: right;\n",
       "  font-size: smaller;\n",
       "  line-height: 1em;\n",
       "  font-family: monospace;\n",
       "  background-color: var(--sklearn-color-background);\n",
       "  border-radius: 1em;\n",
       "  height: 1em;\n",
       "  width: 1em;\n",
       "  text-decoration: none !important;\n",
       "  margin-left: 0.5em;\n",
       "  text-align: center;\n",
       "  /* unfitted */\n",
       "  border: var(--sklearn-color-unfitted-level-1) 1pt solid;\n",
       "  color: var(--sklearn-color-unfitted-level-1);\n",
       "}\n",
       "\n",
       ".sk-estimator-doc-link.fitted,\n",
       "a:link.sk-estimator-doc-link.fitted,\n",
       "a:visited.sk-estimator-doc-link.fitted {\n",
       "  /* fitted */\n",
       "  border: var(--sklearn-color-fitted-level-1) 1pt solid;\n",
       "  color: var(--sklearn-color-fitted-level-1);\n",
       "}\n",
       "\n",
       "/* On hover */\n",
       "div.sk-estimator:hover .sk-estimator-doc-link:hover,\n",
       ".sk-estimator-doc-link:hover,\n",
       "div.sk-label-container:hover .sk-estimator-doc-link:hover,\n",
       ".sk-estimator-doc-link:hover {\n",
       "  /* unfitted */\n",
       "  background-color: var(--sklearn-color-unfitted-level-3);\n",
       "  color: var(--sklearn-color-background);\n",
       "  text-decoration: none;\n",
       "}\n",
       "\n",
       "div.sk-estimator.fitted:hover .sk-estimator-doc-link.fitted:hover,\n",
       ".sk-estimator-doc-link.fitted:hover,\n",
       "div.sk-label-container:hover .sk-estimator-doc-link.fitted:hover,\n",
       ".sk-estimator-doc-link.fitted:hover {\n",
       "  /* fitted */\n",
       "  background-color: var(--sklearn-color-fitted-level-3);\n",
       "  color: var(--sklearn-color-background);\n",
       "  text-decoration: none;\n",
       "}\n",
       "\n",
       "/* Span, style for the box shown on hovering the info icon */\n",
       ".sk-estimator-doc-link span {\n",
       "  display: none;\n",
       "  z-index: 9999;\n",
       "  position: relative;\n",
       "  font-weight: normal;\n",
       "  right: .2ex;\n",
       "  padding: .5ex;\n",
       "  margin: .5ex;\n",
       "  width: min-content;\n",
       "  min-width: 20ex;\n",
       "  max-width: 50ex;\n",
       "  color: var(--sklearn-color-text);\n",
       "  box-shadow: 2pt 2pt 4pt #999;\n",
       "  /* unfitted */\n",
       "  background: var(--sklearn-color-unfitted-level-0);\n",
       "  border: .5pt solid var(--sklearn-color-unfitted-level-3);\n",
       "}\n",
       "\n",
       ".sk-estimator-doc-link.fitted span {\n",
       "  /* fitted */\n",
       "  background: var(--sklearn-color-fitted-level-0);\n",
       "  border: var(--sklearn-color-fitted-level-3);\n",
       "}\n",
       "\n",
       ".sk-estimator-doc-link:hover span {\n",
       "  display: block;\n",
       "}\n",
       "\n",
       "/* \"?\"-specific style due to the `<a>` HTML tag */\n",
       "\n",
       "#sk-container-id-1 a.estimator_doc_link {\n",
       "  float: right;\n",
       "  font-size: 1rem;\n",
       "  line-height: 1em;\n",
       "  font-family: monospace;\n",
       "  background-color: var(--sklearn-color-background);\n",
       "  border-radius: 1rem;\n",
       "  height: 1rem;\n",
       "  width: 1rem;\n",
       "  text-decoration: none;\n",
       "  /* unfitted */\n",
       "  color: var(--sklearn-color-unfitted-level-1);\n",
       "  border: var(--sklearn-color-unfitted-level-1) 1pt solid;\n",
       "}\n",
       "\n",
       "#sk-container-id-1 a.estimator_doc_link.fitted {\n",
       "  /* fitted */\n",
       "  border: var(--sklearn-color-fitted-level-1) 1pt solid;\n",
       "  color: var(--sklearn-color-fitted-level-1);\n",
       "}\n",
       "\n",
       "/* On hover */\n",
       "#sk-container-id-1 a.estimator_doc_link:hover {\n",
       "  /* unfitted */\n",
       "  background-color: var(--sklearn-color-unfitted-level-3);\n",
       "  color: var(--sklearn-color-background);\n",
       "  text-decoration: none;\n",
       "}\n",
       "\n",
       "#sk-container-id-1 a.estimator_doc_link.fitted:hover {\n",
       "  /* fitted */\n",
       "  background-color: var(--sklearn-color-fitted-level-3);\n",
       "}\n",
       "</style><div id=\"sk-container-id-1\" class=\"sk-top-container\"><div class=\"sk-text-repr-fallback\"><pre>LinearRegression()</pre><b>In a Jupyter environment, please rerun this cell to show the HTML representation or trust the notebook. <br />On GitHub, the HTML representation is unable to render, please try loading this page with nbviewer.org.</b></div><div class=\"sk-container\" hidden><div class=\"sk-item\"><div class=\"sk-estimator fitted sk-toggleable\"><input class=\"sk-toggleable__control sk-hidden--visually\" id=\"sk-estimator-id-1\" type=\"checkbox\" checked><label for=\"sk-estimator-id-1\" class=\"sk-toggleable__label fitted sk-toggleable__label-arrow\"><div><div>LinearRegression</div></div><div><a class=\"sk-estimator-doc-link fitted\" rel=\"noreferrer\" target=\"_blank\" href=\"https://scikit-learn.org/1.6/modules/generated/sklearn.linear_model.LinearRegression.html\">?<span>Documentation for LinearRegression</span></a><span class=\"sk-estimator-doc-link fitted\">i<span>Fitted</span></span></div></label><div class=\"sk-toggleable__content fitted\"><pre>LinearRegression()</pre></div> </div></div></div></div>"
      ],
      "text/plain": [
       "LinearRegression()"
      ]
     },
     "execution_count": 20,
     "metadata": {},
     "output_type": "execute_result"
    }
   ],
   "source": [
    "model.fit(X_train, y_train)"
   ]
  },
  {
   "cell_type": "markdown",
   "id": "a1ed96d9",
   "metadata": {},
   "source": [
    "3. Modells Leistung testen\n",
    "- Dazu gibt es mehrere Funktionen und Methoden, die je nach Algorithmus des Modells eingesetzt werden können.  \n",
    "- Jede dieser Methoden funktioniert mit Bezug auf unterschiedlichen Maßzahlen (metrics) aus Statistik\n",
    "- Diese Methoden können die Leistung eines Modells sowie in Trainingset als auch in Testingset ermitteln"
   ]
  },
  {
   "cell_type": "code",
   "execution_count": 21,
   "id": "4eee47a1",
   "metadata": {},
   "outputs": [
    {
     "data": {
      "text/plain": [
       "0.9998154708185484"
      ]
     },
     "execution_count": 21,
     "metadata": {},
     "output_type": "execute_result"
    }
   ],
   "source": [
    "model.score(X_train, y_train) # Leistung (Genauigkeit) mit Bezug auf Trainingset"
   ]
  },
  {
   "cell_type": "markdown",
   "id": "9aaa9f4f",
   "metadata": {},
   "source": [
    "Diese Präzise bewegt sich zwischen 0 und 1, sodass eine Präzision von 1.0 bedeutet, dass das Modell mit 100% Genauigkeit die abhängige Variable anhand Features berechnen kann. Der Training-Score von unserem Model ist hier fast 100%"
   ]
  },
  {
   "cell_type": "code",
   "execution_count": 22,
   "id": "7aa456f9",
   "metadata": {},
   "outputs": [
    {
     "data": {
      "text/plain": [
       "0.9998373636667407"
      ]
     },
     "execution_count": 22,
     "metadata": {},
     "output_type": "execute_result"
    }
   ],
   "source": [
    "model.score(X_test, y_test) # Leistung (Genauigkeit) mit Bezug auf Testingset"
   ]
  },
  {
   "cell_type": "markdown",
   "id": "db8c49d4",
   "metadata": {},
   "source": [
    "Wir sehen, dass unser Model einen Testing-Score von ca. 100% hat."
   ]
  },
  {
   "cell_type": "markdown",
   "id": "32cef6a4",
   "metadata": {},
   "source": [
    "Dadurch das unser Modell eine sehr gute Genauigkeit in beiden Training- und Testing-Set aufweist, können wir davon ausgehen, dass dieses Modell für unsere Aufgabe sehr gut und geeignet ist."
   ]
  },
  {
   "cell_type": "markdown",
   "id": "64613684",
   "metadata": {},
   "source": [
    "4. Das Modell einsetzen, um Einschätzungen zu machen"
   ]
  },
  {
   "cell_type": "code",
   "execution_count": 23,
   "id": "ae6f6cb2",
   "metadata": {},
   "outputs": [],
   "source": [
    "my_way = np.array([[56], [19], [97]]) # solche Strecken möchte ich fahren. Wie hoch ist dann der Preis?"
   ]
  },
  {
   "cell_type": "markdown",
   "id": "4be80c21",
   "metadata": {},
   "source": [
    "Damit wir unsere Gleichung nachbilden können, benötigen wir einen Koeffizienten `coef_` und den Schnittpunkt `intercept_`"
   ]
  },
  {
   "cell_type": "code",
   "execution_count": 24,
   "id": "02a0c24f",
   "metadata": {},
   "outputs": [
    {
     "data": {
      "text/plain": [
       "array([0.75033386])"
      ]
     },
     "execution_count": 24,
     "metadata": {},
     "output_type": "execute_result"
    }
   ],
   "source": [
    "model.coef_"
   ]
  },
  {
   "cell_type": "code",
   "execution_count": 25,
   "id": "106c9947",
   "metadata": {},
   "outputs": [
    {
     "data": {
      "text/plain": [
       "np.float64(7.111963930062018)"
      ]
     },
     "execution_count": 25,
     "metadata": {},
     "output_type": "execute_result"
    }
   ],
   "source": [
    "model.intercept_"
   ]
  },
  {
   "cell_type": "markdown",
   "id": "46359de3",
   "metadata": {},
   "source": [
    "Somit definieren wir eine Funktion, die dann Kilometer als Parameter annimmt und den Preis berechnet und zurückliefert:"
   ]
  },
  {
   "cell_type": "code",
   "execution_count": 26,
   "id": "0f8669c6",
   "metadata": {},
   "outputs": [],
   "source": [
    "def preis(km):\n",
    "    return model.coef_[0] * km + model.intercept_"
   ]
  },
  {
   "cell_type": "code",
   "execution_count": 27,
   "id": "62d442cf",
   "metadata": {},
   "outputs": [
    {
     "data": {
      "text/plain": [
       "array([[49.13065985],\n",
       "       [21.36830719],\n",
       "       [79.89434794]])"
      ]
     },
     "execution_count": 27,
     "metadata": {},
     "output_type": "execute_result"
    }
   ],
   "source": [
    "preis(my_way)"
   ]
  },
  {
   "cell_type": "markdown",
   "id": "c31f9ac6",
   "metadata": {},
   "source": [
    "Alternativ und üblich ist die Methode `predict()`, die man einsetzen kann:"
   ]
  },
  {
   "cell_type": "code",
   "execution_count": 28,
   "id": "d51dc412",
   "metadata": {},
   "outputs": [
    {
     "data": {
      "text/plain": [
       "array([49.13065985, 21.36830719, 79.89434794])"
      ]
     },
     "execution_count": 28,
     "metadata": {},
     "output_type": "execute_result"
    }
   ],
   "source": [
    "model.predict(my_way)"
   ]
  },
  {
   "cell_type": "markdown",
   "id": "6cb5178d",
   "metadata": {},
   "source": [
    "Und wir bekommen denselben Preis berechnet."
   ]
  }
 ],
 "metadata": {
  "kernelspec": {
   "display_name": ".my_venv",
   "language": "python",
   "name": "python3"
  },
  "language_info": {
   "codemirror_mode": {
    "name": "ipython",
    "version": 3
   },
   "file_extension": ".py",
   "mimetype": "text/x-python",
   "name": "python",
   "nbconvert_exporter": "python",
   "pygments_lexer": "ipython3",
   "version": "3.12.6"
  },
  "nbTranslate": {
   "displayLangs": [
    "en",
    "de"
   ],
   "hotkey": "alt-t",
   "langInMainMenu": true,
   "sourceLang": "de",
   "targetLang": "en",
   "useGoogleTranslate": true
  }
 },
 "nbformat": 4,
 "nbformat_minor": 5
}
